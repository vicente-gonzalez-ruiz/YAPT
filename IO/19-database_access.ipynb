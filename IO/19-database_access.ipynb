{
 "cells": [
  {
   "cell_type": "markdown",
   "metadata": {
    "collapsed": true,
    "deletable": true,
    "editable": true
   },
   "source": [
    "# [0] Database management"
   ]
  },
  {
   "cell_type": "markdown",
   "metadata": {
    "deletable": true,
    "editable": true
   },
   "source": [
    "Python provides a interface with the databases [GadFly](https://en.wikipedia.org/wiki/Gadfly_%28database%29), [mSQL](http://docstore.mik.ua/orelly/linux/sql/ch11_01.htm), [MySQL](https://www.tutorialspoint.com/python/python_database_access.htm), [PostgreSQL](http://initd.org/psycopg/), [Microsoft SQL Server 2000](https://docs.microsoft.com/en-us/sql/connect/python/python-driver-for-sql-server), [Informix](https://wiki.python.org/moin/Informix), [Interbase](https://www.firebirdsql.org/en/python-driver/), [Oracle](http://www.oracle.com/technetwork/articles/dsl/python-091105.html), and [Sybase](http://python-sybase.sourceforge.net/).\n"
   ]
  },
  {
   "cell_type": "markdown",
   "metadata": {
    "deletable": true,
    "editable": true
   },
   "source": [
    "## Example ([MySQL](https://dev.mysql.com/doc/connector-python/en/connector-python-example-connecting.html)):"
   ]
  },
  {
   "cell_type": "markdown",
   "metadata": {
    "deletable": true,
    "editable": true
   },
   "source": [
    "```\n",
    "pip install pymysql\n",
    "```"
   ]
  },
  {
   "cell_type": "code",
   "execution_count": null,
   "metadata": {
    "collapsed": false,
    "deletable": true,
    "editable": true
   },
   "outputs": [],
   "source": [
    "# Source: Manuel Torres. Universidad de Almería.\n",
    "\n",
    "import pymysql\n",
    "\n",
    "# Establecemos la conexion con la base de datos\n",
    "bd = pymysql.connect(\"localhost\", \"root\", \"gebd\", \"RRHH\")\n",
    " \n",
    "# Preparamos el cursor que nos va a ayudar a realizar las operaciones con la base de datos\n",
    "cursor = bd.cursor()\n",
    " \n",
    "# Ejecutamos un query SQL usando el metodo execute() que nos proporciona el cursor\n",
    "cursor.execute(\"SELECT * FROM Empleado\")\n",
    " \n",
    "resultado = cursor.fetchall()\n",
    " \n",
    "# Extraemos una sola fila usando el metodo fetchone()\n",
    "for fila in resultado:\n",
    "    print(\"%s %s %s\" % (fila[0], fila[1], fila[2]))\n",
    " \n",
    "# Nos desconectamos de la base de datos\n",
    "bd.close()"
   ]
  },
  {
   "cell_type": "code",
   "execution_count": null,
   "metadata": {
    "collapsed": false,
    "deletable": true,
    "editable": true,
    "scrolled": false
   },
   "outputs": [],
   "source": [
    "resultado[0][2]"
   ]
  },
  {
   "cell_type": "markdown",
   "metadata": {
    "deletable": true,
    "editable": true
   },
   "source": [
    "## Exercise 1:\n",
    "Create a list with the jobs of the third column of `resultado`. Tip: a [list comprehension](https://docs.python.org/3/tutorial/datastructures.html#list-comprehensions) can be useful!"
   ]
  },
  {
   "cell_type": "code",
   "execution_count": null,
   "metadata": {
    "collapsed": false,
    "deletable": true,
    "editable": true
   },
   "outputs": [],
   "source": [
    "all_jobs = [x[2] for x in resultado]\n",
    "\n",
    "all_jobs = []\n",
    "for i in resultado:\n",
    "    all_jobs.append(i[2])\n",
    "all_jobs"
   ]
  },
  {
   "cell_type": "markdown",
   "metadata": {
    "deletable": true,
    "editable": true
   },
   "source": [
    "## Exercise 2:\n",
    "Compute a set of different jobs in `resultado` (this set will store some may items a different jobs are found in `resultado`). Clue: [sets cannot store dupplicate elements!](https://docs.python.org/3/tutorial/datastructures.html#sets)"
   ]
  },
  {
   "cell_type": "code",
   "execution_count": null,
   "metadata": {
    "collapsed": false,
    "deletable": true,
    "editable": true
   },
   "outputs": [],
   "source": [
    "diff_jobs = set(all_jobs)\n",
    "diff_jobs"
   ]
  },
  {
   "cell_type": "markdown",
   "metadata": {
    "deletable": true,
    "editable": true
   },
   "source": [
    "## Exercise 3:\n",
    "Compute the number of occurrences of each job in `resultado`. This can be accomplished by generating a dictionary with a structure: `{job:number_of_occurrences}`. Tip: use the result of the previous exercise (a set of different jobs) to create the required dictionary."
   ]
  },
  {
   "cell_type": "code",
   "execution_count": null,
   "metadata": {
    "collapsed": false,
    "deletable": true,
    "editable": true
   },
   "outputs": [],
   "source": [
    "jobs_count = {}\n",
    "for i in diff_jobs:\n",
    "    jobs_count[i] = 0\n",
    "jobs_count"
   ]
  },
  {
   "cell_type": "code",
   "execution_count": null,
   "metadata": {
    "collapsed": false,
    "deletable": true,
    "editable": true
   },
   "outputs": [],
   "source": [
    "for i in all_jobs:\n",
    "    jobs_count[i] += 1\n",
    "jobs_count"
   ]
  },
  {
   "cell_type": "code",
   "execution_count": null,
   "metadata": {
    "collapsed": false,
    "deletable": true,
    "editable": true
   },
   "outputs": [],
   "source": [
    "jobs_count = {}\n",
    "for i in diff_jobs:\n",
    "    jobs_count[i] = all_jobs.count(i)\n",
    "jobs_count"
   ]
  },
  {
   "cell_type": "code",
   "execution_count": null,
   "metadata": {
    "collapsed": false,
    "deletable": true,
    "editable": true
   },
   "outputs": [],
   "source": [
    "jobs_count['Analista']"
   ]
  },
  {
   "cell_type": "markdown",
   "metadata": {
    "deletable": true,
    "editable": true
   },
   "source": [
    "## Exercise 4:\n",
    "Python dictionaries cannot be sorted (by definition). For this reason, create a list of tuples with a structure `(number_of_ocurrences, job)`, using as input the result of the previous exercise."
   ]
  },
  {
   "cell_type": "code",
   "execution_count": null,
   "metadata": {
    "collapsed": false,
    "deletable": true,
    "editable": true
   },
   "outputs": [],
   "source": [
    "count_jobs = []\n",
    "for i in jobs_count:\n",
    "    count_jobs.append((jobs_count[i], i))\n",
    "count_jobs"
   ]
  },
  {
   "cell_type": "markdown",
   "metadata": {
    "deletable": true,
    "editable": true
   },
   "source": [
    "## Exercise 5:\n",
    "Sort (in reverse order) the previous list. Create a sorted list (in descending order) of tuples with a structure (number_of_ocurrences, job), using as input the result of the previous exercise. Tip: visit https://docs.python.org/3/howto/sorting.html#sortinghowto and find out how you can use the `reverse=True` parameter."
   ]
  },
  {
   "cell_type": "code",
   "execution_count": null,
   "metadata": {
    "collapsed": false,
    "deletable": true,
    "editable": true
   },
   "outputs": [],
   "source": [
    "sorted_count_jobs = sorted(count_jobs, reverse=True)\n",
    "sorted_count_jobs"
   ]
  },
  {
   "cell_type": "code",
   "execution_count": null,
   "metadata": {
    "collapsed": false,
    "deletable": true,
    "editable": true
   },
   "outputs": [],
   "source": [
    "sorted_count_jobs[1][1]"
   ]
  },
  {
   "cell_type": "markdown",
   "metadata": {
    "deletable": true,
    "editable": true
   },
   "source": [
    "## Exercise 6:\n",
    "Compute the most common job(s) in `resultado`. Create a list of tuples with a structure `(job, number_of_ocurrences)` with the most common job(s), using as input the result of the previous exercise."
   ]
  },
  {
   "cell_type": "code",
   "execution_count": null,
   "metadata": {
    "collapsed": false,
    "deletable": true,
    "editable": true
   },
   "outputs": [],
   "source": [
    "i = 1\n",
    "most_common_jobs = [(sorted_count_jobs[0][1], sorted_count_jobs[0][0])]\n",
    "most_common_jobs"
   ]
  },
  {
   "cell_type": "code",
   "execution_count": null,
   "metadata": {
    "collapsed": false,
    "deletable": true,
    "editable": true
   },
   "outputs": [],
   "source": [
    "while(sorted_count_jobs[i][0] == sorted_count_jobs[0][0]):\n",
    "    x = (sorted_count_jobs[i][1], sorted_count_jobs[i][0])\n",
    "    most_common_jobs.append(x)\n",
    "    i += 1\n",
    "most_common_jobs"
   ]
  },
  {
   "cell_type": "code",
   "execution_count": null,
   "metadata": {
    "collapsed": true,
    "deletable": true,
    "editable": true
   },
   "outputs": [],
   "source": []
  }
 ],
 "metadata": {
  "kernelspec": {
   "display_name": "yapt",
   "language": "python",
   "name": "yapt"
  },
  "language_info": {
   "codemirror_mode": {
    "name": "ipython",
    "version": 3
   },
   "file_extension": ".py",
   "mimetype": "text/x-python",
   "name": "python",
   "nbconvert_exporter": "python",
   "pygments_lexer": "ipython3",
   "version": "3.5.2"
  }
 },
 "nbformat": 4,
 "nbformat_minor": 1
}
