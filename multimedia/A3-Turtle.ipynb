{
 "cells": [
  {
   "cell_type": "markdown",
   "metadata": {},
   "source": [
    "# Using [Turtle graphics](https://docs.python.org/3.6/library/turtle.html): a [Tkinter](https://wiki.python.org/moin/TkInter)-based turtle graphics module for Python"
   ]
  },
  {
   "cell_type": "markdown",
   "metadata": {},
   "source": [
    "## [PacMan](https://github.com/grantjenks/free-python-games/blob/master/freegames/pacman.py)\n",
    "Example extracted from [https://github.com/grantjenks/free-python-games](https://github.com/grantjenks/free-python-games)."
   ]
  },
  {
   "cell_type": "markdown",
   "metadata": {},
   "source": [
    "Import <a href=\"https://docs.python.org/3.6/library/random.html#functions-for-sequences)\">choice</a> from [Turtle graphics](https://docs.python.org/3.6/library/turtle.html):"
   ]
  },
  {
   "cell_type": "code",
   "execution_count": null,
   "metadata": {},
   "outputs": [],
   "source": [
    "from random import choice"
   ]
  },
  {
   "cell_type": "code",
   "execution_count": null,
   "metadata": {},
   "outputs": [],
   "source": [
    "choice([1,2,3])"
   ]
  },
  {
   "cell_type": "code",
   "execution_count": null,
   "metadata": {},
   "outputs": [],
   "source": [
    "choice([1,2,3])"
   ]
  },
  {
   "cell_type": "markdown",
   "metadata": {},
   "source": [
    "Import everything from [Turtle graphics](https://docs.python.org/3.6/library/turtle.html#module-turtle):"
   ]
  },
  {
   "cell_type": "code",
   "execution_count": null,
   "metadata": {},
   "outputs": [],
   "source": [
    "from turtle import *"
   ]
  },
  {
   "cell_type": "markdown",
   "metadata": {},
   "source": [
    "Import [floor](http://www.grantjenks.com/docs/freegames/api.html#helper-functions) and [vector](http://www.grantjenks.com/docs/freegames/api.html#vectors) from [Free Games](http://www.grantjenks.com/docs/freegames/api.html#free-python-games-api-reference): "
   ]
  },
  {
   "cell_type": "code",
   "execution_count": null,
   "metadata": {},
   "outputs": [],
   "source": [
    "from freegames import floor, vector # Install freegames with 'pip install freegames' "
   ]
  },
  {
   "cell_type": "code",
   "execution_count": null,
   "metadata": {},
   "outputs": [],
   "source": [
    "floor(1,10) # value to floor, the floor"
   ]
  },
  {
   "cell_type": "code",
   "execution_count": null,
   "metadata": {},
   "outputs": [],
   "source": [
    "floor(9,10)"
   ]
  },
  {
   "cell_type": "code",
   "execution_count": null,
   "metadata": {},
   "outputs": [],
   "source": [
    "floor(11,10)"
   ]
  },
  {
   "cell_type": "code",
   "execution_count": null,
   "metadata": {},
   "outputs": [],
   "source": [
    "floor(-1,10)"
   ]
  },
  {
   "cell_type": "code",
   "execution_count": null,
   "metadata": {},
   "outputs": [],
   "source": [
    "floor(3,2)"
   ]
  },
  {
   "cell_type": "code",
   "execution_count": null,
   "metadata": {},
   "outputs": [],
   "source": [
    "import numpy as np\n",
    "import matplotlib.pyplot as plt\n",
    "%matplotlib inline"
   ]
  },
  {
   "cell_type": "code",
   "execution_count": null,
   "metadata": {},
   "outputs": [],
   "source": [
    "v1 = vector(1, 2)\n",
    "v2 = v1.copy()\n",
    "v2.move(1)"
   ]
  },
  {
   "cell_type": "code",
   "execution_count": null,
   "metadata": {},
   "outputs": [],
   "source": [
    "print(v1, v2)"
   ]
  },
  {
   "cell_type": "code",
   "execution_count": null,
   "metadata": {},
   "outputs": [],
   "source": [
    "plt.figure()\n",
    "ax = plt.gca()\n",
    "ax.quiver((0,0), (0,0), (v1.x, v2.x), (v1.y, v2.y), angles='xy', scale_units='xy', scale=1)\n",
    "ax.set_xlim([-5, 5])\n",
    "ax.set_ylim([-5, 5])\n",
    "ax.set_xticks(np.arange(-5, 5, 1))\n",
    "ax.set_yticks(np.arange(-5, 5, 1))\n",
    "plt.grid()\n",
    "plt.draw()\n",
    "plt.show()"
   ]
  },
  {
   "cell_type": "code",
   "execution_count": null,
   "metadata": {},
   "outputs": [],
   "source": [
    "v1 = vector(1,2)\n",
    "v2 = v1.copy()\n",
    "v2.rotate(90)\n",
    "print(v1, v2)"
   ]
  },
  {
   "cell_type": "code",
   "execution_count": null,
   "metadata": {},
   "outputs": [],
   "source": [
    "plt.figure()\n",
    "ax = plt.gca()\n",
    "ax.quiver((0,0), (0,0), (v1.x, v2.x), (v1.y, v2.y), angles='xy', scale_units='xy', scale=1)\n",
    "ax.set_xlim([-5, 5])\n",
    "ax.set_ylim([-5, 5])\n",
    "ax.set_xticks(np.arange(-5, 5, 1))\n",
    "ax.set_yticks(np.arange(-5, 5, 1))\n",
    "plt.grid()\n",
    "plt.draw()\n",
    "plt.show()"
   ]
  },
  {
   "cell_type": "markdown",
   "metadata": {},
   "source": [
    "Declare a [dictionary](https://docs.python.org/3.6/tutorial/datastructures.html#dictionaries) with only one entry:"
   ]
  },
  {
   "cell_type": "code",
   "execution_count": null,
   "metadata": {},
   "outputs": [],
   "source": [
    "state = {'score': 0}"
   ]
  },
  {
   "cell_type": "code",
   "execution_count": null,
   "metadata": {},
   "outputs": [],
   "source": [
    "'score' in state"
   ]
  },
  {
   "cell_type": "code",
   "execution_count": null,
   "metadata": {},
   "outputs": [],
   "source": [
    "state['score']"
   ]
  },
  {
   "cell_type": "markdown",
   "metadata": {},
   "source": [
    "Instance [Turtle](https://docs.python.org/3.6/library/turtle.html#turtle.Turtle) object in instance `path`. Set is an invisible:"
   ]
  },
  {
   "cell_type": "code",
   "execution_count": null,
   "metadata": {},
   "outputs": [],
   "source": [
    "path = Turtle(visible=False)"
   ]
  },
  {
   "cell_type": "markdown",
   "metadata": {},
   "source": [
    "Another instance:"
   ]
  },
  {
   "cell_type": "code",
   "execution_count": null,
   "metadata": {},
   "outputs": [],
   "source": [
    "writer = Turtle(visible=False)"
   ]
  },
  {
   "cell_type": "code",
   "execution_count": null,
   "metadata": {},
   "outputs": [],
   "source": [
    "aim = vector(5, 0)\n",
    "pacman = vector(-40, -80)"
   ]
  },
  {
   "cell_type": "code",
   "execution_count": null,
   "metadata": {},
   "outputs": [],
   "source": [
    "ghosts = [\n",
    "    [vector(-180, 160), vector(5, 0)],\n",
    "    [vector(-180, -160), vector(0, 5)],\n",
    "    [vector(100, 160), vector(0, -5)],\n",
    "    [vector(100, -160), vector(-5, 0)],\n",
    "]"
   ]
  },
  {
   "cell_type": "code",
   "execution_count": null,
   "metadata": {},
   "outputs": [],
   "source": [
    "type(ghosts)"
   ]
  },
  {
   "cell_type": "code",
   "execution_count": null,
   "metadata": {},
   "outputs": [],
   "source": [
    "type(ghosts[0])"
   ]
  },
  {
   "cell_type": "code",
   "execution_count": null,
   "metadata": {},
   "outputs": [],
   "source": [
    "type(ghosts[0][0])"
   ]
  },
  {
   "cell_type": "markdown",
   "metadata": {},
   "source": [
    "The maze:"
   ]
  },
  {
   "cell_type": "code",
   "execution_count": null,
   "metadata": {},
   "outputs": [],
   "source": [
    "tiles = [\n",
    "    0, 0, 0, 0, 0, 0, 0, 0, 0, 0, 0, 0, 0, 0, 0, 0, 0, 0, 0, 0,\n",
    "    0, 1, 1, 1, 1, 1, 1, 1, 0, 1, 1, 1, 1, 1, 1, 1, 0, 0, 0, 0,\n",
    "    0, 1, 0, 0, 1, 0, 0, 1, 0, 1, 0, 0, 1, 0, 0, 1, 0, 0, 0, 0,\n",
    "    0, 1, 1, 1, 1, 1, 1, 1, 1, 1, 1, 1, 1, 1, 1, 1, 0, 0, 0, 0,\n",
    "    0, 1, 0, 0, 1, 0, 1, 0, 0, 0, 1, 0, 1, 0, 0, 1, 0, 0, 0, 0,\n",
    "    0, 1, 1, 1, 1, 0, 1, 1, 0, 1, 1, 0, 1, 1, 1, 1, 0, 0, 0, 0,\n",
    "    0, 1, 0, 0, 1, 0, 0, 1, 0, 1, 0, 0, 1, 0, 0, 0, 0, 0, 0, 0,\n",
    "    0, 1, 0, 0, 1, 0, 1, 1, 1, 1, 1, 0, 1, 0, 0, 0, 0, 0, 0, 0,\n",
    "    0, 1, 1, 1, 1, 1, 1, 0, 0, 0, 1, 1, 1, 1, 1, 1, 0, 0, 0, 0,\n",
    "    0, 0, 0, 0, 1, 0, 1, 1, 1, 1, 1, 0, 1, 0, 0, 1, 0, 0, 0, 0,\n",
    "    0, 0, 0, 0, 1, 0, 1, 0, 0, 0, 1, 0, 1, 0, 0, 1, 0, 0, 0, 0,\n",
    "    0, 1, 1, 1, 1, 1, 1, 1, 0, 1, 1, 1, 1, 1, 1, 1, 0, 0, 0, 0,\n",
    "    0, 1, 0, 0, 1, 0, 0, 1, 0, 1, 0, 0, 0, 0, 0, 1, 0, 0, 0, 0,\n",
    "    0, 1, 1, 0, 1, 1, 1, 1, 1, 1, 1, 1, 1, 0, 1, 1, 0, 0, 0, 0,\n",
    "    0, 0, 1, 0, 1, 0, 1, 0, 0, 0, 1, 0, 1, 0, 1, 0, 0, 0, 0, 0,\n",
    "    0, 1, 1, 1, 1, 0, 1, 1, 0, 1, 1, 0, 1, 1, 1, 1, 0, 0, 0, 0,\n",
    "    0, 1, 0, 0, 0, 0, 0, 1, 0, 1, 0, 0, 0, 0, 0, 1, 0, 0, 0, 0,\n",
    "    0, 1, 1, 1, 1, 1, 1, 1, 1, 1, 1, 1, 1, 1, 1, 1, 0, 0, 0, 0,\n",
    "    0, 0, 0, 0, 0, 0, 0, 0, 0, 0, 0, 0, 0, 0, 0, 0, 0, 0, 0, 0,\n",
    "    0, 0, 0, 0, 0, 0, 0, 0, 0, 0, 0, 0, 0, 0, 0, 0, 0, 0, 0, 0,\n",
    "]"
   ]
  },
  {
   "cell_type": "code",
   "execution_count": null,
   "metadata": {},
   "outputs": [],
   "source": [
    "len(tiles)"
   ]
  },
  {
   "cell_type": "code",
   "execution_count": null,
   "metadata": {},
   "outputs": [],
   "source": [
    "type(tiles)"
   ]
  },
  {
   "cell_type": "code",
   "execution_count": null,
   "metadata": {},
   "outputs": [],
   "source": [
    "import matplotlib.pyplot as plt\n",
    "import numpy as np\n",
    "plt.matshow(np.array(tiles).reshape(20, 20))\n",
    "plt.show()"
   ]
  },
  {
   "cell_type": "code",
   "execution_count": null,
   "metadata": {},
   "outputs": [],
   "source": [
    "def square(x, y):\n",
    "    \"Draw square using path at (x, y).\"\n",
    "    path.up()\n",
    "    path.goto(x, y)\n",
    "    path.down()\n",
    "    path.begin_fill()\n",
    "\n",
    "    for count in range(4):\n",
    "        path.forward(20)\n",
    "        path.left(90)\n",
    "\n",
    "    path.end_fill()"
   ]
  },
  {
   "cell_type": "code",
   "execution_count": null,
   "metadata": {},
   "outputs": [],
   "source": [
    "square(5,7)\n",
    "path.isvisible()"
   ]
  },
  {
   "cell_type": "code",
   "execution_count": null,
   "metadata": {},
   "outputs": [],
   "source": [
    "path.showturtle()"
   ]
  },
  {
   "cell_type": "code",
   "execution_count": null,
   "metadata": {},
   "outputs": [],
   "source": [
    "def offset(point):\n",
    "    \"Return offset of point in tiles.\"\n",
    "    x = (floor(point.x, 20) + 200) / 20\n",
    "    y = (180 - floor(point.y, 20)) / 20\n",
    "    index = int(x + y * 20)\n",
    "    return index"
   ]
  },
  {
   "cell_type": "code",
   "execution_count": null,
   "metadata": {},
   "outputs": [],
   "source": [
    "print(offset(vector(2,3)))"
   ]
  },
  {
   "cell_type": "code",
   "execution_count": null,
   "metadata": {},
   "outputs": [],
   "source": [
    "def valid(point):\n",
    "    \"Return True if point is valid in tiles.\"\n",
    "    index = offset(point)\n",
    "\n",
    "    if tiles[index] == 0:\n",
    "        return False\n",
    "\n",
    "    index = offset(point + 19)\n",
    "\n",
    "    if tiles[index] == 0:\n",
    "        return False\n",
    "\n",
    "    return point.x % 20 == 0 or point.y % 20 == 0"
   ]
  },
  {
   "cell_type": "code",
   "execution_count": null,
   "metadata": {},
   "outputs": [],
   "source": [
    "print(valid(vector(2,3)))"
   ]
  },
  {
   "cell_type": "markdown",
   "metadata": {},
   "source": [
    "See:\n",
    "* [turtle.bgcolor()](https://docs.python.org/3.6/library/turtle.html#turtle.bgcolor): Sets or return background color of the TurtleScreen.\n",
    "* [turtle.color()](https://docs.python.org/3.6/library/turtle.html#turtle.color): Returns or set pencolor and fillcolor.\n",
    "* [turtle.up()](https://docs.python.org/3.6/library/turtle.html#turtle.up): Pulls the pen up – no drawing when moving.\n",
    "* [turtle.goto()](https://docs.python.org/3.6/library/turtle.html#turtle.goto): Moves turtle to an absolute position.\n",
    "* [turtle.dot()](https://docs.python.org/3.6/library/turtle.html#turtle.dot): Draws a circular dot with diameter size, using color."
   ]
  },
  {
   "cell_type": "code",
   "execution_count": null,
   "metadata": {},
   "outputs": [],
   "source": [
    "def world():\n",
    "    \"Draw world using path.\"\n",
    "    bgcolor('black')\n",
    "    path.color('blue')\n",
    "\n",
    "    for index in range(len(tiles)):\n",
    "        tile = tiles[index]\n",
    "\n",
    "        if tile > 0:\n",
    "            x = (index % 20) * 20 - 200\n",
    "            y = 180 - (index // 20) * 20\n",
    "            square(x, y)\n",
    "            print(x, y, \" \",)\n",
    "            if tile == 1:\n",
    "                path.up()\n",
    "                path.goto(x + 10, y + 10)\n",
    "                path.dot(2, 'white')"
   ]
  },
  {
   "cell_type": "code",
   "execution_count": null,
   "metadata": {},
   "outputs": [],
   "source": [
    "#path.speed(10)\n",
    "#world()"
   ]
  },
  {
   "cell_type": "markdown",
   "metadata": {},
   "source": [
    "See:\n",
    "* [turtle.undo()](https://docs.python.org/3.6/library/turtle.html#turtle.undo): Undoes (repeatedly) the last turtle action(s).\n",
    "* [turtle.write()](https://docs.python.org/3.6/library/turtle.html#turtle.write): Writes text - the string representation of arg - at the current turtle position.\n",
    "* [turtle.clear()](https://docs.python.org/3.6/library/turtle.html#turtle.clear): Deletes the turtle’s drawings from the screen."
   ]
  },
  {
   "cell_type": "code",
   "execution_count": null,
   "metadata": {},
   "outputs": [],
   "source": [
    "def move():\n",
    "    \"Move pacman and all ghosts.\"\n",
    "    writer.undo()\n",
    "    writer.write(state['score'])\n",
    "\n",
    "    clear()\n",
    "\n",
    "    if valid(pacman + aim):\n",
    "        pacman.move(aim)\n",
    "\n",
    "    index = offset(pacman)\n",
    "\n",
    "    if tiles[index] == 1:\n",
    "        tiles[index] = 2\n",
    "        state['score'] += 1\n",
    "        x = (index % 20) * 20 - 200\n",
    "        y = 180 - (index // 20) * 20\n",
    "        square(x, y)\n",
    "\n",
    "    up()\n",
    "    goto(pacman.x + 10, pacman.y + 10)\n",
    "    dot(20, 'yellow')\n",
    "\n",
    "    for point, course in ghosts:\n",
    "        if valid(point + course):\n",
    "            point.move(course)\n",
    "        else:\n",
    "            options = [\n",
    "                vector(5, 0),\n",
    "                vector(-5, 0),\n",
    "                vector(0, 5),\n",
    "                vector(0, -5),\n",
    "            ]\n",
    "            plan = choice(options)\n",
    "            course.x = plan.x\n",
    "            course.y = plan.y\n",
    "\n",
    "        up()\n",
    "        goto(point.x + 10, point.y + 10)\n",
    "        dot(20, 'red')\n",
    "\n",
    "    update()\n",
    "\n",
    "    for point, course in ghosts:\n",
    "        if abs(pacman - point) < 20:\n",
    "            return\n",
    "\n",
    "    ontimer(move, 100)"
   ]
  },
  {
   "cell_type": "code",
   "execution_count": null,
   "metadata": {},
   "outputs": [],
   "source": [
    "#move()"
   ]
  },
  {
   "cell_type": "code",
   "execution_count": null,
   "metadata": {},
   "outputs": [],
   "source": [
    "def change(x, y):\n",
    "    \"Change pacman aim if valid.\"\n",
    "    if valid(pacman + vector(x, y)):\n",
    "        aim.x = x\n",
    "        aim.y = y"
   ]
  },
  {
   "cell_type": "markdown",
   "metadata": {},
   "source": [
    "See:\n",
    "* [turtle.setup()](https://docs.python.org/3.6/library/turtle.html#turtle.setup): Sets the size and position of the main window.\n",
    "* [turtle.hideturtle()](https://docs.python.org/3.6/library/turtle.html#turtle.hideturtle): Makes the turtle invisible.\n",
    "* [turtle.tracer()](https://docs.python.org/3.6/library/turtle.html#turtle.tracer): Turns turtle animation on/off and sets delay for update drawings.\n",
    "* [turtle.listen()](https://docs.python.org/3.6/library/turtle.html#turtle.listen): Sets focus on TurtleScreen (in order to collect key-events).\n",
    "* [turtle.onkey()](https://docs.python.org/3.6/library/turtle.html#turtle.onkey): Binds a function to key-release event of key.\n",
    "* [turtle.done()](https://docs.python.org/3.6/library/turtle.html#turtle.done): Starts event loop - calling Tkinter’s mainloop function.\n",
    "* [Lambda functions](http://localhost:8888/notebooks/YAPT/07-functions.ipynb#7.-Lambda-functions)."
   ]
  },
  {
   "cell_type": "code",
   "execution_count": null,
   "metadata": {
    "scrolled": true
   },
   "outputs": [],
   "source": [
    "setup(420, 420, 370, 0)\n",
    "hideturtle()\n",
    "tracer(False)\n",
    "writer.goto(160, 160)\n",
    "writer.color('white')\n",
    "writer.write(state['score'])\n",
    "listen()\n",
    "onkey(lambda: change(5, 0), 'Right')\n",
    "onkey(lambda: change(-5, 0), 'Left')\n",
    "onkey(lambda: change(0, 5), 'Up')\n",
    "onkey(lambda: change(0, -5), 'Down')\n",
    "world()\n",
    "move()\n",
    "done()"
   ]
  },
  {
   "cell_type": "markdown",
   "metadata": {},
   "source": [
    "## Exercises (proposed by the author):\n",
    "\n",
    "1. Change the board.\n",
    "2. Change the number of ghosts.\n",
    "3. Change where pacman starts.\n",
    "4. Make the ghosts faster/slower.\n",
    "5. Make the ghosts smarter."
   ]
  }
 ],
 "metadata": {
  "kernelspec": {
   "display_name": "Python 3",
   "language": "python",
   "name": "python3"
  },
  "language_info": {
   "codemirror_mode": {
    "name": "ipython",
    "version": 3
   },
   "file_extension": ".py",
   "mimetype": "text/x-python",
   "name": "python",
   "nbconvert_exporter": "python",
   "pygments_lexer": "ipython3",
   "version": "3.6.3"
  }
 },
 "nbformat": 4,
 "nbformat_minor": 2
}
