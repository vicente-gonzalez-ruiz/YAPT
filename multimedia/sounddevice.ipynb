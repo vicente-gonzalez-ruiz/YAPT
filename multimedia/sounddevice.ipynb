{
 "cells": [
  {
   "cell_type": "markdown",
   "metadata": {
    "toc": true
   },
   "source": [
    "<h1>Table of Contents<span class=\"tocSkip\"></span></h1>\n",
    "<div class=\"toc\"><ul class=\"toc-item\"><li><span><a href=\"#Sounddevice\" data-toc-modified-id=\"Sounddevice-1\"><span class=\"toc-item-num\">1&nbsp;&nbsp;</span>Sounddevice</a></span><ul class=\"toc-item\"><li><span><a href=\"#The-sounddevice.Stream-class\" data-toc-modified-id=\"The-sounddevice.Stream-class-1.1\"><span class=\"toc-item-num\">1.1&nbsp;&nbsp;</span>The <a href=\"https://python-sounddevice.readthedocs.io/en/0.3.15/api/streams.html\" target=\"_blank\"><code>sounddevice.Stream</code></a> class</a></span></li></ul></li></ul></div>"
   ]
  },
  {
   "cell_type": "markdown",
   "metadata": {},
   "source": [
    "# Sounddevice\n",
    "`sounddevice` is a [Python](https://www.python.org) [module](https://docs.python.org/3/tutorial/modules.html) available for Linux, OSX and MS Windows. `sounddevice` is a Python [wrapper](https://en.wikipedia.org/wiki/Wrapper_library) for the [PortAudio](http://www.portaudio.com) library, which allows us to handle [PCM](https://en.wikipedia.org/wiki/Pulse-code_modulation) [audio](https://en.wikipedia.org/wiki/Digital_audio) in these operating systems."
   ]
  },
  {
   "cell_type": "code",
   "execution_count": null,
   "metadata": {},
   "outputs": [],
   "source": [
    "try:\n",
    "    import sounddevice as sd  # https://python-sounddevice.readthedocs.io\n",
    "except ModuleNotFoundError:\n",
    "    !pip3 install sounddevice --user\n",
    "    import sounddevice as sd"
   ]
  },
  {
   "cell_type": "code",
   "execution_count": null,
   "metadata": {
    "scrolled": true
   },
   "outputs": [],
   "source": [
    "help(sd)"
   ]
  },
  {
   "cell_type": "code",
   "execution_count": null,
   "metadata": {},
   "outputs": [],
   "source": [
    "# Get device's list\n",
    "sd.query_devices()"
   ]
  },
  {
   "cell_type": "code",
   "execution_count": null,
   "metadata": {},
   "outputs": [],
   "source": [
    "# Get information about how many devices are available and the default ones\n",
    "sd.query_hostapis()"
   ]
  },
  {
   "cell_type": "code",
   "execution_count": null,
   "metadata": {},
   "outputs": [],
   "source": [
    "# Get information about default input device\n",
    "sd.query_devices(0)"
   ]
  },
  {
   "cell_type": "code",
   "execution_count": null,
   "metadata": {},
   "outputs": [],
   "source": [
    "# Get information about default output device\n",
    "sd.query_devices(2)"
   ]
  },
  {
   "cell_type": "markdown",
   "metadata": {},
   "source": [
    "## The [`sounddevice.Stream`](https://python-sounddevice.readthedocs.io/en/0.3.15/api/streams.html) class\n",
    "A `sounddevice.Stream` object allows to simulteneous input and output PCM digital audio through [NumPy](https://numpy.org) arrays. The following parameters are available (all are optional). Summarizing:\n",
    "1. `samplerate`: Sampling frequency (for both, input and output) in frames per second.\n",
    "2. `blocksize`: Number of frames (single samples in the case of mono audio or tuples of samples in the case of multichannel audio, normally, stereo) passed to the callback function (see below). By default, `blocksize=0`, which means that the block size possiblely will have a variable size, depending on the host workload and the requested latency setting (see below).\n",
    "3. `device`: Input and output devices.\n",
    "4. `dtype`: The sample format of the [numpy.ndarray](https://numpy.org/doc/stable/reference/generated/numpy.ndarray.html) provided to the stream callback (see below).\n",
    "5. `latency`: The desired latency ([time elapsed between an action that produces sound and the actual perception of that sound by a listener](https://wiki.linuxaudio.org/wiki/jack_latency_tests)) of the ADC converter in seconds. The special values `low` and `high` (being the latter one the default) select the default low and high latency, respectively. This parameter has only effect if `blocksize!=0`.\n",
    "6. `extra_settings`: Used for host-API-specific input/output settings.\n",
    "7. `callback`: Callback function, which has the signature:\n",
    "```\n",
    "callback(indata: ndarray, outdata: ndarray, frames: int, time: CData, status: CallbackFlags) -> None\n",
    "```\n",
    "    1. `indata` and `outdata`: Input and output buffer, respectively, as two-dimensional `numpy.ndarray` with one column per channel (i.e. with a shape of `(frames, channels)`) and with a data type specified by `dtype`. The output buffer contains uninitialized data and the callback is supposed to fill it with audio data, that will depend on the application. `\n",
    "    2. `frames`: Number of frames in `indata` and `outdata`.\n",
    "    3. `time`: Time-stamps of the first frame in `indata`, in `outdata`, and the time at which the callback function was called.\n",
    "    4. `status`: Indicates if underflow or overflow conditions happened during the last call to the callbak function. An underflow happens when the audio device is consuming the data faster than it arrives to the audio buffer. An overflow happens when the audio device is consuming the data too slow and the audio buffer overflows. Typically, the underflow problem is much more frequent than the overflow problem.\n",
    "8. `finished_callback`: User-supplied function which will be called when the stream becomes inactive.\n",
    "9. `clip_off`: Set to `True` to disable [clipping](https://en.wikipedia.org/wiki/Clipping_(audio)).\n",
    "10. `dither_off`: Set to `True` to disable [dithering](https://en.wikipedia.org/wiki/Dither).\n",
    "11. `never_drop_input`: Set to `True` to request that, where possible, a full duplex stream will not discard overflowed input samples without calling the stream callback. This only works if `blocksize=0`.\n",
    "12. `prime_output_buffers_using_stream_callback`: Set to `True` to call the stream callback to fill initial output buffers, rather than the default behavior of priming the buffers with zeros (silence)."
   ]
  },
  {
   "cell_type": "code",
   "execution_count": null,
   "metadata": {},
   "outputs": [],
   "source": [
    "try:\n",
    "    import numpy as np\n",
    "except ModuleNotFoundError:\n",
    "    import os\n",
    "    os.system(\"pip3 install numpy --user\")\n",
    "    import numpy as np\n",
    "import time\n",
    "import sys\n",
    "try:\n",
    "    import psutil\n",
    "except ModuleNotFoundError:\n",
    "    import os\n",
    "    os.system(\"pip3 install psutil --user\")\n",
    "    import psutil\n",
    "\n",
    "def record_and_play(indata, outdata, frames, time, status):\n",
    "    outdata[:] = indata\n",
    "    print(f\"measured buffer latency = {1000*(time.outputBufferDacTime - time.inputBufferAdcTime):3.3f} mili-seconds;\",\n",
    "        f\"current time = {time.currentTime:8.2f} seconds;\",\n",
    "        f\"CPU usage = {psutil.cpu_percent():4.2f}\", end='\\r')\n",
    "\n",
    "def run(frames_per_second, frames_per_block):\n",
    "    with sd.Stream(samplerate=frames_per_second,\n",
    "                   blocksize=frames_per_block,\n",
    "                   dtype=np.int16,\n",
    "                   channels=2,\n",
    "                   callback=record_and_play):\n",
    "        print(f\"ideal (minimum possible) buffer latency = {1000*(frames_per_block/frames_per_second):3.3f} mili-seconds\")\n",
    "        while True:\n",
    "            time.sleep(1)\n",
    "\n",
    "# Typical configuration\n",
    "run(frames_per_second = 44100, frames_per_block = 1024)"
   ]
  },
  {
   "cell_type": "code",
   "execution_count": null,
   "metadata": {},
   "outputs": [],
   "source": [
    "# If the sampling frequency is decreased, the buffer latency is increased (ideally) proportionally\n",
    "run(frames_per_second = 22050, frames_per_block = 1024)"
   ]
  },
  {
   "cell_type": "code",
   "execution_count": null,
   "metadata": {},
   "outputs": [],
   "source": [
    "# If the buffer size is smaller, the buffer latency is also smaller (ideally) proportionally\n",
    "run(frames_per_second = 44100, frames_per_block = 512)"
   ]
  }
 ],
 "metadata": {
  "kernelspec": {
   "display_name": "Python 3",
   "language": "python",
   "name": "python3"
  },
  "language_info": {
   "codemirror_mode": {
    "name": "ipython",
    "version": 3
   },
   "file_extension": ".py",
   "mimetype": "text/x-python",
   "name": "python",
   "nbconvert_exporter": "python",
   "pygments_lexer": "ipython3",
   "version": "3.7.7"
  },
  "toc": {
   "base_numbering": 1,
   "nav_menu": {},
   "number_sections": true,
   "sideBar": true,
   "skip_h1_title": false,
   "title_cell": "Table of Contents",
   "title_sidebar": "Contents",
   "toc_cell": true,
   "toc_position": {},
   "toc_section_display": true,
   "toc_window_display": true
  }
 },
 "nbformat": 4,
 "nbformat_minor": 4
}
