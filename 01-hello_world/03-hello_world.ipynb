{
 "cells": [
  {
   "cell_type": "markdown",
   "metadata": {},
   "source": [
    "# Hello world!\n",
    "\n",
    "The beginning of almost everything in computer programming :-)\n",
    "\n",
    "Let's see different alternatives to run Python code."
   ]
  },
  {
   "cell_type": "markdown",
   "metadata": {},
   "source": [
    "## Contents\n",
    "1. [\"Batch\" running of single commands](#Batch).\n",
    "2. [Interacting with Jupyter Notebooks](#Jupyter).\n",
    "3. [Interacting with Python interpreters](#Python).\n",
    "4. [\"Batch\" running of scripts (modules)](#Scripts)."
   ]
  },
  {
   "cell_type": "markdown",
   "metadata": {},
   "source": [
    "<a id='Batch'></a>\n",
    "## 1. [\"Batch\"](https://en.wikipedia.org/wiki/Batch_processing) execution of single Python commands"
   ]
  },
  {
   "cell_type": "code",
   "execution_count": null,
   "metadata": {},
   "outputs": [],
   "source": [
    "!python -c \"print('Hello world!')\""
   ]
  },
  {
   "cell_type": "markdown",
   "metadata": {},
   "source": [
    "<a id='Jupyter'></a>\n",
    "## 2. Interacting with Jupyter Notebook\n",
    "\n",
    "This interface (what you are reading now) is know as [Jupyter Notebook](http://jupyter.org/), an interactive document, which is a mix of [Markdown](https://daringfireball.net/projects/markdown/) and [Python](https://www.python.org/) code executed by [IPython](http://ipython.readthedocs.io/en/stable/index.html):"
   ]
  },
  {
   "cell_type": "code",
   "execution_count": null,
   "metadata": {},
   "outputs": [],
   "source": [
    "print(\"Hello world!\") # Modify me and push <SHIFT> + <RETURN>"
   ]
  },
  {
   "cell_type": "markdown",
   "metadata": {},
   "source": [
    "<a id='Python'></a>\n",
    "## 3. Interacting with the Python interpreter\n",
    "Run `python` in a shell and type: `print(\"Hello world!\") <enter> quit()`."
   ]
  },
  {
   "cell_type": "markdown",
   "metadata": {},
   "source": [
    "```\n",
    "$ python\n",
    "Python 2.7.10 (default, Oct 23 2015, 19:19:21) \n",
    "[GCC 4.2.1 Compatible Apple LLVM 7.0.0 (clang-700.0.59.5)] on darwin\n",
    "Type \"help\", \"copyright\", \"credits\" or \"license\" for more information.\n",
    ">>> print(\"Hello world!\")\n",
    "Hello world!\n",
    ">>> quit()\n",
    "$\n",
    "```"
   ]
  },
  {
   "cell_type": "markdown",
   "metadata": {},
   "source": [
    "Alternatively, instead of `python` we can use `ipython`, which provides [dynamic object introspection](https://ipython.org/ipython-doc/3/overview.html), [command completion](https://ipython.org/ipython-doc/3/interactive/tutorial.html#tab-completion), [access to the system shell](https://ipython.org/ipython-doc/3/interactive/tutorial.html#system-shell-commands), etc."
   ]
  },
  {
   "cell_type": "markdown",
   "metadata": {},
   "source": [
    "```\n",
    "$ ipython\n",
    "Python 3.5.1rc1 (v3.5.1rc1:948ef16a6951, Nov 22 2015, 11:29:13) \n",
    "Type \"copyright\", \"credits\" or \"license\" for more information.\n",
    "\n",
    "IPython 5.1.0 -- An enhanced Interactive Python.\n",
    "?         -> Introduction and overview of IPython's features.\n",
    "%quickref -> Quick reference.\n",
    "help      -> Python's own help system.\n",
    "object?   -> Details about 'object', use 'object??' for extra details.\n",
    "\n",
    "In [1]: print(\"Hello world!\")\n",
    "Hello world!\n",
    "\n",
    "In [2]: help(print)\n",
    "Help on built-in function print in module builtins:\n",
    "\n",
    "print(...)\n",
    "    print(value, ..., sep=' ', end='\\n', file=sys.stdout, flush=False)\n",
    "    \n",
    "    Prints the values to a stream, or to sys.stdout by default.\n",
    "    Optional keyword arguments:\n",
    "    file:  a file-like object (stream); defaults to the current sys.stdout.\n",
    "    sep:   string inserted between values, default a space.\n",
    "    end:   string appended after the last value, default a newline.\n",
    "    flush: whether to forcibly flush the stream.\n",
    "    \n",
    "(type: <q> to exit)\n",
    "\n",
    "In [3]: quit() # <ctrl> + <d> also works in Unixes\n",
    "$\n",
    "```"
   ]
  },
  {
   "cell_type": "markdown",
   "metadata": {},
   "source": [
    "### Interpreted?"
   ]
  },
  {
   "cell_type": "markdown",
   "metadata": {},
   "source": [
    "[Python is an interpreted programming language](http://www.devshed.com/c/a/python/how-python-runs-programs/). When we run a [Python program](http://www.learnpython.org/en/Modules_and_Packages), we are executing the translation to [bytecode](https://docs.python.org/3/glossary.html#term-bytecode) of each Python statement of our program over the [Python Virtual Machine (PVM)](http://www.ics.uci.edu/~brgallar/week9_3.html). The `.pyc` files that appear after running a collection of [modules](https://docs.python.org/3/tutorial/modules.html) as a script for the first time, contains the bytecode of such modules. This is used by Python to speed up their future executions."
   ]
  },
  {
   "cell_type": "code",
   "execution_count": null,
   "metadata": {},
   "outputs": [],
   "source": [
    "def hello():\n",
    "    print('Hello world!')\n",
    "import dis\n",
    "\n",
    "dis.dis(hello)"
   ]
  },
  {
   "cell_type": "markdown",
   "metadata": {},
   "source": [
    "<a id='Scripts'></a>\n",
    "## 4. Running Python programs (modules) as scripts"
   ]
  },
  {
   "cell_type": "code",
   "execution_count": null,
   "metadata": {},
   "outputs": [],
   "source": [
    "!cat hello_world.py"
   ]
  },
  {
   "cell_type": "code",
   "execution_count": null,
   "metadata": {},
   "outputs": [],
   "source": [
    "# Check the code (optional)\n",
    "!pyflakes3 hello_world.py"
   ]
  },
  {
   "cell_type": "code",
   "execution_count": null,
   "metadata": {},
   "outputs": [],
   "source": [
    "!./hello_world.py # Specific of Unix"
   ]
  },
  {
   "cell_type": "code",
   "execution_count": null,
   "metadata": {},
   "outputs": [],
   "source": [
    "!python hello_world.py"
   ]
  },
  {
   "cell_type": "code",
   "execution_count": null,
   "metadata": {},
   "outputs": [],
   "source": [
    "%run hello_world.py # Specific of Ipython"
   ]
  }
 ],
 "metadata": {
  "kernelspec": {
   "display_name": "Python 3",
   "language": "python",
   "name": "python3"
  },
  "language_info": {
   "codemirror_mode": {
    "name": "ipython",
    "version": 3
   },
   "file_extension": ".py",
   "mimetype": "text/x-python",
   "name": "python",
   "nbconvert_exporter": "python",
   "pygments_lexer": "ipython3",
   "version": "3.6.4"
  }
 },
 "nbformat": 4,
 "nbformat_minor": 1
}
