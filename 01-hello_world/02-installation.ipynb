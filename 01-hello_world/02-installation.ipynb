{
 "cells": [
  {
   "cell_type": "markdown",
   "metadata": {
    "colab_type": "text",
    "id": "view-in-github"
   },
   "source": [
    "<a href=\"https://colab.research.google.com/github/vicente-gonzalez-ruiz/YAPT/blob/master/01-hello_world/02-installation.ipynb\" target=\"_parent\"><img src=\"https://colab.research.google.com/assets/colab-badge.svg\" alt=\"Open In Colab\"/></a>"
   ]
  },
  {
   "cell_type": "markdown",
   "metadata": {
    "colab_type": "text",
    "id": "pRKojDrW_Vu-"
   },
   "source": [
    "# Python installation"
   ]
  },
  {
   "cell_type": "markdown",
   "metadata": {
    "colab_type": "text",
    "id": "BER-muPs_Vu_"
   },
   "source": [
    "## Contents\n",
    "1. [`venv`](#venv).\n",
    "2. [`pyenv`](#pyenv)."
   ]
  },
  {
   "cell_type": "markdown",
   "metadata": {
    "colab_type": "text",
    "id": "pRKojDrW_Vu-"
   },
   "source": [
    "## A word of warning\n",
    "\n",
    "Python is usually installed in most modern OSs. However, it's a bad idea to develop (or even run) Pyhton code using the *system Python* because:\n",
    "\n",
    "1. There are several versions of Python, and the one installed in your OS could not match your needs.\n",
    "2. To install a package into your system Python, you have to run `sudo pip install ...`, probably affecting to other users/projects/already-installed-applications preferences. Moreover, probably you are going to install Python packages that are only need by you, and specifically in a single project."
   ]
  },
  {
   "cell_type": "markdown",
   "metadata": {},
   "source": [
    "## A solution: Virtual Environments (VEs)\n",
    "\n",
    "A [VE](https://docs.python.org/3/glossary.html#term-virtual-environment) provides a isolated runtime environment to develop Python code without interfering with the behaviour of other Python applications running on the same system.\n",
    "\n",
    "There are several ways/tools to work with VEs. The covered here are:\n",
    "1. Using the (only Python 3) module `venv` (try [`virtualenv`](https://virtualenv.pypa.io/) if you need to use Python 2)."
   ]
  },
  {
   "cell_type": "markdown",
   "metadata": {
    "colab_type": "text",
    "id": "pRKojDrW_Vu-"
   },
   "source": [
    "<a id='venv'></a>\n",
    "## [venv](https://docs.python.org/3/library/venv.html#module-venv)\n",
    "\n",
    "Python 3 ships [venv](https://docs.python.org/3/tutorial/venv.html), a Python [module](https://docs.python.org/3/glossary.html#term-module) that allows to create, use and delele VEs. You should create (and use) so many different VEs as different combinations of incompatible Python projects (in terms of versions and packages dependencies) you are working on. The safest procedure is to use a different VE for each Python project.\n",
    "\n",
    ", which you can run using python3 -m venv](https://stackoverflow.com/questions/41573587/what-is-the-difference-between-venv-pyvenv-pyenv-virtualenv-virtualenvwrappe).\n",
    "\n",
    "A better option is to work with [*Virtual Environments*]. "
   ]
  },
  {
   "cell_type": "markdown",
   "metadata": {
    "colab_type": "text",
    "id": "VXpeqeQu_VvY"
   },
   "source": [
    "### Creation\n",
    "\n",
    "A VE are [created](https://docs.python.org/3/tutorial/venv.html#creating-virtual-environments) with the command:\n",
    "\n",
    "```\n",
    "python -m venv name_of_the_VE\n",
    "```\n",
    "\n",
    "A directory named `name_of_the_VE` will be created in the current directory, with an structure to hold a copy of the last version of Python interpreter that you have installed in your system, the standard library, and various supporting files."
   ]
  },
  {
   "cell_type": "markdown",
   "metadata": {
    "colab_type": "text",
    "id": "3kF6v7O3_VvZ"
   },
   "source": [
    "### Activation\n",
    "\n",
    "A previously created VE can be [activated](https://docs.python.org/3/tutorial/venv.html#creating-virtual-environments) with:\n",
    "\n",
    "```\n",
    "source <path_to_the_name_of_the_VE>/bin/activate\n",
    "```\n",
    "\n",
    "Your prompt should have the prefix `(name_of_the_VE)`."
   ]
  },
  {
   "cell_type": "markdown",
   "metadata": {
    "colab_type": "text",
    "id": "mdngfEdu_VvZ"
   },
   "source": [
    "### Deactivation\n",
    "\n",
    "A previously activated VE can be [deactivated](https://docs.python.org/3/tutorial/venv.html#creating-virtual-environments) with:\n",
    "\n",
    "```\n",
    "deactivate\n",
    "```"
   ]
  },
  {
   "cell_type": "markdown",
   "metadata": {},
   "source": [
    "### Deletion\n",
    "\n",
    "Simply remove the `name_of_the_VE` structure."
   ]
  },
  {
   "cell_type": "markdown",
   "metadata": {},
   "source": [
    "### Example\n",
    "\n",
    "In this example we create, activate, use, deactivate, and delete a VE placed at `/tmp/test_VE`."
   ]
  },
  {
   "cell_type": "code",
   "execution_count": 54,
   "metadata": {},
   "outputs": [
    {
     "name": "stdout",
     "output_type": "stream",
     "text": [
      "System Python version: Python 3.8.3\n"
     ]
    }
   ],
   "source": [
    "%%bash\n",
    "\n",
    "echo -n \"System Python version: \"\n",
    "python --version"
   ]
  },
  {
   "cell_type": "code",
   "execution_count": 55,
   "metadata": {},
   "outputs": [
    {
     "name": "stdout",
     "output_type": "stream",
     "text": [
      "/usr/bin/python\n"
     ]
    }
   ],
   "source": [
    "%%bash\n",
    "\n",
    "which python"
   ]
  },
  {
   "cell_type": "code",
   "execution_count": 58,
   "metadata": {},
   "outputs": [
    {
     "name": "stdout",
     "output_type": "stream",
     "text": [
      "Trying to import pip-install-test ... pip-install-test is not installed\n"
     ]
    }
   ],
   "source": [
    "%%bash\n",
    "\n",
    "echo -n \"Trying to import pip-install-test ... \"\n",
    "python -c \"\n",
    "try:\n",
    "    import pip_install_test\n",
    "except ModuleNotFoundError:\n",
    "    print('pip-install-test is not installed')\n",
    "else:\n",
    "    print('pip-install-test is installed')\""
   ]
  },
  {
   "cell_type": "code",
   "execution_count": 59,
   "metadata": {},
   "outputs": [],
   "source": [
    "%%bash\n",
    "\n",
    "python -m venv /tmp/test_VE"
   ]
  },
  {
   "cell_type": "code",
   "execution_count": 60,
   "metadata": {},
   "outputs": [
    {
     "name": "stdout",
     "output_type": "stream",
     "text": [
      "/tmp/test_VE\n",
      "├── bin\n",
      "│   ├── activate\n",
      "│   ├── activate.csh\n",
      "│   ├── activate.fish\n",
      "│   ├── Activate.ps1\n",
      "│   ├── easy_install\n",
      "│   ├── easy_install-3.8\n",
      "│   ├── pip\n",
      "│   ├── pip3\n",
      "total 4\n",
      "-rw-r--r-- 1 vruiz vruiz 126 ago 11 20:11 easy_install.py\n",
      "drwxr-xr-x 5 vruiz vruiz 140 ago 11 20:11 pip\n",
      "drwxr-xr-x 2 vruiz vruiz 180 ago 11 20:11 pip-19.2.3.dist-info\n",
      "drwxr-xr-x 5 vruiz vruiz 140 ago 11 20:11 pkg_resources\n",
      "drwxr-xr-x 2 vruiz vruiz  60 ago 11 20:11 __pycache__\n",
      "drwxr-xr-x 6 vruiz vruiz 840 ago 11 20:11 setuptools\n",
      "drwxr-xr-x 2 vruiz vruiz 220 ago 11 20:11 setuptools-41.2.0.dist-info\n"
     ]
    }
   ],
   "source": [
    "%%bash\n",
    "\n",
    "tree /tmp/test_VE | head\n",
    "ls -l /tmp/test_VE/lib/python3.8/site-packages/"
   ]
  },
  {
   "cell_type": "code",
   "execution_count": 61,
   "metadata": {
    "scrolled": true
   },
   "outputs": [
    {
     "name": "stdout",
     "output_type": "stream",
     "text": [
      "Activating VE\n",
      "Python's path\n",
      "/tmp/test_VE/bin/python\n",
      "lrwxrwxrwx 1 vruiz vruiz 15 ago 11 20:11 /tmp/test_VE/bin/python -> /usr/bin/python\n",
      "Python's version\n",
      "Python 3.8.3\n",
      "Trying to import pip-install-test\n",
      "pip-install-test is not installed\n",
      "Installing pip-install-test\n",
      "Collecting pip-install-test\n",
      "  Downloading https://files.pythonhosted.org/packages/15/8e/4fbc92846184e1080af77da38d55928a5486e0bc5e2ec8342c7db378d7f1/pip_install_test-0.5-py3-none-any.whl\n",
      "Installing collected packages: pip-install-test\n",
      "Successfully installed pip-install-test-0.5\n",
      "Trying to import pip-install-test\n",
      "Good job!  You installed a pip module.\n",
      "\n",
      "Now get back to work!\n",
      "pip-install-test is installed\n",
      "Deactivating VE\n",
      "Python's path\n",
      "/usr/bin/python\n",
      "Python's version\n",
      "Python 3.8.3\n",
      "Trying to import pip-install-test\n",
      "pip-install-test is not installed\n",
      "Deleting VE\n"
     ]
    },
    {
     "name": "stderr",
     "output_type": "stream",
     "text": [
      "WARNING: You are using pip version 19.2.3, however version 20.2.1 is available.\n",
      "You should consider upgrading via the 'pip install --upgrade pip' command.\n"
     ]
    }
   ],
   "source": [
    "%%bash\n",
    "\n",
    "echo \"Activating VE\"\n",
    "source /tmp/test_VE/bin/activate\n",
    "\n",
    "echo \"Python's path\"\n",
    "which python\n",
    "ls -l `which python`\n",
    "\n",
    "echo \"Python's version\"\n",
    "python --version\n",
    "\n",
    "echo \"Trying to import pip-install-test\"\n",
    "python -c \"\n",
    "try:\n",
    "    import pip_install_test\n",
    "except ModuleNotFoundError:\n",
    "    print('pip-install-test is not installed')\n",
    "else:\n",
    "    print('pip-install-test is installed')\"\n",
    "    \n",
    "echo \"Installing pip-install-test\"\n",
    "pip install pip-install-test\n",
    "\n",
    "echo \"Trying to import pip-install-test\"\n",
    "python -c \"\n",
    "try:\n",
    "    import pip_install_test\n",
    "except ModuleNotFoundError:\n",
    "    print('pip-install-test is not installed')\n",
    "else:\n",
    "    print('pip-install-test is installed')\"\n",
    "\n",
    "echo \"Deactivating VE\"\n",
    "deactivate\n",
    "\n",
    "echo \"Python's path\"\n",
    "which python\n",
    "\n",
    "echo \"Python's version\"\n",
    "python --version\n",
    "\n",
    "echo \"Trying to import pip-install-test\"\n",
    "python -c \"\n",
    "try:\n",
    "    import pip_install_test\n",
    "except ModuleNotFoundError:\n",
    "    print('pip-install-test is not installed')\n",
    "else:\n",
    "    print('pip-install-test is installed')\"\n",
    "\n",
    "echo \"Deleting VE\"\n",
    "rm -rf /tmp/test_VE"
   ]
  },
  {
   "cell_type": "markdown",
   "metadata": {
    "colab_type": "text",
    "id": "_QNC9eCu_Vva"
   },
   "source": [
    "<a id='pyenv'></a>\n",
    "## Simple Python Version Management: [`pyenv`](https://github.com/pyenv/pyenv)\n",
    "\n",
    "`venv` is useful if the version of Python installed in your system matches your needs. Howerver, when this does not happen, we can use a more sofisticated tool: `pyenv`. Basically, `pyenv` [allows](https://realpython.com/intro-to-pyenv/#what-about-a-package-manager) us to install multiple versions of Python in your user space, and specify the exact Python version you want in any moment."
   ]
  },
  {
   "cell_type": "markdown",
   "metadata": {
    "colab_type": "text",
    "id": "y2docggz_Vva"
   },
   "source": [
    "<a id='pyenv-install'></a>\n",
    "### Install (in all Unixes, included OSX)"
   ]
  },
  {
   "cell_type": "markdown",
   "metadata": {
    "colab_type": "text",
    "id": "y2docggz_Vva"
   },
   "source": [
    "#### 1. Run [`pyenv-installer`](https://github.com/pyenv/pyenv-installer)\n",
    "```\n",
    "curl https://pyenv.run | bash\n",
    "```\n",
    "\n",
    "This has created the directory `$HOME/.pyenv`."
   ]
  },
  {
   "cell_type": "markdown",
   "metadata": {},
   "source": [
    "#### 2. Add the following `~/.profile`\n",
    "```\n",
    "export PATH=\"$HOME/.pyenv/bin:$PATH\"\n",
    "eval \"$(pyenv init -)\"\n",
    "```\n",
    "\n",
    "Notice that `~/.profile` is only read in login shells (when you do a login). Alternatively, these stuff can be put in the file `~/.bashrc`, but in this case, this file is read for both, login and non-login shells. It's preferable `~/.profile` because you can run multiple non-login shells in a session."
   ]
  },
  {
   "cell_type": "markdown",
   "metadata": {
    "colab_type": "text",
    "id": "PiroTCUT_Vvb"
   },
   "source": [
    "#### 3. Restart your shell\n",
    "\n",
    "Run:\n",
    "\n",
    "```\n",
    "exec \"$SHELL\"\n",
    "```\n",
    "\n",
    "or just restart your terminal."
   ]
  },
  {
   "cell_type": "markdown",
   "metadata": {
    "colab_type": "text",
    "id": "qDOvRU50_Vvc"
   },
   "source": [
    "### Uninstall\n",
    "Simply, remove the lines added to the configuration file and run:\n",
    "```\n",
    "rm -rf $HOME/.pyenv\n",
    "```"
   ]
  },
  {
   "cell_type": "markdown",
   "metadata": {},
   "source": [
    "### Listing `pyenv` commands\n",
    "```\n",
    "pyenv commands\n",
    "```"
   ]
  },
  {
   "cell_type": "markdown",
   "metadata": {},
   "source": [
    "### Getting help\n",
    "```\n",
    "pyenv shell --help\n",
    "```"
   ]
  },
  {
   "cell_type": "markdown",
   "metadata": {},
   "source": [
    "### Update the list of available Python versions\n",
    "```\n",
    "pyenv update\n",
    "```"
   ]
  },
  {
   "cell_type": "markdown",
   "metadata": {
    "colab_type": "text",
    "id": "sS_tLJ5j_Vvb"
   },
   "source": [
    "### List available Python versions\n",
    "```\n",
    "pyenv install --list\n",
    "```\n",
    "\n",
    "Remember that in fact, Python is specification of a computer language. This list provides the different implementations avaiable thought `pyenv`. We can chose between:\n",
    "\n",
    "1. [`CPython`](https://github.com/python/cpython): the open-source reference implementation, writen in C and Python. Notice that CPython's versions are listed with the version number (without the `cpython` prefix). CPython defines the Python language specification.\n",
    "2. [`ActivePython`](https://www.activestate.com/products/python/): a commercially supported Python for data science and machine learning.\n",
    "3. [`Anaconda`](https://www.anaconda.com/): a commercial Python implementation specialized in scientific computation.\n",
    "4. [`IronPython`](https://ironpython.net/): an open-source implementation integrated with the .NET Framework.\n",
    "5. [`Jython`](https://www.jython.org/): a Java-based implementation of Python that translates Python code to Java bytecode which is executed by the Java Virtual Machine.\n",
    "6. [`MicroPython`](https://micropython.org/): an implementation of Python for the PyBoard.\n",
    "7. [`Miniconda`](https://docs.conda.io/en/latest/miniconda.html): the minimal expression of Anaconda.\n",
    "8. [`PyPy`](https://www.pypy.org/): a faster (compared to CPython) implementation of Python based on the JIT (Just-In-Time) tecnology.\n",
    "9. [`Stackless-Python`](https://github.com/stackless-dev/stackless/wiki): an extended version of CPython that allows to create *Microthreads* (also called *Tasklets*), a lighter thread than the created by the OS."
   ]
  },
  {
   "cell_type": "markdown",
   "metadata": {
    "colab_type": "text",
    "id": "FvcvHnwl_Vvc"
   },
   "source": [
    "### Install Python\n",
    "\n",
    "See the [oficial docs](https://devguide.python.org/setup).\n",
    "\n",
    "#### 1. Prerequisites\n",
    "\n",
    "##### Debians\n",
    "\n",
    "See [Common build problems](https://github.com/pyenv/pyenv/wiki/Common-build-problems) if you are unable to install an environment.\n",
    "\n",
    "Moreover, in order to have `tkinter` graphical interface avaiable, the `tk-dev` Linux package should have been installed.\n",
    "\n",
    "```\n",
    "sudo apt install tk-dev\n",
    "```\n",
    "\n",
    "##### OSX\n",
    "\n",
    "TODO\n",
    "\n",
    "##### Arch Linux\n",
    "\n",
    "```\n",
    "pacman -S gcc make\n",
    "```\n",
    "\n",
    "\n",
    "#### 2. Download and compile\n",
    "\n",
    "```\n",
    "pyenv install -v 3.8.5\n",
    "```\n",
    "\n",
    "This will take a while (Python has to be download and compiled)."
   ]
  },
  {
   "cell_type": "markdown",
   "metadata": {},
   "source": [
    "### Uninstall\n",
    "Run:\n",
    "```\n",
    "pyenv uninstall 3.8.5\n",
    "```\n",
    "or alternatively:\n",
    "```\n",
    "rm -rf $HOME/.pyenv/versions/3.8.5\n",
    "```\n"
   ]
  },
  {
   "cell_type": "markdown",
   "metadata": {
    "colab_type": "text",
    "id": "AbTFNmRI_Vvc"
   },
   "source": [
    "<a id='pyenv-versions'></a>\n",
    "### Lists available Python versions\n",
    "```\n",
    "pyenv versions\n",
    "```\n",
    "The `*` indicates the Python version active currently."
   ]
  },
  {
   "cell_type": "markdown",
   "metadata": {},
   "source": [
    "### Get the path to a tool provided by `pyenv`\n",
    "```\n",
    "pyenv which <executable>\n",
    "```"
   ]
  },
  {
   "cell_type": "markdown",
   "metadata": {},
   "source": [
    "### Selecting the default Python version(s)\n",
    "```\n",
    "pyenv global <version1> [<version2>] ...\n",
    "```\n",
    "Set by `$HOME/.pyenv/version` (see command [versions](#pyenv-versions))."
   ]
  },
  {
   "cell_type": "markdown",
   "metadata": {},
   "source": [
    "### Selecting one or more Python versions for a project\n",
    "```\n",
    "pyenv local <version1> [<version2>]\n",
    "```\n",
    "Set by `$HOME/.pyenv/.python-version`. The local preference overrides the global one."
   ]
  },
  {
   "cell_type": "markdown",
   "metadata": {},
   "source": [
    "### Selecting temporaly a Python version\n",
    "```\n",
    "pyenv shell <version>\n",
    "```\n",
    "Set by `PYENV_VERSION` environment variable. This Python version will be used while the current shell is alive. The shell preference overrides the local one."
   ]
  },
  {
   "cell_type": "markdown",
   "metadata": {
    "colab_type": "text",
    "id": "jQiC5bxc_Vve"
   },
   "source": [
    "### Displays the currently active Python version\n",
    "```\n",
    "pyenv version\n",
    "```"
   ]
  },
  {
   "cell_type": "markdown",
   "metadata": {},
   "source": [
    "### Example\n",
    "\n",
    "In this example a version of Python is installed,  Be sure that `pyenv` has been installed (see [`pyenv` install](#pyenv-install)) before you run this notebook."
   ]
  },
  {
   "cell_type": "code",
   "execution_count": 62,
   "metadata": {},
   "outputs": [
    {
     "name": "stderr",
     "output_type": "stream",
     "text": [
      "Downloading Python-3.8.5.tar.xz...\n",
      "-> https://www.python.org/ftp/python/3.8.5/Python-3.8.5.tar.xz\n",
      "Installing Python-3.8.5...\n",
      "Installed Python-3.8.5 to /home/vruiz/.pyenv/versions/3.8.5\n",
      "\n"
     ]
    }
   ],
   "source": [
    "%%bash\n",
    "\n",
    "pyenv install 3.8.5"
   ]
  },
  {
   "cell_type": "code",
   "execution_count": 63,
   "metadata": {},
   "outputs": [
    {
     "name": "stdout",
     "output_type": "stream",
     "text": [
      "* system (set by /home/vruiz/.pyenv/version)\n",
      "  3.8.5\n"
     ]
    }
   ],
   "source": [
    "%%bash\n",
    "\n",
    "pyenv versions"
   ]
  },
  {
   "cell_type": "code",
   "execution_count": 64,
   "metadata": {},
   "outputs": [
    {
     "name": "stdout",
     "output_type": "stream",
     "text": [
      "/usr/bin/python\n"
     ]
    }
   ],
   "source": [
    "%%bash\n",
    "\n",
    "pyenv which python"
   ]
  },
  {
   "cell_type": "code",
   "execution_count": 65,
   "metadata": {},
   "outputs": [],
   "source": [
    "%%bash\n",
    "\n",
    "pyenv global 3.8.5"
   ]
  },
  {
   "cell_type": "code",
   "execution_count": 66,
   "metadata": {},
   "outputs": [
    {
     "name": "stdout",
     "output_type": "stream",
     "text": [
      "  system\n",
      "* 3.8.5 (set by /home/vruiz/.pyenv/version)\n"
     ]
    }
   ],
   "source": [
    "%%bash\n",
    "\n",
    "pyenv versions"
   ]
  },
  {
   "cell_type": "code",
   "execution_count": 67,
   "metadata": {},
   "outputs": [
    {
     "name": "stdout",
     "output_type": "stream",
     "text": [
      "/home/vruiz/.pyenv/versions/3.8.5/bin/python\n"
     ]
    }
   ],
   "source": [
    "%%bash\n",
    "\n",
    "pyenv which python"
   ]
  },
  {
   "cell_type": "code",
   "execution_count": 68,
   "metadata": {},
   "outputs": [
    {
     "name": "stdout",
     "output_type": "stream",
     "text": [
      "/home/vruiz/.pyenv/shims/python\n"
     ]
    }
   ],
   "source": [
    "%%bash\n",
    "\n",
    "which python"
   ]
  },
  {
   "cell_type": "code",
   "execution_count": 69,
   "metadata": {},
   "outputs": [
    {
     "name": "stdout",
     "output_type": "stream",
     "text": [
      "Python 3.8.5\n"
     ]
    }
   ],
   "source": [
    "%%bash\n",
    "\n",
    "python --version"
   ]
  },
  {
   "cell_type": "code",
   "execution_count": 70,
   "metadata": {},
   "outputs": [
    {
     "name": "stdout",
     "output_type": "stream",
     "text": [
      "Trying to import pip-install-test\n",
      "pip-install-test is not installed\n",
      "Which pip I'm using?\n",
      "/home/vruiz/.pyenv/shims/pip\n",
      "Installing pip-install-test\n",
      "Collecting pip-install-test\n",
      "  Using cached pip_install_test-0.5-py3-none-any.whl (1.7 kB)\n",
      "Installing collected packages: pip-install-test\n",
      "Successfully installed pip-install-test-0.5\n",
      "Trying to import pip-install-test\n",
      "Good job!  You installed a pip module.\n",
      "\n",
      "Now get back to work!\n",
      "pip-install-test is installed\n"
     ]
    }
   ],
   "source": [
    "%%bash\n",
    "\n",
    "echo \"Trying to import pip-install-test\"\n",
    "python -c \"\n",
    "try:\n",
    "    import pip_install_test\n",
    "except:\n",
    "    print('pip-install-test is not installed')\n",
    "else:\n",
    "    print('pip-install-test is installed')\"\n",
    "\n",
    "echo \"Which pip I'm using?\"\n",
    "which pip\n",
    "\n",
    "echo \"Installing pip-install-test\"\n",
    "pip install pip-install-test\n",
    "\n",
    "echo \"Trying to import pip-install-test\"\n",
    "python -c \"\n",
    "try:\n",
    "    import pip_install_test\n",
    "except:\n",
    "    print('pip-install-test is not installed')\n",
    "else:\n",
    "    print('pip-install-test is installed')\""
   ]
  },
  {
   "cell_type": "code",
   "execution_count": 71,
   "metadata": {},
   "outputs": [
    {
     "name": "stdout",
     "output_type": "stream",
     "text": [
      "Returning to System's Python\n",
      "* system (set by /home/vruiz/.pyenv/version)\n",
      "  3.8.5\n",
      "Pringing Python's version\n",
      "Python 3.8.3\n",
      "Priting selected Python's version\n",
      "system (set by /home/vruiz/.pyenv/version)\n"
     ]
    }
   ],
   "source": [
    "%%bash\n",
    "\n",
    "echo \"Returning to System's Python\"\n",
    "pyenv global system\n",
    "pyenv versions\n",
    "\n",
    "echo \"Pringing Python's version\"\n",
    "python --version\n",
    "\n",
    "echo \"Priting selected Python's version\"\n",
    "pyenv version"
   ]
  },
  {
   "cell_type": "code",
   "execution_count": 73,
   "metadata": {},
   "outputs": [
    {
     "name": "stdout",
     "output_type": "stream",
     "text": [
      "pyenv: 3.8.5 uninstalled\n"
     ]
    }
   ],
   "source": [
    "%%bash\n",
    "\n",
    "pyenv uninstall -f 3.8.5"
   ]
  },
  {
   "cell_type": "markdown",
   "metadata": {},
   "source": [
    "### Creating a VE\n",
    "```\n",
    "pyenv virtualenv <Python_version> <VE_name>\n",
    "```\n",
    "VEs are stored in `~/.pyenv/versions/<VE_name>/`."
   ]
  },
  {
   "cell_type": "markdown",
   "metadata": {},
   "source": [
    "### Listing VEs\n",
    "```\n",
    "pyenv virtualenvs\n",
    "```"
   ]
  },
  {
   "cell_type": "markdown",
   "metadata": {},
   "source": [
    "### Activating a VE\n",
    "```\n",
    "pyenv activate <VE_name>`\n",
    "```\n",
    "<!-- Now, `(<VE_name>)` should preceed your current prompt. -->"
   ]
  },
  {
   "cell_type": "markdown",
   "metadata": {},
   "source": [
    "### Deactivating a VE\n",
    "```\n",
    "pyenv deactivate\n",
    "```"
   ]
  },
  {
   "cell_type": "markdown",
   "metadata": {},
   "source": [
    "### Delete a VE\n",
    "```\n",
    "pyenv uninstall <VE_name>\n",
    "```"
   ]
  },
  {
   "cell_type": "markdown",
   "metadata": {},
   "source": [
    "### Example\n",
    "\n",
    "Now, we create, activate, desativate, and remove a VE."
   ]
  },
  {
   "cell_type": "code",
   "execution_count": 74,
   "metadata": {},
   "outputs": [
    {
     "name": "stderr",
     "output_type": "stream",
     "text": [
      "Downloading Python-3.8.5.tar.xz...\n",
      "-> https://www.python.org/ftp/python/3.8.5/Python-3.8.5.tar.xz\n",
      "Installing Python-3.8.5...\n",
      "Installed Python-3.8.5 to /home/vruiz/.pyenv/versions/3.8.5\n",
      "\n"
     ]
    }
   ],
   "source": [
    "%%bash\n",
    "\n",
    "pyenv install 3.8.5"
   ]
  },
  {
   "cell_type": "code",
   "execution_count": 75,
   "metadata": {},
   "outputs": [
    {
     "name": "stdout",
     "output_type": "stream",
     "text": [
      "Looking in links: /tmp/tmppl92fuqi\n",
      "Requirement already satisfied: setuptools in /home/vruiz/.pyenv/versions/3.8.5/envs/socket_programming__385/lib/python3.8/site-packages (47.1.0)\n",
      "Requirement already satisfied: pip in /home/vruiz/.pyenv/versions/3.8.5/envs/socket_programming__385/lib/python3.8/site-packages (20.1.1)\n"
     ]
    }
   ],
   "source": [
    "%%bash\n",
    "\n",
    "pyenv virtualenv 3.8.5 socket_programming__385"
   ]
  },
  {
   "cell_type": "code",
   "execution_count": 76,
   "metadata": {},
   "outputs": [
    {
     "name": "stdout",
     "output_type": "stream",
     "text": [
      "  3.8.5/envs/socket_programming__385 (created from /home/vruiz/.pyenv/versions/3.8.5)\n",
      "  socket_programming__385 (created from /home/vruiz/.pyenv/versions/3.8.5)\n"
     ]
    }
   ],
   "source": [
    "%%bash\n",
    "\n",
    "pyenv virtualenvs"
   ]
  },
  {
   "cell_type": "code",
   "execution_count": 78,
   "metadata": {},
   "outputs": [
    {
     "name": "stdout",
     "output_type": "stream",
     "text": [
      "  3.8.5/envs/socket_programming__385 (created from /home/vruiz/.pyenv/versions/3.8.5)\n",
      "* socket_programming__385 (created from /home/vruiz/.pyenv/versions/3.8.5)\n"
     ]
    },
    {
     "name": "stderr",
     "output_type": "stream",
     "text": [
      "pyenv-virtualenv: prompt changing will be removed from future release. configure `export PYENV_VIRTUALENV_DISABLE_PROMPT=1' to simulate the behavior.\n"
     ]
    }
   ],
   "source": [
    "%%bash\n",
    "\n",
    "eval \"$(pyenv init -)\" # <- This should be in .profile\n",
    "\n",
    "pyenv activate socket_programming__385\n",
    "pyenv virtualenvs\n",
    "pyenv deactivate"
   ]
  },
  {
   "cell_type": "code",
   "execution_count": 79,
   "metadata": {},
   "outputs": [
    {
     "name": "stdout",
     "output_type": "stream",
     "text": [
      "  3.8.5/envs/socket_programming__385 (created from /home/vruiz/.pyenv/versions/3.8.5)\n",
      "  socket_programming__385 (created from /home/vruiz/.pyenv/versions/3.8.5)\n"
     ]
    }
   ],
   "source": [
    "%%bash\n",
    "\n",
    "pyenv virtualenvs"
   ]
  },
  {
   "cell_type": "markdown",
   "metadata": {},
   "source": [
    "Notice that the `*` is missing. "
   ]
  },
  {
   "cell_type": "code",
   "execution_count": 80,
   "metadata": {},
   "outputs": [],
   "source": [
    "%%bash\n",
    "\n",
    "pyenv uninstall -f socket_programming__385"
   ]
  },
  {
   "cell_type": "markdown",
   "metadata": {},
   "source": [
    "### Automatically activating and desactivating VEs\n",
    "`pyenv-virtualenv` (running) automatically activate and desactivate the VE when you *arrive to* and *leave a* Python project that previously has been configured with:\n",
    "```\n",
    "pyenv local <VE_name>\n",
    "```\n",
    "\n",
    "To work with VEs you must run `virtualenv-init`in your shell. You can run it directly from the shell with:\n",
    "```\n",
    "pyenv virtualenv-init\n",
    "```\n",
    "or you can include:\n",
    "```\n",
    "eval \"$(pyenv virtualenv-init -)\"\n",
    "```\n",
    "into the `.profile` file."
   ]
  },
  {
   "cell_type": "markdown",
   "metadata": {},
   "source": [
    "### Example\n",
    "\n",
    "We configure a Python project to automatically activate a VE when we access to it."
   ]
  },
  {
   "cell_type": "code",
   "execution_count": 82,
   "metadata": {},
   "outputs": [
    {
     "name": "stdout",
     "output_type": "stream",
     "text": [
      "Showing versions of Python\n",
      "system (set by /home/vruiz/.pyenv/version)\n",
      "Ensure the test VE does not exit\n",
      "pyenv: my_python_project__system uninstalled\n",
      "Create the test VE\n",
      "Looking in links: /tmp/tmp3muheu_b\n",
      "Requirement already satisfied: setuptools in /home/vruiz/.pyenv/versions/3.8.5/envs/my_python_project__system/lib/python3.8/site-packages (47.1.0)\n",
      "Requirement already satisfied: pip in /home/vruiz/.pyenv/versions/3.8.5/envs/my_python_project__system/lib/python3.8/site-packages (20.1.1)\n",
      "Create and go into the test Python project\n",
      "Hook the VE and the project\n",
      "Inside of the project the Python's version is ...\n",
      "Python 3.8.5\n",
      "Outside of the project the Python's version is ...\n",
      "Python 3.8.3\n"
     ]
    }
   ],
   "source": [
    "%%bash\n",
    "\n",
    "echo \"Showing versions of Python\"\n",
    "pyenv version\n",
    "\n",
    "echo \"Ensure the test VE does not exit\"\n",
    "pyenv uninstall -f my_python_project__system\n",
    "\n",
    "echo \"Create the test VE\"\n",
    "pyenv virtualenv 3.8.5 my_python_project__system\n",
    "\n",
    "echo \"Create and go into the test Python project\"\n",
    "rm -rf /tmp/my_python_project\n",
    "mkdir /tmp/my_python_project\n",
    "cd /tmp/my_python_project\n",
    "\n",
    "echo \"Hook the VE and the project\"\n",
    "pyenv local my_python_project__system\n",
    "\n",
    "echo \"Inside of the project the Python's version is ...\"\n",
    "python --version\n",
    "\n",
    "echo \"Outside of the project the Python's version is ...\"\n",
    "cd\n",
    "python --version"
   ]
  }
 ],
 "metadata": {
  "colab": {
   "include_colab_link": true,
   "name": "02-installation.ipynb",
   "provenance": []
  },
  "kernelspec": {
   "display_name": "Python 3",
   "language": "python",
   "name": "python3"
  },
  "language_info": {
   "codemirror_mode": {
    "name": "ipython",
    "version": 3
   },
   "file_extension": ".py",
   "mimetype": "text/x-python",
   "name": "python",
   "nbconvert_exporter": "python",
   "pygments_lexer": "ipython3",
   "version": "3.8.3"
  }
 },
 "nbformat": 4,
 "nbformat_minor": 1
}
