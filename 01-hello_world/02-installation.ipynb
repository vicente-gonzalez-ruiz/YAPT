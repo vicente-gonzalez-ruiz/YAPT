{
  "nbformat": 4,
  "nbformat_minor": 0,
  "metadata": {
    "kernelspec": {
      "display_name": "Python 3",
      "language": "python",
      "name": "python3"
    },
    "language_info": {
      "codemirror_mode": {
        "name": "ipython",
        "version": 3
      },
      "file_extension": ".py",
      "mimetype": "text/x-python",
      "name": "python",
      "nbconvert_exporter": "python",
      "pygments_lexer": "ipython3",
      "version": "3.6.4"
    },
    "colab": {
      "name": "02-installation.ipynb",
      "provenance": [],
      "include_colab_link": true
    }
  },
  "cells": [
    {
      "cell_type": "markdown",
      "metadata": {
        "id": "view-in-github",
        "colab_type": "text"
      },
      "source": [
        "<a href=\"https://colab.research.google.com/github/vicente-gonzalez-ruiz/YAPT/blob/master/01-hello_world/02-installation.ipynb\" target=\"_parent\"><img src=\"https://colab.research.google.com/assets/colab-badge.svg\" alt=\"Open In Colab\"/></a>"
      ]
    },
    {
      "cell_type": "markdown",
      "metadata": {
        "id": "NneBjEgL_IBK",
        "colab_type": "text"
      },
      "source": [
        "# Python Installation"
      ]
    },
    {
      "cell_type": "markdown",
      "metadata": {
        "id": "Di6W6sEv_IBL",
        "colab_type": "text"
      },
      "source": [
        "## Contents\n",
        "1. [System-wide installation](#System).\n",
        "2. [`pip`: installing Python packages](#pip).\n",
        "3. [Working with virtual environments](#Virtual)."
      ]
    },
    {
      "cell_type": "markdown",
      "metadata": {
        "id": "5UiGy1JS_IBM",
        "colab_type": "text"
      },
      "source": [
        "<a id='System'></a>\n",
        "## 1. System-wide Python installation\n",
        "\n",
        "Python is usually installed in most modern OSs. However, if this is not true in your case, this section can help you."
      ]
    },
    {
      "cell_type": "markdown",
      "metadata": {
        "id": "GSSQORDq_IBN",
        "colab_type": "text"
      },
      "source": [
        "### MS Windows"
      ]
    },
    {
      "cell_type": "markdown",
      "metadata": {
        "id": "2fW2tVN9_IBN",
        "colab_type": "text"
      },
      "source": [
        "Download Python from [https://www.python.org/downloads/](https://www.python.org/downloads/) ... and remember to select the option \"`Add Python to PATH`\"."
      ]
    },
    {
      "cell_type": "markdown",
      "metadata": {
        "id": "5QweJhom_IBO",
        "colab_type": "text"
      },
      "source": [
        "### Mac OS X"
      ]
    },
    {
      "cell_type": "markdown",
      "metadata": {
        "id": "M9_7soEk_IBO",
        "colab_type": "text"
      },
      "source": [
        "Install [Homebrew](http://brew.sh/) and run\n",
        "```\n",
        "brew install python3\n",
        "```"
      ]
    },
    {
      "cell_type": "markdown",
      "metadata": {
        "id": "qBcbk9BG_IBP",
        "colab_type": "text"
      },
      "source": [
        "### GNU Debian"
      ]
    },
    {
      "cell_type": "markdown",
      "metadata": {
        "id": "iNufcRxC_IBR",
        "colab_type": "text"
      },
      "source": [
        "Run\n",
        "```\n",
        "sudo apt-get update && sudo apt-get install python3\n",
        "```"
      ]
    },
    {
      "cell_type": "markdown",
      "metadata": {
        "id": "4P4lPkw-_IBS",
        "colab_type": "text"
      },
      "source": [
        "### Arch Linux"
      ]
    },
    {
      "cell_type": "markdown",
      "metadata": {
        "id": "ZjW49qG__IBS",
        "colab_type": "text"
      },
      "source": [
        "Run\n",
        "```\n",
        "sudo pacman -Sy && sudo pacman -S python\n",
        "```"
      ]
    },
    {
      "cell_type": "markdown",
      "metadata": {
        "id": "Z8XFvxJs_IBT",
        "colab_type": "text"
      },
      "source": [
        "<a id='pip'></a>\n",
        "## 2. [`pip`](https://packaging.python.org/tutorials/installing-packages/#use-pip-for-installing): installing Python packages¶\n",
        "\n",
        "`pip` is a command-line tool for accesing to [PyPI - the standard Python's packages repository](https://pypi.python.org/pypi)."
      ]
    },
    {
      "cell_type": "markdown",
      "metadata": {
        "id": "yBUkC65I_IBT",
        "colab_type": "text"
      },
      "source": [
        "### Get the list of installed packages\n",
        "\n",
        "```\n",
        "pip list\n",
        "pip freeze\n",
        "\n",
        "```"
      ]
    },
    {
      "cell_type": "markdown",
      "metadata": {
        "id": "Jmuqb7sE_IBU",
        "colab_type": "text"
      },
      "source": [
        "### Searching for a package in PyPI\n",
        "```\n",
        "pip search games | grep free\n",
        "```"
      ]
    },
    {
      "cell_type": "markdown",
      "metadata": {
        "id": "b_dUdJXK_IBU",
        "colab_type": "text"
      },
      "source": [
        "### Installing a package\n",
        "```\n",
        "pip install freegames        # System- or environment-wide installation (see below)\n",
        "pip install --user freegames # Local installation (see $PYTHONUSERBASE, if set)\n",
        "pip install Pillow==5.1.0    # Installing a version of a package\n",
        "pip install numpy>=0.2       # Installing a version higher or equal to\n",
        "pip install pandas<0.4       # Installing a version smaller than\n",
        "pip install cv2>=0.2,<0.3    # Using a range of versions\n",
        "```"
      ]
    },
    {
      "cell_type": "markdown",
      "metadata": {
        "id": "4ODvoP7f_IBV",
        "colab_type": "text"
      },
      "source": [
        "### Uninstalling a package\n",
        "```\n",
        "pip uninstall freegames\n",
        "```"
      ]
    },
    {
      "cell_type": "markdown",
      "metadata": {
        "id": "T7-mQyFc_IBV",
        "colab_type": "text"
      },
      "source": [
        "### Getting information about an installed package\n",
        "```\n",
        "pip show freegames\n",
        "```"
      ]
    },
    {
      "cell_type": "markdown",
      "metadata": {
        "id": "L7Spapnh_IBW",
        "colab_type": "text"
      },
      "source": [
        "### Updating a package\n",
        "```\n",
        "pip install --upgrade freegames\n",
        "```"
      ]
    },
    {
      "cell_type": "markdown",
      "metadata": {
        "id": "81fPt2f1_IBW",
        "colab_type": "text"
      },
      "source": [
        "### [Upgrading all packages](https://stackoverflow.com/questions/2720014/upgrading-all-packages-with-pip)\n",
        "```\n",
        "pip list --outdated --format=freeze | grep -v '^\\-e' | cut -d = -f 1  | xargs -n1 pip install -U\n",
        "```"
      ]
    },
    {
      "cell_type": "markdown",
      "metadata": {
        "id": "VchON1rS_IBX",
        "colab_type": "text"
      },
      "source": [
        "### Activating command completion\n",
        "```\n",
        "pip completion --bash >> ~/.profile\n",
        "pip completion --zsh >> ~/.zprofile\n",
        "```\n",
        "Only temporaly:\n",
        "```\n",
        "bash$ eval \"`pip completion --bash`\"\n",
        "zsh$ eval \"`pip completion --zsh`\"\n",
        "```"
      ]
    },
    {
      "cell_type": "markdown",
      "metadata": {
        "id": "a8GJ8Lf0_IBX",
        "colab_type": "text"
      },
      "source": [
        "<a id='Virtual'></a>\n",
        "## 3. Python [(virtual) environments](https://docs.python.org/3/tutorial/venv.html)\n",
        "A virtual environment is \"_a self-contained directory tree that contains a Python installation for a particular version of Python, plus a number of additional packages_\". This is useful when, for example, two or more Python projects that run in the same host require different configuration of Python and packages versions."
      ]
    },
    {
      "cell_type": "markdown",
      "metadata": {
        "id": "r8VvWhQt_IBY",
        "colab_type": "text"
      },
      "source": [
        "### A. Using [`venv`](https://docs.python.org/3/library/venv.html#module-venv)"
      ]
    },
    {
      "cell_type": "markdown",
      "metadata": {
        "id": "LRDpPB4I_IBb",
        "colab_type": "text"
      },
      "source": [
        "#### Creating an environment\n",
        "```\n",
        "python -m venv my_python_project\n",
        "```"
      ]
    },
    {
      "cell_type": "markdown",
      "metadata": {
        "id": "YEKqAfw2_IBc",
        "colab_type": "text"
      },
      "source": [
        "#### Activating the environment\n",
        "```\n",
        "source my_python_project/bin/activate\n",
        "```\n",
        "Your prompt should have the prefix `(my_python_project)`. The `my_python_project` directory should not be moved, and each different project should have its own environment."
      ]
    },
    {
      "cell_type": "markdown",
      "metadata": {
        "id": "i1gJiY0q_IBc",
        "colab_type": "text"
      },
      "source": [
        "#### Deactivation\n",
        "```\n",
        "deactivate\n",
        "```"
      ]
    },
    {
      "cell_type": "markdown",
      "metadata": {
        "id": "pIyZ9Wy1_IBd",
        "colab_type": "text"
      },
      "source": [
        "### B. [Simple Python Version Management: `pyenv`](https://github.com/pyenv/pyenv)\n",
        "\n",
        "Useful to install and use different versions of Python which are independent of the system's installed Python."
      ]
    },
    {
      "cell_type": "markdown",
      "metadata": {
        "id": "veGaMik3_IBd",
        "colab_type": "text"
      },
      "source": [
        "### Install in all Unixes (included OSX)\n",
        "(Replace .bashrc by .bash_profile in OSX)\n",
        "```\n",
        "git clone https://github.com/pyenv/pyenv.git ~/.pyenv\n",
        "echo 'export PYENV_ROOT=\"$HOME/.pyenv\"' >> ~/.bashrc\n",
        "echo 'export PATH=\"$PYENV_ROOT/bin:$PATH\"' >> ~/.bashrc\n",
        "echo -e 'if command -v pyenv 1>/dev/null 2>&1; then\\n  eval \"$(pyenv init -)\"\\nfi' >> ~/.bashrc\n",
        "```"
      ]
    },
    {
      "cell_type": "markdown",
      "metadata": {
        "id": "NdsXAsIA_IBe",
        "colab_type": "text"
      },
      "source": [
        "### Source configuration files\n",
        "```\n",
        "exec \"$SHELL\"\n",
        "```"
      ]
    },
    {
      "cell_type": "markdown",
      "metadata": {
        "id": "ibfoJZ4P_IBe",
        "colab_type": "text"
      },
      "source": [
        "### List available python versions\n",
        "```\n",
        "pyenv install --list\n",
        "```"
      ]
    },
    {
      "cell_type": "markdown",
      "metadata": {
        "id": "AELcbnKA_IBf",
        "colab_type": "text"
      },
      "source": [
        "### Compile Python\n",
        "\n",
        "#### Prerequisites\n",
        "\n",
        "##### Debians\n",
        "\n",
        "See [Common build problems](https://github.com/pyenv/pyenv/wiki/Common-build-problems) if you are unable to install an environment.\n",
        "\n",
        "Moreover, in order to have `tkinter` graphical interface avaiable, the `tk-dev` Linux package should have been installed.\n",
        "\n",
        "```\n",
        "sudo apt-get install tk-dev\n",
        "```\n",
        "\n",
        "##### OSX\n",
        "\n",
        "TODO\n",
        "\n",
        "##### Arch Linux\n",
        "\n",
        "```\n",
        "pacman -S gcc make\n",
        "```\n",
        "\n",
        "\n",
        "#### Download and compile\n",
        "\n",
        "```\n",
        "pyenv install 3.6.4\n",
        "```"
      ]
    },
    {
      "cell_type": "markdown",
      "metadata": {
        "id": "X3lf8ANd_IBf",
        "colab_type": "text"
      },
      "source": [
        "### Uninstall\n",
        "Simply, remove the lines added to the configuration file and run:\n",
        "```\n",
        "rm -fr ~/.pyenv\n",
        "```"
      ]
    },
    {
      "cell_type": "markdown",
      "metadata": {
        "id": "cUjBJYjJ_IBg",
        "colab_type": "text"
      },
      "source": [
        "### Lists all Python versions known to pyenv\n",
        "```\n",
        "pyenv versions\n",
        "```"
      ]
    },
    {
      "cell_type": "markdown",
      "metadata": {
        "id": "EHbWAkNU_IBi",
        "colab_type": "text"
      },
      "source": [
        "### Activate/Select a installed version of Python\n",
        "`pyenv` [local](https://github.com/pyenv/pyenv/blob/master/COMMANDS.md#pyenv-local)/[global](https://github.com/pyenv/pyenv/blob/master/COMMANDS.md#pyenv-global)/[shell](https://github.com/pyenv/pyenv/blob/master/COMMANDS.md#pyenv-shell) `3.6.1`"
      ]
    },
    {
      "cell_type": "markdown",
      "metadata": {
        "id": "fCrx5p6S_IBj",
        "colab_type": "text"
      },
      "source": [
        "### Deactivate\n",
        "```\n",
        "pyenv local/global/shell system\n",
        "```"
      ]
    },
    {
      "cell_type": "markdown",
      "metadata": {
        "id": "l_JjBUPo_IBj",
        "colab_type": "text"
      },
      "source": [
        "### Displays the currently active Python version\n",
        "```\n",
        "pyenv version\n",
        "```"
      ]
    }
  ]
}
