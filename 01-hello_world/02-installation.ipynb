{
 "cells": [
  {
   "cell_type": "markdown",
   "metadata": {
    "colab_type": "text",
    "id": "view-in-github"
   },
   "source": [
    "<a href=\"https://colab.research.google.com/github/vicente-gonzalez-ruiz/YAPT/blob/master/01-hello_world/02-installation.ipynb\" target=\"_parent\"><img src=\"https://colab.research.google.com/assets/colab-badge.svg\" alt=\"Open In Colab\"/></a>"
   ]
  },
  {
   "cell_type": "markdown",
   "metadata": {
    "colab_type": "text",
    "id": "pRKojDrW_Vu-"
   },
   "source": [
    "# Python installation"
   ]
  },
  {
   "cell_type": "markdown",
   "metadata": {
    "colab_type": "text",
    "id": "BER-muPs_Vu_"
   },
   "source": [
    "## Contents\n",
    "1. [System-wide installation](#System).\n",
    "2. [`pip`: installing Python packages](#pip).\n",
    "3. [Working with virtual environments](#Virtual)."
   ]
  },
  {
   "cell_type": "markdown",
   "metadata": {
    "colab_type": "text",
    "id": "pRKojDrW_Vu-"
   },
   "source": [
    "## A word of warning\n",
    "\n",
    "Python is usually installed in most modern OSs. However, it's a bad idea to develop (or even run) Pyhton code using the *system Python* because:\n",
    "\n",
    "1. There are several versions of Python, and the one installed in your OS could not match your needs.\n",
    "2. To install a package into your system Python, you have to run `sudo pip install ...`, probably affecting to other users/projects/already-installed-applications preferences. Moreover, probably you are going to install Python packages that are only need by you, and specifically in a single project."
   ]
  },
  {
   "cell_type": "markdown",
   "metadata": {},
   "source": [
    "## A solution: Virtual Environments (VEs)\n",
    "\n",
    "A [VE](https://docs.python.org/3/glossary.html#term-virtual-environment) provides a isolated runtime environment to develop Python code without interfering with the behaviour of other Python applications running on the same system.\n",
    "\n",
    "There are several ways/tools to work with VEs. The covered here are:\n",
    "1. Using the (only Python 3) module `venv` (try [`virtualenv`](https://virtualenv.pypa.io/) if you need to use Python 2)."
   ]
  },
  {
   "cell_type": "markdown",
   "metadata": {
    "colab_type": "text",
    "id": "pRKojDrW_Vu-"
   },
   "source": [
    "<a id='venv'></a>\n",
    "## [venv](https://docs.python.org/3/library/venv.html#module-venv)\n",
    "\n",
    "Python 3 ships [venv](https://docs.python.org/3/tutorial/venv.html), a Python [module](https://docs.python.org/3/glossary.html#term-module) that allows to create, use and delele VEs. You should create (and use) so many different VEs as different combinations of incompatible Python projects (in terms of versions and packages dependencies) you are working on. The safest procedure is to use a different VE for each Python project.\n",
    "\n",
    ", which you can run using python3 -m venv](https://stackoverflow.com/questions/41573587/what-is-the-difference-between-venv-pyvenv-pyenv-virtualenv-virtualenvwrappe).\n",
    "\n",
    "A better option is to work with [*Virtual Environments*]. "
   ]
  },
  {
   "cell_type": "markdown",
   "metadata": {
    "colab_type": "text",
    "id": "VXpeqeQu_VvY"
   },
   "source": [
    "### Creation\n",
    "\n",
    "A VE are [created](https://docs.python.org/3/tutorial/venv.html#creating-virtual-environments) with the command:\n",
    "\n",
    "```\n",
    "python -m venv name_of_the_VE\n",
    "```\n",
    "\n",
    "A directory named `name_of_the_VE` will be created in the current directory, with an structure to hold a copy of the last version of Python interpreter that you have installed in your system, the standard library, and various supporting files."
   ]
  },
  {
   "cell_type": "markdown",
   "metadata": {
    "colab_type": "text",
    "id": "3kF6v7O3_VvZ"
   },
   "source": [
    "### Activation\n",
    "\n",
    "A previously created VE can be [activated](https://docs.python.org/3/tutorial/venv.html#creating-virtual-environments) with:\n",
    "\n",
    "```\n",
    "source <path_to_the_name_of_the_VE>/bin/activate\n",
    "```\n",
    "\n",
    "Your prompt should have the prefix `(name_of_the_VE)`."
   ]
  },
  {
   "cell_type": "markdown",
   "metadata": {
    "colab_type": "text",
    "id": "mdngfEdu_VvZ"
   },
   "source": [
    "### Deactivation\n",
    "\n",
    "A previously activated VE can be [deactivated](https://docs.python.org/3/tutorial/venv.html#creating-virtual-environments) with:\n",
    "\n",
    "```\n",
    "deactivate\n",
    "```"
   ]
  },
  {
   "cell_type": "markdown",
   "metadata": {},
   "source": [
    "### Deletion\n",
    "\n",
    "Simply remove the `name_of_the_VE` structure."
   ]
  },
  {
   "cell_type": "markdown",
   "metadata": {},
   "source": [
    "### Example"
   ]
  },
  {
   "cell_type": "code",
   "execution_count": 12,
   "metadata": {},
   "outputs": [
    {
     "name": "stdout",
     "output_type": "stream",
     "text": [
      "System Python version: Python 3.8.3\n"
     ]
    }
   ],
   "source": [
    "%%bash\n",
    "\n",
    "echo -n \"System Python version: \"\n",
    "python --version"
   ]
  },
  {
   "cell_type": "code",
   "execution_count": 17,
   "metadata": {},
   "outputs": [
    {
     "name": "stdout",
     "output_type": "stream",
     "text": [
      "Trying to import numpy ... Numpy is installed\n"
     ]
    }
   ],
   "source": [
    "%%bash\n",
    "\n",
    "echo -n \"Trying to import numpy ... \"\n",
    "python -c \"\n",
    "try:\n",
    "    import numpy\n",
    "except:\n",
    "    print('Numpy is not installed')\n",
    "else:\n",
    "    print('Numpy is installed')\""
   ]
  },
  {
   "cell_type": "code",
   "execution_count": 21,
   "metadata": {},
   "outputs": [],
   "source": [
    "%%bash\n",
    "\n",
    "python -m venv /tmp/test_VE"
   ]
  },
  {
   "cell_type": "code",
   "execution_count": 23,
   "metadata": {},
   "outputs": [
    {
     "name": "stdout",
     "output_type": "stream",
     "text": [
      "/tmp/test_VE\n",
      "├── bin\n",
      "│   ├── activate\n",
      "│   ├── activate.csh\n",
      "│   ├── activate.fish\n",
      "│   ├── Activate.ps1\n",
      "│   ├── easy_install\n",
      "│   ├── easy_install-3.8\n",
      "│   ├── pip\n",
      "│   ├── pip3\n",
      "total 4\n",
      "-rw-r--r-- 1 vruiz vruiz 126 ago 10 13:23 easy_install.py\n",
      "drwxr-xr-x 5 vruiz vruiz 140 ago 10 13:23 pip\n",
      "drwxr-xr-x 2 vruiz vruiz 180 ago 10 13:23 pip-19.2.3.dist-info\n",
      "drwxr-xr-x 5 vruiz vruiz 140 ago 10 13:23 pkg_resources\n",
      "drwxr-xr-x 2 vruiz vruiz  60 ago 10 13:23 __pycache__\n",
      "drwxr-xr-x 6 vruiz vruiz 840 ago 10 13:23 setuptools\n",
      "drwxr-xr-x 2 vruiz vruiz 220 ago 10 13:23 setuptools-41.2.0.dist-info\n"
     ]
    }
   ],
   "source": [
    "%%bash\n",
    "\n",
    "tree /tmp/test_VE | head\n",
    "ls -l /tmp/test_VE/lib/python3.8/site-packages/"
   ]
  },
  {
   "cell_type": "code",
   "execution_count": 27,
   "metadata": {
    "scrolled": true
   },
   "outputs": [
    {
     "name": "stdout",
     "output_type": "stream",
     "text": [
      "/tmp/test_VE/bin/python\n",
      "Python 3.8.3\n",
      "lrwxrwxrwx 1 vruiz vruiz 15 ago 10 13:23 /tmp/test_VE/bin/python -> /usr/bin/python\n",
      "Numpy is not installed\n",
      "Collecting numpy\n",
      "  Using cached https://files.pythonhosted.org/packages/c7/44/e17846ef3601dcb6f118ea447439650e0c35cb4fe60274fbe24214156df2/numpy-1.19.1-cp38-cp38-manylinux2010_x86_64.whl\n",
      "Installing collected packages: numpy\n",
      "Successfully installed numpy-1.19.1\n",
      "Numpy is installed\n",
      "/usr/bin/python\n",
      "Python 3.8.3\n",
      "Numpy is installed\n"
     ]
    },
    {
     "name": "stderr",
     "output_type": "stream",
     "text": [
      "WARNING: You are using pip version 19.2.3, however version 20.2.1 is available.\n",
      "You should consider upgrading via the 'pip install --upgrade pip' command.\n"
     ]
    }
   ],
   "source": [
    "%%bash\n",
    "\n",
    "source /tmp/test_VE/bin/activate\n",
    "which python\n",
    "python --version\n",
    "ls -l `which python`\n",
    "python -c \"\n",
    "try:\n",
    "    import numpy\n",
    "except:\n",
    "    print('Numpy is not installed')\n",
    "else:\n",
    "    print('Numpy is installed')\"\n",
    "pip install numpy\n",
    "python -c \"\n",
    "try:\n",
    "    import numpy\n",
    "except:\n",
    "    print('Numpy is not installed')\n",
    "else:\n",
    "    print('Numpy is installed')\"\n",
    "deactivate\n",
    "which python\n",
    "python --version\n",
    "python -c \"\n",
    "try:\n",
    "    import numpy\n",
    "except:\n",
    "    print('Numpy is not installed')\n",
    "else:\n",
    "    print('Numpy is installed')\"\n",
    "rm -rf /tmp/test_VE"
   ]
  },
  {
   "cell_type": "markdown",
   "metadata": {
    "colab_type": "text",
    "id": "_QNC9eCu_Vva"
   },
   "source": [
    "<a id='pyenv'></a>\n",
    "## Simple Python Version Management: [`pyenv`](https://github.com/pyenv/pyenv)\n",
    "\n",
    "`venv` is useful if the version of Python installed in your system matches your needs. Howerver, when this does not happen, we can use a more sofisticated tool: `pyenv`. Basically, `pyenv` [allows](https://realpython.com/intro-to-pyenv/#what-about-a-package-manager) us to install multiple versions of Python in your user space, and specify the exact Python version you want in any moment."
   ]
  },
  {
   "cell_type": "markdown",
   "metadata": {
    "colab_type": "text",
    "id": "y2docggz_Vva"
   },
   "source": [
    "<a id='pyenv-install'></a>\n",
    "### Install (in all Unixes, included OSX)"
   ]
  },
  {
   "cell_type": "markdown",
   "metadata": {
    "colab_type": "text",
    "id": "y2docggz_Vva"
   },
   "source": [
    "#### 1. Run [`pyenv-installer`](https://github.com/pyenv/pyenv-installer)\n",
    "```\n",
    "curl https://pyenv.run | bash\n",
    "```\n",
    "\n",
    "This has created the directory `$HOME/.pyenv`."
   ]
  },
  {
   "cell_type": "markdown",
   "metadata": {},
   "source": [
    "#### 2. Add the following ~/.bashrc\n",
    "```\n",
    "export PATH=\"$HOME/.pyenv/bin:$PATH\"\n",
    "eval \"$(pyenv init -)\"\n",
    "eval \"$(pyenv virtualenv-init -)\"\n",
    "```"
   ]
  },
  {
   "cell_type": "markdown",
   "metadata": {
    "colab_type": "text",
    "id": "PiroTCUT_Vvb"
   },
   "source": [
    "#### 3. Restart your shell\n",
    "\n",
    "Run:\n",
    "\n",
    "```\n",
    "exec \"$SHELL\"\n",
    "```\n",
    "\n",
    "or just restart your terminal."
   ]
  },
  {
   "cell_type": "markdown",
   "metadata": {
    "colab_type": "text",
    "id": "qDOvRU50_Vvc"
   },
   "source": [
    "### Uninstall\n",
    "Simply, remove the lines added to the configuration file and run:\n",
    "```\n",
    "rm -rf ~/.pyenv\n",
    "```"
   ]
  },
  {
   "cell_type": "markdown",
   "metadata": {},
   "source": [
    "### Listing `pyenv` commands\n",
    "```\n",
    "pyenv commands\n",
    "```"
   ]
  },
  {
   "cell_type": "markdown",
   "metadata": {},
   "source": [
    "### Getting help\n",
    "```\n",
    "pyenv shell --help\n",
    "```"
   ]
  },
  {
   "cell_type": "markdown",
   "metadata": {},
   "source": [
    "### Update the list of available Python versions\n",
    "```\n",
    "pyenv update\n",
    "```"
   ]
  },
  {
   "cell_type": "markdown",
   "metadata": {
    "colab_type": "text",
    "id": "sS_tLJ5j_Vvb"
   },
   "source": [
    "### List available Python versions\n",
    "```\n",
    "pyenv install --list\n",
    "```\n",
    "\n",
    "Remember that in fact, Python is specification of a computer language. This list provides the different implementations avaiable thought `pyenv`. We can chose between:\n",
    "\n",
    "1. [`CPython`](https://github.com/python/cpython): the open-source reference implementation, writen in C and Python. Notice that CPython's versions are listed with the version number (without the `cpython` prefix). CPython defines the Python language specification.\n",
    "2. [`ActivePython`](https://www.activestate.com/products/python/): a commercially supported Python for data science and machine learning.\n",
    "3. [`Anaconda`](https://www.anaconda.com/): a commercial Python implementation specialized in scientific computation.\n",
    "4. [`IronPython`](https://ironpython.net/): an open-source implementation integrated with the .NET Framework.\n",
    "5. [`Jython`](https://www.jython.org/): a Java-based implementation of Python that translates Python code to Java bytecode which is executed by the Java Virtual Machine.\n",
    "6. [`MicroPython`](https://micropython.org/): an implementation of Python for the PyBoard.\n",
    "7. [`Miniconda`](https://docs.conda.io/en/latest/miniconda.html): the minimal expression of Anaconda.\n",
    "8. [`PyPy`](https://www.pypy.org/): a faster (compared to CPython) implementation of Python based on the JIT (Just-In-Time) tecnology.\n",
    "9. [`Stackless-Python`](https://github.com/stackless-dev/stackless/wiki): an extended version of CPython that allows to create *Microthreads* (also called *Tasklets*), a lighter thread than the created by the OS."
   ]
  },
  {
   "cell_type": "markdown",
   "metadata": {
    "colab_type": "text",
    "id": "FvcvHnwl_Vvc"
   },
   "source": [
    "### Install Python\n",
    "\n",
    "See the [oficial docs](https://devguide.python.org/setup).\n",
    "\n",
    "#### 1. Prerequisites\n",
    "\n",
    "##### Debians\n",
    "\n",
    "See [Common build problems](https://github.com/pyenv/pyenv/wiki/Common-build-problems) if you are unable to install an environment.\n",
    "\n",
    "Moreover, in order to have `tkinter` graphical interface avaiable, the `tk-dev` Linux package should have been installed.\n",
    "\n",
    "```\n",
    "sudo apt install tk-dev\n",
    "```\n",
    "\n",
    "##### OSX\n",
    "\n",
    "TODO\n",
    "\n",
    "##### Arch Linux\n",
    "\n",
    "```\n",
    "pacman -S gcc make\n",
    "```\n",
    "\n",
    "\n",
    "#### 2. Download and compile\n",
    "\n",
    "```\n",
    "pyenv install -v 3.8.5\n",
    "```\n",
    "\n",
    "This will take a while (Python has to be download and compiled)."
   ]
  },
  {
   "cell_type": "markdown",
   "metadata": {},
   "source": [
    "### Uninstall\n",
    "Run:\n",
    "```\n",
    "pyenv uninstall 3.8.5\n",
    "```\n",
    "or alternatively:\n",
    "```\n",
    "rm -rf ~/.pyenv/versions/3.8.5\n",
    "```\n"
   ]
  },
  {
   "cell_type": "markdown",
   "metadata": {
    "colab_type": "text",
    "id": "AbTFNmRI_Vvc"
   },
   "source": [
    "<a id='pyenv-versions'></a>\n",
    "### Lists available Python versions\n",
    "```\n",
    "pyenv versions\n",
    "```\n",
    "The `*` indicates the Python version active currently."
   ]
  },
  {
   "cell_type": "markdown",
   "metadata": {},
   "source": [
    "### Get the path to a tool provided by `pyenv`\n",
    "```\n",
    "pyenv which <executable>\n",
    "```"
   ]
  },
  {
   "cell_type": "markdown",
   "metadata": {},
   "source": [
    "### Selecting the default Python version(s)\n",
    "```\n",
    "pyenv global <version1> [<version2>] ...\n",
    "```\n",
    "Set by `$HOME/.pyenv/version` (see command [versions](#pyenv-versions))."
   ]
  },
  {
   "cell_type": "markdown",
   "metadata": {},
   "source": [
    "### Selecting one or more Python versions for a project\n",
    "```\n",
    "pyenv local <version1> [<version2>]\n",
    "```\n",
    "Set by `$HOME/.pyenv/.python-version`. The local preference overrides the global one."
   ]
  },
  {
   "cell_type": "markdown",
   "metadata": {},
   "source": [
    "### Selecting temporaly a Python version\n",
    "```\n",
    "pyenv shell <version>\n",
    "```\n",
    "Set by `PYENV_VERSION` environment variable. This Python version will be used while the current shell is alive. The shell preference overrides the local one."
   ]
  },
  {
   "cell_type": "markdown",
   "metadata": {
    "colab_type": "text",
    "id": "jQiC5bxc_Vve"
   },
   "source": [
    "### Displays the currently active Python version\n",
    "```\n",
    "pyenv version\n",
    "```"
   ]
  },
  {
   "cell_type": "markdown",
   "metadata": {},
   "source": [
    "### Example"
   ]
  },
  {
   "cell_type": "markdown",
   "metadata": {},
   "source": [
    "In this example a version of Python is installed,  Be sure that `pyenv` has been installed (see [`pyenv` install](#pyenv-install)) before you run this notebook."
   ]
  },
  {
   "cell_type": "code",
   "execution_count": 1,
   "metadata": {},
   "outputs": [
    {
     "data": {
      "text/plain": [
       "'/home/vruiz/.local/bin:/usr/local/bin:/usr/bin:/bin:/usr/local/sbin:/usr/bin/site_perl:/usr/bin/vendor_perl:/usr/bin/core_perl:/var/lib/snapd/snap/bin:/var/lib/snapd/snap/bin/:/home/vruiz/Kakadu/KDU7A2_Demo_Apps_for_Ubuntu-x86-64_170827/:/home/vruiz/.gem/ruby/2.7.0/bin:/var/lib/snapd/snap/bin/:/home/vruiz/Kakadu/KDU7A2_Demo_Apps_for_Ubuntu-x86-64_170827/:/home/vruiz/.gem/ruby/2.7.0/bin'"
      ]
     },
     "execution_count": 1,
     "metadata": {},
     "output_type": "execute_result"
    }
   ],
   "source": [
    "x=%env PATH\n",
    "x"
   ]
  },
  {
   "cell_type": "code",
   "execution_count": 4,
   "metadata": {},
   "outputs": [
    {
     "name": "stdout",
     "output_type": "stream",
     "text": [
      "x's value is /home/vruiz/.local/bin:/usr/local/bin:/usr/bin:/bin:/usr/local/sbin:/usr/bin/site_perl:/usr/bin/vendor_perl:/usr/bin/core_perl:/var/lib/snapd/snap/bin:/var/lib/snapd/snap/bin/:/home/vruiz/Kakadu/KDU7A2_Demo_Apps_for_Ubuntu-x86-64_170827/:/home/vruiz/.gem/ruby/2.7.0/bin:/var/lib/snapd/snap/bin/:/home/vruiz/Kakadu/KDU7A2_Demo_Apps_for_Ubuntu-x86-64_170827/:/home/vruiz/.gem/ruby/2.7.0/bin\n"
     ]
    }
   ],
   "source": [
    "%%script env my_bash_variable=\"$x\" bash\n",
    "echo x\\'s value is $my_bash_variable"
   ]
  },
  {
   "cell_type": "code",
   "execution_count": 2,
   "metadata": {},
   "outputs": [
    {
     "name": "stdout",
     "output_type": "stream",
     "text": [
      "/home/vruiz/.pyenv/bin:/home/vruiz/.local/bin:/usr/local/bin:/usr/bin:/bin:/usr/local/sbin:/usr/bin/site_perl:/usr/bin/vendor_perl:/usr/bin/core_perl:/var/lib/snapd/snap/bin:/var/lib/snapd/snap/bin/:/home/vruiz/Kakadu/KDU7A2_Demo_Apps_for_Ubuntu-x86-64_170827/:/home/vruiz/.gem/ruby/2.7.0/bin:/var/lib/snapd/snap/bin/:/home/vruiz/Kakadu/KDU7A2_Demo_Apps_for_Ubuntu-x86-64_170827/:/home/vruiz/.gem/ruby/2.7.0/bin\n"
     ]
    }
   ],
   "source": [
    "x = \"/home/vruiz/.pyenv/bin:\" + x\n",
    "print(x)"
   ]
  },
  {
   "cell_type": "code",
   "execution_count": 4,
   "metadata": {},
   "outputs": [
    {
     "name": "stdout",
     "output_type": "stream",
     "text": [
      "x's value is /home/vruiz/.pyenv/bin:/home/vruiz/.local/bin:/usr/local/bin:/usr/bin:/bin:/usr/local/sbin:/usr/bin/site_perl:/usr/bin/vendor_perl:/usr/bin/core_perl:/var/lib/snapd/snap/bin:/var/lib/snapd/snap/bin/:/home/vruiz/Kakadu/KDU7A2_Demo_Apps_for_Ubuntu-x86-64_170827/:/home/vruiz/.gem/ruby/2.7.0/bin:/var/lib/snapd/snap/bin/:/home/vruiz/Kakadu/KDU7A2_Demo_Apps_for_Ubuntu-x86-64_170827/:/home/vruiz/.gem/ruby/2.7.0/bin\n"
     ]
    }
   ],
   "source": [
    "%%script env PATH=\"$x\" bash\n",
    "echo x\\'s value is $PATH"
   ]
  },
  {
   "cell_type": "code",
   "execution_count": 1,
   "metadata": {},
   "outputs": [
    {
     "data": {
      "text/plain": [
       "'/home/vruiz/.local/bin:/usr/local/bin:/usr/bin:/bin:/usr/local/sbin:/usr/bin/site_perl:/usr/bin/vendor_perl:/usr/bin/core_perl:/var/lib/snapd/snap/bin:/var/lib/snapd/snap/bin/:/home/vruiz/Kakadu/KDU7A2_Demo_Apps_for_Ubuntu-x86-64_170827/:/home/vruiz/.gem/ruby/2.7.0/bin:/var/lib/snapd/snap/bin/:/home/vruiz/Kakadu/KDU7A2_Demo_Apps_for_Ubuntu-x86-64_170827/:/home/vruiz/.gem/ruby/2.7.0/bin'"
      ]
     },
     "execution_count": 1,
     "metadata": {},
     "output_type": "execute_result"
    }
   ],
   "source": [
    "%env PATH"
   ]
  },
  {
   "cell_type": "code",
   "execution_count": 1,
   "metadata": {},
   "outputs": [
    {
     "name": "stdout",
     "output_type": "stream",
     "text": [
      "env: PATH=\"/home/vruiz/.pyenv/bin\":%env PATH\n"
     ]
    }
   ],
   "source": [
    "%env PATH=\"/home/vruiz/.pyenv/bin\":%env PATH"
   ]
  },
  {
   "cell_type": "code",
   "execution_count": 6,
   "metadata": {},
   "outputs": [
    {
     "data": {
      "text/plain": [
       "{'SHELL': '/bin/bash',\n",
       " 'WINDOWID': '19243120',\n",
       " 'COLORTERM': 'truecolor',\n",
       " 'XDG_SESSION_PATH': '/org/freedesktop/DisplayManager/Session0',\n",
       " 'I3SOCK': '/run/user/1000/i3/ipc-socket.1030',\n",
       " 'LC_ADDRESS': 'es_ES.UTF-8',\n",
       " 'LC_NAME': 'es_ES.UTF-8',\n",
       " 'SSH_AUTH_SOCK': '/tmp/ssh-M2B4OCLy75CV/agent.141221',\n",
       " 'DESKTOP_SESSION': 'i3',\n",
       " 'LC_MONETARY': 'es_ES.UTF-8',\n",
       " 'SSH_AGENT_PID': '141222',\n",
       " 'EDITOR': '/usr/bin/nano',\n",
       " 'GTK_MODULES': 'canberra-gtk-module',\n",
       " 'XDG_SEAT': 'seat0',\n",
       " 'PWD': '/home/vruiz',\n",
       " 'LOGNAME': 'vruiz',\n",
       " 'XDG_SESSION_DESKTOP': 'i3',\n",
       " 'QT_QPA_PLATFORMTHEME': 'qt5ct',\n",
       " 'XDG_SESSION_TYPE': 'x11',\n",
       " 'XAUTHORITY': '/home/vruiz/.Xauthority',\n",
       " 'XDG_GREETER_DATA_DIR': '/var/lib/lightdm-data/vruiz',\n",
       " 'GDM_LANG': 'es_ES.utf8',\n",
       " 'GTK2_RC_FILES': '/home/vruiz/.gtkrc-2.0',\n",
       " 'HOME': '/home/vruiz',\n",
       " 'LC_PAPER': 'es_ES.UTF-8',\n",
       " 'LANG': 'es_ES.utf8',\n",
       " 'LS_COLORS': 'rs=0:di=01;34:ln=01;36:mh=00:pi=40;33:so=01;35:do=01;35:bd=40;33;01:cd=40;33;01:or=01;05;37;41:mi=01;05;37;41:su=37;41:sg=30;43:ca=30;41:tw=30;42:ow=34;42:st=37;44:ex=01;32:*.tar=01;31:*.tgz=01;31:*.arc=01;31:*.arj=01;31:*.taz=01;31:*.lha=01;31:*.lz4=01;31:*.lzh=01;31:*.lzma=01;31:*.tlz=01;31:*.txz=01;31:*.tzo=01;31:*.t7z=01;31:*.zip=01;31:*.z=01;31:*.Z=01;31:*.dz=01;31:*.gz=01;31:*.lrz=01;31:*.lz=01;31:*.lzo=01;31:*.xz=01;31:*.bz2=01;31:*.bz=01;31:*.tbz=01;31:*.tbz2=01;31:*.tz=01;31:*.deb=01;31:*.rpm=01;31:*.jar=01;31:*.war=01;31:*.ear=01;31:*.sar=01;31:*.rar=01;31:*.alz=01;31:*.ace=01;31:*.zoo=01;31:*.cpio=01;31:*.7z=01;31:*.rz=01;31:*.cab=01;31:*.jpg=01;35:*.jpeg=01;35:*.gif=01;35:*.bmp=01;35:*.pbm=01;35:*.pgm=01;35:*.ppm=01;35:*.tga=01;35:*.xbm=01;35:*.xpm=01;35:*.tif=01;35:*.tiff=01;35:*.png=01;35:*.svg=01;35:*.svgz=01;35:*.mng=01;35:*.pcx=01;35:*.mov=01;35:*.mpg=01;35:*.mpeg=01;35:*.m2v=01;35:*.mkv=01;35:*.webm=01;35:*.ogm=01;35:*.mp4=01;35:*.m4v=01;35:*.mp4v=01;35:*.vob=01;35:*.qt=01;35:*.nuv=01;35:*.wmv=01;35:*.asf=01;35:*.rm=01;35:*.rmvb=01;35:*.flc=01;35:*.avi=01;35:*.fli=01;35:*.flv=01;35:*.gl=01;35:*.dl=01;35:*.xcf=01;35:*.xwd=01;35:*.yuv=01;35:*.cgm=01;35:*.emf=01;35:*.axv=01;35:*.anx=01;35:*.ogv=01;35:*.ogx=01;35:*.pdf=00;32:*.ps=00;32:*.txt=00;32:*.patch=00;32:*.diff=00;32:*.log=00;32:*.tex=00;32:*.doc=00;32:*.aac=00;36:*.au=00;36:*.flac=00;36:*.m4a=00;36:*.mid=00;36:*.midi=00;36:*.mka=00;36:*.mp3=00;36:*.mpc=00;36:*.ogg=00;36:*.ra=00;36:*.wav=00;36:*.axa=00;36:*.oga=00;36:*.spx=00;36:*.xspf=00;36:',\n",
       " 'XDG_CURRENT_DESKTOP': 'i3',\n",
       " 'VTE_VERSION': '6003',\n",
       " 'XDG_SEAT_PATH': '/org/freedesktop/DisplayManager/Seat0',\n",
       " 'XDG_SESSION_CLASS': 'user',\n",
       " 'LC_IDENTIFICATION': 'es_ES.UTF-8',\n",
       " 'TERM': 'xterm-color',\n",
       " 'USER': 'vruiz',\n",
       " 'MAKEFILE_TEMPLATES': '/home/vruiz/Makefile_templates',\n",
       " 'VISUAL': 'emacs',\n",
       " 'DISPLAY': ':0',\n",
       " 'SHLVL': '1',\n",
       " 'LC_TELEPHONE': 'es_ES.UTF-8',\n",
       " 'LC_MEASUREMENT': 'es_ES.UTF-8',\n",
       " 'XDG_VTNR': '7',\n",
       " 'XDG_SESSION_ID': '1',\n",
       " 'LD_LIBRARY_PATH': '/home/vruiz/Kakadu/KDU7A2_Demo_Apps_for_Ubuntu-x86-64_170827',\n",
       " 'XDG_RUNTIME_DIR': '/run/user/1000',\n",
       " 'PS1': '\\\\[\\\\033[01;32m\\\\][\\\\u@\\\\h\\\\[\\\\033[01;37m\\\\] \\\\W\\\\[\\\\033[01;32m\\\\]]$(parse_git_branch)\\\\[\\\\033[00m\\\\]$ ',\n",
       " 'LC_TIME': 'es_ES.UTF-8',\n",
       " 'QT_AUTO_SCREEN_SCALE_FACTOR': '0',\n",
       " 'XDG_DATA_DIRS': '/usr/local/share:/usr/share:/var/lib/snapd/desktop',\n",
       " 'PATH': '/home/vruiz/.local/bin:/usr/local/bin:/usr/bin:/bin:/usr/local/sbin:/usr/bin/site_perl:/usr/bin/vendor_perl:/usr/bin/core_perl:/var/lib/snapd/snap/bin:/var/lib/snapd/snap/bin/:/home/vruiz/Kakadu/KDU7A2_Demo_Apps_for_Ubuntu-x86-64_170827/:/home/vruiz/.gem/ruby/2.7.0/bin:/var/lib/snapd/snap/bin/:/home/vruiz/Kakadu/KDU7A2_Demo_Apps_for_Ubuntu-x86-64_170827/:/home/vruiz/.gem/ruby/2.7.0/bin',\n",
       " 'GDMSESSION': 'i3',\n",
       " 'P2PSP_WP': '/home/vruiz/P2PSP/white_paper',\n",
       " 'DBUS_SESSION_BUS_ADDRESS': 'unix:path=/run/user/1000/bus',\n",
       " 'BIBS': '/home/vruiz/bibs',\n",
       " 'MAIL': '/var/spool/mail/vruiz',\n",
       " 'LATEX_TEMPLATES': '/home/vruiz/LaTeX_templates',\n",
       " 'LC_NUMERIC': 'es_ES.UTF-8',\n",
       " '_': '/home/vruiz/.local/bin/jupyter',\n",
       " 'KERNEL_LAUNCH_TIMEOUT': '40',\n",
       " 'JPY_PARENT_PID': '2292960',\n",
       " 'CLICOLOR': '1',\n",
       " 'PAGER': 'cat',\n",
       " 'GIT_PAGER': 'cat',\n",
       " 'MPLBACKEND': 'module://ipykernel.pylab.backend_inline',\n",
       " 'prueba': '$PATH'}"
      ]
     },
     "execution_count": 6,
     "metadata": {},
     "output_type": "execute_result"
    }
   ],
   "source": [
    "%env"
   ]
  },
  {
   "cell_type": "code",
   "execution_count": null,
   "metadata": {},
   "outputs": [],
   "source": [
    "import os\n",
    "os.environ['PATH'] = foo"
   ]
  },
  {
   "cell_type": "code",
   "execution_count": 4,
   "metadata": {},
   "outputs": [
    {
     "name": "stdout",
     "output_type": "stream",
     "text": [
      "env: prueba=$PATH\n"
     ]
    }
   ],
   "source": [
    "%env prueba=$PATH"
   ]
  },
  {
   "cell_type": "code",
   "execution_count": 5,
   "metadata": {},
   "outputs": [
    {
     "name": "stdout",
     "output_type": "stream",
     "text": [
      "$PATH\n"
     ]
    }
   ],
   "source": [
    "%%bash\n",
    "\n",
    "echo $prueba"
   ]
  },
  {
   "cell_type": "code",
   "execution_count": 2,
   "metadata": {},
   "outputs": [
    {
     "name": "stderr",
     "output_type": "stream",
     "text": [
      "Downloading Python-3.8.5.tar.xz...\n",
      "-> https://www.python.org/ftp/python/3.8.5/Python-3.8.5.tar.xz\n",
      "Installing Python-3.8.5...\n",
      "Installed Python-3.8.5 to /home/vruiz/.pyenv/versions/3.8.5\n",
      "\n"
     ]
    }
   ],
   "source": [
    "%%bash\n",
    "\n",
    "# These lines should be in the .bashrc\n",
    "export PATH=\"/home/vruiz/.pyenv/bin:$PATH\"\n",
    "eval \"$(pyenv init -)\"\n",
    "#eval \"$(pyenv virtualenv-init -)\"\n",
    "\n",
    "pyenv install 3.8.5"
   ]
  },
  {
   "cell_type": "code",
   "execution_count": 27,
   "metadata": {},
   "outputs": [
    {
     "name": "stdout",
     "output_type": "stream",
     "text": [
      "Couldn't find program: 'bash'\n"
     ]
    }
   ],
   "source": [
    "%%bash\n",
    "\n",
    "echo $PATH"
   ]
  },
  {
   "cell_type": "code",
   "execution_count": 24,
   "metadata": {},
   "outputs": [
    {
     "name": "stderr",
     "output_type": "stream",
     "text": [
      "bash: línea 7: pyenv: orden no encontrada\n"
     ]
    },
    {
     "ename": "CalledProcessError",
     "evalue": "Command 'b'\\n# These lines should be in the .bashrc\\n#export PATH=\"/home/vruiz/.pyenv/bin:$PATH\"\\n#eval \"$(pyenv init -)\"\\n#eval \"$(pyenv virtualenv-init -)\"\\n\\npyenv versions\\n'' returned non-zero exit status 127.",
     "output_type": "error",
     "traceback": [
      "\u001b[0;31m---------------------------------------------------------------------------\u001b[0m",
      "\u001b[0;31mCalledProcessError\u001b[0m                        Traceback (most recent call last)",
      "\u001b[0;32m<ipython-input-24-3ac529d966d3>\u001b[0m in \u001b[0;36m<module>\u001b[0;34m\u001b[0m\n\u001b[0;32m----> 1\u001b[0;31m \u001b[0mget_ipython\u001b[0m\u001b[0;34m(\u001b[0m\u001b[0;34m)\u001b[0m\u001b[0;34m.\u001b[0m\u001b[0mrun_cell_magic\u001b[0m\u001b[0;34m(\u001b[0m\u001b[0;34m'bash'\u001b[0m\u001b[0;34m,\u001b[0m \u001b[0;34m''\u001b[0m\u001b[0;34m,\u001b[0m \u001b[0;34m'\\n# These lines should be in the .bashrc\\n#export PATH=\"/home/vruiz/.pyenv/bin:$PATH\"\\n#eval \"$(pyenv init -)\"\\n#eval \"$(pyenv virtualenv-init -)\"\\n\\npyenv versions\\n'\u001b[0m\u001b[0;34m)\u001b[0m\u001b[0;34m\u001b[0m\u001b[0;34m\u001b[0m\u001b[0m\n\u001b[0m",
      "\u001b[0;32m~/.local/lib/python3.8/site-packages/IPython/core/interactiveshell.py\u001b[0m in \u001b[0;36mrun_cell_magic\u001b[0;34m(self, magic_name, line, cell)\u001b[0m\n\u001b[1;32m   2350\u001b[0m             \u001b[0;32mwith\u001b[0m \u001b[0mself\u001b[0m\u001b[0;34m.\u001b[0m\u001b[0mbuiltin_trap\u001b[0m\u001b[0;34m:\u001b[0m\u001b[0;34m\u001b[0m\u001b[0;34m\u001b[0m\u001b[0m\n\u001b[1;32m   2351\u001b[0m                 \u001b[0margs\u001b[0m \u001b[0;34m=\u001b[0m \u001b[0;34m(\u001b[0m\u001b[0mmagic_arg_s\u001b[0m\u001b[0;34m,\u001b[0m \u001b[0mcell\u001b[0m\u001b[0;34m)\u001b[0m\u001b[0;34m\u001b[0m\u001b[0;34m\u001b[0m\u001b[0m\n\u001b[0;32m-> 2352\u001b[0;31m                 \u001b[0mresult\u001b[0m \u001b[0;34m=\u001b[0m \u001b[0mfn\u001b[0m\u001b[0;34m(\u001b[0m\u001b[0;34m*\u001b[0m\u001b[0margs\u001b[0m\u001b[0;34m,\u001b[0m \u001b[0;34m**\u001b[0m\u001b[0mkwargs\u001b[0m\u001b[0;34m)\u001b[0m\u001b[0;34m\u001b[0m\u001b[0;34m\u001b[0m\u001b[0m\n\u001b[0m\u001b[1;32m   2353\u001b[0m             \u001b[0;32mreturn\u001b[0m \u001b[0mresult\u001b[0m\u001b[0;34m\u001b[0m\u001b[0;34m\u001b[0m\u001b[0m\n\u001b[1;32m   2354\u001b[0m \u001b[0;34m\u001b[0m\u001b[0m\n",
      "\u001b[0;32m~/.local/lib/python3.8/site-packages/IPython/core/magics/script.py\u001b[0m in \u001b[0;36mnamed_script_magic\u001b[0;34m(line, cell)\u001b[0m\n\u001b[1;32m    140\u001b[0m             \u001b[0;32melse\u001b[0m\u001b[0;34m:\u001b[0m\u001b[0;34m\u001b[0m\u001b[0;34m\u001b[0m\u001b[0m\n\u001b[1;32m    141\u001b[0m                 \u001b[0mline\u001b[0m \u001b[0;34m=\u001b[0m \u001b[0mscript\u001b[0m\u001b[0;34m\u001b[0m\u001b[0;34m\u001b[0m\u001b[0m\n\u001b[0;32m--> 142\u001b[0;31m             \u001b[0;32mreturn\u001b[0m \u001b[0mself\u001b[0m\u001b[0;34m.\u001b[0m\u001b[0mshebang\u001b[0m\u001b[0;34m(\u001b[0m\u001b[0mline\u001b[0m\u001b[0;34m,\u001b[0m \u001b[0mcell\u001b[0m\u001b[0;34m)\u001b[0m\u001b[0;34m\u001b[0m\u001b[0;34m\u001b[0m\u001b[0m\n\u001b[0m\u001b[1;32m    143\u001b[0m \u001b[0;34m\u001b[0m\u001b[0m\n\u001b[1;32m    144\u001b[0m         \u001b[0;31m# write a basic docstring:\u001b[0m\u001b[0;34m\u001b[0m\u001b[0;34m\u001b[0m\u001b[0;34m\u001b[0m\u001b[0m\n",
      "\u001b[0;32m</home/vruiz/.local/lib/python3.8/site-packages/decorator.py:decorator-gen-110>\u001b[0m in \u001b[0;36mshebang\u001b[0;34m(self, line, cell)\u001b[0m\n",
      "\u001b[0;32m~/.local/lib/python3.8/site-packages/IPython/core/magic.py\u001b[0m in \u001b[0;36m<lambda>\u001b[0;34m(f, *a, **k)\u001b[0m\n\u001b[1;32m    185\u001b[0m     \u001b[0;31m# but it's overkill for just that one bit of state.\u001b[0m\u001b[0;34m\u001b[0m\u001b[0;34m\u001b[0m\u001b[0;34m\u001b[0m\u001b[0m\n\u001b[1;32m    186\u001b[0m     \u001b[0;32mdef\u001b[0m \u001b[0mmagic_deco\u001b[0m\u001b[0;34m(\u001b[0m\u001b[0marg\u001b[0m\u001b[0;34m)\u001b[0m\u001b[0;34m:\u001b[0m\u001b[0;34m\u001b[0m\u001b[0;34m\u001b[0m\u001b[0m\n\u001b[0;32m--> 187\u001b[0;31m         \u001b[0mcall\u001b[0m \u001b[0;34m=\u001b[0m \u001b[0;32mlambda\u001b[0m \u001b[0mf\u001b[0m\u001b[0;34m,\u001b[0m \u001b[0;34m*\u001b[0m\u001b[0ma\u001b[0m\u001b[0;34m,\u001b[0m \u001b[0;34m**\u001b[0m\u001b[0mk\u001b[0m\u001b[0;34m:\u001b[0m \u001b[0mf\u001b[0m\u001b[0;34m(\u001b[0m\u001b[0;34m*\u001b[0m\u001b[0ma\u001b[0m\u001b[0;34m,\u001b[0m \u001b[0;34m**\u001b[0m\u001b[0mk\u001b[0m\u001b[0;34m)\u001b[0m\u001b[0;34m\u001b[0m\u001b[0;34m\u001b[0m\u001b[0m\n\u001b[0m\u001b[1;32m    188\u001b[0m \u001b[0;34m\u001b[0m\u001b[0m\n\u001b[1;32m    189\u001b[0m         \u001b[0;32mif\u001b[0m \u001b[0mcallable\u001b[0m\u001b[0;34m(\u001b[0m\u001b[0marg\u001b[0m\u001b[0;34m)\u001b[0m\u001b[0;34m:\u001b[0m\u001b[0;34m\u001b[0m\u001b[0;34m\u001b[0m\u001b[0m\n",
      "\u001b[0;32m~/.local/lib/python3.8/site-packages/IPython/core/magics/script.py\u001b[0m in \u001b[0;36mshebang\u001b[0;34m(self, line, cell)\u001b[0m\n\u001b[1;32m    243\u001b[0m             \u001b[0msys\u001b[0m\u001b[0;34m.\u001b[0m\u001b[0mstderr\u001b[0m\u001b[0;34m.\u001b[0m\u001b[0mflush\u001b[0m\u001b[0;34m(\u001b[0m\u001b[0;34m)\u001b[0m\u001b[0;34m\u001b[0m\u001b[0;34m\u001b[0m\u001b[0m\n\u001b[1;32m    244\u001b[0m         \u001b[0;32mif\u001b[0m \u001b[0margs\u001b[0m\u001b[0;34m.\u001b[0m\u001b[0mraise_error\u001b[0m \u001b[0;32mand\u001b[0m \u001b[0mp\u001b[0m\u001b[0;34m.\u001b[0m\u001b[0mreturncode\u001b[0m\u001b[0;34m!=\u001b[0m\u001b[0;36m0\u001b[0m\u001b[0;34m:\u001b[0m\u001b[0;34m\u001b[0m\u001b[0;34m\u001b[0m\u001b[0m\n\u001b[0;32m--> 245\u001b[0;31m             \u001b[0;32mraise\u001b[0m \u001b[0mCalledProcessError\u001b[0m\u001b[0;34m(\u001b[0m\u001b[0mp\u001b[0m\u001b[0;34m.\u001b[0m\u001b[0mreturncode\u001b[0m\u001b[0;34m,\u001b[0m \u001b[0mcell\u001b[0m\u001b[0;34m,\u001b[0m \u001b[0moutput\u001b[0m\u001b[0;34m=\u001b[0m\u001b[0mout\u001b[0m\u001b[0;34m,\u001b[0m \u001b[0mstderr\u001b[0m\u001b[0;34m=\u001b[0m\u001b[0merr\u001b[0m\u001b[0;34m)\u001b[0m\u001b[0;34m\u001b[0m\u001b[0;34m\u001b[0m\u001b[0m\n\u001b[0m\u001b[1;32m    246\u001b[0m \u001b[0;34m\u001b[0m\u001b[0m\n\u001b[1;32m    247\u001b[0m     \u001b[0;32mdef\u001b[0m \u001b[0m_run_script\u001b[0m\u001b[0;34m(\u001b[0m\u001b[0mself\u001b[0m\u001b[0;34m,\u001b[0m \u001b[0mp\u001b[0m\u001b[0;34m,\u001b[0m \u001b[0mcell\u001b[0m\u001b[0;34m,\u001b[0m \u001b[0mto_close\u001b[0m\u001b[0;34m)\u001b[0m\u001b[0;34m:\u001b[0m\u001b[0;34m\u001b[0m\u001b[0;34m\u001b[0m\u001b[0m\n",
      "\u001b[0;31mCalledProcessError\u001b[0m: Command 'b'\\n# These lines should be in the .bashrc\\n#export PATH=\"/home/vruiz/.pyenv/bin:$PATH\"\\n#eval \"$(pyenv init -)\"\\n#eval \"$(pyenv virtualenv-init -)\"\\n\\npyenv versions\\n'' returned non-zero exit status 127."
     ]
    }
   ],
   "source": [
    "%%bash\n",
    "\n",
    "# These lines should be in the .bashrc\n",
    "#export PATH=\"/home/vruiz/.pyenv/bin:$PATH\"\n",
    "#eval \"$(pyenv init -)\"\n",
    "#eval \"$(pyenv virtualenv-init -)\"\n",
    "\n",
    "pyenv versions"
   ]
  },
  {
   "cell_type": "code",
   "execution_count": 8,
   "metadata": {},
   "outputs": [
    {
     "name": "stdout",
     "output_type": "stream",
     "text": [
      "/usr/bin/python\n"
     ]
    }
   ],
   "source": [
    "%%bash\n",
    "\n",
    "# These lines should be in the .bashrc\n",
    "export PATH=\"/home/vruiz/.pyenv/bin:$PATH\"\n",
    "eval \"$(pyenv init -)\"\n",
    "#eval \"$(pyenv virtualenv-init -)\"\n",
    "\n",
    "pyenv which python"
   ]
  },
  {
   "cell_type": "code",
   "execution_count": 9,
   "metadata": {},
   "outputs": [],
   "source": [
    "%%bash\n",
    "\n",
    "# These lines should be in the .bashrc\n",
    "export PATH=\"/home/vruiz/.pyenv/bin:$PATH\"\n",
    "eval \"$(pyenv init -)\"\n",
    "#eval \"$(pyenv virtualenv-init -)\"\n",
    "\n",
    "pyenv global 3.8.5"
   ]
  },
  {
   "cell_type": "code",
   "execution_count": 11,
   "metadata": {},
   "outputs": [
    {
     "name": "stdout",
     "output_type": "stream",
     "text": [
      "  system\n",
      "* 3.8.5 (set by /home/vruiz/.pyenv/version)\n"
     ]
    }
   ],
   "source": [
    "%%bash\n",
    "\n",
    "# These lines should be in the .bashrc\n",
    "export PATH=\"/home/vruiz/.pyenv/bin:$PATH\"\n",
    "eval \"$(pyenv init -)\"\n",
    "\n",
    "pyenv versions"
   ]
  },
  {
   "cell_type": "code",
   "execution_count": 12,
   "metadata": {},
   "outputs": [
    {
     "name": "stdout",
     "output_type": "stream",
     "text": [
      "/home/vruiz/.pyenv/versions/3.8.5/bin/python\n"
     ]
    }
   ],
   "source": [
    "%%bash\n",
    "\n",
    "# These lines should be in the .bashrc\n",
    "export PATH=\"/home/vruiz/.pyenv/bin:$PATH\"\n",
    "eval \"$(pyenv init -)\"\n",
    "#eval \"$(pyenv virtualenv-init -)\"\n",
    "\n",
    "pyenv which python"
   ]
  },
  {
   "cell_type": "code",
   "execution_count": 16,
   "metadata": {},
   "outputs": [
    {
     "name": "stdout",
     "output_type": "stream",
     "text": [
      "/home/vruiz/.pyenv/shims/python\n"
     ]
    }
   ],
   "source": [
    "%%bash\n",
    "\n",
    "# These lines should be in the .bashrc\n",
    "export PATH=\"/home/vruiz/.pyenv/bin:$PATH\"\n",
    "eval \"$(pyenv init -)\"\n",
    "\n",
    "which python"
   ]
  },
  {
   "cell_type": "code",
   "execution_count": 17,
   "metadata": {},
   "outputs": [
    {
     "name": "stdout",
     "output_type": "stream",
     "text": [
      "Python 3.8.5\n"
     ]
    }
   ],
   "source": [
    "%%bash\n",
    "\n",
    "# These lines should be in the .bashrc\n",
    "export PATH=\"/home/vruiz/.pyenv/bin:$PATH\"\n",
    "eval \"$(pyenv init -)\"\n",
    "\n",
    "python --version"
   ]
  },
  {
   "cell_type": "markdown",
   "metadata": {},
   "source": [
    "### Creating a VE\n",
    "```\n",
    "pyenv virtualenv <Python_version> <VE_name>\n",
    "```\n",
    "VEs are stored in `~/.pyenv/versions/<VE_name>/`."
   ]
  },
  {
   "cell_type": "markdown",
   "metadata": {},
   "source": [
    "### Activating a VE\n",
    "```\n",
    "pyenv activate <VE_name>`\n",
    "```"
   ]
  },
  {
   "cell_type": "markdown",
   "metadata": {},
   "source": [
    "### Deactivating a VE\n",
    "```\n",
    "pyenv deactivate\n",
    "\n"
   ]
  },
  {
   "cell_type": "markdown",
   "metadata": {},
   "source": [
    "### Using `pyenv-virtualenv`\n",
    "`pyenv-virtualenv` automatically activate and desactivate the VE when you *arrive to* and *leave a* Python project that previously has been configured with:\n",
    "```\n",
    "pyenv local <VE_name>\n",
    "```\n",
    "\n",
    "To work with VEs you must run `virtualenv-init`in your shell. You can run it directly from the shell with:\n",
    "```\n",
    "pyenv virtualenv-init\n",
    "```\n",
    "or you can include:\n",
    "```\n",
    "eval \"$(pyenv virtualenv-init -)\"\n",
    "```\n",
    "into the `.bash_profile` file."
   ]
  },
  {
   "cell_type": "markdown",
   "metadata": {
    "colab_type": "text",
    "id": "LHQweL3B_VvY"
   },
   "source": [
    "### A. Using [`venv`](https://docs.python.org/3/library/venv.html#module-venv)"
   ]
  },
  {
   "cell_type": "markdown",
   "metadata": {
    "colab_type": "text",
    "id": "-Fcan-_C_VvA"
   },
   "source": [
    "<a id='System'></a>\n",
    "## 1. System-wide Python installation\n",
    "\n",
    "Python is usually installed in most modern OSs. However, if this is not true in your case, this section can help you."
   ]
  },
  {
   "cell_type": "markdown",
   "metadata": {
    "colab_type": "text",
    "id": "LjQa0ICp_VvB"
   },
   "source": [
    "### MS Windows"
   ]
  },
  {
   "cell_type": "markdown",
   "metadata": {
    "colab_type": "text",
    "id": "vnr7jJlI_VvB"
   },
   "source": [
    "Download Python from [https://www.python.org/downloads/](https://www.python.org/downloads/) ... and remember to select the option \"`Add Python to PATH`\"."
   ]
  },
  {
   "cell_type": "markdown",
   "metadata": {
    "colab_type": "text",
    "id": "eh3V-bty_VvC"
   },
   "source": [
    "### Mac OS X"
   ]
  },
  {
   "cell_type": "markdown",
   "metadata": {
    "colab_type": "text",
    "id": "R3-DmI22_VvH"
   },
   "source": [
    "Install [Homebrew](http://brew.sh/) and run\n",
    "```\n",
    "brew install python3\n",
    "```"
   ]
  },
  {
   "cell_type": "markdown",
   "metadata": {
    "colab_type": "text",
    "id": "lglDPmDJ_VvI"
   },
   "source": [
    "### GNU Debian"
   ]
  },
  {
   "cell_type": "markdown",
   "metadata": {
    "colab_type": "text",
    "id": "NBhmpEIj_VvJ"
   },
   "source": [
    "Run\n",
    "```\n",
    "sudo apt-get update && sudo apt-get install python3\n",
    "```"
   ]
  },
  {
   "cell_type": "markdown",
   "metadata": {
    "colab_type": "text",
    "id": "AM0rdjLm_VvK"
   },
   "source": [
    "### Arch Linux"
   ]
  },
  {
   "cell_type": "markdown",
   "metadata": {
    "colab_type": "text",
    "id": "Eo2KHbKH_VvL"
   },
   "source": [
    "Run\n",
    "```\n",
    "sudo pacman -Sy && sudo pacman -S python\n",
    "```"
   ]
  },
  {
   "cell_type": "markdown",
   "metadata": {
    "colab_type": "text",
    "id": "tt-rb6_U_VvM"
   },
   "source": [
    "<a id='pip'></a>\n",
    "## 2. [`pip`](https://packaging.python.org/tutorials/installing-packages/#use-pip-for-installing): installing Python packages¶\n",
    "\n",
    "`pip` is a command-line tool for accesing to [PyPI - the standard Python's packages repository](https://pypi.python.org/pypi)."
   ]
  },
  {
   "cell_type": "markdown",
   "metadata": {
    "colab_type": "text",
    "id": "lsG2TbVS_VvM"
   },
   "source": [
    "### Get the list of installed packages\n",
    "\n",
    "```\n",
    "pip list\n",
    "pip freeze\n",
    "\n",
    "```"
   ]
  },
  {
   "cell_type": "markdown",
   "metadata": {
    "colab_type": "text",
    "id": "YwtL3YQ0_VvN"
   },
   "source": [
    "### Searching for a package in PyPI\n",
    "```\n",
    "pip search games | grep free\n",
    "```"
   ]
  },
  {
   "cell_type": "markdown",
   "metadata": {
    "colab_type": "text",
    "id": "5vwVtCx8_VvO"
   },
   "source": [
    "### Installing a package\n",
    "```\n",
    "pip install freegames        # System- or environment-wide installation (see below)\n",
    "pip install --user freegames # Local installation (see $PYTHONUSERBASE, if set)\n",
    "pip install Pillow==5.1.0    # Installing a version of a package\n",
    "pip install numpy>=0.2       # Installing a version higher or equal to\n",
    "pip install pandas<0.4       # Installing a version smaller than\n",
    "pip install cv2>=0.2,<0.3    # Using a range of versions\n",
    "```"
   ]
  },
  {
   "cell_type": "markdown",
   "metadata": {
    "colab_type": "text",
    "id": "UnPIBHal_VvP"
   },
   "source": [
    "### Uninstalling a package\n",
    "```\n",
    "pip uninstall freegames\n",
    "```"
   ]
  },
  {
   "cell_type": "markdown",
   "metadata": {
    "colab_type": "text",
    "id": "hxyLn8xz_VvP"
   },
   "source": [
    "### Getting information about an installed package\n",
    "```\n",
    "pip show freegames\n",
    "```"
   ]
  },
  {
   "cell_type": "markdown",
   "metadata": {
    "colab_type": "text",
    "id": "HEH1KMs7_VvQ"
   },
   "source": [
    "### Updating a package\n",
    "```\n",
    "pip install --upgrade freegames\n",
    "```"
   ]
  },
  {
   "cell_type": "markdown",
   "metadata": {
    "colab_type": "text",
    "id": "XxS2-KvS_VvW"
   },
   "source": [
    "### [Upgrading all packages](https://stackoverflow.com/questions/2720014/upgrading-all-packages-with-pip)\n",
    "```\n",
    "pip list --outdated --format=freeze | grep -v '^\\-e' | cut -d = -f 1  | xargs -n1 pip install -U\n",
    "```"
   ]
  },
  {
   "cell_type": "markdown",
   "metadata": {
    "colab_type": "text",
    "id": "srQytBEC_VvX"
   },
   "source": [
    "### Activating command completion\n",
    "```\n",
    "pip completion --bash >> ~/.profile\n",
    "pip completion --zsh >> ~/.zprofile\n",
    "```\n",
    "Only temporaly:\n",
    "```\n",
    "bash$ eval \"`pip completion --bash`\"\n",
    "zsh$ eval \"`pip completion --zsh`\"\n",
    "```"
   ]
  }
 ],
 "metadata": {
  "colab": {
   "include_colab_link": true,
   "name": "02-installation.ipynb",
   "provenance": []
  },
  "kernelspec": {
   "display_name": "Python 3",
   "language": "python",
   "name": "python3"
  },
  "language_info": {
   "codemirror_mode": {
    "name": "ipython",
    "version": 3
   },
   "file_extension": ".py",
   "mimetype": "text/x-python",
   "name": "python",
   "nbconvert_exporter": "python",
   "pygments_lexer": "ipython3",
   "version": "3.8.3"
  }
 },
 "nbformat": 4,
 "nbformat_minor": 1
}
