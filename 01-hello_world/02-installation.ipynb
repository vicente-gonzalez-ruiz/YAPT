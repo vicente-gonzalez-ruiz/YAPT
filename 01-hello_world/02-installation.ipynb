{
 "cells": [
  {
   "cell_type": "markdown",
   "metadata": {
    "colab_type": "text",
    "id": "view-in-github"
   },
   "source": [
    "<a href=\"https://colab.research.google.com/github/vicente-gonzalez-ruiz/YAPT/blob/master/01-hello_world/02-installation.ipynb\" target=\"_parent\"><img src=\"https://colab.research.google.com/assets/colab-badge.svg\" alt=\"Open In Colab\"/></a>"
   ]
  },
  {
   "cell_type": "markdown",
   "metadata": {
    "colab_type": "text",
    "id": "pRKojDrW_Vu-"
   },
   "source": [
    "# Python installation"
   ]
  },
  {
   "cell_type": "markdown",
   "metadata": {
    "colab_type": "text",
    "id": "BER-muPs_Vu_"
   },
   "source": [
    "## Contents\n",
    "1. [System-wide installation](#System).\n",
    "2. [`pip`: installing Python packages](#pip).\n",
    "3. [Working with virtual environments](#Virtual)."
   ]
  },
  {
   "cell_type": "markdown",
   "metadata": {
    "colab_type": "text",
    "id": "pRKojDrW_Vu-"
   },
   "source": [
    "## A word of warning\n",
    "\n",
    "Python is usually installed in most modern OSs. However, it's a bad idea to develop (or even run) Pyhton code using the *system Python* because:\n",
    "\n",
    "1. There are several versions of Python, and the one installed in your OS could not match your needs.\n",
    "2. To install a package into your system Python, you have to run `sudo pip install ...`, probably affecting to other users/projects/already-installed-applications preferences. Moreover, probably you are going to install Python packages that are only need by you, and specifically in a single project."
   ]
  },
  {
   "cell_type": "markdown",
   "metadata": {},
   "source": [
    "## A solution: Virtual Environments (VEs)\n",
    "\n",
    "A [VE](https://docs.python.org/3/glossary.html#term-virtual-environment) provides a isolated runtime environment to develop Python code without interfering with the behaviour of other Python applications running on the same system.\n",
    "\n",
    "There are several ways/tools to work with VEs. The covered here are:\n",
    "1. Using the (only Python 3) module `venv` (try [`virtualenv`](https://virtualenv.pypa.io/) if you need to use Python 2)."
   ]
  },
  {
   "cell_type": "markdown",
   "metadata": {
    "colab_type": "text",
    "id": "pRKojDrW_Vu-"
   },
   "source": [
    "<a id='venv'></a>\n",
    "## [venv](https://docs.python.org/3/library/venv.html#module-venv)\n",
    "\n",
    "Python 3 ships [venv](https://docs.python.org/3/tutorial/venv.html), a Python [module](https://docs.python.org/3/glossary.html#term-module) that allows to create, use and delele VEs. You should create (and use) so many different VEs as different combinations of incompatible Python projects (in terms of versions and packages dependencies) you are working on. The safest procedure is to use a different VE for each Python project.\n",
    "\n",
    ", which you can run using python3 -m venv](https://stackoverflow.com/questions/41573587/what-is-the-difference-between-venv-pyvenv-pyenv-virtualenv-virtualenvwrappe).\n",
    "\n",
    "A better option is to work with [*Virtual Environments*]. "
   ]
  },
  {
   "cell_type": "markdown",
   "metadata": {
    "colab_type": "text",
    "id": "VXpeqeQu_VvY"
   },
   "source": [
    "### Creation\n",
    "\n",
    "A VE are [created](https://docs.python.org/3/tutorial/venv.html#creating-virtual-environments) with the command:\n",
    "\n",
    "```\n",
    "python -m venv name_of_the_VE\n",
    "```\n",
    "\n",
    "A directory named `name_of_the_VE` will be created in the current directory, with an structure to hold a copy of the last version of Python interpreter that you have installed in your system, the standard library, and various supporting files."
   ]
  },
  {
   "cell_type": "markdown",
   "metadata": {
    "colab_type": "text",
    "id": "3kF6v7O3_VvZ"
   },
   "source": [
    "### Activation\n",
    "\n",
    "A previously created VE can be [activated](https://docs.python.org/3/tutorial/venv.html#creating-virtual-environments) with:\n",
    "\n",
    "```\n",
    "source <path_to_the_name_of_the_VE>/bin/activate\n",
    "```\n",
    "\n",
    "Your prompt should have the prefix `(name_of_the_VE)`."
   ]
  },
  {
   "cell_type": "markdown",
   "metadata": {
    "colab_type": "text",
    "id": "mdngfEdu_VvZ"
   },
   "source": [
    "### Deactivation\n",
    "\n",
    "A previously activated VE can be [deactivated](https://docs.python.org/3/tutorial/venv.html#creating-virtual-environments) with:\n",
    "\n",
    "```\n",
    "deactivate\n",
    "```"
   ]
  },
  {
   "cell_type": "markdown",
   "metadata": {},
   "source": [
    "### Deletion\n",
    "\n",
    "Simply remove the `name_of_the_VE` structure."
   ]
  },
  {
   "cell_type": "markdown",
   "metadata": {},
   "source": [
    "### Example"
   ]
  },
  {
   "cell_type": "code",
   "execution_count": 12,
   "metadata": {},
   "outputs": [
    {
     "name": "stdout",
     "output_type": "stream",
     "text": [
      "System Python version: Python 3.8.3\n"
     ]
    }
   ],
   "source": [
    "%%bash\n",
    "\n",
    "echo -n \"System Python version: \"\n",
    "python --version"
   ]
  },
  {
   "cell_type": "code",
   "execution_count": 17,
   "metadata": {},
   "outputs": [
    {
     "name": "stdout",
     "output_type": "stream",
     "text": [
      "Trying to import numpy ... Numpy is installed\n"
     ]
    }
   ],
   "source": [
    "%%bash\n",
    "\n",
    "echo -n \"Trying to import numpy ... \"\n",
    "python -c \"\n",
    "try:\n",
    "    import numpy\n",
    "except:\n",
    "    print('Numpy is not installed')\n",
    "else:\n",
    "    print('Numpy is installed')\""
   ]
  },
  {
   "cell_type": "code",
   "execution_count": 21,
   "metadata": {},
   "outputs": [],
   "source": [
    "%%bash\n",
    "\n",
    "python -m venv /tmp/test_VE"
   ]
  },
  {
   "cell_type": "code",
   "execution_count": 23,
   "metadata": {},
   "outputs": [
    {
     "name": "stdout",
     "output_type": "stream",
     "text": [
      "/tmp/test_VE\n",
      "├── bin\n",
      "│   ├── activate\n",
      "│   ├── activate.csh\n",
      "│   ├── activate.fish\n",
      "│   ├── Activate.ps1\n",
      "│   ├── easy_install\n",
      "│   ├── easy_install-3.8\n",
      "│   ├── pip\n",
      "│   ├── pip3\n",
      "total 4\n",
      "-rw-r--r-- 1 vruiz vruiz 126 ago 10 13:23 easy_install.py\n",
      "drwxr-xr-x 5 vruiz vruiz 140 ago 10 13:23 pip\n",
      "drwxr-xr-x 2 vruiz vruiz 180 ago 10 13:23 pip-19.2.3.dist-info\n",
      "drwxr-xr-x 5 vruiz vruiz 140 ago 10 13:23 pkg_resources\n",
      "drwxr-xr-x 2 vruiz vruiz  60 ago 10 13:23 __pycache__\n",
      "drwxr-xr-x 6 vruiz vruiz 840 ago 10 13:23 setuptools\n",
      "drwxr-xr-x 2 vruiz vruiz 220 ago 10 13:23 setuptools-41.2.0.dist-info\n"
     ]
    }
   ],
   "source": [
    "%%bash\n",
    "\n",
    "tree /tmp/test_VE | head\n",
    "ls -l /tmp/test_VE/lib/python3.8/site-packages/"
   ]
  },
  {
   "cell_type": "code",
   "execution_count": 27,
   "metadata": {
    "scrolled": true
   },
   "outputs": [
    {
     "name": "stdout",
     "output_type": "stream",
     "text": [
      "/tmp/test_VE/bin/python\n",
      "Python 3.8.3\n",
      "lrwxrwxrwx 1 vruiz vruiz 15 ago 10 13:23 /tmp/test_VE/bin/python -> /usr/bin/python\n",
      "Numpy is not installed\n",
      "Collecting numpy\n",
      "  Using cached https://files.pythonhosted.org/packages/c7/44/e17846ef3601dcb6f118ea447439650e0c35cb4fe60274fbe24214156df2/numpy-1.19.1-cp38-cp38-manylinux2010_x86_64.whl\n",
      "Installing collected packages: numpy\n",
      "Successfully installed numpy-1.19.1\n",
      "Numpy is installed\n",
      "/usr/bin/python\n",
      "Python 3.8.3\n",
      "Numpy is installed\n"
     ]
    },
    {
     "name": "stderr",
     "output_type": "stream",
     "text": [
      "WARNING: You are using pip version 19.2.3, however version 20.2.1 is available.\n",
      "You should consider upgrading via the 'pip install --upgrade pip' command.\n"
     ]
    }
   ],
   "source": [
    "%%bash\n",
    "\n",
    "source /tmp/test_VE/bin/activate\n",
    "which python\n",
    "python --version\n",
    "ls -l `which python`\n",
    "python -c \"\n",
    "try:\n",
    "    import numpy\n",
    "except:\n",
    "    print('Numpy is not installed')\n",
    "else:\n",
    "    print('Numpy is installed')\"\n",
    "pip install numpy\n",
    "python -c \"\n",
    "try:\n",
    "    import numpy\n",
    "except:\n",
    "    print('Numpy is not installed')\n",
    "else:\n",
    "    print('Numpy is installed')\"\n",
    "deactivate\n",
    "which python\n",
    "python --version\n",
    "python -c \"\n",
    "try:\n",
    "    import numpy\n",
    "except:\n",
    "    print('Numpy is not installed')\n",
    "else:\n",
    "    print('Numpy is installed')\"\n",
    "rm -rf /tmp/test_VE"
   ]
  },
  {
   "cell_type": "markdown",
   "metadata": {
    "colab_type": "text",
    "id": "_QNC9eCu_Vva"
   },
   "source": [
    "<a id='pyenv'></a>\n",
    "## Simple Python Version Management: [`pyenv`](https://github.com/pyenv/pyenv)\n",
    "\n",
    "`venv` is useful if the version of Python installed in your system matches your needs. Howerver, when this does not happen, we can use a more sofisticated tool: `pyenv`. Basically, `pyenv` [allows](https://realpython.com/intro-to-pyenv/#what-about-a-package-manager) us to install multiple versions of Python in your user space, and specify the exact Python version you want in any moment."
   ]
  },
  {
   "cell_type": "markdown",
   "metadata": {
    "colab_type": "text",
    "id": "y2docggz_Vva"
   },
   "source": [
    "### Install (in all Unixes, included OSX)"
   ]
  },
  {
   "cell_type": "markdown",
   "metadata": {
    "colab_type": "text",
    "id": "y2docggz_Vva"
   },
   "source": [
    "#### 1. Run [`pyenv-installer`](https://github.com/pyenv/pyenv-installer)\n",
    "```\n",
    "curl https://pyenv.run | bash\n",
    "```\n",
    "\n",
    "This has created the directory `$HOME/.pyenv`."
   ]
  },
  {
   "cell_type": "markdown",
   "metadata": {},
   "source": [
    "#### 2. Add the following ~/.bashrc\n",
    "```\n",
    "export PATH=\"$HOME/.pyenv/bin:$PATH\"\n",
    "eval \"$(pyenv init -)\"\n",
    "eval \"$(pyenv virtualenv-init -)\"\n",
    "```"
   ]
  },
  {
   "cell_type": "markdown",
   "metadata": {
    "colab_type": "text",
    "id": "PiroTCUT_Vvb"
   },
   "source": [
    "#### 3. Restart your shell\n",
    "\n",
    "Run:\n",
    "\n",
    "```\n",
    "exec \"$SHELL\"\n",
    "```\n",
    "\n",
    "or just restart your terminal."
   ]
  },
  {
   "cell_type": "markdown",
   "metadata": {},
   "source": [
    "### Update\n",
    "```\n",
    "pyenv update\n",
    "```"
   ]
  },
  {
   "cell_type": "markdown",
   "metadata": {
    "colab_type": "text",
    "id": "qDOvRU50_Vvc"
   },
   "source": [
    "### Uninstall\n",
    "Simply, remove the lines added to the configuration file and run:\n",
    "```\n",
    "rm -fr ~/.pyenv\n",
    "```"
   ]
  },
  {
   "cell_type": "markdown",
   "metadata": {
    "colab_type": "text",
    "id": "sS_tLJ5j_Vvb"
   },
   "source": [
    "### List available Python versions\n",
    "```\n",
    "pyenv install --list\n",
    "```"
   ]
  },
  {
   "cell_type": "markdown",
   "metadata": {
    "colab_type": "text",
    "id": "FvcvHnwl_Vvc"
   },
   "source": [
    "## Install Python\n",
    "\n",
    "See the [oficial docs](https://devguide.python.org/setup).\n",
    "\n",
    "### 1. Prerequisites\n",
    "\n",
    "#### Debians\n",
    "\n",
    "See [Common build problems](https://github.com/pyenv/pyenv/wiki/Common-build-problems) if you are unable to install an environment.\n",
    "\n",
    "Moreover, in order to have `tkinter` graphical interface avaiable, the `tk-dev` Linux package should have been installed.\n",
    "\n",
    "```\n",
    "sudo apt-get install tk-dev\n",
    "```\n",
    "\n",
    "#### OSX\n",
    "\n",
    "TODO\n",
    "\n",
    "#### Arch Linux\n",
    "\n",
    "```\n",
    "pacman -S gcc make\n",
    "```\n",
    "\n",
    "\n",
    "### 2. Download and compile\n",
    "\n",
    "```\n",
    "pyenv install 3.8.5\n",
    "```\n",
    "\n",
    "This will take a while (Python has to be download and compiled)."
   ]
  },
  {
   "cell_type": "markdown",
   "metadata": {
    "colab_type": "text",
    "id": "AbTFNmRI_Vvc"
   },
   "source": [
    "### Lists all Python versions known to pyenv\n",
    "```\n",
    "pyenv versions\n",
    "```\n",
    "\n"
   ]
  },
  {
   "cell_type": "markdown",
   "metadata": {
    "colab_type": "text",
    "id": "UPTkCQoF_Vvd"
   },
   "source": [
    "### Activate/Select a installed version of Python\n",
    "`pyenv` [local](https://github.com/pyenv/pyenv/blob/master/COMMANDS.md#pyenv-local)/[global](https://github.com/pyenv/pyenv/blob/master/COMMANDS.md#pyenv-global)/[shell](https://github.com/pyenv/pyenv/blob/master/COMMANDS.md#pyenv-shell) `3.6.1`"
   ]
  },
  {
   "cell_type": "markdown",
   "metadata": {
    "colab_type": "text",
    "id": "RLQvOWlC_Vvd"
   },
   "source": [
    "### Deactivate\n",
    "```\n",
    "pyenv local/global/shell system\n",
    "```"
   ]
  },
  {
   "cell_type": "markdown",
   "metadata": {
    "colab_type": "text",
    "id": "jQiC5bxc_Vve"
   },
   "source": [
    "### Displays the currently active Python version\n",
    "```\n",
    "pyenv version\n",
    "```"
   ]
  },
  {
   "cell_type": "markdown",
   "metadata": {
    "colab_type": "text",
    "id": "LHQweL3B_VvY"
   },
   "source": [
    "### A. Using [`venv`](https://docs.python.org/3/library/venv.html#module-venv)"
   ]
  },
  {
   "cell_type": "markdown",
   "metadata": {
    "colab_type": "text",
    "id": "-Fcan-_C_VvA"
   },
   "source": [
    "<a id='System'></a>\n",
    "## 1. System-wide Python installation\n",
    "\n",
    "Python is usually installed in most modern OSs. However, if this is not true in your case, this section can help you."
   ]
  },
  {
   "cell_type": "markdown",
   "metadata": {
    "colab_type": "text",
    "id": "LjQa0ICp_VvB"
   },
   "source": [
    "### MS Windows"
   ]
  },
  {
   "cell_type": "markdown",
   "metadata": {
    "colab_type": "text",
    "id": "vnr7jJlI_VvB"
   },
   "source": [
    "Download Python from [https://www.python.org/downloads/](https://www.python.org/downloads/) ... and remember to select the option \"`Add Python to PATH`\"."
   ]
  },
  {
   "cell_type": "markdown",
   "metadata": {
    "colab_type": "text",
    "id": "eh3V-bty_VvC"
   },
   "source": [
    "### Mac OS X"
   ]
  },
  {
   "cell_type": "markdown",
   "metadata": {
    "colab_type": "text",
    "id": "R3-DmI22_VvH"
   },
   "source": [
    "Install [Homebrew](http://brew.sh/) and run\n",
    "```\n",
    "brew install python3\n",
    "```"
   ]
  },
  {
   "cell_type": "markdown",
   "metadata": {
    "colab_type": "text",
    "id": "lglDPmDJ_VvI"
   },
   "source": [
    "### GNU Debian"
   ]
  },
  {
   "cell_type": "markdown",
   "metadata": {
    "colab_type": "text",
    "id": "NBhmpEIj_VvJ"
   },
   "source": [
    "Run\n",
    "```\n",
    "sudo apt-get update && sudo apt-get install python3\n",
    "```"
   ]
  },
  {
   "cell_type": "markdown",
   "metadata": {
    "colab_type": "text",
    "id": "AM0rdjLm_VvK"
   },
   "source": [
    "### Arch Linux"
   ]
  },
  {
   "cell_type": "markdown",
   "metadata": {
    "colab_type": "text",
    "id": "Eo2KHbKH_VvL"
   },
   "source": [
    "Run\n",
    "```\n",
    "sudo pacman -Sy && sudo pacman -S python\n",
    "```"
   ]
  },
  {
   "cell_type": "markdown",
   "metadata": {
    "colab_type": "text",
    "id": "tt-rb6_U_VvM"
   },
   "source": [
    "<a id='pip'></a>\n",
    "## 2. [`pip`](https://packaging.python.org/tutorials/installing-packages/#use-pip-for-installing): installing Python packages¶\n",
    "\n",
    "`pip` is a command-line tool for accesing to [PyPI - the standard Python's packages repository](https://pypi.python.org/pypi)."
   ]
  },
  {
   "cell_type": "markdown",
   "metadata": {
    "colab_type": "text",
    "id": "lsG2TbVS_VvM"
   },
   "source": [
    "### Get the list of installed packages\n",
    "\n",
    "```\n",
    "pip list\n",
    "pip freeze\n",
    "\n",
    "```"
   ]
  },
  {
   "cell_type": "markdown",
   "metadata": {
    "colab_type": "text",
    "id": "YwtL3YQ0_VvN"
   },
   "source": [
    "### Searching for a package in PyPI\n",
    "```\n",
    "pip search games | grep free\n",
    "```"
   ]
  },
  {
   "cell_type": "markdown",
   "metadata": {
    "colab_type": "text",
    "id": "5vwVtCx8_VvO"
   },
   "source": [
    "### Installing a package\n",
    "```\n",
    "pip install freegames        # System- or environment-wide installation (see below)\n",
    "pip install --user freegames # Local installation (see $PYTHONUSERBASE, if set)\n",
    "pip install Pillow==5.1.0    # Installing a version of a package\n",
    "pip install numpy>=0.2       # Installing a version higher or equal to\n",
    "pip install pandas<0.4       # Installing a version smaller than\n",
    "pip install cv2>=0.2,<0.3    # Using a range of versions\n",
    "```"
   ]
  },
  {
   "cell_type": "markdown",
   "metadata": {
    "colab_type": "text",
    "id": "UnPIBHal_VvP"
   },
   "source": [
    "### Uninstalling a package\n",
    "```\n",
    "pip uninstall freegames\n",
    "```"
   ]
  },
  {
   "cell_type": "markdown",
   "metadata": {
    "colab_type": "text",
    "id": "hxyLn8xz_VvP"
   },
   "source": [
    "### Getting information about an installed package\n",
    "```\n",
    "pip show freegames\n",
    "```"
   ]
  },
  {
   "cell_type": "markdown",
   "metadata": {
    "colab_type": "text",
    "id": "HEH1KMs7_VvQ"
   },
   "source": [
    "### Updating a package\n",
    "```\n",
    "pip install --upgrade freegames\n",
    "```"
   ]
  },
  {
   "cell_type": "markdown",
   "metadata": {
    "colab_type": "text",
    "id": "XxS2-KvS_VvW"
   },
   "source": [
    "### [Upgrading all packages](https://stackoverflow.com/questions/2720014/upgrading-all-packages-with-pip)\n",
    "```\n",
    "pip list --outdated --format=freeze | grep -v '^\\-e' | cut -d = -f 1  | xargs -n1 pip install -U\n",
    "```"
   ]
  },
  {
   "cell_type": "markdown",
   "metadata": {
    "colab_type": "text",
    "id": "srQytBEC_VvX"
   },
   "source": [
    "### Activating command completion\n",
    "```\n",
    "pip completion --bash >> ~/.profile\n",
    "pip completion --zsh >> ~/.zprofile\n",
    "```\n",
    "Only temporaly:\n",
    "```\n",
    "bash$ eval \"`pip completion --bash`\"\n",
    "zsh$ eval \"`pip completion --zsh`\"\n",
    "```"
   ]
  }
 ],
 "metadata": {
  "colab": {
   "include_colab_link": true,
   "name": "02-installation.ipynb",
   "provenance": []
  },
  "kernelspec": {
   "display_name": "Python 3",
   "language": "python",
   "name": "python3"
  },
  "language_info": {
   "codemirror_mode": {
    "name": "ipython",
    "version": 3
   },
   "file_extension": ".py",
   "mimetype": "text/x-python",
   "name": "python",
   "nbconvert_exporter": "python",
   "pygments_lexer": "ipython3",
   "version": "3.8.3"
  }
 },
 "nbformat": 4,
 "nbformat_minor": 1
}
