{
 "cells": [
  {
   "cell_type": "markdown",
   "metadata": {
    "colab_type": "text",
    "id": "view-in-github"
   },
   "source": [
    "<a href=\"https://colab.research.google.com/github/vicente-gonzalez-ruiz/YAPT/blob/master/01-hello_world/02-installation.ipynb\" target=\"_parent\"><img src=\"https://colab.research.google.com/assets/colab-badge.svg\" alt=\"Open In Colab\"/></a>"
   ]
  },
  {
   "cell_type": "markdown",
   "metadata": {
    "colab_type": "text",
    "id": "tt-rb6_U_VvM"
   },
   "source": [
    "# [`pip`](https://packaging.python.org/tutorials/installing-packages/#use-pip-for-installing): installing Python packages¶\n",
    "\n",
    "`pip` is a command-line tool for accesing to [PyPI - the standard Python's packages repository](https://pypi.python.org/pypi)."
   ]
  },
  {
   "cell_type": "markdown",
   "metadata": {
    "colab_type": "text",
    "id": "lsG2TbVS_VvM"
   },
   "source": [
    "## Get the list of installed packages\n",
    "\n",
    "```\n",
    "pip list\n",
    "pip freeze\n",
    "\n",
    "```"
   ]
  },
  {
   "cell_type": "markdown",
   "metadata": {
    "colab_type": "text",
    "id": "YwtL3YQ0_VvN"
   },
   "source": [
    "## Searching for a package in PyPI\n",
    "```\n",
    "pip search games | grep free\n",
    "```"
   ]
  },
  {
   "cell_type": "markdown",
   "metadata": {
    "colab_type": "text",
    "id": "5vwVtCx8_VvO"
   },
   "source": [
    "## Installing a package\n",
    "```\n",
    "pip install freegames        # System- or environment-wide installation (see below)\n",
    "pip install --user freegames # Local installation (see $PYTHONUSERBASE, if set)\n",
    "pip install Pillow==5.1.0    # Installing a version of a package\n",
    "pip install numpy>=0.2       # Installing a version higher or equal to\n",
    "pip install pandas<0.4       # Installing a version smaller than\n",
    "pip install cv2>=0.2,<0.3    # Using a range of versions\n",
    "```"
   ]
  },
  {
   "cell_type": "markdown",
   "metadata": {
    "colab_type": "text",
    "id": "UnPIBHal_VvP"
   },
   "source": [
    "## Uninstalling a package\n",
    "```\n",
    "pip uninstall freegames\n",
    "```"
   ]
  },
  {
   "cell_type": "markdown",
   "metadata": {
    "colab_type": "text",
    "id": "hxyLn8xz_VvP"
   },
   "source": [
    "## Getting information about an installed package\n",
    "```\n",
    "pip show freegames\n",
    "```"
   ]
  },
  {
   "cell_type": "markdown",
   "metadata": {
    "colab_type": "text",
    "id": "HEH1KMs7_VvQ"
   },
   "source": [
    "## Updating a package\n",
    "```\n",
    "pip install --upgrade freegames\n",
    "```"
   ]
  },
  {
   "cell_type": "markdown",
   "metadata": {
    "colab_type": "text",
    "id": "XxS2-KvS_VvW"
   },
   "source": [
    "## [Upgrading all packages](https://stackoverflow.com/questions/2720014/upgrading-all-packages-with-pip)\n",
    "```\n",
    "pip list --outdated --format=freeze | grep -v '^\\-e' | cut -d = -f 1  | xargs -n1 pip install -U\n",
    "```"
   ]
  },
  {
   "cell_type": "markdown",
   "metadata": {
    "colab_type": "text",
    "id": "srQytBEC_VvX"
   },
   "source": [
    "## Activating command completion\n",
    "```\n",
    "pip completion --bash >> ~/.profile\n",
    "pip completion --zsh >> ~/.zprofile\n",
    "```\n",
    "Only temporaly:\n",
    "```\n",
    "bash$ eval \"`pip completion --bash`\"\n",
    "zsh$ eval \"`pip completion --zsh`\"\n",
    "```"
   ]
  }
 ],
 "metadata": {
  "colab": {
   "include_colab_link": true,
   "name": "02-installation.ipynb",
   "provenance": []
  },
  "kernelspec": {
   "display_name": "Python 3",
   "language": "python",
   "name": "python3"
  },
  "language_info": {
   "codemirror_mode": {
    "name": "ipython",
    "version": 3
   },
   "file_extension": ".py",
   "mimetype": "text/x-python",
   "name": "python",
   "nbconvert_exporter": "python",
   "pygments_lexer": "ipython3",
   "version": "3.8.3"
  }
 },
 "nbformat": 4,
 "nbformat_minor": 1
}
