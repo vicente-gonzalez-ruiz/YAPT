{
 "cells": [
  {
   "cell_type": "markdown",
   "metadata": {
    "toc": true
   },
   "source": [
    "<h1>Table of Contents<span class=\"tocSkip\"></span></h1>\n",
    "<div class=\"toc\"><ul class=\"toc-item\"><li><span><a href=\"#[2]-PyGame\" data-toc-modified-id=\"[2]-PyGame-1\"><span class=\"toc-item-num\">1&nbsp;&nbsp;</span>[2] <a href=\"http://www.pygame.org/hifi.html\" target=\"_blank\">PyGame</a></a></span><ul class=\"toc-item\"><li><span><a href=\"#1.-Install\" data-toc-modified-id=\"1.-Install-1.1\"><span class=\"toc-item-num\">1.1&nbsp;&nbsp;</span>1. Install</a></span></li><li><span><a href=\"#2.-Example-of-use\" data-toc-modified-id=\"2.-Example-of-use-1.2\"><span class=\"toc-item-num\">1.2&nbsp;&nbsp;</span>2. Example of use</a></span></li></ul></li></ul></div>"
   ]
  },
  {
   "cell_type": "markdown",
   "metadata": {},
   "source": [
    "# [2] [PyGame](http://www.pygame.org/hifi.html)"
   ]
  },
  {
   "cell_type": "markdown",
   "metadata": {},
   "source": [
    "Create games."
   ]
  },
  {
   "cell_type": "markdown",
   "metadata": {},
   "source": [
    "## 1. Install"
   ]
  },
  {
   "cell_type": "markdown",
   "metadata": {},
   "source": [
    "```\n",
    "pip install -U pygame --user\n",
    "```"
   ]
  },
  {
   "cell_type": "markdown",
   "metadata": {},
   "source": [
    "## 2. Example of use\n",
    "(Interrupt in jupyter notebook with the Kernel menu)"
   ]
  },
  {
   "cell_type": "code",
   "execution_count": 7,
   "metadata": {},
   "outputs": [
    {
     "ename": "KeyboardInterrupt",
     "evalue": "",
     "output_type": "error",
     "traceback": [
      "\u001b[0;31m---------------------------------------------------------------------------\u001b[0m",
      "\u001b[0;31mKeyboardInterrupt\u001b[0m                         Traceback (most recent call last)",
      "\u001b[0;32m<ipython-input-7-1b1723697419>\u001b[0m in \u001b[0;36m<module>\u001b[0;34m\u001b[0m\n\u001b[1;32m     67\u001b[0m \u001b[0;34m\u001b[0m\u001b[0m\n\u001b[1;32m     68\u001b[0m     \u001b[0;31m# Avanzamos y actualizamos con lo que hemos dibujado.\u001b[0m\u001b[0;34m\u001b[0m\u001b[0;34m\u001b[0m\u001b[0;34m\u001b[0m\u001b[0m\n\u001b[0;32m---> 69\u001b[0;31m     \u001b[0mpygame\u001b[0m\u001b[0;34m.\u001b[0m\u001b[0mdisplay\u001b[0m\u001b[0;34m.\u001b[0m\u001b[0mflip\u001b[0m\u001b[0;34m(\u001b[0m\u001b[0;34m)\u001b[0m\u001b[0;34m\u001b[0m\u001b[0;34m\u001b[0m\u001b[0m\n\u001b[0m\u001b[1;32m     70\u001b[0m     \u001b[0mreloj\u001b[0m\u001b[0;34m.\u001b[0m\u001b[0mtick\u001b[0m\u001b[0;34m(\u001b[0m\u001b[0;36m100\u001b[0m\u001b[0;34m)\u001b[0m\u001b[0;34m\u001b[0m\u001b[0;34m\u001b[0m\u001b[0m\n\u001b[1;32m     71\u001b[0m \u001b[0;34m\u001b[0m\u001b[0m\n",
      "\u001b[0;31mKeyboardInterrupt\u001b[0m: "
     ]
    }
   ],
   "source": [
    "# http://programarcadegames.com/python_examples/f.php?lang=es&file=animating_snow.py\n",
    "\n",
    "'''\n",
    " Animating multiple objects using a list.\n",
    " Sample Python/Pygame Programs\n",
    " Simpson College Computer Science\n",
    " http://programarcadegames.com/\n",
    " http://simpson.edu/computer-science/\n",
    " \n",
    " Vídeo explicativo: http://youtu.be/Gkhz3FuhGoI\n",
    "'''\n",
    "# Importamos las bibliotecas llamadas 'pygame' y 'random'.\n",
    "import pygame\n",
    "import random\n",
    " \n",
    "# Inicializamos el motor de juegos.\n",
    "pygame.init()\n",
    " \n",
    "NEGRO = [0, 0, 0]\n",
    "BLANCO = [255, 255, 255]\n",
    " \n",
    "# Establecemos el largo y ancho de la pantalla.\n",
    "dimensiones = [400, 400]\n",
    " \n",
    "pantalla = pygame.display.set_mode(dimensiones)\n",
    "pygame.display.set_caption(\"Está Nevando\")\n",
    " \n",
    "# Creamos un array vacío\n",
    "lista_nieve = []\n",
    " \n",
    "# Iteramos 50 veces y añadimos un copo de nieve en una ubicación (x,y) aleatoria.\n",
    "for i in range(50):\n",
    "    x = random.randrange(0, 400)\n",
    "    y = random.randrange(0, 400)\n",
    "    lista_nieve.append([x, y])\n",
    " \n",
    "reloj = pygame.time.Clock()\n",
    " \n",
    "# Iteramos hasta que el usuario haga click sobre le botón de salida.\n",
    "hecho = False\n",
    "while not hecho:\n",
    "     \n",
    "    for evento in pygame.event.get():  # El usuario realizó alguna acción.\n",
    "        if evento.type == pygame.QUIT: # Si el usuario hizo click sobre salir.\n",
    "            hecho = True # Marcamos que hemos acabado y abandonamos este bucle.\n",
    " \n",
    "    # Establecemos el color de fondo.\n",
    "    pantalla.fill(NEGRO)\n",
    " \n",
    "    # Procesamos cada copo de la lista.\n",
    "    for i in range(len(lista_nieve)):\n",
    "    \n",
    "        # Dibujamos el copo de nieve\n",
    "        pygame.draw.circle(pantalla, BLANCO, lista_nieve[i], 2)\n",
    "         \n",
    "        # Desplazamos un píxel hacia abajo el copo de nieve.\n",
    "        lista_nieve[i][1] += 1\n",
    "         \n",
    "        # Si el copo se escapa del fondo de la pantalla.\n",
    "        if lista_nieve[i][1] > 400:\n",
    "            # Lo movemos justo encima del todo\n",
    "            y = random.randrange(-50, -10)\n",
    "            lista_nieve[i][1] = y\n",
    "            # Le damos una nueva ubicación x\n",
    "            x = random.randrange(0, 400)\n",
    "            lista_nieve[i][0] = x\n",
    "             \n",
    "    # Avanzamos y actualizamos con lo que hemos dibujado.\n",
    "    pygame.display.flip()\n",
    "    reloj.tick(100)\n",
    "             \n",
    "# Pórtate bien con el IDLE. Si nos olvidamos de esta línea, el programa se 'colgará'\n",
    "# en la salida.\n",
    "pygame.quit ()"
   ]
  },
  {
   "cell_type": "code",
   "execution_count": null,
   "metadata": {},
   "outputs": [],
   "source": []
  }
 ],
 "metadata": {
  "kernelspec": {
   "display_name": "Python 3",
   "language": "python",
   "name": "python3"
  },
  "language_info": {
   "codemirror_mode": {
    "name": "ipython",
    "version": 3
   },
   "file_extension": ".py",
   "mimetype": "text/x-python",
   "name": "python",
   "nbconvert_exporter": "python",
   "pygments_lexer": "ipython3",
   "version": "3.7.7"
  },
  "toc": {
   "base_numbering": 1,
   "nav_menu": {},
   "number_sections": true,
   "sideBar": true,
   "skip_h1_title": false,
   "title_cell": "Table of Contents",
   "title_sidebar": "Contents",
   "toc_cell": true,
   "toc_position": {},
   "toc_section_display": true,
   "toc_window_display": true
  }
 },
 "nbformat": 4,
 "nbformat_minor": 1
}
