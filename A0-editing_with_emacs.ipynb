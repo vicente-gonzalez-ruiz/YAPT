{
 "cells": [
  {
   "cell_type": "markdown",
   "metadata": {
    "toc": true
   },
   "source": [
    "<h1>Table of Contents<span class=\"tocSkip\"></span></h1>\n",
    "<div class=\"toc\"><ul class=\"toc-item\"><li><span><a href=\"#Python-editting\" data-toc-modified-id=\"Python-editting-1\"><span class=\"toc-item-num\">1&nbsp;&nbsp;</span>Python editting</a></span><ul class=\"toc-item\"><li><span><a href=\"#1.-Install-GNU-Emacs\" data-toc-modified-id=\"1.-Install-GNU-Emacs-1.1\"><span class=\"toc-item-num\">1.1&nbsp;&nbsp;</span>1. Install <a href=\"https://www.gnu.org/software/emacs/\" target=\"_blank\">GNU Emacs</a></a></span><ul class=\"toc-item\"><li><span><a href=\"#OS-X\" data-toc-modified-id=\"OS-X-1.1.1\"><span class=\"toc-item-num\">1.1.1&nbsp;&nbsp;</span>OS X</a></span></li><li><span><a href=\"#Ubuntu\" data-toc-modified-id=\"Ubuntu-1.1.2\"><span class=\"toc-item-num\">1.1.2&nbsp;&nbsp;</span>Ubuntu</a></span></li><li><span><a href=\"#Windows\" data-toc-modified-id=\"Windows-1.1.3\"><span class=\"toc-item-num\">1.1.3&nbsp;&nbsp;</span>Windows</a></span></li></ul></li><li><span><a href=\"#2.-Install-ELPY-(Emacs-Lisp-Python-Environment)\" data-toc-modified-id=\"2.-Install-ELPY-(Emacs-Lisp-Python-Environment)-1.2\"><span class=\"toc-item-num\">1.2&nbsp;&nbsp;</span>2. Install <a href=\"https://elpy.readthedocs.io\" target=\"_blank\">ELPY (Emacs Lisp Python Environment)</a></a></span><ul class=\"toc-item\"><li><span><a href=\"#Update-PATH\" data-toc-modified-id=\"Update-PATH-1.2.1\"><span class=\"toc-item-num\">1.2.1&nbsp;&nbsp;</span>Update PATH</a></span></li><li><span><a href=\"#Install-ELPY-package-from-MELPA\" data-toc-modified-id=\"Install-ELPY-package-from-MELPA-1.2.2\"><span class=\"toc-item-num\">1.2.2&nbsp;&nbsp;</span>Install ELPY package from <a href=\"https://melpa.org/#/getting-started\" target=\"_blank\">MELPA</a></a></span></li><li><span><a href=\"#Configure-Elpy:\" data-toc-modified-id=\"Configure-Elpy:-1.2.3\"><span class=\"toc-item-num\">1.2.3&nbsp;&nbsp;</span>Configure Elpy:</a></span></li></ul></li><li><span><a href=\"#3.-Optional-stuff\" data-toc-modified-id=\"3.-Optional-stuff-1.3\"><span class=\"toc-item-num\">1.3&nbsp;&nbsp;</span>3. Optional stuff</a></span><ul class=\"toc-item\"><li><span><a href=\"#Install-theme-package-(optional)\" data-toc-modified-id=\"Install-theme-package-(optional)-1.3.1\"><span class=\"toc-item-num\">1.3.1&nbsp;&nbsp;</span>Install theme package (optional)</a></span></li></ul></li><li><span><a href=\"#3.-Jedi-directly-from-Emacs\" data-toc-modified-id=\"3.-Jedi-directly-from-Emacs-1.4\"><span class=\"toc-item-num\">1.4&nbsp;&nbsp;</span>3. Jedi directly from Emacs</a></span><ul class=\"toc-item\"><li><span><a href=\"#3.1.-Install-MELPA\" data-toc-modified-id=\"3.1.-Install-MELPA-1.4.1\"><span class=\"toc-item-num\">1.4.1&nbsp;&nbsp;</span>3.1. Install MELPA</a></span></li></ul></li></ul></li></ul></div>"
   ]
  },
  {
   "cell_type": "markdown",
   "metadata": {},
   "source": [
    "# Python editting\n",
    "\n",
    "1. Install Emacs.\n",
    "2. Install ELPY.\n",
    "3. Optional stuff."
   ]
  },
  {
   "cell_type": "markdown",
   "metadata": {},
   "source": [
    "## 1. Install [GNU Emacs](https://www.gnu.org/software/emacs/)"
   ]
  },
  {
   "cell_type": "markdown",
   "metadata": {},
   "source": [
    "### OS X\n",
    "Run:\n",
    "```\n",
    "brew update                     # Synchronize the local Homebrew database\n",
    "brew install emacs --with-cocoa # Allows to start Emacs from the launchpad or from Spotlight\n",
    "brew linkapps emacs             # To symlink Emacs to \"/Applications\"\n",
    "```"
   ]
  },
  {
   "cell_type": "markdown",
   "metadata": {},
   "source": [
    "### Ubuntu\n",
    "Run:\n",
    "```\n",
    "apt-get install emacs\n",
    "```"
   ]
  },
  {
   "cell_type": "markdown",
   "metadata": {},
   "source": [
    "### Windows\n",
    "Download it from \"http://ftp.gnu.org/gnu/emacs/windows/ and install it.\n"
   ]
  },
  {
   "cell_type": "markdown",
   "metadata": {},
   "source": [
    "## 2. Install [ELPY (Emacs Lisp Python Environment)](https://elpy.readthedocs.io)\n",
    "\n",
    "ELPY is an Emacs package which provides Python's commands completion, indentation highlighting, [snippet](https://es.wikipedia.org/wiki/Snippet) expansion, [code hinting](https://www.linguee.es/ingles-espanol/traduccion/code+hinting.html), code navigation, [code refactoring](https://en.wikipedia.org/wiki/Code_refactoring), [on-the-fly checks](http://flymake.sourceforge.net/), [virtualenv support](https://docs.python.org/3/library/venv.html) and test running. Original documentation: https://elpy.readthedocs.io/en/latest/introduction.html#installation. Another interesting (and very comprehensive) resource is: https://realpython.com/emacs-the-best-python-editor/."
   ]
  },
  {
   "cell_type": "markdown",
   "metadata": {},
   "source": [
    "### Update PATH\n",
    "If you are using a Python enviroment, the shell `PATH` variable must include the \"binary\" files installed by `pip`. For example, if you are using [pyenv](https://github.com/pyenv/pyenv), add\n",
    "```\n",
    "export PATH=/home/vruiz/.pyenv/versions/3.6.4/bin/:$PATH\n",
    "\n",
    "```\n",
    "to your shell configuration file (`~/.bashrc`, for example)."
   ]
  },
  {
   "cell_type": "markdown",
   "metadata": {},
   "source": [
    "### Install ELPY package from [MELPA](https://melpa.org/#/getting-started)\n",
    "In Emacs, run `<Esc> x package-install <Enter> elpy <Enter>`. Enable this package by including\n",
    "```\n",
    "(package-initialize)\n",
    "(elpy-enable)\n",
    "```\n",
    "into your `~/.emacs` Emacs configuration file. Restart Emacs."
   ]
  },
  {
   "cell_type": "markdown",
   "metadata": {},
   "source": [
    "### Configure Elpy:\n",
    "\n",
    "In Emacs, key-in:\n",
    "```\n",
    "<Esc> x elpy-config <Enter>\n",
    "```\n",
    "\n",
    "Elpy will check the Elpy-related Python packages which are available and will display a summary. At this moment, the following packages should be missing (and therefore, installed). After that, Emacs need to be reset (closed and open):\n",
    "\n",
    "1. [Jedi](https://pypi.python.org/pypi/jedi/), an autocompletion tool for Python that can be used for text editors:\n",
    "```\n",
    "pip install jedi\n",
    "```\n",
    "2. [Rope](https://pypi.python.org/pypi/rope), a Python [refactoring](https://en.wikipedia.org/wiki/Code_refactoring):\n",
    "```\n",
    "pip install rope\n",
    "```\n",
    "3. [Import Magick](https://pypi.python.org/pypi/importmagic), add, remove and manage imports:\n",
    "```\n",
    "pip install importmagic\n",
    "```\n",
    "4. [autopep8](https://pypi.python.org/pypi/autopep8), automatically formats Python code to conform to the [PEP 8 style guide](https://www.python.org/dev/peps/pep-0008/):\n",
    "```\n",
    "pip install autopep8\n",
    "```\n",
    "5. [YAPF](https://pypi.python.org/pypi/yapf), formats Python code to conform the [clang-format style guide](http://clang.llvm.org/docs/ClangFormatStyleOptions.html):\n",
    "```\n",
    "pip install yapf\n",
    "```\n",
    "6. [Flake8](https://pypi.python.org/pypi/flake8), a source code checker:\n",
    "```\n",
    "pip install flake8\n",
    "```"
   ]
  },
  {
   "cell_type": "markdown",
   "metadata": {
    "collapsed": true
   },
   "source": [
    "## 3. Optional stuff\n",
    "\n",
    "In UNIX environments, the Emacs configuration data should be located in the file `$HOME/.emacs` or in the file `$HOME/.emacs.d/init.el`. In Windows OS (if the HOME environment variable is not set), in `C:/.emacs.d/init.el`."
   ]
  },
  {
   "cell_type": "markdown",
   "metadata": {},
   "source": [
    "### Install theme package (optional)\n",
    "\n",
    "Run `emacs` and, type `<Esc> x package-install <Enter> better-defaults <Enter>`. Remember that autocompletation is always available! Install also `material-theme`. To enable these themes, add:\n",
    "```\n",
    "(setq inhibit-startup-message t) ;; hide the startup message\n",
    "(load-theme 'material t) ;; load material theme\n",
    "(global-linum-mode t) ;; enable line numbers globally\n",
    "```\n",
    "to your configuration file, and restart Emacs."
   ]
  },
  {
   "cell_type": "markdown",
   "metadata": {},
   "source": [
    "## 3. Jedi directly from Emacs\n",
    "\n",
    "### 3.1. Install MELPA\n",
    "Add this code to the Emacs configuration file: `$HOME/.emacs`:\n",
    "```\n",
    ";; Standard package.el + MELPA setup\n",
    ";; (See also: https://github.com/milkypostman/melpa#usage)\n",
    "(require 'package)\n",
    "(add-to-list 'package-archives\n",
    "             '(\"melpa\" . \"http://melpa.milkbox.net/packages/\") t)\n",
    "(package-initialize)\n",
    "\n",
    "\n",
    ";; Standard Jedi.el setting\n",
    "(add-hook 'python-mode-hook 'jedi:setup)\n",
    "(setq jedi:complete-on-dot t)\n",
    "\n",
    ";; Type:\n",
    ";;     M-x package-install RET jedi RET\n",
    ";;     M-x jedi:install-server RET\n",
    ";; Then open Python file.\n",
    "```\n",
    "\n",
    "In the shell:\n",
    "```\n",
    "sudo apt-get install virtualenv\n",
    "# pip install epc # ... sometimes\n",
    "```\n",
    "\n",
    "In emacs:\n",
    "```\n",
    "M-x package-install RET jedi RET\n",
    "M-x jedi:install-server RET\n",
    "```"
   ]
  }
 ],
 "metadata": {
  "kernelspec": {
   "display_name": "Python 3",
   "language": "python",
   "name": "python3"
  },
  "language_info": {
   "codemirror_mode": {
    "name": "ipython",
    "version": 3
   },
   "file_extension": ".py",
   "mimetype": "text/x-python",
   "name": "python",
   "nbconvert_exporter": "python",
   "pygments_lexer": "ipython3",
   "version": "3.7.7"
  },
  "toc": {
   "base_numbering": 1,
   "nav_menu": {},
   "number_sections": true,
   "sideBar": true,
   "skip_h1_title": false,
   "title_cell": "Table of Contents",
   "title_sidebar": "Contents",
   "toc_cell": true,
   "toc_position": {},
   "toc_section_display": true,
   "toc_window_display": true
  }
 },
 "nbformat": 4,
 "nbformat_minor": 1
}
