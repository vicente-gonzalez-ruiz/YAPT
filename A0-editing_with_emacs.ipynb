{
 "cells": [
  {
   "cell_type": "markdown",
   "metadata": {},
   "source": [
    "# Python editting\n",
    "\n",
    "1. Install Emacs.\n",
    "2. Install ELPY.\n",
    "3. Optional stuff."
   ]
  },
  {
   "cell_type": "markdown",
   "metadata": {},
   "source": [
    "## 1. Install [GNU Emacs](https://www.gnu.org/software/emacs/)"
   ]
  },
  {
   "cell_type": "markdown",
   "metadata": {},
   "source": [
    "### OS X\n",
    "Run:\n",
    "```\n",
    "brew update                     # Synchronize the local Homebrew database\n",
    "brew install emacs --with-cocoa # Allows to start Emacs from the launchpad or from Spotlight\n",
    "brew linkapps emacs             # To symlink Emacs to \"/Applications\"\n",
    "```"
   ]
  },
  {
   "cell_type": "markdown",
   "metadata": {},
   "source": [
    "### Ubuntu\n",
    "Run:\n",
    "```\n",
    "apt-get install emacs\n",
    "```"
   ]
  },
  {
   "cell_type": "markdown",
   "metadata": {},
   "source": [
    "### Windows\n",
    "Download it from \"http://ftp.gnu.org/gnu/emacs/windows/ and install it.\n"
   ]
  },
  {
   "cell_type": "markdown",
   "metadata": {},
   "source": [
    "## 2. Install [ELPY (Emacs Lisp Python Environment)](https://elpy.readthedocs.io)\n",
    "\n",
    "ELPY is an Emacs package which provides Python's commands completion, indentation highlighting, [snippet](https://es.wikipedia.org/wiki/Snippet) expansion, [code hinting](https://www.linguee.es/ingles-espanol/traduccion/code+hinting.html), code navigation, [code refactoring](https://en.wikipedia.org/wiki/Code_refactoring), [on-the-fly checks](http://flymake.sourceforge.net/), [virtualenv support](https://docs.python.org/3/library/venv.html) and test running. Original documentation: https://elpy.readthedocs.io/en/latest/introduction.html#installation. Another interesting (and very comprehensive) resource is: https://realpython.com/emacs-the-best-python-editor/."
   ]
  },
  {
   "cell_type": "markdown",
   "metadata": {},
   "source": [
    "### Update PATH\n",
    "If you are using a Python enviroment, the shell `PATH` variable must include the \"binary\" files installed by `pip`. For example, if you are using [pyenv](https://github.com/pyenv/pyenv), add\n",
    "```\n",
    "export PATH=/home/vruiz/.pyenv/versions/3.6.4/bin/:$PATH\n",
    "\n",
    "```\n",
    "to your shell configuration file (`~/.bashrc`, for example)."
   ]
  },
  {
   "cell_type": "markdown",
   "metadata": {},
   "source": [
    "### Install ELPY package from [MELPA](https://melpa.org/#/getting-started)\n",
    "In Emacs, run `<Esc> x package-install <Enter> elpy <Enter>`. Enable this package by including\n",
    "```\n",
    "(package-initialize)\n",
    "(elpy-enable)\n",
    "```\n",
    "into your `~/.emacs` Emacs configuration file. Restart Emacs."
   ]
  },
  {
   "cell_type": "markdown",
   "metadata": {},
   "source": [
    "### Configure Elpy:\n",
    "\n",
    "In Emacs, key-in:\n",
    "```\n",
    "<Esc> x elpy-config <Enter>\n",
    "```\n",
    "\n",
    "Elpy will check the Elpy-related Python packages which are available and will display a summary. At this moment, the following packages should be missing (and therefore, installed). After that, Emacs need to be reset (closed and open):\n",
    "\n",
    "1. [Jedi](https://pypi.python.org/pypi/jedi/), an autocompletion tool for Python that can be used for text editors:\n",
    "```\n",
    "pip install jedi\n",
    "```\n",
    "2. [Rope](https://pypi.python.org/pypi/rope), a Python [refactoring](https://en.wikipedia.org/wiki/Code_refactoring):\n",
    "```\n",
    "pip install rope\n",
    "```\n",
    "3. [Import Magick](https://pypi.python.org/pypi/importmagic), add, remove and manage imports:\n",
    "```\n",
    "pip install importmagic\n",
    "```\n",
    "4. [autopep8](https://pypi.python.org/pypi/autopep8), automatically formats Python code to conform to the [PEP 8 style guide](https://www.python.org/dev/peps/pep-0008/):\n",
    "```\n",
    "pip install autopep8\n",
    "```\n",
    "5. [YAPF](https://pypi.python.org/pypi/yapf), formats Python code to conform the [clang-format style guide](http://clang.llvm.org/docs/ClangFormatStyleOptions.html):\n",
    "```\n",
    "pip install yapf\n",
    "```\n",
    "6. [Flake8](https://pypi.python.org/pypi/flake8), a source code checker:\n",
    "```\n",
    "pip install flake8\n",
    "```"
   ]
  },
  {
   "cell_type": "markdown",
   "metadata": {
    "collapsed": true
   },
   "source": [
    "## 3. Optional stuff\n",
    "\n",
    "In UNIX environments, the Emacs configuration data should be located in the file `$HOME/.emacs` or in the file `$HOME/.emacs.d/init.el`. In Windows OS (if the HOME environment variable is not set), in `C:/.emacs.d/init.el`."
   ]
  },
  {
   "cell_type": "markdown",
   "metadata": {},
   "source": [
    "### Install theme package (optional)\n",
    "\n",
    "Run `emacs` and, type `<Esc> x package-install <Enter> better-defaults <Enter>`. Remember that autocompletation is always available! Install also `material-theme`. To enable these themes, add:\n",
    "```\n",
    "(setq inhibit-startup-message t) ;; hide the startup message\n",
    "(load-theme 'material t) ;; load material theme\n",
    "(global-linum-mode t) ;; enable line numbers globally\n",
    "```\n",
    "to your configuration file, and restart Emacs."
   ]
  },
  {
   "cell_type": "markdown",
   "metadata": {},
   "source": [
    "## 3. Jedi directly from Emacs\n",
    "\n",
    "### 3.1. Install MELPA\n",
    "Add this code to the Emacs configuration file: `$HOME/.emacs`:\n",
    "```\n",
    ";; Standard package.el + MELPA setup\n",
    ";; (See also: https://github.com/milkypostman/melpa#usage)\n",
    "(require 'package)\n",
    "(add-to-list 'package-archives\n",
    "             '(\"melpa\" . \"http://melpa.milkbox.net/packages/\") t)\n",
    "(package-initialize)\n",
    "\n",
    "\n",
    ";; Standard Jedi.el setting\n",
    "(add-hook 'python-mode-hook 'jedi:setup)\n",
    "(setq jedi:complete-on-dot t)\n",
    "\n",
    ";; Type:\n",
    ";;     M-x package-install RET jedi RET\n",
    ";;     M-x jedi:install-server RET\n",
    ";; Then open Python file.\n",
    "```\n",
    "\n",
    "In the shell:\n",
    "```\n",
    "sudo apt-get install virtualenv\n",
    "# pip install epc # ... sometimes\n",
    "```\n",
    "\n",
    "In emacs:\n",
    "```\n",
    "M-x package-install RET jedi RET\n",
    "M-x jedi:install-server RET\n",
    "```"
   ]
  }
 ],
 "metadata": {
  "kernelspec": {
   "display_name": "Python 3",
   "language": "python",
   "name": "python3"
  },
  "language_info": {
   "codemirror_mode": {
    "name": "ipython",
    "version": 3
   },
   "file_extension": ".py",
   "mimetype": "text/x-python",
   "name": "python",
   "nbconvert_exporter": "python",
   "pygments_lexer": "ipython3",
   "version": "3.7.4"
  }
 },
 "nbformat": 4,
 "nbformat_minor": 1
}
