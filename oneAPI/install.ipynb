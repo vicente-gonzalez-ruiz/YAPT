{
 "cells": [
  {
   "cell_type": "markdown",
   "id": "23539ae6-7e90-48ea-a1c9-10838e6ba216",
   "metadata": {},
   "source": [
    "# [Intel oneAPI Base Toolkit: Install](https://www.intel.com/content/www/us/en/developer/tools/oneapi/base-toolkit-download.html=)"
   ]
  },
  {
   "cell_type": "markdown",
   "id": "f47c4c0f-e5a0-49fe-b13d-c66639c8096a",
   "metadata": {},
   "source": [
    "## APT-based systems"
   ]
  },
  {
   "cell_type": "markdown",
   "id": "8c572283-46ca-4acf-96c8-ded9b28e9d3b",
   "metadata": {},
   "source": [
    "### 1. Set up the repo with the Intel's key\n",
    "If `sudo` requires a password, you should run this cell in a terminal."
   ]
  },
  {
   "cell_type": "code",
   "execution_count": null,
   "id": "e3463558-14eb-4d2f-a63e-8b3784ada6bd",
   "metadata": {},
   "outputs": [],
   "source": [
    "!sudo rm -f /usr/share/keyrings/oneapi-archive-keyring.gpg\n",
    "!wget -O- https://apt.repos.intel.com/intel-gpg-keys/GPG-PUB-KEY-INTEL-SW-PRODUCTS.PUB | gpg --dearmor | sudo tee /usr/share/keyrings/oneapi-archive-keyring.gpg > /dev/null\n",
    "!ls -l /usr/share/keyrings/oneapi-archive-keyring.gpg"
   ]
  },
  {
   "cell_type": "markdown",
   "id": "e3284cc2-ce53-4ac9-9cef-e5c96602ca49",
   "metadata": {},
   "source": [
    "### 2. Add the signed entry to APT sources and configure the APT client to use the Intel repository"
   ]
  },
  {
   "cell_type": "code",
   "execution_count": null,
   "id": "36054401-517a-4a74-9141-91a2da43a8e5",
   "metadata": {},
   "outputs": [],
   "source": [
    "!echo \"deb [signed-by=/usr/share/keyrings/oneapi-archive-keyring.gpg] https://apt.repos.intel.com/oneapi all main\" | sudo tee /etc/apt/sources.list.d/oneAPI.list"
   ]
  },
  {
   "cell_type": "markdown",
   "id": "672d64ea-d726-43c1-aa9a-250096db0322",
   "metadata": {},
   "source": [
    "### 3. Update"
   ]
  },
  {
   "cell_type": "code",
   "execution_count": null,
   "id": "aee7a21a-90a9-4b70-b798-680aaaf13c90",
   "metadata": {},
   "outputs": [],
   "source": [
    "!sudo apt update"
   ]
  },
  {
   "cell_type": "markdown",
   "id": "c0851cfb-b0bf-4e73-abf1-f685248fd46a",
   "metadata": {},
   "source": [
    "### Install\n",
    "This will require about 15 GB :-()"
   ]
  },
  {
   "cell_type": "code",
   "execution_count": null,
   "id": "11c44fb3-6c59-44a2-9917-84c3b7591199",
   "metadata": {},
   "outputs": [],
   "source": [
    "!sudo apt install intel-basekit"
   ]
  }
 ],
 "metadata": {
  "kernelspec": {
   "display_name": "Python 3 (ipykernel)",
   "language": "python",
   "name": "python3"
  },
  "language_info": {
   "codemirror_mode": {
    "name": "ipython",
    "version": 3
   },
   "file_extension": ".py",
   "mimetype": "text/x-python",
   "name": "python",
   "nbconvert_exporter": "python",
   "pygments_lexer": "ipython3",
   "version": "3.10.6"
  }
 },
 "nbformat": 4,
 "nbformat_minor": 5
}
