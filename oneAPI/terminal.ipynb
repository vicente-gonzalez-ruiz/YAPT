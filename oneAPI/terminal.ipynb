{
 "cells": [
  {
   "cell_type": "markdown",
   "id": "9565a02a-4c4b-46f5-be6d-2448f37a2876",
   "metadata": {},
   "source": [
    "# Using DevCloud through SSH\n",
    "You can submmit jobs interactive or queued jobs, both through `qsub`."
   ]
  },
  {
   "cell_type": "markdown",
   "id": "605630f9-203c-4e30-97b4-f5c1f54c1492",
   "metadata": {},
   "source": [
    "## Create a new interactive session\n",
    "Example:"
   ]
  },
  {
   "cell_type": "code",
   "execution_count": null,
   "id": "266a3cd8-efeb-446c-972e-5e6afc7cc1db",
   "metadata": {},
   "outputs": [],
   "source": [
    "qsub -I -l nodes=1:gpu:ppn=2 -d .\n",
    "#     ^          ^  ^           ^\n",
    "#     |          |  |           |\n",
    "#     |          |  |           +- Open the interactive session in the current dir\n",
    "#     |          |  +------------- Use the GPU\n",
    "#     |          +---------------- Request one node\n",
    "#     +--------------------------- Interactive"
   ]
  },
  {
   "cell_type": "markdown",
   "id": "fc99abc4-8899-4900-89d2-c01d049f5e83",
   "metadata": {},
   "source": [
    "## List the available nodes and queues/node"
   ]
  },
  {
   "cell_type": "code",
   "execution_count": null,
   "id": "dae321c7-d5eb-4bec-b2d3-cd3fb15d9282",
   "metadata": {},
   "outputs": [],
   "source": [
    "pbsnodes"
   ]
  },
  {
   "cell_type": "markdown",
   "id": "e16a6809-6179-4b4b-96ec-b521494153e4",
   "metadata": {},
   "source": [
    "## Run a job\n",
    "Run the script `build.sh`."
   ]
  },
  {
   "cell_type": "code",
   "execution_count": null,
   "id": "92124dfd-204a-4a21-9d5b-9699ef06f8fb",
   "metadata": {},
   "outputs": [],
   "source": [
    "qsub -l nodes=1:gpu:ppn=2 -d . build.sh"
   ]
  },
  {
   "cell_type": "markdown",
   "id": "3fd7a553-43ea-4d38-b00e-9c6ca9a4e93c",
   "metadata": {},
   "source": [
    "## See the queue"
   ]
  },
  {
   "cell_type": "code",
   "execution_count": null,
   "id": "406ab797-c234-4a25-b646-61d594aecde3",
   "metadata": {},
   "outputs": [],
   "source": [
    "watch -n 1 qstat -n -1"
   ]
  }
 ],
 "metadata": {
  "kernelspec": {
   "display_name": "Python 3 (ipykernel)",
   "language": "python",
   "name": "python3"
  },
  "language_info": {
   "codemirror_mode": {
    "name": "ipython",
    "version": 3
   },
   "file_extension": ".py",
   "mimetype": "text/x-python",
   "name": "python",
   "nbconvert_exporter": "python",
   "pygments_lexer": "ipython3",
   "version": "3.10.6"
  }
 },
 "nbformat": 4,
 "nbformat_minor": 5
}
