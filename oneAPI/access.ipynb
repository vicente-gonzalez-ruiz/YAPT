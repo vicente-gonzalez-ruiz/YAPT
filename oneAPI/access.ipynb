{
 "cells": [
  {
   "cell_type": "markdown",
   "id": "a67a1ae8-fefd-41e8-b132-eaefa196f624",
   "metadata": {},
   "source": [
    "# Access to [Intel DevCloud](https://devcloud.intel.com/oneapi/home/)"
   ]
  },
  {
   "cell_type": "markdown",
   "id": "c934e8d3-9d83-4dc1-acad-535f5158afe6",
   "metadata": {},
   "source": [
    "## 1. Register\n",
    "Clik in \"Get Free Access\" and fill-up the form."
   ]
  },
  {
   "cell_type": "markdown",
   "id": "408af8c4-a598-4892-96f3-8d27051f568b",
   "metadata": {},
   "source": [
    "## 2. [Get started](https://devcloud.intel.com/oneapi/get_started/)"
   ]
  },
  {
   "cell_type": "markdown",
   "id": "d327f2b0-5f80-4b04-97e5-a83295e8c5e3",
   "metadata": {},
   "source": [
    "### 2.1. Connect to DevCloud using SSH (option A)\n",
    "In a terminal, run:"
   ]
  },
  {
   "cell_type": "code",
   "execution_count": null,
   "id": "fd3dd95d-3973-49c5-aac9-c01b5f39f73f",
   "metadata": {},
   "outputs": [],
   "source": [
    "%%bash\n",
    "# Notice that the downloaded file is associated to your account.\n",
    "wget https://devcloud.intel.com/oneapi/download_ssh/?asset=ssh_config_script\n",
    "bash ~/Downloads/setup-devcloud-access-XXXXXX.txt\n",
    "rm ~/Downloads/setup-devcloud-access-XXXXXX.txt"
   ]
  },
  {
   "cell_type": "markdown",
   "id": "233d5b19-5e36-44b0-aa59-660388757d81",
   "metadata": {},
   "source": [
    "%%bash\n",
    "ssh devcloud"
   ]
  },
  {
   "cell_type": "markdown",
   "id": "5deb22b4-6f54-4fd3-b6a5-3d9e3b49c837",
   "metadata": {},
   "source": [
    "### 2.2. Connect to DevClould using Jupyter (option B)\n",
    "Clink in [`Launch JupyterLab*`](https://jupyter.oneapi.devcloud.intel.com/hub/login?next=/lab/tree/Welcome.ipynb?reset)."
   ]
  }
 ],
 "metadata": {
  "kernelspec": {
   "display_name": "Python 3 (ipykernel)",
   "language": "python",
   "name": "python3"
  },
  "language_info": {
   "codemirror_mode": {
    "name": "ipython",
    "version": 3
   },
   "file_extension": ".py",
   "mimetype": "text/x-python",
   "name": "python",
   "nbconvert_exporter": "python",
   "pygments_lexer": "ipython3",
   "version": "3.10.6"
  }
 },
 "nbformat": 4,
 "nbformat_minor": 5
}
