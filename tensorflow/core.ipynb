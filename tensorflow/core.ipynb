{
 "cells": [
  {
   "cell_type": "markdown",
   "id": "627ad9d5-23c2-4f2a-a034-5429ff137172",
   "metadata": {},
   "source": [
    "# TensorFlow Core\n",
    "\n",
    "TensorFlow is basically a software library (developed by Google) for numerical computation using data flow graphs where:\n",
    "\n",
    "    nodes in the graph represent mathematical operations.\n",
    "    edges in the graph represent the multidimensional data arrays (called tensors) communicated between them.\n",
    "\n",
    "TensorFlow Core refers to the foundational, open-source machine learning library developed by the TensorFlow team at Google."
   ]
  },
  {
   "cell_type": "markdown",
   "id": "7bc5c192-dc8a-4aaa-869b-d7cada29f382",
   "metadata": {},
   "source": [
    "## Computational Graphs\n",
    "\n",
    "Any TensorFlow Core program can be divided into two discrete sections:\n",
    "\n",
    "1. Building the computational graph. A computational graph is nothing but a series of TensorFlow operations arranged into a graph of nodes. Each node takes zero or more tensors as inputs and produces a tensor as an output.\n",
    "2. Running the computational graph. To actually evaluate the nodes, we must run the computational graph within a session. A session encapsulates the control and state of the TensorFlow runtime.\n",
    "\n",
    "![](graph1.png)\n",
    "Here, add is a node which represents addition operation. a and b are input tensors and c is the resultant tensor. This flexible architecture allows you to deploy computation to one or more CPUs or GPUs in a desktop, server, or mobile device with a single API!"
   ]
  },
  {
   "cell_type": "code",
   "execution_count": 1,
   "id": "45e411b0-5485-407e-beea-5e5fe579ad4b",
   "metadata": {},
   "outputs": [
    {
     "name": "stderr",
     "output_type": "stream",
     "text": [
      "2024-01-17 06:47:48.324373: I tensorflow/core/util/port.cc:113] oneDNN custom operations are on. You may see slightly different numerical results due to floating-point round-off errors from different computation orders. To turn them off, set the environment variable `TF_ENABLE_ONEDNN_OPTS=0`.\n",
      "2024-01-17 06:47:48.469263: E external/local_xla/xla/stream_executor/cuda/cuda_dnn.cc:9261] Unable to register cuDNN factory: Attempting to register factory for plugin cuDNN when one has already been registered\n",
      "2024-01-17 06:47:48.469338: E external/local_xla/xla/stream_executor/cuda/cuda_fft.cc:607] Unable to register cuFFT factory: Attempting to register factory for plugin cuFFT when one has already been registered\n",
      "2024-01-17 06:47:48.485831: E external/local_xla/xla/stream_executor/cuda/cuda_blas.cc:1515] Unable to register cuBLAS factory: Attempting to register factory for plugin cuBLAS when one has already been registered\n",
      "2024-01-17 06:47:48.529804: I tensorflow/core/platform/cpu_feature_guard.cc:182] This TensorFlow binary is optimized to use available CPU instructions in performance-critical operations.\n",
      "To enable the following instructions: AVX2 AVX_VNNI FMA, in other operations, rebuild TensorFlow with the appropriate compiler flags.\n",
      "2024-01-17 06:47:49.366114: W tensorflow/compiler/tf2tensorrt/utils/py_utils.cc:38] TF-TRT Warning: Could not find TensorRT\n"
     ]
    }
   ],
   "source": [
    "import tensorflow as tf"
   ]
  },
  {
   "cell_type": "code",
   "execution_count": 5,
   "id": "bddc5332-6f5d-461d-babe-1def7ecf2372",
   "metadata": {},
   "outputs": [
    {
     "name": "stdout",
     "output_type": "stream",
     "text": [
      "Sum of node1 and node2 is: 8\n"
     ]
    }
   ],
   "source": [
    "node1 = tf.constant(3, dtype=tf.int32)\n",
    "node2 = tf.constant(5, dtype=tf.int32)\n",
    "node3 = tf.add(node1, node2)\n",
    "print(\"Sum of node1 and node2 is:\", node3.numpy())"
   ]
  },
  {
   "cell_type": "markdown",
   "id": "a1721cee-464b-458a-9047-0905d955e009",
   "metadata": {},
   "source": [
    "## Variables\n",
    "\n",
    " Variables are in-memory buffers containing tensors. They must be explicitly initialized and can be saved to disk."
   ]
  },
  {
   "cell_type": "code",
   "execution_count": 7,
   "id": "50ba3521-225d-4d9a-8882-d010edb180f2",
   "metadata": {},
   "outputs": [
    {
     "name": "stdout",
     "output_type": "stream",
     "text": [
      "Tensor value before addition:\n",
      " [[0. 0.]\n",
      " [0. 0.]]\n",
      "Tensor value after addition:\n",
      " [[1. 1.]\n",
      " [1. 1.]]\n"
     ]
    }
   ],
   "source": [
    "node = tf.Variable(tf.zeros([2, 2]))\n",
    "print(\"Tensor value before addition:\\n\", node.numpy())\n",
    "node.assign(node + tf.ones([2, 2]))  # Elementwise addition to the tensor\n",
    "print(\"Tensor value after addition:\\n\", node.numpy())"
   ]
  },
  {
   "cell_type": "markdown",
   "id": "b4e58e39-c726-4c41-b3f5-2cc7c36e0fee",
   "metadata": {},
   "source": [
    "## Functions"
   ]
  },
  {
   "cell_type": "code",
   "execution_count": 11,
   "id": "b23dfd72-306f-418a-b9c6-06aa5a982b26",
   "metadata": {},
   "outputs": [
    {
     "name": "stdout",
     "output_type": "stream",
     "text": [
      "Result of matrix multiplication:\n",
      " [[ 58  64]\n",
      " [139 154]]\n"
     ]
    }
   ],
   "source": [
    "# Create two matrices\n",
    "matrix_a = tf.constant([[1, 2, 3], [4, 5, 6]], dtype=tf.int32)\n",
    "matrix_b = tf.constant([[7, 8], [9, 10], [11, 12]], dtype=tf.int32)\n",
    "\n",
    "# Define a function for matrix multiplication\n",
    "@tf.function\n",
    "def matrix_multiply(a, b):\n",
    "    return tf.matmul(a, b)\n",
    "\n",
    "# Use the function to multiply the matrices\n",
    "result = matrix_multiply(matrix_a, matrix_b)\n",
    "\n",
    "# Print the result\n",
    "print(\"Result of matrix multiplication:\\n\", result.numpy())\n"
   ]
  }
 ],
 "metadata": {
  "kernelspec": {
   "display_name": "Python 3 (ipykernel)",
   "language": "python",
   "name": "python3"
  },
  "language_info": {
   "codemirror_mode": {
    "name": "ipython",
    "version": 3
   },
   "file_extension": ".py",
   "mimetype": "text/x-python",
   "name": "python",
   "nbconvert_exporter": "python",
   "pygments_lexer": "ipython3",
   "version": "3.10.12"
  }
 },
 "nbformat": 4,
 "nbformat_minor": 5
}
