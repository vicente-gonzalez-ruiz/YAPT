{
 "cells": [
  {
   "cell_type": "markdown",
   "metadata": {},
   "source": [
    "# Debugging\n",
    "In general, [bugs](https://en.wikipedia.org/wiki/Software_bug) should be handled by the [exceptions mechanism](https://en.wikipedia.org/wiki/Exception_handling) provided by Python and programmed (in your code). However, even using them, some *unexpected* bugs could exist, making that your module crashes.  In other occasions, your program does not work as you expected and you want to figure out what is happenning.\n",
    "\n",
    "Whatever the reason is (module crashings or algorithmic issues), Python provides a debugging system for making your programming experience happier. Basically, you need to run (importing it) the debugger when you are running your module. There exists two debugging modules: [`pdb`](https://docs.python.org/3/library/pdb.html) and [`ipdb`](https://pypi.python.org/pypi/ipdb). The main difference between them is that the last one is more *humman-friendly*. "
   ]
  },
  {
   "cell_type": "markdown",
   "metadata": {},
   "source": [
    "## 1. [0] Invoking the debugger from the shell line"
   ]
  },
  {
   "cell_type": "markdown",
   "metadata": {},
   "source": [
    "```\n",
    "python -m pdb debug_me.py\n",
    "```"
   ]
  },
  {
   "cell_type": "markdown",
   "metadata": {},
   "source": [
    "## `pdb` commands"
   ]
  },
  {
   "cell_type": "markdown",
   "metadata": {
    "collapsed": true
   },
   "source": [
    "Press `h` for help. Commands:\n",
    "1. `[l]ist {<first line> {,<last line>}}`: lists the related portion of code.\n",
    "2. `[w]here`: shows the execution stack.\n",
    "3. `[b]reak {{{file:}<line> | <function>} {, <condition>}}`: without argument, shows the breakpoints; with argument, sets a (if specified, conditional) breakpoint.\n",
    "4. `tbreak {{{file:}<line> | <function>} {, <condition>}}`: define a temporal breakpoint (only survives one hit).\n",
    "5. `disable <breakpoint number> {<breakpoint number> ...}`: disable a breakpoint.\n",
    "6. `enable <breakpoint number> {<breakpoint number> ...}`: enables a breakpoint.\n",
    "7. `[cl]ear {<break point number> {<break point number> ...}}`: deletes a breakpoint.\n",
    "8. `condition <breakpoint number> <condition>`: defines a condition for a breakpoint.\n",
    "9. `ignore <breakpoint number> <count>`: ignores a breakpoint for a number of hits.\n",
    "3. `[[c]ont]inue`: continues the execution.\n",
    "4. `[n]ext`: runs the following instruction (don't enter functions).\n",
    "5. `[s]tep`: runs the following instruction (enter functions).\n",
    "6. `[unt]il`: continues until execution reaches a line in the same function with a line number higher than the current value.\n",
    "5. `[u]p`: moves the current frame one level up in the stack trace (to an older frame).\n",
    "5. `[d]own`: moves the current frame one level down in the stack trace (to a newer frame).\n",
    "8. `[run] {args}`: (re)run the script.\n",
    "6. `[p]rint (<object>)`: prints an object.\n",
    "7. `[p]rety [p]rint (<object>)`: prints an object.\n",
    "8. `[a]rgs`: prints the arguments of the current funcion.\n",
    "10. `commands <breakpoint number> ... end`: define a set of debugging commands to be run each time a breakpoint is reached.\n",
    "1. `alias {<name> {<command> {<parameter> <parameter> ...}}}`: show/define an alias for a `pdb` command.\n",
    "8. `!`: run a Python expression."
   ]
  },
  {
   "cell_type": "markdown",
   "metadata": {},
   "source": [
    "### Example:"
   ]
  },
  {
   "cell_type": "code",
   "execution_count": null,
   "metadata": {},
   "outputs": [],
   "source": [
    "! cat debug_me.py"
   ]
  },
  {
   "cell_type": "markdown",
   "metadata": {},
   "source": [
    "Run it in a shell."
   ]
  },
  {
   "cell_type": "markdown",
   "metadata": {
    "collapsed": true
   },
   "source": [
    "```\n",
    "(yapt) $ python -m pdb debug_me.py\n",
    "> /Users/vruiz/python-tutorial/debug_me.py(6)<module>()\n",
    "-> def call_me():\n",
    "    (Pdb) c <------------------ YOUR INTERACTION HERE ------------------------\n",
    "Debug me with \"python -i debug_me.py\"\n",
    "After the run-time error, you should have access to the \"a\" variable\n",
    "Traceback (most recent call last):\n",
    "  File \"/usr/local/Cellar/python3/3.5.2_3/Frameworks/Python.framework/Versions/3.5/lib/python3.5/pdb.py\", line 1661, in main\n",
    "    pdb._runscript(mainpyfile)\n",
    "  File \"/usr/local/Cellar/python3/3.5.2_3/Frameworks/Python.framework/Versions/3.5/lib/python3.5/pdb.py\", line 1542, in _runscript\n",
    "    self.run(statement)\n",
    "  File \"/usr/local/Cellar/python3/3.5.2_3/Frameworks/Python.framework/Versions/3.5/lib/python3.5/bdb.py\", line 431, in run\n",
    "    exec(cmd, globals, locals)\n",
    "  File \"<string>\", line 1, in <module>\n",
    "  File \"/Users/vruiz/python-tutorial/debug_me.py\", line 6, in <module>\n",
    "    def call_me():\n",
    "  File \"/Users/vruiz/python-tutorial/debug_me.py\", line 11, in call_me\n",
    "    d=1/c\n",
    "ZeroDivisionError: division by zero\n",
    "Uncaught exception. Entering post mortem debugging\n",
    "Running 'cont' or 'step' will restart the program\n",
    "> /Users/vruiz/python-tutorial/debug_me.py(11)call_me()\n",
    "-> d=1/c\n",
    "(Pdb) l <--------------------- YOUR INTERACTION HERE -----------------------\n",
    "  6  \tdef call_me():\n",
    "  7  \t    print(\"Debug me with \\\"python -i debug_me.py\\\"\")\n",
    "  8  \t    print(\"After the run-time error, you should have access to the \\\"a\\\" variable\")\n",
    "  9  \t    a=1\n",
    " 10  \t    c=0\n",
    " 11  ->\t    d=1/c\n",
    " 12  \t    print(\"This code is never reached\")\n",
    " 13  \t    a=2\n",
    " 14  \t\n",
    " 15  \tb=1\n",
    " 16  \t\n",
    "(Pdb) p c <--------------------- YOUR INTERACTION HERE ------------------------\n",
    "0\n",
    "(Pdb) quit <--------------------- YOUR INTERACTION HERE ------------------------\n",
    "Post mortem debugger finished. The debug_me.py will be restarted\n",
    "> /Users/vruiz/python-tutorial/debug_me.py(6)<module>()\n",
    "-> def call_me():\n",
    "(Pdb) quit <--------------------- YOUR INTERACTION HERE ------------------------\n",
    "```"
   ]
  },
  {
   "cell_type": "markdown",
   "metadata": {
    "collapsed": true
   },
   "source": [
    "## 2. [1] Invoking the debugger from the source code"
   ]
  },
  {
   "cell_type": "markdown",
   "metadata": {},
   "source": [
    "### Example:"
   ]
  },
  {
   "cell_type": "code",
   "execution_count": null,
   "metadata": {},
   "outputs": [],
   "source": [
    "! cat debug_me_2.py"
   ]
  },
  {
   "cell_type": "markdown",
   "metadata": {},
   "source": [
    "Run me in a shell."
   ]
  },
  {
   "cell_type": "markdown",
   "metadata": {},
   "source": [
    "```\n",
    "(yapy) $ python debug_me_2.py\n",
    "Debug me with \"python -i debug_me.py\"\n",
    "After the run-time error, you should have access to the \"a\" variable\n",
    "> /Users/vruiz/YAPT/debug_me_2.py(12)call_me()\n",
    "     11     import ipdb; ipdb.set_trace()\n",
    "---> 12     d=1/c\n",
    "     13     print(\"This code is never reached\")\n",
    "\n",
    "ipdb> p c <----------------- YOUR INTERACTION HERE -----------------\n",
    "0\n",
    "ipdb> quit  <----------------- YOUR INTERACTION HERE -----------------\n",
    "Exiting debugger.\n",
    "```"
   ]
  },
  {
   "cell_type": "markdown",
   "metadata": {},
   "source": [
    "## 3. [1] Invoking the debugger in *\"post-mortem\"* mode"
   ]
  },
  {
   "cell_type": "markdown",
   "metadata": {},
   "source": [
    "*\"Post-mortem\"* debugging basically means that you want to debug after a module crash. Does not exist a pure post-mortem debugging in Python (in the sense you executed your code in the normal way, i.e. not expecting the bug, and after that, you must run the debugger). Basically, in Python you have two alternatives:"
   ]
  },
  {
   "cell_type": "markdown",
   "metadata": {},
   "source": [
    "## 3.1. Using the `-i` parameter when running Python:\n",
    "`(inspect interactively after running script)`"
   ]
  },
  {
   "cell_type": "markdown",
   "metadata": {},
   "source": [
    "### Example:"
   ]
  },
  {
   "cell_type": "code",
   "execution_count": null,
   "metadata": {},
   "outputs": [],
   "source": [
    "!cat debug_me.py"
   ]
  },
  {
   "cell_type": "markdown",
   "metadata": {},
   "source": [
    "Run:"
   ]
  },
  {
   "cell_type": "markdown",
   "metadata": {},
   "source": [
    "```\n",
    "(yapt) $ python -i debug_me.py\n",
    "After the run-time error, you should have access to the \"a\" variable\n",
    "Traceback (most recent call last):\n",
    "  File \"debug_me.py\", line 14, in <module>\n",
    "    call_me()\n",
    "  File \"debug_me.py\", line 8, in call_me\n",
    "    d=1/c\n",
    "ZeroDivisionError: division by zero\n",
    ">>> import pdb <------------------ YOUR INTERACTION HERE -------------------\n",
    ">>> pdb.pm() <------------------ YOUR INTERACTION HERE -------------------\n",
    "> /Users/vruiz/YAPT/debug_me.py(8)call_me()\n",
    "-> d=1/c\n",
    "(Pdb) p c <------------------ YOUR INTERACTION HERE -------------------\n",
    "0\n",
    "(Pdb) quit <------------------ YOUR INTERACTION HERE -------------------\n",
    ">>> quit() <------------------ YOUR INTERACTION HERE -------------------\n",
    "```"
   ]
  },
  {
   "cell_type": "markdown",
   "metadata": {},
   "source": [
    "## 3.2. Importing your module and then, calling the debugger"
   ]
  },
  {
   "cell_type": "markdown",
   "metadata": {},
   "source": [
    "### Example:"
   ]
  },
  {
   "cell_type": "markdown",
   "metadata": {},
   "source": [
    "```\n",
    "(yapt) $ python\n",
    ">>> import pdb  <------------------ YOUR INTERACTION HERE -------------------\n",
    ">>> import debug_me <------------------ YOUR INTERACTION HERE -------------------\n",
    "Debug me with \"python -i debug_me.py\"\n",
    "After the run-time error, you should have access to the \"a\" variable\n",
    "Traceback (most recent call last):\n",
    "  File \"<stdin>\", line 1, in <module>\n",
    "  File \"/Users/vruiz/YAPT/debug_me.py\", line 14, in <module>\n",
    "    call_me()\n",
    "  File \"/Users/vruiz/YAPT/debug_me.py\", line 8, in call_me\n",
    "    d=1/c\n",
    "ZeroDivisionError: division by zero\n",
    ">>> pdb.pm() <------------------ YOUR INTERACTION HERE -------------------\n",
    "> /Users/vruiz/YAPT/debug_me.py(8)call_me()\n",
    "-> d=1/c\n",
    "(Pdb) p c <------------------ YOUR INTERACTION HERE -------------------\n",
    "0\n",
    "(Pdb) quit <------------------ YOUR INTERACTION HERE -------------------\n",
    ">>> quit() <------------------ YOUR INTERACTION HERE -------------------\n",
    "```"
   ]
  },
  {
   "cell_type": "markdown",
   "metadata": {},
   "source": [
    "## 3.3 Using IPython's `%debug`\n",
    "After an exception occurs, you can call `%debug` to jump into the Python debugger (pdb) and examine the problem."
   ]
  },
  {
   "cell_type": "code",
   "execution_count": null,
   "metadata": {},
   "outputs": [],
   "source": [
    "%run debug_me.py"
   ]
  },
  {
   "cell_type": "code",
   "execution_count": null,
   "metadata": {},
   "outputs": [],
   "source": [
    "%debug"
   ]
  },
  {
   "cell_type": "markdown",
   "metadata": {},
   "source": [
    "(write `quit()` to exit the debugger)"
   ]
  },
  {
   "cell_type": "markdown",
   "metadata": {},
   "source": [
    "## 3.4 Using IPython's `%run`"
   ]
  },
  {
   "cell_type": "code",
   "execution_count": null,
   "metadata": {},
   "outputs": [],
   "source": [
    "%run -d debug_me.py"
   ]
  }
 ],
 "metadata": {
  "kernelspec": {
   "display_name": "Python 3",
   "language": "python",
   "name": "python3"
  },
  "language_info": {
   "codemirror_mode": {
    "name": "ipython",
    "version": 3
   },
   "file_extension": ".py",
   "mimetype": "text/x-python",
   "name": "python",
   "nbconvert_exporter": "python",
   "pygments_lexer": "ipython3",
   "version": "3.6.3"
  }
 },
 "nbformat": 4,
 "nbformat_minor": 1
}
