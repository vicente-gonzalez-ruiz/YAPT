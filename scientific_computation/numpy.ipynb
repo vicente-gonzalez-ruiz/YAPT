{
 "cells": [
  {
   "cell_type": "markdown",
   "metadata": {
    "toc": true
   },
   "source": [
    "<h1>Table of Contents<span class=\"tocSkip\"></span></h1>\n",
    "<div class=\"toc\"><ul class=\"toc-item\"><li><span><a href=\"#Why-NumPy?\" data-toc-modified-id=\"Why-NumPy?-1\"><span class=\"toc-item-num\">1&nbsp;&nbsp;</span>Why NumPy?</a></span></li><li><span><a href=\"#Data-types\" data-toc-modified-id=\"Data-types-2\"><span class=\"toc-item-num\">2&nbsp;&nbsp;</span><a href=\"https://docs.scipy.org/doc/numpy/user/basics.types.html\" target=\"_blank\">Data types</a></a></span></li><li><span><a href=\"#Array-creation,-allocation-and-initialization\" data-toc-modified-id=\"Array-creation,-allocation-and-initialization-3\"><span class=\"toc-item-num\">3&nbsp;&nbsp;</span><a href=\"https://docs.scipy.org/doc/numpy/user/quickstart.html#array-creation\" target=\"_blank\">Array creation, allocation and initialization</a></a></span><ul class=\"toc-item\"><li><span><a href=\"#Creation-(without-allocation-memory)\" data-toc-modified-id=\"Creation-(without-allocation-memory)-3.1\"><span class=\"toc-item-num\">3.1&nbsp;&nbsp;</span>Creation (without allocation memory)</a></span></li><li><span><a href=\"#Allocation-(without-initializing-the-data-array)\" data-toc-modified-id=\"Allocation-(without-initializing-the-data-array)-3.2\"><span class=\"toc-item-num\">3.2&nbsp;&nbsp;</span>Allocation (without initializing the data array)</a></span></li><li><span><a href=\"#Allocating-and-initalizing\" data-toc-modified-id=\"Allocating-and-initalizing-3.3\"><span class=\"toc-item-num\">3.3&nbsp;&nbsp;</span>Allocating and initalizing</a></span></li><li><span><a href=\"#Reshaping\" data-toc-modified-id=\"Reshaping-3.4\"><span class=\"toc-item-num\">3.4&nbsp;&nbsp;</span><a href=\"https://docs.scipy.org/doc/numpy/user/quickstart.html#shape-manipulation\" target=\"_blank\">Reshaping</a></a></span></li><li><span><a href=\"#C-vs-Fortran-order\" data-toc-modified-id=\"C-vs-Fortran-order-3.5\"><span class=\"toc-item-num\">3.5&nbsp;&nbsp;</span>C vs Fortran order</a></span></li></ul></li><li><span><a href=\"#Views-and-copies\" data-toc-modified-id=\"Views-and-copies-4\"><span class=\"toc-item-num\">4&nbsp;&nbsp;</span><a href=\"https://docs.scipy.org/doc/numpy/user/quickstart.html#copies-and-views\" target=\"_blank\">Views and copies</a></a></span><ul class=\"toc-item\"><li><span><a href=\"#Pointer-copy\" data-toc-modified-id=\"Pointer-copy-4.1\"><span class=\"toc-item-num\">4.1&nbsp;&nbsp;</span>Pointer copy</a></span></li><li><span><a href=\"#Shallow-copy-(view)\" data-toc-modified-id=\"Shallow-copy-(view)-4.2\"><span class=\"toc-item-num\">4.2&nbsp;&nbsp;</span>Shallow copy (view)</a></span></li><li><span><a href=\"#Deep-(object-+--data)-copy\" data-toc-modified-id=\"Deep-(object-+--data)-copy-4.3\"><span class=\"toc-item-num\">4.3&nbsp;&nbsp;</span>Deep (object +  data) copy</a></span></li></ul></li><li><span><a href=\"#More-about-array-indexing-and-iterating\" data-toc-modified-id=\"More-about-array-indexing-and-iterating-5\"><span class=\"toc-item-num\">5&nbsp;&nbsp;</span>More about array <a href=\"https://docs.scipy.org/doc/numpy/user/basics.indexing.html\" target=\"_blank\">indexing</a> and <a href=\"https://docs.scipy.org/doc/numpy/user/quickstart.html#indexing-slicing-and-iterating\" target=\"_blank\">iterating</a></a></span><ul class=\"toc-item\"><li><span><a href=\"#More-about-simple-indexing\" data-toc-modified-id=\"More-about-simple-indexing-5.1\"><span class=\"toc-item-num\">5.1&nbsp;&nbsp;</span>More about simple indexing</a></span></li><li><span><a href=\"#Array-indexing-(also-known-as-fancy-indexing)\" data-toc-modified-id=\"Array-indexing-(also-known-as-fancy-indexing)-5.2\"><span class=\"toc-item-num\">5.2&nbsp;&nbsp;</span><a href=\"https://docs.scipy.org/doc/numpy/user/quickstart.html#indexing-with-arrays-of-indices\" target=\"_blank\">Array indexing</a> (also known as <a href=\"https://docs.scipy.org/doc/numpy/reference/arrays.indexing.html#advanced-indexing\" target=\"_blank\">fancy indexing</a>)</a></span></li><li><span><a href=\"#Boolean-array-indexing\" data-toc-modified-id=\"Boolean-array-indexing-5.3\"><span class=\"toc-item-num\">5.3&nbsp;&nbsp;</span>Boolean array indexing</a></span></li><li><span><a href=\"#Iterating\" data-toc-modified-id=\"Iterating-5.4\"><span class=\"toc-item-num\">5.4&nbsp;&nbsp;</span>Iterating</a></span></li></ul></li><li><span><a href=\"#Extending-arrays\" data-toc-modified-id=\"Extending-arrays-6\"><span class=\"toc-item-num\">6&nbsp;&nbsp;</span>Extending arrays</a></span></li><li><span><a href=\"#Permuting-(swapping)-dimensions-(axes)\" data-toc-modified-id=\"Permuting-(swapping)-dimensions-(axes)-7\"><span class=\"toc-item-num\">7&nbsp;&nbsp;</span>Permuting (swapping) dimensions (axes)</a></span></li><li><span><a href=\"#Increasing-and-decreasing-dimensions\" data-toc-modified-id=\"Increasing-and-decreasing-dimensions-8\"><span class=\"toc-item-num\">8&nbsp;&nbsp;</span>Increasing and decreasing dimensions</a></span></li><li><span><a href=\"#Slicing\" data-toc-modified-id=\"Slicing-9\"><span class=\"toc-item-num\">9&nbsp;&nbsp;</span>Slicing</a></span></li><li><span><a href=\"#Mathematics\" data-toc-modified-id=\"Mathematics-10\"><span class=\"toc-item-num\">10&nbsp;&nbsp;</span>Mathematics</a></span><ul class=\"toc-item\"><li><span><a href=\"#Some-school-math\" data-toc-modified-id=\"Some-school-math-10.1\"><span class=\"toc-item-num\">10.1&nbsp;&nbsp;</span>Some <em>school</em> math</a></span></li><li><span><a href=\"#Some-measurements\" data-toc-modified-id=\"Some-measurements-10.2\"><span class=\"toc-item-num\">10.2&nbsp;&nbsp;</span>Some measurements</a></span></li><li><span><a href=\"#Some-vector-math\" data-toc-modified-id=\"Some-vector-math-10.3\"><span class=\"toc-item-num\">10.3&nbsp;&nbsp;</span>Some vector math</a></span></li><li><span><a href=\"#Some-matrix-math\" data-toc-modified-id=\"Some-matrix-math-10.4\"><span class=\"toc-item-num\">10.4&nbsp;&nbsp;</span>Some matrix math</a></span></li></ul></li><li><span><a href=\"#Broadcasting\" data-toc-modified-id=\"Broadcasting-11\"><span class=\"toc-item-num\">11&nbsp;&nbsp;</span><a href=\"https://docs.scipy.org/doc/numpy/user/basics.broadcasting.html\" target=\"_blank\">Broadcasting</a></a></span></li><li><span><a href=\"#How-fast-is-Numpy's-array-math?\" data-toc-modified-id=\"How-fast-is-Numpy's-array-math?-12\"><span class=\"toc-item-num\">12&nbsp;&nbsp;</span>How fast is Numpy's array math?</a></span></li><li><span><a href=\"#Arrays-of-objects\" data-toc-modified-id=\"Arrays-of-objects-13\"><span class=\"toc-item-num\">13&nbsp;&nbsp;</span>Arrays of objects</a></span></li><li><span><a href=\"#Structured-arrays\" data-toc-modified-id=\"Structured-arrays-14\"><span class=\"toc-item-num\">14&nbsp;&nbsp;</span>Structured arrays</a></span></li><li><span><a href=\"#Disk-I/O\" data-toc-modified-id=\"Disk-I/O-15\"><span class=\"toc-item-num\">15&nbsp;&nbsp;</span>Disk I/O</a></span><ul class=\"toc-item\"><li><span><a href=\"#Endianness\" data-toc-modified-id=\"Endianness-15.1\"><span class=\"toc-item-num\">15.1&nbsp;&nbsp;</span><a href=\"https://docs.scipy.org/doc/numpy/reference/generated/numpy.dtype.byteorder.html\" target=\"_blank\">Endianness</a></a></span></li></ul></li></ul></div>"
   ]
  },
  {
   "cell_type": "markdown",
   "metadata": {
    "collapsed": true
   },
   "source": [
    "# SciPy.org's [NumPy](http://www.numpy.org/)\n",
    "\n",
    "Basically, NumPy [provides](https://www.oreilly.com/library/view/python-for-data/9781449323592/ch04.html):\n",
    "1. Fast and space-efficient multidimensional arrays.\n",
    "2. Vectorized arithmetic operations.\n",
    "3. Broadcasting capabilities.\n",
    "4. I/O of array data from/to disk.\n",
    "5. Linear algebra operators.\n",
    "6. Random number generators.\n",
    "7. Fourier transform capabilities.\n",
    "8. Tools for integrating code written in C, C++, and Fortran."
   ]
  },
  {
   "cell_type": "markdown",
   "metadata": {},
   "source": [
    "## Why NumPy?"
   ]
  },
  {
   "cell_type": "markdown",
   "metadata": {},
   "source": [
    "Good running times."
   ]
  },
  {
   "cell_type": "code",
   "execution_count": 3,
   "metadata": {},
   "outputs": [],
   "source": [
    "try:\n",
    "    import numpy as np\n",
    "except:\n",
    "    !pip3 install numpy\n",
    "    import numpy as np"
   ]
  },
  {
   "cell_type": "markdown",
   "metadata": {},
   "source": [
    "* Lets define a list and compute the sum of its elements, timing it:"
   ]
  },
  {
   "cell_type": "code",
   "execution_count": 2,
   "metadata": {},
   "outputs": [
    {
     "name": "stdout",
     "output_type": "stream",
     "text": [
      "<class 'list'> [0, 1, 2, 3, 4, 5, 6, 7, 8, 9]\n",
      "1.54 ms ± 75.8 µs per loop (mean ± std. dev. of 7 runs, 1000 loops each)\n"
     ]
    }
   ],
   "source": [
    "l = list(range(0,100000)); print(type(l), l[:10])\n",
    "%timeit sum(l)"
   ]
  },
  {
   "cell_type": "markdown",
   "metadata": {},
   "source": [
    "* An now, lets create a numpy's array and time the sum of its elements:"
   ]
  },
  {
   "cell_type": "code",
   "execution_count": 3,
   "metadata": {},
   "outputs": [
    {
     "name": "stdout",
     "output_type": "stream",
     "text": [
      "<class 'numpy.ndarray'> [0 1 2 3 4 5 6 7 8 9]\n",
      "98.7 µs ± 8.7 µs per loop (mean ± std. dev. of 7 runs, 10000 loops each)\n"
     ]
    }
   ],
   "source": [
    "A = np.arange(0, 100000); print(type(A), A[:10])\n",
    "%timeit np.sum(A)"
   ]
  },
  {
   "cell_type": "markdown",
   "metadata": {},
   "source": [
    "* And what about a *pure* C implementation of an equivalent computation: "
   ]
  },
  {
   "cell_type": "code",
   "execution_count": 4,
   "metadata": {},
   "outputs": [
    {
     "name": "stdout",
     "output_type": "stream",
     "text": [
      "#include <stdio.h>\n",
      "#include <time.h>\n",
      "#include \"sum_array_lib.c\"\n",
      "\n",
      "#define N 100000\n",
      "\n",
      "int main() {\n",
      "  double a[N];\n",
      "  int i;\n",
      "  clock_t start, end;\n",
      "  double cpu_time;\n",
      "  for(i=0; i<N; i++) {\n",
      "    a[i] = i;\n",
      "  }\n",
      "  start = clock();\n",
      "  double sum = sum_array(a,N);\n",
      "  end = clock();\n",
      "  printf(\"%f \", sum);\n",
      "  cpu_time = ((double) (end - start)) / CLOCKS_PER_SEC;\n",
      "  cpu_time *= 1000000;\n",
      "  printf(\"%f usegs\\n\", cpu_time);\n",
      "}\n",
      "4999950000.000000 206.000000 usegs\n",
      "4999950000.000000 150.000000 usegs\n",
      "4999950000.000000 150.000000 usegs\n",
      "4999950000.000000 150.000000 usegs\n",
      "4999950000.000000 168.000000 usegs\n",
      "4999950000.000000 171.000000 usegs\n",
      "4999950000.000000 176.000000 usegs\n",
      "4999950000.000000 195.000000 usegs\n",
      "4999950000.000000 152.000000 usegs\n",
      "4999950000.000000 166.000000 usegs\n",
      "4999950000.000000 168.000000 usegs\n",
      "4999950000.000000 173.000000 usegs\n",
      "4999950000.000000 174.000000 usegs\n",
      "4999950000.000000 173.000000 usegs\n",
      "4999950000.000000 171.000000 usegs\n",
      "4999950000.000000 183.000000 usegs\n",
      "4999950000.000000 157.000000 usegs\n",
      "4999950000.000000 167.000000 usegs\n",
      "4999950000.000000 174.000000 usegs\n",
      "4999950000.000000 189.000000 usegs\n",
      "4999950000.000000 150.000000 usegs\n",
      "4999950000.000000 174.000000 usegs\n",
      "4999950000.000000 173.000000 usegs\n",
      "4999950000.000000 167.000000 usegs\n",
      "4999950000.000000 151.000000 usegs\n",
      "4999950000.000000 171.000000 usegs\n",
      "4999950000.000000 165.000000 usegs\n",
      "4999950000.000000 190.000000 usegs\n",
      "4999950000.000000 177.000000 usegs\n",
      "4999950000.000000 167.000000 usegs\n",
      "4999950000.000000 150.000000 usegs\n",
      "4999950000.000000 190.000000 usegs\n",
      "4999950000.000000 179.000000 usegs\n",
      "4999950000.000000 183.000000 usegs\n",
      "4999950000.000000 170.000000 usegs\n",
      "4999950000.000000 173.000000 usegs\n",
      "4999950000.000000 180.000000 usegs\n",
      "4999950000.000000 175.000000 usegs\n",
      "4999950000.000000 173.000000 usegs\n",
      "4999950000.000000 169.000000 usegs\n",
      "4999950000.000000 150.000000 usegs\n",
      "4999950000.000000 166.000000 usegs\n",
      "4999950000.000000 151.000000 usegs\n",
      "4999950000.000000 150.000000 usegs\n",
      "4999950000.000000 151.000000 usegs\n",
      "4999950000.000000 212.000000 usegs\n",
      "4999950000.000000 173.000000 usegs\n",
      "4999950000.000000 177.000000 usegs\n",
      "4999950000.000000 176.000000 usegs\n",
      "4999950000.000000 169.000000 usegs\n",
      "4999950000.000000 165.000000 usegs\n",
      "4999950000.000000 150.000000 usegs\n",
      "4999950000.000000 151.000000 usegs\n",
      "4999950000.000000 182.000000 usegs\n",
      "4999950000.000000 166.000000 usegs\n",
      "4999950000.000000 152.000000 usegs\n",
      "4999950000.000000 207.000000 usegs\n",
      "4999950000.000000 166.000000 usegs\n",
      "4999950000.000000 170.000000 usegs\n",
      "4999950000.000000 165.000000 usegs\n",
      "4999950000.000000 166.000000 usegs\n",
      "4999950000.000000 253.000000 usegs\n",
      "4999950000.000000 218.000000 usegs\n",
      "4999950000.000000 166.000000 usegs\n",
      "4999950000.000000 150.000000 usegs\n",
      "4999950000.000000 266.000000 usegs\n",
      "4999950000.000000 150.000000 usegs\n",
      "4999950000.000000 171.000000 usegs\n",
      "4999950000.000000 151.000000 usegs\n",
      "4999950000.000000 150.000000 usegs\n",
      "4999950000.000000 167.000000 usegs\n",
      "4999950000.000000 151.000000 usegs\n",
      "4999950000.000000 179.000000 usegs\n",
      "4999950000.000000 166.000000 usegs\n",
      "4999950000.000000 151.000000 usegs\n",
      "4999950000.000000 151.000000 usegs\n",
      "4999950000.000000 166.000000 usegs\n",
      "4999950000.000000 150.000000 usegs\n",
      "4999950000.000000 165.000000 usegs\n",
      "4999950000.000000 151.000000 usegs\n",
      "4999950000.000000 151.000000 usegs\n",
      "133 ms ± 2.53 ms per loop (mean ± std. dev. of 7 runs, 10 loops each)\n"
     ]
    }
   ],
   "source": [
    "!cat sum_array.c\n",
    "!gcc -O3 sum_array.c -o sum_array\n",
    "%timeit !./sum_array"
   ]
  },
  {
   "cell_type": "markdown",
   "metadata": {},
   "source": [
    "* Another example:"
   ]
  },
  {
   "cell_type": "code",
   "execution_count": 5,
   "metadata": {},
   "outputs": [
    {
     "name": "stdout",
     "output_type": "stream",
     "text": [
      "0 1 2 3 4 5 6 7 8 9 \n",
      "207 ms ± 4.56 ms per loop (mean ± std. dev. of 7 runs, 1 loop each)\n",
      "[1, 2, 3, 4, 5, 6, 7, 8, 9, 10]\n",
      "3 ms ± 283 µs per loop (mean ± std. dev. of 7 runs, 100 loops each)\n",
      "[ 1  2  3  4  5  6  7  8  9 10]\n"
     ]
    }
   ],
   "source": [
    "# Example extracted from https://github.com/pyHPC/pyhpc-tutorial\n",
    "lst = range(1000000)\n",
    "\n",
    "for i in lst[:10]:\n",
    "    print(i, end=' ')\n",
    "print()\n",
    "\n",
    "%timeit [i + 1 for i in lst] # A Python list comprehension (iteration happens in C but with PyObjects)\n",
    "x = [i + 1 for i in lst]\n",
    "\n",
    "print(x[:10])\n",
    "\n",
    "arr = np.arange(1000000) # A NumPy list of integers\n",
    "%timeit arr + 1 # Use operator overloading for nice syntax, now iteration is in C with ints\n",
    "y = arr + 1\n",
    "\n",
    "print(y[:10])"
   ]
  },
  {
   "cell_type": "markdown",
   "metadata": {},
   "source": [
    "* Looking for information of numpy's *something*:"
   ]
  },
  {
   "cell_type": "code",
   "execution_count": 6,
   "metadata": {},
   "outputs": [
    {
     "name": "stdout",
     "output_type": "stream",
     "text": [
      "Search results for 'invert'\n",
      "---------------------------\n",
      "numpy.bitwise_not\n",
      "    Compute bit-wise inversion, or bit-wise NOT, element-wise.\n",
      "numpy.matrix.getI\n",
      "    Returns the (multiplicative) inverse of invertible `self`.\n",
      "numpy.in1d\n",
      "    Test whether each element of a 1-D array is also present in a second array.\n",
      "numpy.isin\n",
      "    Calculates `element in test_elements`, broadcasting over `element` only.\n",
      "numpy.transpose\n",
      "    Permute the dimensions of an array.\n",
      "numpy.linalg.inv\n",
      "    Compute the (multiplicative) inverse of a matrix.\n",
      "numpy.linalg.pinv\n",
      "    Compute the (Moore-Penrose) pseudo-inverse of a matrix.\n",
      "numpy.random.SFC64\n",
      "    BitGenerator for Chris Doty-Humphrey's Small Fast Chaotic PRNG.\n",
      "numpy.linalg.tensorinv\n",
      "    Compute the 'inverse' of an N-dimensional array.\n",
      "numpy.linalg.matrix_power\n",
      "    Raise a square matrix to the (integer) power `n`."
     ]
    }
   ],
   "source": [
    "np.lookfor('invert')"
   ]
  },
  {
   "cell_type": "markdown",
   "metadata": {},
   "source": [
    "* Remember that it's possible to use the tabulator to extend some command or to use a wildcard in Ipython to get the numpy's stuff:"
   ]
  },
  {
   "cell_type": "code",
   "execution_count": 7,
   "metadata": {},
   "outputs": [],
   "source": [
    "np.*?"
   ]
  },
  {
   "cell_type": "markdown",
   "metadata": {},
   "source": [
    "## [Data types](https://docs.scipy.org/doc/numpy/user/basics.types.html)\n",
    "NumPy can works (create, operate and I/O with arrays) with:\n",
    "1. Signed and unsigned integers of 8, 16, 32 and 64 bits.\n",
    "2. Floating point numbers of 32 and 64 bits.\n",
    "3. Complex (floating point) numbers of 64 and 128 bits.\n",
    "4. Strings."
   ]
  },
  {
   "cell_type": "markdown",
   "metadata": {},
   "source": [
    "## [Array creation, allocation and initialization](https://docs.scipy.org/doc/numpy/user/quickstart.html#array-creation)"
   ]
  },
  {
   "cell_type": "markdown",
   "metadata": {},
   "source": [
    "### Creation (without allocation memory)"
   ]
  },
  {
   "cell_type": "markdown",
   "metadata": {},
   "source": [
    "* Creating an empty (unallocated) array for working with 8-bits unsigned integers:"
   ]
  },
  {
   "cell_type": "code",
   "execution_count": 27,
   "metadata": {},
   "outputs": [
    {
     "name": "stdout",
     "output_type": "stream",
     "text": [
      "[] uint8\n"
     ]
    }
   ],
   "source": [
    "A = np.array([], dtype=np.uint8)\n",
    "print(A, A.dtype)"
   ]
  },
  {
   "cell_type": "markdown",
   "metadata": {},
   "source": [
    "Véase [dtype](https://docs.scipy.org/doc/numpy/reference/arrays.dtypes.html)."
   ]
  },
  {
   "cell_type": "markdown",
   "metadata": {},
   "source": [
    "* NumPy arrays are objects of the \"numpy.ndarray\" class:"
   ]
  },
  {
   "cell_type": "code",
   "execution_count": 252,
   "metadata": {},
   "outputs": [
    {
     "name": "stdout",
     "output_type": "stream",
     "text": [
      "<class 'numpy.ndarray'>\n"
     ]
    }
   ],
   "source": [
    "print(type(A))"
   ]
  },
  {
   "cell_type": "markdown",
   "metadata": {},
   "source": [
    "* All arrays has at least one dimension and a length in each dimenssion."
   ]
  },
  {
   "cell_type": "code",
   "execution_count": 28,
   "metadata": {},
   "outputs": [
    {
     "name": "stdout",
     "output_type": "stream",
     "text": [
      "number of dimensions=1, shape=(0,)\n"
     ]
    }
   ],
   "source": [
    "print(f\"number of dimensions={A.ndim}, shape={A.shape}\")"
   ]
  },
  {
   "cell_type": "markdown",
   "metadata": {},
   "source": [
    "### Allocation (without initializing the data array)"
   ]
  },
  {
   "cell_type": "code",
   "execution_count": 73,
   "metadata": {},
   "outputs": [
    {
     "name": "stdout",
     "output_type": "stream",
     "text": [
      "[-0.00e+000 -0.00e+000  1.14e-322  0.00e+000  0.00e+000  0.00e+000\n",
      "  0.00e+000  0.00e+000  0.00e+000  0.00e+000  0.00e+000  0.00e+000]\n"
     ]
    }
   ],
   "source": [
    "A = np.empty(12)\n",
    "print(A) # Uninitialized garbage values, possiblely at random."
   ]
  },
  {
   "cell_type": "code",
   "execution_count": 76,
   "metadata": {},
   "outputs": [
    {
     "name": "stdout",
     "output_type": "stream",
     "text": [
      "[-1.10e+001 -0.00e+000  1.14e-322  0.00e+000  0.00e+000  0.00e+000\n",
      "  0.00e+000  0.00e+000  0.00e+000  0.00e+000  0.00e+000  0.00e+000]\n"
     ]
    }
   ],
   "source": [
    "print(np.empty_like(A))"
   ]
  },
  {
   "cell_type": "markdown",
   "metadata": {},
   "source": [
    "### Allocating and initalizing"
   ]
  },
  {
   "cell_type": "markdown",
   "metadata": {},
   "source": [
    "* The content of an array can be provided by a list ...:"
   ]
  },
  {
   "cell_type": "code",
   "execution_count": 30,
   "metadata": {},
   "outputs": [
    {
     "name": "stdout",
     "output_type": "stream",
     "text": [
      "[1 2 3]\n"
     ]
    }
   ],
   "source": [
    "A = np.array([1, 2, 3])\n",
    "print(A)"
   ]
  },
  {
   "cell_type": "code",
   "execution_count": 38,
   "metadata": {},
   "outputs": [
    {
     "name": "stdout",
     "output_type": "stream",
     "text": [
      "[[1. +0.j 1. +0.j]\n",
      " [1. +1.j 0.3+0.j]]\n"
     ]
    }
   ],
   "source": [
    "A = np.array([[1,1.0],(1+1j,.3)])\n",
    "print(A)"
   ]
  },
  {
   "cell_type": "markdown",
   "metadata": {},
   "source": [
    "* ... or by different \"initializers\":"
   ]
  },
  {
   "cell_type": "code",
   "execution_count": 31,
   "metadata": {},
   "outputs": [
    {
     "name": "stdout",
     "output_type": "stream",
     "text": [
      "[0. 0. 0. 0. 0. 0. 0. 0. 0. 0.]\n"
     ]
    }
   ],
   "source": [
    "print(np.zeros(10))"
   ]
  },
  {
   "cell_type": "code",
   "execution_count": 46,
   "metadata": {
    "scrolled": false
   },
   "outputs": [
    {
     "name": "stdout",
     "output_type": "stream",
     "text": [
      "[[0. 0. 0. 0. 0.]\n",
      " [0. 0. 0. 0. 0.]\n",
      " [0. 0. 0. 0. 0.]\n",
      " [0. 0. 0. 0. 0.]\n",
      " [0. 0. 0. 0. 0.]]\n"
     ]
    }
   ],
   "source": [
    "print(np.zeros((5,5)))"
   ]
  },
  {
   "cell_type": "code",
   "execution_count": 32,
   "metadata": {},
   "outputs": [
    {
     "name": "stdout",
     "output_type": "stream",
     "text": [
      "[1. 1. 1. 1. 1. 1. 1. 1. 1. 1.]\n"
     ]
    }
   ],
   "source": [
    "print(np.ones(10))"
   ]
  },
  {
   "cell_type": "code",
   "execution_count": 24,
   "metadata": {
    "scrolled": true
   },
   "outputs": [
    {
     "name": "stdout",
     "output_type": "stream",
     "text": [
      "[[2 2 2 2 2]\n",
      " [2 2 2 2 2]\n",
      " [2 2 2 2 2]\n",
      " [2 2 2 2 2]\n",
      " [2 2 2 2 2]]\n"
     ]
    }
   ],
   "source": [
    "print(np.full((5,5), 2))"
   ]
  },
  {
   "cell_type": "code",
   "execution_count": 34,
   "metadata": {},
   "outputs": [
    {
     "name": "stdout",
     "output_type": "stream",
     "text": [
      "[0 1 2 3 4 5 6 7 8 9]\n"
     ]
    }
   ],
   "source": [
    "print(np.arange(10))"
   ]
  },
  {
   "cell_type": "code",
   "execution_count": 35,
   "metadata": {},
   "outputs": [
    {
     "name": "stdout",
     "output_type": "stream",
     "text": [
      "[1.  1.6 2.2 2.8 3.4 4. ]\n"
     ]
    }
   ],
   "source": [
    "print(np.linspace(1., 4., 6))"
   ]
  },
  {
   "cell_type": "code",
   "execution_count": 36,
   "metadata": {},
   "outputs": [
    {
     "name": "stdout",
     "output_type": "stream",
     "text": [
      "[0.25947045 0.60669705 0.70614822 0.45711567 0.69540743 0.33478637\n",
      " 0.91928435 0.86523359 0.2590883  0.46067252]\n"
     ]
    }
   ],
   "source": [
    "print(np.random.rand(10))"
   ]
  },
  {
   "cell_type": "code",
   "execution_count": 51,
   "metadata": {},
   "outputs": [
    {
     "name": "stdout",
     "output_type": "stream",
     "text": [
      "[[0.14515242 0.87567159 0.78860852 0.08344575 0.95831436]\n",
      " [0.43688972 0.54364482 0.44516617 0.89146911 0.57689682]\n",
      " [0.48386201 0.53665991 0.12748962 0.15890215 0.07821322]\n",
      " [0.9210016  0.19761478 0.99985553 0.2182543  0.23117302]\n",
      " [0.93475207 0.07723802 0.39685893 0.74970228 0.3775947 ]]\n",
      "[[0.41814883 0.06939196 0.50654056 0.39892154 0.75983793]\n",
      " [0.83167939 0.99611236 0.89077388 0.90083662 0.96660508]\n",
      " [0.27428386 0.16960216 0.65274279 0.02139508 0.1638928 ]\n",
      " [0.49956801 0.39162647 0.57359619 0.07605081 0.78190786]\n",
      " [0.22709869 0.71448082 0.8691687  0.77746539 0.87666355]]\n"
     ]
    }
   ],
   "source": [
    "# The random number generator is not reset in each call\n",
    "print(np.random.random((5,5)))\n",
    "print(np.random.random((5,5)))"
   ]
  },
  {
   "cell_type": "code",
   "execution_count": 25,
   "metadata": {},
   "outputs": [
    {
     "name": "stdout",
     "output_type": "stream",
     "text": [
      "[[1. 0. 0. 0. 0.]\n",
      " [0. 1. 0. 0. 0.]\n",
      " [0. 0. 1. 0. 0.]\n",
      " [0. 0. 0. 1. 0.]\n",
      " [0. 0. 0. 0. 1.]]\n"
     ]
    }
   ],
   "source": [
    "print(np.eye(5)) # Identity matrix"
   ]
  },
  {
   "cell_type": "code",
   "execution_count": 29,
   "metadata": {},
   "outputs": [
    {
     "name": "stdout",
     "output_type": "stream",
     "text": [
      "[0 1 2 3 4] 1 (5,)\n"
     ]
    }
   ],
   "source": [
    "A = np.array([i for i in range(5)]) # 1-D list comprehension\n",
    "print(A, A[1], A.shape)"
   ]
  },
  {
   "cell_type": "code",
   "execution_count": 30,
   "metadata": {},
   "outputs": [
    {
     "name": "stdout",
     "output_type": "stream",
     "text": [
      "[[ 0  1  2  3]\n",
      " [ 4  5  6  7]\n",
      " [ 8  9 10 11]\n",
      " [12 13 14 15]\n",
      " [16 17 18 19]] (5, 4)\n"
     ]
    }
   ],
   "source": [
    "A = np.array([[j+i*4 for j in range(4)] for i in range(5)]) # 2-D list comprehension\n",
    "print(A, A.shape)"
   ]
  },
  {
   "cell_type": "markdown",
   "metadata": {},
   "source": [
    "### [Reshaping](https://docs.scipy.org/doc/numpy/user/quickstart.html#shape-manipulation)"
   ]
  },
  {
   "cell_type": "code",
   "execution_count": 119,
   "metadata": {},
   "outputs": [
    {
     "name": "stdout",
     "output_type": "stream",
     "text": [
      "[[1 2 3]\n",
      " [4 5 6]]\n",
      "(2, 3)\n"
     ]
    }
   ],
   "source": [
    "A = np.array([[1,2,3],[4,5,6]])\n",
    "print(A)\n",
    "print(A.shape)"
   ]
  },
  {
   "cell_type": "code",
   "execution_count": 120,
   "metadata": {
    "scrolled": true
   },
   "outputs": [
    {
     "data": {
      "text/plain": [
       "array([[1, 2],\n",
       "       [3, 4],\n",
       "       [5, 6]])"
      ]
     },
     "execution_count": 120,
     "metadata": {},
     "output_type": "execute_result"
    }
   ],
   "source": [
    "np.reshape(A, (3, 2))"
   ]
  },
  {
   "cell_type": "markdown",
   "metadata": {},
   "source": [
    "### C vs Fortran order"
   ]
  },
  {
   "cell_type": "code",
   "execution_count": 108,
   "metadata": {},
   "outputs": [
    {
     "name": "stdout",
     "output_type": "stream",
     "text": [
      "[[ 0  1  2  3]\n",
      " [ 4  5  6  7]\n",
      " [ 8  9 10 11]\n",
      " [12 13 14 15]\n",
      " [16 17 18 19]]\n"
     ]
    }
   ],
   "source": [
    "A = np.empty((5,4), dtype=np.int16, order='C') # C order is the default\n",
    "for row in range(A.shape[0]):\n",
    "    for col in range(A.shape[1]):\n",
    "        A[row, col] = col+row*A.shape[1]\n",
    "print(A)"
   ]
  },
  {
   "cell_type": "code",
   "execution_count": 103,
   "metadata": {},
   "outputs": [
    {
     "name": "stdout",
     "output_type": "stream",
     "text": [
      "False\n"
     ]
    }
   ],
   "source": [
    "print(np.isfortran(A))"
   ]
  },
  {
   "cell_type": "code",
   "execution_count": 116,
   "metadata": {},
   "outputs": [
    {
     "name": "stdout",
     "output_type": "stream",
     "text": [
      "[[ 0 16 13 10  7]\n",
      " [ 4  1 17 14 11]\n",
      " [ 8  5  2 18 15]\n",
      " [12  9  6  3 19]]\n"
     ]
    }
   ],
   "source": [
    "B = np.reshape(A, (4,5), order='F')\n",
    "print(B)"
   ]
  },
  {
   "cell_type": "code",
   "execution_count": 117,
   "metadata": {},
   "outputs": [
    {
     "name": "stdout",
     "output_type": "stream",
     "text": [
      "True\n"
     ]
    }
   ],
   "source": [
    "print(np.isfortran(B))"
   ]
  },
  {
   "cell_type": "code",
   "execution_count": 118,
   "metadata": {
    "scrolled": true
   },
   "outputs": [
    {
     "name": "stdout",
     "output_type": "stream",
     "text": [
      "  C_CONTIGUOUS : True\n",
      "  F_CONTIGUOUS : False\n",
      "  OWNDATA : True\n",
      "  WRITEABLE : True\n",
      "  ALIGNED : True\n",
      "  WRITEBACKIFCOPY : False\n",
      "  UPDATEIFCOPY : False\n",
      "\n",
      "  C_CONTIGUOUS : False\n",
      "  F_CONTIGUOUS : True\n",
      "  OWNDATA : False\n",
      "  WRITEABLE : True\n",
      "  ALIGNED : True\n",
      "  WRITEBACKIFCOPY : False\n",
      "  UPDATEIFCOPY : False\n",
      "\n"
     ]
    }
   ],
   "source": [
    "print(A.flags)\n",
    "print(B.flags)"
   ]
  },
  {
   "cell_type": "markdown",
   "metadata": {},
   "source": [
    "## [Views and copies](https://docs.scipy.org/doc/numpy/user/quickstart.html#copies-and-views)"
   ]
  },
  {
   "cell_type": "markdown",
   "metadata": {},
   "source": [
    "### Pointer copy"
   ]
  },
  {
   "cell_type": "markdown",
   "metadata": {},
   "source": [
    "* Simple assignments do not copy of array objects or of their data:"
   ]
  },
  {
   "cell_type": "code",
   "execution_count": 121,
   "metadata": {},
   "outputs": [
    {
     "data": {
      "text/plain": [
       "array([ 2,  3,  5,  7, 11, 13, 17, 19, 23, 29, 31, 37, 41, 43, 47, 53, 59,\n",
       "       61, 67, 71, 73, 79, 83, 89, 97])"
      ]
     },
     "execution_count": 121,
     "metadata": {},
     "output_type": "execute_result"
    }
   ],
   "source": [
    "# https://stackoverflow.com/questions/56090021/list-comprehension-python-prime-numbers\n",
    "Primes_less_than_100 = np.array([x for x in range(2,100) if not any([x % y == 0 for y in range(2, int(x/2)+1)])])\n",
    "Primes_less_than_100"
   ]
  },
  {
   "cell_type": "code",
   "execution_count": 122,
   "metadata": {},
   "outputs": [
    {
     "data": {
      "text/plain": [
       "array([ 2,  3,  5,  7, 11, 13, 17, 19, 23, 29, 31, 37, 41, 43, 47, 53, 59,\n",
       "       61, 67, 71, 73, 79, 83, 89, 97])"
      ]
     },
     "execution_count": 122,
     "metadata": {},
     "output_type": "execute_result"
    }
   ],
   "source": [
    "A = Primes_less_than_100 # This is a copy of pointers\n",
    "A"
   ]
  },
  {
   "cell_type": "code",
   "execution_count": 123,
   "metadata": {},
   "outputs": [
    {
     "data": {
      "text/plain": [
       "array([ 1,  3,  5,  7, 11, 13, 17, 19, 23, 29, 31, 37, 41, 43, 47, 53, 59,\n",
       "       61, 67, 71, 73, 79, 83, 89, 97])"
      ]
     },
     "execution_count": 123,
     "metadata": {},
     "output_type": "execute_result"
    }
   ],
   "source": [
    "A[0]=1\n",
    "A"
   ]
  },
  {
   "cell_type": "code",
   "execution_count": 124,
   "metadata": {},
   "outputs": [
    {
     "data": {
      "text/plain": [
       "array([ 1,  3,  5,  7, 11, 13, 17, 19, 23, 29, 31, 37, 41, 43, 47, 53, 59,\n",
       "       61, 67, 71, 73, 79, 83, 89, 97])"
      ]
     },
     "execution_count": 124,
     "metadata": {},
     "output_type": "execute_result"
    }
   ],
   "source": [
    "Primes_less_than_100"
   ]
  },
  {
   "cell_type": "code",
   "execution_count": 125,
   "metadata": {},
   "outputs": [
    {
     "data": {
      "text/plain": [
       "4678855056"
      ]
     },
     "execution_count": 125,
     "metadata": {},
     "output_type": "execute_result"
    }
   ],
   "source": [
    "id(A)"
   ]
  },
  {
   "cell_type": "code",
   "execution_count": 126,
   "metadata": {},
   "outputs": [
    {
     "data": {
      "text/plain": [
       "4678855056"
      ]
     },
     "execution_count": 126,
     "metadata": {},
     "output_type": "execute_result"
    }
   ],
   "source": [
    "id(Primes_less_than_100)"
   ]
  },
  {
   "cell_type": "code",
   "execution_count": 128,
   "metadata": {},
   "outputs": [
    {
     "data": {
      "text/plain": [
       "True"
      ]
     },
     "execution_count": 128,
     "metadata": {},
     "output_type": "execute_result"
    }
   ],
   "source": [
    "A is Primes_less_than_100"
   ]
  },
  {
   "cell_type": "markdown",
   "metadata": {},
   "source": [
    "### Shallow copy (view)"
   ]
  },
  {
   "cell_type": "code",
   "execution_count": 129,
   "metadata": {},
   "outputs": [
    {
     "name": "stdout",
     "output_type": "stream",
     "text": [
      "(25,)\n"
     ]
    }
   ],
   "source": [
    "print(Primes_less_than_100.shape)"
   ]
  },
  {
   "cell_type": "code",
   "execution_count": 130,
   "metadata": {},
   "outputs": [
    {
     "name": "stdout",
     "output_type": "stream",
     "text": [
      "(5, 5)\n"
     ]
    }
   ],
   "source": [
    "A = Primes_less_than_100.reshape(5,5)\n",
    "print(A.shape)"
   ]
  },
  {
   "cell_type": "code",
   "execution_count": 131,
   "metadata": {},
   "outputs": [
    {
     "data": {
      "text/plain": [
       "False"
      ]
     },
     "execution_count": 131,
     "metadata": {},
     "output_type": "execute_result"
    }
   ],
   "source": [
    "A is Primes_less_than_100"
   ]
  },
  {
   "cell_type": "code",
   "execution_count": 132,
   "metadata": {},
   "outputs": [
    {
     "data": {
      "text/plain": [
       "True"
      ]
     },
     "execution_count": 132,
     "metadata": {},
     "output_type": "execute_result"
    }
   ],
   "source": [
    "A.base is Primes_less_than_100"
   ]
  },
  {
   "cell_type": "code",
   "execution_count": 133,
   "metadata": {},
   "outputs": [
    {
     "data": {
      "text/plain": [
       "False"
      ]
     },
     "execution_count": 133,
     "metadata": {},
     "output_type": "execute_result"
    }
   ],
   "source": [
    "A.flags.owndata"
   ]
  },
  {
   "cell_type": "code",
   "execution_count": 135,
   "metadata": {},
   "outputs": [
    {
     "name": "stdout",
     "output_type": "stream",
     "text": [
      "[ 1  3  5  7 11 13 17 19 23 29 31 37 41 43 47 53 59 61 67 71 73 79 83 89\n",
      " 97] [[ 1  3  5  7 11]\n",
      " [13 17 19 23 29]\n",
      " [31 37 41 43 47]\n",
      " [53 59 61 67 71]\n",
      " [73 79 83 89 97]]\n"
     ]
    }
   ],
   "source": [
    "print(Primes_less_than_100, A)"
   ]
  },
  {
   "cell_type": "code",
   "execution_count": 138,
   "metadata": {},
   "outputs": [
    {
     "name": "stdout",
     "output_type": "stream",
     "text": [
      "[ 2  3  5  7 11 13  2 19 23 29 31 37 41 43 47 53 59 61 67 71 73 79 83 89\n",
      " 97] [[ 2  3  5  7 11]\n",
      " [13  2 19 23 29]\n",
      " [31 37 41 43 47]\n",
      " [53 59 61 67 71]\n",
      " [73 79 83 89 97]]\n"
     ]
    }
   ],
   "source": [
    "A[0,0] = 2\n",
    "print(Primes_less_than_100, A)"
   ]
  },
  {
   "cell_type": "markdown",
   "metadata": {},
   "source": [
    "### Deep (object +  data) copy"
   ]
  },
  {
   "cell_type": "code",
   "execution_count": 55,
   "metadata": {},
   "outputs": [],
   "source": [
    "Primes_less_than_100 = np.array([x for x in range(2,100) if not any([x % y == 0 for y in range(2, int(x/2)+1)])])\n",
    "A = np.copy(Primes_less_than_100)"
   ]
  },
  {
   "cell_type": "code",
   "execution_count": 139,
   "metadata": {},
   "outputs": [
    {
     "data": {
      "text/plain": [
       "False"
      ]
     },
     "execution_count": 139,
     "metadata": {},
     "output_type": "execute_result"
    }
   ],
   "source": [
    "A is Primes_less_than_100"
   ]
  },
  {
   "cell_type": "code",
   "execution_count": 58,
   "metadata": {},
   "outputs": [
    {
     "data": {
      "text/plain": [
       "2"
      ]
     },
     "execution_count": 58,
     "metadata": {},
     "output_type": "execute_result"
    }
   ],
   "source": [
    "Primes_less_than_100[0]"
   ]
  },
  {
   "cell_type": "code",
   "execution_count": 59,
   "metadata": {},
   "outputs": [],
   "source": [
    "A[0] = 1"
   ]
  },
  {
   "cell_type": "code",
   "execution_count": 60,
   "metadata": {},
   "outputs": [
    {
     "name": "stdout",
     "output_type": "stream",
     "text": [
      "2 1\n"
     ]
    }
   ],
   "source": [
    "print(Primes_less_than_100[0], A[0])"
   ]
  },
  {
   "cell_type": "code",
   "execution_count": 61,
   "metadata": {},
   "outputs": [
    {
     "name": "stdout",
     "output_type": "stream",
     "text": [
      "74.8 ns ± 6.22 ns per loop (mean ± std. dev. of 7 runs, 10000000 loops each)\n"
     ]
    }
   ],
   "source": [
    "timeit A=Primes_less_than_100 # This is much faster, depending on the size of the array"
   ]
  },
  {
   "cell_type": "code",
   "execution_count": 62,
   "metadata": {},
   "outputs": [
    {
     "name": "stdout",
     "output_type": "stream",
     "text": [
      "5.77 µs ± 1.04 µs per loop (mean ± std. dev. of 7 runs, 100000 loops each)\n"
     ]
    }
   ],
   "source": [
    "%timeit A = np.copy(Primes_less_than_100)"
   ]
  },
  {
   "cell_type": "markdown",
   "metadata": {},
   "source": [
    "## More about array [indexing](https://docs.scipy.org/doc/numpy/user/basics.indexing.html) and [iterating](https://docs.scipy.org/doc/numpy/user/quickstart.html#indexing-slicing-and-iterating)\n",
    "NumPy arrays are indexed by nonnegative integers."
   ]
  },
  {
   "cell_type": "markdown",
   "metadata": {},
   "source": [
    "### More about simple indexing"
   ]
  },
  {
   "cell_type": "code",
   "execution_count": 82,
   "metadata": {},
   "outputs": [
    {
     "name": "stdout",
     "output_type": "stream",
     "text": [
      "[[ 0  1  2  3]\n",
      " [ 4  5  6  7]\n",
      " [ 8  9 10 11]\n",
      " [12 13 14 15]\n",
      " [16 17 18 19]]\n",
      "6\n"
     ]
    }
   ],
   "source": [
    "A = np.arange(20).reshape(5, 4)\n",
    "print(A)\n",
    "print(A[1, 2]) # [row, column]"
   ]
  },
  {
   "cell_type": "code",
   "execution_count": 83,
   "metadata": {},
   "outputs": [
    {
     "name": "stdout",
     "output_type": "stream",
     "text": [
      "[4 5 6 7]\n"
     ]
    }
   ],
   "source": [
    "print(A[1]) # Get the second row"
   ]
  },
  {
   "cell_type": "code",
   "execution_count": 32,
   "metadata": {},
   "outputs": [
    {
     "data": {
      "text/plain": [
       "6"
      ]
     },
     "execution_count": 32,
     "metadata": {},
     "output_type": "execute_result"
    }
   ],
   "source": [
    "A[1][2] # [row][column]. Access first to the row, and then, to the column"
   ]
  },
  {
   "cell_type": "markdown",
   "metadata": {},
   "source": [
    "* Be careful:"
   ]
  },
  {
   "cell_type": "code",
   "execution_count": 34,
   "metadata": {},
   "outputs": [
    {
     "name": "stdout",
     "output_type": "stream",
     "text": [
      "1.22 µs ± 70.8 ns per loop (mean ± std. dev. of 7 runs, 1000000 loops each)\n"
     ]
    }
   ],
   "source": [
    "timeit A[1][2]"
   ]
  },
  {
   "cell_type": "code",
   "execution_count": 35,
   "metadata": {},
   "outputs": [
    {
     "name": "stdout",
     "output_type": "stream",
     "text": [
      "503 ns ± 92.4 ns per loop (mean ± std. dev. of 7 runs, 1000000 loops each)\n"
     ]
    }
   ],
   "source": [
    "timeit A[1,2] # Access directly to the element"
   ]
  },
  {
   "cell_type": "markdown",
   "metadata": {},
   "source": [
    "### [Array indexing](https://docs.scipy.org/doc/numpy/user/quickstart.html#indexing-with-arrays-of-indices) (also known as [fancy indexing](https://docs.scipy.org/doc/numpy/reference/arrays.indexing.html#advanced-indexing))"
   ]
  },
  {
   "cell_type": "code",
   "execution_count": 156,
   "metadata": {},
   "outputs": [
    {
     "name": "stdout",
     "output_type": "stream",
     "text": [
      "[[ 0  1  2  3]\n",
      " [ 4  5  6  7]\n",
      " [ 8  9 10 11]\n",
      " [12 13 14 15]\n",
      " [16 17 18 19]]\n",
      "[3 6 9]\n"
     ]
    }
   ],
   "source": [
    "A = np.arange(20).reshape(5, 4)\n",
    "print(A)\n",
    "dim_0_coordinates = [0, 1, 2]\n",
    "dim_1_coordinates = [3, 2, 1]\n",
    "print(A[dim_0_coordinates, dim_1_coordinates])"
   ]
  },
  {
   "cell_type": "markdown",
   "metadata": {},
   "source": [
    "* Notice that the indices can be determined by lists:"
   ]
  },
  {
   "cell_type": "code",
   "execution_count": 91,
   "metadata": {},
   "outputs": [
    {
     "name": "stdout",
     "output_type": "stream",
     "text": [
      "[3 6 9]\n"
     ]
    }
   ],
   "source": [
    "print(A[[i for i in range(3)], [i for i in range(3,0,-1)]])"
   ]
  },
  {
   "cell_type": "markdown",
   "metadata": {},
   "source": [
    "* ... or by NumPy arrays:"
   ]
  },
  {
   "cell_type": "code",
   "execution_count": 38,
   "metadata": {},
   "outputs": [
    {
     "name": "stdout",
     "output_type": "stream",
     "text": [
      "[0 1 2]\n",
      "[3 2 1]\n",
      "[3 6 9]\n"
     ]
    }
   ],
   "source": [
    "print(np.arange(3))\n",
    "print(np.arange(3,0,-1))\n",
    "print(A[np.arange(3), np.arange(3,0,-1)])"
   ]
  },
  {
   "cell_type": "code",
   "execution_count": 178,
   "metadata": {},
   "outputs": [
    {
     "name": "stdout",
     "output_type": "stream",
     "text": [
      "[[ 0  1  2  3  4  5  6  7  8  9]\n",
      " [10 11 12 13 14 15 16 17 18 19]\n",
      " [20 21 22 23 24 25 26 27 28 29]\n",
      " [30 31 32 33 34 35 36 37 38 39]\n",
      " [40 41 42 43 44 45 46 47 48 49]\n",
      " [50 51 52 53 54 55 56 57 58 59]\n",
      " [60 61 62 63 64 65 66 67 68 69]\n",
      " [70 71 72 73 74 75 76 77 78 79]\n",
      " [80 81 82 83 84 85 86 87 88 89]\n",
      " [90 91 92 93 94 95 96 97 98 99]]\n",
      "[[11 12 15]\n",
      " [21 22 25]\n",
      " [41 42 45]]\n"
     ]
    }
   ],
   "source": [
    "A = np.arange(100).reshape(10,10)\n",
    "print(A)\n",
    "lst_of_rows = [1, 2, 4]\n",
    "lst_of_columns = [1, 2, 5]\n",
    "sub_matrix = A[lst_of_rows][:, lst_of_columns]\n",
    "print(sub_matrix)"
   ]
  },
  {
   "cell_type": "markdown",
   "metadata": {},
   "source": [
    "* Be careful, advanced indexing always returns a copy of the data (contrast with basic slicing that returns a view)."
   ]
  },
  {
   "cell_type": "code",
   "execution_count": 13,
   "metadata": {},
   "outputs": [
    {
     "name": "stdout",
     "output_type": "stream",
     "text": [
      "[ 0 11 22]\n"
     ]
    }
   ],
   "source": [
    "B = A[[0, 1, 2], [0, 1, 2]]\n",
    "print(B)"
   ]
  },
  {
   "cell_type": "code",
   "execution_count": 8,
   "metadata": {},
   "outputs": [
    {
     "name": "stdout",
     "output_type": "stream",
     "text": [
      "[[ 0  1  2  3  4  5  6  7  8  9]\n",
      " [10 11 12 13 14 15 16 17 18 19]\n",
      " [20 21 22 23 24 25 26 27 28 29]\n",
      " [30 31 32 33 34 35 36 37 38 39]\n",
      " [40 41 42 43 44 45 46 47 48 49]\n",
      " [50 51 52 53 54 55 56 57 58 59]\n",
      " [60 61 62 63 64 65 66 67 68 69]\n",
      " [70 71 72 73 74 75 76 77 78 79]\n",
      " [80 81 82 83 84 85 86 87 88 89]\n",
      " [90 91 92 93 94 95 96 97 98 99]]\n"
     ]
    }
   ],
   "source": [
    "print(A)"
   ]
  },
  {
   "cell_type": "code",
   "execution_count": 18,
   "metadata": {},
   "outputs": [],
   "source": [
    "B[...] = -1"
   ]
  },
  {
   "cell_type": "code",
   "execution_count": 19,
   "metadata": {},
   "outputs": [
    {
     "name": "stdout",
     "output_type": "stream",
     "text": [
      "[-1 -1 -1]\n"
     ]
    }
   ],
   "source": [
    "print(B)"
   ]
  },
  {
   "cell_type": "code",
   "execution_count": 20,
   "metadata": {},
   "outputs": [
    {
     "name": "stdout",
     "output_type": "stream",
     "text": [
      "[[ 0  1  2  3  4  5  6  7  8  9]\n",
      " [10 11 12 13 14 15 16 17 18 19]\n",
      " [20 21 22 23 24 25 26 27 28 29]\n",
      " [30 31 32 33 34 35 36 37 38 39]\n",
      " [40 41 42 43 44 45 46 47 48 49]\n",
      " [50 51 52 53 54 55 56 57 58 59]\n",
      " [60 61 62 63 64 65 66 67 68 69]\n",
      " [70 71 72 73 74 75 76 77 78 79]\n",
      " [80 81 82 83 84 85 86 87 88 89]\n",
      " [90 91 92 93 94 95 96 97 98 99]]\n"
     ]
    }
   ],
   "source": [
    "print(A)"
   ]
  },
  {
   "cell_type": "markdown",
   "metadata": {},
   "source": [
    " ### Boolean array indexing"
   ]
  },
  {
   "cell_type": "markdown",
   "metadata": {},
   "source": [
    "* Finding the elements bigger than ..."
   ]
  },
  {
   "cell_type": "code",
   "execution_count": 308,
   "metadata": {},
   "outputs": [
    {
     "name": "stdout",
     "output_type": "stream",
     "text": [
      "[ 0  1  2  3  4  5  6  7  8  9 10 11 12 13 14 15 16 17 18 19] (20,)\n",
      "[False False False False False False False False False False False False\n",
      " False  True  True  True  True  True  True  True] (20,)\n"
     ]
    }
   ],
   "source": [
    "A = np.arange(20)\n",
    "print(A, A.shape)\n",
    "bool_idx = (A>12)\n",
    "print(bool_idx, bool_idx.shape)"
   ]
  },
  {
   "cell_type": "markdown",
   "metadata": {},
   "source": [
    "* Printing the elements bigger than ..."
   ]
  },
  {
   "cell_type": "code",
   "execution_count": 309,
   "metadata": {},
   "outputs": [
    {
     "name": "stdout",
     "output_type": "stream",
     "text": [
      "[13 14 15 16 17 18 19]\n"
     ]
    }
   ],
   "source": [
    "print(A[bool_idx])"
   ]
  },
  {
   "cell_type": "markdown",
   "metadata": {},
   "source": [
    "* Getting the elements of an array smaller than ...:"
   ]
  },
  {
   "cell_type": "code",
   "execution_count": 344,
   "metadata": {},
   "outputs": [
    {
     "name": "stdout",
     "output_type": "stream",
     "text": [
      "[[ 14 -31  30 -20  29]\n",
      " [ -8 -44 -48  32  -4]\n",
      " [ 33  26 -35  27  19]\n",
      " [ -3  48  44  11  -5]\n",
      " [-26 -35   1   9   9]]\n",
      "[-31 -20  -8 -44 -48  -4 -35  -3  -5 -26 -35]\n"
     ]
    }
   ],
   "source": [
    "A = (100*(0.5-np.random.rand(25))).astype(np.int16).reshape(5,5)\n",
    "print(A)\n",
    "print(A[A<0]) # Notice that len(A[A<0]) <= len(A)"
   ]
  },
  {
   "cell_type": "markdown",
   "metadata": {},
   "source": [
    "* Changing the elements smaller than ...:"
   ]
  },
  {
   "cell_type": "code",
   "execution_count": 345,
   "metadata": {},
   "outputs": [
    {
     "name": "stdout",
     "output_type": "stream",
     "text": [
      "[[14  0 30  0 29]\n",
      " [ 0  0  0 32  0]\n",
      " [33 26  0 27 19]\n",
      " [ 0 48 44 11  0]\n",
      " [ 0  0  1  9  9]]\n"
     ]
    }
   ],
   "source": [
    "A[A<0] = 0\n",
    "print(A)"
   ]
  },
  {
   "cell_type": "markdown",
   "metadata": {},
   "source": [
    "### Iterating"
   ]
  },
  {
   "cell_type": "code",
   "execution_count": 157,
   "metadata": {},
   "outputs": [
    {
     "name": "stdout",
     "output_type": "stream",
     "text": [
      "[0 1 2 3]\n",
      "[4 5 6 7]\n",
      "[ 8  9 10 11]\n",
      "[12 13 14 15]\n",
      "[16 17 18 19]\n"
     ]
    }
   ],
   "source": [
    "for row in A:\n",
    "    print(row)"
   ]
  },
  {
   "cell_type": "code",
   "execution_count": 159,
   "metadata": {},
   "outputs": [
    {
     "name": "stdout",
     "output_type": "stream",
     "text": [
      "0 1 2 3 4 5 6 7 8 9 10 11 12 13 14 15 16 17 18 19 "
     ]
    }
   ],
   "source": [
    "for element in A.flat:\n",
    "    print(element, end=' ')"
   ]
  },
  {
   "cell_type": "markdown",
   "metadata": {},
   "source": [
    "## Extending arrays"
   ]
  },
  {
   "cell_type": "markdown",
   "metadata": {},
   "source": [
    "* Appending elements:"
   ]
  },
  {
   "cell_type": "code",
   "execution_count": 141,
   "metadata": {},
   "outputs": [
    {
     "name": "stdout",
     "output_type": "stream",
     "text": [
      "[0 1 2]\n",
      "[0 1 2 4]\n"
     ]
    }
   ],
   "source": [
    "A = np.arange(3)\n",
    "print(A)\n",
    "A = np.append(A, 4)\n",
    "print(A)"
   ]
  },
  {
   "cell_type": "code",
   "execution_count": 142,
   "metadata": {},
   "outputs": [
    {
     "name": "stdout",
     "output_type": "stream",
     "text": [
      "[-1  0  1  2  4]\n"
     ]
    }
   ],
   "source": [
    "A = np.append(-1, A)\n",
    "print(A)"
   ]
  },
  {
   "cell_type": "code",
   "execution_count": 145,
   "metadata": {},
   "outputs": [
    {
     "name": "stdout",
     "output_type": "stream",
     "text": [
      "[-1  0  1  2  4 -1  0  1  2  4]\n"
     ]
    }
   ],
   "source": [
    "B = np.concatenate((A, A), axis=None)\n",
    "print(B)"
   ]
  },
  {
   "cell_type": "code",
   "execution_count": 146,
   "metadata": {},
   "outputs": [
    {
     "name": "stdout",
     "output_type": "stream",
     "text": [
      "[-1  0  1  2  4 -1  0  1  2  4]\n"
     ]
    }
   ],
   "source": [
    "B = np.concatenate((A, A), axis=0)\n",
    "print(B)"
   ]
  },
  {
   "cell_type": "code",
   "execution_count": 148,
   "metadata": {},
   "outputs": [
    {
     "name": "stdout",
     "output_type": "stream",
     "text": [
      "[[ 0  1  2  3  4  5]\n",
      " [ 6  7  8  9 10 11]\n",
      " [12 13 14 15 16 17]\n",
      " [18 19 20 21 22 23]\n",
      " [24 25 26 27 28 29]]\n"
     ]
    }
   ],
   "source": [
    "A = np.arange(30).reshape(5,6)\n",
    "print(A)"
   ]
  },
  {
   "cell_type": "code",
   "execution_count": 150,
   "metadata": {},
   "outputs": [
    {
     "name": "stdout",
     "output_type": "stream",
     "text": [
      "[[1]\n",
      " [1]\n",
      " [1]\n",
      " [1]\n",
      " [1]]\n"
     ]
    }
   ],
   "source": [
    "B = np.ones(5, dtype=np.int16).reshape(5,1)\n",
    "print(B)"
   ]
  },
  {
   "cell_type": "code",
   "execution_count": 153,
   "metadata": {},
   "outputs": [
    {
     "name": "stdout",
     "output_type": "stream",
     "text": [
      "[[ 0  1  2  3  4  5  1]\n",
      " [ 6  7  8  9 10 11  1]\n",
      " [12 13 14 15 16 17  1]\n",
      " [18 19 20 21 22 23  1]\n",
      " [24 25 26 27 28 29  1]]\n"
     ]
    }
   ],
   "source": [
    "C = np.hstack((A, B))\n",
    "print(C)"
   ]
  },
  {
   "cell_type": "code",
   "execution_count": 154,
   "metadata": {},
   "outputs": [
    {
     "name": "stdout",
     "output_type": "stream",
     "text": [
      "[1 1 1 1 1 1 1]\n"
     ]
    }
   ],
   "source": [
    "B = np.ones(7, dtype=np.int16)\n",
    "print(B)"
   ]
  },
  {
   "cell_type": "code",
   "execution_count": 155,
   "metadata": {},
   "outputs": [
    {
     "name": "stdout",
     "output_type": "stream",
     "text": [
      "[[ 0  1  2  3  4  5  1]\n",
      " [ 6  7  8  9 10 11  1]\n",
      " [12 13 14 15 16 17  1]\n",
      " [18 19 20 21 22 23  1]\n",
      " [24 25 26 27 28 29  1]\n",
      " [ 1  1  1  1  1  1  1]]\n"
     ]
    }
   ],
   "source": [
    "C = np.vstack((C, B))\n",
    "print(C)"
   ]
  },
  {
   "cell_type": "markdown",
   "metadata": {},
   "source": [
    "## Permuting (swapping) dimensions (axes)"
   ]
  },
  {
   "cell_type": "markdown",
   "metadata": {},
   "source": [
    "* Permuting dimensions only makes sense when the number of dimensions is > 1:"
   ]
  },
  {
   "cell_type": "code",
   "execution_count": 178,
   "metadata": {},
   "outputs": [
    {
     "name": "stdout",
     "output_type": "stream",
     "text": [
      "[[ 0  1  2  3]\n",
      " [ 4  5  6  7]\n",
      " [ 8  9 10 11]\n",
      " [12 13 14 15]\n",
      " [16 17 18 19]] (5, 4)\n"
     ]
    }
   ],
   "source": [
    "A = np.arange(20).reshape(5,4)\n",
    "print(A, A.shape)"
   ]
  },
  {
   "cell_type": "code",
   "execution_count": 180,
   "metadata": {},
   "outputs": [
    {
     "name": "stdout",
     "output_type": "stream",
     "text": [
      "[[ 0  4  8 12 16]\n",
      " [ 1  5  9 13 17]\n",
      " [ 2  6 10 14 18]\n",
      " [ 3  7 11 15 19]] (4, 5)\n"
     ]
    }
   ],
   "source": [
    "print(np.transpose(A), np.transpose(A).shape)"
   ]
  },
  {
   "cell_type": "code",
   "execution_count": 179,
   "metadata": {},
   "outputs": [
    {
     "name": "stdout",
     "output_type": "stream",
     "text": [
      "[[ 0  4  8 12 16]\n",
      " [ 1  5  9 13 17]\n",
      " [ 2  6 10 14 18]\n",
      " [ 3  7 11 15 19]] (4, 5)\n"
     ]
    }
   ],
   "source": [
    "print(A.T, A.T.shape)"
   ]
  },
  {
   "cell_type": "markdown",
   "metadata": {},
   "source": [
    "* Transposing permutes all the dimensions:"
   ]
  },
  {
   "cell_type": "code",
   "execution_count": 183,
   "metadata": {},
   "outputs": [
    {
     "name": "stdout",
     "output_type": "stream",
     "text": [
      "[[[ 0  1  2  3]\n",
      "  [ 4  5  6  7]\n",
      "  [ 8  9 10 11]\n",
      "  [12 13 14 15]\n",
      "  [16 17 18 19]]\n",
      "\n",
      " [[20 21 22 23]\n",
      "  [24 25 26 27]\n",
      "  [28 29 30 31]\n",
      "  [32 33 34 35]\n",
      "  [36 37 38 39]]\n",
      "\n",
      " [[40 41 42 43]\n",
      "  [44 45 46 47]\n",
      "  [48 49 50 51]\n",
      "  [52 53 54 55]\n",
      "  [56 57 58 59]]] (3, 5, 4)\n"
     ]
    }
   ],
   "source": [
    "A = np.arange(60).reshape(3,5,4)\n",
    "print(A, A.shape)"
   ]
  },
  {
   "cell_type": "code",
   "execution_count": 186,
   "metadata": {},
   "outputs": [
    {
     "name": "stdout",
     "output_type": "stream",
     "text": [
      "[[[ 0 20 40]\n",
      "  [ 4 24 44]\n",
      "  [ 8 28 48]\n",
      "  [12 32 52]\n",
      "  [16 36 56]]\n",
      "\n",
      " [[ 1 21 41]\n",
      "  [ 5 25 45]\n",
      "  [ 9 29 49]\n",
      "  [13 33 53]\n",
      "  [17 37 57]]\n",
      "\n",
      " [[ 2 22 42]\n",
      "  [ 6 26 46]\n",
      "  [10 30 50]\n",
      "  [14 34 54]\n",
      "  [18 38 58]]\n",
      "\n",
      " [[ 3 23 43]\n",
      "  [ 7 27 47]\n",
      "  [11 31 51]\n",
      "  [15 35 55]\n",
      "  [19 39 59]]] (4, 5, 3)\n"
     ]
    }
   ],
   "source": [
    "print(A.T, A.T.shape)"
   ]
  },
  {
   "cell_type": "markdown",
   "metadata": {},
   "source": [
    "## Increasing and decreasing dimensions"
   ]
  },
  {
   "cell_type": "markdown",
   "metadata": {},
   "source": [
    "* Shape and dimensions:"
   ]
  },
  {
   "cell_type": "code",
   "execution_count": 192,
   "metadata": {},
   "outputs": [
    {
     "name": "stdout",
     "output_type": "stream",
     "text": [
      "[0 1 2 3 4] (5,) 1\n"
     ]
    }
   ],
   "source": [
    "A = np.arange(5)\n",
    "print(A, A.shape, A.ndim)"
   ]
  },
  {
   "cell_type": "markdown",
   "metadata": {},
   "source": [
    "* Increasing the dimensions on the right:"
   ]
  },
  {
   "cell_type": "code",
   "execution_count": 195,
   "metadata": {},
   "outputs": [
    {
     "name": "stdout",
     "output_type": "stream",
     "text": [
      "[[0]\n",
      " [1]\n",
      " [2]\n",
      " [3]\n",
      " [4]] (5, 1) 2\n"
     ]
    }
   ],
   "source": [
    "B = A[:, None]\n",
    "print(B, B.shape, B.ndim)"
   ]
  },
  {
   "cell_type": "markdown",
   "metadata": {},
   "source": [
    "* Increasing the dimensions on the left:"
   ]
  },
  {
   "cell_type": "code",
   "execution_count": 194,
   "metadata": {},
   "outputs": [
    {
     "name": "stdout",
     "output_type": "stream",
     "text": [
      "[[0 1 2 3 4]] (1, 5) 2\n"
     ]
    }
   ],
   "source": [
    "B = A[None, :]\n",
    "print(B, B.shape, B.ndim)"
   ]
  },
  {
   "cell_type": "markdown",
   "metadata": {},
   "source": [
    "* For convenience, NumPy provides the np.newaxis object instead None (althougt both are quivalent):"
   ]
  },
  {
   "cell_type": "code",
   "execution_count": 399,
   "metadata": {},
   "outputs": [
    {
     "name": "stdout",
     "output_type": "stream",
     "text": [
      "[[[[ 0  1  2]\n",
      "   [ 3  4  5]\n",
      "   [ 6  7  8]]\n",
      "\n",
      "  [[ 9 10 11]\n",
      "   [12 13 14]\n",
      "   [15 16 17]]\n",
      "\n",
      "  [[18 19 20]\n",
      "   [21 22 23]\n",
      "   [24 25 26]]]] (1, 3, 3, 3) 4\n"
     ]
    }
   ],
   "source": [
    "B = A[np.newaxis, :]\n",
    "print(B, B.shape, B.ndim)"
   ]
  },
  {
   "cell_type": "markdown",
   "metadata": {},
   "source": [
    "## Slicing"
   ]
  },
  {
   "cell_type": "code",
   "execution_count": 160,
   "metadata": {},
   "outputs": [
    {
     "name": "stdout",
     "output_type": "stream",
     "text": [
      "[0 1 2 3 4 5 6 7 8 9]\n"
     ]
    }
   ],
   "source": [
    "A = np.arange(10)\n",
    "print(A)"
   ]
  },
  {
   "cell_type": "code",
   "execution_count": 162,
   "metadata": {},
   "outputs": [
    {
     "name": "stdout",
     "output_type": "stream",
     "text": [
      "[1 2]\n"
     ]
    }
   ],
   "source": [
    "print(A[1:3]) # [start:end] (end not included)"
   ]
  },
  {
   "cell_type": "code",
   "execution_count": 163,
   "metadata": {},
   "outputs": [
    {
     "name": "stdout",
     "output_type": "stream",
     "text": [
      "[1 3]\n"
     ]
    }
   ],
   "source": [
    "print(A[1:5:2]) # [start:end:step]"
   ]
  },
  {
   "cell_type": "code",
   "execution_count": 164,
   "metadata": {},
   "outputs": [
    {
     "name": "stdout",
     "output_type": "stream",
     "text": [
      "[0 1 2]\n"
     ]
    }
   ],
   "source": [
    "print(A[:3]) # By default, the first one"
   ]
  },
  {
   "cell_type": "code",
   "execution_count": 165,
   "metadata": {},
   "outputs": [
    {
     "name": "stdout",
     "output_type": "stream",
     "text": [
      "[3 4 5 6 7 8 9]\n"
     ]
    }
   ],
   "source": [
    "print(A[3:])"
   ]
  },
  {
   "cell_type": "code",
   "execution_count": 168,
   "metadata": {},
   "outputs": [
    {
     "name": "stdout",
     "output_type": "stream",
     "text": [
      "[0 3 6 9]\n"
     ]
    }
   ],
   "source": [
    "print(A[::3])"
   ]
  },
  {
   "cell_type": "code",
   "execution_count": 170,
   "metadata": {},
   "outputs": [
    {
     "name": "stdout",
     "output_type": "stream",
     "text": [
      "[0 1 2 3 4 5 6 7 8 9] [0 1 2 3 4 5 6 7 8 9] [0 1 2 3 4 5 6 7 8 9]\n"
     ]
    }
   ],
   "source": [
    "print(A, A[:], A[::])"
   ]
  },
  {
   "cell_type": "code",
   "execution_count": 171,
   "metadata": {},
   "outputs": [
    {
     "name": "stdout",
     "output_type": "stream",
     "text": [
      "[9 8 7 6 5 4 3 2 1 0]\n"
     ]
    }
   ],
   "source": [
    "print(A[::-1])"
   ]
  },
  {
   "cell_type": "code",
   "execution_count": 286,
   "metadata": {},
   "outputs": [
    {
     "name": "stdout",
     "output_type": "stream",
     "text": [
      "[[ 0  1  2  3  4  5  6  7  8  9]\n",
      " [10 11 12 13 14 15 16 17 18 19]\n",
      " [20 21 22 23 24 25 26 27 28 29]\n",
      " [30 31 32 33 34 35 36 37 38 39]\n",
      " [40 41 42 43 44 45 46 47 48 49]]\n",
      "[[ 0  1  2  3  4  5  6  7  8  9]\n",
      " [10 11 12 13 14 15 16 17 18 19]\n",
      " [20 21 22 23 24 25 26 27 28 29]\n",
      " [30 31 32 33 34 35 36 37 38 39]\n",
      " [40 41 42 43 44 45 46 47 48 49]]\n",
      "[[ 0  1  2  3  4  5  6  7  8  9]\n",
      " [10 11 12 13 14 15 16 17 18 19]\n",
      " [20 21 22 23 24 25 26 27 28 29]\n",
      " [30 31 32 33 34 35 36 37 38 39]\n",
      " [40 41 42 43 44 45 46 47 48 49]]\n"
     ]
    }
   ],
   "source": [
    "A = np.arange(50).reshape(5,10)\n",
    "print(A)\n",
    "print(A[:]) # <- works, although it is preferable ...\n",
    "print(A[:,:]) # <- ... this"
   ]
  },
  {
   "cell_type": "code",
   "execution_count": 299,
   "metadata": {},
   "outputs": [
    {
     "name": "stdout",
     "output_type": "stream",
     "text": [
      "[[ 0  1  2  3  4  5  6  7  8  9]\n",
      " [10 11 12 13 14 15 16 17 18 19]]\n"
     ]
    }
   ],
   "source": [
    "print(A[0:2,:])"
   ]
  },
  {
   "cell_type": "code",
   "execution_count": 298,
   "metadata": {},
   "outputs": [
    {
     "name": "stdout",
     "output_type": "stream",
     "text": [
      "[[ 1  3  5  7  9]\n",
      " [11 13 15 17 19]\n",
      " [21 23 25 27 29]\n",
      " [31 33 35 37 39]\n",
      " [41 43 45 47 49]]\n"
     ]
    }
   ],
   "source": [
    "print(A[:,1::2])"
   ]
  },
  {
   "cell_type": "code",
   "execution_count": 300,
   "metadata": {},
   "outputs": [
    {
     "name": "stdout",
     "output_type": "stream",
     "text": [
      "[[38 39]\n",
      " [48 49]]\n"
     ]
    }
   ],
   "source": [
    "print(A[A.shape[0]-2:,A.shape[1]-2:]) # bottom-right 2x2 array:"
   ]
  },
  {
   "cell_type": "code",
   "execution_count": 304,
   "metadata": {},
   "outputs": [
    {
     "name": "stdout",
     "output_type": "stream",
     "text": [
      "[20 21 22 23 24 25 26 27 28 29]\n",
      "[[20 21 22 23 24 25 26 27 28 29]]\n"
     ]
    }
   ],
   "source": [
    "print(A[2]) # Row extraction\n",
    "print(A[2:3,:]) # Sub-matrix extraction"
   ]
  },
  {
   "cell_type": "markdown",
   "metadata": {},
   "source": [
    "* Slices are [views](https://docs.scipy.org/doc/numpy/glossary.html#term-view) of the same data:"
   ]
  },
  {
   "cell_type": "code",
   "execution_count": 299,
   "metadata": {},
   "outputs": [
    {
     "name": "stdout",
     "output_type": "stream",
     "text": [
      "[0 1 2 3 4 5 6 7 8 9]\n",
      "[1000 1000]\n",
      "[   0 1000 1000    3    4    5    6    7    8    9]\n"
     ]
    }
   ],
   "source": [
    "A = np.arange(10)\n",
    "print(A)\n",
    "B = A[1:3] # B is simply a new view of A\n",
    "B[:] = 1000\n",
    "print(B)\n",
    "print(A)"
   ]
  },
  {
   "cell_type": "code",
   "execution_count": 300,
   "metadata": {
    "scrolled": true
   },
   "outputs": [
    {
     "name": "stdout",
     "output_type": "stream",
     "text": [
      "[0 1 2 3 4 5 6 7 8 9]\n",
      "[   9 1000    7    6    5    4    3    2    1    0]\n",
      "[   0    1    2    3    4    5    6    7 1000    9]\n"
     ]
    }
   ],
   "source": [
    "A = np.arange(10)\n",
    "print(A)\n",
    "B = A[::-1]\n",
    "B[1] = 1000\n",
    "print(B)\n",
    "print(A)"
   ]
  },
  {
   "cell_type": "markdown",
   "metadata": {},
   "source": [
    "* Copying slices:"
   ]
  },
  {
   "cell_type": "code",
   "execution_count": 301,
   "metadata": {},
   "outputs": [
    {
     "name": "stdout",
     "output_type": "stream",
     "text": [
      "[0 1 2 3 4 5 6 7 8 9]\n",
      "[   9 1000    7    6    5    4    3    2    1    0]\n",
      "[0 1 2 3 4 5 6 7 8 9]\n"
     ]
    }
   ],
   "source": [
    "A = np.arange(10)\n",
    "print(A)\n",
    "B = A[::-1].copy()\n",
    "B[1] = 1000\n",
    "print(B)\n",
    "print(A)"
   ]
  },
  {
   "cell_type": "markdown",
   "metadata": {},
   "source": [
    "* Ellipsis:"
   ]
  },
  {
   "cell_type": "code",
   "execution_count": 396,
   "metadata": {},
   "outputs": [
    {
     "name": "stdout",
     "output_type": "stream",
     "text": [
      "[[[ 0  1  2]\n",
      "  [ 3  4  5]\n",
      "  [ 6  7  8]]\n",
      "\n",
      " [[ 9 10 11]\n",
      "  [12 13 14]\n",
      "  [15 16 17]]\n",
      "\n",
      " [[18 19 20]\n",
      "  [21 22 23]\n",
      "  [24 25 26]]]\n"
     ]
    }
   ],
   "source": [
    "A = np.arange(27).reshape(3,3,3)\n",
    "print(A)"
   ]
  },
  {
   "cell_type": "code",
   "execution_count": 397,
   "metadata": {},
   "outputs": [
    {
     "name": "stdout",
     "output_type": "stream",
     "text": [
      "[[ 9 10 11]\n",
      " [12 13 14]\n",
      " [15 16 17]]\n"
     ]
    }
   ],
   "source": [
    "print(A[1,:,:])"
   ]
  },
  {
   "cell_type": "code",
   "execution_count": 398,
   "metadata": {},
   "outputs": [
    {
     "name": "stdout",
     "output_type": "stream",
     "text": [
      "[[ 9 10 11]\n",
      " [12 13 14]\n",
      " [15 16 17]]\n"
     ]
    }
   ],
   "source": [
    "print(A[1,...])"
   ]
  },
  {
   "cell_type": "markdown",
   "metadata": {},
   "source": [
    "## Mathematics"
   ]
  },
  {
   "cell_type": "markdown",
   "metadata": {},
   "source": [
    "### Some *school* math"
   ]
  },
  {
   "cell_type": "code",
   "execution_count": 187,
   "metadata": {},
   "outputs": [
    {
     "name": "stdout",
     "output_type": "stream",
     "text": [
      "[ 0  0  1  1  0 -1  1  0 -1  0]\n",
      "[ 0  0 -1 -1  0  1 -1  0  1  0]\n"
     ]
    }
   ],
   "source": [
    "A = np.random.randint(low=-1, high=+2, size=10)\n",
    "print(A)\n",
    "print(-A)"
   ]
  },
  {
   "cell_type": "code",
   "execution_count": 194,
   "metadata": {},
   "outputs": [
    {
     "name": "stdout",
     "output_type": "stream",
     "text": [
      "[ 0  0  1  1  0 -1  1  0 -1  0]\n",
      "[ 1  1  0  1  0  1 -1  0 -1  0]\n",
      "-------------------------------\n",
      "[ 1  1  1  2  0  0  0  0 -2  0]\n"
     ]
    }
   ],
   "source": [
    "B = np.random.randint(low=-1, high=+2, size=10)\n",
    "print(A)\n",
    "print(B)\n",
    "print(\"-\"*31)\n",
    "print(A+B)"
   ]
  },
  {
   "cell_type": "code",
   "execution_count": 198,
   "metadata": {},
   "outputs": [
    {
     "name": "stdout",
     "output_type": "stream",
     "text": [
      "[ 0  0  0  1  0 -1 -1  0  1  0]\n",
      "[ 0.  0. inf  1. nan -1. -1. nan  1. nan]\n",
      "[ 0  0  0  0  0 -1  0  0 -1  0]\n",
      "[ 0  0  0  0  0 -1  0  0 -1  0]\n",
      "[ 0  0  2  2  0 -2  2  0 -2  0]\n",
      "[0 0 1 1 0 1 1 0 1 0]\n",
      "[inf inf  1.  1. inf -1.  1. inf -1. inf]\n",
      "[0 0 1 1 0 1 1 0 1 0]\n"
     ]
    },
    {
     "name": "stderr",
     "output_type": "stream",
     "text": [
      "/usr/local/lib/python3.7/site-packages/ipykernel_launcher.py:2: RuntimeWarning: divide by zero encountered in true_divide\n",
      "  \n",
      "/usr/local/lib/python3.7/site-packages/ipykernel_launcher.py:2: RuntimeWarning: invalid value encountered in true_divide\n",
      "  \n",
      "/usr/local/lib/python3.7/site-packages/ipykernel_launcher.py:7: RuntimeWarning: divide by zero encountered in true_divide\n",
      "  import sys\n"
     ]
    }
   ],
   "source": [
    "print(A*B)\n",
    "print(A/B)\n",
    "print(A//2)\n",
    "print(A>>1)\n",
    "print(A*2)\n",
    "print(A**2)\n",
    "print(1/A)\n",
    "print(np.absolute(A))"
   ]
  },
  {
   "cell_type": "markdown",
   "metadata": {},
   "source": [
    "### Some measurements"
   ]
  },
  {
   "cell_type": "code",
   "execution_count": 200,
   "metadata": {},
   "outputs": [
    {
     "name": "stdout",
     "output_type": "stream",
     "text": [
      "[0 1 2 3 4 5 6 7 8 9]\n"
     ]
    }
   ],
   "source": [
    "A = np.arange(10)\n",
    "print(A)"
   ]
  },
  {
   "cell_type": "code",
   "execution_count": 232,
   "metadata": {},
   "outputs": [
    {
     "name": "stdout",
     "output_type": "stream",
     "text": [
      "12.61599928712066\n"
     ]
    }
   ],
   "source": []
  },
  {
   "cell_type": "code",
   "execution_count": 203,
   "metadata": {},
   "outputs": [
    {
     "name": "stdout",
     "output_type": "stream",
     "text": [
      "Sum = 45\n",
      "Max = 9\n",
      "Min = 0\n",
      "L0 norm = 9.0\n",
      "L1 norm = 45.0\n",
      "L2 norm = 16.881943016134134\n"
     ]
    }
   ],
   "source": [
    "print(\"Sum =\", np.sum(A))\n",
    "print(\"Max =\", np.max(A))\n",
    "print(\"Min =\", np.min(A))\n",
    "print(\"L0 norm =\", np.linalg.norm(A, ord=0)) # np.max(A)\n",
    "print(\"L1 norm =\", np.linalg.norm(A, ord=1)) # np.sum(A)\n",
    "print(\"L2 norm =\", np.linalg.norm(A)) # math.sqrt(sum(A_i**2 for A_i in A))\n",
    "print(\"L4 norm =\", np.linalg.norm(A, ord=4))"
   ]
  },
  {
   "cell_type": "markdown",
   "metadata": {},
   "source": [
    "### Some vector math"
   ]
  },
  {
   "cell_type": "code",
   "execution_count": 248,
   "metadata": {},
   "outputs": [
    {
     "name": "stdout",
     "output_type": "stream",
     "text": [
      "[0 1 2 3 4 5 6 7 8 9]\n"
     ]
    },
    {
     "data": {
      "text/latex": [
       "$\\displaystyle A \\cdot B=120$"
      ],
      "text/plain": [
       "<IPython.core.display.Math object>"
      ]
     },
     "metadata": {},
     "output_type": "display_data"
    },
    {
     "name": "stdout",
     "output_type": "stream",
     "text": [
      "A dot product B = 120\n",
      "sum(A_i*B_i for A_i, B_i in zip(A, B))= 120\n",
      "sum(A[:]*B[:]) = 120\n"
     ]
    }
   ],
   "source": [
    "from IPython.display import display, Math\n",
    "A = np.arange(10)\n",
    "print(A)\n",
    "B = A[::-1]\n",
    "display(Math(r\"A \\cdot B={}\".format(np.dot(A, B))))\n",
    "print(\"A dot product B =\", np.dot(A, B))\n",
    "print(\"sum(A_i*B_i for A_i, B_i in zip(A, B))=\", sum(A_i*B_i for A_i, B_i in zip(A, B)))\n",
    "print(\"sum(A[:]*B[:]) =\", sum(A[:]*B[:]))"
   ]
  },
  {
   "cell_type": "code",
   "execution_count": 252,
   "metadata": {},
   "outputs": [
    {
     "data": {
      "text/latex": [
       "$\\displaystyle A \\times B=[0 0 0]$"
      ],
      "text/plain": [
       "<IPython.core.display.Math object>"
      ]
     },
     "metadata": {},
     "output_type": "display_data"
    },
    {
     "name": "stdout",
     "output_type": "stream",
     "text": [
      "[A[1]*B[2] - A[2]*B[1], A[2]*B[0] - A[0]*B[2], A[0]*B[1] - A[1]*B[0]] = [0 0 0]\n"
     ]
    }
   ],
   "source": [
    "A = np.array([1, 2, 3])\n",
    "B = np.array([-1, -2, -3])\n",
    "display(Math(r\"A \\times B={}\".format(np.cross(A, B))))\n",
    "# https://stackoverflow.com/questions/1984799/cross-product-of-two-vectors-in-python\n",
    "print(f\"[A[1]*B[2] - A[2]*B[1], A[2]*B[0] - A[0]*B[2], A[0]*B[1] - A[1]*B[0]] = [{A[1]*B[2] - A[2]*B[1]} {A[2]*B[0] - A[0]*B[2]} {A[0]*B[1] - A[1]*B[0]}]\")"
   ]
  },
  {
   "cell_type": "code",
   "execution_count": 255,
   "metadata": {},
   "outputs": [
    {
     "name": "stdout",
     "output_type": "stream",
     "text": [
      "[[0 1]\n",
      " [2 3]]\n",
      "[[2 3]\n",
      " [0 1]]\n",
      "A dot product B =  [[0 1]\n",
      " [4 9]]\n",
      "0 1 \n",
      "4 9 \n",
      "A inner product B = [[ 3  1]\n",
      " [13  3]]\n",
      "3 1 \n",
      "13 3 \n"
     ]
    }
   ],
   "source": [
    "A = np.arange(4).reshape(2,2)\n",
    "print(A)\n",
    "B = A[::-1]\n",
    "print(B)\n",
    "print(\"A dot product B = \", np.dot(A, B)) # dot[i,j] = sum(A[i,:] * B[:,j])\n",
    "# https://stackoverflow.com/questions/11033573/difference-between-numpy-dot-and-inner\n",
    "for i in range(A.shape[0]):\n",
    "    for j in range(A.shape[1]):\n",
    "        print(np.sum(A[i,:]*B[:,j]), end=\" \")\n",
    "    print(\"\")\n",
    "print(\"A inner product B =\", np.inner(A, B)) # inner[i,j] = (A[i,:] * B[j,:])\n",
    "for i in range(A.shape[0]):\n",
    "    for j in range(A.shape[1]):\n",
    "        print(np.sum(A[i,:]*B[j,:]), end=\" \")\n",
    "    print(\"\")"
   ]
  },
  {
   "cell_type": "markdown",
   "metadata": {},
   "source": [
    "### Some matrix math"
   ]
  },
  {
   "cell_type": "code",
   "execution_count": 213,
   "metadata": {},
   "outputs": [
    {
     "name": "stdout",
     "output_type": "stream",
     "text": [
      "[[0 1 0 1 0 1 0 1 0 1]\n",
      " [1 0 1 0 1 0 1 0 1 0]\n",
      " [0 1 0 1 0 1 0 1 0 1]\n",
      " [1 0 1 0 1 0 1 0 1 0]\n",
      " [0 1 0 1 0 1 0 1 0 1]\n",
      " [1 0 1 0 1 0 1 0 1 0]\n",
      " [0 1 0 1 0 1 0 1 0 1]\n",
      " [1 0 1 0 1 0 1 0 1 0]\n",
      " [0 1 0 1 0 1 0 1 0 1]\n",
      " [1 0 1 0 1 0 1 0 1 0]] (10, 10)\n"
     ]
    }
   ],
   "source": [
    "A = np.array([[(i+j)%2 for j in range(10)] for i in range(10)])\n",
    "print(A, A.shape)"
   ]
  },
  {
   "cell_type": "code",
   "execution_count": 101,
   "metadata": {},
   "outputs": [
    {
     "name": "stdout",
     "output_type": "stream",
     "text": [
      "[[1]\n",
      " [1]\n",
      " [1]\n",
      " [1]\n",
      " [1]\n",
      " [1]\n",
      " [1]\n",
      " [1]\n",
      " [1]\n",
      " [1]] (10, 1)\n"
     ]
    }
   ],
   "source": [
    "B = np.array([[1] for i in range(10)])\n",
    "print(B, B.shape)"
   ]
  },
  {
   "cell_type": "code",
   "execution_count": 102,
   "metadata": {},
   "outputs": [
    {
     "name": "stdout",
     "output_type": "stream",
     "text": [
      "[[5]\n",
      " [5]\n",
      " [5]\n",
      " [5]\n",
      " [5]\n",
      " [5]\n",
      " [5]\n",
      " [5]\n",
      " [5]\n",
      " [5]]\n"
     ]
    }
   ],
   "source": [
    "C = A @ B # Product matrix-matrix\n",
    "print(C)"
   ]
  },
  {
   "cell_type": "code",
   "execution_count": 106,
   "metadata": {},
   "outputs": [
    {
     "name": "stdout",
     "output_type": "stream",
     "text": [
      "[[5 5 5 5 5 5 5 5 5 5]] (1, 10) (10, 1)\n"
     ]
    }
   ],
   "source": [
    "print(C.T, C.T.shape, C.shape) # Transpose"
   ]
  },
  {
   "cell_type": "code",
   "execution_count": 214,
   "metadata": {},
   "outputs": [
    {
     "name": "stdout",
     "output_type": "stream",
     "text": [
      "Determinant = 0.0\n"
     ]
    }
   ],
   "source": [
    "print(\"Determinant =\", np.linalg.det(A))"
   ]
  },
  {
   "cell_type": "code",
   "execution_count": 221,
   "metadata": {},
   "outputs": [
    {
     "name": "stdout",
     "output_type": "stream",
     "text": [
      "Inverse = [[0.76317645 0.45952354 0.43724354 0.68357584 0.78271987]\n",
      " [0.27937175 0.72145406 0.79684589 0.26227242 0.98982401]\n",
      " [0.1900834  0.07878547 0.58703149 0.40637025 0.03645289]\n",
      " [0.73073553 0.12246182 0.22709368 0.82453272 0.41691559]\n",
      " [0.52055731 0.53846115 0.62722803 0.79181958 0.55535073]]\n"
     ]
    }
   ],
   "source": [
    "R = np.random.rand(5,5)\n",
    "iR = np.linalg.inv(R)\n",
    "print(\"Inverse =\", np.linalg.inv(iR)) # Matrix inverse"
   ]
  },
  {
   "cell_type": "code",
   "execution_count": 222,
   "metadata": {},
   "outputs": [
    {
     "name": "stdout",
     "output_type": "stream",
     "text": [
      "[[ 1.  0.  0.  0.  0.]\n",
      " [ 0.  1.  0.  0.  0.]\n",
      " [ 0.  0.  1.  0.  0.]\n",
      " [-0.  0.  0.  1.  0.]\n",
      " [-0.  0.  0.  0.  1.]]\n"
     ]
    }
   ],
   "source": [
    "print(np.round(R @ iR))"
   ]
  },
  {
   "cell_type": "code",
   "execution_count": 223,
   "metadata": {},
   "outputs": [
    {
     "name": "stdout",
     "output_type": "stream",
     "text": [
      "[[ 1.00000000e+00  4.44089210e-16  0.00000000e+00  0.00000000e+00\n",
      "   4.44089210e-16]\n",
      " [ 8.88178420e-16  1.00000000e+00  4.44089210e-16  0.00000000e+00\n",
      "   4.44089210e-16]\n",
      " [ 1.66533454e-16  1.11022302e-16  1.00000000e+00  2.77555756e-17\n",
      "   0.00000000e+00]\n",
      " [-2.22044605e-16  8.88178420e-16  2.22044605e-16  1.00000000e+00\n",
      "   0.00000000e+00]\n",
      " [-4.44089210e-16  2.22044605e-16  5.55111512e-16  4.44089210e-16\n",
      "   1.00000000e+00]]\n"
     ]
    }
   ],
   "source": [
    "print(R @ iR)"
   ]
  },
  {
   "cell_type": "code",
   "execution_count": 224,
   "metadata": {},
   "outputs": [
    {
     "name": "stdout",
     "output_type": "stream",
     "text": [
      "[[ 1.  0.  0.  0.  0.]\n",
      " [-0.  1.  0.  0.  0.]\n",
      " [-0.  0.  1. -0. -0.]\n",
      " [ 0. -0. -0.  1.  0.]\n",
      " [ 0.  0.  0.  0.  1.]]\n"
     ]
    }
   ],
   "source": [
    "print(np.round(iR @ R))"
   ]
  },
  {
   "cell_type": "code",
   "execution_count": 225,
   "metadata": {},
   "outputs": [
    {
     "name": "stdout",
     "output_type": "stream",
     "text": [
      "[[ 1.00000000e+00  6.66133815e-16  1.44328993e-15  6.66133815e-16\n",
      "   8.88178420e-16]\n",
      " [-2.22044605e-16  1.00000000e+00  4.44089210e-16  0.00000000e+00\n",
      "   0.00000000e+00]\n",
      " [-2.22044605e-16  0.00000000e+00  1.00000000e+00 -4.44089210e-16\n",
      "  -1.38777878e-16]\n",
      " [ 2.22044605e-16 -2.22044605e-16 -4.44089210e-16  1.00000000e+00\n",
      "   4.44089210e-16]\n",
      " [ 3.33066907e-16  2.22044605e-16  2.22044605e-16  4.44089210e-16\n",
      "   1.00000000e+00]]\n"
     ]
    }
   ],
   "source": [
    "print(iR @ R)"
   ]
  },
  {
   "cell_type": "code",
   "execution_count": 226,
   "metadata": {},
   "outputs": [
    {
     "name": "stdout",
     "output_type": "stream",
     "text": [
      "[[ 1.33558316  1.09717246 -0.87000433 -0.38723243 -0.86012088]\n",
      " [ 0.26385402  2.22255799 -0.53038992 -1.68906197 -0.74471528]\n",
      " [-1.10811207 -0.46044158  0.42505994  1.60139552  0.28686985]\n",
      " [ 0.55392441 -1.56309994  0.85608373  0.01126563  1.07211714]]\n"
     ]
    }
   ],
   "source": [
    "R = np.random.rand(5,4)\n",
    "iR = np.linalg.pinv(R) # Pseudo-inverse\n",
    "print(iR)"
   ]
  },
  {
   "cell_type": "code",
   "execution_count": 227,
   "metadata": {},
   "outputs": [
    {
     "name": "stdout",
     "output_type": "stream",
     "text": [
      "[[ 1.  0. -0.  0.  0.]\n",
      " [ 0.  1.  0. -0. -0.]\n",
      " [-0.  0.  1.  0.  0.]\n",
      " [ 0. -0.  0.  1. -0.]\n",
      " [ 0. -0.  0. -0.  0.]]\n"
     ]
    }
   ],
   "source": [
    "print(np.round(R @ iR))"
   ]
  },
  {
   "cell_type": "code",
   "execution_count": 228,
   "metadata": {},
   "outputs": [
    {
     "name": "stdout",
     "output_type": "stream",
     "text": [
      "[[ 0.99794701  0.00607694 -0.02965709  0.00218336  0.03357882]\n",
      " [ 0.00607694  0.98201198  0.08778628 -0.00646284 -0.09939476]\n",
      " [-0.02965709  0.08778628  0.57157974  0.03154038  0.48507275]\n",
      " [ 0.00218336 -0.00646284  0.03154038  0.99767799 -0.03571114]\n",
      " [ 0.03357882 -0.09939476  0.48507275 -0.03571114  0.45078328]]\n"
     ]
    }
   ],
   "source": [
    "print(R @ iR)"
   ]
  },
  {
   "cell_type": "code",
   "execution_count": 231,
   "metadata": {},
   "outputs": [
    {
     "name": "stdout",
     "output_type": "stream",
     "text": [
      "[[ 1.  0. -0.  0.]\n",
      " [-0.  1. -0. -0.]\n",
      " [ 0. -0.  1. -0.]\n",
      " [-0.  0. -0.  1.]]\n"
     ]
    }
   ],
   "source": [
    "print(np.round(iR @ R))"
   ]
  },
  {
   "cell_type": "code",
   "execution_count": 232,
   "metadata": {},
   "outputs": [
    {
     "name": "stdout",
     "output_type": "stream",
     "text": [
      "[[ 1.00000000e+00  1.66533454e-16 -5.55111512e-17  4.44089210e-16]\n",
      " [-4.16333634e-16  1.00000000e+00 -8.32667268e-16 -4.44089210e-16]\n",
      " [ 1.28369537e-16 -2.49800181e-16  1.00000000e+00 -3.60822483e-16]\n",
      " [-5.82867088e-16  1.11022302e-16 -3.33066907e-16  1.00000000e+00]]\n"
     ]
    }
   ],
   "source": [
    "print(iR @ R)"
   ]
  },
  {
   "cell_type": "markdown",
   "metadata": {},
   "source": [
    "## [Broadcasting](https://docs.scipy.org/doc/numpy/user/basics.broadcasting.html)\n",
    "In vectorized operations, NumPy \"extends\" scalars and arrays with one of its dimensions equal to the size of the other(s) array(s)."
   ]
  },
  {
   "cell_type": "code",
   "execution_count": 256,
   "metadata": {},
   "outputs": [
    {
     "name": "stdout",
     "output_type": "stream",
     "text": [
      "[2 3 4]\n"
     ]
    }
   ],
   "source": [
    "A = np.array([1, 2, 3])\n",
    "b = 1\n",
    "print(A+b) # Scalars are broadcasted"
   ]
  },
  {
   "cell_type": "code",
   "execution_count": 257,
   "metadata": {},
   "outputs": [
    {
     "name": "stdout",
     "output_type": "stream",
     "text": [
      "[2 3 4]\n"
     ]
    }
   ],
   "source": [
    "B = [1]\n",
    "print(A+B) # When possible, arrays are broadcasted in all possible dimensions"
   ]
  },
  {
   "cell_type": "code",
   "execution_count": 262,
   "metadata": {},
   "outputs": [
    {
     "name": "stdout",
     "output_type": "stream",
     "text": [
      "[[1 1 1]\n",
      " [1 1 1]\n",
      " [1 1 1]\n",
      " [1 1 1]\n",
      " [1 1 1]]\n",
      "[0 1 2]\n",
      "[[1 2 3]\n",
      " [1 2 3]\n",
      " [1 2 3]\n",
      " [1 2 3]\n",
      " [1 2 3]]\n"
     ]
    }
   ],
   "source": [
    "A = np.ones((5,3), dtype=np.int16)\n",
    "print(A)\n",
    "B = np.arange(3)\n",
    "print(B)\n",
    "print(A+B)  # Broadcasting in the axis 0"
   ]
  },
  {
   "cell_type": "code",
   "execution_count": 264,
   "metadata": {},
   "outputs": [
    {
     "name": "stdout",
     "output_type": "stream",
     "text": [
      "[[1 1 1]\n",
      " [1 1 1]\n",
      " [1 1 1]\n",
      " [1 1 1]\n",
      " [1 1 1]]\n",
      "[[0]\n",
      " [1]\n",
      " [2]\n",
      " [3]\n",
      " [4]]\n",
      "[[1 1 1]\n",
      " [2 2 2]\n",
      " [3 3 3]\n",
      " [4 4 4]\n",
      " [5 5 5]]\n"
     ]
    }
   ],
   "source": [
    "print(A)\n",
    "B = np.arange(5).reshape((5, 1))\n",
    "print(B)\n",
    "print(A+B)  # Broadcasting in the axis 1"
   ]
  },
  {
   "cell_type": "markdown",
   "metadata": {},
   "source": [
    "* Two dimensions are compatible when they are equal, or\n",
    "one of them is 1. Otherwise a `ValueError: frames are not aligned` is thrown."
   ]
  },
  {
   "cell_type": "code",
   "execution_count": 127,
   "metadata": {},
   "outputs": [
    {
     "name": "stdout",
     "output_type": "stream",
     "text": [
      "[[0]\n",
      " [1]\n",
      " [2]\n",
      " [3]]\n"
     ]
    }
   ],
   "source": [
    "B = np.arange(4)[:, None]\n",
    "print(B)"
   ]
  },
  {
   "cell_type": "code",
   "execution_count": 128,
   "metadata": {},
   "outputs": [
    {
     "name": "stdout",
     "output_type": "stream",
     "text": [
      "(5, 3)\n"
     ]
    }
   ],
   "source": [
    "print(A.shape)"
   ]
  },
  {
   "cell_type": "code",
   "execution_count": 129,
   "metadata": {},
   "outputs": [
    {
     "name": "stdout",
     "output_type": "stream",
     "text": [
      "(4, 1)\n"
     ]
    }
   ],
   "source": [
    "print(B.shape)"
   ]
  },
  {
   "cell_type": "code",
   "execution_count": 130,
   "metadata": {},
   "outputs": [
    {
     "name": "stdout",
     "output_type": "stream",
     "text": [
      "ValueError exception: operands could not be broadcast together with shapes (5,3) (4,1) \n"
     ]
    }
   ],
   "source": [
    "try:\n",
    "    A + B\n",
    "except ValueError as e:\n",
    "    print(\"ValueError exception: \", end='')\n",
    "    if hasattr(e, 'message'):\n",
    "        print(e.message)\n",
    "    else:\n",
    "        print(e)"
   ]
  },
  {
   "cell_type": "markdown",
   "metadata": {},
   "source": [
    "## How fast is Numpy's array math?"
   ]
  },
  {
   "cell_type": "code",
   "execution_count": 266,
   "metadata": {},
   "outputs": [
    {
     "name": "stdout",
     "output_type": "stream",
     "text": [
      "[[ 0  1  2  3  4  5  6  7  8  9]\n",
      " [10 11 12 13 14 15 16 17 18 19]\n",
      " [20 21 22 23 24 25 26 27 28 29]\n",
      " [30 31 32 33 34 35 36 37 38 39]\n",
      " [40 41 42 43 44 45 46 47 48 49]\n",
      " [50 51 52 53 54 55 56 57 58 59]\n",
      " [60 61 62 63 64 65 66 67 68 69]\n",
      " [70 71 72 73 74 75 76 77 78 79]\n",
      " [80 81 82 83 84 85 86 87 88 89]\n",
      " [90 91 92 93 94 95 96 97 98 99]] (10, 10)\n"
     ]
    }
   ],
   "source": [
    "A = np.array([[(i*10+j) for j in range(10)] for i in range(10)])\n",
    "print(A, A.shape)"
   ]
  },
  {
   "cell_type": "markdown",
   "metadata": {},
   "source": [
    "* Add `B[]` to all the rows of `A[][]` using scalar arithmetic:"
   ]
  },
  {
   "cell_type": "code",
   "execution_count": 137,
   "metadata": {},
   "outputs": [
    {
     "name": "stdout",
     "output_type": "stream",
     "text": [
      "125 µs ± 9.03 µs per loop (mean ± std. dev. of 7 runs, 10000 loops each)\n",
      "[[  0   2   4   6   8  10  12  14  16  18]\n",
      " [ 10  12  14  16  18  20  22  24  26  28]\n",
      " [ 20  22  24  26  28  30  32  34  36  38]\n",
      " [ 30  32  34  36  38  40  42  44  46  48]\n",
      " [ 40  42  44  46  48  50  52  54  56  58]\n",
      " [ 50  52  54  56  58  60  62  64  66  68]\n",
      " [ 60  62  64  66  68  70  72  74  76  78]\n",
      " [ 70  72  74  76  78  80  82  84  86  88]\n",
      " [ 80  82  84  86  88  90  92  94  96  98]\n",
      " [ 90  92  94  96  98 100 102 104 106 108]]\n"
     ]
    }
   ],
   "source": [
    "C = np.empty_like(A)\n",
    "def add():\n",
    "    for i in range(A.shape[1]):\n",
    "        for j in range(A.shape[0]):\n",
    "            C[i, j] = A[i, j] + B[j]\n",
    "%timeit add()\n",
    "print(C)"
   ]
  },
  {
   "cell_type": "markdown",
   "metadata": {},
   "source": [
    "* Add `B[]` to all the rows of `B[][]` using vectorial computation:"
   ]
  },
  {
   "cell_type": "code",
   "execution_count": 138,
   "metadata": {},
   "outputs": [
    {
     "name": "stdout",
     "output_type": "stream",
     "text": [
      "38.5 µs ± 779 ns per loop (mean ± std. dev. of 7 runs, 10000 loops each)\n",
      "[[  0   2   4   6   8  10  12  14  16  18]\n",
      " [ 10  12  14  16  18  20  22  24  26  28]\n",
      " [ 20  22  24  26  28  30  32  34  36  38]\n",
      " [ 30  32  34  36  38  40  42  44  46  48]\n",
      " [ 40  42  44  46  48  50  52  54  56  58]\n",
      " [ 50  52  54  56  58  60  62  64  66  68]\n",
      " [ 60  62  64  66  68  70  72  74  76  78]\n",
      " [ 70  72  74  76  78  80  82  84  86  88]\n",
      " [ 80  82  84  86  88  90  92  94  96  98]\n",
      " [ 90  92  94  96  98 100 102 104 106 108]]\n"
     ]
    }
   ],
   "source": [
    "C = np.empty_like(A)\n",
    "def add():\n",
    "    for i in range(A.shape[1]):\n",
    "        C[i, :] = A[i, :] + B\n",
    "%timeit add()\n",
    "print(C)"
   ]
  },
  {
   "cell_type": "markdown",
   "metadata": {},
   "source": [
    "* Add `B[]` to all the rows of `A[][]` using fully vectorial computation:"
   ]
  },
  {
   "cell_type": "code",
   "execution_count": 139,
   "metadata": {},
   "outputs": [
    {
     "name": "stdout",
     "output_type": "stream",
     "text": [
      "4.05 µs ± 64.9 ns per loop (mean ± std. dev. of 7 runs, 100000 loops each)\n",
      "[[  0   2   4   6   8  10  12  14  16  18]\n",
      " [ 10  12  14  16  18  20  22  24  26  28]\n",
      " [ 20  22  24  26  28  30  32  34  36  38]\n",
      " [ 30  32  34  36  38  40  42  44  46  48]\n",
      " [ 40  42  44  46  48  50  52  54  56  58]\n",
      " [ 50  52  54  56  58  60  62  64  66  68]\n",
      " [ 60  62  64  66  68  70  72  74  76  78]\n",
      " [ 70  72  74  76  78  80  82  84  86  88]\n",
      " [ 80  82  84  86  88  90  92  94  96  98]\n",
      " [ 90  92  94  96  98 100 102 104 106 108]]\n"
     ]
    }
   ],
   "source": [
    "%timeit C = A + B # <- broadcasting is faster\n",
    "print(C)"
   ]
  },
  {
   "cell_type": "markdown",
   "metadata": {},
   "source": [
    "## Arrays of objects"
   ]
  },
  {
   "cell_type": "markdown",
   "metadata": {},
   "source": [
    "* For example, an array of strings:"
   ]
  },
  {
   "cell_type": "code",
   "execution_count": 140,
   "metadata": {},
   "outputs": [
    {
     "name": "stdout",
     "output_type": "stream",
     "text": [
      "['hello' 'world!']\n",
      "(2,)\n",
      "['HELLO' 'WORLD!']\n"
     ]
    }
   ],
   "source": [
    "A = np.array(['hello', 'world!'])\n",
    "print(A)\n",
    "print(A.shape)\n",
    "print(np.char.upper(A))"
   ]
  },
  {
   "cell_type": "markdown",
   "metadata": {},
   "source": [
    "* Simulating a dictionary:"
   ]
  },
  {
   "cell_type": "code",
   "execution_count": 321,
   "metadata": {},
   "outputs": [
    {
     "name": "stdout",
     "output_type": "stream",
     "text": [
      "[['Spain' '100']\n",
      " ['France' '200']\n",
      " ['Italy' '300']]\n",
      "(3, 2)\n",
      "['Spain' 'France' 'Italy']\n",
      "[['France' '200']]\n",
      "['200']\n",
      "The value associated to the key France is 200\n"
     ]
    }
   ],
   "source": [
    "A = np.array([(\"Spain\", 100), (\"France\", 200), (\"Italy\", 300)])\n",
    "print(A) # Notice that all the elements are srings\n",
    "print(A.shape)\n",
    "print(A[:,0])\n",
    "print(A[A[:,0] == \"France\"])\n",
    "print(A[A[:,0] == \"France\"][:,1])\n",
    "print(\"The value associated to the key France is\", A[A[:,0] == \"France\"][:,1][0])"
   ]
  },
  {
   "cell_type": "markdown",
   "metadata": {},
   "source": [
    "* A dictionary is faster:"
   ]
  },
  {
   "cell_type": "code",
   "execution_count": 327,
   "metadata": {},
   "outputs": [
    {
     "name": "stdout",
     "output_type": "stream",
     "text": [
      "12.4 µs ± 559 ns per loop (mean ± std. dev. of 7 runs, 100000 loops each)\n",
      "200\n",
      "68.4 ns ± 1.65 ns per loop (mean ± std. dev. of 7 runs, 10000000 loops each)\n"
     ]
    }
   ],
   "source": [
    "%timeit A[A[:,0] == \"France\"][:,1][0]\n",
    "dictionary = {\"Spain\":100, \"France\":200, \"Italy\":300}\n",
    "print(dictionary[\"France\"])\n",
    "%timeit dictionary[\"France\"]"
   ]
  },
  {
   "cell_type": "markdown",
   "metadata": {},
   "source": [
    "* However, this difference can be smaller depending on the type of search:"
   ]
  },
  {
   "cell_type": "code",
   "execution_count": 337,
   "metadata": {},
   "outputs": [
    {
     "name": "stdout",
     "output_type": "stream",
     "text": [
      "[100, 300]\n",
      "1.12 µs ± 57.4 ns per loop (mean ± std. dev. of 7 runs, 1000000 loops each)\n"
     ]
    }
   ],
   "source": [
    "others = [value for key, value in dictionary.items() if key != \"France\"]\n",
    "print(others)\n",
    "%timeit [value for key, value in dictionary.items() if key != \"France\"]"
   ]
  },
  {
   "cell_type": "code",
   "execution_count": 338,
   "metadata": {},
   "outputs": [
    {
     "name": "stdout",
     "output_type": "stream",
     "text": [
      "[ True False  True]\n",
      "[['Spain' '100']\n",
      " ['Italy' '300']]\n",
      "['100' '300']\n",
      "[100 300]\n",
      "21.4 µs ± 1.24 µs per loop (mean ± std. dev. of 7 runs, 10000 loops each)\n"
     ]
    }
   ],
   "source": [
    "print(A[:,0] != \"France\")\n",
    "print(A[A[:,0] != \"France\"])\n",
    "print(A[A[:,0] != \"France\"][:,1])\n",
    "print(A[A[:,0] != \"France\"][:,1].astype(np.int16))\n",
    "%timeit A[A[:,0] != \"France\"][:,1].astype(np.int16)"
   ]
  },
  {
   "cell_type": "markdown",
   "metadata": {},
   "source": [
    "## Structured arrays"
   ]
  },
  {
   "cell_type": "markdown",
   "metadata": {},
   "source": [
    "* Create a 1D array of (two) records, where each record has the structure (int, float, char[10])."
   ]
  },
  {
   "cell_type": "code",
   "execution_count": 142,
   "metadata": {},
   "outputs": [
    {
     "name": "stdout",
     "output_type": "stream",
     "text": [
      "[(1, 2., b'Hello') (3, 4., b'World')]\n"
     ]
    }
   ],
   "source": [
    "X = np.array([(1, 2., \"Hello\"), (3, 4., \"World\")],\n",
    "             dtype=[(\"first\", \"i4\"),(\"second\", \"f4\"), (\"third\", \"S10\")])\n",
    "# See https://docs.scipy.org/doc/numpy/reference/arrays.dtypes.html\n",
    "print(X)"
   ]
  },
  {
   "cell_type": "markdown",
   "metadata": {},
   "source": [
    "* Get the first element of every record:"
   ]
  },
  {
   "cell_type": "code",
   "execution_count": 143,
   "metadata": {},
   "outputs": [
    {
     "name": "stdout",
     "output_type": "stream",
     "text": [
      "[1 3]\n"
     ]
    }
   ],
   "source": [
    "print(X[\"first\"])"
   ]
  },
  {
   "cell_type": "markdown",
   "metadata": {},
   "source": [
    "* Get the first record:"
   ]
  },
  {
   "cell_type": "code",
   "execution_count": 144,
   "metadata": {},
   "outputs": [
    {
     "name": "stdout",
     "output_type": "stream",
     "text": [
      "(1, 2., b'Hello')\n"
     ]
    }
   ],
   "source": [
    "print(X[0])"
   ]
  },
  {
   "cell_type": "markdown",
   "metadata": {},
   "source": [
    "* Get the second element of every record:"
   ]
  },
  {
   "cell_type": "code",
   "execution_count": 145,
   "metadata": {},
   "outputs": [
    {
     "name": "stdout",
     "output_type": "stream",
     "text": [
      "[2. 4.]\n"
     ]
    }
   ],
   "source": [
    "print(X[\"second\"])"
   ]
  },
  {
   "cell_type": "markdown",
   "metadata": {},
   "source": [
    "* Third element of every record:"
   ]
  },
  {
   "cell_type": "code",
   "execution_count": 146,
   "metadata": {},
   "outputs": [
    {
     "name": "stdout",
     "output_type": "stream",
     "text": [
      "[b'Hello' b'World']\n"
     ]
    }
   ],
   "source": [
    "print(X[\"third\"])"
   ]
  },
  {
   "cell_type": "markdown",
   "metadata": {},
   "source": [
    "## Disk I/O"
   ]
  },
  {
   "cell_type": "markdown",
   "metadata": {},
   "source": [
    "* Output data to an ASCII file:"
   ]
  },
  {
   "cell_type": "code",
   "execution_count": 147,
   "metadata": {},
   "outputs": [
    {
     "name": "stdout",
     "output_type": "stream",
     "text": [
      "1.000000000000000000e+00 2.000000000000000000e+02\r\n",
      "2.000000000000000000e+00 1.500000000000000000e+02\r\n",
      "3.000000000000000000e+00 2.500000000000000000e+02\r\n"
     ]
    }
   ],
   "source": [
    "Data = np.array([[1., 200.], [2., 150.], [3., 250.]])\n",
    "np.savetxt(\"data.txt\", Data)\n",
    "!cat Data.txt"
   ]
  },
  {
   "cell_type": "markdown",
   "metadata": {},
   "source": [
    "* Input data from an ASCII file:"
   ]
  },
  {
   "cell_type": "code",
   "execution_count": 148,
   "metadata": {},
   "outputs": [
    {
     "data": {
      "text/plain": [
       "array([[  1., 200.],\n",
       "       [  2., 150.],\n",
       "       [  3., 250.]])"
      ]
     },
     "execution_count": 148,
     "metadata": {},
     "output_type": "execute_result"
    }
   ],
   "source": [
    "np.genfromtxt('data.txt')"
   ]
  },
  {
   "cell_type": "markdown",
   "metadata": {},
   "source": [
    "* Output data to a binary file (using the native endianness):"
   ]
  },
  {
   "cell_type": "code",
   "execution_count": 149,
   "metadata": {},
   "outputs": [],
   "source": [
    "ofile = open(\"data.float64\", mode=\"wb\")\n",
    "Data.tofile(ofile)"
   ]
  },
  {
   "cell_type": "markdown",
   "metadata": {},
   "source": [
    "* Input data from a binary file (using the native endianness):"
   ]
  },
  {
   "cell_type": "code",
   "execution_count": 150,
   "metadata": {},
   "outputs": [
    {
     "name": "stdout",
     "output_type": "stream",
     "text": [
      "[  1. 200.   2. 150.   3. 250.]\n"
     ]
    }
   ],
   "source": [
    "print(np.fromfile(\"data.float64\", dtype=np.float64))"
   ]
  },
  {
   "cell_type": "markdown",
   "metadata": {},
   "source": [
    "* Numpy and C use the same endianness:"
   ]
  },
  {
   "cell_type": "code",
   "execution_count": 151,
   "metadata": {},
   "outputs": [
    {
     "name": "stdout",
     "output_type": "stream",
     "text": [
      "#include <stdio.h>\n",
      "\n",
      "#define N 10\n",
      "\n",
      "int main() {\n",
      "  double a[N];\n",
      "  int i;\n",
      "  FILE *ofile = fopen(\"data.float64\", \"wb\");\n",
      "  for(i=0; i<N; i++) {\n",
      "    a[i] = i;\n",
      "  }\n",
      "  fwrite(a, sizeof(double), N, ofile);\n",
      "  fclose(ofile);\n",
      "  fprintf(stderr,\"create_float64: done\\n\");\n",
      "}\n",
      "create_float64: done\n"
     ]
    }
   ],
   "source": [
    "!cat create_float64.c\n",
    "!gcc create_float64.c -o create_float64\n",
    "!./create_float64"
   ]
  },
  {
   "cell_type": "code",
   "execution_count": 152,
   "metadata": {},
   "outputs": [
    {
     "name": "stdout",
     "output_type": "stream",
     "text": [
      "[0. 1. 2. 3. 4. 5. 6. 7. 8. 9.]\n"
     ]
    }
   ],
   "source": [
    "print(np.fromfile(\"data.float64\", dtype=np.float64))"
   ]
  },
  {
   "cell_type": "markdown",
   "metadata": {},
   "source": [
    "* Specifiying the endianness:"
   ]
  },
  {
   "cell_type": "code",
   "execution_count": 153,
   "metadata": {},
   "outputs": [
    {
     "name": "stdout",
     "output_type": "stream",
     "text": [
      "[0.00000e+000 3.03865e-319 3.16202e-322 1.04347e-320 2.05531e-320\n",
      " 2.56124e-320 3.06716e-320 3.57308e-320 4.07901e-320 4.33197e-320]\n"
     ]
    }
   ],
   "source": [
    "print(np.fromfile(\"data.float64\", dtype=\">d\"))\n",
    "# (> = bit-endian, d = double, see https://docs.scipy.org/doc/numpy/reference/arrays.dtypes.html)"
   ]
  },
  {
   "cell_type": "markdown",
   "metadata": {},
   "source": [
    "* Make the things easier:"
   ]
  },
  {
   "cell_type": "code",
   "execution_count": 154,
   "metadata": {},
   "outputs": [
    {
     "name": "stdout",
     "output_type": "stream",
     "text": [
      "[[45 74 96]\n",
      " [86 78 94]]\n"
     ]
    }
   ],
   "source": [
    "ofile = open(\"data.npy\", mode=\"wb\")\n",
    "A = (100*np.random.rand(2,3)).astype(np.uint16)\n",
    "print(A)"
   ]
  },
  {
   "cell_type": "code",
   "execution_count": 155,
   "metadata": {},
   "outputs": [],
   "source": [
    "np.save(ofile, A)"
   ]
  },
  {
   "cell_type": "code",
   "execution_count": 156,
   "metadata": {},
   "outputs": [
    {
     "name": "stdout",
     "output_type": "stream",
     "text": [
      "save_data\r\n"
     ]
    }
   ],
   "source": [
    "!ls save*"
   ]
  },
  {
   "cell_type": "code",
   "execution_count": 157,
   "metadata": {},
   "outputs": [
    {
     "name": "stdout",
     "output_type": "stream",
     "text": [
      "[[45 74 96]\n",
      " [86 78 94]]\n"
     ]
    }
   ],
   "source": [
    "print(np.load(\"data.npy\"))"
   ]
  },
  {
   "cell_type": "markdown",
   "metadata": {},
   "source": [
    "### [Endianness](https://docs.scipy.org/doc/numpy/reference/generated/numpy.dtype.byteorder.html)"
   ]
  },
  {
   "cell_type": "code",
   "execution_count": null,
   "metadata": {},
   "outputs": [],
   "source": [
    "print(A.dtype.byteorder)"
   ]
  }
 ],
 "metadata": {
  "kernelspec": {
   "display_name": "Python 3",
   "language": "python",
   "name": "python3"
  },
  "language_info": {
   "codemirror_mode": {
    "name": "ipython",
    "version": 3
   },
   "file_extension": ".py",
   "mimetype": "text/x-python",
   "name": "python",
   "nbconvert_exporter": "python",
   "pygments_lexer": "ipython3",
   "version": "3.7.7"
  },
  "toc": {
   "base_numbering": 1,
   "nav_menu": {},
   "number_sections": true,
   "sideBar": true,
   "skip_h1_title": true,
   "title_cell": "Table of Contents",
   "title_sidebar": "Contents",
   "toc_cell": true,
   "toc_position": {},
   "toc_section_display": true,
   "toc_window_display": true
  }
 },
 "nbformat": 4,
 "nbformat_minor": 1
}
