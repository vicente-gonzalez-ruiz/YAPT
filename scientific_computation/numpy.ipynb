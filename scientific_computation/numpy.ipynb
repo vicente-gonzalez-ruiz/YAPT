{
 "cells": [
  {
   "cell_type": "markdown",
   "metadata": {
    "collapsed": true
   },
   "source": [
    "# SciPy.org's [NumPy](http://www.numpy.org/)"
   ]
  },
  {
   "cell_type": "markdown",
   "metadata": {
    "toc": true
   },
   "source": [
    "<h1>Table of Contents<span class=\"tocSkip\"></span></h1>\n",
    "<div class=\"toc\"><ul class=\"toc-item\"><li><span><a href=\"#Intro\" data-toc-modified-id=\"Intro-1\"><span class=\"toc-item-num\">1&nbsp;&nbsp;</span>Intro</a></span></li><li><span><a href=\"#Looking-for-information\" data-toc-modified-id=\"Looking-for-information-2\"><span class=\"toc-item-num\">2&nbsp;&nbsp;</span>Looking for information</a></span></li><li><span><a href=\"#Data-types\" data-toc-modified-id=\"Data-types-3\"><span class=\"toc-item-num\">3&nbsp;&nbsp;</span><a href=\"https://docs.scipy.org/doc/numpy/user/basics.types.html\" target=\"_blank\">Data types</a></a></span></li><li><span><a href=\"#Array-creation,-allocation-and-initialization\" data-toc-modified-id=\"Array-creation,-allocation-and-initialization-4\"><span class=\"toc-item-num\">4&nbsp;&nbsp;</span><a href=\"https://docs.scipy.org/doc/numpy/user/quickstart.html#array-creation\" target=\"_blank\">Array creation, allocation and initialization</a></a></span><ul class=\"toc-item\"><li><span><a href=\"#Allocation-(without-initializing-the-data-array)\" data-toc-modified-id=\"Allocation-(without-initializing-the-data-array)-4.1\"><span class=\"toc-item-num\">4.1&nbsp;&nbsp;</span>Allocation (without initializing the data array)</a></span></li><li><span><a href=\"#Allocating-and-initalizing\" data-toc-modified-id=\"Allocating-and-initalizing-4.2\"><span class=\"toc-item-num\">4.2&nbsp;&nbsp;</span>Allocating and initalizing</a></span><ul class=\"toc-item\"><li><span><a href=\"#Using-a-list\" data-toc-modified-id=\"Using-a-list-4.2.1\"><span class=\"toc-item-num\">4.2.1&nbsp;&nbsp;</span>Using a list</a></span></li><li><span><a href=\"#Using-&quot;initializers&quot;\" data-toc-modified-id=\"Using-&quot;initializers&quot;-4.2.2\"><span class=\"toc-item-num\">4.2.2&nbsp;&nbsp;</span>Using \"initializers\"</a></span></li></ul></li><li><span><a href=\"#Defining-types\" data-toc-modified-id=\"Defining-types-4.3\"><span class=\"toc-item-num\">4.3&nbsp;&nbsp;</span>Defining <a href=\"https://docs.scipy.org/doc/numpy/reference/arrays.dtypes.html\" target=\"_blank\">types</a></a></span></li><li><span><a href=\"#Reshaping\" data-toc-modified-id=\"Reshaping-4.4\"><span class=\"toc-item-num\">4.4&nbsp;&nbsp;</span><a href=\"https://docs.scipy.org/doc/numpy/user/quickstart.html#shape-manipulation\" target=\"_blank\">Reshaping</a></a></span></li><li><span><a href=\"#C-vs-Fortran-order\" data-toc-modified-id=\"C-vs-Fortran-order-4.5\"><span class=\"toc-item-num\">4.5&nbsp;&nbsp;</span>C vs Fortran order</a></span></li><li><span><a href=\"#Creation-(without-allocation-memory)\" data-toc-modified-id=\"Creation-(without-allocation-memory)-4.6\"><span class=\"toc-item-num\">4.6&nbsp;&nbsp;</span>Creation (without allocation memory)</a></span></li></ul></li><li><span><a href=\"#Views-and-copies\" data-toc-modified-id=\"Views-and-copies-5\"><span class=\"toc-item-num\">5&nbsp;&nbsp;</span><a href=\"https://docs.scipy.org/doc/numpy/user/quickstart.html#copies-and-views\" target=\"_blank\">Views and copies</a></a></span><ul class=\"toc-item\"><li><span><a href=\"#Pointer-copy\" data-toc-modified-id=\"Pointer-copy-5.1\"><span class=\"toc-item-num\">5.1&nbsp;&nbsp;</span>Pointer copy</a></span></li><li><span><a href=\"#Shallow-copy-(view)\" data-toc-modified-id=\"Shallow-copy-(view)-5.2\"><span class=\"toc-item-num\">5.2&nbsp;&nbsp;</span>Shallow copy (view)</a></span></li><li><span><a href=\"#Deep-(object-+--data)-copy\" data-toc-modified-id=\"Deep-(object-+--data)-copy-5.3\"><span class=\"toc-item-num\">5.3&nbsp;&nbsp;</span>Deep (object +  data) copy</a></span></li></ul></li><li><span><a href=\"#More-about-array-indexing-and-iterating\" data-toc-modified-id=\"More-about-array-indexing-and-iterating-6\"><span class=\"toc-item-num\">6&nbsp;&nbsp;</span>More about array <a href=\"https://docs.scipy.org/doc/numpy/user/basics.indexing.html\" target=\"_blank\">indexing</a> and <a href=\"https://docs.scipy.org/doc/numpy/user/quickstart.html#indexing-slicing-and-iterating\" target=\"_blank\">iterating</a></a></span><ul class=\"toc-item\"><li><span><a href=\"#More-about-simple-indexing\" data-toc-modified-id=\"More-about-simple-indexing-6.1\"><span class=\"toc-item-num\">6.1&nbsp;&nbsp;</span>More about simple indexing</a></span></li><li><span><a href=\"#Array-indexing-(also-known-as-fancy-indexing)\" data-toc-modified-id=\"Array-indexing-(also-known-as-fancy-indexing)-6.2\"><span class=\"toc-item-num\">6.2&nbsp;&nbsp;</span><a href=\"https://docs.scipy.org/doc/numpy/user/quickstart.html#indexing-with-arrays-of-indices\" target=\"_blank\">Array indexing</a> (also known as <a href=\"https://docs.scipy.org/doc/numpy/reference/arrays.indexing.html#advanced-indexing\" target=\"_blank\">fancy indexing</a>)</a></span></li><li><span><a href=\"#Boolean-array-indexing\" data-toc-modified-id=\"Boolean-array-indexing-6.3\"><span class=\"toc-item-num\">6.3&nbsp;&nbsp;</span>Boolean array indexing</a></span></li><li><span><a href=\"#Iterating\" data-toc-modified-id=\"Iterating-6.4\"><span class=\"toc-item-num\">6.4&nbsp;&nbsp;</span>Iterating</a></span></li></ul></li><li><span><a href=\"#Extending-arrays\" data-toc-modified-id=\"Extending-arrays-7\"><span class=\"toc-item-num\">7&nbsp;&nbsp;</span>Extending arrays</a></span></li><li><span><a href=\"#Permuting-(swapping)-dimensions-(axes)\" data-toc-modified-id=\"Permuting-(swapping)-dimensions-(axes)-8\"><span class=\"toc-item-num\">8&nbsp;&nbsp;</span>Permuting (swapping) dimensions (axes)</a></span></li><li><span><a href=\"#Increasing-and-decreasing-dimensions\" data-toc-modified-id=\"Increasing-and-decreasing-dimensions-9\"><span class=\"toc-item-num\">9&nbsp;&nbsp;</span>Increasing and decreasing dimensions</a></span></li><li><span><a href=\"#Slicing\" data-toc-modified-id=\"Slicing-10\"><span class=\"toc-item-num\">10&nbsp;&nbsp;</span>Slicing</a></span></li><li><span><a href=\"#Mathematics\" data-toc-modified-id=\"Mathematics-11\"><span class=\"toc-item-num\">11&nbsp;&nbsp;</span>Mathematics</a></span><ul class=\"toc-item\"><li><span><a href=\"#Some-school-math\" data-toc-modified-id=\"Some-school-math-11.1\"><span class=\"toc-item-num\">11.1&nbsp;&nbsp;</span>Some <em>school</em> math</a></span></li><li><span><a href=\"#Some-measurements\" data-toc-modified-id=\"Some-measurements-11.2\"><span class=\"toc-item-num\">11.2&nbsp;&nbsp;</span>Some measurements</a></span></li><li><span><a href=\"#Some-vector-math\" data-toc-modified-id=\"Some-vector-math-11.3\"><span class=\"toc-item-num\">11.3&nbsp;&nbsp;</span>Some vector math</a></span></li><li><span><a href=\"#Some-matrix-math\" data-toc-modified-id=\"Some-matrix-math-11.4\"><span class=\"toc-item-num\">11.4&nbsp;&nbsp;</span>Some matrix math</a></span></li></ul></li><li><span><a href=\"#Broadcasting\" data-toc-modified-id=\"Broadcasting-12\"><span class=\"toc-item-num\">12&nbsp;&nbsp;</span><a href=\"https://docs.scipy.org/doc/numpy/user/basics.broadcasting.html\" target=\"_blank\">Broadcasting</a></a></span></li><li><span><a href=\"#How-fast-is-Numpy's-array-math?\" data-toc-modified-id=\"How-fast-is-Numpy's-array-math?-13\"><span class=\"toc-item-num\">13&nbsp;&nbsp;</span>How fast is Numpy's array math?</a></span></li><li><span><a href=\"#Arrays-of-objects\" data-toc-modified-id=\"Arrays-of-objects-14\"><span class=\"toc-item-num\">14&nbsp;&nbsp;</span>Arrays of objects</a></span></li><li><span><a href=\"#Structured-arrays\" data-toc-modified-id=\"Structured-arrays-15\"><span class=\"toc-item-num\">15&nbsp;&nbsp;</span>Structured arrays</a></span></li><li><span><a href=\"#Disk-I/O\" data-toc-modified-id=\"Disk-I/O-16\"><span class=\"toc-item-num\">16&nbsp;&nbsp;</span>Disk I/O</a></span><ul class=\"toc-item\"><li><span><a href=\"#Endianness\" data-toc-modified-id=\"Endianness-16.1\"><span class=\"toc-item-num\">16.1&nbsp;&nbsp;</span><a href=\"https://docs.scipy.org/doc/numpy/reference/generated/numpy.dtype.byteorder.html\" target=\"_blank\">Endianness</a></a></span></li></ul></li><li><span><a href=\"#Timming-NumPy?\" data-toc-modified-id=\"Timming-NumPy?-17\"><span class=\"toc-item-num\">17&nbsp;&nbsp;</span>Timming NumPy?</a></span></li></ul></div>"
   ]
  },
  {
   "cell_type": "markdown",
   "metadata": {
    "collapsed": true
   },
   "source": [
    "## Intro\n",
    "\n",
    "NumPy extends lists in Python when we need to work with arrays of numbers, [providing](https://www.oreilly.com/library/view/python-for-data/9781449323592/ch04.html) a higher performance (throught [vectorization](https://en.wikipedia.org/wiki/Array_programming)) and [functionality](https://numpy.org/doc/stable/reference/index.html) (basically, [Linear Algebra](https://en.wikipedia.org/wiki/Linear_algebra#:~:text=Linear%20algebra%20is%20the%20branch,almost%20all%20areas%20of%20mathematics.))."
   ]
  },
  {
   "cell_type": "code",
   "execution_count": 1,
   "metadata": {},
   "outputs": [
    {
     "name": "stdout",
     "output_type": "stream",
     "text": [
      "Requirement already satisfied: numpy in /shared/PEs/MP/lib/python3.10/site-packages (1.24.3)\n",
      "\n",
      "\u001b[1m[\u001b[0m\u001b[34;49mnotice\u001b[0m\u001b[1;39;49m]\u001b[0m\u001b[39;49m A new release of pip is available: \u001b[0m\u001b[31;49m23.1.2\u001b[0m\u001b[39;49m -> \u001b[0m\u001b[32;49m23.2\u001b[0m\n",
      "\u001b[1m[\u001b[0m\u001b[34;49mnotice\u001b[0m\u001b[1;39;49m]\u001b[0m\u001b[39;49m To update, run: \u001b[0m\u001b[32;49mpip install --upgrade pip\u001b[0m\n"
     ]
    }
   ],
   "source": [
    "!pip install numpy\n",
    "import numpy as np"
   ]
  },
  {
   "cell_type": "markdown",
   "metadata": {},
   "source": [
    "## Looking for information"
   ]
  },
  {
   "cell_type": "code",
   "execution_count": 2,
   "metadata": {},
   "outputs": [
    {
     "name": "stdout",
     "output_type": "stream",
     "text": [
      "Search results for 'invert'\n",
      "---------------------------\n",
      "numpy.bitwise_not\n",
      "    Compute bit-wise inversion, or bit-wise NOT, element-wise.\n",
      "numpy.matrix.getI\n",
      "    Returns the (multiplicative) inverse of invertible `self`.\n",
      "numpy.array_api.bitwise_invert\n",
      "    Array API compatible wrapper for :py:func:`np.invert <numpy.invert>`.\n",
      "numpy.in1d\n",
      "    Test whether each element of a 1-D array is also present in a second array.\n",
      "numpy.isin\n",
      "    Calculates ``element in test_elements``, broadcasting over `element` only.\n",
      "numpy.quantile\n",
      "    Compute the q-th quantile of the data along the specified axis.\n",
      "numpy.transpose\n",
      "    Returns an array with axes transposed.\n",
      "numpy.percentile\n",
      "    Compute the q-th percentile of the data along the specified axis.\n",
      "numpy.array_api._array_object.Array.__invert__\n",
      "    Performs the operation __invert__.\n",
      "numpy.nanquantile\n",
      "    Compute the qth quantile of the data along the specified axis,\n",
      "numpy.nanpercentile\n",
      "    Compute the qth percentile of the data along the specified axis,\n",
      "numpy.linalg.inv\n",
      "    Compute the (multiplicative) inverse of a matrix.\n",
      "numpy.linalg.pinv\n",
      "    Compute the (Moore-Penrose) pseudo-inverse of a matrix.\n",
      "numpy.random.SFC64\n",
      "    BitGenerator for Chris Doty-Humphrey's Small Fast Chaotic PRNG.\n",
      "numpy.linalg.tensorinv\n",
      "    Compute the 'inverse' of an N-dimensional array.\n",
      "numpy.linalg.matrix_power\n",
      "    Raise a square matrix to the (integer) power `n`."
     ]
    }
   ],
   "source": [
    "np.lookfor(\"invert\")"
   ]
  },
  {
   "cell_type": "markdown",
   "metadata": {},
   "source": [
    "* Using IPython, remember that it's possible to use the tabulator to extend some command or to use a wildcard to get information about the numpy's stuff:"
   ]
  },
  {
   "cell_type": "code",
   "execution_count": 3,
   "metadata": {},
   "outputs": [],
   "source": [
    "np.*?"
   ]
  },
  {
   "cell_type": "markdown",
   "metadata": {},
   "source": [
    "## [Data types](https://docs.scipy.org/doc/numpy/user/basics.types.html)\n",
    "NumPy can works (create, operate and I/O) with arrays containig:\n",
    "1. Signed and unsigned integers of 8, 16, 32 and 64 bits.\n",
    "2. Floating point numbers of 32 and 64 bits.\n",
    "3. Complex (floating point) numbers of 64 and 128 bits.\n",
    "4. Strings."
   ]
  },
  {
   "cell_type": "markdown",
   "metadata": {},
   "source": [
    "## [Array creation, allocation and initialization](https://docs.scipy.org/doc/numpy/user/quickstart.html#array-creation)"
   ]
  },
  {
   "cell_type": "markdown",
   "metadata": {},
   "source": [
    "### A word about efficiency\n",
    "NumPy has been designed to be efficient when it use blocks of memory (possiblely contiguous) of constant size. In other words, when the structures are static."
   ]
  },
  {
   "cell_type": "markdown",
   "metadata": {},
   "source": [
    "### Allocation (without initializing the data array)"
   ]
  },
  {
   "cell_type": "code",
   "execution_count": 4,
   "metadata": {},
   "outputs": [
    {
     "name": "stdout",
     "output_type": "stream",
     "text": [
      "[ 0.          0.6893465  -0.         -0.96220197 -0.         -0.4933043\n",
      "  0.          0.33553948  0.          0.00658427  0.          0.35510008]\n"
     ]
    }
   ],
   "source": [
    "A = np.empty(12)\n",
    "print(A) # Uninitialized garbage values, possiblely at random."
   ]
  },
  {
   "cell_type": "code",
   "execution_count": 5,
   "metadata": {},
   "outputs": [
    {
     "name": "stdout",
     "output_type": "stream",
     "text": [
      "[ 0.          0.6893465  -0.         -0.96220197 -0.         -0.4933043\n",
      "  0.          0.33553948  0.          0.00658427  0.          0.35510008]\n"
     ]
    }
   ],
   "source": [
    "print(np.empty_like(A))"
   ]
  },
  {
   "cell_type": "markdown",
   "metadata": {},
   "source": [
    "### Allocating and initalizing"
   ]
  },
  {
   "cell_type": "markdown",
   "metadata": {},
   "source": [
    "#### Using a list"
   ]
  },
  {
   "cell_type": "code",
   "execution_count": 6,
   "metadata": {},
   "outputs": [
    {
     "data": {
      "text/plain": [
       "list"
      ]
     },
     "execution_count": 6,
     "metadata": {},
     "output_type": "execute_result"
    }
   ],
   "source": [
    "l = [1, 2, 3]\n",
    "type(l)"
   ]
  },
  {
   "cell_type": "code",
   "execution_count": 7,
   "metadata": {},
   "outputs": [
    {
     "data": {
      "text/plain": [
       "array([1, 2, 3])"
      ]
     },
     "execution_count": 7,
     "metadata": {},
     "output_type": "execute_result"
    }
   ],
   "source": [
    "A = np.array(l)\n",
    "A"
   ]
  },
  {
   "cell_type": "code",
   "execution_count": 8,
   "metadata": {},
   "outputs": [
    {
     "name": "stdout",
     "output_type": "stream",
     "text": [
      "[[1. +0.j 1. +0.j]\n",
      " [1. +1.j 0.3+0.j]]\n"
     ]
    }
   ],
   "source": [
    "A = np.array([[1,1.0],(1+1j,.3)])\n",
    "print(A)"
   ]
  },
  {
   "cell_type": "markdown",
   "metadata": {},
   "source": [
    "#### Using \"initializers\""
   ]
  },
  {
   "cell_type": "code",
   "execution_count": 9,
   "metadata": {},
   "outputs": [
    {
     "data": {
      "text/plain": [
       "array([0., 0., 0., 0., 0., 0., 0., 0., 0., 0.])"
      ]
     },
     "execution_count": 9,
     "metadata": {},
     "output_type": "execute_result"
    }
   ],
   "source": [
    "np.zeros(10)"
   ]
  },
  {
   "cell_type": "code",
   "execution_count": 10,
   "metadata": {
    "scrolled": false
   },
   "outputs": [
    {
     "data": {
      "text/plain": [
       "array([[0., 0., 0., 0., 0.],\n",
       "       [0., 0., 0., 0., 0.],\n",
       "       [0., 0., 0., 0., 0.],\n",
       "       [0., 0., 0., 0., 0.],\n",
       "       [0., 0., 0., 0., 0.]])"
      ]
     },
     "execution_count": 10,
     "metadata": {},
     "output_type": "execute_result"
    }
   ],
   "source": [
    "np.zeros((5,5))"
   ]
  },
  {
   "cell_type": "code",
   "execution_count": 11,
   "metadata": {},
   "outputs": [
    {
     "data": {
      "text/plain": [
       "array([1., 1., 1., 1., 1., 1., 1., 1., 1., 1.])"
      ]
     },
     "execution_count": 11,
     "metadata": {},
     "output_type": "execute_result"
    }
   ],
   "source": [
    "np.ones(10)"
   ]
  },
  {
   "cell_type": "code",
   "execution_count": 12,
   "metadata": {
    "scrolled": true
   },
   "outputs": [
    {
     "data": {
      "text/plain": [
       "array([[2, 2, 2, 2, 2],\n",
       "       [2, 2, 2, 2, 2],\n",
       "       [2, 2, 2, 2, 2],\n",
       "       [2, 2, 2, 2, 2],\n",
       "       [2, 2, 2, 2, 2]])"
      ]
     },
     "execution_count": 12,
     "metadata": {},
     "output_type": "execute_result"
    }
   ],
   "source": [
    "np.full((5,5), 2)"
   ]
  },
  {
   "cell_type": "code",
   "execution_count": 13,
   "metadata": {},
   "outputs": [
    {
     "data": {
      "text/plain": [
       "array([0, 1, 2, 3, 4, 5, 6, 7, 8, 9])"
      ]
     },
     "execution_count": 13,
     "metadata": {},
     "output_type": "execute_result"
    }
   ],
   "source": [
    "np.arange(10)"
   ]
  },
  {
   "cell_type": "code",
   "execution_count": 14,
   "metadata": {},
   "outputs": [
    {
     "data": {
      "text/plain": [
       "array([1. , 1.6, 2.2, 2.8, 3.4, 4. ])"
      ]
     },
     "execution_count": 14,
     "metadata": {},
     "output_type": "execute_result"
    }
   ],
   "source": [
    "np.linspace(1., 4., 6)"
   ]
  },
  {
   "cell_type": "code",
   "execution_count": 15,
   "metadata": {},
   "outputs": [
    {
     "data": {
      "text/plain": [
       "array([0.69709817, 0.13721813, 0.68189834, 0.35580648, 0.35376678,\n",
       "       0.49541702, 0.95493675, 0.71974844, 0.35800054, 0.0129539 ])"
      ]
     },
     "execution_count": 15,
     "metadata": {},
     "output_type": "execute_result"
    }
   ],
   "source": [
    "np.random.rand(10)"
   ]
  },
  {
   "cell_type": "code",
   "execution_count": 16,
   "metadata": {},
   "outputs": [
    {
     "name": "stdout",
     "output_type": "stream",
     "text": [
      "[[0.5770763  0.01264241 0.63677057 0.97090763 0.61459828]\n",
      " [0.47949033 0.62235514 0.75981494 0.72037019 0.81613719]\n",
      " [0.2989445  0.45221349 0.87254846 0.97332779 0.56301019]\n",
      " [0.61550441 0.44924716 0.12420157 0.67909247 0.67641966]\n",
      " [0.10217629 0.44080091 0.40679546 0.85487261 0.31471108]]\n",
      "[[0.94511915 0.81830483 0.54756443 0.76205471 0.07145301]\n",
      " [0.70481423 0.08875165 0.76212969 0.22092896 0.17573352]\n",
      " [0.22913461 0.34392863 0.6519354  0.32614281 0.25533012]\n",
      " [0.53262988 0.00164934 0.41988126 0.57052458 0.1703233 ]\n",
      " [0.5200494  0.33740782 0.51690989 0.11462744 0.36736289]]\n"
     ]
    }
   ],
   "source": [
    "# The random number generator is not reset in each call\n",
    "print(np.random.random((5,5)))\n",
    "print(np.random.random((5,5)))"
   ]
  },
  {
   "cell_type": "code",
   "execution_count": 17,
   "metadata": {},
   "outputs": [
    {
     "name": "stdout",
     "output_type": "stream",
     "text": [
      "[[1. 0. 0. 0. 0.]\n",
      " [0. 1. 0. 0. 0.]\n",
      " [0. 0. 1. 0. 0.]\n",
      " [0. 0. 0. 1. 0.]\n",
      " [0. 0. 0. 0. 1.]]\n"
     ]
    }
   ],
   "source": [
    "print(np.eye(5)) # Identity matrix"
   ]
  },
  {
   "cell_type": "code",
   "execution_count": 18,
   "metadata": {},
   "outputs": [
    {
     "name": "stdout",
     "output_type": "stream",
     "text": [
      "[0 1 2 3 4] 1 (5,)\n"
     ]
    }
   ],
   "source": [
    "A = np.array([i for i in range(5)]) # 1-D list comprehension\n",
    "print(A, A[1], A.shape)"
   ]
  },
  {
   "cell_type": "code",
   "execution_count": 19,
   "metadata": {},
   "outputs": [
    {
     "name": "stdout",
     "output_type": "stream",
     "text": [
      "[[ 0  1  2  3]\n",
      " [ 4  5  6  7]\n",
      " [ 8  9 10 11]\n",
      " [12 13 14 15]\n",
      " [16 17 18 19]] (5, 4)\n"
     ]
    }
   ],
   "source": [
    "A = np.array([[j+i*4 for j in range(4)] for i in range(5)]) # 2-D list comprehension\n",
    "print(A, A.shape)"
   ]
  },
  {
   "cell_type": "code",
   "execution_count": 20,
   "metadata": {},
   "outputs": [
    {
     "name": "stdout",
     "output_type": "stream",
     "text": [
      "With linspace and ufunc it took 0.06341910362243652 seconds for WAY MORE values!\n"
     ]
    },
    {
     "data": {
      "text/plain": [
       "array([ 0.        ,  0.84147098,  0.90929743,  0.14112001, -0.7568025 ])"
      ]
     },
     "execution_count": 20,
     "metadata": {},
     "output_type": "execute_result"
    }
   ],
   "source": [
    "# This is efficient\n",
    "\n",
    "import time\n",
    "a = np.linspace(0, 10_000_000, num=10_000_000 + 1)\n",
    "t1=time.time()\n",
    "a = np.sin(a)\n",
    "t2 = time.time()\n",
    "print(\"With linspace and ufunc it took {} seconds for WAY MORE values!\".format(t2-t1))\n",
    "a[:5]"
   ]
  },
  {
   "cell_type": "markdown",
   "metadata": {},
   "source": [
    "### Defining [types](https://docs.scipy.org/doc/numpy/reference/arrays.dtypes.html)"
   ]
  },
  {
   "cell_type": "code",
   "execution_count": 21,
   "metadata": {},
   "outputs": [
    {
     "data": {
      "text/plain": [
       "array([1, 2], dtype=uint8)"
      ]
     },
     "execution_count": 21,
     "metadata": {},
     "output_type": "execute_result"
    }
   ],
   "source": [
    "A = np.array([1, 2], dtype=np.uint8)\n",
    "A"
   ]
  },
  {
   "cell_type": "code",
   "execution_count": 22,
   "metadata": {},
   "outputs": [
    {
     "data": {
      "text/plain": [
       "numpy.uint8"
      ]
     },
     "execution_count": 22,
     "metadata": {},
     "output_type": "execute_result"
    }
   ],
   "source": [
    "type(A[0])"
   ]
  },
  {
   "cell_type": "markdown",
   "metadata": {},
   "source": [
    "### [Reshaping](https://docs.scipy.org/doc/numpy/user/quickstart.html#shape-manipulation)"
   ]
  },
  {
   "cell_type": "code",
   "execution_count": 23,
   "metadata": {},
   "outputs": [
    {
     "name": "stdout",
     "output_type": "stream",
     "text": [
      "[[1 2 3]\n",
      " [4 5 6]]\n",
      "(2, 3)\n"
     ]
    }
   ],
   "source": [
    "A = np.array([[1,2,3],[4,5,6]])\n",
    "print(A)\n",
    "print(A.shape)"
   ]
  },
  {
   "cell_type": "code",
   "execution_count": 24,
   "metadata": {
    "scrolled": true
   },
   "outputs": [
    {
     "data": {
      "text/plain": [
       "array([[1, 2],\n",
       "       [3, 4],\n",
       "       [5, 6]])"
      ]
     },
     "execution_count": 24,
     "metadata": {},
     "output_type": "execute_result"
    }
   ],
   "source": [
    "np.reshape(A, (3, 2))"
   ]
  },
  {
   "cell_type": "markdown",
   "metadata": {},
   "source": [
    "### C vs Fortran order"
   ]
  },
  {
   "cell_type": "code",
   "execution_count": 25,
   "metadata": {},
   "outputs": [
    {
     "name": "stdout",
     "output_type": "stream",
     "text": [
      "[[ 0  1  2  3]\n",
      " [ 4  5  6  7]\n",
      " [ 8  9 10 11]\n",
      " [12 13 14 15]\n",
      " [16 17 18 19]]\n"
     ]
    }
   ],
   "source": [
    "A = np.empty((5,4), dtype=np.int16, order='C') # C order is the default\n",
    "for row in range(A.shape[0]):\n",
    "    for col in range(A.shape[1]):\n",
    "        A[row, col] = col+row*A.shape[1]\n",
    "print(A)"
   ]
  },
  {
   "cell_type": "code",
   "execution_count": 26,
   "metadata": {},
   "outputs": [
    {
     "name": "stdout",
     "output_type": "stream",
     "text": [
      "False\n"
     ]
    }
   ],
   "source": [
    "print(np.isfortran(A))"
   ]
  },
  {
   "cell_type": "code",
   "execution_count": 27,
   "metadata": {},
   "outputs": [
    {
     "name": "stdout",
     "output_type": "stream",
     "text": [
      "[[ 0 16 13 10  7]\n",
      " [ 4  1 17 14 11]\n",
      " [ 8  5  2 18 15]\n",
      " [12  9  6  3 19]]\n"
     ]
    }
   ],
   "source": [
    "B = np.reshape(A, (4,5), order='F')\n",
    "print(B)"
   ]
  },
  {
   "cell_type": "code",
   "execution_count": 28,
   "metadata": {},
   "outputs": [
    {
     "name": "stdout",
     "output_type": "stream",
     "text": [
      "True\n"
     ]
    }
   ],
   "source": [
    "print(np.isfortran(B))"
   ]
  },
  {
   "cell_type": "code",
   "execution_count": 29,
   "metadata": {
    "scrolled": true
   },
   "outputs": [
    {
     "name": "stdout",
     "output_type": "stream",
     "text": [
      "  C_CONTIGUOUS : True\n",
      "  F_CONTIGUOUS : False\n",
      "  OWNDATA : True\n",
      "  WRITEABLE : True\n",
      "  ALIGNED : True\n",
      "  WRITEBACKIFCOPY : False\n",
      "\n",
      "  C_CONTIGUOUS : False\n",
      "  F_CONTIGUOUS : True\n",
      "  OWNDATA : False\n",
      "  WRITEABLE : True\n",
      "  ALIGNED : True\n",
      "  WRITEBACKIFCOPY : False\n",
      "\n"
     ]
    }
   ],
   "source": [
    "print(A.flags)\n",
    "print(B.flags)"
   ]
  },
  {
   "cell_type": "markdown",
   "metadata": {},
   "source": [
    "### Dynamic creation\n",
    "Be careful, dynamic arrays in NumPy are slower than static ones."
   ]
  },
  {
   "cell_type": "markdown",
   "metadata": {},
   "source": [
    "* Creating an empty (unallocated) array for working with 8-bits unsigned integers:"
   ]
  },
  {
   "cell_type": "code",
   "execution_count": 30,
   "metadata": {},
   "outputs": [
    {
     "name": "stdout",
     "output_type": "stream",
     "text": [
      "[] uint8\n"
     ]
    },
    {
     "data": {
      "text/plain": [
       "array([], dtype=uint8)"
      ]
     },
     "execution_count": 30,
     "metadata": {},
     "output_type": "execute_result"
    }
   ],
   "source": [
    "A = np.array([], dtype=np.uint8)\n",
    "print(A, A.dtype)\n",
    "A"
   ]
  },
  {
   "cell_type": "code",
   "execution_count": 31,
   "metadata": {},
   "outputs": [
    {
     "data": {
      "text/plain": [
       "array([1, 2], dtype=uint8)"
      ]
     },
     "execution_count": 31,
     "metadata": {},
     "output_type": "execute_result"
    }
   ],
   "source": [
    "A = np.concatenate((A, np.array([1, 2], dtype=np.uint8)))\n",
    "A"
   ]
  },
  {
   "cell_type": "markdown",
   "metadata": {},
   "source": [
    "(see NumPy's data [types](https://docs.scipy.org/doc/numpy/reference/arrays.dtypes.html))"
   ]
  },
  {
   "cell_type": "markdown",
   "metadata": {},
   "source": [
    "* NumPy arrays are objects of the \"numpy.ndarray\" class:"
   ]
  },
  {
   "cell_type": "code",
   "execution_count": 32,
   "metadata": {},
   "outputs": [
    {
     "name": "stdout",
     "output_type": "stream",
     "text": [
      "<class 'numpy.ndarray'>\n"
     ]
    }
   ],
   "source": [
    "print(type(A))"
   ]
  },
  {
   "cell_type": "markdown",
   "metadata": {},
   "source": [
    "* All arrays has at least one dimension and a length in each dimenssion."
   ]
  },
  {
   "cell_type": "code",
   "execution_count": 33,
   "metadata": {},
   "outputs": [
    {
     "name": "stdout",
     "output_type": "stream",
     "text": [
      "number of dimensions=1, shape=(2,)\n"
     ]
    }
   ],
   "source": [
    "print(f\"number of dimensions={A.ndim}, shape={A.shape}\")"
   ]
  },
  {
   "cell_type": "markdown",
   "metadata": {},
   "source": [
    "## [Views and copies](https://docs.scipy.org/doc/numpy/user/quickstart.html#copies-and-views)"
   ]
  },
  {
   "cell_type": "markdown",
   "metadata": {},
   "source": [
    "### Pointer copy"
   ]
  },
  {
   "cell_type": "markdown",
   "metadata": {},
   "source": [
    "* Simple assignments do not copy of array objects or of their data:"
   ]
  },
  {
   "cell_type": "code",
   "execution_count": 34,
   "metadata": {},
   "outputs": [
    {
     "data": {
      "text/plain": [
       "array([ 2,  3,  5,  7, 11, 13, 17, 19, 23, 29, 31, 37, 41, 43, 47, 53, 59,\n",
       "       61, 67, 71, 73, 79, 83, 89, 97])"
      ]
     },
     "execution_count": 34,
     "metadata": {},
     "output_type": "execute_result"
    }
   ],
   "source": [
    "# https://stackoverflow.com/questions/56090021/list-comprehension-python-prime-numbers\n",
    "Primes_less_than_100 = np.array([x for x in range(2,100) if not any([x % y == 0 for y in range(2, int(x/2)+1)])])\n",
    "Primes_less_than_100"
   ]
  },
  {
   "cell_type": "code",
   "execution_count": 35,
   "metadata": {},
   "outputs": [
    {
     "data": {
      "text/plain": [
       "array([ 2,  3,  5,  7, 11, 13, 17, 19, 23, 29, 31, 37, 41, 43, 47, 53, 59,\n",
       "       61, 67, 71, 73, 79, 83, 89, 97])"
      ]
     },
     "execution_count": 35,
     "metadata": {},
     "output_type": "execute_result"
    }
   ],
   "source": [
    "A = Primes_less_than_100 # This is a copy of pointers\n",
    "A"
   ]
  },
  {
   "cell_type": "code",
   "execution_count": 36,
   "metadata": {},
   "outputs": [
    {
     "data": {
      "text/plain": [
       "array([ 1,  3,  5,  7, 11, 13, 17, 19, 23, 29, 31, 37, 41, 43, 47, 53, 59,\n",
       "       61, 67, 71, 73, 79, 83, 89, 97])"
      ]
     },
     "execution_count": 36,
     "metadata": {},
     "output_type": "execute_result"
    }
   ],
   "source": [
    "A[0]=1\n",
    "A"
   ]
  },
  {
   "cell_type": "code",
   "execution_count": 37,
   "metadata": {},
   "outputs": [
    {
     "data": {
      "text/plain": [
       "array([ 1,  3,  5,  7, 11, 13, 17, 19, 23, 29, 31, 37, 41, 43, 47, 53, 59,\n",
       "       61, 67, 71, 73, 79, 83, 89, 97])"
      ]
     },
     "execution_count": 37,
     "metadata": {},
     "output_type": "execute_result"
    }
   ],
   "source": [
    "Primes_less_than_100"
   ]
  },
  {
   "cell_type": "code",
   "execution_count": 38,
   "metadata": {},
   "outputs": [
    {
     "data": {
      "text/plain": [
       "139691707028208"
      ]
     },
     "execution_count": 38,
     "metadata": {},
     "output_type": "execute_result"
    }
   ],
   "source": [
    "id(A)"
   ]
  },
  {
   "cell_type": "code",
   "execution_count": 39,
   "metadata": {},
   "outputs": [
    {
     "data": {
      "text/plain": [
       "139691707028208"
      ]
     },
     "execution_count": 39,
     "metadata": {},
     "output_type": "execute_result"
    }
   ],
   "source": [
    "id(Primes_less_than_100)"
   ]
  },
  {
   "cell_type": "code",
   "execution_count": 40,
   "metadata": {},
   "outputs": [
    {
     "data": {
      "text/plain": [
       "True"
      ]
     },
     "execution_count": 40,
     "metadata": {},
     "output_type": "execute_result"
    }
   ],
   "source": [
    "A is Primes_less_than_100"
   ]
  },
  {
   "cell_type": "markdown",
   "metadata": {},
   "source": [
    "### Shallow copy (view)"
   ]
  },
  {
   "cell_type": "code",
   "execution_count": 41,
   "metadata": {},
   "outputs": [
    {
     "name": "stdout",
     "output_type": "stream",
     "text": [
      "(25,)\n"
     ]
    }
   ],
   "source": [
    "print(Primes_less_than_100.shape)"
   ]
  },
  {
   "cell_type": "code",
   "execution_count": 42,
   "metadata": {},
   "outputs": [
    {
     "name": "stdout",
     "output_type": "stream",
     "text": [
      "(5, 5)\n"
     ]
    }
   ],
   "source": [
    "A = Primes_less_than_100.reshape(5,5)\n",
    "print(A.shape)"
   ]
  },
  {
   "cell_type": "code",
   "execution_count": 43,
   "metadata": {},
   "outputs": [
    {
     "data": {
      "text/plain": [
       "False"
      ]
     },
     "execution_count": 43,
     "metadata": {},
     "output_type": "execute_result"
    }
   ],
   "source": [
    "A is Primes_less_than_100"
   ]
  },
  {
   "cell_type": "code",
   "execution_count": 44,
   "metadata": {},
   "outputs": [
    {
     "data": {
      "text/plain": [
       "True"
      ]
     },
     "execution_count": 44,
     "metadata": {},
     "output_type": "execute_result"
    }
   ],
   "source": [
    "A.base is Primes_less_than_100"
   ]
  },
  {
   "cell_type": "code",
   "execution_count": 45,
   "metadata": {},
   "outputs": [
    {
     "data": {
      "text/plain": [
       "False"
      ]
     },
     "execution_count": 45,
     "metadata": {},
     "output_type": "execute_result"
    }
   ],
   "source": [
    "A.flags.owndata"
   ]
  },
  {
   "cell_type": "code",
   "execution_count": 46,
   "metadata": {},
   "outputs": [
    {
     "name": "stdout",
     "output_type": "stream",
     "text": [
      "[ 1  3  5  7 11 13 17 19 23 29 31 37 41 43 47 53 59 61 67 71 73 79 83 89\n",
      " 97] [[ 1  3  5  7 11]\n",
      " [13 17 19 23 29]\n",
      " [31 37 41 43 47]\n",
      " [53 59 61 67 71]\n",
      " [73 79 83 89 97]]\n"
     ]
    }
   ],
   "source": [
    "print(Primes_less_than_100, A)"
   ]
  },
  {
   "cell_type": "code",
   "execution_count": 47,
   "metadata": {},
   "outputs": [
    {
     "name": "stdout",
     "output_type": "stream",
     "text": [
      "[ 2  3  5  7 11 13 17 19 23 29 31 37 41 43 47 53 59 61 67 71 73 79 83 89\n",
      " 97] [[ 2  3  5  7 11]\n",
      " [13 17 19 23 29]\n",
      " [31 37 41 43 47]\n",
      " [53 59 61 67 71]\n",
      " [73 79 83 89 97]]\n"
     ]
    }
   ],
   "source": [
    "A[0,0] = 2\n",
    "print(Primes_less_than_100, A)"
   ]
  },
  {
   "cell_type": "markdown",
   "metadata": {},
   "source": [
    "### Deep (object +  data) copy"
   ]
  },
  {
   "cell_type": "code",
   "execution_count": 48,
   "metadata": {},
   "outputs": [],
   "source": [
    "Primes_less_than_100 = np.array([x for x in range(2,100) if not any([x % y == 0 for y in range(2, int(x/2)+1)])])\n",
    "A = np.copy(Primes_less_than_100)"
   ]
  },
  {
   "cell_type": "code",
   "execution_count": 49,
   "metadata": {},
   "outputs": [
    {
     "data": {
      "text/plain": [
       "False"
      ]
     },
     "execution_count": 49,
     "metadata": {},
     "output_type": "execute_result"
    }
   ],
   "source": [
    "A is Primes_less_than_100"
   ]
  },
  {
   "cell_type": "code",
   "execution_count": 50,
   "metadata": {},
   "outputs": [
    {
     "data": {
      "text/plain": [
       "2"
      ]
     },
     "execution_count": 50,
     "metadata": {},
     "output_type": "execute_result"
    }
   ],
   "source": [
    "Primes_less_than_100[0]"
   ]
  },
  {
   "cell_type": "code",
   "execution_count": 51,
   "metadata": {},
   "outputs": [],
   "source": [
    "A[0] = 1"
   ]
  },
  {
   "cell_type": "code",
   "execution_count": 52,
   "metadata": {},
   "outputs": [
    {
     "name": "stdout",
     "output_type": "stream",
     "text": [
      "2 1\n"
     ]
    }
   ],
   "source": [
    "print(Primes_less_than_100[0], A[0])"
   ]
  },
  {
   "cell_type": "code",
   "execution_count": 53,
   "metadata": {},
   "outputs": [
    {
     "name": "stdout",
     "output_type": "stream",
     "text": [
      "10 ns ± 0.0857 ns per loop (mean ± std. dev. of 7 runs, 100,000,000 loops each)\n"
     ]
    }
   ],
   "source": [
    "timeit A=Primes_less_than_100 # This is much faster, depending on the size of the array"
   ]
  },
  {
   "cell_type": "code",
   "execution_count": 54,
   "metadata": {},
   "outputs": [
    {
     "name": "stdout",
     "output_type": "stream",
     "text": [
      "442 ns ± 3.53 ns per loop (mean ± std. dev. of 7 runs, 1,000,000 loops each)\n"
     ]
    }
   ],
   "source": [
    "%timeit A = np.copy(Primes_less_than_100)"
   ]
  },
  {
   "cell_type": "markdown",
   "metadata": {},
   "source": [
    "## More about array [indexing](https://docs.scipy.org/doc/numpy/user/basics.indexing.html) and [iterating](https://docs.scipy.org/doc/numpy/user/quickstart.html#indexing-slicing-and-iterating)\n",
    "NumPy arrays are indexed by nonnegative integers."
   ]
  },
  {
   "cell_type": "markdown",
   "metadata": {},
   "source": [
    "### More about simple indexing"
   ]
  },
  {
   "cell_type": "code",
   "execution_count": 55,
   "metadata": {},
   "outputs": [
    {
     "name": "stdout",
     "output_type": "stream",
     "text": [
      "[[ 0  1  2  3]\n",
      " [ 4  5  6  7]\n",
      " [ 8  9 10 11]\n",
      " [12 13 14 15]\n",
      " [16 17 18 19]]\n",
      "6\n"
     ]
    }
   ],
   "source": [
    "A = np.arange(20).reshape(5, 4)\n",
    "print(A)\n",
    "print(A[1, 2]) # [row, column]"
   ]
  },
  {
   "cell_type": "code",
   "execution_count": 56,
   "metadata": {},
   "outputs": [
    {
     "name": "stdout",
     "output_type": "stream",
     "text": [
      "[4 5 6 7]\n"
     ]
    }
   ],
   "source": [
    "print(A[1]) # Get the second row"
   ]
  },
  {
   "cell_type": "code",
   "execution_count": 57,
   "metadata": {},
   "outputs": [
    {
     "data": {
      "text/plain": [
       "6"
      ]
     },
     "execution_count": 57,
     "metadata": {},
     "output_type": "execute_result"
    }
   ],
   "source": [
    "A[1][2] # [row][column]. Access first to the row, and then, to the column"
   ]
  },
  {
   "cell_type": "markdown",
   "metadata": {},
   "source": [
    "* Be careful:"
   ]
  },
  {
   "cell_type": "code",
   "execution_count": 58,
   "metadata": {},
   "outputs": [
    {
     "name": "stdout",
     "output_type": "stream",
     "text": [
      "96 ns ± 0.58 ns per loop (mean ± std. dev. of 7 runs, 10,000,000 loops each)\n"
     ]
    }
   ],
   "source": [
    "timeit A[1][2]"
   ]
  },
  {
   "cell_type": "code",
   "execution_count": 59,
   "metadata": {},
   "outputs": [
    {
     "name": "stdout",
     "output_type": "stream",
     "text": [
      "48 ns ± 0.447 ns per loop (mean ± std. dev. of 7 runs, 10,000,000 loops each)\n"
     ]
    }
   ],
   "source": [
    "timeit A[1,2] # Access directly to the element"
   ]
  },
  {
   "cell_type": "markdown",
   "metadata": {},
   "source": [
    "### [Array indexing](https://docs.scipy.org/doc/numpy/user/quickstart.html#indexing-with-arrays-of-indices) (also known as [fancy indexing](https://docs.scipy.org/doc/numpy/reference/arrays.indexing.html#advanced-indexing))"
   ]
  },
  {
   "cell_type": "code",
   "execution_count": 60,
   "metadata": {},
   "outputs": [
    {
     "name": "stdout",
     "output_type": "stream",
     "text": [
      "[[ 0  1  2  3]\n",
      " [ 4  5  6  7]\n",
      " [ 8  9 10 11]\n",
      " [12 13 14 15]\n",
      " [16 17 18 19]]\n",
      "[3 6 9]\n"
     ]
    }
   ],
   "source": [
    "A = np.arange(20).reshape(5, 4)\n",
    "print(A)\n",
    "dim_0_coordinates = [0, 1, 2]\n",
    "dim_1_coordinates = [3, 2, 1]\n",
    "print(A[dim_0_coordinates, dim_1_coordinates])"
   ]
  },
  {
   "cell_type": "markdown",
   "metadata": {},
   "source": [
    "* Notice that the indices can be determined by lists:"
   ]
  },
  {
   "cell_type": "code",
   "execution_count": 61,
   "metadata": {},
   "outputs": [
    {
     "name": "stdout",
     "output_type": "stream",
     "text": [
      "[3 6 9]\n"
     ]
    }
   ],
   "source": [
    "print(A[[i for i in range(3)], [i for i in range(3,0,-1)]])"
   ]
  },
  {
   "cell_type": "markdown",
   "metadata": {},
   "source": [
    "* ... or by NumPy arrays:"
   ]
  },
  {
   "cell_type": "code",
   "execution_count": 62,
   "metadata": {},
   "outputs": [
    {
     "name": "stdout",
     "output_type": "stream",
     "text": [
      "[0 1 2]\n",
      "[3 2 1]\n",
      "[3 6 9]\n"
     ]
    }
   ],
   "source": [
    "print(np.arange(3))\n",
    "print(np.arange(3,0,-1))\n",
    "print(A[np.arange(3), np.arange(3,0,-1)])"
   ]
  },
  {
   "cell_type": "code",
   "execution_count": 63,
   "metadata": {},
   "outputs": [
    {
     "name": "stdout",
     "output_type": "stream",
     "text": [
      "[[ 0  1  2  3  4  5  6  7  8  9]\n",
      " [10 11 12 13 14 15 16 17 18 19]\n",
      " [20 21 22 23 24 25 26 27 28 29]\n",
      " [30 31 32 33 34 35 36 37 38 39]\n",
      " [40 41 42 43 44 45 46 47 48 49]\n",
      " [50 51 52 53 54 55 56 57 58 59]\n",
      " [60 61 62 63 64 65 66 67 68 69]\n",
      " [70 71 72 73 74 75 76 77 78 79]\n",
      " [80 81 82 83 84 85 86 87 88 89]\n",
      " [90 91 92 93 94 95 96 97 98 99]]\n",
      "[[11 12 15]\n",
      " [21 22 25]\n",
      " [41 42 45]]\n"
     ]
    }
   ],
   "source": [
    "A = np.arange(100).reshape(10,10)\n",
    "print(A)\n",
    "lst_of_rows = [1, 2, 4]\n",
    "lst_of_columns = [1, 2, 5]\n",
    "sub_matrix = A[lst_of_rows][:, lst_of_columns]\n",
    "print(sub_matrix)"
   ]
  },
  {
   "cell_type": "markdown",
   "metadata": {},
   "source": [
    "* Be careful, advanced indexing always returns a copy of the data (contrast with basic slicing that returns a view)."
   ]
  },
  {
   "cell_type": "code",
   "execution_count": 64,
   "metadata": {},
   "outputs": [
    {
     "name": "stdout",
     "output_type": "stream",
     "text": [
      "[ 0 11 22]\n"
     ]
    }
   ],
   "source": [
    "B = A[[0, 1, 2], [0, 1, 2]]\n",
    "print(B)"
   ]
  },
  {
   "cell_type": "code",
   "execution_count": 65,
   "metadata": {},
   "outputs": [
    {
     "name": "stdout",
     "output_type": "stream",
     "text": [
      "[[ 0  1  2  3  4  5  6  7  8  9]\n",
      " [10 11 12 13 14 15 16 17 18 19]\n",
      " [20 21 22 23 24 25 26 27 28 29]\n",
      " [30 31 32 33 34 35 36 37 38 39]\n",
      " [40 41 42 43 44 45 46 47 48 49]\n",
      " [50 51 52 53 54 55 56 57 58 59]\n",
      " [60 61 62 63 64 65 66 67 68 69]\n",
      " [70 71 72 73 74 75 76 77 78 79]\n",
      " [80 81 82 83 84 85 86 87 88 89]\n",
      " [90 91 92 93 94 95 96 97 98 99]]\n"
     ]
    }
   ],
   "source": [
    "print(A)"
   ]
  },
  {
   "cell_type": "code",
   "execution_count": 66,
   "metadata": {},
   "outputs": [],
   "source": [
    "B[...] = -1"
   ]
  },
  {
   "cell_type": "code",
   "execution_count": 67,
   "metadata": {},
   "outputs": [
    {
     "name": "stdout",
     "output_type": "stream",
     "text": [
      "[-1 -1 -1]\n"
     ]
    }
   ],
   "source": [
    "print(B)"
   ]
  },
  {
   "cell_type": "code",
   "execution_count": 68,
   "metadata": {},
   "outputs": [
    {
     "name": "stdout",
     "output_type": "stream",
     "text": [
      "[[ 0  1  2  3  4  5  6  7  8  9]\n",
      " [10 11 12 13 14 15 16 17 18 19]\n",
      " [20 21 22 23 24 25 26 27 28 29]\n",
      " [30 31 32 33 34 35 36 37 38 39]\n",
      " [40 41 42 43 44 45 46 47 48 49]\n",
      " [50 51 52 53 54 55 56 57 58 59]\n",
      " [60 61 62 63 64 65 66 67 68 69]\n",
      " [70 71 72 73 74 75 76 77 78 79]\n",
      " [80 81 82 83 84 85 86 87 88 89]\n",
      " [90 91 92 93 94 95 96 97 98 99]]\n"
     ]
    }
   ],
   "source": [
    "print(A)"
   ]
  },
  {
   "cell_type": "markdown",
   "metadata": {},
   "source": [
    " ### Boolean array indexing"
   ]
  },
  {
   "cell_type": "markdown",
   "metadata": {},
   "source": [
    "* Finding the elements bigger than ..."
   ]
  },
  {
   "cell_type": "code",
   "execution_count": 69,
   "metadata": {},
   "outputs": [
    {
     "name": "stdout",
     "output_type": "stream",
     "text": [
      "[ 0  1  2  3  4  5  6  7  8  9 10 11 12 13 14 15 16 17 18 19] (20,)\n",
      "[False False False False False False False False False False False False\n",
      " False  True  True  True  True  True  True  True] (20,)\n"
     ]
    }
   ],
   "source": [
    "A = np.arange(20)\n",
    "print(A, A.shape)\n",
    "bool_idx = (A>12)\n",
    "print(bool_idx, bool_idx.shape)"
   ]
  },
  {
   "cell_type": "markdown",
   "metadata": {},
   "source": [
    "* Printing the elements bigger than ..."
   ]
  },
  {
   "cell_type": "code",
   "execution_count": 70,
   "metadata": {},
   "outputs": [
    {
     "name": "stdout",
     "output_type": "stream",
     "text": [
      "[13 14 15 16 17 18 19]\n"
     ]
    }
   ],
   "source": [
    "print(A[bool_idx])"
   ]
  },
  {
   "cell_type": "markdown",
   "metadata": {},
   "source": [
    "* Getting the elements of an array smaller than ...:"
   ]
  },
  {
   "cell_type": "code",
   "execution_count": 71,
   "metadata": {},
   "outputs": [
    {
     "name": "stdout",
     "output_type": "stream",
     "text": [
      "[[-33  19 -28 -13 -26]\n",
      " [ -7   2  33  28  -5]\n",
      " [-39  -8  43  28  40]\n",
      " [-21 -17 -46  -4   3]\n",
      " [ 41  46 -30  35  30]]\n",
      "[-33 -28 -13 -26  -7  -5 -39  -8 -21 -17 -46  -4 -30]\n"
     ]
    }
   ],
   "source": [
    "A = (100*(0.5-np.random.rand(25))).astype(np.int16).reshape(5,5)\n",
    "print(A)\n",
    "print(A[A<0]) # Notice that len(A[A<0]) <= len(A)"
   ]
  },
  {
   "cell_type": "markdown",
   "metadata": {},
   "source": [
    "* Changing the elements smaller than ...:"
   ]
  },
  {
   "cell_type": "code",
   "execution_count": 72,
   "metadata": {},
   "outputs": [
    {
     "name": "stdout",
     "output_type": "stream",
     "text": [
      "[[ 0 19  0  0  0]\n",
      " [ 0  2 33 28  0]\n",
      " [ 0  0 43 28 40]\n",
      " [ 0  0  0  0  3]\n",
      " [41 46  0 35 30]]\n"
     ]
    }
   ],
   "source": [
    "A[A<0] = 0\n",
    "print(A)"
   ]
  },
  {
   "cell_type": "markdown",
   "metadata": {},
   "source": [
    "### Iterating"
   ]
  },
  {
   "cell_type": "code",
   "execution_count": 73,
   "metadata": {},
   "outputs": [
    {
     "name": "stdout",
     "output_type": "stream",
     "text": [
      "[ 0 19  0  0  0]\n",
      "[ 0  2 33 28  0]\n",
      "[ 0  0 43 28 40]\n",
      "[0 0 0 0 3]\n",
      "[41 46  0 35 30]\n"
     ]
    }
   ],
   "source": [
    "for row in A:\n",
    "    print(row)"
   ]
  },
  {
   "cell_type": "code",
   "execution_count": 74,
   "metadata": {},
   "outputs": [
    {
     "name": "stdout",
     "output_type": "stream",
     "text": [
      "0 19 0 0 0 0 2 33 28 0 0 0 43 28 40 0 0 0 0 3 41 46 0 35 30 "
     ]
    }
   ],
   "source": [
    "for element in A.flat:\n",
    "    print(element, end=' ')"
   ]
  },
  {
   "cell_type": "markdown",
   "metadata": {},
   "source": [
    "## Extending arrays"
   ]
  },
  {
   "cell_type": "markdown",
   "metadata": {},
   "source": [
    "* Appending elements:"
   ]
  },
  {
   "cell_type": "code",
   "execution_count": 75,
   "metadata": {},
   "outputs": [
    {
     "name": "stdout",
     "output_type": "stream",
     "text": [
      "[0 1 2]\n",
      "[0 1 2 4]\n"
     ]
    }
   ],
   "source": [
    "A = np.arange(3)\n",
    "print(A)\n",
    "A = np.append(A, 4)\n",
    "print(A)"
   ]
  },
  {
   "cell_type": "code",
   "execution_count": 76,
   "metadata": {},
   "outputs": [
    {
     "name": "stdout",
     "output_type": "stream",
     "text": [
      "[-1  0  1  2  4]\n"
     ]
    }
   ],
   "source": [
    "A = np.append(-1, A)\n",
    "print(A)"
   ]
  },
  {
   "cell_type": "code",
   "execution_count": 77,
   "metadata": {},
   "outputs": [
    {
     "name": "stdout",
     "output_type": "stream",
     "text": [
      "[-1  0  1  2  4 -1  0  1  2  4]\n"
     ]
    }
   ],
   "source": [
    "B = np.concatenate((A, A), axis=None)\n",
    "print(B)"
   ]
  },
  {
   "cell_type": "code",
   "execution_count": 78,
   "metadata": {},
   "outputs": [
    {
     "name": "stdout",
     "output_type": "stream",
     "text": [
      "[-1  0  1  2  4 -1  0  1  2  4]\n"
     ]
    }
   ],
   "source": [
    "B = np.concatenate((A, A), axis=0)\n",
    "print(B)"
   ]
  },
  {
   "cell_type": "code",
   "execution_count": 79,
   "metadata": {},
   "outputs": [
    {
     "name": "stdout",
     "output_type": "stream",
     "text": [
      "[[ 0  1  2  3  4  5]\n",
      " [ 6  7  8  9 10 11]\n",
      " [12 13 14 15 16 17]\n",
      " [18 19 20 21 22 23]\n",
      " [24 25 26 27 28 29]]\n"
     ]
    }
   ],
   "source": [
    "A = np.arange(30).reshape(5,6)\n",
    "print(A)"
   ]
  },
  {
   "cell_type": "code",
   "execution_count": 80,
   "metadata": {},
   "outputs": [
    {
     "name": "stdout",
     "output_type": "stream",
     "text": [
      "[[1]\n",
      " [1]\n",
      " [1]\n",
      " [1]\n",
      " [1]]\n"
     ]
    }
   ],
   "source": [
    "B = np.ones(5, dtype=np.int16).reshape(5,1)\n",
    "print(B)"
   ]
  },
  {
   "cell_type": "code",
   "execution_count": 81,
   "metadata": {},
   "outputs": [
    {
     "name": "stdout",
     "output_type": "stream",
     "text": [
      "[[ 0  1  2  3  4  5  1]\n",
      " [ 6  7  8  9 10 11  1]\n",
      " [12 13 14 15 16 17  1]\n",
      " [18 19 20 21 22 23  1]\n",
      " [24 25 26 27 28 29  1]]\n"
     ]
    }
   ],
   "source": [
    "C = np.hstack((A, B))\n",
    "print(C)"
   ]
  },
  {
   "cell_type": "code",
   "execution_count": 82,
   "metadata": {},
   "outputs": [
    {
     "name": "stdout",
     "output_type": "stream",
     "text": [
      "[1 1 1 1 1 1 1]\n"
     ]
    }
   ],
   "source": [
    "B = np.ones(7, dtype=np.int16)\n",
    "print(B)"
   ]
  },
  {
   "cell_type": "code",
   "execution_count": 83,
   "metadata": {},
   "outputs": [
    {
     "name": "stdout",
     "output_type": "stream",
     "text": [
      "[[ 0  1  2  3  4  5  1]\n",
      " [ 6  7  8  9 10 11  1]\n",
      " [12 13 14 15 16 17  1]\n",
      " [18 19 20 21 22 23  1]\n",
      " [24 25 26 27 28 29  1]\n",
      " [ 1  1  1  1  1  1  1]]\n"
     ]
    }
   ],
   "source": [
    "C = np.vstack((C, B))\n",
    "print(C)"
   ]
  },
  {
   "cell_type": "markdown",
   "metadata": {},
   "source": [
    "## Permuting (swapping) dimensions (axes)"
   ]
  },
  {
   "cell_type": "markdown",
   "metadata": {},
   "source": [
    "* Permuting dimensions only makes sense when the number of dimensions is > 1:"
   ]
  },
  {
   "cell_type": "code",
   "execution_count": 84,
   "metadata": {},
   "outputs": [
    {
     "name": "stdout",
     "output_type": "stream",
     "text": [
      "[[ 0  1  2  3]\n",
      " [ 4  5  6  7]\n",
      " [ 8  9 10 11]\n",
      " [12 13 14 15]\n",
      " [16 17 18 19]] (5, 4)\n"
     ]
    }
   ],
   "source": [
    "A = np.arange(20).reshape(5,4)\n",
    "print(A, A.shape)"
   ]
  },
  {
   "cell_type": "code",
   "execution_count": 85,
   "metadata": {},
   "outputs": [
    {
     "name": "stdout",
     "output_type": "stream",
     "text": [
      "[[ 0  4  8 12 16]\n",
      " [ 1  5  9 13 17]\n",
      " [ 2  6 10 14 18]\n",
      " [ 3  7 11 15 19]] (4, 5)\n"
     ]
    }
   ],
   "source": [
    "print(np.transpose(A), np.transpose(A).shape)"
   ]
  },
  {
   "cell_type": "code",
   "execution_count": 86,
   "metadata": {},
   "outputs": [
    {
     "name": "stdout",
     "output_type": "stream",
     "text": [
      "[[ 0  4  8 12 16]\n",
      " [ 1  5  9 13 17]\n",
      " [ 2  6 10 14 18]\n",
      " [ 3  7 11 15 19]] (4, 5)\n"
     ]
    }
   ],
   "source": [
    "print(A.T, A.T.shape)"
   ]
  },
  {
   "cell_type": "markdown",
   "metadata": {},
   "source": [
    "* Transposing permutes all the dimensions:"
   ]
  },
  {
   "cell_type": "code",
   "execution_count": 87,
   "metadata": {},
   "outputs": [
    {
     "name": "stdout",
     "output_type": "stream",
     "text": [
      "[[[ 0  1  2  3]\n",
      "  [ 4  5  6  7]\n",
      "  [ 8  9 10 11]\n",
      "  [12 13 14 15]\n",
      "  [16 17 18 19]]\n",
      "\n",
      " [[20 21 22 23]\n",
      "  [24 25 26 27]\n",
      "  [28 29 30 31]\n",
      "  [32 33 34 35]\n",
      "  [36 37 38 39]]\n",
      "\n",
      " [[40 41 42 43]\n",
      "  [44 45 46 47]\n",
      "  [48 49 50 51]\n",
      "  [52 53 54 55]\n",
      "  [56 57 58 59]]] (3, 5, 4)\n"
     ]
    }
   ],
   "source": [
    "A = np.arange(60).reshape(3,5,4)\n",
    "print(A, A.shape)"
   ]
  },
  {
   "cell_type": "code",
   "execution_count": 88,
   "metadata": {},
   "outputs": [
    {
     "name": "stdout",
     "output_type": "stream",
     "text": [
      "[[[ 0 20 40]\n",
      "  [ 4 24 44]\n",
      "  [ 8 28 48]\n",
      "  [12 32 52]\n",
      "  [16 36 56]]\n",
      "\n",
      " [[ 1 21 41]\n",
      "  [ 5 25 45]\n",
      "  [ 9 29 49]\n",
      "  [13 33 53]\n",
      "  [17 37 57]]\n",
      "\n",
      " [[ 2 22 42]\n",
      "  [ 6 26 46]\n",
      "  [10 30 50]\n",
      "  [14 34 54]\n",
      "  [18 38 58]]\n",
      "\n",
      " [[ 3 23 43]\n",
      "  [ 7 27 47]\n",
      "  [11 31 51]\n",
      "  [15 35 55]\n",
      "  [19 39 59]]] (4, 5, 3)\n"
     ]
    }
   ],
   "source": [
    "print(A.T, A.T.shape)"
   ]
  },
  {
   "cell_type": "markdown",
   "metadata": {},
   "source": [
    "## Increasing and decreasing dimensions"
   ]
  },
  {
   "cell_type": "markdown",
   "metadata": {},
   "source": [
    "* Shape and dimensions:"
   ]
  },
  {
   "cell_type": "code",
   "execution_count": 89,
   "metadata": {},
   "outputs": [
    {
     "name": "stdout",
     "output_type": "stream",
     "text": [
      "[0 1 2 3 4] (5,) 1\n"
     ]
    }
   ],
   "source": [
    "A = np.arange(5)\n",
    "print(A, A.shape, A.ndim)"
   ]
  },
  {
   "cell_type": "markdown",
   "metadata": {},
   "source": [
    "* Increasing the dimensions on the right:"
   ]
  },
  {
   "cell_type": "code",
   "execution_count": 90,
   "metadata": {},
   "outputs": [
    {
     "name": "stdout",
     "output_type": "stream",
     "text": [
      "[[0]\n",
      " [1]\n",
      " [2]\n",
      " [3]\n",
      " [4]] (5, 1) 2\n"
     ]
    }
   ],
   "source": [
    "B = A[:, None]\n",
    "print(B, B.shape, B.ndim)"
   ]
  },
  {
   "cell_type": "markdown",
   "metadata": {},
   "source": [
    "* Increasing the dimensions on the left:"
   ]
  },
  {
   "cell_type": "code",
   "execution_count": 91,
   "metadata": {},
   "outputs": [
    {
     "name": "stdout",
     "output_type": "stream",
     "text": [
      "[[0 1 2 3 4]] (1, 5) 2\n"
     ]
    }
   ],
   "source": [
    "B = A[None, :]\n",
    "print(B, B.shape, B.ndim)"
   ]
  },
  {
   "cell_type": "markdown",
   "metadata": {},
   "source": [
    "* For convenience, NumPy provides the np.newaxis object instead None (althougt both are quivalent):"
   ]
  },
  {
   "cell_type": "code",
   "execution_count": 92,
   "metadata": {},
   "outputs": [
    {
     "name": "stdout",
     "output_type": "stream",
     "text": [
      "[[0 1 2 3 4]] (1, 5) 2\n"
     ]
    }
   ],
   "source": [
    "B = A[np.newaxis, :]\n",
    "print(B, B.shape, B.ndim)"
   ]
  },
  {
   "cell_type": "markdown",
   "metadata": {},
   "source": [
    "## Slicing"
   ]
  },
  {
   "cell_type": "code",
   "execution_count": 93,
   "metadata": {},
   "outputs": [
    {
     "name": "stdout",
     "output_type": "stream",
     "text": [
      "[0 1 2 3 4 5 6 7 8 9]\n"
     ]
    }
   ],
   "source": [
    "A = np.arange(10)\n",
    "print(A)"
   ]
  },
  {
   "cell_type": "code",
   "execution_count": 94,
   "metadata": {},
   "outputs": [
    {
     "name": "stdout",
     "output_type": "stream",
     "text": [
      "[1 2]\n"
     ]
    }
   ],
   "source": [
    "print(A[1:3]) # [start:end] (end not included)"
   ]
  },
  {
   "cell_type": "code",
   "execution_count": 95,
   "metadata": {},
   "outputs": [
    {
     "name": "stdout",
     "output_type": "stream",
     "text": [
      "[1 3]\n"
     ]
    }
   ],
   "source": [
    "print(A[1:5:2]) # [start:end:step]"
   ]
  },
  {
   "cell_type": "code",
   "execution_count": 96,
   "metadata": {},
   "outputs": [
    {
     "name": "stdout",
     "output_type": "stream",
     "text": [
      "[0 1 2]\n"
     ]
    }
   ],
   "source": [
    "print(A[:3]) # By default, the first one"
   ]
  },
  {
   "cell_type": "code",
   "execution_count": 97,
   "metadata": {},
   "outputs": [
    {
     "name": "stdout",
     "output_type": "stream",
     "text": [
      "[3 4 5 6 7 8 9]\n"
     ]
    }
   ],
   "source": [
    "print(A[3:])"
   ]
  },
  {
   "cell_type": "code",
   "execution_count": 98,
   "metadata": {},
   "outputs": [
    {
     "name": "stdout",
     "output_type": "stream",
     "text": [
      "[0 3 6 9]\n"
     ]
    }
   ],
   "source": [
    "print(A[::3])"
   ]
  },
  {
   "cell_type": "code",
   "execution_count": 99,
   "metadata": {},
   "outputs": [
    {
     "name": "stdout",
     "output_type": "stream",
     "text": [
      "[0 1 2 3 4 5 6 7 8 9] [0 1 2 3 4 5 6 7 8 9] [0 1 2 3 4 5 6 7 8 9]\n"
     ]
    }
   ],
   "source": [
    "print(A, A[:], A[::])"
   ]
  },
  {
   "cell_type": "code",
   "execution_count": 100,
   "metadata": {},
   "outputs": [
    {
     "name": "stdout",
     "output_type": "stream",
     "text": [
      "[9 8 7 6 5 4 3 2 1 0]\n"
     ]
    }
   ],
   "source": [
    "print(A[::-1])"
   ]
  },
  {
   "cell_type": "code",
   "execution_count": 101,
   "metadata": {},
   "outputs": [
    {
     "name": "stdout",
     "output_type": "stream",
     "text": [
      "[[ 0  1  2  3  4  5  6  7  8  9]\n",
      " [10 11 12 13 14 15 16 17 18 19]\n",
      " [20 21 22 23 24 25 26 27 28 29]\n",
      " [30 31 32 33 34 35 36 37 38 39]\n",
      " [40 41 42 43 44 45 46 47 48 49]]\n",
      "[[ 0  1  2  3  4  5  6  7  8  9]\n",
      " [10 11 12 13 14 15 16 17 18 19]\n",
      " [20 21 22 23 24 25 26 27 28 29]\n",
      " [30 31 32 33 34 35 36 37 38 39]\n",
      " [40 41 42 43 44 45 46 47 48 49]]\n",
      "[[ 0  1  2  3  4  5  6  7  8  9]\n",
      " [10 11 12 13 14 15 16 17 18 19]\n",
      " [20 21 22 23 24 25 26 27 28 29]\n",
      " [30 31 32 33 34 35 36 37 38 39]\n",
      " [40 41 42 43 44 45 46 47 48 49]]\n"
     ]
    }
   ],
   "source": [
    "A = np.arange(50).reshape(5,10)\n",
    "print(A)\n",
    "print(A[:]) # <- works, although it is preferable ...\n",
    "print(A[:,:]) # <- ... this"
   ]
  },
  {
   "cell_type": "code",
   "execution_count": 102,
   "metadata": {},
   "outputs": [
    {
     "name": "stdout",
     "output_type": "stream",
     "text": [
      "[[ 0  1  2  3  4  5  6  7  8  9]\n",
      " [10 11 12 13 14 15 16 17 18 19]]\n"
     ]
    }
   ],
   "source": [
    "print(A[0:2,:])"
   ]
  },
  {
   "cell_type": "code",
   "execution_count": 103,
   "metadata": {},
   "outputs": [
    {
     "name": "stdout",
     "output_type": "stream",
     "text": [
      "[[ 1  3  5  7  9]\n",
      " [11 13 15 17 19]\n",
      " [21 23 25 27 29]\n",
      " [31 33 35 37 39]\n",
      " [41 43 45 47 49]]\n"
     ]
    }
   ],
   "source": [
    "print(A[:,1::2])"
   ]
  },
  {
   "cell_type": "code",
   "execution_count": 104,
   "metadata": {},
   "outputs": [
    {
     "name": "stdout",
     "output_type": "stream",
     "text": [
      "[[38 39]\n",
      " [48 49]]\n"
     ]
    }
   ],
   "source": [
    "print(A[A.shape[0]-2:,A.shape[1]-2:]) # bottom-right 2x2 array:"
   ]
  },
  {
   "cell_type": "code",
   "execution_count": 105,
   "metadata": {},
   "outputs": [
    {
     "name": "stdout",
     "output_type": "stream",
     "text": [
      "[20 21 22 23 24 25 26 27 28 29]\n",
      "[[20 21 22 23 24 25 26 27 28 29]]\n"
     ]
    }
   ],
   "source": [
    "print(A[2]) # Row extraction\n",
    "print(A[2:3,:]) # Sub-matrix extraction"
   ]
  },
  {
   "cell_type": "markdown",
   "metadata": {},
   "source": [
    "* Slices are [views](https://docs.scipy.org/doc/numpy/glossary.html#term-view) of the same data:"
   ]
  },
  {
   "cell_type": "code",
   "execution_count": 106,
   "metadata": {},
   "outputs": [
    {
     "name": "stdout",
     "output_type": "stream",
     "text": [
      "[0 1 2 3 4 5 6 7 8 9]\n",
      "[1000 1000]\n",
      "[   0 1000 1000    3    4    5    6    7    8    9]\n"
     ]
    }
   ],
   "source": [
    "A = np.arange(10)\n",
    "print(A)\n",
    "B = A[1:3] # B is simply a new view of A\n",
    "B[:] = 1000\n",
    "print(B)\n",
    "print(A)"
   ]
  },
  {
   "cell_type": "code",
   "execution_count": 107,
   "metadata": {
    "scrolled": true
   },
   "outputs": [
    {
     "name": "stdout",
     "output_type": "stream",
     "text": [
      "[0 1 2 3 4 5 6 7 8 9]\n",
      "[   9 1000    7    6    5    4    3    2    1    0]\n",
      "[   0    1    2    3    4    5    6    7 1000    9]\n"
     ]
    }
   ],
   "source": [
    "A = np.arange(10)\n",
    "print(A)\n",
    "B = A[::-1]\n",
    "B[1] = 1000\n",
    "print(B)\n",
    "print(A)"
   ]
  },
  {
   "cell_type": "markdown",
   "metadata": {},
   "source": [
    "* Copying slices:"
   ]
  },
  {
   "cell_type": "code",
   "execution_count": 108,
   "metadata": {},
   "outputs": [
    {
     "name": "stdout",
     "output_type": "stream",
     "text": [
      "[0 1 2 3 4 5 6 7 8 9]\n",
      "[   9 1000    7    6    5    4    3    2    1    0]\n",
      "[0 1 2 3 4 5 6 7 8 9]\n"
     ]
    }
   ],
   "source": [
    "A = np.arange(10)\n",
    "print(A)\n",
    "B = A[::-1].copy()\n",
    "B[1] = 1000\n",
    "print(B)\n",
    "print(A)"
   ]
  },
  {
   "cell_type": "markdown",
   "metadata": {},
   "source": [
    "* Ellipsis:"
   ]
  },
  {
   "cell_type": "code",
   "execution_count": 109,
   "metadata": {},
   "outputs": [
    {
     "name": "stdout",
     "output_type": "stream",
     "text": [
      "[[[ 0  1  2]\n",
      "  [ 3  4  5]\n",
      "  [ 6  7  8]]\n",
      "\n",
      " [[ 9 10 11]\n",
      "  [12 13 14]\n",
      "  [15 16 17]]\n",
      "\n",
      " [[18 19 20]\n",
      "  [21 22 23]\n",
      "  [24 25 26]]]\n"
     ]
    }
   ],
   "source": [
    "A = np.arange(27).reshape(3,3,3)\n",
    "print(A)"
   ]
  },
  {
   "cell_type": "code",
   "execution_count": 110,
   "metadata": {},
   "outputs": [
    {
     "name": "stdout",
     "output_type": "stream",
     "text": [
      "[[ 9 10 11]\n",
      " [12 13 14]\n",
      " [15 16 17]]\n"
     ]
    }
   ],
   "source": [
    "print(A[1,:,:])"
   ]
  },
  {
   "cell_type": "code",
   "execution_count": 111,
   "metadata": {},
   "outputs": [
    {
     "name": "stdout",
     "output_type": "stream",
     "text": [
      "[[ 9 10 11]\n",
      " [12 13 14]\n",
      " [15 16 17]]\n"
     ]
    }
   ],
   "source": [
    "print(A[1,...])"
   ]
  },
  {
   "cell_type": "markdown",
   "metadata": {},
   "source": [
    "## Mathematics\n",
    "Using vectorization."
   ]
  },
  {
   "cell_type": "markdown",
   "metadata": {},
   "source": [
    "### Some *school* math"
   ]
  },
  {
   "cell_type": "code",
   "execution_count": 112,
   "metadata": {},
   "outputs": [
    {
     "name": "stdout",
     "output_type": "stream",
     "text": [
      "[ 0  0  1  1  0  0  0  0 -1  1]\n",
      "[ 0  0 -1 -1  0  0  0  0  1 -1]\n"
     ]
    }
   ],
   "source": [
    "A = np.random.randint(low=-1, high=+2, size=10)\n",
    "print(A)\n",
    "print(-A)"
   ]
  },
  {
   "cell_type": "code",
   "execution_count": 113,
   "metadata": {},
   "outputs": [
    {
     "name": "stdout",
     "output_type": "stream",
     "text": [
      "[ 0  0  1  1  0  0  0  0 -1  1]\n",
      "[ 0  0  1  0  1 -1 -1  1  1  0]\n",
      "-------------------------------\n",
      "[ 0  0  2  1  1 -1 -1  1  0  1]\n"
     ]
    }
   ],
   "source": [
    "B = np.random.randint(low=-1, high=+2, size=10)\n",
    "print(A)\n",
    "print(B)\n",
    "print(\"-\"*31)\n",
    "print(A+B)"
   ]
  },
  {
   "cell_type": "code",
   "execution_count": 114,
   "metadata": {},
   "outputs": [
    {
     "name": "stdout",
     "output_type": "stream",
     "text": [
      "[ 0  0  1  0  0  0  0  0 -1  0]\n",
      "[nan nan  1. inf  0. -0. -0.  0. -1. inf]\n",
      "[ 0  0  0  0  0  0  0  0 -1  0]\n",
      "[ 0  0  0  0  0  0  0  0 -1  0]\n",
      "[ 0  0  2  2  0  0  0  0 -2  2]\n",
      "[0 0 1 1 0 0 0 0 1 1]\n",
      "[inf inf  1.  1. inf inf inf inf -1.  1.]\n",
      "[0 0 1 1 0 0 0 0 1 1]\n"
     ]
    },
    {
     "name": "stderr",
     "output_type": "stream",
     "text": [
      "/tmp/ipykernel_147728/2526621130.py:2: RuntimeWarning: divide by zero encountered in divide\n",
      "  print(A/B)\n",
      "/tmp/ipykernel_147728/2526621130.py:2: RuntimeWarning: invalid value encountered in divide\n",
      "  print(A/B)\n",
      "/tmp/ipykernel_147728/2526621130.py:7: RuntimeWarning: divide by zero encountered in divide\n",
      "  print(1/A)\n"
     ]
    }
   ],
   "source": [
    "print(A*B)\n",
    "print(A/B)\n",
    "print(A//2)\n",
    "print(A>>1)\n",
    "print(A*2)\n",
    "print(A**2)\n",
    "print(1/A)\n",
    "print(np.absolute(A))"
   ]
  },
  {
   "cell_type": "markdown",
   "metadata": {},
   "source": [
    "### Some measurements"
   ]
  },
  {
   "cell_type": "code",
   "execution_count": 115,
   "metadata": {},
   "outputs": [
    {
     "name": "stdout",
     "output_type": "stream",
     "text": [
      "[0 1 2 3 4 5 6 7 8 9]\n"
     ]
    }
   ],
   "source": [
    "A = np.arange(10)\n",
    "print(A)"
   ]
  },
  {
   "cell_type": "code",
   "execution_count": 116,
   "metadata": {},
   "outputs": [
    {
     "name": "stdout",
     "output_type": "stream",
     "text": [
      "Sum = 45\n",
      "Max = 9\n",
      "Min = 0\n",
      "L0 norm = 9.0\n",
      "L1 norm = 45.0\n",
      "L2 norm = 16.881943016134134\n",
      "L4 norm = 11.127735237293699\n"
     ]
    }
   ],
   "source": [
    "print(\"Sum =\", np.sum(A))\n",
    "print(\"Max =\", np.max(A))\n",
    "print(\"Min =\", np.min(A))\n",
    "print(\"L0 norm =\", np.linalg.norm(A, ord=0)) # np.max(A)\n",
    "print(\"L1 norm =\", np.linalg.norm(A, ord=1)) # np.sum(A)\n",
    "print(\"L2 norm =\", np.linalg.norm(A)) # math.sqrt(sum(A_i**2 for A_i in A))\n",
    "print(\"L4 norm =\", np.linalg.norm(A, ord=4))"
   ]
  },
  {
   "cell_type": "markdown",
   "metadata": {},
   "source": [
    "### Some vector math"
   ]
  },
  {
   "cell_type": "code",
   "execution_count": 117,
   "metadata": {},
   "outputs": [
    {
     "name": "stdout",
     "output_type": "stream",
     "text": [
      "[ 1  2  3  4  5  6  7  8  9 10]\n"
     ]
    },
    {
     "data": {
      "text/latex": [
       "$\\displaystyle A \\cdot B=220$"
      ],
      "text/plain": [
       "<IPython.core.display.Math object>"
      ]
     },
     "metadata": {},
     "output_type": "display_data"
    },
    {
     "name": "stdout",
     "output_type": "stream",
     "text": [
      "A dot product B = 220\n",
      "sum(A_i*B_i for A_i, B_i in zip(A, B))= 220\n",
      "multiply.reduce(A)= 3628800\n",
      "sum(A[:]*B[:]) = 220\n"
     ]
    }
   ],
   "source": [
    "from IPython.display import display, Math\n",
    "A = np.arange(10)\n",
    "A += 1\n",
    "print(A)\n",
    "B = A[::-1]\n",
    "display(Math(r\"A \\cdot B={}\".format(np.dot(A, B))))\n",
    "print(\"A dot product B =\", np.dot(A, B))\n",
    "print(\"sum(A_i*B_i for A_i, B_i in zip(A, B))=\", sum(A_i*B_i for A_i, B_i in zip(A, B)))\n",
    "print(\"multiply.reduce(A)=\", np.multiply.reduce(A))\n",
    "print(\"sum(A[:]*B[:]) =\", sum(A[:]*B[:]))"
   ]
  },
  {
   "cell_type": "code",
   "execution_count": 118,
   "metadata": {},
   "outputs": [
    {
     "data": {
      "text/latex": [
       "$\\displaystyle A \\times B=[0 0 0]$"
      ],
      "text/plain": [
       "<IPython.core.display.Math object>"
      ]
     },
     "metadata": {},
     "output_type": "display_data"
    },
    {
     "name": "stdout",
     "output_type": "stream",
     "text": [
      "[A[1]*B[2] - A[2]*B[1], A[2]*B[0] - A[0]*B[2], A[0]*B[1] - A[1]*B[0]] = [0 0 0]\n"
     ]
    }
   ],
   "source": [
    "A = np.array([1, 2, 3])\n",
    "B = np.array([-1, -2, -3])\n",
    "display(Math(r\"A \\times B={}\".format(np.cross(A, B))))\n",
    "# https://stackoverflow.com/questions/1984799/cross-product-of-two-vectors-in-python\n",
    "print(f\"[A[1]*B[2] - A[2]*B[1], A[2]*B[0] - A[0]*B[2], A[0]*B[1] - A[1]*B[0]] = [{A[1]*B[2] - A[2]*B[1]} {A[2]*B[0] - A[0]*B[2]} {A[0]*B[1] - A[1]*B[0]}]\")"
   ]
  },
  {
   "cell_type": "code",
   "execution_count": 119,
   "metadata": {},
   "outputs": [
    {
     "name": "stdout",
     "output_type": "stream",
     "text": [
      "[[0 1]\n",
      " [2 3]]\n",
      "[[2 3]\n",
      " [0 1]]\n",
      "A dot product B =  [[0 1]\n",
      " [4 9]]\n",
      "0 1 \n",
      "4 9 \n",
      "A inner product B = [[ 3  1]\n",
      " [13  3]]\n",
      "3 1 \n",
      "13 3 \n"
     ]
    }
   ],
   "source": [
    "A = np.arange(4).reshape(2,2)\n",
    "print(A)\n",
    "B = A[::-1]\n",
    "print(B)\n",
    "print(\"A dot product B = \", np.dot(A, B)) # dot[i,j] = sum(A[i,:] * B[:,j])\n",
    "# https://stackoverflow.com/questions/11033573/difference-between-numpy-dot-and-inner\n",
    "for i in range(A.shape[0]):\n",
    "    for j in range(A.shape[1]):\n",
    "        print(np.sum(A[i,:]*B[:,j]), end=\" \")\n",
    "    print(\"\")\n",
    "print(\"A inner product B =\", np.inner(A, B)) # inner[i,j] = (A[i,:] * B[j,:])\n",
    "for i in range(A.shape[0]):\n",
    "    for j in range(A.shape[1]):\n",
    "        print(np.sum(A[i,:]*B[j,:]), end=\" \")\n",
    "    print(\"\")"
   ]
  },
  {
   "cell_type": "markdown",
   "metadata": {},
   "source": [
    "### Some matrix math"
   ]
  },
  {
   "cell_type": "code",
   "execution_count": 120,
   "metadata": {},
   "outputs": [
    {
     "name": "stdout",
     "output_type": "stream",
     "text": [
      "[[0 1 0 1 0 1 0 1 0 1]\n",
      " [1 0 1 0 1 0 1 0 1 0]\n",
      " [0 1 0 1 0 1 0 1 0 1]\n",
      " [1 0 1 0 1 0 1 0 1 0]\n",
      " [0 1 0 1 0 1 0 1 0 1]\n",
      " [1 0 1 0 1 0 1 0 1 0]\n",
      " [0 1 0 1 0 1 0 1 0 1]\n",
      " [1 0 1 0 1 0 1 0 1 0]\n",
      " [0 1 0 1 0 1 0 1 0 1]\n",
      " [1 0 1 0 1 0 1 0 1 0]] (10, 10)\n"
     ]
    }
   ],
   "source": [
    "A = np.array([[(i+j)%2 for j in range(10)] for i in range(10)])\n",
    "print(A, A.shape)"
   ]
  },
  {
   "cell_type": "code",
   "execution_count": 121,
   "metadata": {},
   "outputs": [
    {
     "name": "stdout",
     "output_type": "stream",
     "text": [
      "[[1]\n",
      " [1]\n",
      " [1]\n",
      " [1]\n",
      " [1]\n",
      " [1]\n",
      " [1]\n",
      " [1]\n",
      " [1]\n",
      " [1]] (10, 1)\n"
     ]
    }
   ],
   "source": [
    "B = np.array([[1] for i in range(10)])\n",
    "print(B, B.shape)"
   ]
  },
  {
   "cell_type": "code",
   "execution_count": 122,
   "metadata": {},
   "outputs": [
    {
     "name": "stdout",
     "output_type": "stream",
     "text": [
      "[[5]\n",
      " [5]\n",
      " [5]\n",
      " [5]\n",
      " [5]\n",
      " [5]\n",
      " [5]\n",
      " [5]\n",
      " [5]\n",
      " [5]]\n"
     ]
    }
   ],
   "source": [
    "C = A @ B # Product matrix-matrix\n",
    "print(C)"
   ]
  },
  {
   "cell_type": "code",
   "execution_count": 123,
   "metadata": {},
   "outputs": [
    {
     "name": "stdout",
     "output_type": "stream",
     "text": [
      "[[5 5 5 5 5 5 5 5 5 5]] (1, 10) (10, 1)\n"
     ]
    }
   ],
   "source": [
    "print(C.T, C.T.shape, C.shape) # Transpose"
   ]
  },
  {
   "cell_type": "code",
   "execution_count": 124,
   "metadata": {},
   "outputs": [
    {
     "name": "stdout",
     "output_type": "stream",
     "text": [
      "Determinant = 0.0\n"
     ]
    }
   ],
   "source": [
    "print(\"Determinant =\", np.linalg.det(A))"
   ]
  },
  {
   "cell_type": "code",
   "execution_count": 125,
   "metadata": {},
   "outputs": [
    {
     "name": "stdout",
     "output_type": "stream",
     "text": [
      "Inverse = [[0.82875447 0.40136706 0.70743342 0.61775079 0.98096748]\n",
      " [0.28507988 0.7074332  0.1334363  0.78349316 0.4288855 ]\n",
      " [0.54204968 0.10540028 0.70218125 0.85419529 0.38447409]\n",
      " [0.93987128 0.40846562 0.68557188 0.36914891 0.52472433]\n",
      " [0.94468593 0.44874689 0.65004402 0.16979571 0.16685066]]\n"
     ]
    }
   ],
   "source": [
    "R = np.random.rand(5,5)\n",
    "iR = np.linalg.inv(R)\n",
    "print(\"Inverse =\", np.linalg.inv(iR)) # Matrix inverse"
   ]
  },
  {
   "cell_type": "code",
   "execution_count": 126,
   "metadata": {},
   "outputs": [
    {
     "name": "stdout",
     "output_type": "stream",
     "text": [
      "[[ 1. -0.  0.  0. -0.]\n",
      " [ 0.  1. -0. -0.  0.]\n",
      " [ 0. -0.  1. -0. -0.]\n",
      " [ 0. -0.  0.  1.  0.]\n",
      " [ 0. -0.  0. -0.  1.]]\n"
     ]
    }
   ],
   "source": [
    "print(np.round(R @ iR))"
   ]
  },
  {
   "cell_type": "code",
   "execution_count": 127,
   "metadata": {},
   "outputs": [
    {
     "name": "stdout",
     "output_type": "stream",
     "text": [
      "[[ 1.00000000e+00 -1.31440132e-16  1.17832109e-16  1.18478213e-15\n",
      "  -7.27817418e-16]\n",
      " [ 3.81800887e-16  1.00000000e+00 -8.79781998e-18 -2.78279455e-16\n",
      "   5.35129491e-18]\n",
      " [ 7.79103643e-16 -1.90219160e-17  1.00000000e+00 -1.32453634e-15\n",
      "  -6.10759141e-16]\n",
      " [ 1.78231392e-15 -1.76607482e-16  1.65387067e-16  1.00000000e+00\n",
      "   1.94763787e-15]\n",
      " [ 5.84000157e-16 -1.07606075e-16  5.53185583e-17 -1.36345423e-16\n",
      "   1.00000000e+00]]\n"
     ]
    }
   ],
   "source": [
    "print(R @ iR)"
   ]
  },
  {
   "cell_type": "code",
   "execution_count": 128,
   "metadata": {},
   "outputs": [
    {
     "name": "stdout",
     "output_type": "stream",
     "text": [
      "[[ 1.  0.  0.  0. -0.]\n",
      " [ 0.  1. -0.  0.  0.]\n",
      " [-0. -0.  1.  0. -0.]\n",
      " [-0. -0.  0.  1.  0.]\n",
      " [ 0.  0.  0.  0.  1.]]\n"
     ]
    }
   ],
   "source": [
    "print(np.round(iR @ R))"
   ]
  },
  {
   "cell_type": "code",
   "execution_count": 129,
   "metadata": {},
   "outputs": [
    {
     "name": "stdout",
     "output_type": "stream",
     "text": [
      "[[ 1.00000000e+00  4.49655871e-16  2.10097637e-15  9.22418521e-17\n",
      "  -3.64989339e-16]\n",
      " [ 1.82027569e-15  1.00000000e+00 -5.16295087e-18  2.49042018e-16\n",
      "   6.31363061e-16]\n",
      " [-1.99941182e-15 -1.57833803e-15  1.00000000e+00  2.72399903e-16\n",
      "  -1.39282501e-15]\n",
      " [-1.57034833e-16 -1.60524641e-16  4.72212208e-16  1.00000000e+00\n",
      "   1.78241439e-16]\n",
      " [ 7.03499165e-17  8.66099166e-17  2.46501110e-16  2.30047082e-17\n",
      "   1.00000000e+00]]\n"
     ]
    }
   ],
   "source": [
    "print(iR @ R)"
   ]
  },
  {
   "cell_type": "code",
   "execution_count": 130,
   "metadata": {},
   "outputs": [
    {
     "name": "stdout",
     "output_type": "stream",
     "text": [
      "[[ 0.30362895 -0.06836897  0.15672257 -0.82913466  1.36759363]\n",
      " [ 0.97077993  1.07911751 -0.8687301  -0.12819779 -1.03984351]\n",
      " [ 0.45888031 -0.55296682  0.75347955  0.77144651 -1.03477885]\n",
      " [-0.97366366  0.55009915 -0.2477474   0.44471609  0.38188209]]\n"
     ]
    }
   ],
   "source": [
    "R = np.random.rand(5,4)\n",
    "iR = np.linalg.pinv(R) # Pseudo-inverse\n",
    "print(iR)"
   ]
  },
  {
   "cell_type": "code",
   "execution_count": 131,
   "metadata": {},
   "outputs": [
    {
     "name": "stdout",
     "output_type": "stream",
     "text": [
      "[[ 1.  0.  0. -0. -0.]\n",
      " [ 0.  1. -0.  0.  0.]\n",
      " [ 0. -0.  1.  0.  0.]\n",
      " [-0.  0.  0.  1. -0.]\n",
      " [-0.  0.  0. -0.  1.]]\n"
     ]
    }
   ],
   "source": [
    "print(np.round(R @ iR))"
   ]
  },
  {
   "cell_type": "code",
   "execution_count": 132,
   "metadata": {},
   "outputs": [
    {
     "name": "stdout",
     "output_type": "stream",
     "text": [
      "[[ 0.90793771  0.11857411  0.18223593 -0.16534164 -0.09475871]\n",
      " [ 0.11857411  0.84727928 -0.23471568  0.21295623  0.12204703]\n",
      " [ 0.18223593 -0.23471568  0.6392667   0.32729132  0.18757345]\n",
      " [-0.16534164  0.21295623  0.32729132  0.70305041 -0.17018434]\n",
      " [-0.09475871  0.12204703  0.18757345 -0.17018434  0.9024659 ]]\n"
     ]
    }
   ],
   "source": [
    "print(R @ iR)"
   ]
  },
  {
   "cell_type": "code",
   "execution_count": 133,
   "metadata": {},
   "outputs": [
    {
     "name": "stdout",
     "output_type": "stream",
     "text": [
      "[[ 1.  0.  0.  0.]\n",
      " [-0.  1. -0. -0.]\n",
      " [-0. -0.  1. -0.]\n",
      " [ 0. -0. -0.  1.]]\n"
     ]
    }
   ],
   "source": [
    "print(np.round(iR @ R))"
   ]
  },
  {
   "cell_type": "code",
   "execution_count": 134,
   "metadata": {},
   "outputs": [
    {
     "name": "stdout",
     "output_type": "stream",
     "text": [
      "[[ 1.00000000e+00  3.37261186e-16  3.31556747e-16  5.40013468e-17]\n",
      " [-8.00369111e-17  1.00000000e+00 -1.17494725e-16 -4.80612421e-16]\n",
      " [-4.80385703e-16 -1.75827511e-16  1.00000000e+00 -1.16610552e-15]\n",
      " [ 8.17752205e-17 -2.28724261e-16 -3.67234047e-16  1.00000000e+00]]\n"
     ]
    }
   ],
   "source": [
    "print(iR @ R)"
   ]
  },
  {
   "cell_type": "markdown",
   "metadata": {},
   "source": [
    "## [Broadcasting](https://docs.scipy.org/doc/numpy/user/basics.broadcasting.html)\n",
    "In vectorized operations, NumPy \"extends\" scalars and arrays with one of its dimensions equal to the size of the other(s) array(s)."
   ]
  },
  {
   "cell_type": "code",
   "execution_count": 135,
   "metadata": {},
   "outputs": [
    {
     "name": "stdout",
     "output_type": "stream",
     "text": [
      "[2 3 4]\n"
     ]
    }
   ],
   "source": [
    "A = np.array([1, 2, 3])\n",
    "b = 1\n",
    "print(A+b) # Scalars are broadcasted"
   ]
  },
  {
   "cell_type": "code",
   "execution_count": 136,
   "metadata": {},
   "outputs": [
    {
     "name": "stdout",
     "output_type": "stream",
     "text": [
      "[2 3 4]\n"
     ]
    }
   ],
   "source": [
    "B = [1]\n",
    "print(A+B) # When possible, arrays are broadcasted in all possible dimensions"
   ]
  },
  {
   "cell_type": "code",
   "execution_count": 137,
   "metadata": {},
   "outputs": [
    {
     "name": "stdout",
     "output_type": "stream",
     "text": [
      "[[1 1 1]\n",
      " [1 1 1]\n",
      " [1 1 1]\n",
      " [1 1 1]\n",
      " [1 1 1]]\n",
      "[0 1 2]\n",
      "[[1 2 3]\n",
      " [1 2 3]\n",
      " [1 2 3]\n",
      " [1 2 3]\n",
      " [1 2 3]]\n"
     ]
    }
   ],
   "source": [
    "A = np.ones((5,3), dtype=np.int16)\n",
    "print(A)\n",
    "B = np.arange(3)\n",
    "print(B)\n",
    "print(A+B)  # Broadcasting in the axis 0"
   ]
  },
  {
   "cell_type": "code",
   "execution_count": 138,
   "metadata": {},
   "outputs": [
    {
     "name": "stdout",
     "output_type": "stream",
     "text": [
      "[[1 1 1]\n",
      " [1 1 1]\n",
      " [1 1 1]\n",
      " [1 1 1]\n",
      " [1 1 1]]\n",
      "[[0]\n",
      " [1]\n",
      " [2]\n",
      " [3]\n",
      " [4]]\n",
      "[[1 1 1]\n",
      " [2 2 2]\n",
      " [3 3 3]\n",
      " [4 4 4]\n",
      " [5 5 5]]\n"
     ]
    }
   ],
   "source": [
    "print(A)\n",
    "B = np.arange(5).reshape((5, 1))\n",
    "print(B)\n",
    "print(A+B)  # Broadcasting in the axis 1"
   ]
  },
  {
   "cell_type": "markdown",
   "metadata": {},
   "source": [
    "* Two dimensions are compatible when they are equal, or\n",
    "one of them is 1. Otherwise a `ValueError: frames are not aligned` is thrown."
   ]
  },
  {
   "cell_type": "code",
   "execution_count": 139,
   "metadata": {},
   "outputs": [
    {
     "name": "stdout",
     "output_type": "stream",
     "text": [
      "[[0]\n",
      " [1]\n",
      " [2]\n",
      " [3]]\n"
     ]
    }
   ],
   "source": [
    "B = np.arange(4)[:, None]\n",
    "print(B)"
   ]
  },
  {
   "cell_type": "code",
   "execution_count": 140,
   "metadata": {},
   "outputs": [
    {
     "name": "stdout",
     "output_type": "stream",
     "text": [
      "(5, 3)\n"
     ]
    }
   ],
   "source": [
    "print(A.shape)"
   ]
  },
  {
   "cell_type": "code",
   "execution_count": 141,
   "metadata": {},
   "outputs": [
    {
     "name": "stdout",
     "output_type": "stream",
     "text": [
      "(4, 1)\n"
     ]
    }
   ],
   "source": [
    "print(B.shape)"
   ]
  },
  {
   "cell_type": "code",
   "execution_count": 142,
   "metadata": {},
   "outputs": [
    {
     "name": "stdout",
     "output_type": "stream",
     "text": [
      "ValueError exception: operands could not be broadcast together with shapes (5,3) (4,1) \n"
     ]
    }
   ],
   "source": [
    "try:\n",
    "    A + B\n",
    "except ValueError as e:\n",
    "    print(\"ValueError exception: \", end='')\n",
    "    if hasattr(e, 'message'):\n",
    "        print(e.message)\n",
    "    else:\n",
    "        print(e)"
   ]
  },
  {
   "cell_type": "markdown",
   "metadata": {},
   "source": [
    "## How fast is Numpy's array math?"
   ]
  },
  {
   "cell_type": "code",
   "execution_count": 143,
   "metadata": {},
   "outputs": [
    {
     "name": "stdout",
     "output_type": "stream",
     "text": [
      "[[ 0  1  2  3  4  5  6  7  8  9]\n",
      " [10 11 12 13 14 15 16 17 18 19]\n",
      " [20 21 22 23 24 25 26 27 28 29]\n",
      " [30 31 32 33 34 35 36 37 38 39]\n",
      " [40 41 42 43 44 45 46 47 48 49]\n",
      " [50 51 52 53 54 55 56 57 58 59]\n",
      " [60 61 62 63 64 65 66 67 68 69]\n",
      " [70 71 72 73 74 75 76 77 78 79]\n",
      " [80 81 82 83 84 85 86 87 88 89]\n",
      " [90 91 92 93 94 95 96 97 98 99]] (10, 10)\n"
     ]
    }
   ],
   "source": [
    "A = np.array([[(i*10+j) for j in range(10)] for i in range(10)])\n",
    "print(A, A.shape)"
   ]
  },
  {
   "cell_type": "markdown",
   "metadata": {},
   "source": [
    "* Add `B[]` to all the rows of `A[][]` using scalar arithmetic:"
   ]
  },
  {
   "cell_type": "code",
   "execution_count": 144,
   "metadata": {},
   "outputs": [
    {
     "name": "stdout",
     "output_type": "stream",
     "text": [
      "17.2 µs ± 91.4 ns per loop (mean ± std. dev. of 7 runs, 100,000 loops each)\n",
      "[[ 10  12  14  16  18  20  22  24  26  28]\n",
      " [ 20  22  24  26  28  30  32  34  36  38]\n",
      " [ 30  32  34  36  38  40  42  44  46  48]\n",
      " [ 40  42  44  46  48  50  52  54  56  58]\n",
      " [ 50  52  54  56  58  60  62  64  66  68]\n",
      " [ 60  62  64  66  68  70  72  74  76  78]\n",
      " [ 70  72  74  76  78  80  82  84  86  88]\n",
      " [ 80  82  84  86  88  90  92  94  96  98]\n",
      " [ 90  92  94  96  98 100 102 104 106 108]\n",
      " [100 102 104 106 108 110 112 114 116 118]]\n"
     ]
    }
   ],
   "source": [
    "C = np.empty_like(A)\n",
    "B = np.array([(i*10+j) for j in range(10)])\n",
    "def add():\n",
    "    for i in range(A.shape[1]):\n",
    "        for j in range(A.shape[0]):\n",
    "            C[i, j] = A[i, j] + B[j]\n",
    "%timeit add()\n",
    "print(C)"
   ]
  },
  {
   "cell_type": "markdown",
   "metadata": {},
   "source": [
    "* Add `B[]` to all the rows of `B[][]` using vectorial computation:"
   ]
  },
  {
   "cell_type": "code",
   "execution_count": 145,
   "metadata": {},
   "outputs": [
    {
     "name": "stdout",
     "output_type": "stream",
     "text": [
      "5.91 µs ± 34.9 ns per loop (mean ± std. dev. of 7 runs, 100,000 loops each)\n",
      "[[ 10  12  14  16  18  20  22  24  26  28]\n",
      " [ 20  22  24  26  28  30  32  34  36  38]\n",
      " [ 30  32  34  36  38  40  42  44  46  48]\n",
      " [ 40  42  44  46  48  50  52  54  56  58]\n",
      " [ 50  52  54  56  58  60  62  64  66  68]\n",
      " [ 60  62  64  66  68  70  72  74  76  78]\n",
      " [ 70  72  74  76  78  80  82  84  86  88]\n",
      " [ 80  82  84  86  88  90  92  94  96  98]\n",
      " [ 90  92  94  96  98 100 102 104 106 108]\n",
      " [100 102 104 106 108 110 112 114 116 118]]\n"
     ]
    }
   ],
   "source": [
    "C = np.empty_like(A)\n",
    "def add():\n",
    "    for i in range(A.shape[1]):\n",
    "        C[i, :] = A[i, :] + B\n",
    "%timeit add()\n",
    "print(C)"
   ]
  },
  {
   "cell_type": "markdown",
   "metadata": {},
   "source": [
    "* Add `B[]` to all the rows of `A[][]` using fully vectorial computation:"
   ]
  },
  {
   "cell_type": "code",
   "execution_count": 146,
   "metadata": {},
   "outputs": [
    {
     "name": "stdout",
     "output_type": "stream",
     "text": [
      "667 ns ± 3.23 ns per loop (mean ± std. dev. of 7 runs, 1,000,000 loops each)\n",
      "[[ 10  12  14  16  18  20  22  24  26  28]\n",
      " [ 20  22  24  26  28  30  32  34  36  38]\n",
      " [ 30  32  34  36  38  40  42  44  46  48]\n",
      " [ 40  42  44  46  48  50  52  54  56  58]\n",
      " [ 50  52  54  56  58  60  62  64  66  68]\n",
      " [ 60  62  64  66  68  70  72  74  76  78]\n",
      " [ 70  72  74  76  78  80  82  84  86  88]\n",
      " [ 80  82  84  86  88  90  92  94  96  98]\n",
      " [ 90  92  94  96  98 100 102 104 106 108]\n",
      " [100 102 104 106 108 110 112 114 116 118]]\n"
     ]
    }
   ],
   "source": [
    "%timeit C = A + B # <- broadcasting is faster\n",
    "print(C)"
   ]
  },
  {
   "cell_type": "markdown",
   "metadata": {},
   "source": [
    "## Vectorized conditionals using [masked arrays](https://numpy.org/doc/stable/reference/maskedarray.generic.html)"
   ]
  },
  {
   "cell_type": "code",
   "execution_count": 147,
   "metadata": {},
   "outputs": [
    {
     "name": "stdout",
     "output_type": "stream",
     "text": [
      "Using condiditional: 0.14004898071289062\n",
      "Using mask: 0.010968685150146484\n"
     ]
    }
   ],
   "source": [
    "import numpy as np\n",
    "import time\n",
    "\n",
    "a = np.arange(1_000_000)\n",
    "t1 = time.time()\n",
    "for i in range(len(a)):\n",
    "    if a[i] > 1000 and a[i] < 2000:\n",
    "        a[i] = a[i] / 1000\n",
    "t2 = time.time()\n",
    "print(\"Using condiditional:\", t2 - t1)\n",
    "\n",
    "a = np.arange(1_000_000)\n",
    "t1 = time.time()\n",
    "mask = np.ma.masked_inside(a, 1000, 2000) # Mask an array inside a given interval\n",
    "a[mask] = a[mask] / 1000\n",
    "t2 = time.time()\n",
    "print(\"Using mask:\", t2 - t1)"
   ]
  },
  {
   "cell_type": "markdown",
   "metadata": {},
   "source": [
    "## Arrays of objects"
   ]
  },
  {
   "cell_type": "markdown",
   "metadata": {},
   "source": [
    "* For example, an array of strings:"
   ]
  },
  {
   "cell_type": "code",
   "execution_count": 148,
   "metadata": {},
   "outputs": [
    {
     "name": "stdout",
     "output_type": "stream",
     "text": [
      "['hello' 'world!']\n",
      "(2,)\n",
      "['HELLO' 'WORLD!']\n"
     ]
    }
   ],
   "source": [
    "A = np.array(['hello', 'world!'])\n",
    "print(A)\n",
    "print(A.shape)\n",
    "print(np.char.upper(A))"
   ]
  },
  {
   "cell_type": "markdown",
   "metadata": {},
   "source": [
    "* Simulating a dictionary:"
   ]
  },
  {
   "cell_type": "code",
   "execution_count": 149,
   "metadata": {},
   "outputs": [
    {
     "name": "stdout",
     "output_type": "stream",
     "text": [
      "[['Spain' '100']\n",
      " ['France' '200']\n",
      " ['Italy' '300']]\n",
      "(3, 2)\n",
      "['Spain' 'France' 'Italy']\n",
      "[['France' '200']]\n",
      "['200']\n",
      "The value associated to the key France is 200\n"
     ]
    }
   ],
   "source": [
    "A = np.array([(\"Spain\", 100), (\"France\", 200), (\"Italy\", 300)])\n",
    "print(A) # Notice that all the elements are srings\n",
    "print(A.shape)\n",
    "print(A[:,0])\n",
    "print(A[A[:,0] == \"France\"])\n",
    "print(A[A[:,0] == \"France\"][:,1])\n",
    "print(\"The value associated to the key France is\", A[A[:,0] == \"France\"][:,1][0])"
   ]
  },
  {
   "cell_type": "markdown",
   "metadata": {},
   "source": [
    "* A dictionary is faster:"
   ]
  },
  {
   "cell_type": "code",
   "execution_count": 150,
   "metadata": {},
   "outputs": [
    {
     "name": "stdout",
     "output_type": "stream",
     "text": [
      "1.68 µs ± 5.12 ns per loop (mean ± std. dev. of 7 runs, 1,000,000 loops each)\n",
      "200\n",
      "15.1 ns ± 0.089 ns per loop (mean ± std. dev. of 7 runs, 100,000,000 loops each)\n"
     ]
    }
   ],
   "source": [
    "%timeit A[A[:,0] == \"France\"][:,1][0]\n",
    "dictionary = {\"Spain\":100, \"France\":200, \"Italy\":300}\n",
    "print(dictionary[\"France\"])\n",
    "%timeit dictionary[\"France\"]"
   ]
  },
  {
   "cell_type": "markdown",
   "metadata": {},
   "source": [
    "* However, this difference can be smaller depending on the type of search:"
   ]
  },
  {
   "cell_type": "code",
   "execution_count": 151,
   "metadata": {},
   "outputs": [
    {
     "name": "stdout",
     "output_type": "stream",
     "text": [
      "[100, 300]\n",
      "178 ns ± 2.42 ns per loop (mean ± std. dev. of 7 runs, 10,000,000 loops each)\n"
     ]
    }
   ],
   "source": [
    "others = [value for key, value in dictionary.items() if key != \"France\"]\n",
    "print(others)\n",
    "%timeit [value for key, value in dictionary.items() if key != \"France\"]"
   ]
  },
  {
   "cell_type": "code",
   "execution_count": 152,
   "metadata": {},
   "outputs": [
    {
     "name": "stdout",
     "output_type": "stream",
     "text": [
      "[ True False  True]\n",
      "[['Spain' '100']\n",
      " ['Italy' '300']]\n",
      "['100' '300']\n",
      "[100 300]\n",
      "2.44 µs ± 19.6 ns per loop (mean ± std. dev. of 7 runs, 100,000 loops each)\n"
     ]
    }
   ],
   "source": [
    "print(A[:,0] != \"France\")\n",
    "print(A[A[:,0] != \"France\"])\n",
    "print(A[A[:,0] != \"France\"][:,1])\n",
    "print(A[A[:,0] != \"France\"][:,1].astype(np.int16))\n",
    "%timeit A[A[:,0] != \"France\"][:,1].astype(np.int16)"
   ]
  },
  {
   "cell_type": "markdown",
   "metadata": {},
   "source": [
    "## Structured arrays"
   ]
  },
  {
   "cell_type": "markdown",
   "metadata": {},
   "source": [
    "* Create a 1D array of (two) records, where each record has the structure (int, float, char[10])."
   ]
  },
  {
   "cell_type": "code",
   "execution_count": 153,
   "metadata": {},
   "outputs": [
    {
     "name": "stdout",
     "output_type": "stream",
     "text": [
      "[(1, 2., b'Hello') (3, 4., b'World')]\n"
     ]
    }
   ],
   "source": [
    "X = np.array([(1, 2., \"Hello\"), (3, 4., \"World\")],\n",
    "             dtype=[(\"first\", \"i4\"),(\"second\", \"f4\"), (\"third\", \"S10\")])\n",
    "# See https://docs.scipy.org/doc/numpy/reference/arrays.dtypes.html\n",
    "print(X)"
   ]
  },
  {
   "cell_type": "markdown",
   "metadata": {},
   "source": [
    "* Get the first element of every record:"
   ]
  },
  {
   "cell_type": "code",
   "execution_count": 154,
   "metadata": {},
   "outputs": [
    {
     "name": "stdout",
     "output_type": "stream",
     "text": [
      "[1 3]\n"
     ]
    }
   ],
   "source": [
    "print(X[\"first\"])"
   ]
  },
  {
   "cell_type": "markdown",
   "metadata": {},
   "source": [
    "* Get the first record:"
   ]
  },
  {
   "cell_type": "code",
   "execution_count": 155,
   "metadata": {},
   "outputs": [
    {
     "name": "stdout",
     "output_type": "stream",
     "text": [
      "(1, 2., b'Hello')\n"
     ]
    }
   ],
   "source": [
    "print(X[0])"
   ]
  },
  {
   "cell_type": "markdown",
   "metadata": {},
   "source": [
    "* Get the second element of every record:"
   ]
  },
  {
   "cell_type": "code",
   "execution_count": 156,
   "metadata": {},
   "outputs": [
    {
     "name": "stdout",
     "output_type": "stream",
     "text": [
      "[2. 4.]\n"
     ]
    }
   ],
   "source": [
    "print(X[\"second\"])"
   ]
  },
  {
   "cell_type": "markdown",
   "metadata": {},
   "source": [
    "* Third element of every record:"
   ]
  },
  {
   "cell_type": "code",
   "execution_count": 157,
   "metadata": {},
   "outputs": [
    {
     "name": "stdout",
     "output_type": "stream",
     "text": [
      "[b'Hello' b'World']\n"
     ]
    }
   ],
   "source": [
    "print(X[\"third\"])"
   ]
  },
  {
   "cell_type": "markdown",
   "metadata": {},
   "source": [
    "## Disk I/O"
   ]
  },
  {
   "cell_type": "markdown",
   "metadata": {},
   "source": [
    "* Output data to an ASCII file:"
   ]
  },
  {
   "cell_type": "code",
   "execution_count": 158,
   "metadata": {},
   "outputs": [
    {
     "name": "stdout",
     "output_type": "stream",
     "text": [
      "cat: Data.txt: No such file or directory\r\n"
     ]
    }
   ],
   "source": [
    "Data = np.array([[1., 200.], [2., 150.], [3., 250.]])\n",
    "np.savetxt(\"data.txt\", Data)\n",
    "!cat Data.txt"
   ]
  },
  {
   "cell_type": "markdown",
   "metadata": {},
   "source": [
    "* Input data from an ASCII file:"
   ]
  },
  {
   "cell_type": "code",
   "execution_count": 159,
   "metadata": {},
   "outputs": [
    {
     "data": {
      "text/plain": [
       "array([[  1., 200.],\n",
       "       [  2., 150.],\n",
       "       [  3., 250.]])"
      ]
     },
     "execution_count": 159,
     "metadata": {},
     "output_type": "execute_result"
    }
   ],
   "source": [
    "np.genfromtxt('data.txt')"
   ]
  },
  {
   "cell_type": "markdown",
   "metadata": {},
   "source": [
    "* Output data to a binary file (using the native endianness):"
   ]
  },
  {
   "cell_type": "code",
   "execution_count": 160,
   "metadata": {},
   "outputs": [],
   "source": [
    "ofile = open(\"data.float64\", mode=\"wb\")\n",
    "Data.tofile(ofile)"
   ]
  },
  {
   "cell_type": "markdown",
   "metadata": {},
   "source": [
    "* Input data from a binary file (using the native endianness):"
   ]
  },
  {
   "cell_type": "code",
   "execution_count": 161,
   "metadata": {},
   "outputs": [
    {
     "name": "stdout",
     "output_type": "stream",
     "text": [
      "[  1. 200.   2. 150.   3. 250.]\n"
     ]
    }
   ],
   "source": [
    "print(np.fromfile(\"data.float64\", dtype=np.float64))"
   ]
  },
  {
   "cell_type": "markdown",
   "metadata": {},
   "source": [
    "* Numpy and C use the same endianness:"
   ]
  },
  {
   "cell_type": "code",
   "execution_count": 162,
   "metadata": {},
   "outputs": [
    {
     "name": "stdout",
     "output_type": "stream",
     "text": [
      "#include <stdio.h>\n",
      "\n",
      "#define N 10\n",
      "\n",
      "int main() {\n",
      "  double a[N];\n",
      "  int i;\n",
      "  FILE *ofile = fopen(\"data.float64\", \"wb\");\n",
      "  for(i=0; i<N; i++) {\n",
      "    a[i] = i;\n",
      "  }\n",
      "  fwrite(a, sizeof(double), N, ofile);\n",
      "  fclose(ofile);\n",
      "  fprintf(stderr,\"create_float64: done\\n\");\n",
      "}\n",
      "create_float64: done\n"
     ]
    }
   ],
   "source": [
    "!cat create_float64.c\n",
    "!gcc create_float64.c -o create_float64\n",
    "!./create_float64"
   ]
  },
  {
   "cell_type": "code",
   "execution_count": 163,
   "metadata": {},
   "outputs": [
    {
     "name": "stdout",
     "output_type": "stream",
     "text": [
      "[0. 1. 2. 3. 4. 5. 6. 7. 8. 9.]\n"
     ]
    }
   ],
   "source": [
    "print(np.fromfile(\"data.float64\", dtype=np.float64))"
   ]
  },
  {
   "cell_type": "markdown",
   "metadata": {},
   "source": [
    "* Specifiying the endianness:"
   ]
  },
  {
   "cell_type": "code",
   "execution_count": 164,
   "metadata": {},
   "outputs": [
    {
     "name": "stdout",
     "output_type": "stream",
     "text": [
      "[0.00000e+000 3.03865e-319 3.16202e-322 1.04347e-320 2.05531e-320\n",
      " 2.56124e-320 3.06716e-320 3.57308e-320 4.07901e-320 4.33197e-320]\n"
     ]
    }
   ],
   "source": [
    "print(np.fromfile(\"data.float64\", dtype=\">d\"))\n",
    "# (> = bit-endian, d = double, see https://docs.scipy.org/doc/numpy/reference/arrays.dtypes.html)"
   ]
  },
  {
   "cell_type": "markdown",
   "metadata": {},
   "source": [
    "* Make the things easier:"
   ]
  },
  {
   "cell_type": "code",
   "execution_count": 165,
   "metadata": {},
   "outputs": [
    {
     "name": "stdout",
     "output_type": "stream",
     "text": [
      "[[56 85 34]\n",
      " [78 95 41]]\n"
     ]
    }
   ],
   "source": [
    "ofile = open(\"data.npy\", mode=\"wb\")\n",
    "A = (100*np.random.rand(2,3)).astype(np.uint16)\n",
    "print(A)"
   ]
  },
  {
   "cell_type": "code",
   "execution_count": 166,
   "metadata": {},
   "outputs": [],
   "source": [
    "np.save(ofile, A)"
   ]
  },
  {
   "cell_type": "code",
   "execution_count": 167,
   "metadata": {},
   "outputs": [
    {
     "name": "stdout",
     "output_type": "stream",
     "text": [
      "ls: cannot access 'save*': No such file or directory\r\n"
     ]
    }
   ],
   "source": [
    "!ls save*"
   ]
  },
  {
   "cell_type": "code",
   "execution_count": 168,
   "metadata": {},
   "outputs": [
    {
     "name": "stdout",
     "output_type": "stream",
     "text": [
      "[[56 85 34]\n",
      " [78 95 41]]\n"
     ]
    }
   ],
   "source": [
    "print(np.load(\"data.npy\"))"
   ]
  },
  {
   "cell_type": "markdown",
   "metadata": {},
   "source": [
    "### [Endianness](https://docs.scipy.org/doc/numpy/reference/generated/numpy.dtype.byteorder.html)"
   ]
  },
  {
   "cell_type": "code",
   "execution_count": 169,
   "metadata": {},
   "outputs": [
    {
     "name": "stdout",
     "output_type": "stream",
     "text": [
      "=\n"
     ]
    }
   ],
   "source": [
    "print(A.dtype.byteorder)"
   ]
  },
  {
   "cell_type": "markdown",
   "metadata": {},
   "source": [
    "## Timming NumPy?"
   ]
  },
  {
   "cell_type": "markdown",
   "metadata": {},
   "source": [
    "* Lets define a list and compute the sum of its elements, timing it:"
   ]
  },
  {
   "cell_type": "code",
   "execution_count": 170,
   "metadata": {},
   "outputs": [
    {
     "name": "stdout",
     "output_type": "stream",
     "text": [
      "<class 'list'> [0, 1, 2, 3, 4, 5, 6, 7, 8, 9]\n",
      "833 µs ± 56.7 µs per loop (mean ± std. dev. of 7 runs, 1,000 loops each)\n"
     ]
    }
   ],
   "source": [
    "l = list(range(0,100000)); print(type(l), l[:10])\n",
    "%timeit sum(l)"
   ]
  },
  {
   "cell_type": "markdown",
   "metadata": {},
   "source": [
    "* An now, lets create a numpy's array and time the sum of its elements:"
   ]
  },
  {
   "cell_type": "code",
   "execution_count": 171,
   "metadata": {},
   "outputs": [
    {
     "name": "stdout",
     "output_type": "stream",
     "text": [
      "<class 'numpy.ndarray'> [0 1 2 3 4 5 6 7 8 9]\n",
      "23.2 µs ± 33.8 ns per loop (mean ± std. dev. of 7 runs, 10,000 loops each)\n"
     ]
    }
   ],
   "source": [
    "A = np.arange(0, 100000); print(type(A), A[:10])\n",
    "%timeit np.sum(A)"
   ]
  },
  {
   "cell_type": "markdown",
   "metadata": {},
   "source": [
    "* And what about a *pure* C implementation of an equivalent computation: "
   ]
  },
  {
   "cell_type": "code",
   "execution_count": 172,
   "metadata": {},
   "outputs": [
    {
     "name": "stdout",
     "output_type": "stream",
     "text": [
      "#include <stdio.h>\n",
      "#include <time.h>\n",
      "#include \"sum_array_lib.c\"\n",
      "\n",
      "#define N 100000\n",
      "\n",
      "int main() {\n",
      "  double a[N];\n",
      "  int i;\n",
      "  clock_t start, end;\n",
      "  double cpu_time;\n",
      "  for(i=0; i<N; i++) {\n",
      "    a[i] = i;\n",
      "  }\n",
      "  start = clock();\n",
      "  double sum = sum_array(a,N);\n",
      "  end = clock();\n",
      "  printf(\"%f \", sum);\n",
      "  cpu_time = ((double) (end - start)) / CLOCKS_PER_SEC;\n",
      "  cpu_time *= 1000000;\n",
      "  printf(\"%f usegs\\n\", cpu_time);\n",
      "}\n",
      "4999950000.000000 135.000000 usegs\n",
      "4999950000.000000 156.000000 usegs\n",
      "4999950000.000000 156.000000 usegs\n",
      "4999950000.000000 134.000000 usegs\n",
      "4999950000.000000 46.000000 usegs\n",
      "4999950000.000000 135.000000 usegs\n",
      "4999950000.000000 46.000000 usegs\n",
      "4999950000.000000 155.000000 usegs\n",
      "4999950000.000000 126.000000 usegs\n",
      "4999950000.000000 112.000000 usegs\n",
      "4999950000.000000 125.000000 usegs\n",
      "4999950000.000000 50.000000 usegs\n",
      "4999950000.000000 119.000000 usegs\n",
      "4999950000.000000 155.000000 usegs\n",
      "4999950000.000000 136.000000 usegs\n",
      "4999950000.000000 131.000000 usegs\n",
      "4999950000.000000 151.000000 usegs\n",
      "4999950000.000000 119.000000 usegs\n",
      "4999950000.000000 119.000000 usegs\n",
      "4999950000.000000 44.000000 usegs\n",
      "4999950000.000000 112.000000 usegs\n",
      "4999950000.000000 44.000000 usegs\n",
      "4999950000.000000 129.000000 usegs\n",
      "4999950000.000000 46.000000 usegs\n",
      "4999950000.000000 126.000000 usegs\n",
      "4999950000.000000 126.000000 usegs\n",
      "4999950000.000000 119.000000 usegs\n",
      "4999950000.000000 126.000000 usegs\n",
      "4999950000.000000 46.000000 usegs\n",
      "4999950000.000000 113.000000 usegs\n",
      "4999950000.000000 168.000000 usegs\n",
      "4999950000.000000 48.000000 usegs\n",
      "4999950000.000000 170.000000 usegs\n",
      "4999950000.000000 92.000000 usegs\n",
      "4999950000.000000 112.000000 usegs\n",
      "4999950000.000000 112.000000 usegs\n",
      "4999950000.000000 112.000000 usegs\n",
      "4999950000.000000 169.000000 usegs\n",
      "4999950000.000000 43.000000 usegs\n",
      "4999950000.000000 109.000000 usegs\n",
      "4999950000.000000 145.000000 usegs\n",
      "4999950000.000000 134.000000 usegs\n",
      "4999950000.000000 44.000000 usegs\n",
      "4999950000.000000 113.000000 usegs\n",
      "4999950000.000000 119.000000 usegs\n",
      "4999950000.000000 46.000000 usegs\n",
      "4999950000.000000 124.000000 usegs\n",
      "4999950000.000000 126.000000 usegs\n",
      "4999950000.000000 126.000000 usegs\n",
      "4999950000.000000 44.000000 usegs\n",
      "4999950000.000000 107.000000 usegs\n",
      "4999950000.000000 72.000000 usegs\n",
      "4999950000.000000 44.000000 usegs\n",
      "4999950000.000000 125.000000 usegs\n",
      "4999950000.000000 101.000000 usegs\n",
      "4999950000.000000 84.000000 usegs\n",
      "4999950000.000000 101.000000 usegs\n",
      "4999950000.000000 43.000000 usegs\n",
      "4999950000.000000 107.000000 usegs\n",
      "4999950000.000000 92.000000 usegs\n",
      "4999950000.000000 113.000000 usegs\n",
      "4999950000.000000 107.000000 usegs\n",
      "4999950000.000000 113.000000 usegs\n",
      "4999950000.000000 168.000000 usegs\n",
      "4999950000.000000 119.000000 usegs\n",
      "4999950000.000000 145.000000 usegs\n",
      "4999950000.000000 120.000000 usegs\n",
      "4999950000.000000 135.000000 usegs\n",
      "4999950000.000000 112.000000 usegs\n",
      "4999950000.000000 120.000000 usegs\n",
      "4999950000.000000 127.000000 usegs\n",
      "4999950000.000000 112.000000 usegs\n",
      "4999950000.000000 144.000000 usegs\n",
      "4999950000.000000 135.000000 usegs\n",
      "4999950000.000000 119.000000 usegs\n",
      "4999950000.000000 88.000000 usegs\n",
      "4999950000.000000 135.000000 usegs\n",
      "4999950000.000000 112.000000 usegs\n",
      "4999950000.000000 101.000000 usegs\n",
      "4999950000.000000 116.000000 usegs\n",
      "4999950000.000000 119.000000 usegs\n",
      "116 ms ± 640 µs per loop (mean ± std. dev. of 7 runs, 10 loops each)\n"
     ]
    }
   ],
   "source": [
    "!cat sum_array.c\n",
    "!gcc -O3 sum_array.c -o sum_array\n",
    "%timeit !./sum_array"
   ]
  },
  {
   "cell_type": "markdown",
   "metadata": {},
   "source": [
    "* Another example:"
   ]
  },
  {
   "cell_type": "code",
   "execution_count": 173,
   "metadata": {},
   "outputs": [
    {
     "name": "stdout",
     "output_type": "stream",
     "text": [
      "0 1 2 3 4 5 6 7 8 9 \n",
      "31.5 ms ± 120 µs per loop (mean ± std. dev. of 7 runs, 10 loops each)\n",
      "[1, 2, 3, 4, 5, 6, 7, 8, 9, 10]\n",
      "300 µs ± 2.55 µs per loop (mean ± std. dev. of 7 runs, 1,000 loops each)\n",
      "[ 1  2  3  4  5  6  7  8  9 10]\n"
     ]
    }
   ],
   "source": [
    "# Example extracted from https://github.com/pyHPC/pyhpc-tutorial\n",
    "lst = range(1000000)\n",
    "\n",
    "for i in lst[:10]:\n",
    "    print(i, end=' ')\n",
    "print()\n",
    "\n",
    "%timeit [i + 1 for i in lst] # A Python list comprehension (iteration happens in C but with PyObjects)\n",
    "x = [i + 1 for i in lst]\n",
    "\n",
    "print(x[:10])\n",
    "\n",
    "arr = np.arange(1000000) # A NumPy list of integers\n",
    "%timeit arr + 1 # Use operator overloading for nice syntax, now iteration is in C with ints\n",
    "y = arr + 1\n",
    "\n",
    "print(y[:10])"
   ]
  }
 ],
 "metadata": {
  "kernelspec": {
   "display_name": "Python 3 (ipykernel)",
   "language": "python",
   "name": "python3"
  },
  "language_info": {
   "codemirror_mode": {
    "name": "ipython",
    "version": 3
   },
   "file_extension": ".py",
   "mimetype": "text/x-python",
   "name": "python",
   "nbconvert_exporter": "python",
   "pygments_lexer": "ipython3",
   "version": "3.10.6"
  },
  "toc": {
   "base_numbering": 1,
   "nav_menu": {},
   "number_sections": true,
   "sideBar": true,
   "skip_h1_title": true,
   "title_cell": "Table of Contents",
   "title_sidebar": "Contents",
   "toc_cell": true,
   "toc_position": {},
   "toc_section_display": true,
   "toc_window_display": true
  }
 },
 "nbformat": 4,
 "nbformat_minor": 1
}
