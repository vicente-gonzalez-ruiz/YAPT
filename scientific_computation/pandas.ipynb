{
  "nbformat": 4,
  "nbformat_minor": 0,
  "metadata": {
    "kernelspec": {
      "display_name": "Python 3",
      "language": "python",
      "name": "python3"
    },
    "language_info": {
      "codemirror_mode": {
        "name": "ipython",
        "version": 3
      },
      "file_extension": ".py",
      "mimetype": "text/x-python",
      "name": "python",
      "nbconvert_exporter": "python",
      "pygments_lexer": "ipython3",
      "version": "3.7.7"
    },
    "toc": {
      "base_numbering": 1,
      "nav_menu": {},
      "number_sections": true,
      "sideBar": true,
      "skip_h1_title": true,
      "title_cell": "Table of Contents",
      "title_sidebar": "Contents",
      "toc_cell": true,
      "toc_position": {},
      "toc_section_display": true,
      "toc_window_display": true
    },
    "colab": {
      "name": "pandas.ipynb",
      "provenance": [],
      "include_colab_link": true
    }
  },
  "cells": [
    {
      "cell_type": "markdown",
      "metadata": {
        "id": "view-in-github",
        "colab_type": "text"
      },
      "source": [
        "<a href=\"https://colab.research.google.com/github/vicente-gonzalez-ruiz/YAPT/blob/master/scientific_computation/pandas.ipynb\" target=\"_parent\"><img src=\"https://colab.research.google.com/assets/colab-badge.svg\" alt=\"Open In Colab\"/></a>"
      ]
    },
    {
      "cell_type": "markdown",
      "metadata": {
        "id": "pJiMXNZhCcwc",
        "colab_type": "text"
      },
      "source": [
        "# [Pandas](http://pandas.pydata.org/)\n",
        "High-performance data structures (usually, \"datasets\" in the context of machine learning) and data analysis tools for the Python programming language, similar to [R](https://en.wikipedia.org/wiki/R_(programming_language). Some tools are:\n",
        "1. [Statistical functions (covariance, correlation)](http://pandas.pydata.org/pandas-docs/stable/computation.html#statistical-functions).\n",
        "2. [Window functions](http://pandas.pydata.org/pandas-docs/stable/computation.html#window-functions).\n",
        "3. [Time series](http://pandas.pydata.org/pandas-docs/stable/timeseries.html).\n",
        "4. [Analysis of sparse data](http://pandas.pydata.org/pandas-docs/stable/sparse.html)."
      ]
    },
    {
      "cell_type": "markdown",
      "metadata": {
        "toc": true,
        "id": "mNCCOhILCcwe",
        "colab_type": "text"
      },
      "source": [
        "<h1>Table of Contents<span class=\"tocSkip\"></span></h1>\n",
        "<div class=\"toc\"><ul class=\"toc-item\"><li><span><a href=\"#Installation\" data-toc-modified-id=\"Installation-1\"><span class=\"toc-item-num\">1&nbsp;&nbsp;</span>Installation</a></span></li><li><span><a href=\"#Example\" data-toc-modified-id=\"Example-2\"><span class=\"toc-item-num\">2&nbsp;&nbsp;</span>Example</a></span></li></ul></div>"
      ]
    },
    {
      "cell_type": "markdown",
      "metadata": {
        "id": "8e8qqdCgCcwf",
        "colab_type": "text"
      },
      "source": [
        "## Installation"
      ]
    },
    {
      "cell_type": "markdown",
      "metadata": {
        "id": "1gurLuf9Ccwg",
        "colab_type": "text"
      },
      "source": [
        "```\n",
        "pip3 install pandas\n",
        "```"
      ]
    },
    {
      "cell_type": "markdown",
      "metadata": {
        "id": "_saErUivCcwh",
        "colab_type": "text"
      },
      "source": [
        "## Example"
      ]
    },
    {
      "cell_type": "markdown",
      "metadata": {
        "id": "7RQF1M8NCcwi",
        "colab_type": "text"
      },
      "source": [
        "Create a table with data:"
      ]
    },
    {
      "cell_type": "code",
      "metadata": {
        "id": "DGAP6NvRCcwj",
        "colab_type": "code",
        "colab": {}
      },
      "source": [
        "try:\n",
        "    import numpy as np\n",
        "except:\n",
        "    !pip3 install numpy\n",
        "    import numpy as np\n",
        "    \n",
        "try:\n",
        "    import pandas as pd\n",
        "except:\n",
        "    !pip3 install pandas\n",
        "    import pandas as pd"
      ],
      "execution_count": 0,
      "outputs": []
    },
    {
      "cell_type": "code",
      "metadata": {
        "id": "CpMA5OwbCcwp",
        "colab_type": "code",
        "colab": {},
        "outputId": "838d5404-6a66-4737-de94-3058f252f8a1"
      },
      "source": [
        "df = pd.DataFrame({'int_col' : [1, 2, 6, 8, -1],\n",
        "                    'float_col' : [0.1, 0.2, 0.2, 10.1, None],\n",
        "                    'str_col' : ['a', 'b', None, 'c', 'a']})\n",
        "print(df)\n",
        "df"
      ],
      "execution_count": 0,
      "outputs": [
        {
          "output_type": "stream",
          "text": [
            "   int_col  float_col str_col\n",
            "0        1        0.1       a\n",
            "1        2        0.2       b\n",
            "2        6        0.2    None\n",
            "3        8       10.1       c\n",
            "4       -1        NaN       a\n"
          ],
          "name": "stdout"
        },
        {
          "output_type": "execute_result",
          "data": {
            "text/html": [
              "<div>\n",
              "<style scoped>\n",
              "    .dataframe tbody tr th:only-of-type {\n",
              "        vertical-align: middle;\n",
              "    }\n",
              "\n",
              "    .dataframe tbody tr th {\n",
              "        vertical-align: top;\n",
              "    }\n",
              "\n",
              "    .dataframe thead th {\n",
              "        text-align: right;\n",
              "    }\n",
              "</style>\n",
              "<table border=\"1\" class=\"dataframe\">\n",
              "  <thead>\n",
              "    <tr style=\"text-align: right;\">\n",
              "      <th></th>\n",
              "      <th>int_col</th>\n",
              "      <th>float_col</th>\n",
              "      <th>str_col</th>\n",
              "    </tr>\n",
              "  </thead>\n",
              "  <tbody>\n",
              "    <tr>\n",
              "      <th>0</th>\n",
              "      <td>1</td>\n",
              "      <td>0.1</td>\n",
              "      <td>a</td>\n",
              "    </tr>\n",
              "    <tr>\n",
              "      <th>1</th>\n",
              "      <td>2</td>\n",
              "      <td>0.2</td>\n",
              "      <td>b</td>\n",
              "    </tr>\n",
              "    <tr>\n",
              "      <th>2</th>\n",
              "      <td>6</td>\n",
              "      <td>0.2</td>\n",
              "      <td>None</td>\n",
              "    </tr>\n",
              "    <tr>\n",
              "      <th>3</th>\n",
              "      <td>8</td>\n",
              "      <td>10.1</td>\n",
              "      <td>c</td>\n",
              "    </tr>\n",
              "    <tr>\n",
              "      <th>4</th>\n",
              "      <td>-1</td>\n",
              "      <td>NaN</td>\n",
              "      <td>a</td>\n",
              "    </tr>\n",
              "  </tbody>\n",
              "</table>\n",
              "</div>"
            ],
            "text/plain": [
              "   int_col  float_col str_col\n",
              "0        1        0.1       a\n",
              "1        2        0.2       b\n",
              "2        6        0.2    None\n",
              "3        8       10.1       c\n",
              "4       -1        NaN       a"
            ]
          },
          "metadata": {
            "tags": []
          },
          "execution_count": 6
        }
      ]
    },
    {
      "cell_type": "markdown",
      "metadata": {
        "id": "S23RhDrFCcwv",
        "colab_type": "text"
      },
      "source": [
        "Arithmetic average of a column:"
      ]
    },
    {
      "cell_type": "code",
      "metadata": {
        "id": "zixYhVF7Ccww",
        "colab_type": "code",
        "colab": {},
        "outputId": "e5e57a8b-9629-4bb5-cd14-f954bc0a1766"
      },
      "source": [
        "df2 = df.copy()\n",
        "mean = df2['float_col'].mean()\n",
        "mean"
      ],
      "execution_count": 0,
      "outputs": [
        {
          "output_type": "execute_result",
          "data": {
            "text/plain": [
              "2.65"
            ]
          },
          "metadata": {
            "tags": []
          },
          "execution_count": 7
        }
      ]
    },
    {
      "cell_type": "markdown",
      "metadata": {
        "id": "eEF_CQu3Ccw4",
        "colab_type": "text"
      },
      "source": [
        "Replace undefined elements:"
      ]
    },
    {
      "cell_type": "code",
      "metadata": {
        "id": "8xkN0ib1Ccw5",
        "colab_type": "code",
        "colab": {},
        "outputId": "b811aa76-e45d-4ad5-fbe2-462f91e14c1c"
      },
      "source": [
        "df3 = df['float_col'].fillna(mean)\n",
        "df3"
      ],
      "execution_count": 0,
      "outputs": [
        {
          "output_type": "execute_result",
          "data": {
            "text/plain": [
              "0     0.10\n",
              "1     0.20\n",
              "2     0.20\n",
              "3    10.10\n",
              "4     2.65\n",
              "Name: float_col, dtype: float64"
            ]
          },
          "metadata": {
            "tags": []
          },
          "execution_count": 8
        }
      ]
    },
    {
      "cell_type": "markdown",
      "metadata": {
        "id": "MOaDVS3zCcxA",
        "colab_type": "text"
      },
      "source": [
        "Create a table by means of columns:"
      ]
    },
    {
      "cell_type": "code",
      "metadata": {
        "id": "xc0825pmCcxB",
        "colab_type": "code",
        "colab": {},
        "outputId": "c357de67-228a-4044-9beb-18c7f9e6e106"
      },
      "source": [
        "df4 = pd.concat([df3, df['int_col'], df['str_col']], axis=1)\n",
        "df4"
      ],
      "execution_count": 0,
      "outputs": [
        {
          "output_type": "execute_result",
          "data": {
            "text/html": [
              "<div>\n",
              "<style scoped>\n",
              "    .dataframe tbody tr th:only-of-type {\n",
              "        vertical-align: middle;\n",
              "    }\n",
              "\n",
              "    .dataframe tbody tr th {\n",
              "        vertical-align: top;\n",
              "    }\n",
              "\n",
              "    .dataframe thead th {\n",
              "        text-align: right;\n",
              "    }\n",
              "</style>\n",
              "<table border=\"1\" class=\"dataframe\">\n",
              "  <thead>\n",
              "    <tr style=\"text-align: right;\">\n",
              "      <th></th>\n",
              "      <th>float_col</th>\n",
              "      <th>int_col</th>\n",
              "      <th>str_col</th>\n",
              "    </tr>\n",
              "  </thead>\n",
              "  <tbody>\n",
              "    <tr>\n",
              "      <th>0</th>\n",
              "      <td>0.10</td>\n",
              "      <td>1</td>\n",
              "      <td>a</td>\n",
              "    </tr>\n",
              "    <tr>\n",
              "      <th>1</th>\n",
              "      <td>0.20</td>\n",
              "      <td>2</td>\n",
              "      <td>b</td>\n",
              "    </tr>\n",
              "    <tr>\n",
              "      <th>2</th>\n",
              "      <td>0.20</td>\n",
              "      <td>6</td>\n",
              "      <td>None</td>\n",
              "    </tr>\n",
              "    <tr>\n",
              "      <th>3</th>\n",
              "      <td>10.10</td>\n",
              "      <td>8</td>\n",
              "      <td>c</td>\n",
              "    </tr>\n",
              "    <tr>\n",
              "      <th>4</th>\n",
              "      <td>2.65</td>\n",
              "      <td>-1</td>\n",
              "      <td>a</td>\n",
              "    </tr>\n",
              "  </tbody>\n",
              "</table>\n",
              "</div>"
            ],
            "text/plain": [
              "   float_col  int_col str_col\n",
              "0       0.10        1       a\n",
              "1       0.20        2       b\n",
              "2       0.20        6    None\n",
              "3      10.10        8       c\n",
              "4       2.65       -1       a"
            ]
          },
          "metadata": {
            "tags": []
          },
          "execution_count": 9
        }
      ]
    }
  ]
}