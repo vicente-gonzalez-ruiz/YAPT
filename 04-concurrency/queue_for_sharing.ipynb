{
 "cells": [
  {
   "cell_type": "markdown",
   "metadata": {},
   "source": [
    "## Passing arguments to threads"
   ]
  },
  {
   "cell_type": "code",
   "execution_count": null,
   "metadata": {},
   "outputs": [],
   "source": [
    "def task(num):\n",
    "    print(f\"I'm the task {num}\")\n",
    "\n",
    "for i in range(10):\n",
    "    t = threading.Thread(target=task, args=(i,))\n",
    "    t.start()"
   ]
  },
  {
   "cell_type": "markdown",
   "metadata": {},
   "source": [
    "## [Thread synchronization](https://pymotw.com/3/threading/index.html#signaling-between-threads)"
   ]
  },
  {
   "cell_type": "code",
   "execution_count": 3,
   "metadata": {},
   "outputs": [
    {
     "name": "stderr",
     "output_type": "stream",
     "text": [
      "(Thread-6  ) waitting for an event from other thread ...\n",
      "(Thread-7  ) waitting for an event from other tread, but with a timeout ...\n",
      "(MainThread) waiting before calling Event.set()\n",
      "(MainThread) event is set\n"
     ]
    },
    {
     "name": "stdout",
     "output_type": "stream",
     "text": [
      "I'm doing something\n",
      "I'm also doing something\n"
     ]
    },
    {
     "name": "stderr",
     "output_type": "stream",
     "text": [
      "(Thread-6  ) received event True\n",
      "(Thread-7  ) received event True\n"
     ]
    }
   ],
   "source": [
    "import logging\n",
    "import threading\n",
    "\n",
    "def wait_for_an_event(event):\n",
    "    print(\"I'm doing something\")\n",
    "    logging.debug(\"waitting for an event from other thread ...\")\n",
    "    e = event.wait()\n",
    "    logging.debug(f\"received event {e}\")\n",
    "\n",
    "def wait_for_an_event_with_timeout(event, timeout):\n",
    "    while not event.is_set():\n",
    "        print(\"I'm also doing something\")\n",
    "        logging.debug('waitting for an event from other tread, but with a timeout ...')\n",
    "        e = event.wait(timeout)\n",
    "        logging.debug(f\"received event {e}\")\n",
    "\n",
    "logging.basicConfig(\n",
    "    level=logging.DEBUG,\n",
    "    format='(%(threadName)-10s) %(message)s',\n",
    ")\n",
    "\n",
    "e = threading.Event()\n",
    "threading.Thread(target=wait_for_an_event, args=(e,),).start()\n",
    "threading.Thread(target=wait_for_an_event_with_timeout, args=(e, 2),).start()\n",
    "\n",
    "logging.debug('waiting before calling Event.set()')\n",
    "e.set()\n",
    "logging.debug('event is set')"
   ]
  },
  {
   "cell_type": "markdown",
   "metadata": {},
   "source": [
    "## 4. Synchronizing parallel tasks"
   ]
  },
  {
   "cell_type": "markdown",
   "metadata": {},
   "source": [
    "### 4.1. Using a queue"
   ]
  },
  {
   "cell_type": "markdown",
   "metadata": {},
   "source": [
    "With threads:"
   ]
  },
  {
   "cell_type": "markdown",
   "metadata": {},
   "source": [
    "With processes:"
   ]
  },
  {
   "cell_type": "code",
   "execution_count": null,
   "metadata": {},
   "outputs": [],
   "source": [
    "import multiprocessing\n",
    "import time\n",
    "import random\n",
    "\n",
    "class Producer():\n",
    "    def __init__(self, q, iters=10):\n",
    "        super(Producer,self).__init__()\n",
    "        self.iters = iters\n",
    "        self.q = q\n",
    "\n",
    "    def run(self):\n",
    "        i = 0\n",
    "        while i < self.iters:\n",
    "            if not self.q.full():\n",
    "                item = random.randint(1,10)\n",
    "                self.q.put(item)\n",
    "                print('Produced {} (queue length = {})'.format(item, self.q.qsize()))\n",
    "                i += 1\n",
    "                time.sleep(random.random())\n",
    "        return\n",
    "    \n",
    "    def start(self):\n",
    "        process = multiprocessing.Process(target=self.run)\n",
    "        process.start()\n",
    "        return process\n",
    "\n",
    "class Consumer():\n",
    "    def __init__(self, q, iters=10):\n",
    "        super(Consumer,self).__init__()\n",
    "        self.iters = iters\n",
    "        self.q = q\n",
    "\n",
    "    def run(self):\n",
    "        i = 0\n",
    "        while i < self.iters:\n",
    "            if not self.q.empty():\n",
    "                item = self.q.get()\n",
    "                print('Consumed {} (queue length = {})'.format(item, self.q.qsize()))\n",
    "                i += 1\n",
    "                time.sleep(random.random())\n",
    "        return\n",
    "\n",
    "    def start(self):\n",
    "        process = multiprocessing.Process(target=self.run)\n",
    "        process.start()\n",
    "        return process\n",
    "\n",
    "queue_length = 10\n",
    "q = multiprocessing.Queue(queue_length)\n",
    "\n",
    "p = Producer(q)\n",
    "task_p = p.start()\n",
    "c = Consumer(q)\n",
    "task_c = c.start()\n",
    "\n",
    "task_p.join()\n",
    "task_c.join()\n",
    "\n",
    "print('done')"
   ]
  }
 ],
 "metadata": {
  "kernelspec": {
   "display_name": "Python 3",
   "language": "python",
   "name": "python3"
  },
  "language_info": {
   "codemirror_mode": {
    "name": "ipython",
    "version": 3
   },
   "file_extension": ".py",
   "mimetype": "text/x-python",
   "name": "python",
   "nbconvert_exporter": "python",
   "pygments_lexer": "ipython3",
   "version": "3.8.3"
  },
  "toc": {
   "base_numbering": 1,
   "nav_menu": {},
   "number_sections": true,
   "sideBar": true,
   "skip_h1_title": false,
   "title_cell": "Table of Contents",
   "title_sidebar": "Contents",
   "toc_cell": true,
   "toc_position": {},
   "toc_section_display": true,
   "toc_window_display": true
  }
 },
 "nbformat": 4,
 "nbformat_minor": 1
}
