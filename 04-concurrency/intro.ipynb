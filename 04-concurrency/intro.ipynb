{
 "cells": [
  {
   "cell_type": "markdown",
   "metadata": {},
   "source": [
    "# [1] [Concurrency](https://en.wikipedia.org/wiki/Concurrency_(computer_science)) in Python\n",
    "Concurrency is the action of running several tasks at the time (concurrently). Notice that concurrency does not means [paralelism](https://en.wikipedia.org/wiki/Parallel_computing) (only one task can be running while the rest wait).\n",
    "\n",
    "Python provides 3 alternatives for running more than one task concurrently:\n",
    "\n",
    "## [Threads](https://docs.python.org/3/library/threading.html)\n",
    "\n",
    "A [thread](https://en.wikipedia.org/wiki/Thread_(computing)) is a sequence of instructions that periodically are executed, typically, in concurrency (and somethimes, depending on the computing context, in parallel) with other threads [of the same process space](https://pymotw.com/3/threading/index.html#module-threading). However, you must know that [CPU-bound tasks are not a good fit for Python threads, due to the Global Interpreter Lock (GIL). Parallel computations in Python should be done in multiple processes, not threads.](http://eli.thegreenplace.net/2011/12/27/python-threads-communication-and-stopping) As a consequence of this problem, at this moment, it is impossible to use more than one [CPU](https://en.wikipedia.org/wiki/Central_processing_unit) using Python Threads in [CPython](https://en.wikipedia.org/wiki/CPython), exclusively.\n",
    "\n",
    "## Processes.\n",
    "## Corutines."
   ]
  },
  {
   "cell_type": "code",
   "execution_count": null,
   "metadata": {},
   "outputs": [],
   "source": []
  }
 ],
 "metadata": {
  "kernelspec": {
   "display_name": "Python 3",
   "language": "python",
   "name": "python3"
  },
  "language_info": {
   "codemirror_mode": {
    "name": "ipython",
    "version": 3
   },
   "file_extension": ".py",
   "mimetype": "text/x-python",
   "name": "python",
   "nbconvert_exporter": "python",
   "pygments_lexer": "ipython3",
   "version": "3.8.3"
  }
 },
 "nbformat": 4,
 "nbformat_minor": 2
}
