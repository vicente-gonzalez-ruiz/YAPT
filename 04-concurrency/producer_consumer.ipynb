{
 "cells": [
  {
   "cell_type": "markdown",
   "metadata": {},
   "source": [
    "# Solving the producer-consumer problem"
   ]
  },
  {
   "cell_type": "markdown",
   "metadata": {},
   "source": [
    "## Using threads"
   ]
  },
  {
   "cell_type": "code",
   "execution_count": 1,
   "metadata": {},
   "outputs": [
    {
     "name": "stdout",
     "output_type": "stream",
     "text": [
      "Produced 4 (queue length = 1)\n",
      "Consumed 4 (queue length = 0)\n",
      "Produced 9 (queue length = 1)\n",
      "Produced 4 (queue length = 2)\n",
      "Consumed 9 (queue length = 1)\n",
      "Consumed 4 (queue length = 0)\n",
      "Produced 4 (queue length = 1)\n",
      "Consumed 4 (queue length = 0)\n",
      "Produced 9 (queue length = 1)\n",
      "Consumed 9 (queue length = 0)\n",
      "Produced 10 (queue length = 1)Consumed 10 (queue length = 0)\n",
      "\n",
      "Produced 10 (queue length = 1)\n",
      "Consumed 10 (queue length = 0)\n",
      "Produced 7 (queue length = 1)Consumed 7 (queue length = 0)\n",
      "\n",
      "Produced 7 (queue length = 1)\n",
      "Produced 10 (queue length = 2)\n",
      "Consumed 7 (queue length = 1)\n",
      "Consumed 10 (queue length = 0)\n",
      "done\n"
     ]
    }
   ],
   "source": [
    "import threading\n",
    "import time\n",
    "import random\n",
    "import queue\n",
    "\n",
    "queue_length = 10\n",
    "q = queue.Queue(queue_length)\n",
    "\n",
    "class Producer(threading.Thread):\n",
    "    def __init__(self, iters=10):\n",
    "        super(Producer,self).__init__()\n",
    "        self.iters = iters\n",
    "\n",
    "    def run(self):\n",
    "        i = 0\n",
    "        while i < self.iters:\n",
    "            if not q.full():\n",
    "                item = random.randint(1,10)\n",
    "                q.put(item)\n",
    "                print('Produced {} (queue length = {})'.format(item,q.qsize()))\n",
    "                i += 1\n",
    "                time.sleep(random.random())\n",
    "        return\n",
    "\n",
    "class Consumer(threading.Thread):\n",
    "    def __init__(self, iters=10):\n",
    "        super(Consumer,self).__init__()\n",
    "        self.iters = iters\n",
    "\n",
    "    def run(self):\n",
    "        i = 0\n",
    "        while i < self.iters:\n",
    "            if not q.empty():\n",
    "                item = q.get()\n",
    "                print('Consumed {} (queue length = {})'.format(item,q.qsize()))\n",
    "                i += 1\n",
    "                time.sleep(random.random())\n",
    "        return\n",
    "\n",
    "p = Producer()\n",
    "p.start()\n",
    "c = Consumer()\n",
    "c.start()\n",
    "\n",
    "p.join()\n",
    "c.join()\n",
    "\n",
    "print('done')"
   ]
  },
  {
   "cell_type": "markdown",
   "metadata": {},
   "source": [
    "## Using processes"
   ]
  },
  {
   "cell_type": "code",
   "execution_count": 2,
   "metadata": {},
   "outputs": [
    {
     "name": "stdout",
     "output_type": "stream",
     "text": [
      "Produced 3 (queue length = 1)\n",
      "Consumed 3 (queue length = 0)\n",
      "Produced 9 (queue length = 1)\n",
      "Consumed 9 (queue length = 0)\n",
      "Produced 10 (queue length = 1)\n",
      "Consumed 10 (queue length = 0)\n",
      "Produced 4 (queue length = 1)\n",
      "Consumed 4 (queue length = 0)\n",
      "Produced 7 (queue length = 1)\n",
      "Produced 10 (queue length = 2)\n",
      "Produced 4 (queue length = 3)\n",
      "Consumed 7 (queue length = 2)\n",
      "Consumed 10 (queue length = 1)\n",
      "Produced 5 (queue length = 2)\n",
      "Consumed 4 (queue length = 1)\n",
      "Consumed 5 (queue length = 0)\n",
      "Produced 6 (queue length = 1)\n",
      "Produced 8 (queue length = 2)\n",
      "Consumed 6 (queue length = 1)\n",
      "Consumed 8 (queue length = 0)\n",
      "done\n"
     ]
    }
   ],
   "source": [
    "import multiprocessing\n",
    "import time\n",
    "import random\n",
    "\n",
    "class Producer():\n",
    "    def __init__(self, q, iters=10):\n",
    "        super(Producer,self).__init__()\n",
    "        self.iters = iters\n",
    "        self.q = q\n",
    "\n",
    "    def run(self):\n",
    "        i = 0\n",
    "        while i < self.iters:\n",
    "            if not self.q.full():\n",
    "                item = random.randint(1,10)\n",
    "                self.q.put(item)\n",
    "                print('Produced {} (queue length = {})'.format(item, self.q.qsize()))\n",
    "                i += 1\n",
    "                time.sleep(random.random())\n",
    "        return\n",
    "    \n",
    "    def start(self):\n",
    "        process = multiprocessing.Process(target=self.run)\n",
    "        process.start()\n",
    "        return process\n",
    "\n",
    "class Consumer():\n",
    "    def __init__(self, q, iters=10):\n",
    "        super(Consumer,self).__init__()\n",
    "        self.iters = iters\n",
    "        self.q = q\n",
    "\n",
    "    def run(self):\n",
    "        i = 0\n",
    "        while i < self.iters:\n",
    "            if not self.q.empty():\n",
    "                item = self.q.get()\n",
    "                print('Consumed {} (queue length = {})'.format(item, self.q.qsize()))\n",
    "                i += 1\n",
    "                time.sleep(random.random())\n",
    "        return\n",
    "\n",
    "    def start(self):\n",
    "        process = multiprocessing.Process(target=self.run)\n",
    "        process.start()\n",
    "        return process\n",
    "\n",
    "queue_length = 10\n",
    "q = multiprocessing.Queue(queue_length)\n",
    "\n",
    "p = Producer(q)\n",
    "task_p = p.start()\n",
    "c = Consumer(q)\n",
    "task_c = c.start()\n",
    "\n",
    "task_p.join()\n",
    "task_c.join()\n",
    "\n",
    "print('done')"
   ]
  },
  {
   "cell_type": "code",
   "execution_count": null,
   "metadata": {},
   "outputs": [],
   "source": []
  }
 ],
 "metadata": {
  "kernelspec": {
   "display_name": "Python 3",
   "language": "python",
   "name": "python3"
  },
  "language_info": {
   "codemirror_mode": {
    "name": "ipython",
    "version": 3
   },
   "file_extension": ".py",
   "mimetype": "text/x-python",
   "name": "python",
   "nbconvert_exporter": "python",
   "pygments_lexer": "ipython3",
   "version": "3.8.3"
  },
  "toc": {
   "base_numbering": 1,
   "nav_menu": {},
   "number_sections": true,
   "sideBar": true,
   "skip_h1_title": false,
   "title_cell": "Table of Contents",
   "title_sidebar": "Contents",
   "toc_cell": true,
   "toc_position": {},
   "toc_section_display": true,
   "toc_window_display": true
  }
 },
 "nbformat": 4,
 "nbformat_minor": 1
}
