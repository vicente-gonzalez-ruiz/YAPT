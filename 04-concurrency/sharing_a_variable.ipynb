{
 "cells": [
  {
   "cell_type": "markdown",
   "metadata": {},
   "source": [
    "# Two tasks sharing a variable\n",
    "Without using critical sections. This is OK (+/-) because one of tasks sleeps while the other modify the variable."
   ]
  },
  {
   "cell_type": "markdown",
   "metadata": {},
   "source": [
    "## 1. Threads"
   ]
  },
  {
   "cell_type": "code",
   "execution_count": 1,
   "metadata": {},
   "outputs": [
    {
     "name": "stdout",
     "output_type": "stream",
     "text": [
      "oO(Both threads have started)O\n",
      "\n",
      "Oo\n",
      "OOoO\n",
      "oOoOo\n",
      "OOoOoO\n",
      "OOoOoOO\n",
      "oOoOoOOo\n",
      "OOoOoOOoO\n",
      "oOoOoOOoOo\n",
      "OOoOoOOoOoO\n",
      "OOoOoOOoOoOO\n",
      "oOoOoOOoOoOOo\n",
      "OOoOoOOoOoOOoO\n",
      "OOoOoOOoOoOOoOO\n",
      "oOoOoOOoOoOOoOOo\n",
      "OOoOoOOoOoOOoOOoO\n",
      "oOoOoOOoOoOOoOOoOo\n",
      "OOoOoOOoOoOOoOOoOoO\n",
      "OOoOoOOoOoOOoOOoOoOO\n",
      "oOoOoOOoOoOOoOOoOoOOo\n",
      "OOoOoOOoOoOOoOOoOoOOoO\n",
      "OOoOoOOoOoOOoOOoOoOOoOO\n",
      "oOoOoOOoOoOOoOOoOoOOoOOo\n",
      "OOoOoOOoOoOOoOOoOoOOoOOoO\n",
      "oOoOoOOoOoOOoOOoOoOOoOOoOo\n",
      "OOoOoOOoOoOOoOOoOoOOoOOoOoO\n",
      "OOoOoOOoOoOOoOOoOoOOoOOoOoOO\n",
      "OOoOoOOoOoOOoOOoOoOOoOOoOoOOO\n",
      "OOoOoOOoOoOOoOOoOoOOoOOoOoOOOO\n",
      "OOoOoOOoOoOOoOOoOoOOoOOoOoOOOOO\n",
      "\n",
      "Both threads have finished\n",
      "OoOoOOoOoOOoOOoOoOOoOOoOoOOOOO\n"
     ]
    }
   ],
   "source": [
    "import threading\n",
    "import time\n",
    "\n",
    "a = ''\n",
    "\n",
    "def task_1():\n",
    "    global a\n",
    "    for i in range(10):\n",
    "        print('o', end='', flush=True)\n",
    "        a += 'o'\n",
    "        print(a)\n",
    "        time.sleep(1) # Blocking -> yield to other thread\n",
    "        \n",
    "def task_2():\n",
    "    global a\n",
    "    for i in range(20):\n",
    "        print('O', end='', flush=True)\n",
    "        a += 'O'\n",
    "        print(a)\n",
    "        time.sleep(0.6) # Blocking -> yield to other thread\n",
    "        \n",
    "thread_1 = threading.Thread(target=task_1)\n",
    "thread_2 = threading.Thread(target=task_2)\n",
    "\n",
    "thread_1.start()\n",
    "thread_2.start()\n",
    "print(\"(Both threads have started)\")\n",
    "\n",
    "thread_1.join() # Wait for thread_1 to finish\n",
    "thread_2.join()\n",
    "print(\"\\nBoth threads have finished\")\n",
    "\n",
    "print(a)"
   ]
  },
  {
   "cell_type": "markdown",
   "metadata": {},
   "source": [
    " Notice that both threads share the same process memory space."
   ]
  },
  {
   "cell_type": "markdown",
   "metadata": {},
   "source": [
    "## 2. Processes"
   ]
  },
  {
   "cell_type": "code",
   "execution_count": 2,
   "metadata": {},
   "outputs": [
    {
     "name": "stdout",
     "output_type": "stream",
     "text": [
      "oo\n",
      "OO\n",
      "(Both processes have started)\n",
      "OOO\n",
      "ooo\n",
      "OOOO\n",
      "OOOOO\n",
      "oooo\n",
      "OOOOOO\n",
      "ooooo\n",
      "OOOOOOO\n",
      "OOOOOOOO\n",
      "oooooo\n",
      "OOOOOOOOO\n",
      "OOOOOOOOOO\n",
      "ooooooo\n",
      "OOOOOOOOOOO\n",
      "oooooooo\n",
      "OOOOOOOOOOOO\n",
      "OOOOOOOOOOOOO\n",
      "ooooooooo\n",
      "OOOOOOOOOOOOOO\n",
      "OOOOOOOOOOOOOOO\n",
      "oooooooooo\n",
      "OOOOOOOOOOOOOOOO\n",
      "ooooooooooo\n",
      "OOOOOOOOOOOOOOOOO\n",
      "OOOOOOOOOOOOOOOOOO\n",
      "OOOOOOOOOOOOOOOOOOO\n",
      "OOOOOOOOOOOOOOOOOOOO\n",
      "OOOOOOOOOOOOOOOOOOOOO\n",
      "\n",
      "Both processes have finished\n",
      "\n"
     ]
    }
   ],
   "source": [
    "# This code does not work!\n",
    "\n",
    "import multiprocessing\n",
    "import time\n",
    "\n",
    "a = '' # Does not work because each process has its own 'a'\n",
    "\n",
    "def task_1():\n",
    "    global a\n",
    "    for i in range(10):\n",
    "        print('o', end='', flush=True)\n",
    "        a += 'o'\n",
    "        print(a)\n",
    "        time.sleep(1) # Blocking -> yield to other process\n",
    "        \n",
    "def task_2():\n",
    "    global a\n",
    "    for i in range(20):\n",
    "        print('O', end='', flush=True)\n",
    "        a += 'O'\n",
    "        print(a)\n",
    "        time.sleep(0.6) # Blocking -> yield to other process\n",
    "        \n",
    "process_1 = multiprocessing.Process(target=task_1)\n",
    "process_2 = multiprocessing.Process(target=task_2)\n",
    "\n",
    "process_1.start()\n",
    "process_2.start()\n",
    "print(\"(Both processes have started)\")\n",
    "\n",
    "process_1.join()\n",
    "process_2.join()\n",
    "print(\"\\nBoth processes have finished\")\n",
    "\n",
    "print(a)"
   ]
  },
  {
   "cell_type": "markdown",
   "metadata": {},
   "source": [
    "### But ... why `a` has not been modified? Why the processed do not share `a`?"
   ]
  },
  {
   "cell_type": "markdown",
   "metadata": {},
   "source": [
    "By definition, processes must [fork](https://en.wikipedia.org/wiki/Fork_(system_call)) (make a copy of itself, that is, the code and the used memory) before start running. In the previous example, the Python interpreter forks twice and the two childs are run in parallel while the parent process waits for their completition. Neither, the child processes nor the parent process share their global state (where `a` is defined)."
   ]
  },
  {
   "cell_type": "markdown",
   "metadata": {},
   "source": [
    "### How to share data between processes?"
   ]
  },
  {
   "cell_type": "markdown",
   "metadata": {},
   "source": [
    "There are several options. One of them is to use a [shared memory](https://docs.python.org/3/library/multiprocessing.shared_memory.html). Notice that the shared memory must have a fixed length. `multiprocessing` defines the classes `Value` and `Array`, that helps in this."
   ]
  },
  {
   "cell_type": "code",
   "execution_count": 30,
   "metadata": {},
   "outputs": [
    {
     "name": "stdout",
     "output_type": "stream",
     "text": [
      "oO(Both processes have started)\n",
      "1\n",
      "Oo2\n",
      "OO2\n",
      "oO2\n",
      "oOO2\n",
      "oO2\n",
      "OoO1\n",
      "oO2\n",
      "OoO1\n",
      "Oo1\n",
      "OoOOOOO\n",
      "Both processes have finished\n",
      "2\n"
     ]
    }
   ],
   "source": [
    "import multiprocessing\n",
    "import time\n",
    "import ctypes\n",
    "\n",
    "def task_1(a):\n",
    "    for i in range(10):\n",
    "        print('o', end='', flush=True)\n",
    "        a.value = 1\n",
    "        time.sleep(1) # Blocking -> yield to other process\n",
    "        \n",
    "def task_2(a):\n",
    "    for i in range(20):\n",
    "        print('O', end='', flush=True)\n",
    "        a.value = 2\n",
    "        time.sleep(0.6) # Blocking -> yield to other process\n",
    "\n",
    "a = multiprocessing.Value('i', 0)\n",
    "\n",
    "process_1 = multiprocessing.Process(target=task_1, args=(a,))\n",
    "process_2 = multiprocessing.Process(target=task_2, args=(a,))\n",
    "\n",
    "process_1.start()\n",
    "process_2.start()\n",
    "print(\"(Both processes have started)\")\n",
    "for i in range(10):\n",
    "    print(a.value)\n",
    "    time.sleep(0.9)\n",
    "\n",
    "process_1.join()\n",
    "process_2.join()\n",
    "print(\"\\nBoth processes have finished\")\n",
    "\n",
    "print(a.value)"
   ]
  },
  {
   "cell_type": "markdown",
   "metadata": {},
   "source": [
    "A more flexible option (but slower) is through a memory [`Manager()`](https://docs.python.org/3/library/multiprocessing.html#sharing-state-between-processes):"
   ]
  },
  {
   "cell_type": "code",
   "execution_count": 7,
   "metadata": {},
   "outputs": [
    {
     "name": "stdout",
     "output_type": "stream",
     "text": [
      "oO(Both processes have started)\n",
      "OoOOoOoOOoOOoOoOOoOOoOoOOOOO\n",
      "Both processes have finished\n",
      "oOOoOOoOoOOoOOoOoOOoOOoOoOOOOO\n"
     ]
    }
   ],
   "source": [
    "import multiprocessing\n",
    "import time\n",
    "import ctypes\n",
    "\n",
    "def task_1(a):\n",
    "    for i in range(10):\n",
    "        print('o', end='', flush=True)\n",
    "        a.value += 'o'\n",
    "        time.sleep(1) # Blocking -> yield to other process\n",
    "        \n",
    "def task_2(a):\n",
    "    for i in range(20):\n",
    "        print('O', end='', flush=True)\n",
    "        a.value += 'O'\n",
    "        time.sleep(0.6) # Blocking -> yield to other process\n",
    "\n",
    "manager = multiprocessing.Manager()\n",
    "# See https://docs.python.org/3/library/ctypes.html#module-ctypes\n",
    "a = manager.Value(ctypes.c_char_p, \"\")    \n",
    "\n",
    "process_1 = multiprocessing.Process(target=task_1, args=(a,))\n",
    "process_2 = multiprocessing.Process(target=task_2, args=(a,))\n",
    "\n",
    "process_1.start()\n",
    "process_2.start()\n",
    "print(\"(Both processes have started)\")\n",
    "\n",
    "process_1.join()\n",
    "process_2.join()\n",
    "print(\"\\nBoth processes have finished\")\n",
    "\n",
    "print(a.value)"
   ]
  },
  {
   "cell_type": "markdown",
   "metadata": {},
   "source": [
    "## Coruotines"
   ]
  },
  {
   "cell_type": "markdown",
   "metadata": {},
   "source": [
    "### 1. \"Low-level\" coroutines\n",
    "Notice that each iteration of the coroutines must be \"fired\" explicitally."
   ]
  },
  {
   "cell_type": "code",
   "execution_count": 21,
   "metadata": {},
   "outputs": [
    {
     "name": "stdout",
     "output_type": "stream",
     "text": [
      "oOoOoOoOoOoOoOoOoOoOoOoOoOoOoOoOoOoOoOoO\n",
      "elapsed 14.33 seconds.\n",
      "15.0\n",
      "a = oOoOoOoOoOoOoOoOoOoOoOoOoOoOoOoOoOoOoOoO\n"
     ]
    }
   ],
   "source": [
    "import time\n",
    "\n",
    "a = ''\n",
    "\n",
    "def task_1():\n",
    "    global a\n",
    "    for i in range(20):\n",
    "        print('o', end='', flush=True)\n",
    "        a += 'o'\n",
    "        yield\n",
    "        time.sleep(0.5)\n",
    "        \n",
    "def task_2():\n",
    "    global a\n",
    "    for i in range(20):\n",
    "        print('O', end='', flush=True)\n",
    "        a += 'O'\n",
    "        yield\n",
    "        time.sleep(0.25)\n",
    "\n",
    "t1 = task_1()\n",
    "t2 = task_2()\n",
    "\n",
    "now = time.perf_counter()  # Real time (not only user time)\n",
    "for i in range(20):\n",
    "    t1.__next__()  # Call task_1()\n",
    "    t2.__next__()  # Call task_2()\n",
    "elapsed = time.perf_counter() - now\n",
    "print(f\"\\nelapsed {elapsed:0.2f} seconds.\")\n",
    "print(20*0.5 + 20*0.25)\n",
    "print(\"a =\", a)"
   ]
  },
  {
   "cell_type": "markdown",
   "metadata": {},
   "source": [
    "### 2. Using ['asyncio'](https://docs.python.org/3/library/asyncio-task.html#coroutines)\n",
    "In this case, the coroutines yields their control to the \"event loop\" (also called, the \"coordinator\") with a `await` command, which search for the next ready coroutine to be run in a round-robin list. Notice that for this reason, the [wall time](https://en.wikipedia.org/wiki/Elapsed_real_time) of this version is smaller than in the previous case."
   ]
  },
  {
   "cell_type": "code",
   "execution_count": 3,
   "metadata": {},
   "outputs": [
    {
     "name": "stdout",
     "output_type": "stream",
     "text": [
      "oOOoOOoOOoOOoOOoOOoOOoOOoOOoOOoooooooooo\n",
      "elapsed 10.06 seconds.\n",
      "a = oOOoOOoOOoOOoOOoOOoOOoOOoOOoOOoooooooooo\n"
     ]
    }
   ],
   "source": [
    "import asyncio\n",
    "import time\n",
    "\n",
    "a = ''\n",
    "\n",
    "async def task_1():\n",
    "    global a\n",
    "    for i in range(20):\n",
    "        print('o', end='', flush=True)\n",
    "        a += 'o'\n",
    "        await asyncio.sleep(0.5)\n",
    "        \n",
    "async def task_2():\n",
    "    global a\n",
    "    for i in range(20):\n",
    "        print('O', end='', flush=True)\n",
    "        a += 'O'\n",
    "        await asyncio.sleep(0.25)\n",
    "\n",
    "now = time.perf_counter()\n",
    "await asyncio.gather(task_1(), task_2())\n",
    "elapsed = time.perf_counter() - now\n",
    "print(f\"\\nelapsed {elapsed:0.2f} seconds.\")\n",
    "print(\"a =\", a)"
   ]
  }
 ],
 "metadata": {
  "kernelspec": {
   "display_name": "Python 3",
   "language": "python",
   "name": "python3"
  },
  "language_info": {
   "codemirror_mode": {
    "name": "ipython",
    "version": 3
   },
   "file_extension": ".py",
   "mimetype": "text/x-python",
   "name": "python",
   "nbconvert_exporter": "python",
   "pygments_lexer": "ipython3",
   "version": "3.9.2"
  }
 },
 "nbformat": 4,
 "nbformat_minor": 2
}
