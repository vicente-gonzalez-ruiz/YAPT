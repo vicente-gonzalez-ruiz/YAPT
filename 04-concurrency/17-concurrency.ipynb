{
 "cells": [
  {
   "cell_type": "markdown",
   "metadata": {},
   "source": [
    "# Using critical sections\n",
    "A [critical section](https://en.wikipedia.org/wiki/Linearizability) is a region of code that should not run in parallel. For example, the increment of a variable is not considered an [atomic operation](https://en.wikipedia.org/wiki/Linearizability), so, it should be performed using [mutual exclusion](https://en.wikipedia.org/wiki/Mutual_exclusion)."
   ]
  },
  {
   "cell_type": "markdown",
   "metadata": {},
   "source": [
    "## What happens when mutial exclusion is not used in critical sections?\n",
    "### Using threads"
   ]
  },
  {
   "cell_type": "code",
   "execution_count": 1,
   "metadata": {},
   "outputs": [
    {
     "name": "stdout",
     "output_type": "stream",
     "text": [
      "(Both threads started)\n",
      "\n",
      "Both threads finished\n",
      "counter = -99559\n"
     ]
    }
   ],
   "source": [
    "# Two threads that have a critical section executed in parallel without mutual exclusion.\n",
    "# This code does not work!\n",
    "\n",
    "import threading\n",
    "import time\n",
    "\n",
    "counter = 10\n",
    "\n",
    "def task_1():\n",
    "    global counter\n",
    "    for i in range(1000000):\n",
    "        counter += 1\n",
    "        \n",
    "def task_2():\n",
    "    global counter\n",
    "    for i in range(1000001):\n",
    "        counter -= 1\n",
    "        \n",
    "thread_1 = threading.Thread(target=task_1)\n",
    "thread_2 = threading.Thread(target=task_2)\n",
    "\n",
    "thread_1.start()\n",
    "thread_2.start()\n",
    "print(\"(Both threads started)\")\n",
    "\n",
    "thread_1.join()\n",
    "thread_2.join()\n",
    "print(\"\\nBoth threads finished\")\n",
    "\n",
    "print('counter =', counter)"
   ]
  },
  {
   "cell_type": "markdown",
   "metadata": {},
   "source": [
    "The same example, using mutual exclusion (using a [lock](https://docs.python.org/3/library/threading.html#lock-objects)):"
   ]
  },
  {
   "cell_type": "code",
   "execution_count": 2,
   "metadata": {},
   "outputs": [
    {
     "name": "stdout",
     "output_type": "stream",
     "text": [
      "(Both threads started)\n",
      "\n",
      "Both threads finished\n",
      "counter = 9\n"
     ]
    }
   ],
   "source": [
    "# Two threads that have a critical section executed sequentially.\n",
    "\n",
    "import threading\n",
    "import time\n",
    "\n",
    "lock = threading.Lock()\n",
    "counter = 10\n",
    "\n",
    "def task_1():\n",
    "    global counter\n",
    "    for i in range(1000000):\n",
    "        with lock:\n",
    "            counter += 1\n",
    "        \n",
    "def task_2():\n",
    "    global counter\n",
    "    for i in range(1000001):\n",
    "        with lock:\n",
    "            counter -= 1\n",
    "        \n",
    "thread_1 = threading.Thread(target=task_1)\n",
    "thread_2 = threading.Thread(target=task_2)\n",
    "\n",
    "thread_1.start()\n",
    "thread_2.start()\n",
    "print(\"(Both threads started)\")\n",
    "\n",
    "thread_1.join()\n",
    "thread_2.join()\n",
    "print(\"\\nBoth threads finished\")\n",
    "\n",
    "print('counter =', counter)"
   ]
  },
  {
   "cell_type": "markdown",
   "metadata": {},
   "source": [
    "### Using processes"
   ]
  },
  {
   "cell_type": "code",
   "execution_count": 3,
   "metadata": {},
   "outputs": [
    {
     "name": "stdout",
     "output_type": "stream",
     "text": [
      "(Both tasks started)\n",
      "\n",
      "Both tasks finished\n",
      "counter = 9\n"
     ]
    }
   ],
   "source": [
    "# Two processes that have a critical section executed sequentially\n",
    "\n",
    "import multiprocessing\n",
    "import time\n",
    "import ctypes\n",
    "\n",
    "def task_1(lock, counter):\n",
    "    for i in range(10000):\n",
    "        lock.acquire()\n",
    "        try:\n",
    "            counter.value += 1\n",
    "        finally:\n",
    "            lock.release()\n",
    "        \n",
    "def task_2(lock, counter):\n",
    "    for i in range(10001):\n",
    "        lock.acquire()\n",
    "        try:\n",
    "            counter.value -= 1\n",
    "        finally:\n",
    "            lock.release()\n",
    "\n",
    "lock = multiprocessing.Lock()\n",
    "\n",
    "manager = multiprocessing.Manager()\n",
    "counter = manager.Value(ctypes.c_int, 10)\n",
    "\n",
    "process_1 = multiprocessing.Process(target=task_1, args=(lock, counter))\n",
    "process_2 = multiprocessing.Process(target=task_2, args=(lock, counter))\n",
    "\n",
    "process_1.start()\n",
    "process_2.start()\n",
    "print(\"(Both tasks started)\")\n",
    "\n",
    "process_1.join()\n",
    "process_2.join()\n",
    "print(\"\\nBoth tasks finished\")\n",
    "\n",
    "print('counter =', counter.value)"
   ]
  },
  {
   "cell_type": "markdown",
   "metadata": {},
   "source": [
    "### Using coroutines\n",
    "Notice that the lock is not needed at all."
   ]
  },
  {
   "cell_type": "code",
   "execution_count": null,
   "metadata": {},
   "outputs": [],
   "source": [
    "import time\n",
    "\n",
    "def task_1(counter):\n",
    "    for i in range(1000000):\n",
    "        yield\n",
    "        counter.value += 1\n",
    "        \n",
    "def task_2(lock, counter):\n",
    "    for i in range(1000001):\n",
    "        yield\n",
    "        counter.value -= 1\n",
    "\n",
    "t1 = task_1()\n",
    "t2 = task_2()\n",
    "\n",
    "now = time.perf_counter()  # Real time (not only user time)\n",
    "t1.__next__()  # Call task_1()\n",
    "    t2.__next__()  # Call task_2()\n",
    "elapsed = time.perf_counter() - now\n",
    "print(f\"\\nelapsed {elapsed:0.2f} seconds.\")\n",
    "print(20*0.5 + 20*0.25)\n",
    "print(\"a =\", a)"
   ]
  },
  {
   "cell_type": "markdown",
   "metadata": {},
   "source": [
    "## 4. Synchronizing parallel tasks"
   ]
  },
  {
   "cell_type": "markdown",
   "metadata": {},
   "source": [
    "### 4.1. Using a queue"
   ]
  },
  {
   "cell_type": "markdown",
   "metadata": {},
   "source": [
    "With threads:"
   ]
  },
  {
   "cell_type": "code",
   "execution_count": null,
   "metadata": {},
   "outputs": [],
   "source": [
    "import threading\n",
    "import time\n",
    "import random\n",
    "import queue\n",
    "\n",
    "queue_length = 10\n",
    "q = queue.Queue(queue_length)\n",
    "\n",
    "class Producer(threading.Thread):\n",
    "    def __init__(self, iters=10):\n",
    "        super(Producer,self).__init__()\n",
    "        self.iters = iters\n",
    "\n",
    "    def run(self):\n",
    "        i = 0\n",
    "        while i < self.iters:\n",
    "            if not q.full():\n",
    "                item = random.randint(1,10)\n",
    "                q.put(item)\n",
    "                print('Produced {} (queue length = {})'.format(item,q.qsize()))\n",
    "                i += 1\n",
    "                time.sleep(random.random())\n",
    "        return\n",
    "\n",
    "class Consumer(threading.Thread):\n",
    "    def __init__(self, iters=10):\n",
    "        super(Consumer,self).__init__()\n",
    "        self.iters = iters\n",
    "\n",
    "    def run(self):\n",
    "        i = 0\n",
    "        while i < self.iters:\n",
    "            if not q.empty():\n",
    "                item = q.get()\n",
    "                print('Consumed {} (queue length = {})'.format(item,q.qsize()))\n",
    "                i += 1\n",
    "                time.sleep(random.random())\n",
    "        return\n",
    "\n",
    "p = Producer()\n",
    "p.start()\n",
    "c = Consumer()\n",
    "c.start()\n",
    "\n",
    "p.join()\n",
    "c.join()\n",
    "\n",
    "print('done')"
   ]
  },
  {
   "cell_type": "markdown",
   "metadata": {},
   "source": [
    "With processes:"
   ]
  },
  {
   "cell_type": "code",
   "execution_count": null,
   "metadata": {},
   "outputs": [],
   "source": [
    "import multiprocessing\n",
    "import time\n",
    "import random\n",
    "\n",
    "class Producer():\n",
    "    def __init__(self, q, iters=10):\n",
    "        super(Producer,self).__init__()\n",
    "        self.iters = iters\n",
    "        self.q = q\n",
    "\n",
    "    def run(self):\n",
    "        i = 0\n",
    "        while i < self.iters:\n",
    "            if not self.q.full():\n",
    "                item = random.randint(1,10)\n",
    "                self.q.put(item)\n",
    "                print('Produced {} (queue length = {})'.format(item, self.q.qsize()))\n",
    "                i += 1\n",
    "                time.sleep(random.random())\n",
    "        return\n",
    "    \n",
    "    def start(self):\n",
    "        process = multiprocessing.Process(target=self.run)\n",
    "        process.start()\n",
    "        return process\n",
    "\n",
    "class Consumer():\n",
    "    def __init__(self, q, iters=10):\n",
    "        super(Consumer,self).__init__()\n",
    "        self.iters = iters\n",
    "        self.q = q\n",
    "\n",
    "    def run(self):\n",
    "        i = 0\n",
    "        while i < self.iters:\n",
    "            if not self.q.empty():\n",
    "                item = self.q.get()\n",
    "                print('Consumed {} (queue length = {})'.format(item, self.q.qsize()))\n",
    "                i += 1\n",
    "                time.sleep(random.random())\n",
    "        return\n",
    "\n",
    "    def start(self):\n",
    "        process = multiprocessing.Process(target=self.run)\n",
    "        process.start()\n",
    "        return process\n",
    "\n",
    "queue_length = 10\n",
    "q = multiprocessing.Queue(queue_length)\n",
    "\n",
    "p = Producer(q)\n",
    "task_p = p.start()\n",
    "c = Consumer(q)\n",
    "task_c = c.start()\n",
    "\n",
    "task_p.join()\n",
    "task_c.join()\n",
    "\n",
    "print('done')"
   ]
  }
 ],
 "metadata": {
  "kernelspec": {
   "display_name": "Python 3",
   "language": "python",
   "name": "python3"
  },
  "language_info": {
   "codemirror_mode": {
    "name": "ipython",
    "version": 3
   },
   "file_extension": ".py",
   "mimetype": "text/x-python",
   "name": "python",
   "nbconvert_exporter": "python",
   "pygments_lexer": "ipython3",
   "version": "3.8.3"
  },
  "toc": {
   "base_numbering": 1,
   "nav_menu": {},
   "number_sections": true,
   "sideBar": true,
   "skip_h1_title": false,
   "title_cell": "Table of Contents",
   "title_sidebar": "Contents",
   "toc_cell": true,
   "toc_position": {},
   "toc_section_display": true,
   "toc_window_display": true
  }
 },
 "nbformat": 4,
 "nbformat_minor": 1
}
