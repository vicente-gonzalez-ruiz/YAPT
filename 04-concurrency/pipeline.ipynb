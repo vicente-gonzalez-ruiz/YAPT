{
 "cells": [
  {
   "cell_type": "markdown",
   "metadata": {},
   "source": [
    "# Simple concurrency examples"
   ]
  },
  {
   "cell_type": "markdown",
   "metadata": {},
   "source": [
    "## A pipeline"
   ]
  },
  {
   "cell_type": "markdown",
   "metadata": {},
   "source": [
    "### Using threads"
   ]
  },
  {
   "cell_type": "code",
   "execution_count": 33,
   "metadata": {
    "scrolled": true
   },
   "outputs": [
    {
     "name": "stdout",
     "output_type": "stream",
     "text": [
      "produced 0\n",
      "produced 1\n",
      "producedconsumed 1\n",
      "consumed 2\n",
      "consumed 3\n",
      " 2\n",
      "produced 3\n",
      "produced 4\n",
      "produced 5\n",
      "produced 6\n",
      "produced 7\n",
      "produced 8\n",
      "produced 9\n",
      "producer: done\n",
      "intermediate: done\n",
      "consumed 4\n",
      "consumed 5\n",
      "consumed 6\n",
      "consumed 7\n",
      "consumed 8\n",
      "consumed 9\n",
      "consumed 10\n",
      "consumer: done\n"
     ]
    }
   ],
   "source": [
    "import threading\n",
    "import queue \n",
    "\n",
    "intermediate_queue = queue.Queue()\n",
    "consumer_queue = queue.Queue()\n",
    "\n",
    "def producer():\n",
    "    for i in range(10):\n",
    "        intermediate_queue.put(i) # Queue is thread safe\n",
    "        print(\"produced\", i)\n",
    "    print(\"producer: done\")\n",
    "\n",
    "def intermediate():\n",
    "    while True:\n",
    "        i = intermediate_queue.get()\n",
    "        consumer_queue.put(i+1)\n",
    "        if i == 9:\n",
    "            break\n",
    "    print(\"intermediate: done\") \n",
    "\n",
    "def consumer():\n",
    "    while True: \n",
    "        i = consumer_queue.get()\n",
    "        print(\"consumed\", i)\n",
    "        if i == 10:\n",
    "            break\n",
    "    print(\"consumer: done\") \n",
    "\n",
    "p = threading.Thread(target=producer)\n",
    "i = threading.Thread(target=intermediate)\n",
    "c = threading.Thread(target=consumer)\n",
    "\n",
    "p.start()\n",
    "i.start()\n",
    "c.start()"
   ]
  },
  {
   "cell_type": "markdown",
   "metadata": {},
   "source": [
    "### Using processes"
   ]
  },
  {
   "cell_type": "code",
   "execution_count": 34,
   "metadata": {},
   "outputs": [
    {
     "name": "stdout",
     "output_type": "stream",
     "text": [
      "produced 0\n",
      "produced 1\n",
      "consumed 1\n",
      "produced 2\n",
      "consumed 2\n",
      "produced 3\n",
      "produced 4\n",
      "consumed 3\n",
      "produced 5\n",
      "produced 6\n",
      "consumed 4\n",
      "produced 7\n",
      "consumed 5\n",
      "produced 8\n",
      "consumed 6\n",
      "produced 9\n",
      "consumed 7\n",
      "producer: done\n",
      "intermediate: done\n",
      "consumed 8\n",
      "consumed 9\n",
      "consumed 10\n",
      "consumer: done\n"
     ]
    }
   ],
   "source": [
    "import multiprocessing\n",
    "\n",
    "intermediate_queue = multiprocessing.Queue()\n",
    "consumer_queue = multiprocessing.Queue()\n",
    "\n",
    "def producer():\n",
    "    for i in range(10):\n",
    "        intermediate_queue.put(i) # Queue is thread safe\n",
    "        print(\"produced\", i)\n",
    "    print(\"producer: done\")\n",
    "\n",
    "def intermediate():\n",
    "    while True:\n",
    "        i = intermediate_queue.get()\n",
    "        consumer_queue.put(i+1)\n",
    "        if i == 9:\n",
    "            break\n",
    "    print(\"intermediate: done\") \n",
    "\n",
    "def consumer():\n",
    "    while True: \n",
    "        i = consumer_queue.get()\n",
    "        print(\"consumed\", i)\n",
    "        if i == 10:\n",
    "            break\n",
    "    print(\"consumer: done\") \n",
    "\n",
    "p = multiprocessing.Process(target=producer)\n",
    "i = multiprocessing.Process(target=intermediate)\n",
    "c = multiprocessing.Process(target=consumer)\n",
    "\n",
    "p.start()\n",
    "i.start()\n",
    "c.start()"
   ]
  },
  {
   "cell_type": "markdown",
   "metadata": {},
   "source": [
    "### Using coroutines"
   ]
  },
  {
   "cell_type": "code",
   "execution_count": 35,
   "metadata": {},
   "outputs": [
    {
     "name": "stdout",
     "output_type": "stream",
     "text": [
      "consumed 1\n",
      "produced 0\n",
      "consumed 2\n",
      "produced 1\n",
      "consumed 3\n",
      "produced 2\n",
      "consumed 4\n",
      "produced 3\n",
      "consumed 5\n",
      "produced 4\n",
      "consumed 6\n",
      "produced 5\n",
      "consumed 7\n",
      "produced 6\n",
      "consumed 8\n",
      "produced 7\n",
      "consumed 9\n",
      "produced 8\n",
      "consumed 10\n",
      "produced 9\n",
      "intermediate: done\n",
      "producer: done\n"
     ]
    }
   ],
   "source": [
    "def producer(next_task):\n",
    "    for i in range(10):\n",
    "        next_task.send(i) \n",
    "        print(\"produced\", i)\n",
    "    next_task.close()\n",
    "    print(\"producer: done\")\n",
    "\n",
    "def intermediate(next_task): \n",
    "    try: \n",
    "        while True: \n",
    "            i = (yield)\n",
    "            next_task.send(i+1)\n",
    "    except GeneratorExit: \n",
    "        print(\"intermediate: done\") \n",
    "\n",
    "def consumer():\n",
    "    try: \n",
    "        while True: \n",
    "            i = (yield) \n",
    "            print(\"consumed\", i) \n",
    "    except GeneratorExit: \n",
    "        print(\"consumer: done\") \n",
    "\n",
    "c = consumer()\n",
    "c.__next__() # Advance until the first yield\n",
    "i = intermediate(c)\n",
    "i.__next__() # Advance until the first yield\n",
    "producer(i)"
   ]
  },
  {
   "cell_type": "code",
   "execution_count": null,
   "metadata": {},
   "outputs": [],
   "source": []
  }
 ],
 "metadata": {
  "kernelspec": {
   "display_name": "Python 3",
   "language": "python",
   "name": "python3"
  },
  "language_info": {
   "codemirror_mode": {
    "name": "ipython",
    "version": 3
   },
   "file_extension": ".py",
   "mimetype": "text/x-python",
   "name": "python",
   "nbconvert_exporter": "python",
   "pygments_lexer": "ipython3",
   "version": "3.8.3"
  }
 },
 "nbformat": 4,
 "nbformat_minor": 2
}
