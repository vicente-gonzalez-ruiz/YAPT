{
 "cells": [
  {
   "cell_type": "markdown",
   "metadata": {},
   "source": [
    "# A pipeline\n",
    "Using a queue."
   ]
  },
  {
   "cell_type": "markdown",
   "metadata": {},
   "source": [
    "## Using threads"
   ]
  },
  {
   "cell_type": "code",
   "execution_count": 55,
   "metadata": {
    "scrolled": true
   },
   "outputs": [
    {
     "name": "stdout",
     "output_type": "stream",
     "text": [
      "produced 0\n",
      "produced 1\n",
      "produced 2\n",
      "produced 3\n",
      "produced 4\n",
      "producedconsumed 1 \n",
      "5\n",
      "produced 6\n",
      "produced 7\n",
      "produced 8\n",
      "produced 9\n",
      "producer: done\n",
      "consumed 2\n",
      "consumed 3\n",
      "consumed 4\n",
      "consumed 5\n",
      "consumed process: done6\n",
      "consumed 7\n",
      "\n",
      "consumed 8\n",
      "consumed 9\n",
      "consumed 10\n",
      "consumer: done\n"
     ]
    }
   ],
   "source": [
    "import threading\n",
    "import queue \n",
    "\n",
    "process_queue = queue.Queue()\n",
    "consumer_queue = queue.Queue()\n",
    "\n",
    "def producer():\n",
    "    for i in range(10):\n",
    "        process_queue.put(i) # Queue is thread safe\n",
    "        print(\"produced\", i)\n",
    "    print(\"producer: done\")\n",
    "\n",
    "def processor():\n",
    "    while True:\n",
    "        i = process_queue.get()\n",
    "        consumer_queue.put(i+1)\n",
    "        if i == 9:\n",
    "            break\n",
    "    print(\"process: done\") \n",
    "\n",
    "def consumer():\n",
    "    while True: \n",
    "        i = consumer_queue.get()\n",
    "        print(\"consumed\", i)\n",
    "        if i == 10:\n",
    "            break\n",
    "    print(\"consumer: done\") \n",
    "\n",
    "p = threading.Thread(target=producer)\n",
    "i = threading.Thread(target=processor)\n",
    "c = threading.Thread(target=consumer)\n",
    "\n",
    "p.start()\n",
    "i.start()\n",
    "c.start()"
   ]
  },
  {
   "cell_type": "markdown",
   "metadata": {},
   "source": [
    "## Using processes"
   ]
  },
  {
   "cell_type": "code",
   "execution_count": 54,
   "metadata": {},
   "outputs": [
    {
     "name": "stdout",
     "output_type": "stream",
     "text": [
      "consumer: done\n",
      "produced 0\n",
      "produced 1\n",
      "produced 2\n",
      "produced 5\n",
      "produced 3\n",
      "produced 4\n",
      "produced 6\n",
      "consumed 1\n",
      "produced 7\n",
      "consumed 2\n",
      "produced 8\n",
      "consumed 3\n",
      "produced 9\n",
      "consumed 4\n",
      "producer: done\n",
      "consumed 5\n",
      "consumed 6\n",
      "process: done\n",
      "consumed 7\n",
      "consumed 8\n",
      "consumed 9\n",
      "consumed 10\n",
      "consumer: done\n"
     ]
    }
   ],
   "source": [
    "import multiprocessing\n",
    "\n",
    "process_queue = multiprocessing.Queue()\n",
    "consumer_queue = multiprocessing.Queue()\n",
    "\n",
    "def producer():\n",
    "    for i in range(10):\n",
    "        process_queue.put(i) # Queue is thread safe\n",
    "        print(\"produced\", i)\n",
    "    print(\"producer: done\")\n",
    "\n",
    "def processor():\n",
    "    while True:\n",
    "        i = process_queue.get()\n",
    "        consumer_queue.put(i+1)\n",
    "        if i == 9:\n",
    "            break\n",
    "    print(\"process: done\") \n",
    "\n",
    "def consumer():\n",
    "    while True: \n",
    "        i = consumer_queue.get()\n",
    "        print(\"consumed\", i)\n",
    "        if i == 10:\n",
    "            break\n",
    "    print(\"consumer: done\") \n",
    "\n",
    "p = multiprocessing.Process(target=producer)\n",
    "i = multiprocessing.Process(target=processor)\n",
    "c = multiprocessing.Process(target=consumer)\n",
    "\n",
    "p.start()\n",
    "i.start()\n",
    "c.start()"
   ]
  },
  {
   "cell_type": "markdown",
   "metadata": {},
   "source": [
    "## Using coroutines"
   ]
  },
  {
   "cell_type": "code",
   "execution_count": 53,
   "metadata": {},
   "outputs": [
    {
     "name": "stdout",
     "output_type": "stream",
     "text": [
      "consumer: done\n",
      "producing 0\n",
      "processing 0\n",
      "consuming 1\n",
      "producing 1\n",
      "processing 1\n",
      "consuming 2\n",
      "producing 2\n",
      "processing 2\n",
      "consuming 3\n",
      "producing 3\n",
      "processing 3\n",
      "consuming 4\n",
      "producing 4\n",
      "processing 4\n",
      "consuming 5\n",
      "producing 5\n",
      "processing 5\n",
      "consuming 6\n",
      "producing 6\n",
      "processing 6\n",
      "consuming 7\n",
      "producing 7\n",
      "processing 7\n",
      "consuming 8\n",
      "producing 8\n",
      "processing 8\n",
      "consuming 9\n",
      "producing 9\n",
      "processing 9\n",
      "consuming 10\n",
      "process: done\n",
      "producer: done\n"
     ]
    }
   ],
   "source": [
    "def producer(next_task):\n",
    "    for i in range(10):\n",
    "        print(\"producing\", i)\n",
    "        next_task.send(i) \n",
    "    next_task.close()\n",
    "    print(\"producer: done\")\n",
    "\n",
    "def processor(next_task): \n",
    "    try: \n",
    "        while True: \n",
    "            i = yield\n",
    "            print(\"processing\", i)\n",
    "            next_task.send(i+1)\n",
    "    except GeneratorExit: \n",
    "        print(\"process: done\") \n",
    "\n",
    "def consumer():\n",
    "    try: \n",
    "        while True: \n",
    "            i = yield\n",
    "            print(\"consuming\", i) \n",
    "    except GeneratorExit: \n",
    "        print(\"consumer: done\") \n",
    "\n",
    "c = consumer()\n",
    "c.__next__() # Advance until the first yield\n",
    "i = processor(c)\n",
    "i.__next__() # Advance until the first yield\n",
    "producer(i)"
   ]
  },
  {
   "cell_type": "code",
   "execution_count": 43,
   "metadata": {},
   "outputs": [
    {
     "name": "stdout",
     "output_type": "stream",
     "text": [
      "producing 0\n",
      "processing 0\n",
      "consumed 1\n",
      "producing 1\n",
      "processing 1\n",
      "consumed 2\n",
      "producing 2\n",
      "processing 2\n",
      "consumed 3\n",
      "producing 3\n",
      "processing 3\n",
      "consumed 4\n",
      "producing 4\n",
      "processing 4\n",
      "consumed 5\n",
      "producing 5\n",
      "processing 5\n",
      "consumed 6\n",
      "producing 6\n",
      "processing 6\n",
      "consumed 7\n",
      "producing 7\n",
      "processing 7\n",
      "consumed 8\n",
      "producing 8\n",
      "processing 8\n",
      "consumed 9\n",
      "producing 9\n",
      "processing 9\n",
      "consumed 10\n"
     ]
    }
   ],
   "source": [
    "import asyncio\n",
    "\n",
    "async def producer():\n",
    "    for i in range(10):\n",
    "        print(\"producing\", i)\n",
    "        await processor(i)\n",
    "\n",
    "async def processor(i):\n",
    "    print(\"processing\", i)\n",
    "    await consumer(i+1)\n",
    "\n",
    "async def consumer(i):\n",
    "    print(\"consumed\", i)\n",
    "\n",
    "await producer()"
   ]
  },
  {
   "cell_type": "code",
   "execution_count": 49,
   "metadata": {},
   "outputs": [
    {
     "name": "stdout",
     "output_type": "stream",
     "text": [
      "\n",
      "elapsed 0.50 seconds\n"
     ]
    }
   ],
   "source": [
    "import time\n",
    "import asyncio\n",
    "\n",
    "async def producer():\n",
    "    for i in range(10**6):\n",
    "        await processor(i)\n",
    "\n",
    "async def processor(i):\n",
    "    await consumer(i+1)\n",
    "\n",
    "async def consumer(i):\n",
    "    pass\n",
    "\n",
    "now = time.perf_counter()\n",
    "await producer()\n",
    "elapsed = time.perf_counter() - now\n",
    "print(f\"\\nelapsed {elapsed:0.2f} seconds\")"
   ]
  },
  {
   "cell_type": "markdown",
   "metadata": {},
   "source": [
    "Remember, coroutines are now suitable for CPU-bound problems :-/"
   ]
  },
  {
   "cell_type": "code",
   "execution_count": 50,
   "metadata": {},
   "outputs": [
    {
     "name": "stdout",
     "output_type": "stream",
     "text": [
      "\n",
      "elapsed 0.14 seconds\n"
     ]
    }
   ],
   "source": [
    "def all_together():\n",
    "    for i in range(10**6):\n",
    "        i += 1\n",
    "now = time.perf_counter()\n",
    "all_together()\n",
    "elapsed = time.perf_counter() - now\n",
    "print(f\"\\nelapsed {elapsed:0.2f} seconds\")"
   ]
  }
 ],
 "metadata": {
  "kernelspec": {
   "display_name": "Python 3",
   "language": "python",
   "name": "python3"
  },
  "language_info": {
   "codemirror_mode": {
    "name": "ipython",
    "version": 3
   },
   "file_extension": ".py",
   "mimetype": "text/x-python",
   "name": "python",
   "nbconvert_exporter": "python",
   "pygments_lexer": "ipython3",
   "version": "3.8.3"
  }
 },
 "nbformat": 4,
 "nbformat_minor": 2
}
