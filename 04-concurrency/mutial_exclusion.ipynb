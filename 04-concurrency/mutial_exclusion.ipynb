{
 "cells": [
  {
   "cell_type": "markdown",
   "metadata": {},
   "source": [
    "# Using critical sections\n",
    "A [critical section](https://en.wikipedia.org/wiki/Linearizability) is a region of code that should not run in parallel. For example, the increment of a variable is not considered an [atomic operation](https://en.wikipedia.org/wiki/Linearizability), so, it should be performed using [mutual exclusion](https://en.wikipedia.org/wiki/Mutual_exclusion)."
   ]
  },
  {
   "cell_type": "markdown",
   "metadata": {},
   "source": [
    "## What happens when mutial exclusion is not used in critical sections?\n",
    "\n",
    "### Using threads\n",
    "All Python’s built-in data structures (such as lists, dictionaries, etc.) are thread-safe. However, other user's data structures implemented by users, or simpler types like integers and floats, should not be accesed concurrently."
   ]
  },
  {
   "cell_type": "code",
   "execution_count": 21,
   "metadata": {},
   "outputs": [
    {
     "name": "stdout",
     "output_type": "stream",
     "text": [
      "(Both threads started)\n",
      "\n",
      "Both threads finished\n",
      "counter = 419981\n"
     ]
    }
   ],
   "source": [
    "# Two threads that have a critical section executed in parallel without mutual exclusion.\n",
    "# This code does not work!\n",
    "\n",
    "import threading\n",
    "import time\n",
    "\n",
    "counter = 10\n",
    "\n",
    "def task_1():\n",
    "    global counter\n",
    "    for i in range(10**6):\n",
    "        counter += 1\n",
    "        \n",
    "def task_2():\n",
    "    global counter\n",
    "    for i in range(10**6+1):\n",
    "        counter -= 1\n",
    "        \n",
    "thread_1 = threading.Thread(target=task_1)\n",
    "thread_2 = threading.Thread(target=task_2)\n",
    "\n",
    "thread_1.start()\n",
    "thread_2.start()\n",
    "print(\"(Both threads started)\")\n",
    "\n",
    "thread_1.join()\n",
    "thread_2.join()\n",
    "print(\"\\nBoth threads finished\")\n",
    "\n",
    "print('counter =', counter)"
   ]
  },
  {
   "cell_type": "markdown",
   "metadata": {},
   "source": [
    "The same example, using mutual exclusion (using a [lock](https://docs.python.org/3/library/threading.html#lock-objects)):"
   ]
  },
  {
   "cell_type": "code",
   "execution_count": 22,
   "metadata": {},
   "outputs": [
    {
     "name": "stdout",
     "output_type": "stream",
     "text": [
      "Both threads started\n",
      "Both threads finished\n",
      "elapsed 7.06 seconds\n",
      "counter = 9\n"
     ]
    }
   ],
   "source": [
    "# Two threads that have a critical section executed sequentially.\n",
    "\n",
    "import threading\n",
    "import time\n",
    "\n",
    "lock = threading.Lock()\n",
    "counter = 10\n",
    "\n",
    "def task_1():\n",
    "    global counter\n",
    "    for i in range(10**6):\n",
    "        with lock:\n",
    "            counter += 1\n",
    "        \n",
    "def task_2():\n",
    "    global counter\n",
    "    for i in range(10**6+1):\n",
    "        with lock:\n",
    "            counter -= 1\n",
    "        \n",
    "thread_1 = threading.Thread(target=task_1)\n",
    "thread_2 = threading.Thread(target=task_2)\n",
    "\n",
    "now = time.perf_counter()  # Real time (not only user time)\n",
    "thread_1.start()\n",
    "thread_2.start()\n",
    "print(\"Both threads started\")\n",
    "thread_1.join()\n",
    "thread_2.join()\n",
    "print(\"Both threads finished\")\n",
    "elapsed = time.perf_counter() - now\n",
    "print(f\"elapsed {elapsed:0.2f} seconds\")\n",
    "print('counter =', counter)"
   ]
  },
  {
   "cell_type": "markdown",
   "metadata": {},
   "source": [
    "Notice that both tasks are CPU-bound. This means that using `threading` has not any wall time advantage compared to an iterative implementation of both taks."
   ]
  },
  {
   "cell_type": "markdown",
   "metadata": {},
   "source": [
    "### Using processes"
   ]
  },
  {
   "cell_type": "code",
   "execution_count": 23,
   "metadata": {},
   "outputs": [
    {
     "name": "stdout",
     "output_type": "stream",
     "text": [
      "Both tasks started\n",
      "Both tasks finished\n",
      "elapsed 2.68 seconds\n",
      "counter = 9\n"
     ]
    }
   ],
   "source": [
    "# Two processes that have a critical section executed sequentially\n",
    "\n",
    "import multiprocessing\n",
    "import time\n",
    "import ctypes\n",
    "\n",
    "def task_1(lock, counter):\n",
    "    for i in range(10000):\n",
    "        with lock:\n",
    "            counter.value += 1\n",
    "        \n",
    "def task_2(lock, counter):\n",
    "    for i in range(10001):\n",
    "        with lock:\n",
    "            counter.value -= 1\n",
    "\n",
    "lock = multiprocessing.Lock()\n",
    "\n",
    "manager = multiprocessing.Manager()\n",
    "counter = manager.Value(ctypes.c_int, 10)\n",
    "\n",
    "process_1 = multiprocessing.Process(target=task_1, args=(lock, counter))\n",
    "process_2 = multiprocessing.Process(target=task_2, args=(lock, counter))\n",
    "\n",
    "now = time.perf_counter()\n",
    "process_1.start()\n",
    "process_2.start()\n",
    "print(\"Both tasks started\")\n",
    "process_1.join()\n",
    "process_2.join()\n",
    "print(\"Both tasks finished\")\n",
    "elapsed = time.perf_counter() - now\n",
    "print(f\"elapsed {elapsed:0.2f} seconds\")\n",
    "print('counter =', counter.value)"
   ]
  },
  {
   "cell_type": "markdown",
   "metadata": {},
   "source": [
    "Unlike `threading`, `multiprocessing` is suitable for reducing the running times in the case of CPU-bound problems."
   ]
  },
  {
   "cell_type": "markdown",
   "metadata": {},
   "source": [
    "### Using coroutines\n",
    "Like threads, coroutines should be only used when the coroutines must wait (typically for an I/O transaction). Otherwhise, use `multiprocessing`."
   ]
  },
  {
   "cell_type": "code",
   "execution_count": 30,
   "metadata": {},
   "outputs": [
    {
     "name": "stdout",
     "output_type": "stream",
     "text": [
      "oOoOoOoOoOoOoOoOoOoO\n",
      "counter = 10\n"
     ]
    }
   ],
   "source": [
    "import asyncio\n",
    "\n",
    "counter = 10\n",
    "\n",
    "async def task_1():\n",
    "    global counter\n",
    "    for i in range(10):\n",
    "        print(\"o\", end='', flush=True)\n",
    "        counter += 1\n",
    "        await task_2()\n",
    "            \n",
    "async def task_2():\n",
    "    global counter\n",
    "    print(\"O\", end='', flush=True)\n",
    "    counter -= 1\n",
    "\n",
    "await task_1()\n",
    "\n",
    "print('\\ncounter =', counter)"
   ]
  },
  {
   "cell_type": "code",
   "execution_count": 34,
   "metadata": {},
   "outputs": [
    {
     "name": "stdout",
     "output_type": "stream",
     "text": [
      "\n",
      "elapsed 0.43 seconds.\n",
      "counter = 10\n"
     ]
    }
   ],
   "source": [
    "import asyncio\n",
    "import time\n",
    "\n",
    "counter = 10\n",
    "\n",
    "async def task_1():\n",
    "    global counter\n",
    "    for i in range(10**6):\n",
    "        counter += 1\n",
    "        await task_2()\n",
    "        \n",
    "async def task_2():\n",
    "    global counter\n",
    "    counter -= 1\n",
    "\n",
    "now = time.perf_counter()\n",
    "await task_1()\n",
    "elapsed = time.perf_counter() - now\n",
    "print(f\"\\nelapsed {elapsed:0.2f} seconds\")\n",
    "print('counter =', counter)"
   ]
  },
  {
   "cell_type": "markdown",
   "metadata": {},
   "source": [
    "Coroutines are faster than threads, but not faster than the one-loop version of the task."
   ]
  },
  {
   "cell_type": "code",
   "execution_count": 37,
   "metadata": {},
   "outputs": [
    {
     "name": "stdout",
     "output_type": "stream",
     "text": [
      "\n",
      "elapsed 0.20 seconds\n",
      "counter = 10\n"
     ]
    }
   ],
   "source": [
    "import time\n",
    "\n",
    "counter = 10\n",
    "\n",
    "def task():\n",
    "    global counter\n",
    "    for i in range(10**6):\n",
    "        counter += 1\n",
    "        counter -= 1\n",
    "\n",
    "now = time.perf_counter()\n",
    "task()\n",
    "elapsed = time.perf_counter() - now\n",
    "print(f\"\\nelapsed {elapsed:0.2f} seconds\")\n",
    "print('counter =', counter)"
   ]
  }
 ],
 "metadata": {
  "kernelspec": {
   "display_name": "Python 3",
   "language": "python",
   "name": "python3"
  },
  "language_info": {
   "codemirror_mode": {
    "name": "ipython",
    "version": 3
   },
   "file_extension": ".py",
   "mimetype": "text/x-python",
   "name": "python",
   "nbconvert_exporter": "python",
   "pygments_lexer": "ipython3",
   "version": "3.8.3"
  },
  "toc": {
   "base_numbering": 1,
   "nav_menu": {},
   "number_sections": true,
   "sideBar": true,
   "skip_h1_title": false,
   "title_cell": "Table of Contents",
   "title_sidebar": "Contents",
   "toc_cell": true,
   "toc_position": {},
   "toc_section_display": true,
   "toc_window_display": true
  }
 },
 "nbformat": 4,
 "nbformat_minor": 1
}
