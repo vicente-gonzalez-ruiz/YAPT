{
 "cells": [
  {
   "cell_type": "markdown",
   "metadata": {},
   "source": [
    "# Using critical sections\n",
    "A [critical section](https://en.wikipedia.org/wiki/Linearizability) is a region of code that should not run in parallel. For example, the increment of a variable is not considered an [atomic operation](https://en.wikipedia.org/wiki/Linearizability), so, it should be performed using [mutual exclusion](https://en.wikipedia.org/wiki/Mutual_exclusion)."
   ]
  },
  {
   "cell_type": "markdown",
   "metadata": {},
   "source": [
    "## What happens when mutial exclusion is not used in critical sections?\n",
    "\n",
    "### Using threads\n",
    "All Python’s built-in data structures (such as lists, dictionaries, etc.) are thread-safe. However, other user's data structures implemented in Python, or simpler types like integers and floats, cannot be accesed concurrently."
   ]
  },
  {
   "cell_type": "code",
   "execution_count": 1,
   "metadata": {},
   "outputs": [
    {
     "name": "stdout",
     "output_type": "stream",
     "text": [
      "(Both threads started)\n",
      "\n",
      "Both threads finished\n",
      "counter = -99559\n"
     ]
    }
   ],
   "source": [
    "# Two threads that have a critical section executed in parallel without mutual exclusion.\n",
    "# This code does not work!\n",
    "\n",
    "import threading\n",
    "import time\n",
    "\n",
    "counter = 10\n",
    "\n",
    "def task_1():\n",
    "    global counter\n",
    "    for i in range(1000000):\n",
    "        counter += 1\n",
    "        \n",
    "def task_2():\n",
    "    global counter\n",
    "    for i in range(1000001):\n",
    "        counter -= 1\n",
    "        \n",
    "thread_1 = threading.Thread(target=task_1)\n",
    "thread_2 = threading.Thread(target=task_2)\n",
    "\n",
    "thread_1.start()\n",
    "thread_2.start()\n",
    "print(\"(Both threads started)\")\n",
    "\n",
    "thread_1.join()\n",
    "thread_2.join()\n",
    "print(\"\\nBoth threads finished\")\n",
    "\n",
    "print('counter =', counter)"
   ]
  },
  {
   "cell_type": "markdown",
   "metadata": {},
   "source": [
    "The same example, using mutual exclusion (using a [lock](https://docs.python.org/3/library/threading.html#lock-objects)):"
   ]
  },
  {
   "cell_type": "code",
   "execution_count": 5,
   "metadata": {},
   "outputs": [
    {
     "name": "stdout",
     "output_type": "stream",
     "text": [
      "(Both threads started)\n",
      "\n",
      "Both threads finished\n",
      "\n",
      "elapsed 6.91 seconds.\n",
      "counter = 9\n"
     ]
    }
   ],
   "source": [
    "# Two threads that have a critical section executed sequentially.\n",
    "\n",
    "import threading\n",
    "import time\n",
    "\n",
    "lock = threading.Lock()\n",
    "counter = 10\n",
    "\n",
    "def task_1():\n",
    "    global counter\n",
    "    for i in range(1000000):\n",
    "        with lock:\n",
    "            counter += 1\n",
    "        \n",
    "def task_2():\n",
    "    global counter\n",
    "    for i in range(1000001):\n",
    "        with lock:\n",
    "            counter -= 1\n",
    "        \n",
    "thread_1 = threading.Thread(target=task_1)\n",
    "thread_2 = threading.Thread(target=task_2)\n",
    "\n",
    "now = time.perf_counter()  # Real time (not only user time)\n",
    "thread_1.start()\n",
    "thread_2.start()\n",
    "print(\"(Both threads started)\")\n",
    "\n",
    "thread_1.join()\n",
    "thread_2.join()\n",
    "print(\"\\nBoth threads finished\")\n",
    "elapsed = time.perf_counter() - now\n",
    "print(f\"\\nelapsed {elapsed:0.2f} seconds.\")\n",
    "\n",
    "print('counter =', counter)"
   ]
  },
  {
   "cell_type": "markdown",
   "metadata": {},
   "source": [
    "### Using processes"
   ]
  },
  {
   "cell_type": "code",
   "execution_count": 3,
   "metadata": {},
   "outputs": [
    {
     "name": "stdout",
     "output_type": "stream",
     "text": [
      "(Both tasks started)\n",
      "\n",
      "Both tasks finished\n",
      "counter = 9\n"
     ]
    }
   ],
   "source": [
    "# Two processes that have a critical section executed sequentially\n",
    "\n",
    "import multiprocessing\n",
    "import time\n",
    "import ctypes\n",
    "\n",
    "def task_1(lock, counter):\n",
    "    for i in range(10000):\n",
    "        lock.acquire()\n",
    "        try:\n",
    "            counter.value += 1\n",
    "        finally:\n",
    "            lock.release()\n",
    "        \n",
    "def task_2(lock, counter):\n",
    "    for i in range(10001):\n",
    "        lock.acquire()\n",
    "        try:\n",
    "            counter.value -= 1\n",
    "        finally:\n",
    "            lock.release()\n",
    "\n",
    "lock = multiprocessing.Lock()\n",
    "\n",
    "manager = multiprocessing.Manager()\n",
    "counter = manager.Value(ctypes.c_int, 10)\n",
    "\n",
    "process_1 = multiprocessing.Process(target=task_1, args=(lock, counter))\n",
    "process_2 = multiprocessing.Process(target=task_2, args=(lock, counter))\n",
    "\n",
    "process_1.start()\n",
    "process_2.start()\n",
    "print(\"(Both tasks started)\")\n",
    "\n",
    "process_1.join()\n",
    "process_2.join()\n",
    "print(\"\\nBoth tasks finished\")\n",
    "\n",
    "print('counter =', counter.value)"
   ]
  },
  {
   "cell_type": "markdown",
   "metadata": {},
   "source": [
    "### Using coroutines\n",
    "Notice that the lock is not needed at all."
   ]
  },
  {
   "cell_type": "code",
   "execution_count": 4,
   "metadata": {},
   "outputs": [
    {
     "name": "stdout",
     "output_type": "stream",
     "text": [
      "\n",
      "elapsed 0.26 seconds.\n",
      "counter = 9\n"
     ]
    }
   ],
   "source": [
    "import asyncio\n",
    "import time\n",
    "\n",
    "counter = 10\n",
    "\n",
    "async def task_1():\n",
    "    global counter\n",
    "    for i in range(1000000):\n",
    "        counter += 1\n",
    "        \n",
    "async def task_2():\n",
    "    global counter\n",
    "    for i in range(1000001):\n",
    "        counter -= 1\n",
    "\n",
    "t1 = task_1()\n",
    "t2 = task_2()\n",
    "\n",
    "now = time.perf_counter()  # Real time (not only user time)\n",
    "await asyncio.gather(task_1(), task_2())\n",
    "elapsed = time.perf_counter() - now\n",
    "print(f\"\\nelapsed {elapsed:0.2f} seconds.\")\n",
    "print('counter =', counter)"
   ]
  },
  {
   "cell_type": "markdown",
   "metadata": {},
   "source": [
    "## An example with classes"
   ]
  },
  {
   "cell_type": "code",
   "execution_count": null,
   "metadata": {},
   "outputs": [],
   "source": [
    "import logging\n",
    "import random\n",
    "import threading\n",
    "import time\n",
    "\n",
    "class Counter:\n",
    "    \n",
    "    def __init__(self, start=0):\n",
    "        self.lock = threading.Lock()\n",
    "        self.value = start\n",
    "\n",
    "    def increment(self):\n",
    "        logging.debug('Waiting for lock')\n",
    "        self.lock.acquire()\n",
    "        try:\n",
    "            logging.debug('Acquired lock')\n",
    "            self.value = self.value + 1\n",
    "        finally:\n",
    "            self.lock.release()\n",
    "\n",
    "def worker(c):\n",
    "    for i in range(2):\n",
    "        pause = random.random()\n",
    "        logging.debug('Sleeping %0.02f', pause)\n",
    "        time.sleep(pause)\n",
    "        c.increment()\n",
    "    logging.debug('Done')\n",
    "\n",
    "\n",
    "logging.basicConfig(\n",
    "    level=logging.DEBUG,\n",
    "    format='(%(threadName)-10s) %(message)s',\n",
    ")\n",
    "\n",
    "counter = Counter()\n",
    "for i in range(2):\n",
    "    t = threading.Thread(target=worker, args=(counter,))\n",
    "    t.start()\n",
    "\n",
    "logging.debug('Waiting for worker threads')\n",
    "main_thread = threading.main_thread()\n",
    "for t in threading.enumerate():\n",
    "    if t is not main_thread:\n",
    "        t.join()\n",
    "logging.debug('Counter: %d', counter.value)"
   ]
  }
 ],
 "metadata": {
  "kernelspec": {
   "display_name": "Python 3",
   "language": "python",
   "name": "python3"
  },
  "language_info": {
   "codemirror_mode": {
    "name": "ipython",
    "version": 3
   },
   "file_extension": ".py",
   "mimetype": "text/x-python",
   "name": "python",
   "nbconvert_exporter": "python",
   "pygments_lexer": "ipython3",
   "version": "3.8.3"
  },
  "toc": {
   "base_numbering": 1,
   "nav_menu": {},
   "number_sections": true,
   "sideBar": true,
   "skip_h1_title": false,
   "title_cell": "Table of Contents",
   "title_sidebar": "Contents",
   "toc_cell": true,
   "toc_position": {},
   "toc_section_display": true,
   "toc_window_display": true
  }
 },
 "nbformat": 4,
 "nbformat_minor": 1
}
