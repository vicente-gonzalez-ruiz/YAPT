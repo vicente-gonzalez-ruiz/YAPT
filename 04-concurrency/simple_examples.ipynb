{
 "cells": [
  {
   "cell_type": "markdown",
   "metadata": {},
   "source": [
    "# Simple examples"
   ]
  },
  {
   "cell_type": "markdown",
   "metadata": {},
   "source": [
    "## Using threads"
   ]
  },
  {
   "cell_type": "code",
   "execution_count": null,
   "metadata": {},
   "outputs": [],
   "source": [
    "import threading\n",
    "import time\n",
    "import sys\n",
    "\n",
    "a = ''\n",
    "\n",
    "def task_1():\n",
    "    global a\n",
    "    for i in range(10):\n",
    "        print('o', end='')\n",
    "        sys.stdout.flush()\n",
    "        a += 'o'\n",
    "        print(a)\n",
    "        time.sleep(1)\n",
    "        \n",
    "def task_2():\n",
    "    global a\n",
    "    for i in range(20):\n",
    "        print('O', end='')\n",
    "        sys.stdout.flush()\n",
    "        a += 'O'\n",
    "        print(a)\n",
    "        time.sleep(0.6)\n",
    "        \n",
    "thread_1 = threading.Thread(target=task_1)\n",
    "thread_2 = threading.Thread(target=task_2)\n",
    "\n",
    "thread_1.start()\n",
    "thread_2.start()\n",
    "print(\"(Both threads have started)\")\n",
    "\n",
    "thread_1.join() # Wait for thread_1 to finish\n",
    "thread_2.join()\n",
    "print(\"\\nBoth threads have finished\")\n",
    "\n",
    "print(a)"
   ]
  },
  {
   "cell_type": "markdown",
   "metadata": {},
   "source": [
    " Notice that all threads share the same process memory space."
   ]
  },
  {
   "cell_type": "markdown",
   "metadata": {},
   "source": [
    "## Using processes"
   ]
  },
  {
   "cell_type": "code",
   "execution_count": null,
   "metadata": {},
   "outputs": [],
   "source": [
    "# This code does not work!\n",
    "\n",
    "import multiprocessing\n",
    "import time\n",
    "import sys\n",
    "\n",
    "a = ''\n",
    "\n",
    "def task_1():\n",
    "    global a\n",
    "    for i in range(10):\n",
    "        print('o', end='')\n",
    "        sys.stdout.flush()\n",
    "        a += 'o'\n",
    "        print(a)\n",
    "        time.sleep(1)\n",
    "        \n",
    "def task_2():\n",
    "    global a\n",
    "    for i in range(20):\n",
    "        print('O', end='')\n",
    "        sys.stdout.flush()\n",
    "        a += 'O'\n",
    "        print(a)\n",
    "        time.sleep(0.6)\n",
    "        \n",
    "process_1 = multiprocessing.Process(target=task_1)\n",
    "process_2 = multiprocessing.Process(target=task_2)\n",
    "\n",
    "process_1.start()\n",
    "process_2.start()\n",
    "print(\"(Both processes have started)\")\n",
    "\n",
    "process_1.join()\n",
    "process_2.join()\n",
    "print(\"\\nBoth processes have finished\")\n",
    "\n",
    "print(a)"
   ]
  },
  {
   "cell_type": "markdown",
   "metadata": {},
   "source": [
    "### But ... why `a` has not been modified? Why the processed do not share `a`?"
   ]
  },
  {
   "cell_type": "markdown",
   "metadata": {},
   "source": [
    "By definition, processes must [__fork__](https://en.wikipedia.org/wiki/Fork_(system_call) (make a copy of itself, that is, the code and the used memory) before start running. In the previous example, the Python interpreter forks twice and the two childs are run in parallel while the parent process waits for their completition. Neither, the child processes nor the parent process share their global state (where `a` is defined)."
   ]
  },
  {
   "cell_type": "markdown",
   "metadata": {},
   "source": [
    "### 2.1. How to share data between processes?"
   ]
  },
  {
   "cell_type": "markdown",
   "metadata": {},
   "source": [
    "There are several options. One of them is to use a [shared memory `Manager()`](https://docs.python.org/3/library/multiprocessing.html#sharing-state-between-processes):"
   ]
  },
  {
   "cell_type": "code",
   "execution_count": null,
   "metadata": {},
   "outputs": [],
   "source": [
    "import multiprocessing\n",
    "import time\n",
    "import sys\n",
    "import ctypes\n",
    "\n",
    "def task_1(a):\n",
    "    for i in range(10):\n",
    "        print('o', end='')\n",
    "        sys.stdout.flush()\n",
    "        a.value += 'o'\n",
    "        time.sleep(1)\n",
    "        \n",
    "def task_2(a):\n",
    "    for i in range(20):\n",
    "        print('O', end='')\n",
    "        sys.stdout.flush()\n",
    "        a.value += 'O'\n",
    "        time.sleep(0.6)\n",
    "\n",
    "manager = multiprocessing.Manager()\n",
    "# See https://docs.python.org/3/library/ctypes.html#module-ctypes\n",
    "a = manager.Value(ctypes.c_char_p, \"\")    \n",
    "\n",
    "process_1 = multiprocessing.Process(target=task_1, args=(a,))\n",
    "process_2 = multiprocessing.Process(target=task_2, args=(a,))\n",
    "\n",
    "process_1.start()\n",
    "process_2.start()\n",
    "print(\"(Both processes have started)\")\n",
    "\n",
    "process_1.join()\n",
    "process_2.join()\n",
    "print(\"\\nBoth processes have finished\")\n",
    "\n",
    "print(a.value)"
   ]
  },
  {
   "cell_type": "markdown",
   "metadata": {},
   "source": [
    "## Using corutines"
   ]
  },
  {
   "cell_type": "code",
   "execution_count": 1,
   "metadata": {},
   "outputs": [
    {
     "name": "stdout",
     "output_type": "stream",
     "text": [
      "I'm sink, i'll print tokens\n",
      "Searching for ing\n",
      "running\n",
      "moving\n",
      "Done with filtering!!\n"
     ]
    }
   ],
   "source": [
    "def producer(sentence, next_coroutine): \n",
    "    ''' \n",
    "    Producer which just split strings and \n",
    "    feed it to pattern_filter coroutine \n",
    "    '''\n",
    "    tokens = sentence.split(\" \") \n",
    "    for token in tokens: \n",
    "        next_coroutine.send(token) \n",
    "    next_coroutine.close() \n",
    "  \n",
    "def pattern_filter(pattern=\"ing\", next_coroutine=None): \n",
    "    ''' \n",
    "    Search for pattern in received token  \n",
    "    and if pattern got matched, send it to \n",
    "    print_token() coroutine for printing \n",
    "    '''\n",
    "    print(\"Searching for {}\".format(pattern)) \n",
    "    try: \n",
    "        while True: \n",
    "            token = (yield) \n",
    "            if pattern in token: \n",
    "                next_coroutine.send(token) \n",
    "    except GeneratorExit: \n",
    "        print(\"Done with filtering!!\") \n",
    "  \n",
    "def print_token(): \n",
    "    ''' \n",
    "    Act as a sink, simply print the \n",
    "    received tokens \n",
    "    '''\n",
    "    print(\"I'm sink, i'll print tokens\") \n",
    "    try: \n",
    "        while True: \n",
    "            token = (yield) \n",
    "            print(token) \n",
    "    except GeneratorExit: \n",
    "        print(\"Done with printing!\") \n",
    "  \n",
    "pt = print_token() \n",
    "pt.__next__() \n",
    "pf = pattern_filter(next_coroutine = pt) \n",
    "pf.__next__() \n",
    "  \n",
    "sentence = \"Bob is running behind a fast moving car\"\n",
    "producer(sentence, pf)"
   ]
  },
  {
   "cell_type": "code",
   "execution_count": null,
   "metadata": {},
   "outputs": [],
   "source": []
  }
 ],
 "metadata": {
  "kernelspec": {
   "display_name": "Python 3",
   "language": "python",
   "name": "python3"
  },
  "language_info": {
   "codemirror_mode": {
    "name": "ipython",
    "version": 3
   },
   "file_extension": ".py",
   "mimetype": "text/x-python",
   "name": "python",
   "nbconvert_exporter": "python",
   "pygments_lexer": "ipython3",
   "version": "3.8.3"
  }
 },
 "nbformat": 4,
 "nbformat_minor": 2
}
