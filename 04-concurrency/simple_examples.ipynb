{
 "cells": [
  {
   "cell_type": "markdown",
   "metadata": {},
   "source": [
    "# Simple concurrency examples"
   ]
  },
  {
   "cell_type": "markdown",
   "metadata": {},
   "source": [
    "## Two tasks sharing some data"
   ]
  },
  {
   "cell_type": "markdown",
   "metadata": {},
   "source": [
    "### Using threads"
   ]
  },
  {
   "cell_type": "code",
   "execution_count": null,
   "metadata": {},
   "outputs": [],
   "source": [
    "import threading\n",
    "import time\n",
    "import sys\n",
    "\n",
    "a = ''\n",
    "\n",
    "def task_1():\n",
    "    global a\n",
    "    for i in range(10):\n",
    "        print('o', end='', flush=True)\n",
    "        a += 'o'\n",
    "        print(a)\n",
    "        time.sleep(1) # Blocking -> yield to other thread\n",
    "        \n",
    "def task_2():\n",
    "    global a\n",
    "    for i in range(20):\n",
    "        print('O', end='', flush=True)\n",
    "        a += 'O'\n",
    "        print(a)\n",
    "        time.sleep(0.6) # Blocking -> yield to other thread\n",
    "        \n",
    "thread_1 = threading.Thread(target=task_1)\n",
    "thread_2 = threading.Thread(target=task_2)\n",
    "\n",
    "thread_1.start()\n",
    "thread_2.start()\n",
    "print(\"(Both threads have started)\")\n",
    "\n",
    "thread_1.join() # Wait for thread_1 to finish\n",
    "thread_2.join()\n",
    "print(\"\\nBoth threads have finished\")\n",
    "\n",
    "print(a)"
   ]
  },
  {
   "cell_type": "markdown",
   "metadata": {},
   "source": [
    " Notice that both threads share the same process memory space."
   ]
  },
  {
   "cell_type": "markdown",
   "metadata": {},
   "source": [
    "### Using processes"
   ]
  },
  {
   "cell_type": "code",
   "execution_count": null,
   "metadata": {},
   "outputs": [],
   "source": [
    "# This code does not work ...\n",
    "\n",
    "import multiprocessing\n",
    "import time\n",
    "import sys\n",
    "\n",
    "a = '' # ... because each process has its own 'a'\n",
    "\n",
    "def task_1():\n",
    "    global a\n",
    "    for i in range(10):\n",
    "        print('o', end='', flush=True)\n",
    "        a += 'o'\n",
    "        print(a)\n",
    "        time.sleep(1) # Blocking -> yield to other process\n",
    "        \n",
    "def task_2():\n",
    "    global a\n",
    "    for i in range(20):\n",
    "        print('O', end='', flush=True)\n",
    "        a += 'O'\n",
    "        print(a)\n",
    "        time.sleep(0.6) # Blocking -> yield to other process\n",
    "        \n",
    "process_1 = multiprocessing.Process(target=task_1)\n",
    "process_2 = multiprocessing.Process(target=task_2)\n",
    "\n",
    "process_1.start()\n",
    "process_2.start()\n",
    "print(\"(Both processes have started)\")\n",
    "\n",
    "process_1.join()\n",
    "process_2.join()\n",
    "print(\"\\nBoth processes have finished\")\n",
    "\n",
    "print(a)"
   ]
  },
  {
   "cell_type": "markdown",
   "metadata": {},
   "source": [
    "#### But ... why `a` has not been modified? Why the processed do not share `a`?"
   ]
  },
  {
   "cell_type": "markdown",
   "metadata": {},
   "source": [
    "By definition, processes must [__fork__](https://en.wikipedia.org/wiki/Fork_(system_call) (make a copy of itself, that is, the code and the used memory) before start running. In the previous example, the Python interpreter forks twice and the two childs are run in parallel while the parent process waits for their completition. Neither, the child processes nor the parent process share their global state (where `a` is defined)."
   ]
  },
  {
   "cell_type": "markdown",
   "metadata": {},
   "source": [
    "### How to share data between processes?"
   ]
  },
  {
   "cell_type": "markdown",
   "metadata": {},
   "source": [
    "There are several options. One of them is to use a [shared memory `Manager()`](https://docs.python.org/3/library/multiprocessing.html#sharing-state-between-processes):"
   ]
  },
  {
   "cell_type": "code",
   "execution_count": null,
   "metadata": {},
   "outputs": [],
   "source": [
    "import multiprocessing\n",
    "import time\n",
    "import sys\n",
    "import ctypes\n",
    "\n",
    "def task_1(a):\n",
    "    for i in range(10):\n",
    "        print('o', end='', flush=True)\n",
    "        a.value += 'o'\n",
    "        time.sleep(1) # Blocking -> yield to other process\n",
    "        \n",
    "def task_2(a):\n",
    "    for i in range(20):\n",
    "        print('O', end='', flush=True)\n",
    "        a.value += 'O'\n",
    "        time.sleep(0.6) # Blocking -> yield to other process\n",
    "\n",
    "manager = multiprocessing.Manager()\n",
    "# See https://docs.python.org/3/library/ctypes.html#module-ctypes\n",
    "a = manager.Value(ctypes.c_char_p, \"\")    \n",
    "\n",
    "process_1 = multiprocessing.Process(target=task_1, args=(a,))\n",
    "process_2 = multiprocessing.Process(target=task_2, args=(a,))\n",
    "\n",
    "process_1.start()\n",
    "process_2.start()\n",
    "print(\"(Both processes have started)\")\n",
    "\n",
    "process_1.join()\n",
    "process_2.join()\n",
    "print(\"\\nBoth processes have finished\")\n",
    "\n",
    "print(a.value)"
   ]
  },
  {
   "cell_type": "markdown",
   "metadata": {},
   "source": [
    "### Using coroutines"
   ]
  },
  {
   "cell_type": "code",
   "execution_count": 13,
   "metadata": {},
   "outputs": [
    {
     "name": "stdout",
     "output_type": "stream",
     "text": [
      "oOoOoOoOoOoOoOoOoOoOoOoOoOoOoOoOoOoOoOoO\n",
      "a = oOoOoOoOoOoOoOoOoOoOoOoOoOoOoOoOoOoOoOoO\n"
     ]
    }
   ],
   "source": [
    "import time\n",
    "import sys\n",
    "\n",
    "a = ''\n",
    "\n",
    "def task_1():\n",
    "    global a\n",
    "    for i in range(20):\n",
    "        print('o', end='', flush=True)\n",
    "        a += 'o'\n",
    "        yield\n",
    "        time.sleep(0.5)\n",
    "        \n",
    "def task_2():\n",
    "    global a\n",
    "    for i in range(20):\n",
    "        print('O', end='', flush=True)\n",
    "        a += 'O'\n",
    "        yield\n",
    "        time.sleep(0.25)\n",
    "\n",
    "t1 = task_1()\n",
    "t2 = task_2()\n",
    "        \n",
    "for i in range(20):\n",
    "    t1.__next__()\n",
    "    t2.__next__()\n",
    "\n",
    "print(\"\\na =\", a)"
   ]
  },
  {
   "cell_type": "markdown",
   "metadata": {},
   "source": [
    "## A pipeline"
   ]
  },
  {
   "cell_type": "markdown",
   "metadata": {},
   "source": [
    "### Using threads"
   ]
  },
  {
   "cell_type": "code",
   "execution_count": 33,
   "metadata": {
    "scrolled": true
   },
   "outputs": [
    {
     "name": "stdout",
     "output_type": "stream",
     "text": [
      "produced 0\n",
      "produced 1\n",
      "producedconsumed 1\n",
      "consumed 2\n",
      "consumed 3\n",
      " 2\n",
      "produced 3\n",
      "produced 4\n",
      "produced 5\n",
      "produced 6\n",
      "produced 7\n",
      "produced 8\n",
      "produced 9\n",
      "producer: done\n",
      "intermediate: done\n",
      "consumed 4\n",
      "consumed 5\n",
      "consumed 6\n",
      "consumed 7\n",
      "consumed 8\n",
      "consumed 9\n",
      "consumed 10\n",
      "consumer: done\n"
     ]
    }
   ],
   "source": [
    "import threading\n",
    "import queue \n",
    "\n",
    "intermediate_queue = queue.Queue()\n",
    "consumer_queue = queue.Queue()\n",
    "\n",
    "def producer():\n",
    "    for i in range(10):\n",
    "        intermediate_queue.put(i) # Queue is thread safe\n",
    "        print(\"produced\", i)\n",
    "    print(\"producer: done\")\n",
    "\n",
    "def intermediate():\n",
    "    while True:\n",
    "        i = intermediate_queue.get()\n",
    "        consumer_queue.put(i+1)\n",
    "        if i == 9:\n",
    "            break\n",
    "    print(\"intermediate: done\") \n",
    "\n",
    "def consumer():\n",
    "    while True: \n",
    "        i = consumer_queue.get()\n",
    "        print(\"consumed\", i)\n",
    "        if i == 10:\n",
    "            break\n",
    "    print(\"consumer: done\") \n",
    "\n",
    "p = threading.Thread(target=producer)\n",
    "i = threading.Thread(target=intermediate)\n",
    "c = threading.Thread(target=consumer)\n",
    "\n",
    "p.start()\n",
    "i.start()\n",
    "c.start()"
   ]
  },
  {
   "cell_type": "markdown",
   "metadata": {},
   "source": [
    "### Using processes"
   ]
  },
  {
   "cell_type": "code",
   "execution_count": 34,
   "metadata": {},
   "outputs": [
    {
     "name": "stdout",
     "output_type": "stream",
     "text": [
      "produced 0\n",
      "produced 1\n",
      "consumed 1\n",
      "produced 2\n",
      "consumed 2\n",
      "produced 3\n",
      "produced 4\n",
      "consumed 3\n",
      "produced 5\n",
      "produced 6\n",
      "consumed 4\n",
      "produced 7\n",
      "consumed 5\n",
      "produced 8\n",
      "consumed 6\n",
      "produced 9\n",
      "consumed 7\n",
      "producer: done\n",
      "intermediate: done\n",
      "consumed 8\n",
      "consumed 9\n",
      "consumed 10\n",
      "consumer: done\n"
     ]
    }
   ],
   "source": [
    "import multiprocessing\n",
    "\n",
    "intermediate_queue = multiprocessing.Queue()\n",
    "consumer_queue = multiprocessing.Queue()\n",
    "\n",
    "def producer():\n",
    "    for i in range(10):\n",
    "        intermediate_queue.put(i) # Queue is thread safe\n",
    "        print(\"produced\", i)\n",
    "    print(\"producer: done\")\n",
    "\n",
    "def intermediate():\n",
    "    while True:\n",
    "        i = intermediate_queue.get()\n",
    "        consumer_queue.put(i+1)\n",
    "        if i == 9:\n",
    "            break\n",
    "    print(\"intermediate: done\") \n",
    "\n",
    "def consumer():\n",
    "    while True: \n",
    "        i = consumer_queue.get()\n",
    "        print(\"consumed\", i)\n",
    "        if i == 10:\n",
    "            break\n",
    "    print(\"consumer: done\") \n",
    "\n",
    "p = multiprocessing.Process(target=producer)\n",
    "i = multiprocessing.Process(target=intermediate)\n",
    "c = multiprocessing.Process(target=consumer)\n",
    "\n",
    "p.start()\n",
    "i.start()\n",
    "c.start()"
   ]
  },
  {
   "cell_type": "markdown",
   "metadata": {},
   "source": [
    "### Using coroutines"
   ]
  },
  {
   "cell_type": "code",
   "execution_count": 35,
   "metadata": {},
   "outputs": [
    {
     "name": "stdout",
     "output_type": "stream",
     "text": [
      "consumed 1\n",
      "produced 0\n",
      "consumed 2\n",
      "produced 1\n",
      "consumed 3\n",
      "produced 2\n",
      "consumed 4\n",
      "produced 3\n",
      "consumed 5\n",
      "produced 4\n",
      "consumed 6\n",
      "produced 5\n",
      "consumed 7\n",
      "produced 6\n",
      "consumed 8\n",
      "produced 7\n",
      "consumed 9\n",
      "produced 8\n",
      "consumed 10\n",
      "produced 9\n",
      "intermediate: done\n",
      "producer: done\n"
     ]
    }
   ],
   "source": [
    "def producer(next_task):\n",
    "    for i in range(10):\n",
    "        next_task.send(i) \n",
    "        print(\"produced\", i)\n",
    "    next_task.close()\n",
    "    print(\"producer: done\")\n",
    "\n",
    "def intermediate(next_task): \n",
    "    try: \n",
    "        while True: \n",
    "            i = (yield)\n",
    "            next_task.send(i+1)\n",
    "    except GeneratorExit: \n",
    "        print(\"intermediate: done\") \n",
    "\n",
    "def consumer():\n",
    "    try: \n",
    "        while True: \n",
    "            i = (yield) \n",
    "            print(\"consumed\", i) \n",
    "    except GeneratorExit: \n",
    "        print(\"consumer: done\") \n",
    "\n",
    "c = consumer()\n",
    "c.__next__() # Advance until the first yield\n",
    "i = intermediate(c)\n",
    "i.__next__() # Advance until the first yield\n",
    "producer(i)"
   ]
  },
  {
   "cell_type": "code",
   "execution_count": null,
   "metadata": {},
   "outputs": [],
   "source": []
  }
 ],
 "metadata": {
  "kernelspec": {
   "display_name": "Python 3",
   "language": "python",
   "name": "python3"
  },
  "language_info": {
   "codemirror_mode": {
    "name": "ipython",
    "version": 3
   },
   "file_extension": ".py",
   "mimetype": "text/x-python",
   "name": "python",
   "nbconvert_exporter": "python",
   "pygments_lexer": "ipython3",
   "version": "3.8.3"
  }
 },
 "nbformat": 4,
 "nbformat_minor": 2
}
