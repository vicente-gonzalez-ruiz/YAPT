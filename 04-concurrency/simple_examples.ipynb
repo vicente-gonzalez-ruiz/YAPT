{
 "cells": [
  {
   "cell_type": "markdown",
   "metadata": {},
   "source": [
    "# Simple examples"
   ]
  },
  {
   "cell_type": "markdown",
   "metadata": {},
   "source": [
    "## Using threads"
   ]
  },
  {
   "cell_type": "code",
   "execution_count": null,
   "metadata": {},
   "outputs": [],
   "source": [
    "import threading\n",
    "import time\n",
    "import sys\n",
    "\n",
    "a = ''\n",
    "\n",
    "def task_1():\n",
    "    global a\n",
    "    for i in range(10):\n",
    "        print('o', end='')\n",
    "        sys.stdout.flush()\n",
    "        a += 'o'\n",
    "        print(a)\n",
    "        time.sleep(1)\n",
    "        \n",
    "def task_2():\n",
    "    global a\n",
    "    for i in range(20):\n",
    "        print('O', end='')\n",
    "        sys.stdout.flush()\n",
    "        a += 'O'\n",
    "        print(a)\n",
    "        time.sleep(0.6)\n",
    "        \n",
    "thread_1 = threading.Thread(target=task_1)\n",
    "thread_2 = threading.Thread(target=task_2)\n",
    "\n",
    "thread_1.start()\n",
    "thread_2.start()\n",
    "print(\"(Both threads have started)\")\n",
    "\n",
    "thread_1.join() # Wait for thread_1 to finish\n",
    "thread_2.join()\n",
    "print(\"\\nBoth threads have finished\")\n",
    "\n",
    "print(a)"
   ]
  },
  {
   "cell_type": "markdown",
   "metadata": {},
   "source": [
    " Notice that all threads share the same process memory space."
   ]
  },
  {
   "cell_type": "markdown",
   "metadata": {},
   "source": [
    "## Using processes"
   ]
  }
 ],
 "metadata": {
  "kernelspec": {
   "display_name": "Python 3",
   "language": "python",
   "name": "python3"
  },
  "language_info": {
   "codemirror_mode": {
    "name": "ipython",
    "version": 3
   },
   "file_extension": ".py",
   "mimetype": "text/x-python",
   "name": "python",
   "nbconvert_exporter": "python",
   "pygments_lexer": "ipython3",
   "version": "3.8.3"
  }
 },
 "nbformat": 4,
 "nbformat_minor": 2
}
