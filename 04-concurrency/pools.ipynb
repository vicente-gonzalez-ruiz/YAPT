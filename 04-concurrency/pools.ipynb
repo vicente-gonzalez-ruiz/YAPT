{
 "cells": [
  {
   "cell_type": "markdown",
   "metadata": {},
   "source": [
    "# Pools\n",
    "\n",
    "Pools are useful to exploit data paralelism."
   ]
  },
  {
   "cell_type": "markdown",
   "metadata": {},
   "source": [
    "## Using threads\n",
    "Useful if the task is IO-bound."
   ]
  },
  {
   "cell_type": "code",
   "execution_count": 3,
   "metadata": {},
   "outputs": [
    {
     "name": "stdout",
     "output_type": "stream",
     "text": [
      "ran task 5 in process 2455295\n",
      "ran task 4 in process 2455298\n",
      "ran task 3 in process 2455298\n",
      "ran task 2 in process 2455295\n",
      "ran task 1 in process 2455295\n"
     ]
    }
   ],
   "source": [
    "from concurrent import futures\n",
    "import os\n",
    "import time\n",
    "\n",
    "def task(n):\n",
    "    time.sleep(n)\n",
    "    return (n, os.getpid())\n",
    "\n",
    "ex = futures.ProcessPoolExecutor(max_workers=2)\n",
    "results = ex.map(task, range(5, 0, -1))\n",
    "for n, pid in results:\n",
    "    print('ran task {} in process {}'.format(n, pid))"
   ]
  },
  {
   "cell_type": "markdown",
   "metadata": {},
   "source": [
    "## Using processes\n",
    "Useful if the task is CPU-bound."
   ]
  },
  {
   "cell_type": "code",
   "execution_count": 4,
   "metadata": {},
   "outputs": [
    {
     "name": "stdout",
     "output_type": "stream",
     "text": [
      "ran task 5 in process 2432523\n",
      "ran task 4 in process 2432523\n",
      "ran task 3 in process 2432523\n",
      "ran task 2 in process 2432523\n",
      "ran task 1 in process 2432523\n"
     ]
    }
   ],
   "source": [
    "from concurrent import futures\n",
    "import os\n",
    "import time\n",
    "\n",
    "def task(n):\n",
    "    time.sleep(n)\n",
    "    return (n, os.getpid())\n",
    "\n",
    "ex = futures.ThreadPoolExecutor(max_workers=2)\n",
    "results = ex.map(task, range(5, 0, -1))\n",
    "for n, pid in results:\n",
    "    print('ran task {} in process {}'.format(n, pid))"
   ]
  },
  {
   "cell_type": "code",
   "execution_count": null,
   "metadata": {},
   "outputs": [],
   "source": []
  }
 ],
 "metadata": {
  "kernelspec": {
   "display_name": "Python 3",
   "language": "python",
   "name": "python3"
  },
  "language_info": {
   "codemirror_mode": {
    "name": "ipython",
    "version": 3
   },
   "file_extension": ".py",
   "mimetype": "text/x-python",
   "name": "python",
   "nbconvert_exporter": "python",
   "pygments_lexer": "ipython3",
   "version": "3.9.2"
  }
 },
 "nbformat": 4,
 "nbformat_minor": 4
}
