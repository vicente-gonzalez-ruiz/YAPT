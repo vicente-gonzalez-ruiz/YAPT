{
 "cells": [
  {
   "cell_type": "markdown",
   "metadata": {},
   "source": [
    "# [2] OpenCV\n",
    "```\n",
    "pip install opencv-python\n",
    "```"
   ]
  },
  {
   "cell_type": "markdown",
   "metadata": {},
   "source": [
    "## 1. Install OpenCV"
   ]
  },
  {
   "cell_type": "markdown",
   "metadata": {},
   "source": [
    "### 1.1. Compilation pre-requisites"
   ]
  },
  {
   "cell_type": "markdown",
   "metadata": {},
   "source": [
    "#### Mac OS X"
   ]
  },
  {
   "cell_type": "markdown",
   "metadata": {},
   "source": [
    "```\n",
    "brew install cmake pkg-config\n",
    "brew install jpeg libpng libtiff openexr\n",
    "brew install eigen tbb\n",
    "brew install python3\n",
    "```"
   ]
  },
  {
   "cell_type": "markdown",
   "metadata": {},
   "source": [
    "### 1.2. Download OpenCV"
   ]
  },
  {
   "cell_type": "markdown",
   "metadata": {},
   "source": [
    "#### Mac OS X"
   ]
  },
  {
   "cell_type": "markdown",
   "metadata": {},
   "source": [
    "```\n",
    "cd ~\n",
    "git clone https://github.com/Itseez/opencv.git\n",
    "cd opencv\n",
    "git checkout 3.1.0\n",
    "cd ~\n",
    "git clone https://github.com/Itseez/opencv_contrib\n",
    "cd opencv_contrib\n",
    "git checkout 3.1.0\n",
    "```"
   ]
  },
  {
   "cell_type": "markdown",
   "metadata": {},
   "source": [
    "### 1.3. Compile OpenCV"
   ]
  },
  {
   "cell_type": "markdown",
   "metadata": {},
   "source": [
    "#### Mac OS X"
   ]
  },
  {
   "cell_type": "markdown",
   "metadata": {},
   "source": [
    "```\n",
    "cd ~/opencv\n",
    "mkdir build\n",
    "cd build\n",
    "```\n",
    "\n",
    "```\n",
    "cmake -D CMAKE_BUILD_TYPE=RELEASE \\\n",
    "\t-D CMAKE_INSTALL_PREFIX=/usr/local \\\n",
    "\t-D PYTHON3_PACKAGES_PATH=~/.virtualenvs/cv3/lib/python3.4/site-packages \\\n",
    "\t-D PYTHON3_LIBRARY=/usr/local/Cellar/python3/3.5.2_2/Frameworks/Python.framework/Versions/3.5/lib/libpython3.5m.dylib \\\n",
    "\t-D PYTHON3_INCLUDE_DIR=/usr/local/Cellar/python3/3.5.2_2/Frameworks/Python.framework/Versions/3.5/include/python3.5m \\\n",
    "\t-D INSTALL_C_EXAMPLES=OFF \\\n",
    "\t-D INSTALL_PYTHON_EXAMPLES=ON \\\n",
    "\t-D BUILD_EXAMPLES=ON \\\n",
    "\t-D BUILD_opencv_python3=ON \\\n",
    "\t-D OPENCV_EXTRA_MODULES_PATH=~/opencv_contrib/modules ..\n",
    "    \n",
    "num_cores=`sysctl -n hw.ncpu`\n",
    "```\n",
    "\n",
    "```\n",
    "make -j$num_cores\n",
    "```"
   ]
  },
  {
   "cell_type": "markdown",
   "metadata": {},
   "source": [
    "### 1.4. Install"
   ]
  },
  {
   "cell_type": "markdown",
   "metadata": {},
   "source": [
    "#### Mac OS X"
   ]
  },
  {
   "cell_type": "markdown",
   "metadata": {},
   "source": [
    "```\n",
    "brew -v install opencv3 --HEAD --with-python3\n",
    "ln -s /usr/local/Cellar/opencv3/HEAD-b38d29b_4/lib/python3.5/site-packages/cv2.cpython-35m-darwin.so /Users/vruiz/.virtualenvs/cv3/lib/python3.5/site-packages/cv2.so\n",
    "```"
   ]
  },
  {
   "cell_type": "markdown",
   "metadata": {},
   "source": [
    "#### Ubuntu"
   ]
  },
  {
   "cell_type": "markdown",
   "metadata": {},
   "source": [
    "```\n",
    "sudo apt-get install libopencv-dev python-opencv\n",
    "pip install opencv-python\n",
    "```"
   ]
  },
  {
   "cell_type": "markdown",
   "metadata": {},
   "source": [
    "## 2. Display a remote image"
   ]
  },
  {
   "cell_type": "code",
   "execution_count": null,
   "metadata": {},
   "outputs": [],
   "source": [
    "import cv2\n",
    "import numpy as np\n",
    "import urllib.request\n",
    "from matplotlib import pyplot as plt\n",
    "%matplotlib inline\n",
    "\n",
    "HTTP_response = urllib.request.urlopen('http://www.hpca.ual.es/~vruiz/images/lena.png')\n",
    "arr = np.asarray(bytearray(HTTP_response.read()), dtype=np.uint8)\n",
    "BGR = cv2.imdecode(arr,-1)\n",
    "RGB = cv2.cvtColor(BGR, cv2.COLOR_BGR2RGB)\n",
    "plt.imshow(RGB)"
   ]
  },
  {
   "cell_type": "markdown",
   "metadata": {},
   "source": [
    "## 3. Change the color space"
   ]
  },
  {
   "cell_type": "code",
   "execution_count": null,
   "metadata": {},
   "outputs": [],
   "source": [
    "Y = cv2.cvtColor(BGR, cv2.COLOR_BGR2YCrCb)[:,:,0]\n",
    "plt.imshow(Y, cmap='gray')"
   ]
  },
  {
   "cell_type": "markdown",
   "metadata": {},
   "source": [
    "## 4. Extract a tile"
   ]
  },
  {
   "cell_type": "code",
   "execution_count": null,
   "metadata": {},
   "outputs": [],
   "source": [
    "template = Y[200:300,200:300]\n",
    "w, h = template.shape\n",
    "plt.imshow(template, cmap=\"gray\")"
   ]
  },
  {
   "cell_type": "markdown",
   "metadata": {},
   "source": [
    "## 5. Match a subimage inside of a image"
   ]
  },
  {
   "cell_type": "code",
   "execution_count": null,
   "metadata": {},
   "outputs": [],
   "source": [
    "res = cv2.matchTemplate(Y, template, cv2.TM_CCOEFF)\n",
    "plt.imshow(res, cmap=\"gray\")"
   ]
  },
  {
   "cell_type": "code",
   "execution_count": null,
   "metadata": {
    "collapsed": true
   },
   "outputs": [],
   "source": [
    "min_val, max_val, min_loc, max_loc = cv2.minMaxLoc(res)\n",
    "top_left = max_loc\n",
    "bottom_right = (top_left[0] + w, top_left[1] + h)"
   ]
  },
  {
   "cell_type": "code",
   "execution_count": null,
   "metadata": {},
   "outputs": [],
   "source": [
    "print(bottom_right)\n",
    "cv2.rectangle(RGB, top_left, bottom_right, (0,255,0), 3)\n",
    "plt.imshow(RGB, cmap=\"gray\")"
   ]
  }
 ],
 "metadata": {
  "kernelspec": {
   "display_name": "Python 3",
   "language": "python",
   "name": "python3"
  },
  "language_info": {
   "codemirror_mode": {
    "name": "ipython",
    "version": 3
   },
   "file_extension": ".py",
   "mimetype": "text/x-python",
   "name": "python",
   "nbconvert_exporter": "python",
   "pygments_lexer": "ipython3",
   "version": "3.6.3"
  }
 },
 "nbformat": 4,
 "nbformat_minor": 1
}
