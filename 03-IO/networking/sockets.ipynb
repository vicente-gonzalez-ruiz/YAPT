{
 "cells": [
  {
   "cell_type": "markdown",
   "metadata": {},
   "source": [
    "## Transmitting live data through the Internet\n",
    "Basically, when we want to transmit data between networked processes, two options are available:\n",
    "\n",
    "1. [TCP](https://en.wikipedia.org/wiki/Transmission_Control_Protocol): A \"reliable\" transport protocol with possiblely high transmission latencies. Reliability means that the operating systems will *try* to solve the transmission errors, if they happen, by using [ARQ](https://en.wikipedia.org/wiki/Automatic_repeat_request).\n",
    "2. [UDP](https://en.wikipedia.org/wiki/User_Datagram_Protocol): An unreliable transport protocol with a minimal (best-effort) transmission latencies. Unreliability means that the operating system will not try to fix any transmission error, if they happen (including the re-ordering of the packets).\n",
    "\n",
    "Because we are interested in minimizing the total latency as much as possible, we will use UDP."
   ]
  },
  {
   "cell_type": "markdown",
   "metadata": {},
   "source": [
    "## Some [`socket`](https://docs.python.org/3/library/socket.html) stuff in Python"
   ]
  },
  {
   "cell_type": "code",
   "execution_count": 92,
   "metadata": {},
   "outputs": [
    {
     "name": "stdout",
     "output_type": "stream",
     "text": [
      "socket created\n",
      "listening at ('0.0.0.0', 8001) ... \n",
      "socket created\n",
      "message b'hello world!' sent to destination ('localhost', 8001)received b'hello world!' from ('127.0.0.1', 51932)\n",
      "\n",
      "recived message = hello world!\n",
      "socket closed\n",
      "socket closed\n"
     ]
    }
   ],
   "source": [
    "import socket\n",
    "\n",
    "LISTENING_PORT = 8001\n",
    "\n",
    "class UDP_receiver():\n",
    "    # We use a context manager (https://docs.python.org/3/reference/datamodel.html#context-managers).\n",
    "    def __enter__(self):\n",
    "        '''Create an UDP socket and listen to it.'''\n",
    "        self.sock = socket.socket(socket.AF_INET, socket.SOCK_DGRAM)\n",
    "        print(\"socket created\")\n",
    "        self.sock.bind(('', LISTENING_PORT))\n",
    "        print(f\"listening at {self.sock.getsockname()} ... \")\n",
    "        return self\n",
    "\n",
    "    def receive(self):\n",
    "        '''Receive a datagram.'''\n",
    "        (message, from_addr) = self.sock.recvfrom(1024) # Blocking operation, 1024 is the maximum expected payload size.\n",
    "        print(f\"received {message} from {from_addr}\")\n",
    "        return message\n",
    "    \n",
    "    def __exit__(self,ext_type,exc_value,traceback):\n",
    "        '''Close the socket.'''\n",
    "        self.sock.close()\n",
    "        print(\"socket closed\")\n",
    "\n",
    "class UDP_sender():\n",
    "    def __enter__(self):\n",
    "        '''Create an UDP socket.'''\n",
    "        self.sock = socket.socket(socket.AF_INET, socket.SOCK_DGRAM)\n",
    "        print(\"socket created\")\n",
    "        return self\n",
    "\n",
    "    def send(self, message, destination):\n",
    "        '''Send data.'''\n",
    "        self.sock.sendto(message, destination)\n",
    "        print(f\"message {message} sent to destination {destination}\")\n",
    "\n",
    "    def __exit__(self,ext_type,exc_value,traceback):\n",
    "        '''Close the socket.'''\n",
    "        self.sock.close()\n",
    "        print(\"socket closed\")\n",
    "\n",
    "def wait_for_a_message():\n",
    "    with UDP_receiver() as receiver:\n",
    "        message = receiver.receive().decode(\"utf-8\")\n",
    "        print(f\"recived message = {message}\")\n",
    "\n",
    "def send_message():\n",
    "    with UDP_sender() as sender:\n",
    "        message = b\"hello world!\"\n",
    "        destination = ('localhost', LISTENING_PORT)\n",
    "        sender.send(message, destination)\n",
    "        \n",
    "import threading\n",
    "\n",
    "threading.Thread(target=wait_for_a_message).start()\n",
    "send_message()"
   ]
  },
  {
   "cell_type": "markdown",
   "metadata": {},
   "source": [
    "Notice that UDP is a datagram (independent packet) oriented protocol. The maximum packet size in UDP is 64 KB."
   ]
  }
 ],
 "metadata": {
  "kernelspec": {
   "display_name": "Python 3",
   "language": "python",
   "name": "python3"
  },
  "language_info": {
   "codemirror_mode": {
    "name": "ipython",
    "version": 3
   },
   "file_extension": ".py",
   "mimetype": "text/x-python",
   "name": "python",
   "nbconvert_exporter": "python",
   "pygments_lexer": "ipython3",
   "version": "3.8.3"
  },
  "toc": {
   "base_numbering": 1,
   "nav_menu": {},
   "number_sections": true,
   "sideBar": true,
   "skip_h1_title": false,
   "title_cell": "Table of Contents",
   "title_sidebar": "Contents",
   "toc_cell": true,
   "toc_position": {},
   "toc_section_display": true,
   "toc_window_display": true
  }
 },
 "nbformat": 4,
 "nbformat_minor": 4
}
