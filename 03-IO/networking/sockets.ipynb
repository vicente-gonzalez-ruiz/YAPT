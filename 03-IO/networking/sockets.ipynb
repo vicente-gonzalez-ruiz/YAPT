{
 "cells": [
  {
   "cell_type": "markdown",
   "metadata": {
    "toc": true
   },
   "source": [
    "<h1>Table of Contents<span class=\"tocSkip\"></span></h1>\n",
    "<div class=\"toc\"><ul class=\"toc-item\"><li><span><a href=\"#Transmitting-live-data-through-the-Internet\" data-toc-modified-id=\"Transmitting-live-data-through-the-Internet-1\"><span class=\"toc-item-num\">1&nbsp;&nbsp;</span>Transmitting live data through the Internet</a></span></li><li><span><a href=\"#Some-socket-stuff-in-Python\" data-toc-modified-id=\"Some-socket-stuff-in-Python-2\"><span class=\"toc-item-num\">2&nbsp;&nbsp;</span>Some <a href=\"https://docs.python.org/3/library/socket.html\" target=\"_blank\"><code>socket</code></a> stuff in Python</a></span></li><li><span><a href=\"#And-some-NumPy-stuff\" data-toc-modified-id=\"And-some-NumPy-stuff-3\"><span class=\"toc-item-num\">3&nbsp;&nbsp;</span>And some <a href=\"https://numpy.org\" target=\"_blank\">NumPy</a> stuff</a></span><ul class=\"toc-item\"><li><span><a href=\"#Array-declarations\" data-toc-modified-id=\"Array-declarations-3.1\"><span class=\"toc-item-num\">3.1&nbsp;&nbsp;</span>Array declarations</a></span></li><li><span><a href=\"#NumPy's-data-types\" data-toc-modified-id=\"NumPy's-data-types-3.2\"><span class=\"toc-item-num\">3.2&nbsp;&nbsp;</span>NumPy's data <a href=\"https://numpy.org/devdocs/user/basics.types.html\" target=\"_blank\">types</a></a></span></li><li><span><a href=\"#Slicing\" data-toc-modified-id=\"Slicing-3.3\"><span class=\"toc-item-num\">3.3&nbsp;&nbsp;</span>Slicing</a></span></li></ul></li></ul></div>"
   ]
  },
  {
   "cell_type": "markdown",
   "metadata": {},
   "source": [
    "## Transmitting live data through the Internet\n",
    "Basically, when we want to transmit data between networked processes, two options are available:\n",
    "\n",
    "1. [TCP](https://en.wikipedia.org/wiki/Transmission_Control_Protocol): A \"reliable\" transport protocol with possiblely high transmission latencies. Reliability means that the operating systems will *try* to solve the transmission errors, if they happen, by using [ARQ](https://en.wikipedia.org/wiki/Automatic_repeat_request).\n",
    "2. [UDP](https://en.wikipedia.org/wiki/User_Datagram_Protocol): An unreliable transport protocol with a minimal (best-effort) transmission latencies. Unreliability means that the operating system will not try to fix any transmission error, if they happen (including the re-ordering of the packets).\n",
    "\n",
    "Because we are interested in minimizing the total latency as much as possible, we will use UDP."
   ]
  },
  {
   "cell_type": "markdown",
   "metadata": {},
   "source": [
    "## Some [`socket`](https://docs.python.org/3/library/socket.html) stuff in Python"
   ]
  },
  {
   "cell_type": "code",
   "execution_count": 92,
   "metadata": {},
   "outputs": [
    {
     "name": "stdout",
     "output_type": "stream",
     "text": [
      "socket created\n",
      "listening at ('0.0.0.0', 8001) ... \n",
      "socket created\n",
      "message b'hello world!' sent to destination ('localhost', 8001)received b'hello world!' from ('127.0.0.1', 51932)\n",
      "\n",
      "recived message = hello world!\n",
      "socket closed\n",
      "socket closed\n"
     ]
    }
   ],
   "source": [
    "import socket\n",
    "\n",
    "LISTENING_PORT = 8001\n",
    "\n",
    "class UDP_receiver():\n",
    "    # We use a context manager (https://docs.python.org/3/reference/datamodel.html#context-managers).\n",
    "    def __enter__(self):\n",
    "        '''Create an UDP socket and listen to it.'''\n",
    "        self.sock = socket.socket(socket.AF_INET, socket.SOCK_DGRAM)\n",
    "        print(\"socket created\")\n",
    "        self.sock.bind(('', LISTENING_PORT))\n",
    "        print(f\"listening at {self.sock.getsockname()} ... \")\n",
    "        return self\n",
    "\n",
    "    def receive(self):\n",
    "        '''Receive a datagram.'''\n",
    "        (message, from_addr) = self.sock.recvfrom(1024) # Blocking operation, 1024 is the maximum expected payload size.\n",
    "        print(f\"received {message} from {from_addr}\")\n",
    "        return message\n",
    "    \n",
    "    def __exit__(self,ext_type,exc_value,traceback):\n",
    "        '''Close the socket.'''\n",
    "        self.sock.close()\n",
    "        print(\"socket closed\")\n",
    "\n",
    "class UDP_sender():\n",
    "    def __enter__(self):\n",
    "        '''Create an UDP socket.'''\n",
    "        self.sock = socket.socket(socket.AF_INET, socket.SOCK_DGRAM)\n",
    "        print(\"socket created\")\n",
    "        return self\n",
    "\n",
    "    def send(self, message, destination):\n",
    "        '''Send data.'''\n",
    "        self.sock.sendto(message, destination)\n",
    "        print(f\"message {message} sent to destination {destination}\")\n",
    "\n",
    "    def __exit__(self,ext_type,exc_value,traceback):\n",
    "        '''Close the socket.'''\n",
    "        self.sock.close()\n",
    "        print(\"socket closed\")\n",
    "\n",
    "def wait_for_a_message():\n",
    "    with UDP_receiver() as receiver:\n",
    "        message = receiver.receive().decode(\"utf-8\")\n",
    "        print(f\"recived message = {message}\")\n",
    "\n",
    "def send_message():\n",
    "    with UDP_sender() as sender:\n",
    "        message = b\"hello world!\"\n",
    "        destination = ('localhost', LISTENING_PORT)\n",
    "        sender.send(message, destination)\n",
    "        \n",
    "import threading\n",
    "\n",
    "threading.Thread(target=wait_for_a_message).start()\n",
    "send_message()"
   ]
  },
  {
   "cell_type": "markdown",
   "metadata": {},
   "source": [
    "Notice that UDP is a datagram (independent packet) oriented protocol. The maximum packet size in UDP is 64 KB."
   ]
  },
  {
   "cell_type": "markdown",
   "metadata": {},
   "source": [
    "## And some [NumPy](https://numpy.org) stuff\n",
    "Numpy extends lists in Python when we need to work with arrays of numbers, providing a higher performance (throught [vectorization](https://en.wikipedia.org/wiki/Array_programming)) and [functionality](https://numpy.org/doc/stable/reference/index.html)."
   ]
  },
  {
   "cell_type": "code",
   "execution_count": 2,
   "metadata": {},
   "outputs": [],
   "source": [
    "try:\n",
    "    import numpy as np\n",
    "except ModuleNotFoundError:\n",
    "    import os\n",
    "    os.system(\"pip3 install numpy --user\")\n",
    "    import numpy as np"
   ]
  },
  {
   "cell_type": "markdown",
   "metadata": {},
   "source": [
    "### Array declarations"
   ]
  },
  {
   "cell_type": "code",
   "execution_count": 5,
   "metadata": {},
   "outputs": [
    {
     "data": {
      "text/plain": [
       "[1, 2]"
      ]
     },
     "execution_count": 5,
     "metadata": {},
     "output_type": "execute_result"
    }
   ],
   "source": [
    "l = [1, 2]\n",
    "l"
   ]
  },
  {
   "cell_type": "code",
   "execution_count": 6,
   "metadata": {},
   "outputs": [
    {
     "data": {
      "text/plain": [
       "list"
      ]
     },
     "execution_count": 6,
     "metadata": {},
     "output_type": "execute_result"
    }
   ],
   "source": [
    "type(l)"
   ]
  },
  {
   "cell_type": "code",
   "execution_count": 4,
   "metadata": {},
   "outputs": [
    {
     "data": {
      "text/plain": [
       "array([1, 2])"
      ]
     },
     "execution_count": 4,
     "metadata": {},
     "output_type": "execute_result"
    }
   ],
   "source": [
    "A = np.array(l) # Use \"array\", not \"ndarray\"\n",
    "A"
   ]
  },
  {
   "cell_type": "code",
   "execution_count": 7,
   "metadata": {},
   "outputs": [
    {
     "data": {
      "text/plain": [
       "numpy.ndarray"
      ]
     },
     "execution_count": 7,
     "metadata": {},
     "output_type": "execute_result"
    }
   ],
   "source": [
    "type(A)"
   ]
  },
  {
   "cell_type": "code",
   "execution_count": 9,
   "metadata": {},
   "outputs": [
    {
     "data": {
      "text/plain": [
       "1"
      ]
     },
     "execution_count": 9,
     "metadata": {},
     "output_type": "execute_result"
    }
   ],
   "source": [
    "A[0]"
   ]
  },
  {
   "cell_type": "code",
   "execution_count": 12,
   "metadata": {},
   "outputs": [
    {
     "data": {
      "text/plain": [
       "array([[[0., 0., 0., 0.],\n",
       "        [0., 0., 0., 0.]],\n",
       "\n",
       "       [[0., 0., 0., 0.],\n",
       "        [0., 0., 0., 0.]],\n",
       "\n",
       "       [[0., 0., 0., 0.],\n",
       "        [0., 0., 0., 0.]]])"
      ]
     },
     "execution_count": 12,
     "metadata": {},
     "output_type": "execute_result"
    }
   ],
   "source": [
    "Z = np.zeros((3,2,4))\n",
    "Z"
   ]
  },
  {
   "cell_type": "markdown",
   "metadata": {},
   "source": [
    "### NumPy's data [types](https://numpy.org/devdocs/user/basics.types.html)"
   ]
  },
  {
   "cell_type": "code",
   "execution_count": 8,
   "metadata": {},
   "outputs": [
    {
     "data": {
      "text/plain": [
       "numpy.int64"
      ]
     },
     "execution_count": 8,
     "metadata": {},
     "output_type": "execute_result"
    }
   ],
   "source": [
    "type(A[0])"
   ]
  },
  {
   "cell_type": "code",
   "execution_count": 10,
   "metadata": {},
   "outputs": [
    {
     "data": {
      "text/plain": [
       "array([1., 2.], dtype=float32)"
      ]
     },
     "execution_count": 10,
     "metadata": {},
     "output_type": "execute_result"
    }
   ],
   "source": [
    "A = np.array(l, dtype=np.float32)\n",
    "A"
   ]
  },
  {
   "cell_type": "code",
   "execution_count": 11,
   "metadata": {},
   "outputs": [
    {
     "data": {
      "text/plain": [
       "numpy.float32"
      ]
     },
     "execution_count": 11,
     "metadata": {},
     "output_type": "execute_result"
    }
   ],
   "source": [
    "type(A[0])"
   ]
  },
  {
   "cell_type": "code",
   "execution_count": 13,
   "metadata": {},
   "outputs": [
    {
     "data": {
      "text/plain": [
       "array([[[0, 0, 0, 0],\n",
       "        [0, 0, 0, 0]],\n",
       "\n",
       "       [[0, 0, 0, 0],\n",
       "        [0, 0, 0, 0]],\n",
       "\n",
       "       [[0, 0, 0, 0],\n",
       "        [0, 0, 0, 0]]], dtype=uint8)"
      ]
     },
     "execution_count": 13,
     "metadata": {},
     "output_type": "execute_result"
    }
   ],
   "source": [
    "Z = np.zeros((3,2,4), dtype=np.uint8)\n",
    "Z"
   ]
  },
  {
   "cell_type": "code",
   "execution_count": 14,
   "metadata": {},
   "outputs": [
    {
     "data": {
      "text/plain": [
       "numpy.uint8"
      ]
     },
     "execution_count": 14,
     "metadata": {},
     "output_type": "execute_result"
    }
   ],
   "source": [
    "type(Z[1,1,1])"
   ]
  },
  {
   "cell_type": "markdown",
   "metadata": {},
   "source": [
    "### Slicing"
   ]
  },
  {
   "cell_type": "code",
   "execution_count": 15,
   "metadata": {},
   "outputs": [
    {
     "data": {
      "text/plain": [
       "array([  0,   1,   8,  27,  64, 125, 216, 343, 512, 729])"
      ]
     },
     "execution_count": 15,
     "metadata": {},
     "output_type": "execute_result"
    }
   ],
   "source": [
    "A = np.arange(10)**3\n",
    "A"
   ]
  },
  {
   "cell_type": "code",
   "execution_count": 16,
   "metadata": {},
   "outputs": [
    {
     "data": {
      "text/plain": [
       "8"
      ]
     },
     "execution_count": 16,
     "metadata": {},
     "output_type": "execute_result"
    }
   ],
   "source": [
    "A[2] # Indexing"
   ]
  },
  {
   "cell_type": "code",
   "execution_count": 17,
   "metadata": {},
   "outputs": [
    {
     "data": {
      "text/plain": [
       "array([ 8, 27])"
      ]
     },
     "execution_count": 17,
     "metadata": {},
     "output_type": "execute_result"
    }
   ],
   "source": [
    "A[2:4] # Indexing using slicing"
   ]
  },
  {
   "cell_type": "code",
   "execution_count": 18,
   "metadata": {},
   "outputs": [
    {
     "data": {
      "text/plain": [
       "array([  8,  27,  64, 125, 216, 343, 512, 729])"
      ]
     },
     "execution_count": 18,
     "metadata": {},
     "output_type": "execute_result"
    }
   ],
   "source": [
    "A[2:] # Slicing"
   ]
  },
  {
   "cell_type": "code",
   "execution_count": null,
   "metadata": {},
   "outputs": [],
   "source": []
  }
 ],
 "metadata": {
  "kernelspec": {
   "display_name": "Python 3",
   "language": "python",
   "name": "python3"
  },
  "language_info": {
   "codemirror_mode": {
    "name": "ipython",
    "version": 3
   },
   "file_extension": ".py",
   "mimetype": "text/x-python",
   "name": "python",
   "nbconvert_exporter": "python",
   "pygments_lexer": "ipython3",
   "version": "3.7.7"
  },
  "toc": {
   "base_numbering": 1,
   "nav_menu": {},
   "number_sections": true,
   "sideBar": true,
   "skip_h1_title": false,
   "title_cell": "Table of Contents",
   "title_sidebar": "Contents",
   "toc_cell": true,
   "toc_position": {},
   "toc_section_display": true,
   "toc_window_display": true
  }
 },
 "nbformat": 4,
 "nbformat_minor": 4
}
