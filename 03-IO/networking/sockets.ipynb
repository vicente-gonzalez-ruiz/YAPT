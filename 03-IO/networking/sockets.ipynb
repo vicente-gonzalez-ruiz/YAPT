{
 "cells": [
  {
   "cell_type": "markdown",
   "metadata": {},
   "source": [
    "# Some [`socket`](https://docs.python.org/3/library/socket.html) stuff in Python"
   ]
  },
  {
   "cell_type": "markdown",
   "metadata": {},
   "source": [
    "## Transmitting live data through the Internet\n",
    "Basically, when we want to transmit data between networked processes, two options are available:\n",
    "\n",
    "1. [TCP](https://en.wikipedia.org/wiki/Transmission_Control_Protocol): A \"reliable\" transport protocol with possiblely high transmission latencies. Reliability means that the operating systems will *try* to solve the transmission errors, if they happen, by using [ARQ](https://en.wikipedia.org/wiki/Automatic_repeat_request).\n",
    "2. [UDP](https://en.wikipedia.org/wiki/User_Datagram_Protocol): An unreliable transport protocol with a minimal (best-effort) transmission latencies. Unreliability means that the operating system will not try to fix any transmission error, if they happen (including the re-ordering of the packets)."
   ]
  },
  {
   "cell_type": "markdown",
   "metadata": {},
   "source": [
    "## Using UDP"
   ]
  },
  {
   "cell_type": "code",
   "execution_count": 1,
   "metadata": {},
   "outputs": [
    {
     "name": "stdout",
     "output_type": "stream",
     "text": [
      "socket created\n",
      "socket created\n",
      "listening at ('0.0.0.0', 8001) ... \n",
      "message b'hello world!' sent to destination ('localhost', 8001)received b'hello world!' from ('127.0.0.1', 37694)\n",
      "\n",
      "socket closedrecived message = hello world!\n",
      "socket closed\n",
      "\n"
     ]
    }
   ],
   "source": [
    "import socket\n",
    "\n",
    "LISTENING_PORT = 8001\n",
    "\n",
    "class UDP_receiver():\n",
    "    # We use a context manager (https://docs.python.org/3/reference/datamodel.html#context-managers).\n",
    "    def __enter__(self):\n",
    "        '''Create an UDP socket and listen to it.'''\n",
    "        self.sock = socket.socket(socket.AF_INET, socket.SOCK_DGRAM)\n",
    "        print(\"socket created\")\n",
    "        self.sock.bind(('', LISTENING_PORT))\n",
    "        print(f\"listening at {self.sock.getsockname()} ... \")\n",
    "        return self\n",
    "\n",
    "    def receive(self):\n",
    "        '''Receive a datagram.'''\n",
    "        (message, from_addr) = self.sock.recvfrom(1024) # Blocking operation, 1024 is the maximum expected payload size.\n",
    "        print(f\"received {message} from {from_addr}\")\n",
    "        return message\n",
    "    \n",
    "    def __exit__(self,ext_type,exc_value,traceback):\n",
    "        '''Close the socket.'''\n",
    "        self.sock.close()\n",
    "        print(\"socket closed\")\n",
    "\n",
    "class UDP_sender():\n",
    "    def __enter__(self):\n",
    "        '''Create an UDP socket.'''\n",
    "        self.sock = socket.socket(socket.AF_INET, socket.SOCK_DGRAM)\n",
    "        print(\"socket created\")\n",
    "        return self\n",
    "\n",
    "    def send(self, message, destination):\n",
    "        '''Send data.'''\n",
    "        self.sock.sendto(message, destination)\n",
    "        print(f\"message {message} sent to destination {destination}\")\n",
    "\n",
    "    def __exit__(self,ext_type,exc_value,traceback):\n",
    "        '''Close the socket.'''\n",
    "        self.sock.close()\n",
    "        print(\"socket closed\")\n",
    "\n",
    "def wait_for_a_message():\n",
    "    with UDP_receiver() as receiver:\n",
    "        message = receiver.receive().decode(\"utf-8\")\n",
    "        print(f\"recived message = {message}\")\n",
    "\n",
    "def send_message():\n",
    "    with UDP_sender() as sender:\n",
    "        message = b\"hello world!\"\n",
    "        destination = ('localhost', LISTENING_PORT)\n",
    "        sender.send(message, destination)\n",
    "        \n",
    "import threading\n",
    "\n",
    "threading.Thread(target=wait_for_a_message).start()\n",
    "send_message()"
   ]
  },
  {
   "cell_type": "markdown",
   "metadata": {},
   "source": [
    "Notice that UDP is a datagram (independent packet) oriented protocol. The maximum packet size in UDP is 64 KB."
   ]
  },
  {
   "cell_type": "markdown",
   "metadata": {},
   "source": [
    "## Using TCP"
   ]
  },
  {
   "cell_type": "code",
   "execution_count": 1,
   "metadata": {},
   "outputs": [
    {
     "name": "stdout",
     "output_type": "stream",
     "text": [
      "waiting for a connection at ('0.0.0.0', 8001) ...\n"
     ]
    }
   ],
   "source": [
    "# This code creates a TCP receiver daemon\n",
    "\n",
    "import socket\n",
    "\n",
    "PORT = 8001\n",
    "\n",
    "class TCP_Receiver():\n",
    "\n",
    "    # We use a context manager for implementing this \"server\"\n",
    "    # (https://docs.python.org/3/reference/datamodel.html#context-managers).\n",
    "    # This method is run when the \"with\" context is created (see below).\n",
    "    def __enter__(self):\n",
    "        '''Create a TCP socket.'''\n",
    "        self.sock = socket.socket(socket.AF_INET, socket.SOCK_STREAM)\n",
    "        self.sock.bind(('', PORT))\n",
    "        self.sock.listen(1)\n",
    "        print('waiting for a connection at {} ...'\\\n",
    "              .format(self.sock.getsockname()))\n",
    "        return self\n",
    "\n",
    "    def accept(self):\n",
    "        (self.peer_sock, peer) = self.sock.accept()\n",
    "        print('\\nconnection accepted from {}'.format(peer))\n",
    "\n",
    "    def receive(self):\n",
    "        message_final_length = len('hello world!')\n",
    "        message = bytearray()   # bytearray is mutable and therefore,\n",
    "                                # faster appending than inmutable types\n",
    "        while len(message) < message_final_length:\n",
    "            chunk = self.peer_sock.recv(message_final_length - len(message))\n",
    "            if chunk == b'':\n",
    "                raise RuntimeError(\"socket connection broken\")\n",
    "            message.extend(chunk)\n",
    "        #print('receivedddd \"{}\"'.format(message.decode(\"utf-8\")))\n",
    "        return message\n",
    "    \n",
    "    # This method is run when the \"with\" context is finised (see below).\n",
    "    def __exit__(self,ext_type,exc_value,traceback):\n",
    "        self.sock.close()\n",
    "        print('socket closed')\n",
    "\n",
    "def receiver_server():\n",
    "    with TCP_Receiver() as recv:\n",
    "        recv.accept()\n",
    "        print('message = {}'.format(recv.receive().decode(\"utf-8\")))\n",
    "        \n",
    "import threading\n",
    "\n",
    "threading.Thread(target=receiver_server).start()"
   ]
  },
  {
   "cell_type": "code",
   "execution_count": 2,
   "metadata": {},
   "outputs": [
    {
     "name": "stdout",
     "output_type": "stream",
     "text": [
      "connection established with ('127.0.0.1', 8001)\n",
      "connection accepted from ('127.0.0.1', 36920)\n",
      "\n",
      "message = hello world!\n",
      "socket closed\n"
     ]
    }
   ],
   "source": [
    "# Now, we connect to the server.\n",
    "\n",
    "# 1. Create a TCP socket \n",
    "sock = socket.socket(socket.AF_INET, socket.SOCK_STREAM)\n",
    "sock.connect(('localhost', PORT))\n",
    "print('connection established with {}'.format((sock.getpeername())))\n",
    "\n",
    "# 2. Send a string to the server.\n",
    "message = b'hello world!'\n",
    "total_sent = 0 # bytes\n",
    "while total_sent < len(message):\n",
    "    sent = sock.send(message[total_sent:])\n",
    "    if sent == 0:\n",
    "        raise RuntimeError(\"socket connection broken\")\n",
    "    total_sent += sent\n",
    "sock.close()"
   ]
  }
 ],
 "metadata": {
  "kernelspec": {
   "display_name": "Python 3",
   "language": "python",
   "name": "python3"
  },
  "language_info": {
   "codemirror_mode": {
    "name": "ipython",
    "version": 3
   },
   "file_extension": ".py",
   "mimetype": "text/x-python",
   "name": "python",
   "nbconvert_exporter": "python",
   "pygments_lexer": "ipython3",
   "version": "3.8.3"
  },
  "toc": {
   "base_numbering": 1,
   "nav_menu": {},
   "number_sections": true,
   "sideBar": true,
   "skip_h1_title": false,
   "title_cell": "Table of Contents",
   "title_sidebar": "Contents",
   "toc_cell": true,
   "toc_position": {},
   "toc_section_display": true,
   "toc_window_display": true
  }
 },
 "nbformat": 4,
 "nbformat_minor": 4
}
