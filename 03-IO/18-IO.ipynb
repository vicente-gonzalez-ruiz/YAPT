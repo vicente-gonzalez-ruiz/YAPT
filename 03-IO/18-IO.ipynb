{
 "cells": [
  {
   "cell_type": "markdown",
   "metadata": {
    "toc": true
   },
   "source": [
    "<h1>Table of Contents<span class=\"tocSkip\"></span></h1>\n",
    "<div class=\"toc\"><ul class=\"toc-item\"><li><span><a href=\"#I/O\" data-toc-modified-id=\"I/O-1\"><span class=\"toc-item-num\">1&nbsp;&nbsp;</span>I/O</a></span><ul class=\"toc-item\"><li><span><a href=\"#Contents\" data-toc-modified-id=\"Contents-1.1\"><span class=\"toc-item-num\">1.1&nbsp;&nbsp;</span>Contents</a></span></li><li><span><a href=\"#1.-Input-from-the-code\" data-toc-modified-id=\"1.-Input-from-the-code-1.2\"><span class=\"toc-item-num\">1.2&nbsp;&nbsp;</span>1. Input from the code</a></span></li><li><span><a href=\"#2.-Input-from-the-OS-prompt\" data-toc-modified-id=\"2.-Input-from-the-OS-prompt-1.3\"><span class=\"toc-item-num\">1.3&nbsp;&nbsp;</span>2. Input from the OS prompt</a></span><ul class=\"toc-item\"><li><span><a href=\"#Another-posibility-is-to-use-Fire:\" data-toc-modified-id=\"Another-posibility-is-to-use-Fire:-1.3.1\"><span class=\"toc-item-num\">1.3.1&nbsp;&nbsp;</span>Another posibility is to use Fire:</a></span></li></ul></li><li><span><a href=\"#3.-Disk\" data-toc-modified-id=\"3.-Disk-1.4\"><span class=\"toc-item-num\">1.4&nbsp;&nbsp;</span>3. Disk</a></span><ul class=\"toc-item\"><li><span><a href=\"#Opening-modes\" data-toc-modified-id=\"Opening-modes-1.4.1\"><span class=\"toc-item-num\">1.4.1&nbsp;&nbsp;</span>Opening modes</a></span></li><li><span><a href=\"#Binary-VS-Text-modes\" data-toc-modified-id=\"Binary-VS-Text-modes-1.4.2\"><span class=\"toc-item-num\">1.4.2&nbsp;&nbsp;</span>Binary VS Text modes</a></span></li><li><span><a href=\"#Persistence-of-objects-(serialization)-...-in-disk\" data-toc-modified-id=\"Persistence-of-objects-(serialization)-...-in-disk-1.4.3\"><span class=\"toc-item-num\">1.4.3&nbsp;&nbsp;</span>Persistence of objects (serialization) ... in disk</a></span></li></ul></li><li><span><a href=\"#4.-Network\" data-toc-modified-id=\"4.-Network-1.5\"><span class=\"toc-item-num\">1.5&nbsp;&nbsp;</span>4. Network</a></span></li></ul></li></ul></div>"
   ]
  },
  {
   "cell_type": "markdown",
   "metadata": {},
   "source": [
    "# I/O"
   ]
  },
  {
   "cell_type": "markdown",
   "metadata": {},
   "source": [
    "## Contents\n",
    "1. [\"I\" from the code](#input).\n",
    "2. [\"I\" from the prompt](#prompt).\n",
    "3. [\"I/O\" from/to the disk](#disk).\n",
    "4. [\"I/O\" from/to the network](#network)."
   ]
  },
  {
   "cell_type": "markdown",
   "metadata": {},
   "source": [
    "<a id='input'></a>\n",
    "## 1. Input from the code"
   ]
  },
  {
   "cell_type": "code",
   "execution_count": null,
   "metadata": {},
   "outputs": [],
   "source": [
    "a = input('Please, enter something: ')\n",
    "print('You entered:', a)"
   ]
  },
  {
   "cell_type": "markdown",
   "metadata": {
    "collapsed": true
   },
   "source": [
    "<a id='prompt'></a>\n",
    "## 2. Input from the OS prompt"
   ]
  },
  {
   "cell_type": "code",
   "execution_count": null,
   "metadata": {},
   "outputs": [],
   "source": [
    "!cat argparse_example.py"
   ]
  },
  {
   "cell_type": "code",
   "execution_count": null,
   "metadata": {},
   "outputs": [],
   "source": [
    "!python argparse_example.py -h"
   ]
  },
  {
   "cell_type": "code",
   "execution_count": null,
   "metadata": {},
   "outputs": [],
   "source": [
    "!python argparse_example.py -i abc"
   ]
  },
  {
   "cell_type": "markdown",
   "metadata": {},
   "source": [
    "### Another posibility is to use Fire:"
   ]
  },
  {
   "cell_type": "code",
   "execution_count": null,
   "metadata": {},
   "outputs": [],
   "source": [
    "%%writefile using_fire.py\n",
    "import fire\n",
    "\n",
    "class A():\n",
    "    def do_something(self, x, y):\n",
    "        print('Doing something with:', y, x)\n",
    "        \n",
    "fire.Fire(A)"
   ]
  },
  {
   "cell_type": "code",
   "execution_count": null,
   "metadata": {},
   "outputs": [],
   "source": [
    "!python using_fire.py"
   ]
  },
  {
   "cell_type": "code",
   "execution_count": null,
   "metadata": {},
   "outputs": [],
   "source": [
    "!python using_fire.py do-something hola caracola"
   ]
  },
  {
   "cell_type": "markdown",
   "metadata": {},
   "source": [
    "<a id='disk'></a>\n",
    "## 3. Disk"
   ]
  },
  {
   "cell_type": "code",
   "execution_count": null,
   "metadata": {},
   "outputs": [],
   "source": [
    "import io"
   ]
  },
  {
   "cell_type": "markdown",
   "metadata": {},
   "source": [
    "Write some integers:"
   ]
  },
  {
   "cell_type": "code",
   "execution_count": null,
   "metadata": {},
   "outputs": [],
   "source": [
    "# The legacy way:\n",
    "file = open('/tmp/some_integers_1.txt', 'w')\n",
    "file.write('{}\\n'.format(1))\n",
    "file.write('{}\\n'.format(2))\n",
    "file.write('{}\\n'.format(3))\n",
    "file.close()"
   ]
  },
  {
   "cell_type": "code",
   "execution_count": null,
   "metadata": {},
   "outputs": [],
   "source": [
    "!cat /tmp/some_integers_1.txt"
   ]
  },
  {
   "cell_type": "code",
   "execution_count": null,
   "metadata": {},
   "outputs": [],
   "source": [
    "# The modern (pythonic) alternative:\n",
    "with io.open('/tmp/some_integers_2.txt', 'w') as file:\n",
    "    file.write('{}\\n'.format(1))\n",
    "    file.write('{}\\n'.format(2))\n",
    "    file.write('{}\\n'.format(3))"
   ]
  },
  {
   "cell_type": "code",
   "execution_count": null,
   "metadata": {},
   "outputs": [],
   "source": [
    "file.closed"
   ]
  },
  {
   "cell_type": "code",
   "execution_count": null,
   "metadata": {},
   "outputs": [],
   "source": [
    "!cat /tmp/some_integers_2.txt"
   ]
  },
  {
   "cell_type": "markdown",
   "metadata": {},
   "source": [
    "Reading the file:"
   ]
  },
  {
   "cell_type": "code",
   "execution_count": null,
   "metadata": {},
   "outputs": [],
   "source": [
    "# The classic alternative:\n",
    "file = io.open('/tmp/some_integers_1.txt', 'r')\n",
    "while True:\n",
    "    line = file.readline()\n",
    "    if not line:\n",
    "        break\n",
    "#for i in range(3):\n",
    "    print(int(line))\n",
    "file.close()"
   ]
  },
  {
   "cell_type": "code",
   "execution_count": null,
   "metadata": {},
   "outputs": [],
   "source": [
    "# The pythonic alternarive:\n",
    "with io.open('/tmp/some_integers_2.txt', 'r') as file:\n",
    "    for line in file:\n",
    "        print(int(line))"
   ]
  },
  {
   "cell_type": "code",
   "execution_count": null,
   "metadata": {},
   "outputs": [],
   "source": [
    "file.closed"
   ]
  },
  {
   "cell_type": "markdown",
   "metadata": {},
   "source": [
    "### Opening modes\n",
    "1. `r`: Opens file for reading.\n",
    "2. `w`: Creates file for writting. Overwrites if exists.\n",
    "3. `a`: Opens file for appending (pointer at the end). Creates if does not exist.\n",
    "4. `r+`: Opens file for reading and writting. Does not overwrite. Does not create.\n",
    "5. `w+`: Opens file for reading and writting. Overwrites. Creates if does not exist.\n",
    "6. `a+`: Opens file for appending (pointer at the end) and reading. Creates if does not exist."
   ]
  },
  {
   "cell_type": "markdown",
   "metadata": {},
   "source": [
    "### Binary VS Text modes"
   ]
  },
  {
   "cell_type": "markdown",
   "metadata": {},
   "source": [
    "In the previous examples we have used the text mode for handling files, which basicaly means that we have using strings which can be edited with a text editor. On the other hand, binary files can not edited with a text editor, but are shorter than text files when storing numbers. The following code is the alternative to the previous one using binary mode."
   ]
  },
  {
   "cell_type": "code",
   "execution_count": null,
   "metadata": {},
   "outputs": [],
   "source": [
    "import struct # See https://docs.python.org/3/library/struct.html#format-characters"
   ]
  },
  {
   "cell_type": "code",
   "execution_count": null,
   "metadata": {},
   "outputs": [],
   "source": [
    "with io.open('/tmp/some_integers_2.bin', 'wb') as file:\n",
    "    file.write(struct.pack('h', 1)) # 2 bytes, signed int\n",
    "    file.write(struct.pack('h', 2)) # 2 bytes, signed int\n",
    "    file.write(struct.pack('i', 3)) # 4 bytes, signed int"
   ]
  },
  {
   "cell_type": "code",
   "execution_count": null,
   "metadata": {},
   "outputs": [],
   "source": [
    "with io.open('/tmp/some_integers_2.bin', 'rb') as file:\n",
    "    print(struct.unpack('h', file.read(struct.calcsize('h')))[0])\n",
    "    print(struct.unpack('h', file.read(struct.calcsize('h')))[0])\n",
    "    print(struct.unpack('i', file.read(struct.calcsize('i')))[0])"
   ]
  },
  {
   "cell_type": "markdown",
   "metadata": {},
   "source": [
    "### Persistence of objects (serialization) ... in disk"
   ]
  },
  {
   "cell_type": "code",
   "execution_count": null,
   "metadata": {},
   "outputs": [],
   "source": [
    "import pickle\n",
    "list = ['red', 'green', 'blue']\n",
    "pickle.dump(list, open('list.dat','wb'))"
   ]
  },
  {
   "cell_type": "code",
   "execution_count": null,
   "metadata": {},
   "outputs": [],
   "source": [
    "list2 = pickle.load(open('list.dat', 'rb'))\n",
    "list2"
   ]
  },
  {
   "cell_type": "markdown",
   "metadata": {},
   "source": [
    "<a id='network'></a>\n",
    "## 4. Network"
   ]
  },
  {
   "cell_type": "markdown",
   "metadata": {},
   "source": [
    "Using TCP:"
   ]
  },
  {
   "cell_type": "code",
   "execution_count": null,
   "metadata": {},
   "outputs": [],
   "source": [
    "# This code creates a TCP receiver daemon\n",
    "\n",
    "import socket\n",
    "\n",
    "PORT = 8001\n",
    "\n",
    "class TCP_Receiver():\n",
    "\n",
    "    # We use a context manager for implementing this \"server\"\n",
    "    # (https://docs.python.org/3/reference/datamodel.html#context-managers).\n",
    "    # This method is run when the \"with\" context is created (see below).\n",
    "    def __enter__(self):\n",
    "        '''Create a TCP socket.'''\n",
    "        self.sock = socket.socket(socket.AF_INET, socket.SOCK_STREAM)\n",
    "        self.sock.bind(('', PORT))\n",
    "        self.sock.listen(1)\n",
    "        print('waiting for a connection at {} ...'\\\n",
    "              .format(self.sock.getsockname()))\n",
    "        return self\n",
    "\n",
    "    def accept(self):\n",
    "        (self.peer_sock, peer) = self.sock.accept()\n",
    "        print('\\nconnection accepted from {}'.format(peer))\n",
    "\n",
    "    def receive(self):\n",
    "        message_final_length = len('hello world!')\n",
    "        message = bytearray()   # bytearray is mutable and therefore,\n",
    "                                # faster appending than inmutable types\n",
    "        while len(message) < message_final_length:\n",
    "            chunk = self.peer_sock.recv(message_final_length - len(message))\n",
    "            if chunk == b'':\n",
    "                raise RuntimeError(\"socket connection broken\")\n",
    "            message.extend(chunk)\n",
    "        #print('receivedddd \"{}\"'.format(message.decode(\"utf-8\")))\n",
    "        return message\n",
    "    \n",
    "    # This method is run when the \"with\" context is finised (see below).\n",
    "    def __exit__(self,ext_type,exc_value,traceback):\n",
    "        self.sock.close()\n",
    "        print('socket closed')\n",
    "\n",
    "def receiver_server():\n",
    "    with TCP_Receiver() as recv:\n",
    "        recv.accept()\n",
    "        print('message = {}'.format(recv.receive().decode(\"utf-8\")))\n",
    "        \n",
    "import threading\n",
    "\n",
    "threading.Thread(target=receiver_server).start()"
   ]
  },
  {
   "cell_type": "code",
   "execution_count": null,
   "metadata": {},
   "outputs": [],
   "source": [
    "# Now, we connect to the server.\n",
    "\n",
    "# 1. Create a TCP socket \n",
    "sock = socket.socket(socket.AF_INET, socket.SOCK_STREAM)\n",
    "sock.connect(('localhost', PORT))\n",
    "print('connection established with {}'.format((sock.getpeername())))\n",
    "\n",
    "# 2. Send a string to the server.\n",
    "message = b'hello world!'\n",
    "total_sent = 0 # bytes\n",
    "while total_sent < len(message):\n",
    "    sent = sock.send(message[total_sent:])\n",
    "    if sent == 0:\n",
    "        raise RuntimeError(\"socket connection broken\")\n",
    "    total_sent += sent\n",
    "sock.close()"
   ]
  },
  {
   "cell_type": "markdown",
   "metadata": {},
   "source": [
    "Using UDP:"
   ]
  },
  {
   "cell_type": "code",
   "execution_count": null,
   "metadata": {},
   "outputs": [],
   "source": [
    "import socket\n",
    "\n",
    "PORT = 8001\n",
    "\n",
    "class UDP_Receiver():\n",
    "\n",
    "    # We use a context manager (https://docs.python.org/3/reference/datamodel.html#context-managers).\n",
    "    def __enter__(self):\n",
    "        '''Create an UDP socket.'''\n",
    "        self.sock = socket.socket(socket.AF_INET, socket.SOCK_DGRAM)\n",
    "        self.sock.bind(('', PORT))\n",
    "        print('listening at {} ...'\\\n",
    "              .format(self.sock.getsockname()))\n",
    "        return self\n",
    "\n",
    "    def receive(self):\n",
    "        (message, from_addr) = self.sock.recvfrom(1024)\n",
    "        print('received {} from {}'.format(message, from_addr))\n",
    "        return message\n",
    "    \n",
    "    def __exit__(self,ext_type,exc_value,traceback):\n",
    "        self.sock.close()\n",
    "        print('socket closed')\n",
    "\n",
    "def use_socket():\n",
    "    with UDP_Receiver() as recv:\n",
    "        print('message = {}'.format(recv.receive().decode(\"utf-8\")))\n",
    "        \n",
    "import threading\n",
    "\n",
    "threading.Thread(target=use_socket).start()"
   ]
  },
  {
   "cell_type": "code",
   "execution_count": null,
   "metadata": {},
   "outputs": [],
   "source": [
    "# Create a UDP socket \n",
    "sock = socket.socket(socket.AF_INET, socket.SOCK_DGRAM)\n",
    "message = b'hello world!'\n",
    "sock.sendto(message, ('localhost', PORT))\n",
    "sock.close()"
   ]
  }
 ],
 "metadata": {
  "kernelspec": {
   "display_name": "Python 3",
   "language": "python",
   "name": "python3"
  },
  "language_info": {
   "codemirror_mode": {
    "name": "ipython",
    "version": 3
   },
   "file_extension": ".py",
   "mimetype": "text/x-python",
   "name": "python",
   "nbconvert_exporter": "python",
   "pygments_lexer": "ipython3",
   "version": "3.8.3"
  },
  "toc": {
   "base_numbering": 1,
   "nav_menu": {},
   "number_sections": true,
   "sideBar": true,
   "skip_h1_title": false,
   "title_cell": "Table of Contents",
   "title_sidebar": "Contents",
   "toc_cell": true,
   "toc_position": {},
   "toc_section_display": true,
   "toc_window_display": true
  }
 },
 "nbformat": 4,
 "nbformat_minor": 1
}
