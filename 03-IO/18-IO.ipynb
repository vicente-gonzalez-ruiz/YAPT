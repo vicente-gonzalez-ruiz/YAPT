{
 "cells": [
  {
   "cell_type": "markdown",
   "metadata": {},
   "source": [
    "<a id='network'></a>\n",
    "## 4. Network"
   ]
  },
  {
   "cell_type": "markdown",
   "metadata": {},
   "source": [
    "Using TCP:"
   ]
  },
  {
   "cell_type": "code",
   "execution_count": null,
   "metadata": {},
   "outputs": [],
   "source": [
    "# This code creates a TCP receiver daemon\n",
    "\n",
    "import socket\n",
    "\n",
    "PORT = 8001\n",
    "\n",
    "class TCP_Receiver():\n",
    "\n",
    "    # We use a context manager for implementing this \"server\"\n",
    "    # (https://docs.python.org/3/reference/datamodel.html#context-managers).\n",
    "    # This method is run when the \"with\" context is created (see below).\n",
    "    def __enter__(self):\n",
    "        '''Create a TCP socket.'''\n",
    "        self.sock = socket.socket(socket.AF_INET, socket.SOCK_STREAM)\n",
    "        self.sock.bind(('', PORT))\n",
    "        self.sock.listen(1)\n",
    "        print('waiting for a connection at {} ...'\\\n",
    "              .format(self.sock.getsockname()))\n",
    "        return self\n",
    "\n",
    "    def accept(self):\n",
    "        (self.peer_sock, peer) = self.sock.accept()\n",
    "        print('\\nconnection accepted from {}'.format(peer))\n",
    "\n",
    "    def receive(self):\n",
    "        message_final_length = len('hello world!')\n",
    "        message = bytearray()   # bytearray is mutable and therefore,\n",
    "                                # faster appending than inmutable types\n",
    "        while len(message) < message_final_length:\n",
    "            chunk = self.peer_sock.recv(message_final_length - len(message))\n",
    "            if chunk == b'':\n",
    "                raise RuntimeError(\"socket connection broken\")\n",
    "            message.extend(chunk)\n",
    "        #print('receivedddd \"{}\"'.format(message.decode(\"utf-8\")))\n",
    "        return message\n",
    "    \n",
    "    # This method is run when the \"with\" context is finised (see below).\n",
    "    def __exit__(self,ext_type,exc_value,traceback):\n",
    "        self.sock.close()\n",
    "        print('socket closed')\n",
    "\n",
    "def receiver_server():\n",
    "    with TCP_Receiver() as recv:\n",
    "        recv.accept()\n",
    "        print('message = {}'.format(recv.receive().decode(\"utf-8\")))\n",
    "        \n",
    "import threading\n",
    "\n",
    "threading.Thread(target=receiver_server).start()"
   ]
  },
  {
   "cell_type": "code",
   "execution_count": null,
   "metadata": {},
   "outputs": [],
   "source": [
    "# Now, we connect to the server.\n",
    "\n",
    "# 1. Create a TCP socket \n",
    "sock = socket.socket(socket.AF_INET, socket.SOCK_STREAM)\n",
    "sock.connect(('localhost', PORT))\n",
    "print('connection established with {}'.format((sock.getpeername())))\n",
    "\n",
    "# 2. Send a string to the server.\n",
    "message = b'hello world!'\n",
    "total_sent = 0 # bytes\n",
    "while total_sent < len(message):\n",
    "    sent = sock.send(message[total_sent:])\n",
    "    if sent == 0:\n",
    "        raise RuntimeError(\"socket connection broken\")\n",
    "    total_sent += sent\n",
    "sock.close()"
   ]
  },
  {
   "cell_type": "markdown",
   "metadata": {},
   "source": [
    "Using UDP:"
   ]
  },
  {
   "cell_type": "code",
   "execution_count": 1,
   "metadata": {},
   "outputs": [
    {
     "name": "stdout",
     "output_type": "stream",
     "text": [
      "listening at ('0.0.0.0', 8001) ...\n"
     ]
    }
   ],
   "source": [
    "import socket\n",
    "\n",
    "PORT = 8001\n",
    "\n",
    "class UDP_Receiver():\n",
    "\n",
    "    # We use a context manager (https://docs.python.org/3/reference/datamodel.html#context-managers).\n",
    "    def __enter__(self):\n",
    "        '''Create an UDP socket.'''\n",
    "        self.sock = socket.socket(socket.AF_INET, socket.SOCK_DGRAM)\n",
    "        self.sock.bind(('', PORT))\n",
    "        print('listening at {} ...'\\\n",
    "              .format(self.sock.getsockname()))\n",
    "        return self\n",
    "\n",
    "    def receive(self):\n",
    "        (message, from_addr) = self.sock.recvfrom(1024)\n",
    "        print('received {} from {}'.format(message, from_addr))\n",
    "        return message\n",
    "    \n",
    "    def __exit__(self,ext_type,exc_value,traceback):\n",
    "        self.sock.close()\n",
    "        print('socket closed')\n",
    "\n",
    "def use_socket():\n",
    "    with UDP_Receiver() as recv:\n",
    "        print('message = {}'.format(recv.receive().decode(\"utf-8\")))\n",
    "        \n",
    "import threading\n",
    "\n",
    "threading.Thread(target=use_socket).start()"
   ]
  },
  {
   "cell_type": "code",
   "execution_count": 2,
   "metadata": {},
   "outputs": [
    {
     "name": "stdout",
     "output_type": "stream",
     "text": [
      "received b'hello world!' from ('127.0.0.1', 33342)\n",
      "message = hello world!\n",
      "socket closed\n"
     ]
    }
   ],
   "source": [
    "# Create a UDP socket \n",
    "sock = socket.socket(socket.AF_INET, socket.SOCK_DGRAM)\n",
    "message = b'hello world!'\n",
    "sock.sendto(message, ('localhost', PORT))\n",
    "sock.close()"
   ]
  },
  {
   "cell_type": "code",
   "execution_count": null,
   "metadata": {},
   "outputs": [],
   "source": []
  }
 ],
 "metadata": {
  "kernelspec": {
   "display_name": "Python 3",
   "language": "python",
   "name": "python3"
  },
  "language_info": {
   "codemirror_mode": {
    "name": "ipython",
    "version": 3
   },
   "file_extension": ".py",
   "mimetype": "text/x-python",
   "name": "python",
   "nbconvert_exporter": "python",
   "pygments_lexer": "ipython3",
   "version": "3.8.3"
  },
  "toc": {
   "base_numbering": 1,
   "nav_menu": {},
   "number_sections": true,
   "sideBar": true,
   "skip_h1_title": false,
   "title_cell": "Table of Contents",
   "title_sidebar": "Contents",
   "toc_cell": true,
   "toc_position": {},
   "toc_section_display": true,
   "toc_window_display": true
  }
 },
 "nbformat": 4,
 "nbformat_minor": 1
}
