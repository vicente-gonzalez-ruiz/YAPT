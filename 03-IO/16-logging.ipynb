{
 "cells": [
  {
   "cell_type": "markdown",
   "metadata": {
    "deletable": true,
    "editable": true
   },
   "source": [
    "# [1] Logging\n",
    "Useful for checking what is happening (or happened) with the execution of a Python scripts, specially when they run as daemons."
   ]
  },
  {
   "cell_type": "code",
   "execution_count": null,
   "metadata": {
    "collapsed": false,
    "deletable": true,
    "editable": true
   },
   "outputs": [],
   "source": [
    "# https://python.swaroopch.com/stdlib.html\n",
    "\n",
    "import os\n",
    "import platform\n",
    "import logging\n",
    "\n",
    "if platform.platform().startswith('Windows'):\n",
    "    logging_file = os.path.join(os.getenv('HOMEDRIVE'),\n",
    "                                os.getenv('HOMEPATH'),\n",
    "                                'test.log')\n",
    "    print('This is a Windows machine')\n",
    "else:\n",
    "    logging_file = os.path.join(os.getenv('HOME'),\n",
    "                                'test.log')\n",
    "    print('This is a Unix machine')\n",
    "\n",
    "print(\"Logging to\", logging_file)\n",
    "\n",
    "logging.basicConfig(\n",
    "    level=logging.INFO, # DEBUG > INFO > WARNING\n",
    "    format='%(asctime)s : %(levelname)s : %(message)s',\n",
    "    filename=logging_file,\n",
    "    filemode='w',\n",
    ")\n",
    "\n",
    "logging.debug(\"This is a debugging message\")\n",
    "logging.warning(\"This is a warning message\")\n",
    "logging.info(\"This is a information message\")"
   ]
  },
  {
   "cell_type": "code",
   "execution_count": null,
   "metadata": {
    "collapsed": false,
    "deletable": true,
    "editable": true
   },
   "outputs": [],
   "source": [
    "! cat $HOME/test.log"
   ]
  },
  {
   "cell_type": "code",
   "execution_count": null,
   "metadata": {
    "collapsed": false,
    "deletable": true,
    "editable": true
   },
   "outputs": [],
   "source": [
    "! cat $HOME/test.log | grep INFO"
   ]
  }
 ],
 "metadata": {
  "kernelspec": {
   "display_name": "yapt",
   "language": "python",
   "name": "yapt"
  },
  "language_info": {
   "codemirror_mode": {
    "name": "ipython",
    "version": 3
   },
   "file_extension": ".py",
   "mimetype": "text/x-python",
   "name": "python",
   "nbconvert_exporter": "python",
   "pygments_lexer": "ipython3",
   "version": "3.5.2"
  }
 },
 "nbformat": 4,
 "nbformat_minor": 1
}
