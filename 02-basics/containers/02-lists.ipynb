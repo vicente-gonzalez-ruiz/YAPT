{
 "cells": [
  {
   "cell_type": "markdown",
   "metadata": {
    "toc": true
   },
   "source": [
    "<h1>Table of Contents<span class=\"tocSkip\"></span></h1>\n",
    "<div class=\"toc\"><ul class=\"toc-item\"><li><span><a href=\"#Containers\" data-toc-modified-id=\"Containers-1\"><span class=\"toc-item-num\">1&nbsp;&nbsp;</span>Containers</a></span><ul class=\"toc-item\"><li><span><a href=\"#1.-Tuples\" data-toc-modified-id=\"1.-Tuples-1.1\"><span class=\"toc-item-num\">1.1&nbsp;&nbsp;</span>1. Tuples</a></span><ul class=\"toc-item\"><li><span><a href=\"#1.1-Tuples-are-(as-the-rest-of-elements-of-Python)-objects\" data-toc-modified-id=\"1.1-Tuples-are-(as-the-rest-of-elements-of-Python)-objects-1.1.1\"><span class=\"toc-item-num\">1.1.1&nbsp;&nbsp;</span>1.1 Tuples are (as the rest of elements of Python) objects</a></span></li><li><span><a href=\"#1.2.-Tuple-definition\" data-toc-modified-id=\"1.2.-Tuple-definition-1.1.2\"><span class=\"toc-item-num\">1.1.2&nbsp;&nbsp;</span>1.2. Tuple definition</a></span></li><li><span><a href=\"#1.3.-Counting-ocurrences-in-tuples\" data-toc-modified-id=\"1.3.-Counting-ocurrences-in-tuples-1.1.3\"><span class=\"toc-item-num\">1.1.3&nbsp;&nbsp;</span>1.3. Counting ocurrences in tuples</a></span></li><li><span><a href=\"#1.4.-Searching-for-an-item-in-a-tuple\" data-toc-modified-id=\"1.4.-Searching-for-an-item-in-a-tuple-1.1.4\"><span class=\"toc-item-num\">1.1.4&nbsp;&nbsp;</span>1.4. Searching for an item in a tuple</a></span></li><li><span><a href=\"#1.5.-Slicing-in-tuples\" data-toc-modified-id=\"1.5.-Slicing-in-tuples-1.1.5\"><span class=\"toc-item-num\">1.1.5&nbsp;&nbsp;</span>1.5. Slicing in tuples</a></span></li><li><span><a href=\"#1.6.-Functions-can-return-tuples\" data-toc-modified-id=\"1.6.-Functions-can-return-tuples-1.1.6\"><span class=\"toc-item-num\">1.1.6&nbsp;&nbsp;</span>1.6. Functions can return tuples</a></span></li><li><span><a href=\"#1.7.-Swapping-pairs-with-tuples-is-fun!\" data-toc-modified-id=\"1.7.-Swapping-pairs-with-tuples-is-fun!-1.1.7\"><span class=\"toc-item-num\">1.1.7&nbsp;&nbsp;</span>1.7. Swapping pairs with tuples is fun!</a></span></li><li><span><a href=\"#1.8.-Tuples-are-inmutable\" data-toc-modified-id=\"1.8.-Tuples-are-inmutable-1.1.8\"><span class=\"toc-item-num\">1.1.8&nbsp;&nbsp;</span>1.8. Tuples are inmutable</a></span></li></ul></li><li><span><a href=\"#2.-[0]-Lists\" data-toc-modified-id=\"2.-[0]-Lists-1.2\"><span class=\"toc-item-num\">1.2&nbsp;&nbsp;</span>2. [0] <a href=\"https://docs.python.org/3.7/library/stdtypes.html#sequence-types-list-tuple-range\" target=\"_blank\">Lists</a></a></span><ul class=\"toc-item\"><li><span><a href=\"#2.1-[1]-(Of-course)-lists-are-objects\" data-toc-modified-id=\"2.1-[1]-(Of-course)-lists-are-objects-1.2.1\"><span class=\"toc-item-num\">1.2.1&nbsp;&nbsp;</span>2.1 [1] (Of course) lists are objects</a></span></li><li><span><a href=\"#2.2-[0]-Appending-items-to-a-list-(O(1))\" data-toc-modified-id=\"2.2-[0]-Appending-items-to-a-list-(O(1))-1.2.2\"><span class=\"toc-item-num\">1.2.2&nbsp;&nbsp;</span>2.2 [0] Appending items to a list (O(1))</a></span></li><li><span><a href=\"#2.3-[0]-Inserting-items-(O(n))\" data-toc-modified-id=\"2.3-[0]-Inserting-items-(O(n))-1.2.3\"><span class=\"toc-item-num\">1.2.3&nbsp;&nbsp;</span>2.3 [0] Inserting items (O(n))</a></span></li><li><span><a href=\"#2.4-[0]-Deleting-items-from-a-list-by-content-(O(n)))\" data-toc-modified-id=\"2.4-[0]-Deleting-items-from-a-list-by-content-(O(n)))-1.2.4\"><span class=\"toc-item-num\">1.2.4&nbsp;&nbsp;</span>2.4 [0] Deleting items from a list by content (O(n)))</a></span></li><li><span><a href=\"#2.4-[0]-Deleting-items-from-the-begin-of-the-list-(O(1)))\" data-toc-modified-id=\"2.4-[0]-Deleting-items-from-the-begin-of-the-list-(O(1)))-1.2.5\"><span class=\"toc-item-num\">1.2.5&nbsp;&nbsp;</span>2.4 [0] Deleting items from the begin of the list (O(1)))</a></span></li><li><span><a href=\"#2.4-[0]-Deleting-items-from-the-end-of-the-list-(O(1)))\" data-toc-modified-id=\"2.4-[0]-Deleting-items-from-the-end-of-the-list-(O(1)))-1.2.6\"><span class=\"toc-item-num\">1.2.6&nbsp;&nbsp;</span>2.4 [0] Deleting items from the end of the list (O(1)))</a></span></li><li><span><a href=\"#2.5-[0]-Sorting-the-elements-of-a-list-(O(n-log-n))\" data-toc-modified-id=\"2.5-[0]-Sorting-the-elements-of-a-list-(O(n-log-n))-1.2.7\"><span class=\"toc-item-num\">1.2.7&nbsp;&nbsp;</span>2.5 [0] Sorting the elements of a list (O(n log n))</a></span></li><li><span><a href=\"#2.6-[1]-Erasing-all-list-items-(O(1))\" data-toc-modified-id=\"2.6-[1]-Erasing-all-list-items-(O(1))-1.2.8\"><span class=\"toc-item-num\">1.2.8&nbsp;&nbsp;</span>2.6 [1] Erasing all list items (O(1))</a></span></li><li><span><a href=\"#2.7-[0]-List-slicing-(O(s))\" data-toc-modified-id=\"2.7-[0]-List-slicing-(O(s))-1.2.9\"><span class=\"toc-item-num\">1.2.9&nbsp;&nbsp;</span>2.7 [0] List slicing (O(s))</a></span></li><li><span><a href=\"#2.8-[1]-Defining-lists-with-list-comprehensions:\" data-toc-modified-id=\"2.8-[1]-Defining-lists-with-list-comprehensions:-1.2.10\"><span class=\"toc-item-num\">1.2.10&nbsp;&nbsp;</span>2.8 [1] Defining lists with <a href=\"http://www.secnetix.de/olli/Python/list_comprehensions.hawk\" target=\"_blank\"><em>list comprehensions</em></a>:</a></span></li><li><span><a href=\"#2.9-[1]-Lists-are-mutable-objects\" data-toc-modified-id=\"2.9-[1]-Lists-are-mutable-objects-1.2.11\"><span class=\"toc-item-num\">1.2.11&nbsp;&nbsp;</span>2.9 [1] Lists are mutable objects</a></span></li></ul></li><li><span><a href=\"#3.-[0]--Sets\" data-toc-modified-id=\"3.-[0]--Sets-1.3\"><span class=\"toc-item-num\">1.3&nbsp;&nbsp;</span>3. [0]  <a href=\"https://docs.python.org/3.7/library/stdtypes.html#set-types-set-frozenset\" target=\"_blank\">Sets</a></a></span><ul class=\"toc-item\"><li><span><a href=\"#3.2.-[0]-Sets-can-grow-(O(1))\" data-toc-modified-id=\"3.2.-[0]-Sets-can-grow-(O(1))-1.3.1\"><span class=\"toc-item-num\">1.3.1&nbsp;&nbsp;</span>3.2. [0] Sets can grow (O(1))</a></span></li><li><span><a href=\"#3.3.-[0]-Sets-can-not-contain-dupplicate-objects\" data-toc-modified-id=\"3.3.-[0]-Sets-can-not-contain-dupplicate-objects-1.3.2\"><span class=\"toc-item-num\">1.3.2&nbsp;&nbsp;</span>3.3. [0] Sets can not contain dupplicate objects</a></span></li><li><span><a href=\"#3.4.-[1]-Sets-can-not-contain-mutable-objects\" data-toc-modified-id=\"3.4.-[1]-Sets-can-not-contain-mutable-objects-1.3.3\"><span class=\"toc-item-num\">1.3.3&nbsp;&nbsp;</span>3.4. [1] Sets can not contain mutable objects</a></span></li><li><span><a href=\"#3.5-[0]-Intersection-of-sets-(O(min(len(s),-len(t)))\" data-toc-modified-id=\"3.5-[0]-Intersection-of-sets-(O(min(len(s),-len(t)))-1.3.4\"><span class=\"toc-item-num\">1.3.4&nbsp;&nbsp;</span>3.5 [0] Intersection of sets (O(min(len(s), len(t)))</a></span></li><li><span><a href=\"#3.6-[0]-Union-of-sets-(O(len(s)+len(t)))\" data-toc-modified-id=\"3.6-[0]-Union-of-sets-(O(len(s)+len(t)))-1.3.5\"><span class=\"toc-item-num\">1.3.5&nbsp;&nbsp;</span>3.6 [0] Union of sets (O(len(s)+len(t)))</a></span></li><li><span><a href=\"#3.7.-[0]-Sets-are-MUCH-more-efficient-for-searching-by-content-than-lists\" data-toc-modified-id=\"3.7.-[0]-Sets-are-MUCH-more-efficient-for-searching-by-content-than-lists-1.3.6\"><span class=\"toc-item-num\">1.3.6&nbsp;&nbsp;</span>3.7. [0] Sets are MUCH more <a href=\"https://wiki.python.org/moin/TimeComplexity\" target=\"_blank\">efficient for searching by content</a> than lists</a></span></li></ul></li><li><span><a href=\"#4-[0]-Dictionaries\" data-toc-modified-id=\"4-[0]-Dictionaries-1.4\"><span class=\"toc-item-num\">1.4&nbsp;&nbsp;</span>4 [0] <a href=\"https://docs.python.org/3.7/library/stdtypes.html#dict\" target=\"_blank\">Dictionaries</a></a></span><ul class=\"toc-item\"><li><span><a href=\"#4.1-[0]-Static-definition-of-a-dictionary\" data-toc-modified-id=\"4.1-[0]-Static-definition-of-a-dictionary-1.4.1\"><span class=\"toc-item-num\">1.4.1&nbsp;&nbsp;</span>4.1 [0] Static definition of a dictionary</a></span></li><li><span><a href=\"#4.2-[0]-Indexing-of-a-dictionary-by-a-key-(O(1))\" data-toc-modified-id=\"4.2-[0]-Indexing-of-a-dictionary-by-a-key-(O(1))-1.4.2\"><span class=\"toc-item-num\">1.4.2&nbsp;&nbsp;</span>4.2 [0] Indexing of a dictionary by a key (O(1))</a></span></li><li><span><a href=\"#4.3-[0]-Testing-if-a-key-is-the-dictionary-(O(1))\" data-toc-modified-id=\"4.3-[0]-Testing-if-a-key-is-the-dictionary-(O(1))-1.4.3\"><span class=\"toc-item-num\">1.4.3&nbsp;&nbsp;</span>4.3 [0] Testing if a key is the dictionary (O(1))</a></span></li><li><span><a href=\"#4.4-[1]-Getting-the-keys-(O(n))\" data-toc-modified-id=\"4.4-[1]-Getting-the-keys-(O(n))-1.4.4\"><span class=\"toc-item-num\">1.4.4&nbsp;&nbsp;</span>4.4 [1] Getting the keys (O(n))</a></span></li><li><span><a href=\"#4.5-[1]-Getting-the-values-(O(n))\" data-toc-modified-id=\"4.5-[1]-Getting-the-values-(O(n))-1.4.5\"><span class=\"toc-item-num\">1.4.5&nbsp;&nbsp;</span>4.5 [1] Getting the values (O(n))</a></span></li><li><span><a href=\"#4.4-[1]-Determining-the-position-of-a-key-in-a-dictionary-(O(n))\" data-toc-modified-id=\"4.4-[1]-Determining-the-position-of-a-key-in-a-dictionary-(O(n))-1.4.6\"><span class=\"toc-item-num\">1.4.6&nbsp;&nbsp;</span>4.4 [1] Determining the position of a key in a dictionary (O(n))</a></span></li><li><span><a href=\"#4.6-[0]-Inserting-a-new-entry-(O(1))\" data-toc-modified-id=\"4.6-[0]-Inserting-a-new-entry-(O(1))-1.4.7\"><span class=\"toc-item-num\">1.4.7&nbsp;&nbsp;</span>4.6 [0] Inserting a new entry (O(1))</a></span></li><li><span><a href=\"#[0]-4.7-Deleting-an-entry-(O(1))\" data-toc-modified-id=\"[0]-4.7-Deleting-an-entry-(O(1))-1.4.8\"><span class=\"toc-item-num\">1.4.8&nbsp;&nbsp;</span>[0] 4.7 Deleting an entry (O(1))</a></span></li><li><span><a href=\"#4.8-[1]-Dictionaries-are-mutable\" data-toc-modified-id=\"4.8-[1]-Dictionaries-are-mutable-1.4.9\"><span class=\"toc-item-num\">1.4.9&nbsp;&nbsp;</span>4.8 [1] Dictionaries are mutable</a></span></li><li><span><a href=\"#4.9-[0]-Looping-a-dictionary-(O(n))\" data-toc-modified-id=\"4.9-[0]-Looping-a-dictionary-(O(n))-1.4.10\"><span class=\"toc-item-num\">1.4.10&nbsp;&nbsp;</span>4.9 [0] Looping a dictionary (O(n))</a></span></li></ul></li><li><span><a href=\"#5.-Bytes\" data-toc-modified-id=\"5.-Bytes-1.5\"><span class=\"toc-item-num\">1.5&nbsp;&nbsp;</span>5. <a href=\"http://python-para-impacientes.blogspot.com.es/2014/07/tipos-de-cadenas-unicode-byte-y.html\" target=\"_blank\">Bytes</a></a></span><ul class=\"toc-item\"><li><span><a href=\"#5.1.-Creation-of-bytes-sequence\" data-toc-modified-id=\"5.1.-Creation-of-bytes-sequence-1.5.1\"><span class=\"toc-item-num\">1.5.1&nbsp;&nbsp;</span>5.1. Creation of bytes sequence</a></span></li><li><span><a href=\"#5.2.-Indexing-in-a-bytes-sequence\" data-toc-modified-id=\"5.2.-Indexing-in-a-bytes-sequence-1.5.2\"><span class=\"toc-item-num\">1.5.2&nbsp;&nbsp;</span>5.2. Indexing in a bytes sequence</a></span></li><li><span><a href=\"#5.3.-Concatenation-of-bytes-sequences\" data-toc-modified-id=\"5.3.-Concatenation-of-bytes-sequences-1.5.3\"><span class=\"toc-item-num\">1.5.3&nbsp;&nbsp;</span>5.3. Concatenation of bytes sequences</a></span></li><li><span><a href=\"#5.4.-Bytes-are-inmutable\" data-toc-modified-id=\"5.4.-Bytes-are-inmutable-1.5.4\"><span class=\"toc-item-num\">1.5.4&nbsp;&nbsp;</span>5.4. Bytes are inmutable</a></span></li></ul></li><li><span><a href=\"#6.-Bytearray\" data-toc-modified-id=\"6.-Bytearray-1.6\"><span class=\"toc-item-num\">1.6&nbsp;&nbsp;</span>6. <a href=\"http://ze.phyr.us/bytearray/\" target=\"_blank\">Bytearray</a></a></span></li><li><span><a href=\"#7.-Arrays\" data-toc-modified-id=\"7.-Arrays-1.7\"><span class=\"toc-item-num\">1.7&nbsp;&nbsp;</span>7. <a href=\"https://docs.python.org/3/library/array.html\" target=\"_blank\">Arrays</a></a></span><ul class=\"toc-item\"><li><span><a href=\"#Element-access\" data-toc-modified-id=\"Element-access-1.7.1\"><span class=\"toc-item-num\">1.7.1&nbsp;&nbsp;</span>Element access</a></span></li><li><span><a href=\"#Slice-access\" data-toc-modified-id=\"Slice-access-1.7.2\"><span class=\"toc-item-num\">1.7.2&nbsp;&nbsp;</span>Slice access</a></span></li><li><span><a href=\"#Appending-elements\" data-toc-modified-id=\"Appending-elements-1.7.3\"><span class=\"toc-item-num\">1.7.3&nbsp;&nbsp;</span>Appending elements</a></span></li><li><span><a href=\"#Concatenating-arrays\" data-toc-modified-id=\"Concatenating-arrays-1.7.4\"><span class=\"toc-item-num\">1.7.4&nbsp;&nbsp;</span>Concatenating arrays</a></span></li><li><span><a href=\"#Deleting-elements\" data-toc-modified-id=\"Deleting-elements-1.7.5\"><span class=\"toc-item-num\">1.7.5&nbsp;&nbsp;</span>Deleting elements</a></span></li></ul></li></ul></li></ul></div>"
   ]
  },
  {
   "cell_type": "markdown",
   "metadata": {},
   "source": [
    "# Containers"
   ]
  },
  {
   "cell_type": "markdown",
   "metadata": {},
   "source": [
    "1. Tuples.\n",
    "2. Lists.\n",
    "3. Sets.\n",
    "4. Dictionaries.\n",
    "5. Bytes.\n",
    "6. Bytearrays.\n",
    "7. Arrays."
   ]
  },
  {
   "cell_type": "markdown",
   "metadata": {},
   "source": [
    "## 1. Tuples\n",
    "A [tuples](https://en.wikipedia.org/wiki/Tuple) groups multiple (possiblely with different types) objects. They can be compared to (static) structures of other languages."
   ]
  },
  {
   "cell_type": "markdown",
   "metadata": {},
   "source": [
    "### 1.1 Tuples are (as the rest of elements of Python) objects"
   ]
  },
  {
   "cell_type": "code",
   "execution_count": null,
   "metadata": {},
   "outputs": [],
   "source": [
    "print(type(()))"
   ]
  },
  {
   "cell_type": "code",
   "execution_count": null,
   "metadata": {},
   "outputs": [],
   "source": [
    "help(())"
   ]
  },
  {
   "cell_type": "markdown",
   "metadata": {},
   "source": [
    "### 1.2. Tuple definition"
   ]
  },
  {
   "cell_type": "markdown",
   "metadata": {},
   "source": [
    "And some timing ... :-)"
   ]
  },
  {
   "cell_type": "code",
   "execution_count": null,
   "metadata": {},
   "outputs": [],
   "source": [
    "!python -m timeit \"x = (1, 'a', 'b', 'a')\""
   ]
  },
  {
   "cell_type": "code",
   "execution_count": null,
   "metadata": {},
   "outputs": [],
   "source": [
    "a = (1, 'a', 'b', 'a')"
   ]
  },
  {
   "cell_type": "markdown",
   "metadata": {},
   "source": [
    "### 1.3. Counting ocurrences in tuples"
   ]
  },
  {
   "cell_type": "code",
   "execution_count": null,
   "metadata": {},
   "outputs": [],
   "source": [
    "a.count('a')"
   ]
  },
  {
   "cell_type": "markdown",
   "metadata": {},
   "source": [
    "### 1.4. Searching for an item in a tuple"
   ]
  },
  {
   "cell_type": "code",
   "execution_count": null,
   "metadata": {},
   "outputs": [],
   "source": [
    "a.index('b')"
   ]
  },
  {
   "cell_type": "markdown",
   "metadata": {},
   "source": [
    "### 1.5. Slicing in tuples"
   ]
  },
  {
   "cell_type": "code",
   "execution_count": null,
   "metadata": {},
   "outputs": [],
   "source": [
    "a"
   ]
  },
  {
   "cell_type": "code",
   "execution_count": null,
   "metadata": {},
   "outputs": [],
   "source": [
    "a[2] # The 3-rd item"
   ]
  },
  {
   "cell_type": "code",
   "execution_count": null,
   "metadata": {},
   "outputs": [],
   "source": [
    "a[2:1] # Extract the tuple from the 2-nd item to the 1-st one"
   ]
  },
  {
   "cell_type": "code",
   "execution_count": null,
   "metadata": {},
   "outputs": [],
   "source": [
    "a[2:2] # Extract from the 2-nd item to the 2-nd item"
   ]
  },
  {
   "cell_type": "code",
   "execution_count": null,
   "metadata": {},
   "outputs": [],
   "source": [
    "a[2:3] # Extract from the 2-nd item to the 3-rd one"
   ]
  },
  {
   "cell_type": "code",
   "execution_count": null,
   "metadata": {},
   "outputs": [],
   "source": [
    "a[2:4] # Extract one item more"
   ]
  },
  {
   "cell_type": "code",
   "execution_count": null,
   "metadata": {},
   "outputs": [],
   "source": [
    "a[1:] # Extract from the 1-st to the end"
   ]
  },
  {
   "cell_type": "code",
   "execution_count": null,
   "metadata": {},
   "outputs": [],
   "source": [
    "a[:] # Extract all items (a==a[:])"
   ]
  },
  {
   "cell_type": "markdown",
   "metadata": {},
   "source": [
    "### 1.6. Functions can return tuples"
   ]
  },
  {
   "cell_type": "code",
   "execution_count": null,
   "metadata": {},
   "outputs": [],
   "source": [
    "def return_tuple():\n",
    "    return (1, 'a', 2)\n",
    "print(return_tuple())"
   ]
  },
  {
   "cell_type": "markdown",
   "metadata": {},
   "source": [
    "### 1.7. Swapping pairs with tuples is fun!"
   ]
  },
  {
   "cell_type": "code",
   "execution_count": null,
   "metadata": {},
   "outputs": [],
   "source": [
    "a = 1; b = 2\n",
    "print(a, b)\n",
    "(a, b) = (b, a)\n",
    "print(a, b)"
   ]
  },
  {
   "cell_type": "markdown",
   "metadata": {},
   "source": [
    "### 1.8. Tuples are inmutable\n",
    "They can not grow:"
   ]
  },
  {
   "cell_type": "code",
   "execution_count": null,
   "metadata": {},
   "outputs": [],
   "source": [
    "a = (1, 'a')\n",
    "print(id(a),a)"
   ]
  },
  {
   "cell_type": "code",
   "execution_count": null,
   "metadata": {},
   "outputs": [],
   "source": [
    "a += (2,) # This creates a new instance of 'a'\n",
    "print(id(a),a)"
   ]
  },
  {
   "cell_type": "markdown",
   "metadata": {
    "collapsed": true
   },
   "source": [
    "... or be changed:"
   ]
  },
  {
   "cell_type": "code",
   "execution_count": null,
   "metadata": {},
   "outputs": [],
   "source": [
    "a[1] = 2"
   ]
  },
  {
   "cell_type": "markdown",
   "metadata": {},
   "source": [
    "Tuples are inmutable!"
   ]
  },
  {
   "cell_type": "code",
   "execution_count": null,
   "metadata": {},
   "outputs": [],
   "source": [
    "a = 1; b = 2\n",
    "print('\"a\" is in', id(a))\n",
    "t = (a, b)\n",
    "print('\"t\" is in', id(t), 'and contains', t)\n",
    "a = 3\n",
    "print('\"a\" is in', id(a))\n",
    "print('\"t\" is in', id(t), 'and contains', t)"
   ]
  },
  {
   "cell_type": "markdown",
   "metadata": {},
   "source": [
    "## 2. [0] [Lists](https://docs.python.org/3.7/library/stdtypes.html#sequence-types-list-tuple-range)\n",
    "A [list](https://en.wikipedia.org/wiki/List_%28abstract_data_type%29) is a data (usually dynamic) structure that holds a collection of objects, which can have different types. Internally, a [list is represented as an array](https://wiki.python.org/moin/TimeComplexity), therefore, lists are fast for appending and for set/pop/getting an item, and slow for removing an internal item."
   ]
  },
  {
   "cell_type": "code",
   "execution_count": null,
   "metadata": {},
   "outputs": [],
   "source": [
    "help([])"
   ]
  },
  {
   "cell_type": "markdown",
   "metadata": {},
   "source": [
    "### 2.1 [1] (Of course) lists are objects"
   ]
  },
  {
   "cell_type": "code",
   "execution_count": null,
   "metadata": {},
   "outputs": [],
   "source": [
    "print(type([]));"
   ]
  },
  {
   "cell_type": "code",
   "execution_count": null,
   "metadata": {},
   "outputs": [],
   "source": [
    "!python -m timeit \"x = [1, 'a', 'b', 'a']\" # List creation is more expensive than tuple creation"
   ]
  },
  {
   "cell_type": "markdown",
   "metadata": {},
   "source": [
    "(Tuples are about three times faster)"
   ]
  },
  {
   "cell_type": "code",
   "execution_count": null,
   "metadata": {},
   "outputs": [],
   "source": [
    "a = [] # Empty list definition"
   ]
  },
  {
   "cell_type": "markdown",
   "metadata": {},
   "source": [
    "### 2.2 [0] Appending items to a list (O(1))"
   ]
  },
  {
   "cell_type": "code",
   "execution_count": null,
   "metadata": {},
   "outputs": [],
   "source": [
    "a.append('Hello')\n",
    "a.append('world!')\n",
    "a"
   ]
  },
  {
   "cell_type": "markdown",
   "metadata": {},
   "source": [
    "Python lists can be \"promiscuous\":"
   ]
  },
  {
   "cell_type": "code",
   "execution_count": null,
   "metadata": {},
   "outputs": [],
   "source": [
    "a.append(100)\n",
    "a"
   ]
  },
  {
   "cell_type": "markdown",
   "metadata": {},
   "source": [
    "### 2.3 [0] Inserting items (O(n))"
   ]
  },
  {
   "cell_type": "code",
   "execution_count": null,
   "metadata": {},
   "outputs": [],
   "source": [
    "a.insert(1,'wave!')\n",
    "a"
   ]
  },
  {
   "cell_type": "markdown",
   "metadata": {},
   "source": [
    "### 2.4 [0] Deleting items from a list by content (O(n)))"
   ]
  },
  {
   "cell_type": "code",
   "execution_count": null,
   "metadata": {},
   "outputs": [],
   "source": [
    "a.remove('Hello')\n",
    "a"
   ]
  },
  {
   "cell_type": "code",
   "execution_count": null,
   "metadata": {
    "scrolled": true
   },
   "outputs": [],
   "source": [
    "b = ['a', 'b', 'a']; b.remove('a'); print(b)"
   ]
  },
  {
   "cell_type": "markdown",
   "metadata": {},
   "source": [
    "### 2.4 [0] Deleting items from the begin of the list (O(1)))"
   ]
  },
  {
   "cell_type": "code",
   "execution_count": null,
   "metadata": {},
   "outputs": [],
   "source": [
    "a.pop(0)"
   ]
  },
  {
   "cell_type": "markdown",
   "metadata": {},
   "source": [
    "### 2.4 [0] Deleting items from the end of the list (O(1)))"
   ]
  },
  {
   "cell_type": "code",
   "execution_count": null,
   "metadata": {
    "scrolled": true
   },
   "outputs": [],
   "source": [
    "print(a)\n",
    "a.pop(len(a)-1) # By index, equivalent to \"del a[0]\"\n",
    "print(a)"
   ]
  },
  {
   "cell_type": "markdown",
   "metadata": {},
   "source": [
    "### 2.5 [0] Sorting the elements of a list (O(n log n))"
   ]
  },
  {
   "cell_type": "code",
   "execution_count": null,
   "metadata": {},
   "outputs": [],
   "source": [
    "a = []\n",
    "a.append('c')\n",
    "a.append('b')\n",
    "a.append('a')\n",
    "a"
   ]
  },
  {
   "cell_type": "code",
   "execution_count": null,
   "metadata": {},
   "outputs": [],
   "source": [
    "a.sort()\n",
    "a"
   ]
  },
  {
   "cell_type": "code",
   "execution_count": null,
   "metadata": {},
   "outputs": [],
   "source": [
    "a.reverse()\n",
    "a"
   ]
  },
  {
   "cell_type": "code",
   "execution_count": null,
   "metadata": {},
   "outputs": [],
   "source": [
    "# Indexing\n",
    "print(a[1])   # Second element\n",
    "print(a[-1])  # Last element\n",
    "print(a[100]) # Error"
   ]
  },
  {
   "cell_type": "code",
   "execution_count": null,
   "metadata": {},
   "outputs": [],
   "source": [
    "a+a"
   ]
  },
  {
   "cell_type": "code",
   "execution_count": null,
   "metadata": {},
   "outputs": [],
   "source": [
    "a*3"
   ]
  },
  {
   "cell_type": "code",
   "execution_count": null,
   "metadata": {},
   "outputs": [],
   "source": [
    "a[::-1]"
   ]
  },
  {
   "cell_type": "code",
   "execution_count": null,
   "metadata": {},
   "outputs": [],
   "source": [
    "x = [1,2,3,2,1] # Palindrome?\n",
    "x[::-1] == x"
   ]
  },
  {
   "cell_type": "markdown",
   "metadata": {},
   "source": [
    "### 2.6 [1] Erasing all list items (O(1))"
   ]
  },
  {
   "cell_type": "code",
   "execution_count": null,
   "metadata": {},
   "outputs": [],
   "source": [
    "a.clear()\n",
    "a"
   ]
  },
  {
   "cell_type": "markdown",
   "metadata": {},
   "source": [
    "### 2.7 [0] List slicing (O(s))"
   ]
  },
  {
   "cell_type": "code",
   "execution_count": null,
   "metadata": {},
   "outputs": [],
   "source": [
    "a.append('Hello')\n",
    "print(a, a[0])"
   ]
  },
  {
   "cell_type": "code",
   "execution_count": null,
   "metadata": {},
   "outputs": [],
   "source": [
    "a.append(1)\n",
    "a.append(('a',2))\n",
    "a.append('world!')\n",
    "a"
   ]
  },
  {
   "cell_type": "code",
   "execution_count": null,
   "metadata": {},
   "outputs": [],
   "source": [
    "print(a[1:1], a[1:2], a[1:3], a[1:], a[:], a[1:3:2])"
   ]
  },
  {
   "cell_type": "markdown",
   "metadata": {},
   "source": [
    "### 2.8 [1] Defining lists with [*list comprehensions*](http://www.secnetix.de/olli/Python/list_comprehensions.hawk):"
   ]
  },
  {
   "cell_type": "code",
   "execution_count": null,
   "metadata": {},
   "outputs": [],
   "source": [
    "[x**2 for x in range(10)]"
   ]
  },
  {
   "cell_type": "code",
   "execution_count": null,
   "metadata": {},
   "outputs": [],
   "source": [
    "# http://stackoverflow.com/questions/31045518/finding-prime-numbers-using-list-comprehention\n",
    "[x for x in range(2, 2000) if all(x % y != 0 for y in range(2, int(x ** 0.5) + 1))]"
   ]
  },
  {
   "cell_type": "code",
   "execution_count": null,
   "metadata": {},
   "outputs": [],
   "source": [
    "l = [[x+y for x in range(10)] for y in range(10)]\n",
    "l"
   ]
  },
  {
   "cell_type": "code",
   "execution_count": null,
   "metadata": {},
   "outputs": [],
   "source": [
    "l[1][2]"
   ]
  },
  {
   "cell_type": "code",
   "execution_count": null,
   "metadata": {},
   "outputs": [],
   "source": [
    "10 in l"
   ]
  },
  {
   "cell_type": "code",
   "execution_count": null,
   "metadata": {},
   "outputs": [],
   "source": [
    "10 in l[1]"
   ]
  },
  {
   "cell_type": "code",
   "execution_count": null,
   "metadata": {},
   "outputs": [],
   "source": [
    "# Lists of lists\n",
    "x = [[1,2],[2,3,4],['a']]\n",
    "x"
   ]
  },
  {
   "cell_type": "markdown",
   "metadata": {},
   "source": [
    "### 2.9 [1] Lists are mutable objects\n",
    "Lists can be modified \"in-place\"."
   ]
  },
  {
   "cell_type": "code",
   "execution_count": null,
   "metadata": {},
   "outputs": [],
   "source": [
    "l = [2,3]"
   ]
  },
  {
   "cell_type": "code",
   "execution_count": null,
   "metadata": {},
   "outputs": [],
   "source": [
    "id(l)"
   ]
  },
  {
   "cell_type": "code",
   "execution_count": null,
   "metadata": {},
   "outputs": [],
   "source": [
    "l[1] = 4\n",
    "l"
   ]
  },
  {
   "cell_type": "code",
   "execution_count": null,
   "metadata": {},
   "outputs": [],
   "source": [
    "id(l)"
   ]
  },
  {
   "cell_type": "markdown",
   "metadata": {},
   "source": [
    "## 3. [0]  [Sets](https://docs.python.org/3.7/library/stdtypes.html#set-types-set-frozenset)\n",
    " [Sets](https://en.wikipedia.org/wiki/Set_%28abstract_data_type%29) are implemented as [hash table](https://en.wikipedia.org/wiki/Hash_table) of (unordered) objects, therefore sets are good for get/set/delete/searching items and bad for . Sets do not support indexing, slicing, or other sequence-like behavior."
   ]
  },
  {
   "cell_type": "code",
   "execution_count": null,
   "metadata": {},
   "outputs": [],
   "source": [
    "a = {1, 2, 'a', (1, 2)}\n",
    "a"
   ]
  },
  {
   "cell_type": "code",
   "execution_count": null,
   "metadata": {
    "scrolled": true
   },
   "outputs": [],
   "source": [
    "print(type(a))"
   ]
  },
  {
   "cell_type": "code",
   "execution_count": null,
   "metadata": {},
   "outputs": [],
   "source": [
    "help(a)"
   ]
  },
  {
   "cell_type": "markdown",
   "metadata": {},
   "source": [
    "### 3.2. [0] Sets can grow (O(1))"
   ]
  },
  {
   "cell_type": "code",
   "execution_count": null,
   "metadata": {},
   "outputs": [],
   "source": [
    "a.add('a')\n",
    "print(a)"
   ]
  },
  {
   "cell_type": "markdown",
   "metadata": {},
   "source": [
    "### 3.3. [0] Sets can not contain dupplicate objects"
   ]
  },
  {
   "cell_type": "code",
   "execution_count": null,
   "metadata": {},
   "outputs": [],
   "source": [
    "a.add('a')\n",
    "print(a)"
   ]
  },
  {
   "cell_type": "markdown",
   "metadata": {},
   "source": [
    "### 3.4. [1] Sets can not contain mutable objects"
   ]
  },
  {
   "cell_type": "markdown",
   "metadata": {},
   "source": [
    " Mutable objects can not be hashed :-("
   ]
  },
  {
   "cell_type": "code",
   "execution_count": null,
   "metadata": {
    "scrolled": false
   },
   "outputs": [],
   "source": [
    "a = set()\n",
    "a.add([1,2]) # Sets can not contain lists"
   ]
  },
  {
   "cell_type": "code",
   "execution_count": null,
   "metadata": {},
   "outputs": [],
   "source": [
    "a = set() # Empty set\n",
    "a.add({1,2,3}) # Sets can not contain sets"
   ]
  },
  {
   "cell_type": "markdown",
   "metadata": {},
   "source": [
    "### 3.5 [0] Intersection of sets (O(min(len(s), len(t)))"
   ]
  },
  {
   "cell_type": "code",
   "execution_count": null,
   "metadata": {},
   "outputs": [],
   "source": [
    "a = {1,2,3}\n",
    "b = {2,3,4}\n",
    "a.intersection(b)"
   ]
  },
  {
   "cell_type": "markdown",
   "metadata": {},
   "source": [
    "### 3.6 [0] Union of sets (O(len(s)+len(t)))"
   ]
  },
  {
   "cell_type": "code",
   "execution_count": null,
   "metadata": {},
   "outputs": [],
   "source": [
    "a.union(b)"
   ]
  },
  {
   "cell_type": "markdown",
   "metadata": {},
   "source": [
    "### 3.7. [0] Sets are MUCH more [efficient for searching by content](https://wiki.python.org/moin/TimeComplexity) than lists"
   ]
  },
  {
   "cell_type": "code",
   "execution_count": null,
   "metadata": {},
   "outputs": [],
   "source": [
    "a = set(range(1000))\n",
    "print(a)"
   ]
  },
  {
   "cell_type": "code",
   "execution_count": null,
   "metadata": {
    "scrolled": false
   },
   "outputs": [],
   "source": [
    "%timeit '0' in a"
   ]
  },
  {
   "cell_type": "code",
   "execution_count": null,
   "metadata": {},
   "outputs": [],
   "source": [
    "a = list(range(1000))\n",
    "print(a)"
   ]
  },
  {
   "cell_type": "code",
   "execution_count": null,
   "metadata": {},
   "outputs": [],
   "source": [
    "%timeit '0' in a"
   ]
  },
  {
   "cell_type": "markdown",
   "metadata": {},
   "source": [
    "## 4 [0] [Dictionaries](https://docs.python.org/3.7/library/stdtypes.html#dict)\n",
    "[Dictionaries](https://en.wikipedia.org/wiki/Associative_array) are sets where each element (a **key**) has associated an object (a **value**). In fact, sets can be seen as dictionaries where the elments have not associations. As sets, dictionaries are [efficient for indexing by keys](https://www.ics.uci.edu/~pattis/ICS-33/lectures/complexitypython.txt)."
   ]
  },
  {
   "cell_type": "code",
   "execution_count": null,
   "metadata": {},
   "outputs": [],
   "source": [
    "help({})"
   ]
  },
  {
   "cell_type": "markdown",
   "metadata": {},
   "source": [
    "### 4.1 [0] Static definition of a dictionary"
   ]
  },
  {
   "cell_type": "code",
   "execution_count": null,
   "metadata": {},
   "outputs": [],
   "source": [
    "a = {'Macinstosh':'OSX', 'PC':'Windows', 'Macintosh-Linux':'Linux', 'PC-Linux':'Linux'}\n",
    "a"
   ]
  },
  {
   "cell_type": "markdown",
   "metadata": {},
   "source": [
    "### 4.2 [0] Indexing of a dictionary by a key (O(1))"
   ]
  },
  {
   "cell_type": "code",
   "execution_count": null,
   "metadata": {},
   "outputs": [],
   "source": [
    "a['PC']"
   ]
  },
  {
   "cell_type": "markdown",
   "metadata": {},
   "source": [
    "### 4.3 [0] Testing if a key is the dictionary (O(1))"
   ]
  },
  {
   "cell_type": "code",
   "execution_count": null,
   "metadata": {},
   "outputs": [],
   "source": [
    "'PC-Linux' in a"
   ]
  },
  {
   "cell_type": "markdown",
   "metadata": {},
   "source": [
    "### 4.4 [1] Getting the keys (O(n))"
   ]
  },
  {
   "cell_type": "code",
   "execution_count": null,
   "metadata": {},
   "outputs": [],
   "source": [
    "a.keys()"
   ]
  },
  {
   "cell_type": "markdown",
   "metadata": {},
   "source": [
    "### 4.5 [1] Getting the values (O(n))"
   ]
  },
  {
   "cell_type": "code",
   "execution_count": null,
   "metadata": {},
   "outputs": [],
   "source": [
    "a.values()"
   ]
  },
  {
   "cell_type": "markdown",
   "metadata": {},
   "source": [
    "### 4.4 [1] Determining the position of a key in a dictionary (O(n))"
   ]
  },
  {
   "cell_type": "code",
   "execution_count": null,
   "metadata": {},
   "outputs": [],
   "source": [
    "list(a.keys()).index(\"Macintosh-Linux\")"
   ]
  },
  {
   "cell_type": "code",
   "execution_count": null,
   "metadata": {},
   "outputs": [],
   "source": [
    "for i in a.keys():\n",
    "    print(i)"
   ]
  },
  {
   "cell_type": "markdown",
   "metadata": {},
   "source": [
    "### 4.6 [0] Inserting a new entry (O(1))"
   ]
  },
  {
   "cell_type": "code",
   "execution_count": null,
   "metadata": {},
   "outputs": [],
   "source": [
    "a['Celullar'] = \"Android\"\n",
    "a"
   ]
  },
  {
   "cell_type": "markdown",
   "metadata": {},
   "source": [
    "### [0] 4.7 Deleting an entry (O(1))"
   ]
  },
  {
   "cell_type": "code",
   "execution_count": null,
   "metadata": {},
   "outputs": [],
   "source": [
    "del a['Celullar']\n",
    "a"
   ]
  },
  {
   "cell_type": "code",
   "execution_count": null,
   "metadata": {},
   "outputs": [],
   "source": [
    "# Modifiying an entry\n",
    "a.update({\"PC\": \"Windows 10\"})\n",
    "a"
   ]
  },
  {
   "cell_type": "markdown",
   "metadata": {},
   "source": [
    "### 4.8 [1] Dictionaries are mutable"
   ]
  },
  {
   "cell_type": "code",
   "execution_count": null,
   "metadata": {},
   "outputs": [],
   "source": [
    "id(a)"
   ]
  },
  {
   "cell_type": "code",
   "execution_count": null,
   "metadata": {},
   "outputs": [],
   "source": [
    "a['Macintosh-Linux'] = 'Linux for the Mac'\n",
    "a"
   ]
  },
  {
   "cell_type": "code",
   "execution_count": null,
   "metadata": {},
   "outputs": [],
   "source": [
    "id(a)"
   ]
  },
  {
   "cell_type": "markdown",
   "metadata": {},
   "source": [
    "### 4.9 [0] Looping a dictionary (O(n))"
   ]
  },
  {
   "cell_type": "code",
   "execution_count": null,
   "metadata": {},
   "outputs": [],
   "source": [
    "for i in a:\n",
    "    print(i, a[i])"
   ]
  },
  {
   "cell_type": "code",
   "execution_count": null,
   "metadata": {},
   "outputs": [],
   "source": [
    "for i in a.values():\n",
    "    print(i)"
   ]
  },
  {
   "cell_type": "code",
   "execution_count": null,
   "metadata": {},
   "outputs": [],
   "source": [
    "for i in a.items():\n",
    "    print(i)"
   ]
  },
  {
   "cell_type": "markdown",
   "metadata": {
    "collapsed": true
   },
   "source": [
    "## 5. [Bytes](http://python-para-impacientes.blogspot.com.es/2014/07/tipos-de-cadenas-unicode-byte-y.html)\n",
    "A [raw](http://www.wordreference.com/es/translation.asp?tranword=raw) [bytes](https://en.wikipedia.org/wiki/Byte) [sequence](https://en.wikipedia.org/wiki/Sequence) type."
   ]
  },
  {
   "cell_type": "markdown",
   "metadata": {},
   "source": [
    "### 5.1. Creation of bytes sequence"
   ]
  },
  {
   "cell_type": "code",
   "execution_count": null,
   "metadata": {},
   "outputs": [],
   "source": [
    "a = b'hello'\n",
    "print(type(a))"
   ]
  },
  {
   "cell_type": "code",
   "execution_count": null,
   "metadata": {},
   "outputs": [],
   "source": [
    "print(a)"
   ]
  },
  {
   "cell_type": "markdown",
   "metadata": {},
   "source": [
    "### 5.2. Indexing in a bytes sequence"
   ]
  },
  {
   "cell_type": "code",
   "execution_count": null,
   "metadata": {},
   "outputs": [],
   "source": [
    "chr(a[1])"
   ]
  },
  {
   "cell_type": "markdown",
   "metadata": {},
   "source": [
    "### 5.3. Concatenation of bytes sequences"
   ]
  },
  {
   "cell_type": "code",
   "execution_count": null,
   "metadata": {},
   "outputs": [],
   "source": [
    "b = b'world!'\n",
    "print('\"b\" is in', id(b))\n",
    "c = a + b' ' + b\n",
    "print(c)"
   ]
  },
  {
   "cell_type": "markdown",
   "metadata": {},
   "source": [
    "### 5.4. Bytes are inmutable"
   ]
  },
  {
   "cell_type": "code",
   "execution_count": null,
   "metadata": {},
   "outputs": [],
   "source": [
    "a = b'abc'\n",
    "print(id(a))\n",
    "a += b'efg'\n",
    "print(id(a))"
   ]
  },
  {
   "cell_type": "markdown",
   "metadata": {},
   "source": [
    "## 6. [Bytearray](https://docs.python.org/3/library/functions.html#func-bytearray)\n",
    "[Bytearray](http://ze.phyr.us/bytearray/) is a mutable implementation of an [array](https://en.wikipedia.org/wiki/Array_data_structure) of bytes. Therefore, appending data to a bytearray object is much faster than to a bytes object because in this last case, every append implies to create (and destroy the previous) new bytes object."
   ]
  },
  {
   "cell_type": "code",
   "execution_count": null,
   "metadata": {},
   "outputs": [],
   "source": [
    "%%timeit x = b''\n",
    "x += b'x'"
   ]
  },
  {
   "cell_type": "code",
   "execution_count": null,
   "metadata": {},
   "outputs": [],
   "source": [
    "%%timeit x = bytearray()\n",
    "x.extend(b'x')"
   ]
  },
  {
   "cell_type": "code",
   "execution_count": null,
   "metadata": {},
   "outputs": [],
   "source": [
    "# Array of bytes = 0\n",
    "x = bytearray(10)"
   ]
  },
  {
   "cell_type": "code",
   "execution_count": null,
   "metadata": {},
   "outputs": [],
   "source": [
    "x"
   ]
  },
  {
   "cell_type": "code",
   "execution_count": null,
   "metadata": {},
   "outputs": [],
   "source": [
    "len(x)"
   ]
  },
  {
   "cell_type": "code",
   "execution_count": null,
   "metadata": {},
   "outputs": [],
   "source": [
    "for i in range(len(x)):\n",
    "    x[i] += 1"
   ]
  },
  {
   "cell_type": "code",
   "execution_count": null,
   "metadata": {},
   "outputs": [],
   "source": [
    "x"
   ]
  },
  {
   "cell_type": "code",
   "execution_count": null,
   "metadata": {},
   "outputs": [],
   "source": [
    "# A byte in Python is a 0 <= value <= 255.\n",
    "x[1] = -1"
   ]
  },
  {
   "cell_type": "code",
   "execution_count": null,
   "metadata": {},
   "outputs": [],
   "source": [
    "# A bytearray can be created from a list\n",
    "x = bytearray([1,2,3])\n",
    "x"
   ]
  },
  {
   "cell_type": "code",
   "execution_count": null,
   "metadata": {},
   "outputs": [],
   "source": [
    "import sys\n",
    "x = bytearray(sys.stdin.read(5).encode())\n",
    "x"
   ]
  },
  {
   "cell_type": "markdown",
   "metadata": {},
   "source": [
    "## 7. [Arrays](https://docs.python.org/3/library/array.html)"
   ]
  },
  {
   "cell_type": "code",
   "execution_count": null,
   "metadata": {},
   "outputs": [],
   "source": [
    "import array as arr\n",
    "a = arr.array('d', [1.1, 3.5, 4.5])\n",
    "print(a)"
   ]
  },
  {
   "cell_type": "markdown",
   "metadata": {},
   "source": [
    "### Element access"
   ]
  },
  {
   "cell_type": "code",
   "execution_count": null,
   "metadata": {},
   "outputs": [],
   "source": [
    "a[1]"
   ]
  },
  {
   "cell_type": "code",
   "execution_count": null,
   "metadata": {},
   "outputs": [],
   "source": [
    "a[1] = 4.0\n",
    "a"
   ]
  },
  {
   "cell_type": "markdown",
   "metadata": {},
   "source": [
    "### Slice access"
   ]
  },
  {
   "cell_type": "code",
   "execution_count": null,
   "metadata": {},
   "outputs": [],
   "source": [
    "a[1:2]"
   ]
  },
  {
   "cell_type": "markdown",
   "metadata": {},
   "source": [
    "### Appending elements"
   ]
  },
  {
   "cell_type": "code",
   "execution_count": null,
   "metadata": {},
   "outputs": [],
   "source": [
    "a.append(5.0)\n",
    "a"
   ]
  },
  {
   "cell_type": "markdown",
   "metadata": {},
   "source": [
    "### Concatenating arrays"
   ]
  },
  {
   "cell_type": "code",
   "execution_count": null,
   "metadata": {},
   "outputs": [],
   "source": [
    "a.extend([5.0, 6.0, 7.0])\n",
    "a"
   ]
  },
  {
   "cell_type": "code",
   "execution_count": null,
   "metadata": {},
   "outputs": [],
   "source": [
    "a += arr.array('d', [1.1, 4.0, 4.5])\n",
    "a"
   ]
  },
  {
   "cell_type": "markdown",
   "metadata": {},
   "source": [
    "### Deleting elements"
   ]
  },
  {
   "cell_type": "code",
   "execution_count": null,
   "metadata": {},
   "outputs": [],
   "source": [
    "# By value\n",
    "a.remove(4.0)\n",
    "a"
   ]
  },
  {
   "cell_type": "code",
   "execution_count": null,
   "metadata": {},
   "outputs": [],
   "source": [
    "# By index\n",
    "a.pop(3)\n",
    "a"
   ]
  },
  {
   "cell_type": "code",
   "execution_count": null,
   "metadata": {},
   "outputs": [],
   "source": []
  },
  {
   "cell_type": "code",
   "execution_count": null,
   "metadata": {},
   "outputs": [],
   "source": []
  }
 ],
 "metadata": {
  "kernelspec": {
   "display_name": "Python 3",
   "language": "python",
   "name": "python3"
  },
  "language_info": {
   "codemirror_mode": {
    "name": "ipython",
    "version": 3
   },
   "file_extension": ".py",
   "mimetype": "text/x-python",
   "name": "python",
   "nbconvert_exporter": "python",
   "pygments_lexer": "ipython3",
   "version": "3.8.3"
  },
  "toc": {
   "base_numbering": 1,
   "nav_menu": {},
   "number_sections": true,
   "sideBar": true,
   "skip_h1_title": false,
   "title_cell": "Table of Contents",
   "title_sidebar": "Contents",
   "toc_cell": true,
   "toc_position": {},
   "toc_section_display": true,
   "toc_window_display": true
  }
 },
 "nbformat": 4,
 "nbformat_minor": 1
}
