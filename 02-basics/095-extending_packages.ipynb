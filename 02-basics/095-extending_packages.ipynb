{
 "cells": [
  {
   "cell_type": "markdown",
   "metadata": {},
   "source": [
    "# Extending packages"
   ]
  },
  {
   "cell_type": "markdown",
   "metadata": {},
   "source": [
    "## 1. Define a package"
   ]
  },
  {
   "cell_type": "code",
   "execution_count": 1,
   "metadata": {},
   "outputs": [],
   "source": [
    "%%bash\n",
    "rm -rf base_package\n",
    "mkdir base_package\n",
    "cat << EOF > base_package/methods.py\n",
    "import base_package\n",
    "\n",
    "def increase_a(amount):\n",
    "    #print(dir(base_package))\n",
    "    base_package.a += amount\n",
    "\n",
    "def get_a():\n",
    "    return base_package.a\n",
    "EOF"
   ]
  },
  {
   "cell_type": "code",
   "execution_count": 2,
   "metadata": {},
   "outputs": [],
   "source": [
    "%%bash\n",
    "cat << EOF > base_package/__init__.py\n",
    "print('Hello from base_package.__init__')\n",
    "a = 1\n",
    "print('a =', a)\n",
    "\n",
    "from base_package import methods\n",
    "EOF"
   ]
  },
  {
   "cell_type": "markdown",
   "metadata": {},
   "source": [
    "### Check that the code is operative"
   ]
  },
  {
   "cell_type": "code",
   "execution_count": 3,
   "metadata": {},
   "outputs": [
    {
     "name": "stdout",
     "output_type": "stream",
     "text": [
      "Hello from base_package.__init__\n",
      "a = 1\n",
      "1\n",
      "2\n"
     ]
    }
   ],
   "source": [
    "from base_package import methods as base_package\n",
    "\n",
    "print(base_package.get_a())\n",
    "base_package.increase_a(1)\n",
    "print(base_package.get_a())"
   ]
  },
  {
   "cell_type": "markdown",
   "metadata": {},
   "source": [
    "## 3. Extend"
   ]
  },
  {
   "cell_type": "code",
   "execution_count": 4,
   "metadata": {},
   "outputs": [],
   "source": [
    "%%bash\n",
    "rm -rf extended_package\n",
    "mkdir extended_package\n",
    "cat << EOF > extended_package/methods.py\n",
    "import base_package.methods as base_package\n",
    "import extended_package\n",
    "\n",
    "def increase_a(amount):\n",
    "    #print(dir(extended_package))\n",
    "    base_package.increase_a(amount)\n",
    "    print(\"You have used the extended version of 'increase_a()', and now a =\", base_package.get_a())\n",
    "EOF"
   ]
  },
  {
   "cell_type": "code",
   "execution_count": 5,
   "metadata": {},
   "outputs": [],
   "source": [
    "%%bash\n",
    "cat << EOF > extended_package/__init__.py\n",
    "print('Hello from extended_package.__init__')\n",
    "import base_package\n",
    "from extended_package import methods\n",
    "EOF"
   ]
  },
  {
   "cell_type": "markdown",
   "metadata": {},
   "source": [
    "### Check that the code is operative"
   ]
  },
  {
   "cell_type": "code",
   "execution_count": 6,
   "metadata": {},
   "outputs": [
    {
     "name": "stdout",
     "output_type": "stream",
     "text": [
      "Hello from extended_package.__init__\n",
      "2\n",
      "You have used the extended version of 'increase_a()', and now a = 3\n",
      "3\n"
     ]
    }
   ],
   "source": [
    "from extended_package import methods as extended_package\n",
    "\n",
    "print(base_package.get_a())\n",
    "extended_package.increase_a(1)\n",
    "print(base_package.get_a())"
   ]
  },
  {
   "cell_type": "markdown",
   "metadata": {},
   "source": [
    "### Clean-up"
   ]
  },
  {
   "cell_type": "code",
   "execution_count": 7,
   "metadata": {},
   "outputs": [],
   "source": [
    "!rm -rf base_package\n",
    "!rm -rf extended_package"
   ]
  },
  {
   "cell_type": "markdown",
   "metadata": {},
   "source": [
    "## 4. Now, using OOP"
   ]
  },
  {
   "cell_type": "code",
   "execution_count": 8,
   "metadata": {},
   "outputs": [],
   "source": [
    "%%bash\n",
    "cat << EOF > base_class.py\n",
    "class base_class():\n",
    "    a = 1\n",
    "    def __init__():\n",
    "        a = 1\n",
    "        print('a =', a)\n",
    "    def get_a():\n",
    "        return base_class.a\n",
    "    def increase_a(amount):\n",
    "        base_class.a += 1\n",
    "        return base_class.a\n",
    "EOF"
   ]
  },
  {
   "cell_type": "markdown",
   "metadata": {},
   "source": [
    "### Check that the code is operative"
   ]
  },
  {
   "cell_type": "code",
   "execution_count": 9,
   "metadata": {},
   "outputs": [
    {
     "name": "stdout",
     "output_type": "stream",
     "text": [
      "1\n",
      "2\n"
     ]
    }
   ],
   "source": [
    "from base_class import base_class\n",
    "\n",
    "print(base_class.get_a())\n",
    "base_class.increase_a(1)\n",
    "print(base_class.get_a())"
   ]
  },
  {
   "cell_type": "code",
   "execution_count": 10,
   "metadata": {},
   "outputs": [],
   "source": [
    "%%bash\n",
    "cat << EOF > extended_class.py\n",
    "from base_class import base_class\n",
    "class extended_class(base_class):\n",
    "    a = 1\n",
    "    def __init__():\n",
    "        print('Hello from extended_package.__init__')\n",
    "\n",
    "    def increase_a(amount):\n",
    "        base_class.increase_a(amount)\n",
    "        return base_class.a\n",
    "EOF"
   ]
  },
  {
   "cell_type": "markdown",
   "metadata": {},
   "source": [
    "### Check that the code is operative"
   ]
  },
  {
   "cell_type": "code",
   "execution_count": 11,
   "metadata": {},
   "outputs": [
    {
     "name": "stdout",
     "output_type": "stream",
     "text": [
      "2\n",
      "3\n"
     ]
    }
   ],
   "source": [
    "from extended_class import extended_class\n",
    "\n",
    "print(extended_class.get_a())\n",
    "extended_class.increase_a(1)\n",
    "print(extended_class.get_a())"
   ]
  },
  {
   "cell_type": "markdown",
   "metadata": {},
   "source": [
    "### Clean-up"
   ]
  },
  {
   "cell_type": "code",
   "execution_count": 12,
   "metadata": {},
   "outputs": [],
   "source": [
    "!rm -f base_class.py\n",
    "!rm -f extended_class.py"
   ]
  },
  {
   "cell_type": "markdown",
   "metadata": {},
   "source": [
    "## 5. Conclusion\n",
    "\n",
    "It is possible to simulate inheritance without using classes. However, classes helps."
   ]
  }
 ],
 "metadata": {
  "kernelspec": {
   "display_name": "Python 3 (ipykernel)",
   "language": "python",
   "name": "python3"
  },
  "language_info": {
   "codemirror_mode": {
    "name": "ipython",
    "version": 3
   },
   "file_extension": ".py",
   "mimetype": "text/x-python",
   "name": "python",
   "nbconvert_exporter": "python",
   "pygments_lexer": "ipython3",
   "version": "3.10.6"
  }
 },
 "nbformat": 4,
 "nbformat_minor": 4
}
