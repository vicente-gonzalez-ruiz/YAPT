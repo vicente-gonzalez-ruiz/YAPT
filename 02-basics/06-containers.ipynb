{
 "cells": [
  {
   "cell_type": "markdown",
   "metadata": {},
   "source": [
    "# Containers\n",
    "\n",
    "[Containers are any object that holds an arbitrary number of other objects.](https://stackoverflow.com/questions/11575925/what-exactly-are-containers-in-python-and-what-are-all-the-python-container) Strictly speaking, in the Python Standard Library we found the following containers:\n",
    "\n",
    "1. Tuples.\n",
    "2. Lists.\n",
    "3. Sets.\n",
    "4. Dictionaries.\n",
    "\n",
    "However, extrapolating the idea that any thing in Python is an Object, we can also consider the following structures as containers:\n",
    "\n",
    "1. Bytes.\n",
    "2. Bytearrays.\n",
    "3. Arrays.\n",
    "\n",
    "Finally, notice that [programmers can define their own container structures](https://docs.python.org/dev/library/collections.html#module-collections)."
   ]
  }
 ],
 "metadata": {
  "kernelspec": {
   "display_name": "Python 3 (ipykernel)",
   "language": "python",
   "name": "python3"
  },
  "language_info": {
   "codemirror_mode": {
    "name": "ipython",
    "version": 3
   },
   "file_extension": ".py",
   "mimetype": "text/x-python",
   "name": "python",
   "nbconvert_exporter": "python",
   "pygments_lexer": "ipython3",
   "version": "3.10.6"
  },
  "toc": {
   "base_numbering": 1,
   "nav_menu": {},
   "number_sections": true,
   "sideBar": true,
   "skip_h1_title": false,
   "title_cell": "Table of Contents",
   "title_sidebar": "Contents",
   "toc_cell": true,
   "toc_position": {},
   "toc_section_display": true,
   "toc_window_display": true
  }
 },
 "nbformat": 4,
 "nbformat_minor": 4
}
