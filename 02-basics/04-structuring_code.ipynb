{
 "cells": [
  {
   "cell_type": "markdown",
   "metadata": {},
   "source": [
    "# Structuring code\n",
    "An structured code is easier to be maintained and reused."
   ]
  },
  {
   "cell_type": "markdown",
   "metadata": {},
   "source": [
    "## Modules and packages\n",
    "\n",
    "Python code can be organized into modules and packages (folders with other folders and modules). A module is a piece of code stored in a file. For example (notice that the name of the module is the name of the corresponding file without its extension: `my_module` is the name of the module; `my_module.py` is the name of the file):"
   ]
  },
  {
   "cell_type": "code",
   "execution_count": 1,
   "metadata": {},
   "outputs": [
    {
     "name": "stdout",
     "output_type": "stream",
     "text": [
      "#!/usr/bin/env python\n",
      "\n",
      "a = 1\n",
      "print(\"my_module.py: Hi from \" + __name__ + \".py!\")\n",
      "\n",
      "if __name__ == \"__main__\":\n",
      "  print(\"my_module.py: I was invoked from a script.\")\n",
      "else:\n",
      "  print(\"my_module.py: I was invoked from a Python module (probably using 'import').\")\n",
      "print(\"my_module.py: My name is =\", __name__)\n"
     ]
    }
   ],
   "source": [
    "!cat my_module.py"
   ]
  },
  {
   "cell_type": "markdown",
   "metadata": {},
   "source": [
    "This is an example of a package:"
   ]
  },
  {
   "cell_type": "code",
   "execution_count": 3,
   "metadata": {},
   "outputs": [
    {
     "name": "stdout",
     "output_type": "stream",
     "text": [
      "\u001b[01;34mmy_package\u001b[0m\n",
      "├── a_module.py\n",
      "├── __init__.py\n",
      "└── __main__.py\n",
      "\n",
      "0 directories, 3 files\n"
     ]
    }
   ],
   "source": [
    "!tree my_package"
   ]
  },
  {
   "cell_type": "code",
   "execution_count": 4,
   "metadata": {},
   "outputs": [
    {
     "name": "stdout",
     "output_type": "stream",
     "text": [
      "print(\"__init__.py: my_package/__init__.py was executed\")\n",
      "import my_package.a_module\n"
     ]
    }
   ],
   "source": [
    "!cat my_package/__init__.py"
   ]
  },
  {
   "cell_type": "code",
   "execution_count": 5,
   "metadata": {},
   "outputs": [
    {
     "name": "stdout",
     "output_type": "stream",
     "text": [
      "print(\"__main__.py: my_package/__main__.py was executed\")\n",
      "import a_module\n"
     ]
    }
   ],
   "source": [
    "!cat my_package/__main__.py"
   ]
  },
  {
   "cell_type": "code",
   "execution_count": 6,
   "metadata": {},
   "outputs": [
    {
     "name": "stdout",
     "output_type": "stream",
     "text": [
      "a = 1\n",
      "print(\"a_module: Hi from my_package/\" + __name__ + \".py!\")\n",
      "\n",
      "if __name__ == \"__main__\":\n",
      "  print(\"a_module: I was invoked from a script.\")\n",
      "else:\n",
      "  print(\"a_module: I was invoked from a Pyton module (probably using 'import').\") \n",
      "print(\"a_module: My name is =\", __name__)\n"
     ]
    }
   ],
   "source": [
    "!cat my_package/a_module.py"
   ]
  },
  {
   "cell_type": "markdown",
   "metadata": {},
   "source": [
    "`__main__.py` and `__init__.py` are optional files:\n",
    "* `__main__.py` is implicitly invoked when the package is run from an shell script.\n",
    "* `__init__.py` is implicitly invoked with the package is run from Python (probably using `import`)."
   ]
  },
  {
   "cell_type": "markdown",
   "metadata": {},
   "source": [
    "## Running code\n",
    "Python code can be run in several different ways."
   ]
  },
  {
   "cell_type": "markdown",
   "metadata": {},
   "source": [
    "### Using Python's `import` command\n",
    "`import` loads and runs a module or a package. The module must be refered by it's name (nor the filename). The package must be refered by the name of the directory. Module/package importation using `import` only works the first time. Examples:"
   ]
  },
  {
   "cell_type": "code",
   "execution_count": 7,
   "metadata": {},
   "outputs": [
    {
     "name": "stdout",
     "output_type": "stream",
     "text": [
      "my_module.py: Hi from my_module.py!\n",
      "my_module.py: I was invoked from a Python module (probably using 'import').\n",
      "my_module.py: My name is = my_module\n"
     ]
    }
   ],
   "source": [
    "import my_module # Running a Python module as a module"
   ]
  },
  {
   "cell_type": "code",
   "execution_count": 8,
   "metadata": {},
   "outputs": [
    {
     "name": "stdout",
     "output_type": "stream",
     "text": [
      "__init__.py: my_package/__init__.py was executed\n",
      "a_module: Hi from my_package/my_package.a_module.py!\n",
      "a_module: I was invoked from a Python module (probably using 'import').\n",
      "a_module: My name is = my_package.a_module\n"
     ]
    }
   ],
   "source": [
    "import my_package # Running a Python package as a module"
   ]
  },
  {
   "cell_type": "markdown",
   "metadata": {},
   "source": [
    "Notice that the file `__init__.py` has been run and that the name of a module in the package is the relative (from the interpreter invocation directory) *dotted*-path to the module name."
   ]
  },
  {
   "cell_type": "markdown",
   "metadata": {},
   "source": [
    "### Listing the names of a (in this case) a module:"
   ]
  },
  {
   "cell_type": "code",
   "execution_count": 17,
   "metadata": {},
   "outputs": [
    {
     "data": {
      "text/plain": [
       "['__builtins__',\n",
       " '__cached__',\n",
       " '__doc__',\n",
       " '__file__',\n",
       " '__loader__',\n",
       " '__name__',\n",
       " '__package__',\n",
       " '__spec__',\n",
       " 'a']"
      ]
     },
     "execution_count": 17,
     "metadata": {},
     "output_type": "execute_result"
    }
   ],
   "source": [
    "dir(my_module)"
   ]
  },
  {
   "cell_type": "code",
   "execution_count": 18,
   "metadata": {},
   "outputs": [
    {
     "data": {
      "text/plain": [
       "['__builtins__',\n",
       " '__cached__',\n",
       " '__doc__',\n",
       " '__file__',\n",
       " '__loader__',\n",
       " '__name__',\n",
       " '__package__',\n",
       " '__path__',\n",
       " '__spec__',\n",
       " 'a_module',\n",
       " 'my_package']"
      ]
     },
     "execution_count": 18,
     "metadata": {},
     "output_type": "execute_result"
    }
   ],
   "source": [
    "dir(my_package)"
   ]
  },
  {
   "cell_type": "code",
   "execution_count": 19,
   "metadata": {},
   "outputs": [
    {
     "data": {
      "text/plain": [
       "['__builtins__',\n",
       " '__cached__',\n",
       " '__doc__',\n",
       " '__file__',\n",
       " '__loader__',\n",
       " '__name__',\n",
       " '__package__',\n",
       " '__spec__',\n",
       " 'a']"
      ]
     },
     "execution_count": 19,
     "metadata": {},
     "output_type": "execute_result"
    }
   ],
   "source": [
    "dir(my_package.a_module)"
   ]
  },
  {
   "cell_type": "markdown",
   "metadata": {},
   "source": [
    "Module/package structures are accesible from the invoker code using the notation: `<module/package_name>.<structure>`. Examples:"
   ]
  },
  {
   "cell_type": "code",
   "execution_count": 16,
   "metadata": {},
   "outputs": [
    {
     "data": {
      "text/plain": [
       "1"
      ]
     },
     "execution_count": 16,
     "metadata": {},
     "output_type": "execute_result"
    }
   ],
   "source": [
    "my_module.a"
   ]
  },
  {
   "cell_type": "code",
   "execution_count": 20,
   "metadata": {},
   "outputs": [
    {
     "data": {
      "text/plain": [
       "1"
      ]
     },
     "execution_count": 20,
     "metadata": {},
     "output_type": "execute_result"
    }
   ],
   "source": [
    "my_package.a_module.a"
   ]
  },
  {
   "cell_type": "markdown",
   "metadata": {},
   "source": [
    "Sumarizing: `import` loads and runs the code of a module, and loads and runs the code of the `__init__.py` file of a package."
   ]
  },
  {
   "cell_type": "markdown",
   "metadata": {},
   "source": [
    "### Using the Python interpreter"
   ]
  },
  {
   "cell_type": "code",
   "execution_count": 8,
   "metadata": {},
   "outputs": [
    {
     "name": "stdout",
     "output_type": "stream",
     "text": [
      "my_module.py: Hi from __main__.py!\r\n",
      "my_module.py: I was invoked from a script.\r\n",
      "my_module.py: My name is = __main__\r\n"
     ]
    }
   ],
   "source": [
    "!python -m my_module # Running a Python module as a script"
   ]
  },
  {
   "cell_type": "markdown",
   "metadata": {},
   "source": [
    "Notice that in this case the module does not know its name."
   ]
  },
  {
   "cell_type": "code",
   "execution_count": 9,
   "metadata": {},
   "outputs": [
    {
     "name": "stdout",
     "output_type": "stream",
     "text": [
      "__main__.py: my_package/__main__.py was executed\n",
      "a_module: Hi from my_package/a_module.py!\n",
      "a_module: I was invoked from a Python module (probably using 'import').\n",
      "a_module: My name is = a_module\n"
     ]
    }
   ],
   "source": [
    "!python my_package # Running a Python package as a script"
   ]
  },
  {
   "cell_type": "markdown",
   "metadata": {},
   "source": [
    "Notice that the file `__main__.py` has been run (which in the end is a module named `__main__`)."
   ]
  },
  {
   "cell_type": "markdown",
   "metadata": {},
   "source": [
    "## Using the *hash bang* available from the Shell\n",
    "\n",
    "In Bash, the first line of a shell script can be used to specify the script interpreter that should be used to process the rest of the script file. Therefore, if we place in the first line of the script:"
   ]
  },
  {
   "cell_type": "code",
   "execution_count": 12,
   "metadata": {},
   "outputs": [
    {
     "name": "stdout",
     "output_type": "stream",
     "text": [
      "#!/usr/bin/env python\n"
     ]
    }
   ],
   "source": [
    "!head -n 1 my_module.py"
   ]
  },
  {
   "cell_type": "markdown",
   "metadata": {},
   "source": [
    "the rest of the script will be run by the Python interpreter. Example (notice that the permissions of the file allows to run it directly):"
   ]
  },
  {
   "cell_type": "code",
   "execution_count": 10,
   "metadata": {},
   "outputs": [
    {
     "name": "stdout",
     "output_type": "stream",
     "text": [
      "my_module.py: Hi from __main__.py!\n",
      "my_module.py: I was invoked from a script.\n",
      "my_module.py: My name is = __main__\n"
     ]
    }
   ],
   "source": [
    "%%bash\n",
    "./my_module.py"
   ]
  },
  {
   "cell_type": "markdown",
   "metadata": {},
   "source": [
    "Notice also that the hash bang line is considered as a comment by the Python interpreter."
   ]
  },
  {
   "cell_type": "markdown",
   "metadata": {},
   "source": [
    "## More about importing\n",
    "Python's `import` search for the packages through (in this order):\n",
    "1. The built-in Python modules of the Python’s Standard Library (PSL), which are compiled directly into the Python interpreter.\n",
    "2. The list of paths returned by `sys.path`.\n",
    "3. The rest of modules of the PSL."
   ]
  },
  {
   "cell_type": "markdown",
   "metadata": {},
   "source": [
    "The built-in modules can be found by:"
   ]
  },
  {
   "cell_type": "code",
   "execution_count": 12,
   "metadata": {},
   "outputs": [
    {
     "data": {
      "text/plain": [
       "('_abc',\n",
       " '_ast',\n",
       " '_codecs',\n",
       " '_collections',\n",
       " '_functools',\n",
       " '_imp',\n",
       " '_io',\n",
       " '_locale',\n",
       " '_operator',\n",
       " '_signal',\n",
       " '_sre',\n",
       " '_stat',\n",
       " '_string',\n",
       " '_symtable',\n",
       " '_thread',\n",
       " '_tracemalloc',\n",
       " '_warnings',\n",
       " '_weakref',\n",
       " 'atexit',\n",
       " 'builtins',\n",
       " 'errno',\n",
       " 'faulthandler',\n",
       " 'gc',\n",
       " 'itertools',\n",
       " 'marshal',\n",
       " 'posix',\n",
       " 'pwd',\n",
       " 'sys',\n",
       " 'time',\n",
       " 'xxsubtype')"
      ]
     },
     "execution_count": 12,
     "metadata": {},
     "output_type": "execute_result"
    }
   ],
   "source": [
    "import sys\n",
    "sys.builtin_module_names"
   ]
  },
  {
   "cell_type": "markdown",
   "metadata": {},
   "source": [
    "For this example, we can see that `sys` usually is implemented (in C) as a built-in module."
   ]
  },
  {
   "cell_type": "markdown",
   "metadata": {},
   "source": [
    "Next, the interpreter checks `sys.path`:"
   ]
  },
  {
   "cell_type": "code",
   "execution_count": 11,
   "metadata": {},
   "outputs": [
    {
     "data": {
      "text/plain": [
       "['/home/vruiz/YAPT/02-basics',\n",
       " '/usr/lib/python38.zip',\n",
       " '/usr/lib/python3.8',\n",
       " '/usr/lib/python3.8/lib-dynload',\n",
       " '',\n",
       " '/home/vruiz/.local/lib/python3.8/site-packages',\n",
       " '/usr/lib/python3.8/site-packages',\n",
       " '/home/vruiz/.local/lib/python3.8/site-packages/IPython/extensions',\n",
       " '/home/vruiz/.ipython']"
      ]
     },
     "execution_count": 11,
     "metadata": {},
     "output_type": "execute_result"
    }
   ],
   "source": [
    "import sys\n",
    "sys.path"
   ]
  },
  {
   "cell_type": "markdown",
   "metadata": {},
   "source": [
    "Which is populated with (and in this order):\n",
    "1. The directory containing the input script (or the current directory when no file is specified).\n",
    "2. The environment variable PYTHONPATH (as a list of directory names, with the same syntax as the shell variable PATH).\n",
    "3. The installation-dependent defaults."
   ]
  },
  {
   "cell_type": "markdown",
   "metadata": {},
   "source": [
    "Therefore, if we create a module in our current directory with the same name that a module of the PSL, the interpreter will use our module and it will not be way of using the module of the PSL. On the contrary, if we create a module with the same name that a built-in module, the interpreter will ignore our module. To do the things more complicated, `sys.path` can be modified in running time, making more difficult to figure out which module will be imported when there is an overlaping between module names."
   ]
  },
  {
   "cell_type": "markdown",
   "metadata": {},
   "source": [
    "A way of overcoming this is to name our modules in such a way that they cannot overwrite a PSL module. To do this, we need a way of checking the current list of importable modules. Notice however, that this is not an definitive solution (in the future, the PSL could implement a module with the name we have selected). "
   ]
  },
  {
   "cell_type": "markdown",
   "metadata": {},
   "source": [
    "### Getting the list of importable modules "
   ]
  },
  {
   "cell_type": "markdown",
   "metadata": {},
   "source": [
    "All available modules:"
   ]
  },
  {
   "cell_type": "code",
   "execution_count": 14,
   "metadata": {},
   "outputs": [
    {
     "data": {
      "text/plain": [
       "['my_module',\n",
       " 'my_package',\n",
       " '__future__',\n",
       " '_bootlocale',\n",
       " '_collections_abc',\n",
       " '_compat_pickle',\n",
       " '_compression',\n",
       " '_dummy_thread',\n",
       " '_markupbase',\n",
       " '_osx_support',\n",
       " '_py_abc',\n",
       " '_pydecimal',\n",
       " '_pyio',\n",
       " '_sitebuiltins',\n",
       " '_strptime',\n",
       " '_sysconfigdata__linux_x86_64-linux-gnu',\n",
       " '_threading_local',\n",
       " '_weakrefset',\n",
       " 'abc',\n",
       " 'aifc',\n",
       " 'antigravity',\n",
       " 'argparse',\n",
       " 'ast',\n",
       " 'asynchat',\n",
       " 'asyncio',\n",
       " 'asyncore',\n",
       " 'base64',\n",
       " 'bdb',\n",
       " 'binhex',\n",
       " 'bisect',\n",
       " 'bz2',\n",
       " 'cProfile',\n",
       " 'calendar',\n",
       " 'cgi',\n",
       " 'cgitb',\n",
       " 'chunk',\n",
       " 'cmd',\n",
       " 'code',\n",
       " 'codecs',\n",
       " 'codeop',\n",
       " 'collections',\n",
       " 'colorsys',\n",
       " 'compileall',\n",
       " 'concurrent',\n",
       " 'configparser',\n",
       " 'contextlib',\n",
       " 'contextvars',\n",
       " 'copy',\n",
       " 'copyreg',\n",
       " 'crypt',\n",
       " 'csv',\n",
       " 'ctypes',\n",
       " 'curses',\n",
       " 'dataclasses',\n",
       " 'datetime',\n",
       " 'dbm',\n",
       " 'decimal',\n",
       " 'difflib',\n",
       " 'dis',\n",
       " 'distutils',\n",
       " 'doctest',\n",
       " 'dummy_threading',\n",
       " 'email',\n",
       " 'encodings',\n",
       " 'ensurepip',\n",
       " 'enum',\n",
       " 'filecmp',\n",
       " 'fileinput',\n",
       " 'fnmatch',\n",
       " 'formatter',\n",
       " 'fractions',\n",
       " 'ftplib',\n",
       " 'functools',\n",
       " 'genericpath',\n",
       " 'getopt',\n",
       " 'getpass',\n",
       " 'gettext',\n",
       " 'glob',\n",
       " 'gzip',\n",
       " 'hashlib',\n",
       " 'heapq',\n",
       " 'hmac',\n",
       " 'html',\n",
       " 'http',\n",
       " 'idlelib',\n",
       " 'imaplib',\n",
       " 'imghdr',\n",
       " 'imp',\n",
       " 'importlib',\n",
       " 'inspect',\n",
       " 'io',\n",
       " 'ipaddress',\n",
       " 'json',\n",
       " 'keyword',\n",
       " 'lib2to3',\n",
       " 'linecache',\n",
       " 'locale',\n",
       " 'logging',\n",
       " 'lzma',\n",
       " 'mailbox',\n",
       " 'mailcap',\n",
       " 'mimetypes',\n",
       " 'modulefinder',\n",
       " 'multiprocessing',\n",
       " 'netrc',\n",
       " 'nntplib',\n",
       " 'ntpath',\n",
       " 'nturl2path',\n",
       " 'numbers',\n",
       " 'opcode',\n",
       " 'operator',\n",
       " 'optparse',\n",
       " 'os',\n",
       " 'pathlib',\n",
       " 'pdb',\n",
       " 'pickle',\n",
       " 'pickletools',\n",
       " 'pipes',\n",
       " 'pkgutil',\n",
       " 'platform',\n",
       " 'plistlib',\n",
       " 'poplib',\n",
       " 'posixpath',\n",
       " 'pprint',\n",
       " 'profile',\n",
       " 'pstats',\n",
       " 'pty',\n",
       " 'py_compile',\n",
       " 'pyclbr',\n",
       " 'pydoc',\n",
       " 'pydoc_data',\n",
       " 'pyopenvdb',\n",
       " 'queue',\n",
       " 'quopri',\n",
       " 'random',\n",
       " 're',\n",
       " 'reprlib',\n",
       " 'rlcompleter',\n",
       " 'runpy',\n",
       " 'sched',\n",
       " 'secrets',\n",
       " 'selectors',\n",
       " 'shelve',\n",
       " 'shlex',\n",
       " 'shutil',\n",
       " 'signal',\n",
       " 'site',\n",
       " 'smtpd',\n",
       " 'smtplib',\n",
       " 'sndhdr',\n",
       " 'socket',\n",
       " 'socketserver',\n",
       " 'sqlite3',\n",
       " 'sre_compile',\n",
       " 'sre_constants',\n",
       " 'sre_parse',\n",
       " 'ssl',\n",
       " 'stat',\n",
       " 'statistics',\n",
       " 'string',\n",
       " 'stringprep',\n",
       " 'struct',\n",
       " 'subprocess',\n",
       " 'sunau',\n",
       " 'symbol',\n",
       " 'symtable',\n",
       " 'sysconfig',\n",
       " 'tabnanny',\n",
       " 'tarfile',\n",
       " 'telnetlib',\n",
       " 'tempfile',\n",
       " 'textwrap',\n",
       " 'this',\n",
       " 'threading',\n",
       " 'timeit',\n",
       " 'tkinter',\n",
       " 'token',\n",
       " 'tokenize',\n",
       " 'trace',\n",
       " 'traceback',\n",
       " 'tracemalloc',\n",
       " 'tty',\n",
       " 'turtle',\n",
       " 'turtledemo',\n",
       " 'types',\n",
       " 'typing',\n",
       " 'unittest',\n",
       " 'urllib',\n",
       " 'uu',\n",
       " 'uuid',\n",
       " 'venv',\n",
       " 'warnings',\n",
       " 'wave',\n",
       " 'weakref',\n",
       " 'webbrowser',\n",
       " 'wsgiref',\n",
       " 'xdrlib',\n",
       " 'xml',\n",
       " 'xmlrpc',\n",
       " 'zipapp',\n",
       " 'zipfile',\n",
       " 'zipimport',\n",
       " '_asyncio',\n",
       " '_bisect',\n",
       " '_blake2',\n",
       " '_bz2',\n",
       " '_codecs_cn',\n",
       " '_codecs_hk',\n",
       " '_codecs_iso2022',\n",
       " '_codecs_jp',\n",
       " '_codecs_kr',\n",
       " '_codecs_tw',\n",
       " '_contextvars',\n",
       " '_crypt',\n",
       " '_csv',\n",
       " '_ctypes',\n",
       " '_ctypes_test',\n",
       " '_curses',\n",
       " '_curses_panel',\n",
       " '_datetime',\n",
       " '_dbm',\n",
       " '_decimal',\n",
       " '_elementtree',\n",
       " '_gdbm',\n",
       " '_hashlib',\n",
       " '_heapq',\n",
       " '_json',\n",
       " '_lsprof',\n",
       " '_lzma',\n",
       " '_md5',\n",
       " '_multibytecodec',\n",
       " '_multiprocessing',\n",
       " '_opcode',\n",
       " '_pickle',\n",
       " '_posixshmem',\n",
       " '_posixsubprocess',\n",
       " '_queue',\n",
       " '_random',\n",
       " '_sha1',\n",
       " '_sha256',\n",
       " '_sha3',\n",
       " '_sha512',\n",
       " '_socket',\n",
       " '_sqlite3',\n",
       " '_ssl',\n",
       " '_statistics',\n",
       " '_struct',\n",
       " '_testbuffer',\n",
       " '_testcapi',\n",
       " '_testimportmultiple',\n",
       " '_testinternalcapi',\n",
       " '_testmultiphase',\n",
       " '_tkinter',\n",
       " '_uuid',\n",
       " '_xxsubinterpreters',\n",
       " '_xxtestfuzz',\n",
       " 'array',\n",
       " 'audioop',\n",
       " 'binascii',\n",
       " 'cmath',\n",
       " 'fcntl',\n",
       " 'grp',\n",
       " 'math',\n",
       " 'mmap',\n",
       " 'nis',\n",
       " 'ossaudiodev',\n",
       " 'parser',\n",
       " 'pyexpat',\n",
       " 'readline',\n",
       " 'resource',\n",
       " 'select',\n",
       " 'spwd',\n",
       " 'syslog',\n",
       " 'termios',\n",
       " 'unicodedata',\n",
       " 'xxlimited',\n",
       " 'zlib',\n",
       " 'IPython',\n",
       " 'PIL',\n",
       " '_cffi_backend',\n",
       " '_pyrsistent_version',\n",
       " '_sounddevice',\n",
       " 'async_generator',\n",
       " 'attr',\n",
       " 'backcall',\n",
       " 'bleach',\n",
       " 'cffi',\n",
       " 'cv2',\n",
       " 'cycler',\n",
       " 'dateutil',\n",
       " 'decorator',\n",
       " 'defusedxml',\n",
       " 'easy_install',\n",
       " 'entrypoints',\n",
       " 'imageio',\n",
       " 'ipykernel',\n",
       " 'ipykernel_launcher',\n",
       " 'ipython_genutils',\n",
       " 'ipywidgets',\n",
       " 'jedi',\n",
       " 'jinja2',\n",
       " 'jsonschema',\n",
       " 'jupyter',\n",
       " 'jupyter_client',\n",
       " 'jupyter_console',\n",
       " 'jupyter_core',\n",
       " 'jupyter_server',\n",
       " 'jupyterlab_pygments',\n",
       " 'kiwisolver',\n",
       " 'markupsafe',\n",
       " 'matplotlib',\n",
       " 'mistune',\n",
       " 'nbconvert',\n",
       " 'nbformat',\n",
       " 'networkx',\n",
       " 'notebook',\n",
       " 'numpy',\n",
       " 'pandocfilters',\n",
       " 'parso',\n",
       " 'pickleshare',\n",
       " 'pip',\n",
       " 'pkg_resources',\n",
       " 'prometheus_client',\n",
       " 'prompt_toolkit',\n",
       " 'pvectorc',\n",
       " 'pycparser',\n",
       " 'pygments',\n",
       " 'pylab',\n",
       " 'pyrsistent',\n",
       " 'pywt',\n",
       " 'qtconsole',\n",
       " 'scipy',\n",
       " 'send2trash',\n",
       " 'setuptools',\n",
       " 'skimage',\n",
       " 'sounddevice',\n",
       " 'terminado',\n",
       " 'testpath',\n",
       " 'tornado',\n",
       " 'traitlets',\n",
       " 'voila',\n",
       " 'wcwidth',\n",
       " 'widgetsnbextension',\n",
       " 'zmq',\n",
       " 'DistUtilsExtra',\n",
       " 'LibAppArmor',\n",
       " 'OpenImageIO',\n",
       " 'PyOpenColorIO',\n",
       " 'PyQt5',\n",
       " '_blueman',\n",
       " '_dbus_bindings',\n",
       " '_dbus_glib_bindings',\n",
       " '_ftdi1',\n",
       " '_ldb_text',\n",
       " '_orcus',\n",
       " '_orcus_json',\n",
       " '_snack',\n",
       " '_tdb_text',\n",
       " '_tevent',\n",
       " '_volume_key',\n",
       " '_yaml',\n",
       " 'apparmor',\n",
       " 'appdirs',\n",
       " 'application_utility',\n",
       " 'avahi',\n",
       " 'blueman',\n",
       " 'bs4',\n",
       " 'btrfsutil',\n",
       " 'bytesize',\n",
       " 'cachecontrol',\n",
       " 'cairo',\n",
       " 'ceph_argparse',\n",
       " 'ceph_daemon',\n",
       " 'ceph_volume',\n",
       " 'ceph_volume_client',\n",
       " 'cephfs',\n",
       " 'chardet',\n",
       " 'colorama',\n",
       " 'contextlib2',\n",
       " 'dbus',\n",
       " 'distlib',\n",
       " 'distro',\n",
       " 'docopt',\n",
       " 'docutils',\n",
       " 'drv_libxml2',\n",
       " 'ftdi1',\n",
       " 'gi',\n",
       " 'gufw',\n",
       " 'html5lib',\n",
       " 'idna',\n",
       " 'iex',\n",
       " 'imath',\n",
       " 'imathnumpy',\n",
       " 'imobiledevice',\n",
       " 'importlib_metadata',\n",
       " 'ixion',\n",
       " 'keyutils',\n",
       " 'ldb',\n",
       " 'lensfun',\n",
       " 'libmount',\n",
       " 'libproxy',\n",
       " 'libtorrent',\n",
       " 'libvoikko',\n",
       " 'libxml2',\n",
       " 'libxml2mod',\n",
       " 'lightdm_gtk_greeter_settings',\n",
       " 'lilv',\n",
       " 'lirc',\n",
       " 'lockfile',\n",
       " 'lxml',\n",
       " 'meld',\n",
       " 'menulibre',\n",
       " 'menulibre_lib',\n",
       " 'mesonbuild',\n",
       " 'more_itertools',\n",
       " 'msgpack',\n",
       " 'mugshot',\n",
       " 'mugshot_lib',\n",
       " 'npyscreen',\n",
       " 'orcus',\n",
       " 'ordered_set',\n",
       " 'packaging',\n",
       " 'pacman_mirrors',\n",
       " 'pep517',\n",
       " 'pexpect',\n",
       " 'plist',\n",
       " 'progress',\n",
       " 'psutil',\n",
       " 'ptyprocess',\n",
       " 'pygame',\n",
       " 'pygtkcompat',\n",
       " 'pyparsing',\n",
       " 'pytoml',\n",
       " 'rados',\n",
       " 'rbd',\n",
       " 'requests',\n",
       " 'resolvelib',\n",
       " 'retrying',\n",
       " 'rgw',\n",
       " 'samba',\n",
       " 'sip',\n",
       " 'sipconfig',\n",
       " 'sipdistutils',\n",
       " 'six',\n",
       " 'snack',\n",
       " 'soupsieve',\n",
       " 'talloc',\n",
       " 'tdb',\n",
       " 'team',\n",
       " 'tevent',\n",
       " 'toml',\n",
       " 'udiskie',\n",
       " 'ufw',\n",
       " 'uno',\n",
       " 'unohelper',\n",
       " 'urllib3',\n",
       " 'volume_key',\n",
       " 'webencodings',\n",
       " 'xcbgen',\n",
       " 'xdg',\n",
       " 'yaml',\n",
       " 'youtube_dl',\n",
       " 'zbar',\n",
       " 'zeitgeist',\n",
       " 'zipp',\n",
       " 'autoreload',\n",
       " 'cythonmagic',\n",
       " 'rmagic',\n",
       " 'storemagic',\n",
       " 'sympyprinting',\n",
       " 'tests']"
      ]
     },
     "execution_count": 14,
     "metadata": {},
     "output_type": "execute_result"
    }
   ],
   "source": [
    "import pkgutil\n",
    "search_path = ['.'] # set to None to see all modules importable from sys.path\n",
    "search_path = None  # Set to \n",
    "[x[1] for x in pkgutil.iter_modules(path=search_path)]"
   ]
  },
  {
   "cell_type": "markdown",
   "metadata": {},
   "source": [
    "Only the local modules:"
   ]
  },
  {
   "cell_type": "code",
   "execution_count": 15,
   "metadata": {},
   "outputs": [
    {
     "data": {
      "text/plain": [
       "['my_module', 'my_package']"
      ]
     },
     "execution_count": 15,
     "metadata": {},
     "output_type": "execute_result"
    }
   ],
   "source": [
    "import pkgutil\n",
    "search_path = ['.']\n",
    "[x[1] for x in pkgutil.iter_modules(path=search_path)]"
   ]
  },
  {
   "cell_type": "markdown",
   "metadata": {},
   "source": [
    "## Absolute and relative imports\n",
    "A more valid solution to avoid the module/package collisions is to import the modules using absolute (or relative, although absolute are prefeered) paths."
   ]
  },
  {
   "cell_type": "markdown",
   "metadata": {},
   "source": [
    "This is an \"absolute\" import:"
   ]
  },
  {
   "cell_type": "code",
   "execution_count": 21,
   "metadata": {},
   "outputs": [
    {
     "data": {
      "text/plain": [
       "1"
      ]
     },
     "execution_count": 21,
     "metadata": {},
     "output_type": "execute_result"
    }
   ],
   "source": [
    "import my_package.a_module\n",
    "my_package.a_module.a"
   ]
  },
  {
   "cell_type": "markdown",
   "metadata": {},
   "source": [
    "This is an \"relative\" import:"
   ]
  },
  {
   "cell_type": "code",
   "execution_count": 27,
   "metadata": {},
   "outputs": [
    {
     "data": {
      "text/plain": [
       "1"
      ]
     },
     "execution_count": 27,
     "metadata": {},
     "output_type": "execute_result"
    }
   ],
   "source": [
    "from my_package import a_module\n",
    "a_module.a"
   ]
  }
 ],
 "metadata": {
  "kernelspec": {
   "display_name": "Python 3 (ipykernel)",
   "language": "python",
   "name": "python3"
  },
  "language_info": {
   "codemirror_mode": {
    "name": "ipython",
    "version": 3
   },
   "file_extension": ".py",
   "mimetype": "text/x-python",
   "name": "python",
   "nbconvert_exporter": "python",
   "pygments_lexer": "ipython3",
   "version": "3.10.6"
  }
 },
 "nbformat": 4,
 "nbformat_minor": 4
}
