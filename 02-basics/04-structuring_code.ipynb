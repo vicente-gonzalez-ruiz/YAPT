{
 "cells": [
  {
   "cell_type": "markdown",
   "metadata": {},
   "source": [
    "# Structuring code\n",
    "An structured code is easier to be maintained and reused."
   ]
  },
  {
   "cell_type": "markdown",
   "metadata": {},
   "source": [
    "## Modules and packages\n",
    "\n",
    "Python code can be organized into modules and packages (folders with other folders and modules). A module is a piece of code stored in a file. For example (notice that the name of the module is the name of the corresponding file without its extension: `my_module` is the name of the module; `my_module.py` is the name of the file):"
   ]
  },
  {
   "cell_type": "code",
   "execution_count": 1,
   "metadata": {},
   "outputs": [
    {
     "name": "stdout",
     "output_type": "stream",
     "text": [
      "#!/usr/bin/env python\n",
      "\n",
      "a = 1\n",
      "print(\"my_module.py: Hi from \" + __name__ + \".py!\")\n",
      "\n",
      "if __name__ == \"__main__\":\n",
      "  print(\"my_module.py: I was invoked from a script.\")\n",
      "else:\n",
      "  print(\"my_module.py: I was invoked from a Python module (probably using 'import').\")\n",
      "print(\"my_module.py: My name is =\", __name__)\n"
     ]
    }
   ],
   "source": [
    "!cat my_module.py"
   ]
  },
  {
   "cell_type": "markdown",
   "metadata": {},
   "source": [
    "This is an example of a package:"
   ]
  },
  {
   "cell_type": "code",
   "execution_count": 3,
   "metadata": {},
   "outputs": [
    {
     "name": "stdout",
     "output_type": "stream",
     "text": [
      "\u001b[01;34mmy_package\u001b[0m\n",
      "├── a_module.py\n",
      "├── __init__.py\n",
      "└── __main__.py\n",
      "\n",
      "0 directories, 3 files\n"
     ]
    }
   ],
   "source": [
    "!tree my_package"
   ]
  },
  {
   "cell_type": "code",
   "execution_count": 4,
   "metadata": {},
   "outputs": [
    {
     "name": "stdout",
     "output_type": "stream",
     "text": [
      "print(\"__init__.py: my_package/__init__.py was executed\")\n",
      "import my_package.a_module\n"
     ]
    }
   ],
   "source": [
    "!cat my_package/__init__.py"
   ]
  },
  {
   "cell_type": "code",
   "execution_count": 5,
   "metadata": {},
   "outputs": [
    {
     "name": "stdout",
     "output_type": "stream",
     "text": [
      "print(\"__main__.py: my_package/__main__.py was executed\")\n",
      "import a_module\n"
     ]
    }
   ],
   "source": [
    "!cat my_package/__main__.py"
   ]
  },
  {
   "cell_type": "code",
   "execution_count": 6,
   "metadata": {},
   "outputs": [
    {
     "name": "stdout",
     "output_type": "stream",
     "text": [
      "a = 1\n",
      "print(\"a_module: Hi from my_package/\" + __name__ + \".py!\")\n",
      "\n",
      "if __name__ == \"__main__\":\n",
      "  print(\"a_module: I was invoked from a script.\")\n",
      "else:\n",
      "  print(\"a_module: I was invoked from a Pyton module (probably using 'import').\") \n",
      "print(\"a_module: My name is =\", __name__)\n"
     ]
    }
   ],
   "source": [
    "!cat my_package/a_module.py"
   ]
  },
  {
   "cell_type": "markdown",
   "metadata": {},
   "source": [
    "`__main__.py` and `__init__.py` are optional files:\n",
    "* `__main__.py` is implicitly invoked when the package is run from an shell script.\n",
    "* `__init__.py` is implicitly invoked with the package is run from Python (probably using `import`)."
   ]
  },
  {
   "cell_type": "markdown",
   "metadata": {},
   "source": [
    "## Running code\n",
    "Python code can be run in several different ways."
   ]
  },
  {
   "cell_type": "markdown",
   "metadata": {},
   "source": [
    "### Using Python's `import` command\n",
    "`import` loads and runs a module or a package. The module must be refered by it's name (nor the filename). The package must be refered by the name of the directory. Module/package importation using `import` only works the first time. Examples:"
   ]
  },
  {
   "cell_type": "code",
   "execution_count": 7,
   "metadata": {},
   "outputs": [
    {
     "name": "stdout",
     "output_type": "stream",
     "text": [
      "my_module.py: Hi from my_module.py!\n",
      "my_module.py: I was invoked from a Python module (probably using 'import').\n",
      "my_module.py: My name is = my_module\n"
     ]
    }
   ],
   "source": [
    "import my_module # Running a Python module as a module"
   ]
  },
  {
   "cell_type": "code",
   "execution_count": 8,
   "metadata": {},
   "outputs": [
    {
     "name": "stdout",
     "output_type": "stream",
     "text": [
      "__init__.py: my_package/__init__.py was executed\n",
      "a_module: Hi from my_package/my_package.a_module.py!\n",
      "a_module: I was invoked from a Python module (probably using 'import').\n",
      "a_module: My name is = my_package.a_module\n"
     ]
    }
   ],
   "source": [
    "import my_package # Running a Python package as a module"
   ]
  },
  {
   "cell_type": "markdown",
   "metadata": {},
   "source": [
    "Notice that the file `__init__.py` has been run and that the name of a module in the package is the relative (from the interpreter invocation directory) *dotted*-path to the module name."
   ]
  },
  {
   "cell_type": "markdown",
   "metadata": {},
   "source": [
    "### Listing the names of a (in this case) a module:"
   ]
  },
  {
   "cell_type": "code",
   "execution_count": 17,
   "metadata": {},
   "outputs": [
    {
     "data": {
      "text/plain": [
       "['__builtins__',\n",
       " '__cached__',\n",
       " '__doc__',\n",
       " '__file__',\n",
       " '__loader__',\n",
       " '__name__',\n",
       " '__package__',\n",
       " '__spec__',\n",
       " 'a']"
      ]
     },
     "execution_count": 17,
     "metadata": {},
     "output_type": "execute_result"
    }
   ],
   "source": [
    "dir(my_module)"
   ]
  },
  {
   "cell_type": "code",
   "execution_count": 18,
   "metadata": {},
   "outputs": [
    {
     "data": {
      "text/plain": [
       "['__builtins__',\n",
       " '__cached__',\n",
       " '__doc__',\n",
       " '__file__',\n",
       " '__loader__',\n",
       " '__name__',\n",
       " '__package__',\n",
       " '__path__',\n",
       " '__spec__',\n",
       " 'a_module',\n",
       " 'my_package']"
      ]
     },
     "execution_count": 18,
     "metadata": {},
     "output_type": "execute_result"
    }
   ],
   "source": [
    "dir(my_package)"
   ]
  },
  {
   "cell_type": "code",
   "execution_count": 19,
   "metadata": {},
   "outputs": [
    {
     "data": {
      "text/plain": [
       "['__builtins__',\n",
       " '__cached__',\n",
       " '__doc__',\n",
       " '__file__',\n",
       " '__loader__',\n",
       " '__name__',\n",
       " '__package__',\n",
       " '__spec__',\n",
       " 'a']"
      ]
     },
     "execution_count": 19,
     "metadata": {},
     "output_type": "execute_result"
    }
   ],
   "source": [
    "dir(my_package.a_module)"
   ]
  },
  {
   "cell_type": "markdown",
   "metadata": {},
   "source": [
    "Module/package structures are accesible from the invoker code using the notation: `<module/package_name>.<structure>`. Examples:"
   ]
  },
  {
   "cell_type": "code",
   "execution_count": 16,
   "metadata": {},
   "outputs": [
    {
     "data": {
      "text/plain": [
       "1"
      ]
     },
     "execution_count": 16,
     "metadata": {},
     "output_type": "execute_result"
    }
   ],
   "source": [
    "my_module.a"
   ]
  },
  {
   "cell_type": "code",
   "execution_count": 20,
   "metadata": {},
   "outputs": [
    {
     "data": {
      "text/plain": [
       "1"
      ]
     },
     "execution_count": 20,
     "metadata": {},
     "output_type": "execute_result"
    }
   ],
   "source": [
    "my_package.a_module.a"
   ]
  },
  {
   "cell_type": "markdown",
   "metadata": {},
   "source": [
    "Sumarizing: `import` loads and runs the code of a module, and loads and runs the code of the `__init__.py` file of a package."
   ]
  },
  {
   "cell_type": "markdown",
   "metadata": {},
   "source": [
    "### Using the Python interpreter"
   ]
  },
  {
   "cell_type": "code",
   "execution_count": 8,
   "metadata": {},
   "outputs": [
    {
     "name": "stdout",
     "output_type": "stream",
     "text": [
      "my_module.py: Hi from __main__.py!\r\n",
      "my_module.py: I was invoked from a script.\r\n",
      "my_module.py: My name is = __main__\r\n"
     ]
    }
   ],
   "source": [
    "!python -m my_module # Running a Python module as a script"
   ]
  },
  {
   "cell_type": "markdown",
   "metadata": {},
   "source": [
    "Notice that in this case the module does not know its name."
   ]
  },
  {
   "cell_type": "code",
   "execution_count": 9,
   "metadata": {},
   "outputs": [
    {
     "name": "stdout",
     "output_type": "stream",
     "text": [
      "__main__.py: my_package/__main__.py was executed\n",
      "a_module: Hi from my_package/a_module.py!\n",
      "a_module: I was invoked from a Python module (probably using 'import').\n",
      "a_module: My name is = a_module\n"
     ]
    }
   ],
   "source": [
    "!python my_package # Running a Python package as a script"
   ]
  },
  {
   "cell_type": "markdown",
   "metadata": {},
   "source": [
    "Notice that the file `__main__.py` has been run (which in the end is a module named `__main__`)."
   ]
  },
  {
   "cell_type": "markdown",
   "metadata": {},
   "source": [
    "## Using the *hash bang* available from the Shell\n",
    "\n",
    "In Bash, the first line of a shell script can be used to specify the script interpreter that should be used to process the rest of the script file. Therefore, if we place in the first line of the script:"
   ]
  },
  {
   "cell_type": "code",
   "execution_count": 12,
   "metadata": {},
   "outputs": [
    {
     "name": "stdout",
     "output_type": "stream",
     "text": [
      "#!/usr/bin/env python\n"
     ]
    }
   ],
   "source": [
    "!head -n 1 my_module.py"
   ]
  },
  {
   "cell_type": "markdown",
   "metadata": {},
   "source": [
    "the rest of the script will be run by the Python interpreter. Example (notice that the permissions of the file allows to run it directly):"
   ]
  },
  {
   "cell_type": "code",
   "execution_count": 10,
   "metadata": {},
   "outputs": [
    {
     "name": "stdout",
     "output_type": "stream",
     "text": [
      "my_module.py: Hi from __main__.py!\n",
      "my_module.py: I was invoked from a script.\n",
      "my_module.py: My name is = __main__\n"
     ]
    }
   ],
   "source": [
    "%%bash\n",
    "./my_module.py"
   ]
  },
  {
   "cell_type": "markdown",
   "metadata": {},
   "source": [
    "Notice also that the hash bang line is considered as a comment by the Python interpreter."
   ]
  },
  {
   "cell_type": "markdown",
   "metadata": {},
   "source": [
    "## More about importing\n",
    "Python's `import` search for the packages through (in this order):\n",
    "1. The built-in Python modules of the Python’s Standard Library (PSL), which are compiled directly into the Python interpreter.\n",
    "2. The list of paths returned by `sys.path`.\n",
    "3. The rest of modules of the PSL."
   ]
  },
  {
   "cell_type": "markdown",
   "metadata": {},
   "source": [
    "The built-in modules can be found by:"
   ]
  },
  {
   "cell_type": "code",
   "execution_count": 12,
   "metadata": {},
   "outputs": [
    {
     "data": {
      "text/plain": [
       "('_abc',\n",
       " '_ast',\n",
       " '_codecs',\n",
       " '_collections',\n",
       " '_functools',\n",
       " '_imp',\n",
       " '_io',\n",
       " '_locale',\n",
       " '_operator',\n",
       " '_signal',\n",
       " '_sre',\n",
       " '_stat',\n",
       " '_string',\n",
       " '_symtable',\n",
       " '_thread',\n",
       " '_tracemalloc',\n",
       " '_warnings',\n",
       " '_weakref',\n",
       " 'atexit',\n",
       " 'builtins',\n",
       " 'errno',\n",
       " 'faulthandler',\n",
       " 'gc',\n",
       " 'itertools',\n",
       " 'marshal',\n",
       " 'posix',\n",
       " 'pwd',\n",
       " 'sys',\n",
       " 'time',\n",
       " 'xxsubtype')"
      ]
     },
     "execution_count": 12,
     "metadata": {},
     "output_type": "execute_result"
    }
   ],
   "source": [
    "import sys\n",
    "sys.builtin_module_names"
   ]
  },
  {
   "cell_type": "markdown",
   "metadata": {},
   "source": [
    "For this example, we can see that `sys` usually is implemented (in C) as a built-in module."
   ]
  },
  {
   "cell_type": "markdown",
   "metadata": {},
   "source": [
    "Next, the interpreter checks `sys.path`:"
   ]
  },
  {
   "cell_type": "code",
   "execution_count": 28,
   "metadata": {},
   "outputs": [
    {
     "data": {
      "text/plain": [
       "['/shared/repos/YAPT/02-basics',\n",
       " '/usr/lib/python310.zip',\n",
       " '/usr/lib/python3.10',\n",
       " '/usr/lib/python3.10/lib-dynload',\n",
       " '',\n",
       " '/home/vruiz/PEs/numba/lib/python3.10/site-packages']"
      ]
     },
     "execution_count": 28,
     "metadata": {},
     "output_type": "execute_result"
    }
   ],
   "source": [
    "import sys\n",
    "sys.path"
   ]
  },
  {
   "cell_type": "markdown",
   "metadata": {},
   "source": [
    "Which is populated with (and in this order):\n",
    "1. The directory containing the input script (or the current directory when no script is specified).\n",
    "2. The environment variable PYTHONPATH (as a list of directory names, with the same syntax as the shell variable PATH).\n",
    "3. The installation-dependent defaults."
   ]
  },
  {
   "cell_type": "markdown",
   "metadata": {},
   "source": [
    "Therefore, if we create a module in our current directory with the same name that a module of the PSL, the interpreter will ignore our module. For example:\n",
    "\n",
    "use our module and it will not be way of using the module of the PSL. On the contrary, if we create a module with the same name that a built-in module, the interpreter will ignore our module. To do the things more complicated, `sys.path` can be modified in running time, making more difficult to figure out which module will be imported when there is an overlaping between module names."
   ]
  },
  {
   "cell_type": "code",
   "execution_count": 29,
   "metadata": {},
   "outputs": [
    {
     "name": "stdout",
     "output_type": "stream",
     "text": [
      "-rw-rw-r-- 1 vruiz vruiz 37 jul 27 11:53 math.py\n",
      "print('I\\'m your local math module')\n"
     ]
    }
   ],
   "source": [
    "!echo \"print('I\\'m your local math module')\" > math.py\n",
    "!ls -l math.py\n",
    "!cat math.py"
   ]
  },
  {
   "cell_type": "code",
   "execution_count": 35,
   "metadata": {},
   "outputs": [
    {
     "name": "stdout",
     "output_type": "stream",
     "text": [
      "['__doc__', '__loader__', '__name__', '__package__', '__spec__', 'acos', 'acosh', 'asin', 'asinh', 'atan', 'atan2', 'atanh', 'ceil', 'comb', 'copysign', 'cos', 'cosh', 'degrees', 'dist', 'e', 'erf', 'erfc', 'exp', 'expm1', 'fabs', 'factorial', 'floor', 'fmod', 'frexp', 'fsum', 'gamma', 'gcd', 'hypot', 'inf', 'isclose', 'isfinite', 'isinf', 'isnan', 'isqrt', 'lcm', 'ldexp', 'lgamma', 'log', 'log10', 'log1p', 'log2', 'modf', 'nan', 'nextafter', 'perm', 'pi', 'pow', 'prod', 'radians', 'remainder', 'sin', 'sinh', 'sqrt', 'tan', 'tanh', 'tau', 'trunc', 'ulp']\n"
     ]
    }
   ],
   "source": [
    "import math\n",
    "print(dir(math))"
   ]
  },
  {
   "cell_type": "code",
   "execution_count": 34,
   "metadata": {},
   "outputs": [
    {
     "name": "stdout",
     "output_type": "stream",
     "text": [
      "['__doc__', '__loader__', '__name__', '__package__', '__spec__', 'acos', 'acosh', 'asin', 'asinh', 'atan', 'atan2', 'atanh', 'ceil', 'comb', 'copysign', 'cos', 'cosh', 'degrees', 'dist', 'e', 'erf', 'erfc', 'exp', 'expm1', 'fabs', 'factorial', 'floor', 'fmod', 'frexp', 'fsum', 'gamma', 'gcd', 'hypot', 'inf', 'isclose', 'isfinite', 'isinf', 'isnan', 'isqrt', 'lcm', 'ldexp', 'lgamma', 'log', 'log10', 'log1p', 'log2', 'modf', 'nan', 'nextafter', 'perm', 'pi', 'pow', 'prod', 'radians', 'remainder', 'sin', 'sinh', 'sqrt', 'tan', 'tanh', 'tau', 'trunc', 'ulp']\n"
     ]
    }
   ],
   "source": [
    "!python -c \"import math; print(dir(math))\""
   ]
  },
  {
   "cell_type": "code",
   "execution_count": 36,
   "metadata": {},
   "outputs": [],
   "source": [
    "!rm math.py"
   ]
  },
  {
   "cell_type": "markdown",
   "metadata": {},
   "source": [
    "If we want to use a module with the same name that a module of the PSL, we must change its name of put in inside of a folder. Example:"
   ]
  },
  {
   "cell_type": "code",
   "execution_count": 37,
   "metadata": {},
   "outputs": [
    {
     "name": "stdout",
     "output_type": "stream",
     "text": [
      "-rw-rw-r-- 1 vruiz vruiz 37 jul 27 11:57 my_math.py\n",
      "print('I\\'m your local math module')\n"
     ]
    }
   ],
   "source": [
    "!echo \"print('I\\'m your local math module')\" > my_math.py\n",
    "!ls -l my_math.py\n",
    "!cat my_math.py"
   ]
  },
  {
   "cell_type": "code",
   "execution_count": 38,
   "metadata": {},
   "outputs": [
    {
     "name": "stdout",
     "output_type": "stream",
     "text": [
      "I'm your local math module\n"
     ]
    }
   ],
   "source": [
    "import my_math"
   ]
  },
  {
   "cell_type": "code",
   "execution_count": 39,
   "metadata": {},
   "outputs": [
    {
     "name": "stdout",
     "output_type": "stream",
     "text": [
      "-rw-rw-r-- 1 vruiz vruiz 37 jul 27 11:58 lib/math.py\n",
      "print('I\\'m your local math module')\n"
     ]
    }
   ],
   "source": [
    "!rm my_math.py\n",
    "!mkdir lib\n",
    "!echo \"print('I\\'m your local math module')\" > lib/math.py\n",
    "!ls -l lib/math.py\n",
    "!cat lib/math.py"
   ]
  },
  {
   "cell_type": "code",
   "execution_count": 40,
   "metadata": {},
   "outputs": [
    {
     "name": "stdout",
     "output_type": "stream",
     "text": [
      "I'm your local math module\n"
     ]
    }
   ],
   "source": [
    "import lib.math"
   ]
  },
  {
   "cell_type": "code",
   "execution_count": 47,
   "metadata": {},
   "outputs": [],
   "source": [
    "!rm -rf lib"
   ]
  },
  {
   "cell_type": "markdown",
   "metadata": {},
   "source": [
    "### Getting the list of importable modules "
   ]
  },
  {
   "cell_type": "markdown",
   "metadata": {},
   "source": [
    "All available modules:"
   ]
  },
  {
   "cell_type": "code",
   "execution_count": 42,
   "metadata": {},
   "outputs": [
    {
     "name": "stdout",
     "output_type": "stream",
     "text": [
      "['math2', 'my_module', 'my_package', '__future__', '_aix_support', '_bootsubprocess', '_collections_abc', '_compat_pickle', '_compression', '_distutils_system_mod', '_markupbase', '_osx_support', '_py_abc', '_pydecimal', '_pyio', '_sitebuiltins', '_strptime', '_sysconfigdata__linux_x86_64-linux-gnu', '_sysconfigdata__x86_64-linux-gnu', '_threading_local', '_weakrefset', 'abc', 'aifc', 'antigravity', 'argparse', 'ast', 'asynchat', 'asyncio', 'asyncore', 'base64', 'bdb', 'binhex', 'bisect', 'bz2', 'cProfile', 'calendar', 'cgi', 'cgitb', 'chunk', 'cmd', 'code', 'codecs', 'codeop', 'collections', 'colorsys', 'compileall', 'concurrent', 'configparser', 'contextlib', 'contextvars', 'copy', 'copyreg', 'crypt', 'csv', 'ctypes', 'curses', 'dataclasses', 'datetime', 'dbm', 'decimal', 'difflib', 'dis', 'distutils', 'doctest', 'email', 'encodings', 'ensurepip', 'enum', 'filecmp', 'fileinput', 'fnmatch', 'fractions', 'ftplib', 'functools', 'genericpath', 'getopt', 'getpass', 'gettext', 'glob', 'graphlib', 'gzip', 'hashlib', 'heapq', 'hmac', 'html', 'http', 'imaplib', 'imghdr', 'imp', 'importlib', 'inspect', 'io', 'ipaddress', 'json', 'keyword', 'lib2to3', 'linecache', 'locale', 'logging', 'lzma', 'mailbox', 'mailcap', 'mimetypes', 'modulefinder', 'multiprocessing', 'netrc', 'nntplib', 'ntpath', 'nturl2path', 'numbers', 'opcode', 'operator', 'optparse', 'os', 'pathlib', 'pdb', 'pickle', 'pickletools', 'pipes', 'pkgutil', 'platform', 'plistlib', 'poplib', 'posixpath', 'pprint', 'profile', 'pstats', 'pty', 'py_compile', 'pyclbr', 'pydoc', 'pydoc_data', 'queue', 'quopri', 'random', 're', 'reprlib', 'rlcompleter', 'runpy', 'sched', 'secrets', 'selectors', 'shelve', 'shlex', 'shutil', 'signal', 'site', 'sitecustomize', 'smtpd', 'smtplib', 'sndhdr', 'socket', 'socketserver', 'sqlite3', 'sre_compile', 'sre_constants', 'sre_parse', 'ssl', 'stat', 'statistics', 'string', 'stringprep', 'struct', 'subprocess', 'sunau', 'symtable', 'sysconfig', 'tabnanny', 'tarfile', 'telnetlib', 'tempfile', 'test', 'textwrap', 'this', 'threading', 'timeit', 'tkinter', 'token', 'tokenize', 'trace', 'traceback', 'tracemalloc', 'tty', 'turtle', 'types', 'typing', 'unittest', 'urllib', 'uu', 'uuid', 'venv', 'warnings', 'wave', 'weakref', 'webbrowser', 'wsgiref', 'xdrlib', 'xml', 'xmlrpc', 'zipapp', 'zipfile', 'zipimport', 'zoneinfo', '_asyncio', '_bz2', '_codecs_cn', '_codecs_hk', '_codecs_iso2022', '_codecs_jp', '_codecs_kr', '_codecs_tw', '_contextvars', '_crypt', '_ctypes', '_ctypes_test', '_curses', '_curses_panel', '_dbm', '_decimal', '_gdbm', '_hashlib', '_json', '_lsprof', '_lzma', '_multibytecodec', '_multiprocessing', '_opcode', '_posixshmem', '_queue', '_sqlite3', '_ssl', '_testbuffer', '_testcapi', '_testimportmultiple', '_testinternalcapi', '_testmultiphase', '_tkinter', '_uuid', '_xxsubinterpreters', '_xxtestfuzz', '_zoneinfo', 'audioop', 'mmap', 'nis', 'ossaudiodev', 'readline', 'resource', 'termios', 'xxlimited', 'xxlimited_35', 'IPython', '_argon2_cffi_bindings', '_cffi_backend', '_distutils_hack', '_yaml', 'anyio', 'argon2', 'arrow', 'asttokens', 'async_lru', 'attr', 'attrs', 'babel', 'backcall', 'bleach', 'bs4', 'certifi', 'cffi', 'charset_normalizer', 'comm', 'dateutil', 'debugpy', 'decorator', 'defusedxml', 'exceptiongroup', 'executing', 'fastjsonschema', 'fqdn', 'idna', 'ipykernel', 'ipykernel_launcher', 'ipython_genutils', 'ipywidgets', 'isoduration', 'jedi', 'jinja2', 'json5', 'jsonpointer', 'jsonschema', 'jsonschema_specifications', 'jupyter', 'jupyter_client', 'jupyter_console', 'jupyter_core', 'jupyter_events', 'jupyter_lsp', 'jupyter_server', 'jupyter_server_terminals', 'jupyterlab', 'jupyterlab_pygments', 'jupyterlab_server', 'jupyterlab_widgets', 'llvmlite', 'markupsafe', 'matplotlib_inline', 'mistune', 'nbclient', 'nbconvert', 'nbformat', 'nest_asyncio', 'notebook', 'notebook_shim', 'numba', 'numpy', 'overrides', 'packaging', 'pandocfilters', 'parso', 'pexpect', 'pickleshare', 'pip', 'pkg_resources', 'platformdirs', 'prometheus_client', 'prompt_toolkit', 'psutil', 'ptyprocess', 'pure_eval', 'pycparser', 'pygments', 'pythonjsonlogger', 'qtconsole', 'qtpy', 'referencing', 'requests', 'rfc3339_validator', 'rfc3986_validator', 'rpds', 'send2trash', 'setuptools', 'six', 'sniffio', 'soupsieve', 'stack_data', 'terminado', 'tinycss2', 'tomli', 'tornado', 'traitlets', 'typing_extensions', 'uri_template', 'urllib3', 'wcwidth', 'webcolors', 'webencodings', 'websocket', 'widgetsnbextension', 'yaml', 'zmq']\n"
     ]
    }
   ],
   "source": [
    "import pkgutil\n",
    "#search_path = ['.'] # set to None to see all modules importable from sys.path\n",
    "search_path = None  # Set to \n",
    "print([x[1] for x in pkgutil.iter_modules(path=search_path)])"
   ]
  },
  {
   "cell_type": "markdown",
   "metadata": {},
   "source": [
    "Only the modules in the current folder:"
   ]
  },
  {
   "cell_type": "code",
   "execution_count": 45,
   "metadata": {},
   "outputs": [
    {
     "name": "stdout",
     "output_type": "stream",
     "text": [
      "['my_module', 'my_package']\n"
     ]
    }
   ],
   "source": [
    "import pkgutil\n",
    "search_path = ['.']\n",
    "print([x[1] for x in pkgutil.iter_modules(path=search_path)])"
   ]
  },
  {
   "cell_type": "markdown",
   "metadata": {},
   "source": [
    "## Absolute and relative imports\n",
    "A more valid solution to avoid the module/package collisions is to import the modules using absolute (or relative, although absolute are prefeered) paths."
   ]
  },
  {
   "cell_type": "markdown",
   "metadata": {},
   "source": [
    "This is an \"absolute\" import:"
   ]
  },
  {
   "cell_type": "code",
   "execution_count": 21,
   "metadata": {},
   "outputs": [
    {
     "data": {
      "text/plain": [
       "1"
      ]
     },
     "execution_count": 21,
     "metadata": {},
     "output_type": "execute_result"
    }
   ],
   "source": [
    "import my_package.a_module\n",
    "my_package.a_module.a"
   ]
  },
  {
   "cell_type": "markdown",
   "metadata": {},
   "source": [
    "This is an \"relative\" import:"
   ]
  },
  {
   "cell_type": "code",
   "execution_count": 27,
   "metadata": {},
   "outputs": [
    {
     "data": {
      "text/plain": [
       "1"
      ]
     },
     "execution_count": 27,
     "metadata": {},
     "output_type": "execute_result"
    }
   ],
   "source": [
    "from my_package import a_module\n",
    "a_module.a"
   ]
  }
 ],
 "metadata": {
  "kernelspec": {
   "display_name": "Python 3 (ipykernel)",
   "language": "python",
   "name": "python3"
  },
  "language_info": {
   "codemirror_mode": {
    "name": "ipython",
    "version": 3
   },
   "file_extension": ".py",
   "mimetype": "text/x-python",
   "name": "python",
   "nbconvert_exporter": "python",
   "pygments_lexer": "ipython3",
   "version": "3.10.6"
  }
 },
 "nbformat": 4,
 "nbformat_minor": 4
}
