{
 "cells": [
  {
   "cell_type": "markdown",
   "metadata": {},
   "source": [
    "# Structuring code\n",
    "An structured code is easier to be maintained and reused."
   ]
  },
  {
   "cell_type": "markdown",
   "metadata": {},
   "source": [
    "## Modules and packages\n",
    "\n",
    "Python code can be organized into modules and packages (folders with other folders and modules). A module is a piece of code stored in a file. For example:"
   ]
  },
  {
   "cell_type": "code",
   "execution_count": 1,
   "metadata": {},
   "outputs": [
    {
     "name": "stdout",
     "output_type": "stream",
     "text": [
      "#!/usr/bin/env python\r\n",
      "\r\n",
      "a = 1\r\n",
      "print(\"my_module.py: Hi from \" + __name__ + \".py!\")\r\n",
      "\r\n",
      "if __name__ == \"__main__\":\r\n",
      "  print(\"my_module.py: I was invoked from a script.\")\r\n",
      "else:\r\n",
      "  print(\"my_module.py: I was invoked from a Python module (probably using 'import').\")\r\n",
      "print(\"my_module.py: My name is =\", __name__)\r\n"
     ]
    }
   ],
   "source": [
    "!cat my_module.py"
   ]
  },
  {
   "cell_type": "markdown",
   "metadata": {},
   "source": [
    "This is an example of a package:"
   ]
  },
  {
   "cell_type": "code",
   "execution_count": 2,
   "metadata": {},
   "outputs": [
    {
     "name": "stdout",
     "output_type": "stream",
     "text": [
      "\u001b[01;34mmy_package\u001b[00m\r\n",
      "├── a_module.py\r\n",
      "├── __init__.py\r\n",
      "├── __main__.py\r\n",
      "└── \u001b[01;34m__pycache__\u001b[00m\r\n",
      "    ├── a_module.cpython-38.pyc\r\n",
      "    ├── __init__.cpython-38.pyc\r\n",
      "    ├── __main__.cpython-38.pyc\r\n",
      "    └── my_module.cpython-38.pyc\r\n",
      "\r\n",
      "1 directory, 7 files\r\n"
     ]
    }
   ],
   "source": [
    "!tree my_package"
   ]
  },
  {
   "cell_type": "code",
   "execution_count": 3,
   "metadata": {},
   "outputs": [
    {
     "name": "stdout",
     "output_type": "stream",
     "text": [
      "print(\"__init__.py: my_package/__init__.py was executed\")\r\n",
      "import my_package.a_module\r\n"
     ]
    }
   ],
   "source": [
    "!cat my_package/__init__.py"
   ]
  },
  {
   "cell_type": "code",
   "execution_count": 4,
   "metadata": {},
   "outputs": [
    {
     "name": "stdout",
     "output_type": "stream",
     "text": [
      "print(\"__main__.py: my_package/__main__.py was executed\")\r\n",
      "import a_module\r\n"
     ]
    }
   ],
   "source": [
    "!cat my_package/__main__.py"
   ]
  },
  {
   "cell_type": "code",
   "execution_count": 5,
   "metadata": {},
   "outputs": [
    {
     "name": "stdout",
     "output_type": "stream",
     "text": [
      "a = 1\r\n",
      "print(\"a_module: Hi from my_package/\" + __name__ + \".py!\")\r\n",
      "\r\n",
      "if __name__ == \"__main__\":\r\n",
      "  print(\"a_module: I was invoked from a script.\")\r\n",
      "else:\r\n",
      "  print(\"a_module: I was invoked from a Pyton module (probably using 'import').\") \r\n",
      "print(\"a_module: My name is =\", __name__)\r\n"
     ]
    }
   ],
   "source": [
    "!cat my_package/a_module.py"
   ]
  },
  {
   "cell_type": "markdown",
   "metadata": {},
   "source": [
    "`__main__.py` and `__init__.py` are optional files:\n",
    "* `__main__.py` is implicitly invoked when the package is run from an shell script.\n",
    "* `__init__.py` is implicitly invoked with the package is run from Python (probably using `import`)."
   ]
  },
  {
   "cell_type": "markdown",
   "metadata": {},
   "source": [
    "## Running code\n",
    "Python code can be run in several different ways."
   ]
  },
  {
   "cell_type": "markdown",
   "metadata": {},
   "source": [
    "### Using Python's `import` command\n",
    "`import` loads a runs a module or a package. The module must be refered by it's name (nor the filename). The package must be refered by the name of the directory. Module/package importation using `import` only works the first time. Examples:"
   ]
  },
  {
   "cell_type": "code",
   "execution_count": 6,
   "metadata": {},
   "outputs": [
    {
     "name": "stdout",
     "output_type": "stream",
     "text": [
      "my_module.py: Hi from my_module.py!\n",
      "my_module.py: I was invoked from a Python module (probably using 'import').\n",
      "my_module.py: My name is = my_module\n"
     ]
    }
   ],
   "source": [
    "import my_module # Running a Python module as a module"
   ]
  },
  {
   "cell_type": "markdown",
   "metadata": {},
   "source": [
    "Notice that the name of the module is the name of the corresponding file without extension."
   ]
  },
  {
   "cell_type": "code",
   "execution_count": 7,
   "metadata": {},
   "outputs": [
    {
     "name": "stdout",
     "output_type": "stream",
     "text": [
      "__init__.py: my_package/__init__.py was executed\n",
      "a_module: Hi from my_package/my_package.a_module.py!\n",
      "a_module: I was invoked from a Pyton module (probably using 'import').\n",
      "a_module: My name is = my_package.a_module\n"
     ]
    }
   ],
   "source": [
    "import my_package # Running a Python package as a module"
   ]
  },
  {
   "cell_type": "markdown",
   "metadata": {},
   "source": [
    "Notice that the file `__init__.py` has been run and that the name of a module in the package is the relative (from the interpreter invocation directory) *dotted*-path to the module name."
   ]
  },
  {
   "cell_type": "markdown",
   "metadata": {},
   "source": [
    "Sumarizing: `import` loads and runs the code of a module, and loads and runs the code of the `__init__.py` file of a package."
   ]
  },
  {
   "cell_type": "markdown",
   "metadata": {},
   "source": [
    "### Using the Python interpreter"
   ]
  },
  {
   "cell_type": "code",
   "execution_count": 8,
   "metadata": {},
   "outputs": [
    {
     "name": "stdout",
     "output_type": "stream",
     "text": [
      "my_module.py: Hi from __main__.py!\r\n",
      "my_module.py: I was invoked from a script.\r\n",
      "my_module.py: My name is = __main__\r\n"
     ]
    }
   ],
   "source": [
    "!python -m my_module # Running a Python module as an script"
   ]
  },
  {
   "cell_type": "markdown",
   "metadata": {},
   "source": [
    "Notice that in this case the module does not know its name."
   ]
  },
  {
   "cell_type": "code",
   "execution_count": 9,
   "metadata": {},
   "outputs": [
    {
     "name": "stdout",
     "output_type": "stream",
     "text": [
      "__main__.py: my_package/__main__.py was executed\r\n",
      "a_module: Hi from my_package/a_module.py!\r\n",
      "a_module: I was invoked from a Pyton module (probably using 'import').\r\n",
      "a_module: My name is = a_module\r\n"
     ]
    }
   ],
   "source": [
    "!python my_package # Running a Python package as an script"
   ]
  },
  {
   "cell_type": "markdown",
   "metadata": {},
   "source": [
    "Notice that the file `__main__py` has ben run and again, the name of the module is the relative *dotted*-path (the modules has been invoked by `__main__.py`)."
   ]
  },
  {
   "cell_type": "markdown",
   "metadata": {},
   "source": [
    "## Using the *hash bang* available from the Shell\n",
    "\n",
    "In Bash, the first line of a shell script can be used to specify the script interpreter that should be used to process the rest of the script file. Therefore, if we place in the first line of the script:\n",
    "```\n",
    "#!/usr/bin/env python\n",
    "```\n",
    "the rest of the script will be run by the Python interpreter. Example (notice that the permissions of the file allows to run it directly):"
   ]
  },
  {
   "cell_type": "code",
   "execution_count": 10,
   "metadata": {},
   "outputs": [
    {
     "name": "stdout",
     "output_type": "stream",
     "text": [
      "my_module.py: Hi from __main__.py!\n",
      "my_module.py: I was invoked from a script.\n",
      "my_module.py: My name is = __main__\n"
     ]
    }
   ],
   "source": [
    "%%bash\n",
    "./my_module.py"
   ]
  },
  {
   "cell_type": "markdown",
   "metadata": {},
   "source": [
    "Notice also that the hash bang line is considered as a comment by the Python interpreter."
   ]
  },
  {
   "cell_type": "markdown",
   "metadata": {},
   "source": [
    "## More about importing\n",
    "Python's `import` search for the packages through (in this order):\n",
    "1. The built-in Python modules of the Python’s Standard Library (PSL), which are compiled directly into the Python interpreter.\n",
    "2. The list of paths returned by `sys.path`.\n",
    "3. The rest of modules of the PSL."
   ]
  },
  {
   "cell_type": "markdown",
   "metadata": {},
   "source": [
    "The built-in modules can be found by:"
   ]
  },
  {
   "cell_type": "code",
   "execution_count": 12,
   "metadata": {},
   "outputs": [
    {
     "data": {
      "text/plain": [
       "('_abc',\n",
       " '_ast',\n",
       " '_codecs',\n",
       " '_collections',\n",
       " '_functools',\n",
       " '_imp',\n",
       " '_io',\n",
       " '_locale',\n",
       " '_operator',\n",
       " '_signal',\n",
       " '_sre',\n",
       " '_stat',\n",
       " '_string',\n",
       " '_symtable',\n",
       " '_thread',\n",
       " '_tracemalloc',\n",
       " '_warnings',\n",
       " '_weakref',\n",
       " 'atexit',\n",
       " 'builtins',\n",
       " 'errno',\n",
       " 'faulthandler',\n",
       " 'gc',\n",
       " 'itertools',\n",
       " 'marshal',\n",
       " 'posix',\n",
       " 'pwd',\n",
       " 'sys',\n",
       " 'time',\n",
       " 'xxsubtype')"
      ]
     },
     "execution_count": 12,
     "metadata": {},
     "output_type": "execute_result"
    }
   ],
   "source": [
    "import sys\n",
    "sys.builtin_module_names"
   ]
  },
  {
   "cell_type": "markdown",
   "metadata": {},
   "source": [
    "For this example, we can see that `sys` usually is implemented (in C) as a built-in module."
   ]
  },
  {
   "cell_type": "markdown",
   "metadata": {},
   "source": [
    "Next, the interpreter checks `sys.path`:"
   ]
  },
  {
   "cell_type": "code",
   "execution_count": 11,
   "metadata": {},
   "outputs": [
    {
     "data": {
      "text/plain": [
       "['/home/vruiz/YAPT/02-basics',\n",
       " '/usr/lib/python38.zip',\n",
       " '/usr/lib/python3.8',\n",
       " '/usr/lib/python3.8/lib-dynload',\n",
       " '',\n",
       " '/home/vruiz/.local/lib/python3.8/site-packages',\n",
       " '/usr/lib/python3.8/site-packages',\n",
       " '/home/vruiz/.local/lib/python3.8/site-packages/IPython/extensions',\n",
       " '/home/vruiz/.ipython']"
      ]
     },
     "execution_count": 11,
     "metadata": {},
     "output_type": "execute_result"
    }
   ],
   "source": [
    "import sys\n",
    "sys.path"
   ]
  },
  {
   "cell_type": "markdown",
   "metadata": {},
   "source": [
    "Which is populated with (and in this order):\n",
    "1. The directory containing the input script (or the current directory when no file is specified).\n",
    "2. The environment variable PYTHONPATH (as a list of directory names, with the same syntax as the shell variable PATH).\n",
    "3. The installation-dependent defaults."
   ]
  },
  {
   "cell_type": "markdown",
   "metadata": {},
   "source": [
    "Therefore, if we create a module in our current directory with the same name that a module of the PSL, the interpreter will use our module. On the contrary, if we create a module with the same name that a built-in module, the interpreter will ignore our module."
   ]
  },
  {
   "cell_type": "markdown",
   "metadata": {},
   "source": [
    "## Getting the list of importable modules "
   ]
  },
  {
   "cell_type": "markdown",
   "metadata": {},
   "source": [
    "All available modules:"
   ]
  },
  {
   "cell_type": "code",
   "execution_count": 14,
   "metadata": {},
   "outputs": [
    {
     "data": {
      "text/plain": [
       "['my_module',\n",
       " 'my_package',\n",
       " '__future__',\n",
       " '_bootlocale',\n",
       " '_collections_abc',\n",
       " '_compat_pickle',\n",
       " '_compression',\n",
       " '_dummy_thread',\n",
       " '_markupbase',\n",
       " '_osx_support',\n",
       " '_py_abc',\n",
       " '_pydecimal',\n",
       " '_pyio',\n",
       " '_sitebuiltins',\n",
       " '_strptime',\n",
       " '_sysconfigdata__linux_x86_64-linux-gnu',\n",
       " '_threading_local',\n",
       " '_weakrefset',\n",
       " 'abc',\n",
       " 'aifc',\n",
       " 'antigravity',\n",
       " 'argparse',\n",
       " 'ast',\n",
       " 'asynchat',\n",
       " 'asyncio',\n",
       " 'asyncore',\n",
       " 'base64',\n",
       " 'bdb',\n",
       " 'binhex',\n",
       " 'bisect',\n",
       " 'bz2',\n",
       " 'cProfile',\n",
       " 'calendar',\n",
       " 'cgi',\n",
       " 'cgitb',\n",
       " 'chunk',\n",
       " 'cmd',\n",
       " 'code',\n",
       " 'codecs',\n",
       " 'codeop',\n",
       " 'collections',\n",
       " 'colorsys',\n",
       " 'compileall',\n",
       " 'concurrent',\n",
       " 'configparser',\n",
       " 'contextlib',\n",
       " 'contextvars',\n",
       " 'copy',\n",
       " 'copyreg',\n",
       " 'crypt',\n",
       " 'csv',\n",
       " 'ctypes',\n",
       " 'curses',\n",
       " 'dataclasses',\n",
       " 'datetime',\n",
       " 'dbm',\n",
       " 'decimal',\n",
       " 'difflib',\n",
       " 'dis',\n",
       " 'distutils',\n",
       " 'doctest',\n",
       " 'dummy_threading',\n",
       " 'email',\n",
       " 'encodings',\n",
       " 'ensurepip',\n",
       " 'enum',\n",
       " 'filecmp',\n",
       " 'fileinput',\n",
       " 'fnmatch',\n",
       " 'formatter',\n",
       " 'fractions',\n",
       " 'ftplib',\n",
       " 'functools',\n",
       " 'genericpath',\n",
       " 'getopt',\n",
       " 'getpass',\n",
       " 'gettext',\n",
       " 'glob',\n",
       " 'gzip',\n",
       " 'hashlib',\n",
       " 'heapq',\n",
       " 'hmac',\n",
       " 'html',\n",
       " 'http',\n",
       " 'idlelib',\n",
       " 'imaplib',\n",
       " 'imghdr',\n",
       " 'imp',\n",
       " 'importlib',\n",
       " 'inspect',\n",
       " 'io',\n",
       " 'ipaddress',\n",
       " 'json',\n",
       " 'keyword',\n",
       " 'lib2to3',\n",
       " 'linecache',\n",
       " 'locale',\n",
       " 'logging',\n",
       " 'lzma',\n",
       " 'mailbox',\n",
       " 'mailcap',\n",
       " 'mimetypes',\n",
       " 'modulefinder',\n",
       " 'multiprocessing',\n",
       " 'netrc',\n",
       " 'nntplib',\n",
       " 'ntpath',\n",
       " 'nturl2path',\n",
       " 'numbers',\n",
       " 'opcode',\n",
       " 'operator',\n",
       " 'optparse',\n",
       " 'os',\n",
       " 'pathlib',\n",
       " 'pdb',\n",
       " 'pickle',\n",
       " 'pickletools',\n",
       " 'pipes',\n",
       " 'pkgutil',\n",
       " 'platform',\n",
       " 'plistlib',\n",
       " 'poplib',\n",
       " 'posixpath',\n",
       " 'pprint',\n",
       " 'profile',\n",
       " 'pstats',\n",
       " 'pty',\n",
       " 'py_compile',\n",
       " 'pyclbr',\n",
       " 'pydoc',\n",
       " 'pydoc_data',\n",
       " 'pyopenvdb',\n",
       " 'queue',\n",
       " 'quopri',\n",
       " 'random',\n",
       " 're',\n",
       " 'reprlib',\n",
       " 'rlcompleter',\n",
       " 'runpy',\n",
       " 'sched',\n",
       " 'secrets',\n",
       " 'selectors',\n",
       " 'shelve',\n",
       " 'shlex',\n",
       " 'shutil',\n",
       " 'signal',\n",
       " 'site',\n",
       " 'smtpd',\n",
       " 'smtplib',\n",
       " 'sndhdr',\n",
       " 'socket',\n",
       " 'socketserver',\n",
       " 'sqlite3',\n",
       " 'sre_compile',\n",
       " 'sre_constants',\n",
       " 'sre_parse',\n",
       " 'ssl',\n",
       " 'stat',\n",
       " 'statistics',\n",
       " 'string',\n",
       " 'stringprep',\n",
       " 'struct',\n",
       " 'subprocess',\n",
       " 'sunau',\n",
       " 'symbol',\n",
       " 'symtable',\n",
       " 'sysconfig',\n",
       " 'tabnanny',\n",
       " 'tarfile',\n",
       " 'telnetlib',\n",
       " 'tempfile',\n",
       " 'textwrap',\n",
       " 'this',\n",
       " 'threading',\n",
       " 'timeit',\n",
       " 'tkinter',\n",
       " 'token',\n",
       " 'tokenize',\n",
       " 'trace',\n",
       " 'traceback',\n",
       " 'tracemalloc',\n",
       " 'tty',\n",
       " 'turtle',\n",
       " 'turtledemo',\n",
       " 'types',\n",
       " 'typing',\n",
       " 'unittest',\n",
       " 'urllib',\n",
       " 'uu',\n",
       " 'uuid',\n",
       " 'venv',\n",
       " 'warnings',\n",
       " 'wave',\n",
       " 'weakref',\n",
       " 'webbrowser',\n",
       " 'wsgiref',\n",
       " 'xdrlib',\n",
       " 'xml',\n",
       " 'xmlrpc',\n",
       " 'zipapp',\n",
       " 'zipfile',\n",
       " 'zipimport',\n",
       " '_asyncio',\n",
       " '_bisect',\n",
       " '_blake2',\n",
       " '_bz2',\n",
       " '_codecs_cn',\n",
       " '_codecs_hk',\n",
       " '_codecs_iso2022',\n",
       " '_codecs_jp',\n",
       " '_codecs_kr',\n",
       " '_codecs_tw',\n",
       " '_contextvars',\n",
       " '_crypt',\n",
       " '_csv',\n",
       " '_ctypes',\n",
       " '_ctypes_test',\n",
       " '_curses',\n",
       " '_curses_panel',\n",
       " '_datetime',\n",
       " '_dbm',\n",
       " '_decimal',\n",
       " '_elementtree',\n",
       " '_gdbm',\n",
       " '_hashlib',\n",
       " '_heapq',\n",
       " '_json',\n",
       " '_lsprof',\n",
       " '_lzma',\n",
       " '_md5',\n",
       " '_multibytecodec',\n",
       " '_multiprocessing',\n",
       " '_opcode',\n",
       " '_pickle',\n",
       " '_posixshmem',\n",
       " '_posixsubprocess',\n",
       " '_queue',\n",
       " '_random',\n",
       " '_sha1',\n",
       " '_sha256',\n",
       " '_sha3',\n",
       " '_sha512',\n",
       " '_socket',\n",
       " '_sqlite3',\n",
       " '_ssl',\n",
       " '_statistics',\n",
       " '_struct',\n",
       " '_testbuffer',\n",
       " '_testcapi',\n",
       " '_testimportmultiple',\n",
       " '_testinternalcapi',\n",
       " '_testmultiphase',\n",
       " '_tkinter',\n",
       " '_uuid',\n",
       " '_xxsubinterpreters',\n",
       " '_xxtestfuzz',\n",
       " 'array',\n",
       " 'audioop',\n",
       " 'binascii',\n",
       " 'cmath',\n",
       " 'fcntl',\n",
       " 'grp',\n",
       " 'math',\n",
       " 'mmap',\n",
       " 'nis',\n",
       " 'ossaudiodev',\n",
       " 'parser',\n",
       " 'pyexpat',\n",
       " 'readline',\n",
       " 'resource',\n",
       " 'select',\n",
       " 'spwd',\n",
       " 'syslog',\n",
       " 'termios',\n",
       " 'unicodedata',\n",
       " 'xxlimited',\n",
       " 'zlib',\n",
       " 'IPython',\n",
       " 'PIL',\n",
       " '_cffi_backend',\n",
       " '_pyrsistent_version',\n",
       " '_sounddevice',\n",
       " 'async_generator',\n",
       " 'attr',\n",
       " 'backcall',\n",
       " 'bleach',\n",
       " 'cffi',\n",
       " 'cv2',\n",
       " 'cycler',\n",
       " 'dateutil',\n",
       " 'decorator',\n",
       " 'defusedxml',\n",
       " 'easy_install',\n",
       " 'entrypoints',\n",
       " 'imageio',\n",
       " 'ipykernel',\n",
       " 'ipykernel_launcher',\n",
       " 'ipython_genutils',\n",
       " 'ipywidgets',\n",
       " 'jedi',\n",
       " 'jinja2',\n",
       " 'jsonschema',\n",
       " 'jupyter',\n",
       " 'jupyter_client',\n",
       " 'jupyter_console',\n",
       " 'jupyter_core',\n",
       " 'jupyter_server',\n",
       " 'jupyterlab_pygments',\n",
       " 'kiwisolver',\n",
       " 'markupsafe',\n",
       " 'matplotlib',\n",
       " 'mistune',\n",
       " 'nbconvert',\n",
       " 'nbformat',\n",
       " 'networkx',\n",
       " 'notebook',\n",
       " 'numpy',\n",
       " 'pandocfilters',\n",
       " 'parso',\n",
       " 'pickleshare',\n",
       " 'pip',\n",
       " 'pkg_resources',\n",
       " 'prometheus_client',\n",
       " 'prompt_toolkit',\n",
       " 'pvectorc',\n",
       " 'pycparser',\n",
       " 'pygments',\n",
       " 'pylab',\n",
       " 'pyrsistent',\n",
       " 'pywt',\n",
       " 'qtconsole',\n",
       " 'scipy',\n",
       " 'send2trash',\n",
       " 'setuptools',\n",
       " 'skimage',\n",
       " 'sounddevice',\n",
       " 'terminado',\n",
       " 'testpath',\n",
       " 'tornado',\n",
       " 'traitlets',\n",
       " 'voila',\n",
       " 'wcwidth',\n",
       " 'widgetsnbextension',\n",
       " 'zmq',\n",
       " 'DistUtilsExtra',\n",
       " 'LibAppArmor',\n",
       " 'OpenImageIO',\n",
       " 'PyOpenColorIO',\n",
       " 'PyQt5',\n",
       " '_blueman',\n",
       " '_dbus_bindings',\n",
       " '_dbus_glib_bindings',\n",
       " '_ftdi1',\n",
       " '_ldb_text',\n",
       " '_orcus',\n",
       " '_orcus_json',\n",
       " '_snack',\n",
       " '_tdb_text',\n",
       " '_tevent',\n",
       " '_volume_key',\n",
       " '_yaml',\n",
       " 'apparmor',\n",
       " 'appdirs',\n",
       " 'application_utility',\n",
       " 'avahi',\n",
       " 'blueman',\n",
       " 'bs4',\n",
       " 'btrfsutil',\n",
       " 'bytesize',\n",
       " 'cachecontrol',\n",
       " 'cairo',\n",
       " 'ceph_argparse',\n",
       " 'ceph_daemon',\n",
       " 'ceph_volume',\n",
       " 'ceph_volume_client',\n",
       " 'cephfs',\n",
       " 'chardet',\n",
       " 'colorama',\n",
       " 'contextlib2',\n",
       " 'dbus',\n",
       " 'distlib',\n",
       " 'distro',\n",
       " 'docopt',\n",
       " 'docutils',\n",
       " 'drv_libxml2',\n",
       " 'ftdi1',\n",
       " 'gi',\n",
       " 'gufw',\n",
       " 'html5lib',\n",
       " 'idna',\n",
       " 'iex',\n",
       " 'imath',\n",
       " 'imathnumpy',\n",
       " 'imobiledevice',\n",
       " 'importlib_metadata',\n",
       " 'ixion',\n",
       " 'keyutils',\n",
       " 'ldb',\n",
       " 'lensfun',\n",
       " 'libmount',\n",
       " 'libproxy',\n",
       " 'libtorrent',\n",
       " 'libvoikko',\n",
       " 'libxml2',\n",
       " 'libxml2mod',\n",
       " 'lightdm_gtk_greeter_settings',\n",
       " 'lilv',\n",
       " 'lirc',\n",
       " 'lockfile',\n",
       " 'lxml',\n",
       " 'meld',\n",
       " 'menulibre',\n",
       " 'menulibre_lib',\n",
       " 'mesonbuild',\n",
       " 'more_itertools',\n",
       " 'msgpack',\n",
       " 'mugshot',\n",
       " 'mugshot_lib',\n",
       " 'npyscreen',\n",
       " 'orcus',\n",
       " 'ordered_set',\n",
       " 'packaging',\n",
       " 'pacman_mirrors',\n",
       " 'pep517',\n",
       " 'pexpect',\n",
       " 'plist',\n",
       " 'progress',\n",
       " 'psutil',\n",
       " 'ptyprocess',\n",
       " 'pygame',\n",
       " 'pygtkcompat',\n",
       " 'pyparsing',\n",
       " 'pytoml',\n",
       " 'rados',\n",
       " 'rbd',\n",
       " 'requests',\n",
       " 'resolvelib',\n",
       " 'retrying',\n",
       " 'rgw',\n",
       " 'samba',\n",
       " 'sip',\n",
       " 'sipconfig',\n",
       " 'sipdistutils',\n",
       " 'six',\n",
       " 'snack',\n",
       " 'soupsieve',\n",
       " 'talloc',\n",
       " 'tdb',\n",
       " 'team',\n",
       " 'tevent',\n",
       " 'toml',\n",
       " 'udiskie',\n",
       " 'ufw',\n",
       " 'uno',\n",
       " 'unohelper',\n",
       " 'urllib3',\n",
       " 'volume_key',\n",
       " 'webencodings',\n",
       " 'xcbgen',\n",
       " 'xdg',\n",
       " 'yaml',\n",
       " 'youtube_dl',\n",
       " 'zbar',\n",
       " 'zeitgeist',\n",
       " 'zipp',\n",
       " 'autoreload',\n",
       " 'cythonmagic',\n",
       " 'rmagic',\n",
       " 'storemagic',\n",
       " 'sympyprinting',\n",
       " 'tests']"
      ]
     },
     "execution_count": 14,
     "metadata": {},
     "output_type": "execute_result"
    }
   ],
   "source": [
    "import pkgutil\n",
    "search_path = ['.'] # set to None to see all modules importable from sys.path\n",
    "search_path = None  # Set to \n",
    "[x[1] for x in pkgutil.iter_modules(path=search_path)]"
   ]
  },
  {
   "cell_type": "markdown",
   "metadata": {},
   "source": [
    "Only the local modules:"
   ]
  },
  {
   "cell_type": "code",
   "execution_count": 15,
   "metadata": {},
   "outputs": [
    {
     "data": {
      "text/plain": [
       "['my_module', 'my_package']"
      ]
     },
     "execution_count": 15,
     "metadata": {},
     "output_type": "execute_result"
    }
   ],
   "source": [
    "import pkgutil\n",
    "search_path = ['.']\n",
    "[x[1] for x in pkgutil.iter_modules(path=search_path)]"
   ]
  },
  {
   "cell_type": "markdown",
   "metadata": {},
   "source": [
    "Python statements (code in general) are usually written in [files which are stored in folders](https://stephensugden.com/crash_into_python/CodeOrganization.html).\n",
    "\n",
    "* A [file](https://en.wikipedia.org/wiki/Computer_file) containing Python code is a module (or a [script](https://en.wikipedia.org/wiki/Scripting_language), if we invoke the module directly from the shell). Modules contain [classes](https://en.wikipedia.org/wiki/Class_%28computer_programming%29), [functions](https://en.wikipedia.org/wiki/Subroutine), [variables](https://en.wikipedia.org/wiki/Variable_%28computer_science%29) and [executable statements](https://en.wikipedia.org/wiki/Statement_%28computer_science%29). For example, `example.py` is a module and `example` is its name. Python programs are splitted into modules to organize the code and to reuse it more easely.\n",
    "\n",
    "* A [directory (folder)](https://en.wikipedia.org/wiki/Directory_%28computing%29) containing modules and other directories, is a package."
   ]
  },
  {
   "cell_type": "markdown",
   "metadata": {},
   "source": [
    "## Running code"
   ]
  },
  {
   "cell_type": "markdown",
   "metadata": {},
   "source": [
    "## Contents\n",
    "1. [Modules and scripts](#Modules).\n",
    "2. [Packages and ... scripts](#Packages).\n",
    "3. [The `PYTHONPATH` environment variable](#PYTHONPATH)."
   ]
  },
  {
   "cell_type": "markdown",
   "metadata": {},
   "source": [
    "<a id='Modules'></a>\n",
    "## 1. [Modules](https://docs.python.org/3/tutorial/modules.html) and [scripts](https://www.python-course.eu/python3_execute_script.php)\n",
    "\n",
    "* Modules/scripts are files which store Python code and have the extension `.py`. Example:"
   ]
  },
  {
   "cell_type": "markdown",
   "metadata": {},
   "source": [
    "From Python, modules are invoked using `import` (notice that when a module is imported, the code of the module is run):"
   ]
  },
  {
   "cell_type": "markdown",
   "metadata": {},
   "source": [
    "However, this happens only the first time we invoke a module from another module (this notebook):"
   ]
  },
  {
   "cell_type": "code",
   "execution_count": null,
   "metadata": {},
   "outputs": [],
   "source": [
    "import my_python_module # This import should not generate any output"
   ]
  },
  {
   "cell_type": "markdown",
   "metadata": {},
   "source": [
    "Module structures are accesible from the invoker code using the notation: `<module_name>.<structure>`:"
   ]
  },
  {
   "cell_type": "code",
   "execution_count": null,
   "metadata": {},
   "outputs": [],
   "source": [
    "my_python_module.a"
   ]
  },
  {
   "cell_type": "markdown",
   "metadata": {},
   "source": [
    "The module name of a module is accesible through the global variable `__name__`:"
   ]
  },
  {
   "cell_type": "code",
   "execution_count": null,
   "metadata": {},
   "outputs": [],
   "source": [
    "my_python_module.__name__"
   ]
  },
  {
   "cell_type": "markdown",
   "metadata": {},
   "source": [
    "* Any module that is invoked using the interpreter directly, will be called as a script:"
   ]
  },
  {
   "cell_type": "code",
   "execution_count": null,
   "metadata": {},
   "outputs": [],
   "source": [
    "!python my_python_module.py"
   ]
  },
  {
   "cell_type": "markdown",
   "metadata": {},
   "source": [
    "* Listing the names of a (in this case) a module:"
   ]
  },
  {
   "cell_type": "code",
   "execution_count": null,
   "metadata": {},
   "outputs": [],
   "source": [
    "dir(my_python_module)"
   ]
  },
  {
   "cell_type": "markdown",
   "metadata": {},
   "source": [
    "<a id='Packages'></a>\n",
    "## 2. [Packages](https://docs.python.org/3/tutorial/modules.html#packages) ... and [scripts](https://stackoverflow.com/questions/4042905/what-is-main-py)\n",
    "\n",
    "* Any folder which stores at least one module is a package. Moreover, if an `__init__.py` file exists"
   ]
  },
  {
   "cell_type": "code",
   "execution_count": null,
   "metadata": {},
   "outputs": [],
   "source": [
    "!cat my_package/__init__.py"
   ]
  },
  {
   "cell_type": "code",
   "execution_count": null,
   "metadata": {},
   "outputs": [],
   "source": [
    "!cat my_package/my_module.py"
   ]
  },
  {
   "cell_type": "markdown",
   "metadata": {},
   "source": [
    "* Invoking `my_package` as a module:"
   ]
  },
  {
   "cell_type": "code",
   "execution_count": null,
   "metadata": {},
   "outputs": [],
   "source": [
    "import my_package"
   ]
  },
  {
   "cell_type": "code",
   "execution_count": null,
   "metadata": {},
   "outputs": [],
   "source": [
    "dir(my_package)"
   ]
  },
  {
   "cell_type": "code",
   "execution_count": null,
   "metadata": {},
   "outputs": [],
   "source": [
    "my_package.my_module.a"
   ]
  },
  {
   "cell_type": "markdown",
   "metadata": {},
   "source": [
    "* It is possible to avoid using the package namespace for the objects defined inside:"
   ]
  },
  {
   "cell_type": "code",
   "execution_count": null,
   "metadata": {},
   "outputs": [],
   "source": [
    "my_module.a # This should fail"
   ]
  },
  {
   "cell_type": "code",
   "execution_count": null,
   "metadata": {},
   "outputs": [],
   "source": [
    "from my_package import my_module"
   ]
  },
  {
   "cell_type": "code",
   "execution_count": null,
   "metadata": {},
   "outputs": [],
   "source": [
    "my_module.a # This should work"
   ]
  },
  {
   "cell_type": "markdown",
   "metadata": {},
   "source": [
    "* To run a package as a script, it must have a `__main__.py` file with the first code to be executed:"
   ]
  },
  {
   "cell_type": "code",
   "execution_count": null,
   "metadata": {},
   "outputs": [],
   "source": [
    "!cat my_package/__main__.py"
   ]
  },
  {
   "cell_type": "code",
   "execution_count": null,
   "metadata": {},
   "outputs": [],
   "source": [
    "!python my_package"
   ]
  },
  {
   "cell_type": "markdown",
   "metadata": {},
   "source": [
    "<a id='PYTHONPATH'></a>\n",
    "## Avoiding to reference the path of the packages/modules"
   ]
  },
  {
   "cell_type": "markdown",
   "metadata": {},
   "source": [
    "By default, modules and packages are imported from:"
   ]
  },
  {
   "cell_type": "code",
   "execution_count": null,
   "metadata": {},
   "outputs": [],
   "source": [
    "import sys\n",
    "sys.path"
   ]
  },
  {
   "cell_type": "markdown",
   "metadata": {},
   "source": [
    "(Note: the previous output depends on the interpreter, the host, the configuration of Python, etc.)"
   ]
  },
  {
   "cell_type": "markdown",
   "metadata": {},
   "source": [
    "To add a new directory, we can modify the `PYTHONPATH` environment variable (from the shell):"
   ]
  },
  {
   "cell_type": "code",
   "execution_count": null,
   "metadata": {},
   "outputs": [],
   "source": [
    "!python -c 'import sys; print(sys.path)'\n",
    "!(export PYTHONPATH=$PYTHONPATH:'/my/new/dir'; python -c 'import sys; print(sys.path)')"
   ]
  },
  {
   "cell_type": "markdown",
   "metadata": {},
   "source": [
    "(... or from Python itself):"
   ]
  },
  {
   "cell_type": "code",
   "execution_count": null,
   "metadata": {},
   "outputs": [],
   "source": [
    "sys.path"
   ]
  },
  {
   "cell_type": "code",
   "execution_count": null,
   "metadata": {},
   "outputs": [],
   "source": [
    "sys.path.append(\"/my/new/dir\")"
   ]
  },
  {
   "cell_type": "code",
   "execution_count": null,
   "metadata": {},
   "outputs": [],
   "source": [
    "sys.path"
   ]
  },
  {
   "cell_type": "code",
   "execution_count": null,
   "metadata": {},
   "outputs": [],
   "source": []
  }
 ],
 "metadata": {
  "kernelspec": {
   "display_name": "Python 3",
   "language": "python",
   "name": "python3"
  },
  "language_info": {
   "codemirror_mode": {
    "name": "ipython",
    "version": 3
   },
   "file_extension": ".py",
   "mimetype": "text/x-python",
   "name": "python",
   "nbconvert_exporter": "python",
   "pygments_lexer": "ipython3",
   "version": "3.8.5"
  }
 },
 "nbformat": 4,
 "nbformat_minor": 1
}
