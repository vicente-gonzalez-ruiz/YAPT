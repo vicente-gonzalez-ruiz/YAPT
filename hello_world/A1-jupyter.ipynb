{
 "cells": [
  {
   "cell_type": "markdown",
   "metadata": {
    "toc": true
   },
   "source": [
    "<h1>Table of Contents<span class=\"tocSkip\"></span></h1>\n",
    "<div class=\"toc\"><ul class=\"toc-item\"><li><span><a href=\"#Install\" data-toc-modified-id=\"Install-1\"><span class=\"toc-item-num\">1&nbsp;&nbsp;</span>Install</a></span></li><li><span><a href=\"#Uninstall\" data-toc-modified-id=\"Uninstall-2\"><span class=\"toc-item-num\">2&nbsp;&nbsp;</span>Uninstall</a></span></li><li><span><a href=\"#Install-a-new-environment\" data-toc-modified-id=\"Install-a-new-environment-3\"><span class=\"toc-item-num\">3&nbsp;&nbsp;</span>Install a new environment</a></span></li><li><span><a href=\"#Use-a-new-environment\" data-toc-modified-id=\"Use-a-new-environment-4\"><span class=\"toc-item-num\">4&nbsp;&nbsp;</span>Use a new environment</a></span></li><li><span><a href=\"#Install-Jupyter-Notebook-Extensions\" data-toc-modified-id=\"Install-Jupyter-Notebook-Extensions-5\"><span class=\"toc-item-num\">5&nbsp;&nbsp;</span>Install <a href=\"https://jupyter-contrib-nbextensions.readthedocs.io/en/latest/\" target=\"_blank\">Jupyter Notebook Extensions</a></a></span></li><li><span><a href=\"#Uninstall-an-extension\" data-toc-modified-id=\"Uninstall-an-extension-6\"><span class=\"toc-item-num\">6&nbsp;&nbsp;</span>Uninstall an extension</a></span></li></ul></div>"
   ]
  },
  {
   "cell_type": "markdown",
   "metadata": {},
   "source": [
    "# Jupyter Notebook"
   ]
  },
  {
   "cell_type": "markdown",
   "metadata": {},
   "source": [
    "## Install\n",
    "```\n",
    "pip install jupyter\n",
    "```"
   ]
  },
  {
   "cell_type": "markdown",
   "metadata": {},
   "source": [
    "## Uninstall\n",
    "```\n",
    "pip install pip-autoremove\n",
    "pip-autoremove jupyter -y\n",
    "```"
   ]
  },
  {
   "cell_type": "markdown",
   "metadata": {},
   "source": [
    "## Install a new environment\n",
    "`cv3`, for example:\n",
    "```\n",
    "python -m ipykernel install --user --name=cv3\n",
    "```"
   ]
  },
  {
   "cell_type": "markdown",
   "metadata": {},
   "source": [
    "## Use a new environment\n",
    "`Kernel` -> `Change kernel` -> select the new environment."
   ]
  },
  {
   "cell_type": "markdown",
   "metadata": {},
   "source": [
    "## Install [Jupyter Notebook Extensions](https://jupyter-contrib-nbextensions.readthedocs.io/en/latest/)\n",
    "1. Install the extensions:\n",
    "```\n",
    "pip install jupyter_contrib_nbextensions\n",
    "jupyter contrib nbextension install\n",
    "```\n",
    "2. Re-start jupyter and navegate to the `Nbextensions` tab.\n",
    "3. Enable the extensions you want (for example, `Table of Contents (2)`)."
   ]
  },
  {
   "cell_type": "markdown",
   "metadata": {},
   "source": [
    "## Uninstall an extension\n",
    "```\n",
    "jupyter contrib nbextension uninstall --user\n",
    "jupyter contrib nbextension uninstall --system # (optionally)\n",
    "```"
   ]
  }
 ],
 "metadata": {
  "kernelspec": {
   "display_name": "Python 3",
   "language": "python",
   "name": "python3"
  },
  "language_info": {
   "codemirror_mode": {
    "name": "ipython",
    "version": 3
   },
   "file_extension": ".py",
   "mimetype": "text/x-python",
   "name": "python",
   "nbconvert_exporter": "python",
   "pygments_lexer": "ipython3",
   "version": "3.7.7"
  },
  "toc": {
   "base_numbering": 1,
   "nav_menu": {},
   "number_sections": true,
   "sideBar": true,
   "skip_h1_title": true,
   "title_cell": "Table of Contents",
   "title_sidebar": "Contents",
   "toc_cell": true,
   "toc_position": {},
   "toc_section_display": true,
   "toc_window_display": true
  }
 },
 "nbformat": 4,
 "nbformat_minor": 2
}
