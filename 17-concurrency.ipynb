{
 "cells": [
  {
   "cell_type": "markdown",
   "metadata": {
    "toc": true
   },
   "source": [
    "<h1>Table of Contents<span class=\"tocSkip\"></span></h1>\n",
    "<div class=\"toc\"><ul class=\"toc-item\"><li><span><a href=\"#[1]-[Concurrency](https://en.wikipedia.org/wiki/Concurrency_(computer_science)\" data-toc-modified-id=\"[1]-[Concurrency](https://en.wikipedia.org/wiki/Concurrency_(computer_science)-1\"><span class=\"toc-item-num\">1&nbsp;&nbsp;</span>[1] [Concurrency](<a href=\"https://en.wikipedia.org/wiki/Concurrency_(computer_science)\" target=\"_blank\">https://en.wikipedia.org/wiki/Concurrency_(computer_science)</a></a></span><ul class=\"toc-item\"><li><span><a href=\"#1.-Threads\" data-toc-modified-id=\"1.-Threads-1.1\"><span class=\"toc-item-num\">1.1&nbsp;&nbsp;</span>1. Threads</a></span></li><li><span><a href=\"#Important-warning!\" data-toc-modified-id=\"Important-warning!-1.2\"><span class=\"toc-item-num\">1.2&nbsp;&nbsp;</span>Important warning!</a></span></li><li><span><a href=\"#2.-Processes\" data-toc-modified-id=\"2.-Processes-1.3\"><span class=\"toc-item-num\">1.3&nbsp;&nbsp;</span>2. Processes</a></span><ul class=\"toc-item\"><li><span><a href=\"#But-...-why-a-has-not-been-modified?-Why-the-processed-do-not-share-a?\" data-toc-modified-id=\"But-...-why-a-has-not-been-modified?-Why-the-processed-do-not-share-a?-1.3.1\"><span class=\"toc-item-num\">1.3.1&nbsp;&nbsp;</span>But ... why <code>a</code> has not been modified? Why the processed do not share <code>a</code>?</a></span></li><li><span><a href=\"#2.1.-How-to-share-data-between-processes?\" data-toc-modified-id=\"2.1.-How-to-share-data-between-processes?-1.3.2\"><span class=\"toc-item-num\">1.3.2&nbsp;&nbsp;</span>2.1. How to share data between processes?</a></span></li></ul></li><li><span><a href=\"#3.-Using-critical-sections\" data-toc-modified-id=\"3.-Using-critical-sections-1.4\"><span class=\"toc-item-num\">1.4&nbsp;&nbsp;</span>3. Using critical sections</a></span></li><li><span><a href=\"#4.-Synchronizing-parallel-tasks\" data-toc-modified-id=\"4.-Synchronizing-parallel-tasks-1.5\"><span class=\"toc-item-num\">1.5&nbsp;&nbsp;</span>4. Synchronizing parallel tasks</a></span><ul class=\"toc-item\"><li><span><a href=\"#4.1.-Using-a-queue\" data-toc-modified-id=\"4.1.-Using-a-queue-1.5.1\"><span class=\"toc-item-num\">1.5.1&nbsp;&nbsp;</span>4.1. Using a queue</a></span></li></ul></li></ul></li></ul></div>"
   ]
  },
  {
   "cell_type": "markdown",
   "metadata": {},
   "source": [
    "# [1] [Concurrency](https://en.wikipedia.org/wiki/Concurrency_(computer_science)\n",
    "It is the possibility of running code in parallel with other codes."
   ]
  },
  {
   "cell_type": "markdown",
   "metadata": {},
   "source": [
    "## 1. Threads\n",
    "Parallel execution of code which can share objects easely."
   ]
  },
  {
   "cell_type": "code",
   "execution_count": null,
   "metadata": {},
   "outputs": [],
   "source": [
    "import threading\n",
    "import time\n",
    "import sys\n",
    "\n",
    "a = ''\n",
    "\n",
    "def task_1():\n",
    "    global a\n",
    "    for i in range(10):\n",
    "        print('o', end='')\n",
    "        sys.stdout.flush()\n",
    "        a += 'o'\n",
    "        print(a)\n",
    "        time.sleep(1)\n",
    "        \n",
    "def task_2():\n",
    "    global a\n",
    "    for i in range(20):\n",
    "        print('O', end='')\n",
    "        sys.stdout.flush()\n",
    "        a += 'O'\n",
    "        print(a)\n",
    "        time.sleep(0.6)\n",
    "        \n",
    "thread_1 = threading.Thread(target=task_1)\n",
    "thread_2 = threading.Thread(target=task_2)\n",
    "\n",
    "thread_1.start()\n",
    "thread_2.start()\n",
    "print(\"(Both threads have started)\")\n",
    "\n",
    "thread_1.join() # Wait for thread_1 to finish\n",
    "thread_2.join()\n",
    "print(\"\\nBoth threads have finished\")\n",
    "\n",
    "print(a)"
   ]
  },
  {
   "cell_type": "markdown",
   "metadata": {},
   "source": [
    "## Important warning!"
   ]
  },
  {
   "cell_type": "markdown",
   "metadata": {},
   "source": [
    "[CPU-bound tasks are not a good fit for Python threads, due to the Global Interpreter Lock (GIL). Parallel computations in Python should be done in multiple processes, not threads.](http://eli.thegreenplace.net/2011/12/27/python-threads-communication-and-stopping) As a consequence of this problem, at this moment, it is impossible to use more than one [CPU](https://en.wikipedia.org/wiki/Central_processing_unit) using Python Threads in [CPython](https://en.wikipedia.org/wiki/CPython), exclusively."
   ]
  },
  {
   "cell_type": "markdown",
   "metadata": {},
   "source": [
    "## 2. Processes\n",
    "[Processes](https://en.wikipedia.org/wiki/Process_%28computing%29) allow the parallel execution of code in [multiprocessing systems](https://en.wikipedia.org/wiki/Multiprocessing). This can be used to solve the previously mentioned limitation of the GIL."
   ]
  },
  {
   "cell_type": "code",
   "execution_count": null,
   "metadata": {},
   "outputs": [],
   "source": [
    "# This code does not work!\n",
    "\n",
    "import multiprocessing\n",
    "import time\n",
    "import sys\n",
    "\n",
    "a = ''\n",
    "\n",
    "def task_1():\n",
    "    global a\n",
    "    for i in range(10):\n",
    "        print('o', end='')\n",
    "        sys.stdout.flush()\n",
    "        a += 'o'\n",
    "        print(a)\n",
    "        time.sleep(1)\n",
    "        \n",
    "def task_2():\n",
    "    global a\n",
    "    for i in range(20):\n",
    "        print('O', end='')\n",
    "        sys.stdout.flush()\n",
    "        a += 'O'\n",
    "        print(a)\n",
    "        time.sleep(0.6)\n",
    "        \n",
    "process_1 = multiprocessing.Process(target=task_1)\n",
    "process_2 = multiprocessing.Process(target=task_2)\n",
    "\n",
    "process_1.start()\n",
    "process_2.start()\n",
    "print(\"(Both processes have started)\")\n",
    "\n",
    "process_1.join()\n",
    "process_2.join()\n",
    "print(\"\\nBoth processes have finished\")\n",
    "\n",
    "print(a)"
   ]
  },
  {
   "cell_type": "markdown",
   "metadata": {},
   "source": [
    "### But ... why `a` has not been modified? Why the processed do not share `a`?"
   ]
  },
  {
   "cell_type": "markdown",
   "metadata": {},
   "source": [
    "By definition, processes must [__fork__](https://en.wikipedia.org/wiki/Fork_(system_call) (make a copy of itself, that is, the code and the used memory) before start running. In the previous example, the Python interpreter forks twice and the two childs are run in parallel while the parent process waits for their completition. Neither, the child processes nor the parent process share their global state (where `a` is defined)."
   ]
  },
  {
   "cell_type": "markdown",
   "metadata": {},
   "source": [
    "### 2.1. How to share data between processes?"
   ]
  },
  {
   "cell_type": "markdown",
   "metadata": {},
   "source": [
    "There are several options. One of them is to use a [shared memory `Manager()`](https://docs.python.org/3/library/multiprocessing.html#sharing-state-between-processes):"
   ]
  },
  {
   "cell_type": "code",
   "execution_count": null,
   "metadata": {},
   "outputs": [],
   "source": [
    "import multiprocessing\n",
    "import time\n",
    "import sys\n",
    "import ctypes\n",
    "\n",
    "def task_1(a):\n",
    "    for i in range(10):\n",
    "        print('o', end='')\n",
    "        sys.stdout.flush()\n",
    "        a.value += 'o'\n",
    "        time.sleep(1)\n",
    "        \n",
    "def task_2(a):\n",
    "    for i in range(20):\n",
    "        print('O', end='')\n",
    "        sys.stdout.flush()\n",
    "        a.value += 'O'\n",
    "        time.sleep(0.6)\n",
    "\n",
    "manager = multiprocessing.Manager()\n",
    "# See https://docs.python.org/3/library/ctypes.html#module-ctypes\n",
    "a = manager.Value(ctypes.c_char_p, \"\")    \n",
    "\n",
    "process_1 = multiprocessing.Process(target=task_1, args=(a,))\n",
    "process_2 = multiprocessing.Process(target=task_2, args=(a,))\n",
    "\n",
    "process_1.start()\n",
    "process_2.start()\n",
    "print(\"(Both processes have started)\")\n",
    "\n",
    "process_1.join()\n",
    "process_2.join()\n",
    "print(\"\\nBoth processes have finished\")\n",
    "\n",
    "print(a.value)"
   ]
  },
  {
   "cell_type": "markdown",
   "metadata": {},
   "source": [
    "## 3. Using critical sections\n",
    "A [critical section](https://en.wikipedia.org/wiki/Linearizability) is a region of code that should not run in parallel. For example, the increment of a variable is not considered an [atomic operation](https://en.wikipedia.org/wiki/Linearizability), so, it should be performed using [mutual exclusion](https://en.wikipedia.org/wiki/Mutual_exclusion)."
   ]
  },
  {
   "cell_type": "markdown",
   "metadata": {},
   "source": [
    "Example of why critical sections must be executed using mutual exclusion:"
   ]
  },
  {
   "cell_type": "code",
   "execution_count": null,
   "metadata": {},
   "outputs": [],
   "source": [
    "# Two threads that have a critical section executed in parallel without mutual exclusion.\n",
    "# This code does not work!\n",
    "\n",
    "import threading\n",
    "import time\n",
    "import sys\n",
    "\n",
    "counter = 10\n",
    "\n",
    "def task_1():\n",
    "    global counter\n",
    "    for i in range(1000000):\n",
    "        counter += 1\n",
    "        \n",
    "def task_2():\n",
    "    global counter\n",
    "    for i in range(1000001):\n",
    "        counter -= 1\n",
    "        \n",
    "thread_1 = threading.Thread(target=task_1)\n",
    "thread_2 = threading.Thread(target=task_2)\n",
    "\n",
    "thread_1.start()\n",
    "thread_2.start()\n",
    "print(\"(Both threads started)\")\n",
    "\n",
    "thread_1.join()\n",
    "thread_2.join()\n",
    "print(\"\\nBoth threads finished\")\n",
    "\n",
    "print('counter =', counter)"
   ]
  },
  {
   "cell_type": "markdown",
   "metadata": {},
   "source": [
    "The same example, using mutual exclusion (using a [lock](https://docs.python.org/3/library/threading.html#lock-objects)):"
   ]
  },
  {
   "cell_type": "code",
   "execution_count": null,
   "metadata": {},
   "outputs": [],
   "source": [
    "# Two threads that have a critical section executed sequentially.\n",
    "\n",
    "import threading\n",
    "import time\n",
    "import sys\n",
    "\n",
    "lock = threading.Lock()\n",
    "counter = 10\n",
    "\n",
    "def task_1():\n",
    "    global counter\n",
    "    for i in range(1000000):\n",
    "        with lock:\n",
    "            counter += 1\n",
    "        \n",
    "def task_2():\n",
    "    global counter\n",
    "    for i in range(1000001):\n",
    "        with lock:\n",
    "            counter -= 1\n",
    "        \n",
    "thread_1 = threading.Thread(target=task_1)\n",
    "thread_2 = threading.Thread(target=task_2)\n",
    "\n",
    "thread_1.start()\n",
    "thread_2.start()\n",
    "print(\"(Both threads started)\")\n",
    "\n",
    "thread_1.join()\n",
    "thread_2.join()\n",
    "print(\"\\nBoth threads finished\")\n",
    "\n",
    "print('counter =', counter)"
   ]
  },
  {
   "cell_type": "markdown",
   "metadata": {},
   "source": [
    "Same concept, using processes:"
   ]
  },
  {
   "cell_type": "code",
   "execution_count": null,
   "metadata": {},
   "outputs": [],
   "source": [
    "# Two processes that have a critical section executed sequentially\n",
    "\n",
    "import multiprocessing\n",
    "import time\n",
    "import sys\n",
    "import ctypes\n",
    "\n",
    "def task_1(lock, counter):\n",
    "    for i in range(10000):\n",
    "        lock.acquire()\n",
    "        try:\n",
    "            counter.value += 1\n",
    "        finally:\n",
    "            lock.release()\n",
    "        \n",
    "def task_2(lock, counter):\n",
    "    for i in range(10001):\n",
    "        lock.acquire()\n",
    "        try:\n",
    "            counter.value -= 1\n",
    "        finally:\n",
    "            lock.release()\n",
    "\n",
    "lock = multiprocessing.Lock()\n",
    "\n",
    "manager = multiprocessing.Manager()\n",
    "counter = manager.Value(ctypes.c_int, 10)\n",
    "\n",
    "process_1 = multiprocessing.Process(target=task_1, args=(lock, counter))\n",
    "process_2 = multiprocessing.Process(target=task_2, args=(lock, counter))\n",
    "\n",
    "process_1.start()\n",
    "process_2.start()\n",
    "print(\"(Both tasks started)\")\n",
    "\n",
    "process_1.join()\n",
    "process_2.join()\n",
    "print(\"\\nBoth tasks finished\")\n",
    "\n",
    "print('counter =', counter.value)"
   ]
  },
  {
   "cell_type": "markdown",
   "metadata": {},
   "source": [
    "## 4. Synchronizing parallel tasks"
   ]
  },
  {
   "cell_type": "markdown",
   "metadata": {},
   "source": [
    "### 4.1. Using a queue"
   ]
  },
  {
   "cell_type": "markdown",
   "metadata": {},
   "source": [
    "With threads:"
   ]
  },
  {
   "cell_type": "code",
   "execution_count": null,
   "metadata": {},
   "outputs": [],
   "source": [
    "import threading\n",
    "import time\n",
    "import random\n",
    "import queue\n",
    "\n",
    "queue_length = 10\n",
    "q = queue.Queue(queue_length)\n",
    "\n",
    "class Producer(threading.Thread):\n",
    "    def __init__(self, iters=10):\n",
    "        super(Producer,self).__init__()\n",
    "        self.iters = iters\n",
    "\n",
    "    def run(self):\n",
    "        i = 0\n",
    "        while i < self.iters:\n",
    "            if not q.full():\n",
    "                item = random.randint(1,10)\n",
    "                q.put(item)\n",
    "                print('Produced {} (queue length = {})'.format(item,q.qsize()))\n",
    "                i += 1\n",
    "                time.sleep(random.random())\n",
    "        return\n",
    "\n",
    "class Consumer(threading.Thread):\n",
    "    def __init__(self, iters=10):\n",
    "        super(Consumer,self).__init__()\n",
    "        self.iters = iters\n",
    "\n",
    "    def run(self):\n",
    "        i = 0\n",
    "        while i < self.iters:\n",
    "            if not q.empty():\n",
    "                item = q.get()\n",
    "                print('Consumed {} (queue length = {})'.format(item,q.qsize()))\n",
    "                i += 1\n",
    "                time.sleep(random.random())\n",
    "        return\n",
    "\n",
    "p = Producer()\n",
    "p.start()\n",
    "c = Consumer()\n",
    "c.start()\n",
    "\n",
    "p.join()\n",
    "c.join()\n",
    "\n",
    "print('done')"
   ]
  },
  {
   "cell_type": "markdown",
   "metadata": {},
   "source": [
    "With processes:"
   ]
  },
  {
   "cell_type": "code",
   "execution_count": null,
   "metadata": {},
   "outputs": [],
   "source": [
    "import multiprocessing\n",
    "import time\n",
    "import random\n",
    "\n",
    "class Producer():\n",
    "    def __init__(self, q, iters=10):\n",
    "        super(Producer,self).__init__()\n",
    "        self.iters = iters\n",
    "        self.q = q\n",
    "\n",
    "    def run(self):\n",
    "        i = 0\n",
    "        while i < self.iters:\n",
    "            if not self.q.full():\n",
    "                item = random.randint(1,10)\n",
    "                self.q.put(item)\n",
    "                print('Produced {} (queue length = {})'.format(item, self.q.qsize()))\n",
    "                i += 1\n",
    "                time.sleep(random.random())\n",
    "        return\n",
    "    \n",
    "    def start(self):\n",
    "        process = multiprocessing.Process(target=self.run)\n",
    "        process.start()\n",
    "        return process\n",
    "\n",
    "class Consumer():\n",
    "    def __init__(self, q, iters=10):\n",
    "        super(Consumer,self).__init__()\n",
    "        self.iters = iters\n",
    "        self.q = q\n",
    "\n",
    "    def run(self):\n",
    "        i = 0\n",
    "        while i < self.iters:\n",
    "            if not self.q.empty():\n",
    "                item = self.q.get()\n",
    "                print('Consumed {} (queue length = {})'.format(item, self.q.qsize()))\n",
    "                i += 1\n",
    "                time.sleep(random.random())\n",
    "        return\n",
    "\n",
    "    def start(self):\n",
    "        process = multiprocessing.Process(target=self.run)\n",
    "        process.start()\n",
    "        return process\n",
    "\n",
    "queue_length = 10\n",
    "q = multiprocessing.Queue(queue_length)\n",
    "\n",
    "p = Producer(q)\n",
    "task_p = p.start()\n",
    "c = Consumer(q)\n",
    "task_c = c.start()\n",
    "\n",
    "task_p.join()\n",
    "task_c.join()\n",
    "\n",
    "print('done')"
   ]
  }
 ],
 "metadata": {
  "kernelspec": {
   "display_name": "Python 3",
   "language": "python",
   "name": "python3"
  },
  "language_info": {
   "codemirror_mode": {
    "name": "ipython",
    "version": 3
   },
   "file_extension": ".py",
   "mimetype": "text/x-python",
   "name": "python",
   "nbconvert_exporter": "python",
   "pygments_lexer": "ipython3",
   "version": "3.7.7"
  },
  "toc": {
   "base_numbering": 1,
   "nav_menu": {},
   "number_sections": true,
   "sideBar": true,
   "skip_h1_title": false,
   "title_cell": "Table of Contents",
   "title_sidebar": "Contents",
   "toc_cell": true,
   "toc_position": {},
   "toc_section_display": true,
   "toc_window_display": true
  }
 },
 "nbformat": 4,
 "nbformat_minor": 1
}
